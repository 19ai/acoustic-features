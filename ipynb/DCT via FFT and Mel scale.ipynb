{
 "cells": [
  {
   "cell_type": "markdown",
   "metadata": {},
   "source": [
    "## DCT via FFT\n",
    "\n",
    "Reference: https://dsp.stackexchange.com/questions/2807/fast-cosine-transform-via-fft/10606"
   ]
  },
  {
   "cell_type": "code",
   "execution_count": 76,
   "metadata": {},
   "outputs": [
    {
     "data": {
      "text/plain": [
       "(array([ 80,  81,  82,  83,  84,  85,  86,  87,  88,  89,  90,  91,  92,\n",
       "         93,  94,  95,  96,  97,  98,  99, 100, 101, 102, 103, 104, 105,\n",
       "        106, 107, 108, 109, 110, 111, 112, 113, 114, 115, 116, 117, 118,\n",
       "        119]),\n",
       " array([ 80.,  81.,  82.,  83.,  84.,  85.,  86.,  87.,  88.,  89.,  90.,\n",
       "         91.,  92.,  93.,  94.,  95.,  96.,  97.,  98.,  99., 100., 101.,\n",
       "        102., 103., 104., 105., 106., 107., 108., 109., 110., 111., 112.,\n",
       "        113., 114., 115., 116., 117., 118., 119.,   0.,   0.,   0.,   0.,\n",
       "          0.,   0.,   0.,   0.,   0.,   0.,   0.,   0.,   0.,   0.,   0.,\n",
       "          0.,   0.,   0.,   0.,   0.,   0.,   0.,   0.,   0.]))"
      ]
     },
     "execution_count": 76,
     "metadata": {},
     "output_type": "execute_result"
    }
   ],
   "source": [
    "import numpy as np\n",
    "import matplotlib.pyplot as plt\n",
    "from scipy.fftpack import fft, dct\n",
    "%matplotlib inline\n",
    "\n",
    "N = 40\n",
    "y1 = np.arange(80,80+40)\n",
    "y2 = np.append(np.arange(80,80+40), np.zeros(24))\n",
    "y1, y2"
   ]
  },
  {
   "cell_type": "code",
   "execution_count": 77,
   "metadata": {},
   "outputs": [
    {
     "data": {
      "text/plain": [
       "(array([7960, -648,    0,  -71,    0,  -25,    0,  -13,    0,   -7,    0,\n",
       "          -5,    0,   -3,    0,   -2,    0,   -2,    0,   -1,    0,   -1,\n",
       "           0,   -1,    0,    0,    0,    0,    0,    0,    0,    0,    0,\n",
       "           0,    0,    0,    0,    0,    0,    0]),\n",
       " array([ 7960,  3351, -2076,  -628,  1167,  -437,  -582,   635,   -25,\n",
       "         -510,   345,   158,  -417,   145,   243,  -311,     0,   268,\n",
       "         -201,  -101,   251,   -96,  -164,   205,    -2,  -192,   141,\n",
       "           72,  -189,    69,   124,  -161,     0,   151,  -115,   -60,\n",
       "          154,   -58,  -105,   134,     0,  -130,    98,    51,  -135,\n",
       "           51,    93,  -121,     0,   118,   -90,   -48,   124,   -47,\n",
       "          -87,   113,     0,  -112,    85,    45,  -120,    45,    84,\n",
       "         -110]))"
      ]
     },
     "execution_count": 77,
     "metadata": {},
     "output_type": "execute_result"
    }
   ],
   "source": [
    "# DCT\n",
    "dcted1 = dct(y1).astype(int)\n",
    "dcted2 = dct(y2).astype(int)\n",
    "dcted1, dcted2"
   ]
  },
  {
   "cell_type": "code",
   "execution_count": 71,
   "metadata": {},
   "outputs": [
    {
     "data": {
      "text/plain": [
       "array([ 7.96000000e+03+0.00000000e+00j, -6.47789011e+02-2.54516996e+01j,\n",
       "        6.57787042e-14-1.44890305e-13j, -7.13848801e+01-8.44895734e+00j,\n",
       "        5.09965159e-14-1.18510956e-14j, -2.52741424e+01-5.02733949e+00j,\n",
       "       -1.73192805e-14-3.65096685e-14j, -1.25722193e+01-3.54573254e+00j,\n",
       "       -1.94748663e-15-4.95927925e-14j, -7.34745325e+00-2.71061861e+00j,\n",
       "        0.00000000e+00-0.00000000e+00j, -4.70528845e+00-2.16916769e+00j,\n",
       "        1.67829082e-14-1.12504351e-14j, -3.18846909e+00-1.78562848e+00j,\n",
       "        1.99995049e-14+1.46689607e-14j, -2.23982881e+00-1.49660576e+00j,\n",
       "       -2.57950790e-15-1.61430684e-14j, -1.60907691e+00-1.26849395e+00j,\n",
       "       -4.40079524e-16-2.55154201e-14j, -1.17027805e+00-1.08179391e+00j,\n",
       "        0.00000000e+00+0.00000000e+00j, -8.54497781e-01-9.24390492e-01j,\n",
       "        2.13000157e-14+6.65669543e-16j, -6.21474334e-01-7.88336435e-01j,\n",
       "       -4.95373255e-15+3.93234608e-14j, -4.46462692e-01-6.68178638e-01j,\n",
       "        4.04472893e-14-9.74376435e-15j, -3.13630138e-01-5.60026908e-01j,\n",
       "        2.53732959e-14-1.30622821e-14j, -2.12526822e-01-4.61006314e-01j,\n",
       "        0.00000000e+00+0.00000000e+00j, -1.36101581e-01-3.68919477e-01j,\n",
       "       -4.68158066e-15+1.47646528e-14j, -7.95404518e-02-2.82029168e-01j,\n",
       "        2.08213326e-14-5.85533153e-15j, -3.95661299e-02-1.98912367e-01j,\n",
       "        6.27471606e-15-1.14516284e-14j, -1.40085687e-02-1.18357800e-01j,\n",
       "        5.73191532e-15-1.07955375e-14j, -1.54371251e-03-3.92901070e-02j])"
      ]
     },
     "execution_count": 71,
     "metadata": {},
     "output_type": "execute_result"
    }
   ],
   "source": [
    "# DCT via FFT\n",
    "yy = np.zeros(2*N)\n",
    "yy[:N] = y\n",
    "yy[N:] = y[::-1]\n",
    "k = np.arange(N)\n",
    "Y = fft(yy)[:N]\n",
    "Y"
   ]
  },
  {
   "cell_type": "code",
   "execution_count": 68,
   "metadata": {},
   "outputs": [
    {
     "data": {
      "text/plain": [
       "(array([ 80,  81,  82,  83,  84,  85,  86,  87,  88,  89,  90,  91,  92,\n",
       "         93,  94,  95,  96,  97,  98,  99, 100, 101, 102, 103, 104, 105,\n",
       "        106, 107, 108, 109, 110, 111, 112, 113, 114, 115, 116, 117, 118,\n",
       "        119]),\n",
       " array([ 80.,  81.,  82.,  83.,  84.,  85.,  86.,  87.,  88.,  89.,  90.,\n",
       "         91.,  92.,  93.,  94.,  95.,  96.,  97.,  98.,  99., 100., 101.,\n",
       "        102., 103., 104., 105., 106., 107., 108., 109., 110., 111., 112.,\n",
       "        113., 114., 115., 116., 117., 118., 119., 119., 118., 117., 116.,\n",
       "        115., 114., 113., 112., 111., 110., 109., 108., 107., 106., 105.,\n",
       "        104., 103., 102., 101., 100.,  99.,  98.,  97.,  96.,  95.,  94.,\n",
       "         93.,  92.,  91.,  90.,  89.,  88.,  87.,  86.,  85.,  84.,  83.,\n",
       "         82.,  81.,  80.]),\n",
       " array([7960, -648,    0,  -71,    0,  -25,    0,  -13,    0,   -7,    0,\n",
       "          -5,    0,   -3,    0,   -2,    0,   -2,    0,   -1,    0,   -1,\n",
       "           0,   -1,    0,    0,    0,    0,    0,    0,    0,    0,    0,\n",
       "           0,    0,    0,    0,    0,    0,    0]),\n",
       " array([ True,  True,  True,  True,  True,  True,  True,  True,  True,\n",
       "         True,  True,  True,  True,  True,  True,  True,  True,  True,\n",
       "         True,  True,  True,  True,  True,  True,  True,  True,  True,\n",
       "         True,  True,  True,  True,  True,  True,  True,  True,  True,\n",
       "         True,  True,  True,  True]))"
      ]
     },
     "execution_count": 68,
     "metadata": {},
     "output_type": "execute_result"
    }
   ],
   "source": [
    "Y = Y * (np.cos(-1*np.pi*k/(2*N)) + 1j * np.sin(-1*np.pi*k/(2*N)))\n",
    "Y = Y.real\n",
    "DCTED = Y.astype(int)\n",
    "y, yy, DCTED, DCTED == dcted"
   ]
  },
  {
   "cell_type": "markdown",
   "metadata": {},
   "source": [
    "## Mel scale"
   ]
  },
  {
   "cell_type": "code",
   "execution_count": 143,
   "metadata": {},
   "outputs": [],
   "source": [
    "f = np.linspace(0, 22000, N)"
   ]
  },
  {
   "cell_type": "code",
   "execution_count": 145,
   "metadata": {},
   "outputs": [
    {
     "data": {
      "text/plain": [
       "[<matplotlib.lines.Line2D at 0x201149e8710>]"
      ]
     },
     "execution_count": 145,
     "metadata": {},
     "output_type": "execute_result"
    },
    {
     "data": {
      "image/png": "[encoded data removed]",
      "text/plain": [
       "<matplotlib.figure.Figure at 0x20116087780>"
      ]
     },
     "metadata": {},
     "output_type": "display_data"
    }
   ],
   "source": [
    "logten2 = np.log10(2)\n",
    "import math\n",
    "\n",
    "c = [1.23149591368684, -4.11852516267426, 6.02197014179219, -3.13396450166353]\n",
    "def log10_approx(x):\n",
    "    f, e = math.frexp(x)\n",
    "    return logten2 * (c[0]*f**3 + c[1]*f**2 + c[2]*f + c[3] + e)\n",
    "\n",
    "log10_approx_ = np.vectorize(log10_approx)\n",
    "\n",
    "plt.figure(figsize=[14,4])\n",
    "plt.plot(2595 * log10_approx_(1 + f/700))\n",
    "plt.plot(2595 * np.log10(1 + f/700))"
   ]
  },
  {
   "cell_type": "code",
   "execution_count": null,
   "metadata": {},
   "outputs": [],
   "source": []
  }
 ],
 "metadata": {
  "kernelspec": {
   "display_name": "Python 3",
   "language": "python",
   "name": "python3"
  },
  "language_info": {
   "codemirror_mode": {
    "name": "ipython",
    "version": 3
   },
   "file_extension": ".py",
   "mimetype": "text/x-python",
   "name": "python",
   "nbconvert_exporter": "python",
   "pygments_lexer": "ipython3",
   "version": "3.6.4"
  }
 },
 "nbformat": 4,
 "nbformat_minor": 2
}
