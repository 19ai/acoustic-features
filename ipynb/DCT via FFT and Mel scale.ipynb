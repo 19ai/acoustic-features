{
 "cells": [
  {
   "cell_type": "markdown",
   "metadata": {},
   "source": [
    "## DCT via FFT\n",
    "\n",
    "Reference: https://dsp.stackexchange.com/questions/2807/fast-cosine-transform-via-fft/10606"
   ]
  },
  {
   "cell_type": "code",
   "execution_count": 1,
   "metadata": {},
   "outputs": [
    {
     "data": {
      "text/plain": [
       "array([ 80,  81,  82,  83,  84,  85,  86,  87,  88,  89,  90,  91,  92,\n",
       "        93,  94,  95,  96,  97,  98,  99, 100, 101, 102, 103, 104, 105,\n",
       "       106, 107, 108, 109, 110, 111, 112, 113, 114, 115, 116, 117, 118,\n",
       "       119])"
      ]
     },
     "execution_count": 1,
     "metadata": {},
     "output_type": "execute_result"
    }
   ],
   "source": [
    "import numpy as np\n",
    "import matplotlib.pyplot as plt\n",
    "from scipy.fftpack import fft, dct\n",
    "%matplotlib inline\n",
    "\n",
    "N = 40\n",
    "y = np.arange(80,80+40)\n",
    "y"
   ]
  },
  {
   "cell_type": "code",
   "execution_count": 2,
   "metadata": {},
   "outputs": [
    {
     "data": {
      "text/plain": [
       "array([7960, -648,    0,  -71,    0,  -25,    0,  -13,    0,   -7,    0,\n",
       "         -5,    0,   -3,    0,   -2,    0,   -2,    0,   -1,    0,   -1,\n",
       "          0,   -1,    0,    0,    0,    0,    0,    0,    0,    0,    0,\n",
       "          0,    0,    0,    0,    0,    0,    0])"
      ]
     },
     "execution_count": 2,
     "metadata": {},
     "output_type": "execute_result"
    }
   ],
   "source": [
    "# DCT\n",
    "dcted = dct(y).astype(int)\n",
    "dcted"
   ]
  },
  {
   "cell_type": "code",
   "execution_count": 4,
   "metadata": {},
   "outputs": [],
   "source": [
    "# DCT via FFT\n",
    "yy = np.zeros(2*N)\n",
    "yy[:N] = y\n",
    "yy[N:] = y[::-1]\n",
    "k = np.arange(N)\n",
    "Y = fft(yy)[:N]"
   ]
  },
  {
   "cell_type": "code",
   "execution_count": 5,
   "metadata": {},
   "outputs": [
    {
     "data": {
      "text/plain": [
       "(array([ 80,  81,  82,  83,  84,  85,  86,  87,  88,  89,  90,  91,  92,\n",
       "         93,  94,  95,  96,  97,  98,  99, 100, 101, 102, 103, 104, 105,\n",
       "        106, 107, 108, 109, 110, 111, 112, 113, 114, 115, 116, 117, 118,\n",
       "        119]),\n",
       " array([ 80.,  81.,  82.,  83.,  84.,  85.,  86.,  87.,  88.,  89.,  90.,\n",
       "         91.,  92.,  93.,  94.,  95.,  96.,  97.,  98.,  99., 100., 101.,\n",
       "        102., 103., 104., 105., 106., 107., 108., 109., 110., 111., 112.,\n",
       "        113., 114., 115., 116., 117., 118., 119., 119., 118., 117., 116.,\n",
       "        115., 114., 113., 112., 111., 110., 109., 108., 107., 106., 105.,\n",
       "        104., 103., 102., 101., 100.,  99.,  98.,  97.,  96.,  95.,  94.,\n",
       "         93.,  92.,  91.,  90.,  89.,  88.,  87.,  86.,  85.,  84.,  83.,\n",
       "         82.,  81.,  80.]),\n",
       " array([7960, -648,    0,  -71,    0,  -25,    0,  -13,    0,   -7,    0,\n",
       "          -5,    0,   -3,    0,   -2,    0,   -2,    0,   -1,    0,   -1,\n",
       "           0,   -1,    0,    0,    0,    0,    0,    0,    0,    0,    0,\n",
       "           0,    0,    0,    0,    0,    0,    0]),\n",
       " array([ True,  True,  True,  True,  True,  True,  True,  True,  True,\n",
       "         True,  True,  True,  True,  True,  True,  True,  True,  True,\n",
       "         True,  True,  True,  True,  True,  True,  True,  True,  True,\n",
       "         True,  True,  True,  True,  True,  True,  True,  True,  True,\n",
       "         True,  True,  True,  True]))"
      ]
     },
     "execution_count": 5,
     "metadata": {},
     "output_type": "execute_result"
    }
   ],
   "source": [
    "Y = Y * (np.cos(-1*np.pi*k/(2*N)) + 1j * np.sin(-1*np.pi*k/(2*N)))\n",
    "Y = Y.real\n",
    "DCTED = Y.astype(int)\n",
    "y, yy, DCTED, DCTED == dcted"
   ]
  },
  {
   "cell_type": "markdown",
   "metadata": {},
   "source": [
    "## Mel scale"
   ]
  },
  {
   "cell_type": "code",
   "execution_count": 6,
   "metadata": {},
   "outputs": [],
   "source": [
    "f = np.linspace(0, 22000, N)"
   ]
  },
  {
   "cell_type": "code",
   "execution_count": 7,
   "metadata": {},
   "outputs": [
    {
     "data": {
      "text/plain": [
       "[<matplotlib.lines.Line2D at 0x187ab44e940>]"
      ]
     },
     "execution_count": 7,
     "metadata": {},
     "output_type": "execute_result"
    },
    {
     "data": {
      "image/png": "[encoded data removed]",
      "text/plain": [
       "<matplotlib.figure.Figure at 0x187ab377ba8>"
      ]
     },
     "metadata": {},
     "output_type": "display_data"
    }
   ],
   "source": [
    "logten2 = np.log10(2)\n",
    "import math\n",
    "\n",
    "c = [1.23149591368684, -4.11852516267426, 6.02197014179219, -3.13396450166353]\n",
    "def log10_approx(x):\n",
    "    f, e = math.frexp(x)\n",
    "    return logten2 * (c[0]*f**3 + c[1]*f**2 + c[2]*f + c[3] + e)\n",
    "\n",
    "log10_approx_ = np.vectorize(log10_approx)\n",
    "\n",
    "plt.figure(figsize=[14,4])\n",
    "plt.plot(2595 * log10_approx_(1 + f/700))\n",
    "plt.plot(2595 * np.log10(1 + f/700))"
   ]
  },
  {
   "cell_type": "code",
   "execution_count": null,
   "metadata": {},
   "outputs": [],
   "source": []
  }
 ],
 "metadata": {
  "kernelspec": {
   "display_name": "Python 3",
   "language": "python",
   "name": "python3"
  },
  "language_info": {
   "codemirror_mode": {
    "name": "ipython",
    "version": 3
   },
   "file_extension": ".py",
   "mimetype": "text/x-python",
   "name": "python",
   "nbconvert_exporter": "python",
   "pygments_lexer": "ipython3",
   "version": "3.6.4"
  }
 },
 "nbformat": 4,
 "nbformat_minor": 2
}
