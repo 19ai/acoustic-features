{
 "cells": [
  {
   "cell_type": "markdown",
   "metadata": {},
   "source": [
    "# Life log\n",
    "\n",
    "Date: March 29, 2019\n",
    "\n",
    "```\n",
    "activities:  [ period | period | .... ]\n",
    "     \n",
    "```"
   ]
  },
  {
   "cell_type": "code",
   "execution_count": 24,
   "metadata": {},
   "outputs": [],
   "source": [
    "import serial\n",
    "from matplotlib import pyplot as plt\n",
    "import numpy as np\n",
    "import time\n",
    "import collections\n",
    "\n",
    "%run ../oscilloscope/script/dataset.py\n",
    "%matplotlib inline\n",
    "\n",
    "DATASET_FOLDER = '../dataset/data_my_home'\n",
    "PORT = 'COM15'\n",
    "BAUDRATE = 460800\n",
    "TIME = 60.0 * 5\n",
    "NUM_SECTION = 20"
   ]
  },
  {
   "cell_type": "code",
   "execution_count": 25,
   "metadata": {},
   "outputs": [
    {
     "data": {
      "text/plain": [
       "(['chat',\n",
       "  'reading',\n",
       "  'watching_tv',\n",
       "  'cocking',\n",
       "  'hamster',\n",
       "  'silence',\n",
       "  'vacuum_cleaner',\n",
       "  'shower',\n",
       "  'washing_machine',\n",
       "  'doing_the_dishes',\n",
       "  'walking',\n",
       "  'piano',\n",
       "  'stairs',\n",
       "  'snack'],\n",
       " 14)"
      ]
     },
     "execution_count": 25,
     "metadata": {},
     "output_type": "execute_result"
    }
   ],
   "source": [
    "ds = DataSet(DATASET_FOLDER)\n",
    "train_data, train_labels, test_data, test_labels = ds.generate(update=False)['mfsc']\n",
    "num_classes = len(ds.class_labels)\n",
    "ds.class_labels, num_classes"
   ]
  },
  {
   "cell_type": "code",
   "execution_count": 26,
   "metadata": {},
   "outputs": [],
   "source": [
    "WEIGHT = [1, 17, 1, 4, 1, 1, 1, 1, 1, 1, 6, 4, 4, 8]"
   ]
  },
  {
   "cell_type": "code",
   "execution_count": 27,
   "metadata": {
    "scrolled": false
   },
   "outputs": [],
   "source": [
    "lines = []\n",
    "activities = []\n",
    "with  serial.Serial(PORT, BAUDRATE) as ser:\n",
    "    start_time = time.time()\n",
    "    while True:\n",
    "        class_ = ser.readline().decode('ascii')\n",
    "        class_ = int(class_)\n",
    "        activities.append(class_)\n",
    "        if (time.time() - start_time) > TIME:\n",
    "            break"
   ]
  },
  {
   "cell_type": "code",
   "execution_count": 28,
   "metadata": {},
   "outputs": [
    {
     "data": {
      "text/plain": [
       "(291.6666666666667,\n",
       " array([[ 0, 11, 10,  1,  3,  0,  0,  0,  3,  9,  9, 10, 10,  0,  0,  0,\n",
       "          0, 10,  2,  2],\n",
       "        [ 2,  9,  2,  7, 10,  2,  1, 10,  7, 12, 10, 10,  2,  0,  0,  9,\n",
       "          0,  0,  0,  0],\n",
       "        [ 3,  9,  9,  2,  2,  0,  3,  0,  2,  0,  8,  2,  0,  0,  9,  0,\n",
       "          0,  9,  0,  0],\n",
       "        [ 0,  0,  2,  9,  3,  9, 11,  0,  0,  0,  9,  0,  0,  0,  0,  0,\n",
       "          9,  0,  0,  0],\n",
       "        [ 9,  4,  7,  2,  0,  0,  2,  0,  0,  0,  0,  0,  0,  9,  0,  0,\n",
       "          0,  0,  0,  9],\n",
       "        [ 0,  0,  0, 11,  0,  2,  0,  0,  9,  0,  0,  0,  9,  0,  0,  0,\n",
       "          9,  0,  2,  0],\n",
       "        [ 2,  2,  0,  0,  2,  9,  0,  2,  2,  9,  3,  0,  0,  0,  9,  9,\n",
       "          2, 13, 13,  0],\n",
       "        [ 0,  9,  2,  3,  2,  2,  2,  0,  0,  0,  4,  2,  2,  2, 13, 13,\n",
       "          9,  3,  3, 10],\n",
       "        [ 4, 13, 10, 12,  9,  4,  0,  0,  4,  0,  0,  9, 12,  2,  0,  0,\n",
       "          2,  9,  9,  9],\n",
       "        [ 9,  9,  9,  9,  9,  9,  9,  9,  9,  7,  7,  4,  8,  0,  3,  2,\n",
       "          9, 13,  2,  0],\n",
       "        [ 3,  0, 13,  2,  2,  3,  4, 13,  0, 13,  3,  4, 12,  4,  4,  0,\n",
       "          4, 13,  3,  0],\n",
       "        [13, 12,  1,  2,  2,  2,  3,  4,  3,  5,  5, 10, 10, 12,  5,  9,\n",
       "          1,  3, 10,  5],\n",
       "        [ 2,  0, 11,  3, 11,  3, 10,  5,  5,  3,  9,  9, 10,  9, 11,  9,\n",
       "          9,  1,  3,  2],\n",
       "        [ 9,  9, 11,  9,  1,  3,  3,  0, 11,  3,  0,  2,  2, 11, 11,  5,\n",
       "          9,  9,  0,  3]]),\n",
       " array([ 20.83333333,  41.66666667,  62.5       ,  83.33333333,\n",
       "        104.16666667, 125.        , 145.83333333, 166.66666667,\n",
       "        187.5       , 208.33333333, 229.16666667, 250.        ,\n",
       "        270.83333333, 291.66666667]))"
      ]
     },
     "execution_count": 28,
     "metadata": {},
     "output_type": "execute_result"
    }
   ],
   "source": [
    "num_records = int(len(activities) / NUM_SECTION)\n",
    "activities_reshaped = np.array(activities[:num_records * NUM_SECTION], dtype=int).reshape(num_records, NUM_SECTION)\n",
    "time_recorded = TIME * (num_records * NUM_SECTION / len(activities))\n",
    "tick = np.linspace(0, time_recorded, len(activities_reshaped)+1)[1:]\n",
    "time_recorded, activities_reshaped, tick"
   ]
  },
  {
   "cell_type": "code",
   "execution_count": 29,
   "metadata": {},
   "outputs": [
    {
     "data": {
      "text/plain": [
       "[10, 10, 0, 0, 0, 0, 13, 13, 12, 9, 13, 1, 1, 1]"
      ]
     },
     "execution_count": 29,
     "metadata": {},
     "output_type": "execute_result"
    }
   ],
   "source": [
    "life_log = []\n",
    "for a_reshaped in activities_reshaped:\n",
    "    stats_section = np.zeros(num_classes)\n",
    "    for a in a_reshaped:\n",
    "        stats_section[a] += 1 * WEIGHT[a]\n",
    "    life_log.append(np.argmax(stats_section))\n",
    "life_log"
   ]
  },
  {
   "cell_type": "code",
   "execution_count": 30,
   "metadata": {},
   "outputs": [
    {
     "data": {
      "text/plain": [
       "array([91.,  8., 41., 27., 12.,  7.,  0.,  6.,  2., 51., 15., 10.,  7.,\n",
       "       11.])"
      ]
     },
     "execution_count": 30,
     "metadata": {},
     "output_type": "execute_result"
    }
   ],
   "source": [
    "stats = np.zeros(num_classes)\n",
    "\n",
    "n = 0\n",
    "for a in activities:\n",
    "    stats[a] += 1\n",
    "    n += 1\n",
    "stats"
   ]
  },
  {
   "cell_type": "code",
   "execution_count": 31,
   "metadata": {
    "scrolled": false
   },
   "outputs": [
    {
     "data": {
      "text/plain": [
       "Text(0.5,1,'Activities in my home')"
      ]
     },
     "execution_count": 31,
     "metadata": {},
     "output_type": "execute_result"
    },
    {
     "data": {
      "image/png": "[encoded data removed]",
      "text/plain": [
       "<matplotlib.figure.Figure at 0x15f7b59dba8>"
      ]
     },
     "metadata": {},
     "output_type": "display_data"
    }
   ],
   "source": [
    "plt.figure(figsize=(13,5))\n",
    "index = np.arange(num_classes)\n",
    "plt.xticks(index, ds.class_labels, fontsize=12, rotation=65)\n",
    "plt.bar(index, stats)\n",
    "plt.ylabel('Counts')\n",
    "plt.title('Activities in my home')\n",
    "#ax = plt.gca()\n",
    "#ax.yaxis.set_major_locator(plt.MultipleLocator(1))"
   ]
  },
  {
   "cell_type": "code",
   "execution_count": 34,
   "metadata": {},
   "outputs": [
    {
     "data": {
      "text/plain": [
       "Text(0.5,1,'Activities in my home')"
      ]
     },
     "execution_count": 34,
     "metadata": {},
     "output_type": "execute_result"
    },
    {
     "data": {
      "image/png": "[encoded data removed]",
      "text/plain": [
       "<matplotlib.figure.Figure at 0x15f7b64db38>"
      ]
     },
     "metadata": {},
     "output_type": "display_data"
    }
   ],
   "source": [
    "plt.figure(figsize=(13,5))\n",
    "plt.step(tick, life_log, where='pre', marker='s')\n",
    "plt.yticks(index, ds.class_labels, fontsize=12)\n",
    "plt.xlabel('Elapsed time (sec)')\n",
    "plt.grid()\n",
    "plt.title('Activities in my home')"
   ]
  },
  {
   "cell_type": "code",
   "execution_count": null,
   "metadata": {},
   "outputs": [],
   "source": []
  }
 ],
 "metadata": {
  "kernelspec": {
   "display_name": "Python 3",
   "language": "python",
   "name": "python3"
  },
  "language_info": {
   "codemirror_mode": {
    "name": "ipython",
    "version": 3
   },
   "file_extension": ".py",
   "mimetype": "text/x-python",
   "name": "python",
   "nbconvert_exporter": "python",
   "pygments_lexer": "ipython3",
   "version": "3.6.4"
  }
 },
 "nbformat": 4,
 "nbformat_minor": 2
}
