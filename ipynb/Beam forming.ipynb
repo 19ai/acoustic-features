{
 "cells": [
  {
   "cell_type": "markdown",
   "metadata": {},
   "source": [
    "# Beam forming"
   ]
  },
  {
   "cell_type": "markdown",
   "metadata": {},
   "source": [
    "## One sample shift\n",
    "\n",
    "Speed of sound: $c = 343[m/s]$\n",
    "\n",
    "Sampling frequency: $f_s = 19500 [kHz]$\n",
    "\n",
    "Length of one-sample shift: $s = 323/19500[m] = 17.6[mm]$"
   ]
  },
  {
   "cell_type": "code",
   "execution_count": null,
   "metadata": {},
   "outputs": [],
   "source": [
    "## Angles at n shift\n",
    "\n",
    "import numpy as np\n",
    "\n",
    "def theta(l, n):\n",
    "    return np.arccos(17.6*n/l) * 180 / np.pi"
   ]
  },
  {
   "cell_type": "code",
   "execution_count": 24,
   "metadata": {},
   "outputs": [
    {
     "data": {
      "text/plain": [
       "(90.0, 63.8961188626601, 28.357636576327966)"
      ]
     },
     "execution_count": 24,
     "metadata": {},
     "output_type": "execute_result"
    }
   ],
   "source": [
    "# l = 40mm: max n = 2\n",
    "\n",
    "theta(40, 0), theta(40, 1), theta(40, 2)"
   ]
  },
  {
   "cell_type": "code",
   "execution_count": 30,
   "metadata": {},
   "outputs": [
    {
     "data": {
      "text/plain": [
       "(90.0,\n",
       " 79.86314282739822,\n",
       " 69.39030706246794,\n",
       " 58.12957777832068,\n",
       " 45.251187915918855,\n",
       " 28.35763657632798)"
      ]
     },
     "execution_count": 30,
     "metadata": {},
     "output_type": "execute_result"
    }
   ],
   "source": [
    "# l = 100mm: max n = 5\n",
    "\n",
    "theta(100, 0), theta(100, 1), theta(100, 2), theta(100, 3), theta(100, 4), theta(100, 5)"
   ]
  },
  {
   "cell_type": "code",
   "execution_count": 43,
   "metadata": {},
   "outputs": [
    {
     "data": {
      "text/plain": [
       "(90.0,\n",
       " 83.2617734793672,\n",
       " 76.42802526393436,\n",
       " 69.39030706246794,\n",
       " 62.0089695410292,\n",
       " 54.079180162465036,\n",
       " 45.251187915918855,\n",
       " 34.78151088398338,\n",
       " 20.171167321704143)"
      ]
     },
     "execution_count": 43,
     "metadata": {},
     "output_type": "execute_result"
    }
   ],
   "source": [
    "# l = 150mm: max n = 8\n",
    "\n",
    "theta(150, 0), theta(150, 1), theta(150, 2), theta(150, 3), theta(150, 4), theta(150, 5), theta(150, 6), theta(150, 7), theta(150, 8)"
   ]
  },
  {
   "cell_type": "markdown",
   "metadata": {},
   "source": [
    "## Null frequencies\n",
    "\n",
    "$ f = \\frac  {c (2m - 1)} {2 \\cdot s \\cdot n} $"
   ]
  },
  {
   "cell_type": "code",
   "execution_count": 45,
   "metadata": {},
   "outputs": [
    {
     "data": {
      "text/plain": [
       "(9744, 4872, 3248, 2436, 1948, 1624, 1392, 1218)"
      ]
     },
     "execution_count": 45,
     "metadata": {},
     "output_type": "execute_result"
    }
   ],
   "source": [
    "s = 17.6\n",
    "c = 343.0 * 1000\n",
    "\n",
    "def calc_freq(n, m):\n",
    "    return int((c*(2*m-1))/(s*n*2))"
   ]
  },
  {
   "cell_type": "code",
   "execution_count": 72,
   "metadata": {},
   "outputs": [
    {
     "data": {
      "text/plain": [
       "9744"
      ]
     },
     "execution_count": 72,
     "metadata": {},
     "output_type": "execute_result"
    }
   ],
   "source": [
    "calc_freq(1, 1)"
   ]
  },
  {
   "cell_type": "code",
   "execution_count": 73,
   "metadata": {},
   "outputs": [
    {
     "data": {
      "text/plain": [
       "(4872, 14616)"
      ]
     },
     "execution_count": 73,
     "metadata": {},
     "output_type": "execute_result"
    }
   ],
   "source": [
    "calc_freq(2, 1), calc_freq(2, 2)"
   ]
  },
  {
   "cell_type": "code",
   "execution_count": 74,
   "metadata": {},
   "outputs": [
    {
     "data": {
      "text/plain": [
       "(3248, 9744, 16240)"
      ]
     },
     "execution_count": 74,
     "metadata": {},
     "output_type": "execute_result"
    }
   ],
   "source": [
    "calc_freq(3, 1), calc_freq(3, 2),  calc_freq(3, 3)"
   ]
  },
  {
   "cell_type": "code",
   "execution_count": 75,
   "metadata": {},
   "outputs": [
    {
     "data": {
      "text/plain": [
       "(2436, 7308, 12180, 17052)"
      ]
     },
     "execution_count": 75,
     "metadata": {},
     "output_type": "execute_result"
    }
   ],
   "source": [
    "calc_freq(4, 1), calc_freq(4, 2), calc_freq(4, 3), calc_freq(4, 4)"
   ]
  },
  {
   "cell_type": "code",
   "execution_count": 76,
   "metadata": {},
   "outputs": [
    {
     "data": {
      "text/plain": [
       "(1948, 5846, 9744, 13642, 17539)"
      ]
     },
     "execution_count": 76,
     "metadata": {},
     "output_type": "execute_result"
    }
   ],
   "source": [
    "calc_freq(5, 1), calc_freq(5, 2), calc_freq(5, 3), calc_freq(5, 4), calc_freq(5, 5)"
   ]
  },
  {
   "cell_type": "code",
   "execution_count": 77,
   "metadata": {},
   "outputs": [
    {
     "data": {
      "text/plain": [
       "(1624, 4872, 8120, 11368, 14616, 17864)"
      ]
     },
     "execution_count": 77,
     "metadata": {},
     "output_type": "execute_result"
    }
   ],
   "source": [
    "calc_freq(6, 1), calc_freq(6, 2), calc_freq(6, 3), calc_freq(6, 4), calc_freq(6, 5), calc_freq(6, 6)"
   ]
  },
  {
   "cell_type": "code",
   "execution_count": 78,
   "metadata": {},
   "outputs": [
    {
     "data": {
      "text/plain": [
       "(1392, 4176, 6960, 9744, 12528, 15312, 18096)"
      ]
     },
     "execution_count": 78,
     "metadata": {},
     "output_type": "execute_result"
    }
   ],
   "source": [
    "calc_freq(7, 1), calc_freq(7, 2), calc_freq(7, 3), calc_freq(7, 4), calc_freq(7, 5), calc_freq(7, 6), calc_freq(7, 7)"
   ]
  },
  {
   "cell_type": "code",
   "execution_count": 79,
   "metadata": {},
   "outputs": [
    {
     "data": {
      "text/plain": [
       "(1218, 3654, 6090, 8526, 10962, 13398, 15834, 18270)"
      ]
     },
     "execution_count": 79,
     "metadata": {},
     "output_type": "execute_result"
    }
   ],
   "source": [
    "calc_freq(8, 1), calc_freq(8, 2), calc_freq(8, 3), calc_freq(8, 4), calc_freq(8, 5), calc_freq(8, 6), calc_freq(8, 7), calc_freq(8, 8)"
   ]
  },
  {
   "cell_type": "code",
   "execution_count": null,
   "metadata": {},
   "outputs": [],
   "source": []
  }
 ],
 "metadata": {
  "kernelspec": {
   "display_name": "Python 3",
   "language": "python",
   "name": "python3"
  },
  "language_info": {
   "codemirror_mode": {
    "name": "ipython",
    "version": 3
   },
   "file_extension": ".py",
   "mimetype": "text/x-python",
   "name": "python",
   "nbconvert_exporter": "python",
   "pygments_lexer": "ipython3",
   "version": "3.6.4"
  }
 },
 "nbformat": 4,
 "nbformat_minor": 2
}
