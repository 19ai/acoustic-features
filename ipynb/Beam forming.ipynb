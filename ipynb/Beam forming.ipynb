{
 "cells": [
  {
   "cell_type": "markdown",
   "metadata": {},
   "source": [
    "# Beam forming simulation\n",
    "\n",
    "Date: Nov 21, 2018"
   ]
  },
  {
   "cell_type": "markdown",
   "metadata": {},
   "source": [
    "## One sample shift\n",
    "\n",
    "Speed of sound: $c = 343[m/s]$\n",
    "\n",
    "Sampling frequency: $f_s = 19500 [kHz]$\n",
    "\n",
    "Length of one-sample shift: $s = 323/19500[m] = 17.6[mm]$"
   ]
  },
  {
   "cell_type": "markdown",
   "metadata": {},
   "source": [
    "## Angles at n shift\n",
    "\n",
    "- d: distance between MEMS microphones\n",
    "- n: the number of shifts"
   ]
  },
  {
   "cell_type": "code",
   "execution_count": 28,
   "metadata": {},
   "outputs": [],
   "source": [
    "import numpy as np\n",
    "\n",
    "def theta(d, n):\n",
    "    return np.arccos(17.6*n/d) * 180 / np.pi"
   ]
  },
  {
   "cell_type": "code",
   "execution_count": 29,
   "metadata": {},
   "outputs": [
    {
     "data": {
      "text/plain": [
       "(90.0, 0.0)"
      ]
     },
     "execution_count": 29,
     "metadata": {},
     "output_type": "execute_result"
    }
   ],
   "source": [
    "# d = 17.6mm: max n = 1\n",
    "\n",
    "theta(17.6, 0), theta(17.6, 1)"
   ]
  },
  {
   "cell_type": "code",
   "execution_count": 30,
   "metadata": {},
   "outputs": [
    {
     "data": {
      "text/plain": [
       "(90.0, 28.357636576327966)"
      ]
     },
     "execution_count": 30,
     "metadata": {},
     "output_type": "execute_result"
    }
   ],
   "source": [
    "# d = 20mm: max n = 1\n",
    "\n",
    "theta(20.0, 0), theta(20.0, 1)"
   ]
  },
  {
   "cell_type": "code",
   "execution_count": 31,
   "metadata": {},
   "outputs": [
    {
     "data": {
      "text/plain": [
       "(90.0, 60.00000000000001, 0.0)"
      ]
     },
     "execution_count": 31,
     "metadata": {},
     "output_type": "execute_result"
    }
   ],
   "source": [
    "# d = 35.2mm: max n = 2\n",
    "\n",
    "theta(35.2, 0), theta(35.2, 1), theta(35.2, 2)"
   ]
  },
  {
   "cell_type": "code",
   "execution_count": 32,
   "metadata": {},
   "outputs": [
    {
     "data": {
      "text/plain": [
       "(90.0, 63.8961188626601, 28.357636576327966)"
      ]
     },
     "execution_count": 32,
     "metadata": {},
     "output_type": "execute_result"
    }
   ],
   "source": [
    "# d = 40mm: max n = 2\n",
    "\n",
    "theta(40, 0), theta(40, 1), theta(40, 2)"
   ]
  },
  {
   "cell_type": "markdown",
   "metadata": {},
   "source": [
    "## Null frequencies\n",
    "\n",
    "$ f = \\frac  {c (2m - 1)} {2 \\cdot s \\cdot n} $"
   ]
  },
  {
   "cell_type": "code",
   "execution_count": 33,
   "metadata": {},
   "outputs": [],
   "source": [
    "s = 17.6\n",
    "c = 343.0 * 1000\n",
    "\n",
    "def calc_null_freq(n, m):\n",
    "    return int((c*(2*m-1))/(s*n*2))"
   ]
  },
  {
   "cell_type": "code",
   "execution_count": 34,
   "metadata": {},
   "outputs": [
    {
     "data": {
      "text/plain": [
       "9744"
      ]
     },
     "execution_count": 34,
     "metadata": {},
     "output_type": "execute_result"
    }
   ],
   "source": [
    "calc_null_freq(1, 1)"
   ]
  },
  {
   "cell_type": "code",
   "execution_count": 35,
   "metadata": {},
   "outputs": [
    {
     "data": {
      "text/plain": [
       "(4872, 14616)"
      ]
     },
     "execution_count": 35,
     "metadata": {},
     "output_type": "execute_result"
    }
   ],
   "source": [
    "calc_null_freq(2, 1), calc_null_freq(2, 2)"
   ]
  },
  {
   "cell_type": "markdown",
   "metadata": {},
   "source": [
    "## Conclusion\n",
    "\n",
    "d = 20mm is the best for human activity recognition in a living room."
   ]
  },
  {
   "cell_type": "markdown",
   "metadata": {},
   "source": [
    "## Response of a two microphone array with 20mm spacing"
   ]
  },
  {
   "cell_type": "markdown",
   "metadata": {},
   "source": [
    "$$\\int_{0}^{T} \\Bigl( f_1(t) + f_2(t - \\frac{d \\cos \\theta}{c}) \\Bigr)^2 dt$$\n",
    "\n",
    "Descrete form:\n",
    "$$\\sum_{n=0}^{N-1} \\Bigl( f_1[n] + f_2[n] \\Bigr)^2$$\n",
    "\n",
    "In this project, N = 1024.\n",
    "\n",
    "$$ \\omega = 2 \\pi f$$\n",
    "$$ t = \\frac{n}{f_s} $$\n",
    "\n",
    "$$ f_1[n] = \\sin \\Bigl( \\omega \\frac{n}{f_s} \\Bigr) $$\n",
    "\n",
    "$$ f_2[n] = \\sin \\Bigl( \\omega \\frac{n}{f_s} - \\frac{d \\cos \\theta}{c} \\Bigr) $$"
   ]
  },
  {
   "cell_type": "code",
   "execution_count": null,
   "metadata": {},
   "outputs": [],
   "source": []
  }
 ],
 "metadata": {
  "kernelspec": {
   "display_name": "Python 3",
   "language": "python",
   "name": "python3"
  },
  "language_info": {
   "codemirror_mode": {
    "name": "ipython",
    "version": 3
   },
   "file_extension": ".py",
   "mimetype": "text/x-python",
   "name": "python",
   "nbconvert_exporter": "python",
   "pygments_lexer": "ipython3",
   "version": "3.6.4"
  }
 },
 "nbformat": 4,
 "nbformat_minor": 2
}
