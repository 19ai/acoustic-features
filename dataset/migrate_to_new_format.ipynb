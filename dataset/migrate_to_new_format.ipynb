{
 "cells": [
  {
   "cell_type": "code",
   "execution_count": 27,
   "metadata": {},
   "outputs": [],
   "source": [
    "import glob\n",
    "FEATURE = 'mfcc'\n",
    "DATASET_FOLDER='./data_restaurant'\n",
    "NEW_FOLDER='./data_restaurant2'\n",
    "POS='0'\n",
    "ANGLE='c'\n",
    "data_appended = ','.join([str(0) for _ in range(200*40)])\n",
    "data_files = glob.glob(DATASET_FOLDER+'/data/*.csv')\n",
    "for file in data_files:\n",
    "    filename = file.split('\\\\')[-1]\n",
    "    params = filename.split('-')\n",
    "    params[2] = params[2].split('.')[0]\n",
    "    new_file = NEW_FOLDER + '/data/{}-{}-{}-{}-{}.csv'.format(params[2], 'features', params[0], POS, ANGLE)\n",
    "    with open(file, 'r') as f:\n",
    "        data = f.read()\n",
    "        if FEATURE == 'mel_spectrogram':\n",
    "            new_data = data + ',' + data_appended\n",
    "        elif FEATURE == 'mfcc':\n",
    "            new_data = data_appended + ',' + data\n",
    "        with open(new_file, 'w') as f2:\n",
    "            f2.write(new_data)"
   ]
  },
  {
   "cell_type": "code",
   "execution_count": null,
   "metadata": {},
   "outputs": [],
   "source": []
  }
 ],
 "metadata": {
  "kernelspec": {
   "display_name": "Python 3",
   "language": "python",
   "name": "python3"
  },
  "language_info": {
   "codemirror_mode": {
    "name": "ipython",
    "version": 3
   },
   "file_extension": ".py",
   "mimetype": "text/x-python",
   "name": "python",
   "nbconvert_exporter": "python",
   "pygments_lexer": "ipython3",
   "version": "3.6.4"
  }
 },
 "nbformat": 4,
 "nbformat_minor": 2
}
