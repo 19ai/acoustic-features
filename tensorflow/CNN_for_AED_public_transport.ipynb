{
 "cells": [
  {
   "cell_type": "markdown",
   "metadata": {
    "colab_type": "text",
    "id": "0X16cagQE-Y-"
   },
   "source": [
    "# CNN for AED with Keras/TensorFlow\n",
    "\n",
    "Date: February 29, 2019\n",
    "\n",
    "Neural network: input MFSCs to CNN"
   ]
  },
  {
   "cell_type": "markdown",
   "metadata": {
    "colab_type": "text",
    "id": "WwQ-dEltkl5Q"
   },
   "source": [
    "## Preparing data set for CNN"
   ]
  },
  {
   "cell_type": "code",
   "execution_count": 2,
   "metadata": {
    "colab": {
     "base_uri": "https://localhost:8080/",
     "height": 34
    },
    "colab_type": "code",
    "id": "VEJyQsGpV3ug",
    "outputId": "3929aa39-3383-4791-e065-3622e6781181"
   },
   "outputs": [],
   "source": [
    "DATASET_FOLDER = '../dataset/data_environment'\n",
    "\n",
    "%run ../oscilloscope/script/dataset.py\n",
    "\n",
    "ds = DataSet(DATASET_FOLDER)\n",
    "train_data, train_labels, test_data, test_labels = ds.generate(flatten=False)\n",
    "shape = ds.shape\n",
    "class_labels = ds.class_labels"
   ]
  },
  {
   "cell_type": "code",
   "execution_count": 3,
   "metadata": {},
   "outputs": [
    {
     "data": {
      "text/plain": [
       "((420, 64, 40, 1), (180, 64, 40, 1))"
      ]
     },
     "execution_count": 3,
     "metadata": {},
     "output_type": "execute_result"
    },
    {
     "data": {
      "image/png": "[encoded data removed]",
      "text/plain": [
       "<matplotlib.figure.Figure at 0x173b39342b0>"
      ]
     },
     "metadata": {},
     "output_type": "display_data"
    }
   ],
   "source": [
    "import matplotlib.pyplot as plt\n",
    "%matplotlib inline\n",
    "\n",
    "plt.imshow(np.rot90(train_data[0].reshape(ds.shape)), cmap='seismic')\n",
    "train_data.shape, test_data.shape"
   ]
  },
  {
   "cell_type": "markdown",
   "metadata": {
    "colab_type": "text",
    "id": "VfUmgxxVk6uM"
   },
   "source": [
    "### CNN model"
   ]
  },
  {
   "cell_type": "code",
   "execution_count": 4,
   "metadata": {
    "colab": {
     "base_uri": "https://localhost:8080/",
     "height": 509
    },
    "colab_type": "code",
    "id": "B2Xg6tGLdMKP",
    "outputId": "ae3daa32-9dbf-4d8b-9a11-7f596dd2e4a6"
   },
   "outputs": [
    {
     "name": "stdout",
     "output_type": "stream",
     "text": [
      "_________________________________________________________________\n",
      "Layer (type)                 Output Shape              Param #   \n",
      "=================================================================\n",
      "conv2d_1 (Conv2D)            (None, 62, 38, 4)         40        \n",
      "_________________________________________________________________\n",
      "max_pooling2d_1 (MaxPooling2 (None, 31, 19, 4)         0         \n",
      "_________________________________________________________________\n",
      "conv2d_2 (Conv2D)            (None, 29, 17, 8)         296       \n",
      "_________________________________________________________________\n",
      "max_pooling2d_2 (MaxPooling2 (None, 14, 8, 8)          0         \n",
      "_________________________________________________________________\n",
      "conv2d_3 (Conv2D)            (None, 12, 6, 16)         1168      \n",
      "_________________________________________________________________\n",
      "max_pooling2d_3 (MaxPooling2 (None, 6, 3, 16)          0         \n",
      "_________________________________________________________________\n",
      "flatten_1 (Flatten)          (None, 288)               0         \n",
      "_________________________________________________________________\n",
      "dropout_1 (Dropout)          (None, 288)               0         \n",
      "_________________________________________________________________\n",
      "dense_1 (Dense)              (None, 6)                 1734      \n",
      "=================================================================\n",
      "Total params: 3,238\n",
      "Trainable params: 3,238\n",
      "Non-trainable params: 0\n",
      "_________________________________________________________________\n"
     ]
    }
   ],
   "source": [
    "from keras import layers\n",
    "from keras import models\n",
    "\n",
    "model = models.Sequential()\n",
    "\n",
    "model.add(layers.Conv2D(4, (3, 3), activation='relu', input_shape=(*shape, 1)))\n",
    "model.add(layers.MaxPooling2D((2,2)))\n",
    "\n",
    "model.add(layers.Conv2D(8, (3, 3), activation='relu'))\n",
    "model.add(layers.MaxPooling2D((2,2)))\n",
    "\n",
    "model.add(layers.Conv2D(16, (3, 3), activation='relu'))\n",
    "model.add(layers.MaxPooling2D((2,2)))\n",
    "\n",
    "model.add(layers.Flatten())\n",
    "model.add(layers.Dropout(0.5))\n",
    "model.add(layers.Dense(len(class_labels), activation='softmax'))\n",
    "\n",
    "model.summary()"
   ]
  },
  {
   "cell_type": "code",
   "execution_count": 5,
   "metadata": {
    "colab": {},
    "colab_type": "code",
    "id": "nRr1L_4ogL6i"
   },
   "outputs": [],
   "source": [
    "model.compile(optimizer='rmsprop', loss='categorical_crossentropy', metrics=['accuracy'])"
   ]
  },
  {
   "cell_type": "code",
   "execution_count": 6,
   "metadata": {},
   "outputs": [
    {
     "data": {
      "image/svg+xml": [
       "<svg height=\"702pt\" viewBox=\"0.00 0.00 217.00 702.00\" width=\"217pt\" xmlns=\"http://www.w3.org/2000/svg\" xmlns:xlink=\"http://www.w3.org/1999/xlink\">\n",
       "<g class=\"graph\" id=\"graph0\" transform=\"scale(1 1) rotate(0) translate(4 698)\">\n",
       "<title>G</title>\n",
       "<polygon fill=\"white\" points=\"-4,4 -4,-698 213,-698 213,4 -4,4\" stroke=\"none\"/>\n",
       "<!-- 1596468782248 -->\n",
       "<g class=\"node\" id=\"node1\"><title>1596468782248</title>\n",
       "<polygon fill=\"none\" points=\"41,-584.5 41,-620.5 168,-620.5 168,-584.5 41,-584.5\" stroke=\"black\"/>\n",
       "<text font-family=\"Times New Roman,serif\" font-size=\"14.00\" text-anchor=\"middle\" x=\"104.5\" y=\"-598.8\">conv2d_1: Conv2D</text>\n",
       "</g>\n",
       "<!-- 1596468361032 -->\n",
       "<g class=\"node\" id=\"node2\"><title>1596468361032</title>\n",
       "<polygon fill=\"none\" points=\"0,-511.5 0,-547.5 209,-547.5 209,-511.5 0,-511.5\" stroke=\"black\"/>\n",
       "<text font-family=\"Times New Roman,serif\" font-size=\"14.00\" text-anchor=\"middle\" x=\"104.5\" y=\"-525.8\">max_pooling2d_1: MaxPooling2D</text>\n",
       "</g>\n",
       "<!-- 1596468782248&#45;&gt;1596468361032 -->\n",
       "<g class=\"edge\" id=\"edge2\"><title>1596468782248-&gt;1596468361032</title>\n",
       "<path d=\"M104.5,-584.313C104.5,-576.289 104.5,-566.547 104.5,-557.569\" fill=\"none\" stroke=\"black\"/>\n",
       "<polygon fill=\"black\" points=\"108,-557.529 104.5,-547.529 101,-557.529 108,-557.529\" stroke=\"black\"/>\n",
       "</g>\n",
       "<!-- 1596445527232 -->\n",
       "<g class=\"node\" id=\"node3\"><title>1596445527232</title>\n",
       "<polygon fill=\"none\" points=\"41,-438.5 41,-474.5 168,-474.5 168,-438.5 41,-438.5\" stroke=\"black\"/>\n",
       "<text font-family=\"Times New Roman,serif\" font-size=\"14.00\" text-anchor=\"middle\" x=\"104.5\" y=\"-452.8\">conv2d_2: Conv2D</text>\n",
       "</g>\n",
       "<!-- 1596468361032&#45;&gt;1596445527232 -->\n",
       "<g class=\"edge\" id=\"edge3\"><title>1596468361032-&gt;1596445527232</title>\n",
       "<path d=\"M104.5,-511.313C104.5,-503.289 104.5,-493.547 104.5,-484.569\" fill=\"none\" stroke=\"black\"/>\n",
       "<polygon fill=\"black\" points=\"108,-484.529 104.5,-474.529 101,-484.529 108,-484.529\" stroke=\"black\"/>\n",
       "</g>\n",
       "<!-- 1596469162560 -->\n",
       "<g class=\"node\" id=\"node4\"><title>1596469162560</title>\n",
       "<polygon fill=\"none\" points=\"0,-365.5 0,-401.5 209,-401.5 209,-365.5 0,-365.5\" stroke=\"black\"/>\n",
       "<text font-family=\"Times New Roman,serif\" font-size=\"14.00\" text-anchor=\"middle\" x=\"104.5\" y=\"-379.8\">max_pooling2d_2: MaxPooling2D</text>\n",
       "</g>\n",
       "<!-- 1596445527232&#45;&gt;1596469162560 -->\n",
       "<g class=\"edge\" id=\"edge4\"><title>1596445527232-&gt;1596469162560</title>\n",
       "<path d=\"M104.5,-438.313C104.5,-430.289 104.5,-420.547 104.5,-411.569\" fill=\"none\" stroke=\"black\"/>\n",
       "<polygon fill=\"black\" points=\"108,-411.529 104.5,-401.529 101,-411.529 108,-411.529\" stroke=\"black\"/>\n",
       "</g>\n",
       "<!-- 1596468759296 -->\n",
       "<g class=\"node\" id=\"node5\"><title>1596468759296</title>\n",
       "<polygon fill=\"none\" points=\"41,-292.5 41,-328.5 168,-328.5 168,-292.5 41,-292.5\" stroke=\"black\"/>\n",
       "<text font-family=\"Times New Roman,serif\" font-size=\"14.00\" text-anchor=\"middle\" x=\"104.5\" y=\"-306.8\">conv2d_3: Conv2D</text>\n",
       "</g>\n",
       "<!-- 1596469162560&#45;&gt;1596468759296 -->\n",
       "<g class=\"edge\" id=\"edge5\"><title>1596469162560-&gt;1596468759296</title>\n",
       "<path d=\"M104.5,-365.313C104.5,-357.289 104.5,-347.547 104.5,-338.569\" fill=\"none\" stroke=\"black\"/>\n",
       "<polygon fill=\"black\" points=\"108,-338.529 104.5,-328.529 101,-338.529 108,-338.529\" stroke=\"black\"/>\n",
       "</g>\n",
       "<!-- 1596469245768 -->\n",
       "<g class=\"node\" id=\"node6\"><title>1596469245768</title>\n",
       "<polygon fill=\"none\" points=\"0,-219.5 0,-255.5 209,-255.5 209,-219.5 0,-219.5\" stroke=\"black\"/>\n",
       "<text font-family=\"Times New Roman,serif\" font-size=\"14.00\" text-anchor=\"middle\" x=\"104.5\" y=\"-233.8\">max_pooling2d_3: MaxPooling2D</text>\n",
       "</g>\n",
       "<!-- 1596468759296&#45;&gt;1596469245768 -->\n",
       "<g class=\"edge\" id=\"edge6\"><title>1596468759296-&gt;1596469245768</title>\n",
       "<path d=\"M104.5,-292.313C104.5,-284.289 104.5,-274.547 104.5,-265.569\" fill=\"none\" stroke=\"black\"/>\n",
       "<polygon fill=\"black\" points=\"108,-265.529 104.5,-255.529 101,-265.529 108,-265.529\" stroke=\"black\"/>\n",
       "</g>\n",
       "<!-- 1596469164632 -->\n",
       "<g class=\"node\" id=\"node7\"><title>1596469164632</title>\n",
       "<polygon fill=\"none\" points=\"50,-146.5 50,-182.5 159,-182.5 159,-146.5 50,-146.5\" stroke=\"black\"/>\n",
       "<text font-family=\"Times New Roman,serif\" font-size=\"14.00\" text-anchor=\"middle\" x=\"104.5\" y=\"-160.8\">flatten_1: Flatten</text>\n",
       "</g>\n",
       "<!-- 1596469245768&#45;&gt;1596469164632 -->\n",
       "<g class=\"edge\" id=\"edge7\"><title>1596469245768-&gt;1596469164632</title>\n",
       "<path d=\"M104.5,-219.313C104.5,-211.289 104.5,-201.547 104.5,-192.569\" fill=\"none\" stroke=\"black\"/>\n",
       "<polygon fill=\"black\" points=\"108,-192.529 104.5,-182.529 101,-192.529 108,-192.529\" stroke=\"black\"/>\n",
       "</g>\n",
       "<!-- 1596469321176 -->\n",
       "<g class=\"node\" id=\"node8\"><title>1596469321176</title>\n",
       "<polygon fill=\"none\" points=\"39.5,-73.5 39.5,-109.5 169.5,-109.5 169.5,-73.5 39.5,-73.5\" stroke=\"black\"/>\n",
       "<text font-family=\"Times New Roman,serif\" font-size=\"14.00\" text-anchor=\"middle\" x=\"104.5\" y=\"-87.8\">dropout_1: Dropout</text>\n",
       "</g>\n",
       "<!-- 1596469164632&#45;&gt;1596469321176 -->\n",
       "<g class=\"edge\" id=\"edge8\"><title>1596469164632-&gt;1596469321176</title>\n",
       "<path d=\"M104.5,-146.313C104.5,-138.289 104.5,-128.547 104.5,-119.569\" fill=\"none\" stroke=\"black\"/>\n",
       "<polygon fill=\"black\" points=\"108,-119.529 104.5,-109.529 101,-119.529 108,-119.529\" stroke=\"black\"/>\n",
       "</g>\n",
       "<!-- 1596469321120 -->\n",
       "<g class=\"node\" id=\"node9\"><title>1596469321120</title>\n",
       "<polygon fill=\"none\" points=\"52.5,-0.5 52.5,-36.5 156.5,-36.5 156.5,-0.5 52.5,-0.5\" stroke=\"black\"/>\n",
       "<text font-family=\"Times New Roman,serif\" font-size=\"14.00\" text-anchor=\"middle\" x=\"104.5\" y=\"-14.8\">dense_1: Dense</text>\n",
       "</g>\n",
       "<!-- 1596469321176&#45;&gt;1596469321120 -->\n",
       "<g class=\"edge\" id=\"edge9\"><title>1596469321176-&gt;1596469321120</title>\n",
       "<path d=\"M104.5,-73.3129C104.5,-65.2895 104.5,-55.5475 104.5,-46.5691\" fill=\"none\" stroke=\"black\"/>\n",
       "<polygon fill=\"black\" points=\"108,-46.5288 104.5,-36.5288 101,-46.5289 108,-46.5288\" stroke=\"black\"/>\n",
       "</g>\n",
       "<!-- 1596468782976 -->\n",
       "<g class=\"node\" id=\"node10\"><title>1596468782976</title>\n",
       "<polygon fill=\"none\" points=\"52.5,-657.5 52.5,-693.5 156.5,-693.5 156.5,-657.5 52.5,-657.5\" stroke=\"black\"/>\n",
       "<text font-family=\"Times New Roman,serif\" font-size=\"14.00\" text-anchor=\"middle\" x=\"104.5\" y=\"-671.8\">1596468782976</text>\n",
       "</g>\n",
       "<!-- 1596468782976&#45;&gt;1596468782248 -->\n",
       "<g class=\"edge\" id=\"edge1\"><title>1596468782976-&gt;1596468782248</title>\n",
       "<path d=\"M104.5,-657.313C104.5,-649.289 104.5,-639.547 104.5,-630.569\" fill=\"none\" stroke=\"black\"/>\n",
       "<polygon fill=\"black\" points=\"108,-630.529 104.5,-620.529 101,-630.529 108,-630.529\" stroke=\"black\"/>\n",
       "</g>\n",
       "</g>\n",
       "</svg>"
      ],
      "text/plain": [
       "<IPython.core.display.SVG object>"
      ]
     },
     "execution_count": 6,
     "metadata": {},
     "output_type": "execute_result"
    }
   ],
   "source": [
    "from IPython.display import SVG\n",
    "from keras.utils.vis_utils import model_to_dot\n",
    "\n",
    "SVG(model_to_dot(model).create(prog='dot', format='svg'))"
   ]
  },
  {
   "cell_type": "markdown",
   "metadata": {
    "colab_type": "text",
    "id": "TfypWUJIlFkz"
   },
   "source": [
    "## Training CNN"
   ]
  },
  {
   "cell_type": "code",
   "execution_count": 7,
   "metadata": {
    "colab": {
     "base_uri": "https://localhost:8080/",
     "height": 931
    },
    "colab_type": "code",
    "id": "zsdmu-ggfvr1",
    "outputId": "77a52558-8ecc-4fc5-e0cb-2b86a75df4c6",
    "scrolled": false
   },
   "outputs": [
    {
     "name": "stdout",
     "output_type": "stream",
     "text": [
      "Train on 420 samples, validate on 180 samples\n",
      "Epoch 1/40\n",
      "420/420 [==============================] - 3s 8ms/step - loss: 1.7985 - acc: 0.2405 - val_loss: 1.6452 - val_acc: 0.3444\n",
      "Epoch 2/40\n",
      "420/420 [==============================] - 3s 6ms/step - loss: 1.6502 - acc: 0.3000 - val_loss: 1.4857 - val_acc: 0.5222\n",
      "Epoch 3/40\n",
      "420/420 [==============================] - 3s 6ms/step - loss: 1.4860 - acc: 0.3810 - val_loss: 1.2257 - val_acc: 0.6278\n",
      "Epoch 4/40\n",
      "420/420 [==============================] - 3s 6ms/step - loss: 1.3036 - acc: 0.4619 - val_loss: 0.9928 - val_acc: 0.6833\n",
      "Epoch 5/40\n",
      "420/420 [==============================] - 3s 6ms/step - loss: 1.1293 - acc: 0.5571 - val_loss: 0.8902 - val_acc: 0.6722\n",
      "Epoch 6/40\n",
      "420/420 [==============================] - 3s 6ms/step - loss: 1.0123 - acc: 0.6000 - val_loss: 0.7843 - val_acc: 0.7222\n",
      "Epoch 7/40\n",
      "420/420 [==============================] - 3s 6ms/step - loss: 0.9530 - acc: 0.6190 - val_loss: 0.7269 - val_acc: 0.7111\n",
      "Epoch 8/40\n",
      "420/420 [==============================] - 3s 6ms/step - loss: 0.9018 - acc: 0.6357 - val_loss: 0.7131 - val_acc: 0.7278\n",
      "Epoch 9/40\n",
      "420/420 [==============================] - 3s 7ms/step - loss: 0.8572 - acc: 0.6548 - val_loss: 0.6125 - val_acc: 0.8278\n",
      "Epoch 10/40\n",
      "420/420 [==============================] - 3s 6ms/step - loss: 0.7619 - acc: 0.7405 - val_loss: 0.5671 - val_acc: 0.7778\n",
      "Epoch 11/40\n",
      "420/420 [==============================] - 3s 7ms/step - loss: 0.7400 - acc: 0.7071 - val_loss: 0.5619 - val_acc: 0.7833\n",
      "Epoch 12/40\n",
      "420/420 [==============================] - 3s 6ms/step - loss: 0.6752 - acc: 0.7333 - val_loss: 0.5078 - val_acc: 0.8278\n",
      "Epoch 13/40\n",
      "420/420 [==============================] - 3s 7ms/step - loss: 0.6629 - acc: 0.7548 - val_loss: 0.4844 - val_acc: 0.7833\n",
      "Epoch 14/40\n",
      "420/420 [==============================] - 3s 6ms/step - loss: 0.6275 - acc: 0.7405 - val_loss: 0.4582 - val_acc: 0.8167\n",
      "Epoch 15/40\n",
      "420/420 [==============================] - 3s 6ms/step - loss: 0.5615 - acc: 0.7929 - val_loss: 0.4455 - val_acc: 0.7944\n",
      "Epoch 16/40\n",
      "420/420 [==============================] - 3s 6ms/step - loss: 0.5864 - acc: 0.7714 - val_loss: 0.4013 - val_acc: 0.8833\n",
      "Epoch 17/40\n",
      "420/420 [==============================] - 3s 6ms/step - loss: 0.5622 - acc: 0.7690 - val_loss: 0.4329 - val_acc: 0.8000\n",
      "Epoch 18/40\n",
      "420/420 [==============================] - 3s 7ms/step - loss: 0.4729 - acc: 0.8190 - val_loss: 0.3455 - val_acc: 0.8944\n",
      "Epoch 19/40\n",
      "420/420 [==============================] - 3s 7ms/step - loss: 0.4884 - acc: 0.8071 - val_loss: 0.3244 - val_acc: 0.8944\n",
      "Epoch 20/40\n",
      "420/420 [==============================] - 3s 7ms/step - loss: 0.4346 - acc: 0.8500 - val_loss: 0.3121 - val_acc: 0.8833\n",
      "Epoch 21/40\n",
      "420/420 [==============================] - 3s 6ms/step - loss: 0.4134 - acc: 0.8381 - val_loss: 0.3457 - val_acc: 0.8444\n",
      "Epoch 22/40\n",
      "420/420 [==============================] - 3s 6ms/step - loss: 0.3656 - acc: 0.8690 - val_loss: 0.2817 - val_acc: 0.8778\n",
      "Epoch 23/40\n",
      "420/420 [==============================] - 3s 6ms/step - loss: 0.4711 - acc: 0.8262 - val_loss: 0.2866 - val_acc: 0.9000\n",
      "Epoch 24/40\n",
      "420/420 [==============================] - 3s 7ms/step - loss: 0.3319 - acc: 0.8667 - val_loss: 0.2600 - val_acc: 0.9167\n",
      "Epoch 25/40\n",
      "420/420 [==============================] - 3s 6ms/step - loss: 0.3172 - acc: 0.8833 - val_loss: 0.2488 - val_acc: 0.9000\n",
      "Epoch 26/40\n",
      "420/420 [==============================] - 3s 6ms/step - loss: 0.3248 - acc: 0.8714 - val_loss: 0.3081 - val_acc: 0.8889\n",
      "Epoch 27/40\n",
      "420/420 [==============================] - 3s 6ms/step - loss: 0.3340 - acc: 0.8762 - val_loss: 0.2708 - val_acc: 0.8889\n",
      "Epoch 28/40\n",
      "420/420 [==============================] - 3s 7ms/step - loss: 0.3100 - acc: 0.8929 - val_loss: 0.2275 - val_acc: 0.9333\n",
      "Epoch 29/40\n",
      "420/420 [==============================] - 3s 6ms/step - loss: 0.2289 - acc: 0.9357 - val_loss: 0.2318 - val_acc: 0.9278\n",
      "Epoch 30/40\n",
      "420/420 [==============================] - 3s 6ms/step - loss: 0.2647 - acc: 0.9071 - val_loss: 0.2281 - val_acc: 0.9111\n",
      "Epoch 31/40\n",
      "420/420 [==============================] - 2s 6ms/step - loss: 0.2683 - acc: 0.8976 - val_loss: 0.2347 - val_acc: 0.9111\n",
      "Epoch 32/40\n",
      "420/420 [==============================] - 3s 7ms/step - loss: 0.2896 - acc: 0.8929 - val_loss: 0.2161 - val_acc: 0.9389\n",
      "Epoch 33/40\n",
      "420/420 [==============================] - 3s 6ms/step - loss: 0.2516 - acc: 0.9167 - val_loss: 0.2409 - val_acc: 0.9000\n",
      "Epoch 34/40\n",
      "420/420 [==============================] - 3s 6ms/step - loss: 0.2725 - acc: 0.9167 - val_loss: 0.2491 - val_acc: 0.9222\n",
      "Epoch 35/40\n",
      "420/420 [==============================] - 3s 6ms/step - loss: 0.2356 - acc: 0.9143 - val_loss: 0.2241 - val_acc: 0.9278\n",
      "Epoch 36/40\n",
      "420/420 [==============================] - 3s 6ms/step - loss: 0.2493 - acc: 0.9119 - val_loss: 0.1856 - val_acc: 0.9389\n",
      "Epoch 37/40\n",
      "420/420 [==============================] - 3s 6ms/step - loss: 0.2008 - acc: 0.9286 - val_loss: 0.2052 - val_acc: 0.9222\n",
      "Epoch 38/40\n",
      "420/420 [==============================] - 3s 7ms/step - loss: 0.2301 - acc: 0.9167 - val_loss: 0.1760 - val_acc: 0.9389\n",
      "Epoch 39/40\n",
      "420/420 [==============================] - 3s 6ms/step - loss: 0.2058 - acc: 0.9333 - val_loss: 0.2113 - val_acc: 0.9167\n",
      "Epoch 40/40\n",
      "420/420 [==============================] - 2s 6ms/step - loss: 0.2005 - acc: 0.9095 - val_loss: 0.2180 - val_acc: 0.9167\n"
     ]
    }
   ],
   "source": [
    "EPOCHS = 40\n",
    "history = model.fit(train_data, train_labels, epochs=EPOCHS, validation_data=(test_data, test_labels))"
   ]
  },
  {
   "cell_type": "code",
   "execution_count": 8,
   "metadata": {},
   "outputs": [
    {
     "data": {
      "image/png": "[encoded data removed]",
      "text/plain": [
       "<matplotlib.figure.Figure at 0x173b4eb57b8>"
      ]
     },
     "metadata": {},
     "output_type": "display_data"
    },
    {
     "data": {
      "image/png": "[encoded data removed]",
      "text/plain": [
       "<matplotlib.figure.Figure at 0x173b39880f0>"
      ]
     },
     "metadata": {},
     "output_type": "display_data"
    }
   ],
   "source": [
    "%run history.py\n",
    "%matplotlib inline\n",
    "\n",
    "plot_accuracy(history)\n",
    "plot_loss(history)"
   ]
  },
  {
   "cell_type": "markdown",
   "metadata": {},
   "source": [
    "## Save the model"
   ]
  },
  {
   "cell_type": "code",
   "execution_count": 9,
   "metadata": {},
   "outputs": [],
   "source": [
    "import datetime\n",
    "\n",
    "dt = datetime.datetime.today().strftime('%Y%m%d%H%M%S')\n",
    "filename = DATASET_FOLDER + '/cnn_for_aed_{}.h5'.format(dt)\n",
    "model.save(filename)"
   ]
  },
  {
   "cell_type": "markdown",
   "metadata": {},
   "source": [
    "## Load the model"
   ]
  },
  {
   "cell_type": "code",
   "execution_count": 10,
   "metadata": {},
   "outputs": [],
   "source": [
    "del model\n",
    "model = models.load_model(filename)"
   ]
  },
  {
   "cell_type": "markdown",
   "metadata": {
    "colab_type": "text",
    "id": "j6con4C3lKC1"
   },
   "source": [
    "## Confirmation"
   ]
  },
  {
   "cell_type": "code",
   "execution_count": 11,
   "metadata": {
    "colab": {
     "base_uri": "https://localhost:8080/",
     "height": 34
    },
    "colab_type": "code",
    "id": "4oZYLLij69wU",
    "outputId": "b37a4b8a-2c80-411f-d8a9-5df1c6dbfe22"
   },
   "outputs": [],
   "source": [
    "import numpy as np\n",
    "import matplotlib.pyplot as plt"
   ]
  },
  {
   "cell_type": "code",
   "execution_count": 12,
   "metadata": {
    "colab": {
     "base_uri": "https://localhost:8080/",
     "height": 193
    },
    "colab_type": "code",
    "id": "zSxXE9FgRBdJ",
    "outputId": "f3a53efe-e99f-4572-f9b4-1bf3c39c77ec"
   },
   "outputs": [],
   "source": [
    "layer_outputs = [layer.output for layer in model.layers]\n",
    "#layer_outputs"
   ]
  },
  {
   "cell_type": "code",
   "execution_count": 13,
   "metadata": {
    "colab": {
     "base_uri": "https://localhost:8080/",
     "height": 34
    },
    "colab_type": "code",
    "id": "dcw7yHKrRkPD",
    "outputId": "a3ed5441-ae48-4635-bf07-ac5060030608"
   },
   "outputs": [],
   "source": [
    "activation_model = models.Model(inputs=model.input, outputs=layer_outputs)\n",
    "activations = activation_model.predict(test_data)\n",
    "#activations[0][0,:,:,0].shape"
   ]
  },
  {
   "cell_type": "code",
   "execution_count": 14,
   "metadata": {},
   "outputs": [
    {
     "data": {
      "text/plain": [
       "['train', 'station', 'cafe', 'mall', 'port', 'street']"
      ]
     },
     "execution_count": 14,
     "metadata": {},
     "output_type": "execute_result"
    }
   ],
   "source": [
    "class_labels"
   ]
  },
  {
   "cell_type": "code",
   "execution_count": 15,
   "metadata": {
    "colab": {
     "base_uri": "https://localhost:8080/",
     "height": 193
    },
    "colab_type": "code",
    "id": "ccSNAwGKhRn9",
    "outputId": "0ad22e12-713b-4b07-e17b-45d39ff1b80b"
   },
   "outputs": [
    {
     "data": {
      "text/plain": [
       "array([[ 0,  0, 99,  0,  0,  0],\n",
       "       [12, 87,  0,  0,  0,  0],\n",
       "       [ 8,  5,  0,  1, 34, 50],\n",
       "       [ 0,  0,  0,  0,  0, 99],\n",
       "       [ 2, 96,  0,  0,  0,  0],\n",
       "       [ 0,  0,  0,  0, 74, 23],\n",
       "       [ 0,  0,  0,  0,  0, 99],\n",
       "       [ 2,  0,  0,  0,  0, 97],\n",
       "       [ 0,  0,  0,  2, 90,  6],\n",
       "       [ 0,  0,  0, 99,  0,  0]])"
      ]
     },
     "execution_count": 15,
     "metadata": {},
     "output_type": "execute_result"
    }
   ],
   "source": [
    "(activations[-1][:10]*100).astype(int)"
   ]
  },
  {
   "cell_type": "code",
   "execution_count": 16,
   "metadata": {
    "colab": {
     "base_uri": "https://localhost:8080/",
     "height": 193
    },
    "colab_type": "code",
    "id": "RoE0nxtuiGIN",
    "outputId": "154437a8-ab72-46f4-f42c-3e6464af47d0",
    "scrolled": true
   },
   "outputs": [
    {
     "data": {
      "text/plain": [
       "array([[0, 0, 1, 0, 0, 0],\n",
       "       [0, 1, 0, 0, 0, 0],\n",
       "       [0, 0, 0, 0, 1, 0],\n",
       "       [0, 0, 0, 0, 0, 1],\n",
       "       [0, 1, 0, 0, 0, 0],\n",
       "       [0, 0, 0, 0, 1, 0],\n",
       "       [0, 0, 0, 0, 0, 1],\n",
       "       [0, 0, 0, 0, 0, 1],\n",
       "       [0, 0, 0, 0, 1, 0],\n",
       "       [0, 0, 0, 1, 0, 0]])"
      ]
     },
     "execution_count": 16,
     "metadata": {},
     "output_type": "execute_result"
    }
   ],
   "source": [
    "test_labels[:10].astype(int)"
   ]
  },
  {
   "cell_type": "code",
   "execution_count": null,
   "metadata": {},
   "outputs": [],
   "source": []
  }
 ],
 "metadata": {
  "colab": {
   "collapsed_sections": [],
   "name": "CNN for AED",
   "provenance": [],
   "version": "0.3.2"
  },
  "kernelspec": {
   "display_name": "Python 3",
   "language": "python",
   "name": "python3"
  },
  "language_info": {
   "codemirror_mode": {
    "name": "ipython",
    "version": 3
   },
   "file_extension": ".py",
   "mimetype": "text/x-python",
   "name": "python",
   "nbconvert_exporter": "python",
   "pygments_lexer": "ipython3",
   "version": "3.6.4"
  }
 },
 "nbformat": 4,
 "nbformat_minor": 1
}
