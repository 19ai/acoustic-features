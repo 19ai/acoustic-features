{
 "cells": [
  {
   "cell_type": "markdown",
   "metadata": {
    "colab_type": "text",
    "id": "0X16cagQE-Y-"
   },
   "source": [
    "# CNN for AED with Keras/TensorFlow\n",
    "\n",
    "Date: February 29, 2019\n",
    "\n",
    "Neural network: input MFSCs to CNN"
   ]
  },
  {
   "cell_type": "markdown",
   "metadata": {
    "colab_type": "text",
    "id": "WwQ-dEltkl5Q"
   },
   "source": [
    "## Preparing data set for CNN"
   ]
  },
  {
   "cell_type": "code",
   "execution_count": 3,
   "metadata": {
    "colab": {
     "base_uri": "https://localhost:8080/",
     "height": 34
    },
    "colab_type": "code",
    "id": "VEJyQsGpV3ug",
    "outputId": "3929aa39-3383-4791-e065-3622e6781181"
   },
   "outputs": [],
   "source": [
    "DATASET_FOLDER = '../dataset/data_environment'\n",
    "\n",
    "%run ../oscilloscope/script/dataset.py\n",
    "\n",
    "ds = DataSet(DATASET_FOLDER)\n",
    "train_data, train_labels, test_data, test_labels = ds.generate(flatten=False)\n",
    "shape = ds.shape\n",
    "class_labels = ds.class_labels"
   ]
  },
  {
   "cell_type": "code",
   "execution_count": 4,
   "metadata": {},
   "outputs": [
    {
     "data": {
      "text/plain": [
       "((490, 64, 40, 1), (210, 64, 40, 1))"
      ]
     },
     "execution_count": 4,
     "metadata": {},
     "output_type": "execute_result"
    },
    {
     "data": {
      "image/png": "[encoded data removed]",
      "text/plain": [
       "<matplotlib.figure.Figure at 0x188eb12eb38>"
      ]
     },
     "metadata": {},
     "output_type": "display_data"
    }
   ],
   "source": [
    "import matplotlib.pyplot as plt\n",
    "%matplotlib inline\n",
    "\n",
    "plt.imshow(np.rot90(train_data[0].reshape(ds.shape)), cmap='seismic')\n",
    "train_data.shape, test_data.shape"
   ]
  },
  {
   "cell_type": "markdown",
   "metadata": {
    "colab_type": "text",
    "id": "VfUmgxxVk6uM"
   },
   "source": [
    "### CNN model"
   ]
  },
  {
   "cell_type": "code",
   "execution_count": 5,
   "metadata": {
    "colab": {
     "base_uri": "https://localhost:8080/",
     "height": 509
    },
    "colab_type": "code",
    "id": "B2Xg6tGLdMKP",
    "outputId": "ae3daa32-9dbf-4d8b-9a11-7f596dd2e4a6"
   },
   "outputs": [
    {
     "name": "stdout",
     "output_type": "stream",
     "text": [
      "_________________________________________________________________\n",
      "Layer (type)                 Output Shape              Param #   \n",
      "=================================================================\n",
      "conv2d_1 (Conv2D)            (None, 62, 38, 4)         40        \n",
      "_________________________________________________________________\n",
      "max_pooling2d_1 (MaxPooling2 (None, 31, 19, 4)         0         \n",
      "_________________________________________________________________\n",
      "conv2d_2 (Conv2D)            (None, 29, 17, 8)         296       \n",
      "_________________________________________________________________\n",
      "max_pooling2d_2 (MaxPooling2 (None, 14, 8, 8)          0         \n",
      "_________________________________________________________________\n",
      "conv2d_3 (Conv2D)            (None, 12, 6, 16)         1168      \n",
      "_________________________________________________________________\n",
      "max_pooling2d_3 (MaxPooling2 (None, 6, 3, 16)          0         \n",
      "_________________________________________________________________\n",
      "flatten_1 (Flatten)          (None, 288)               0         \n",
      "_________________________________________________________________\n",
      "dropout_1 (Dropout)          (None, 288)               0         \n",
      "_________________________________________________________________\n",
      "dense_1 (Dense)              (None, 7)                 2023      \n",
      "=================================================================\n",
      "Total params: 3,527\n",
      "Trainable params: 3,527\n",
      "Non-trainable params: 0\n",
      "_________________________________________________________________\n"
     ]
    }
   ],
   "source": [
    "from keras import layers\n",
    "from keras import models\n",
    "\n",
    "model = models.Sequential()\n",
    "\n",
    "model.add(layers.Conv2D(4, (3, 3), activation='relu', input_shape=(*shape, 1)))\n",
    "model.add(layers.MaxPooling2D((2,2)))\n",
    "\n",
    "model.add(layers.Conv2D(8, (3, 3), activation='relu'))\n",
    "model.add(layers.MaxPooling2D((2,2)))\n",
    "\n",
    "model.add(layers.Conv2D(16, (3, 3), activation='relu'))\n",
    "model.add(layers.MaxPooling2D((2,2)))\n",
    "\n",
    "model.add(layers.Flatten())\n",
    "model.add(layers.Dropout(0.5))\n",
    "model.add(layers.Dense(len(class_labels), activation='softmax'))\n",
    "\n",
    "model.summary()"
   ]
  },
  {
   "cell_type": "code",
   "execution_count": 6,
   "metadata": {
    "colab": {},
    "colab_type": "code",
    "id": "nRr1L_4ogL6i"
   },
   "outputs": [],
   "source": [
    "model.compile(optimizer='rmsprop', loss='categorical_crossentropy', metrics=['accuracy'])"
   ]
  },
  {
   "cell_type": "code",
   "execution_count": 7,
   "metadata": {},
   "outputs": [
    {
     "data": {
      "image/svg+xml": [
       "<svg height=\"702pt\" viewBox=\"0.00 0.00 217.00 702.00\" width=\"217pt\" xmlns=\"http://www.w3.org/2000/svg\" xmlns:xlink=\"http://www.w3.org/1999/xlink\">\n",
       "<g class=\"graph\" id=\"graph0\" transform=\"scale(1 1) rotate(0) translate(4 698)\">\n",
       "<title>G</title>\n",
       "<polygon fill=\"white\" points=\"-4,4 -4,-698 213,-698 213,4 -4,4\" stroke=\"none\"/>\n",
       "<!-- 1687608613576 -->\n",
       "<g class=\"node\" id=\"node1\"><title>1687608613576</title>\n",
       "<polygon fill=\"none\" points=\"41,-584.5 41,-620.5 168,-620.5 168,-584.5 41,-584.5\" stroke=\"black\"/>\n",
       "<text font-family=\"Times New Roman,serif\" font-size=\"14.00\" text-anchor=\"middle\" x=\"104.5\" y=\"-598.8\">conv2d_1: Conv2D</text>\n",
       "</g>\n",
       "<!-- 1687608992040 -->\n",
       "<g class=\"node\" id=\"node2\"><title>1687608992040</title>\n",
       "<polygon fill=\"none\" points=\"0,-511.5 0,-547.5 209,-547.5 209,-511.5 0,-511.5\" stroke=\"black\"/>\n",
       "<text font-family=\"Times New Roman,serif\" font-size=\"14.00\" text-anchor=\"middle\" x=\"104.5\" y=\"-525.8\">max_pooling2d_1: MaxPooling2D</text>\n",
       "</g>\n",
       "<!-- 1687608613576&#45;&gt;1687608992040 -->\n",
       "<g class=\"edge\" id=\"edge2\"><title>1687608613576-&gt;1687608992040</title>\n",
       "<path d=\"M104.5,-584.313C104.5,-576.289 104.5,-566.547 104.5,-557.569\" fill=\"none\" stroke=\"black\"/>\n",
       "<polygon fill=\"black\" points=\"108,-557.529 104.5,-547.529 101,-557.529 108,-557.529\" stroke=\"black\"/>\n",
       "</g>\n",
       "<!-- 1687608813328 -->\n",
       "<g class=\"node\" id=\"node3\"><title>1687608813328</title>\n",
       "<polygon fill=\"none\" points=\"41,-438.5 41,-474.5 168,-474.5 168,-438.5 41,-438.5\" stroke=\"black\"/>\n",
       "<text font-family=\"Times New Roman,serif\" font-size=\"14.00\" text-anchor=\"middle\" x=\"104.5\" y=\"-452.8\">conv2d_2: Conv2D</text>\n",
       "</g>\n",
       "<!-- 1687608992040&#45;&gt;1687608813328 -->\n",
       "<g class=\"edge\" id=\"edge3\"><title>1687608992040-&gt;1687608813328</title>\n",
       "<path d=\"M104.5,-511.313C104.5,-503.289 104.5,-493.547 104.5,-484.569\" fill=\"none\" stroke=\"black\"/>\n",
       "<polygon fill=\"black\" points=\"108,-484.529 104.5,-474.529 101,-484.529 108,-484.529\" stroke=\"black\"/>\n",
       "</g>\n",
       "<!-- 1687609327120 -->\n",
       "<g class=\"node\" id=\"node4\"><title>1687609327120</title>\n",
       "<polygon fill=\"none\" points=\"0,-365.5 0,-401.5 209,-401.5 209,-365.5 0,-365.5\" stroke=\"black\"/>\n",
       "<text font-family=\"Times New Roman,serif\" font-size=\"14.00\" text-anchor=\"middle\" x=\"104.5\" y=\"-379.8\">max_pooling2d_2: MaxPooling2D</text>\n",
       "</g>\n",
       "<!-- 1687608813328&#45;&gt;1687609327120 -->\n",
       "<g class=\"edge\" id=\"edge4\"><title>1687608813328-&gt;1687609327120</title>\n",
       "<path d=\"M104.5,-438.313C104.5,-430.289 104.5,-420.547 104.5,-411.569\" fill=\"none\" stroke=\"black\"/>\n",
       "<polygon fill=\"black\" points=\"108,-411.529 104.5,-401.529 101,-411.529 108,-411.529\" stroke=\"black\"/>\n",
       "</g>\n",
       "<!-- 1687609095672 -->\n",
       "<g class=\"node\" id=\"node5\"><title>1687609095672</title>\n",
       "<polygon fill=\"none\" points=\"41,-292.5 41,-328.5 168,-328.5 168,-292.5 41,-292.5\" stroke=\"black\"/>\n",
       "<text font-family=\"Times New Roman,serif\" font-size=\"14.00\" text-anchor=\"middle\" x=\"104.5\" y=\"-306.8\">conv2d_3: Conv2D</text>\n",
       "</g>\n",
       "<!-- 1687609327120&#45;&gt;1687609095672 -->\n",
       "<g class=\"edge\" id=\"edge5\"><title>1687609327120-&gt;1687609095672</title>\n",
       "<path d=\"M104.5,-365.313C104.5,-357.289 104.5,-347.547 104.5,-338.569\" fill=\"none\" stroke=\"black\"/>\n",
       "<polygon fill=\"black\" points=\"108,-338.529 104.5,-328.529 101,-338.529 108,-338.529\" stroke=\"black\"/>\n",
       "</g>\n",
       "<!-- 1687609479240 -->\n",
       "<g class=\"node\" id=\"node6\"><title>1687609479240</title>\n",
       "<polygon fill=\"none\" points=\"0,-219.5 0,-255.5 209,-255.5 209,-219.5 0,-219.5\" stroke=\"black\"/>\n",
       "<text font-family=\"Times New Roman,serif\" font-size=\"14.00\" text-anchor=\"middle\" x=\"104.5\" y=\"-233.8\">max_pooling2d_3: MaxPooling2D</text>\n",
       "</g>\n",
       "<!-- 1687609095672&#45;&gt;1687609479240 -->\n",
       "<g class=\"edge\" id=\"edge6\"><title>1687609095672-&gt;1687609479240</title>\n",
       "<path d=\"M104.5,-292.313C104.5,-284.289 104.5,-274.547 104.5,-265.569\" fill=\"none\" stroke=\"black\"/>\n",
       "<polygon fill=\"black\" points=\"108,-265.529 104.5,-255.529 101,-265.529 108,-265.529\" stroke=\"black\"/>\n",
       "</g>\n",
       "<!-- 1687609327568 -->\n",
       "<g class=\"node\" id=\"node7\"><title>1687609327568</title>\n",
       "<polygon fill=\"none\" points=\"50,-146.5 50,-182.5 159,-182.5 159,-146.5 50,-146.5\" stroke=\"black\"/>\n",
       "<text font-family=\"Times New Roman,serif\" font-size=\"14.00\" text-anchor=\"middle\" x=\"104.5\" y=\"-160.8\">flatten_1: Flatten</text>\n",
       "</g>\n",
       "<!-- 1687609479240&#45;&gt;1687609327568 -->\n",
       "<g class=\"edge\" id=\"edge7\"><title>1687609479240-&gt;1687609327568</title>\n",
       "<path d=\"M104.5,-219.313C104.5,-211.289 104.5,-201.547 104.5,-192.569\" fill=\"none\" stroke=\"black\"/>\n",
       "<polygon fill=\"black\" points=\"108,-192.529 104.5,-182.529 101,-192.529 108,-192.529\" stroke=\"black\"/>\n",
       "</g>\n",
       "<!-- 1687609482600 -->\n",
       "<g class=\"node\" id=\"node8\"><title>1687609482600</title>\n",
       "<polygon fill=\"none\" points=\"39.5,-73.5 39.5,-109.5 169.5,-109.5 169.5,-73.5 39.5,-73.5\" stroke=\"black\"/>\n",
       "<text font-family=\"Times New Roman,serif\" font-size=\"14.00\" text-anchor=\"middle\" x=\"104.5\" y=\"-87.8\">dropout_1: Dropout</text>\n",
       "</g>\n",
       "<!-- 1687609327568&#45;&gt;1687609482600 -->\n",
       "<g class=\"edge\" id=\"edge8\"><title>1687609327568-&gt;1687609482600</title>\n",
       "<path d=\"M104.5,-146.313C104.5,-138.289 104.5,-128.547 104.5,-119.569\" fill=\"none\" stroke=\"black\"/>\n",
       "<polygon fill=\"black\" points=\"108,-119.529 104.5,-109.529 101,-119.529 108,-119.529\" stroke=\"black\"/>\n",
       "</g>\n",
       "<!-- 1687609576528 -->\n",
       "<g class=\"node\" id=\"node9\"><title>1687609576528</title>\n",
       "<polygon fill=\"none\" points=\"52.5,-0.5 52.5,-36.5 156.5,-36.5 156.5,-0.5 52.5,-0.5\" stroke=\"black\"/>\n",
       "<text font-family=\"Times New Roman,serif\" font-size=\"14.00\" text-anchor=\"middle\" x=\"104.5\" y=\"-14.8\">dense_1: Dense</text>\n",
       "</g>\n",
       "<!-- 1687609482600&#45;&gt;1687609576528 -->\n",
       "<g class=\"edge\" id=\"edge9\"><title>1687609482600-&gt;1687609576528</title>\n",
       "<path d=\"M104.5,-73.3129C104.5,-65.2895 104.5,-55.5475 104.5,-46.5691\" fill=\"none\" stroke=\"black\"/>\n",
       "<polygon fill=\"black\" points=\"108,-46.5288 104.5,-36.5288 101,-46.5289 108,-46.5288\" stroke=\"black\"/>\n",
       "</g>\n",
       "<!-- 1687608994672 -->\n",
       "<g class=\"node\" id=\"node10\"><title>1687608994672</title>\n",
       "<polygon fill=\"none\" points=\"52.5,-657.5 52.5,-693.5 156.5,-693.5 156.5,-657.5 52.5,-657.5\" stroke=\"black\"/>\n",
       "<text font-family=\"Times New Roman,serif\" font-size=\"14.00\" text-anchor=\"middle\" x=\"104.5\" y=\"-671.8\">1687608994672</text>\n",
       "</g>\n",
       "<!-- 1687608994672&#45;&gt;1687608613576 -->\n",
       "<g class=\"edge\" id=\"edge1\"><title>1687608994672-&gt;1687608613576</title>\n",
       "<path d=\"M104.5,-657.313C104.5,-649.289 104.5,-639.547 104.5,-630.569\" fill=\"none\" stroke=\"black\"/>\n",
       "<polygon fill=\"black\" points=\"108,-630.529 104.5,-620.529 101,-630.529 108,-630.529\" stroke=\"black\"/>\n",
       "</g>\n",
       "</g>\n",
       "</svg>"
      ],
      "text/plain": [
       "<IPython.core.display.SVG object>"
      ]
     },
     "execution_count": 7,
     "metadata": {},
     "output_type": "execute_result"
    }
   ],
   "source": [
    "from IPython.display import SVG\n",
    "from keras.utils.vis_utils import model_to_dot\n",
    "\n",
    "SVG(model_to_dot(model).create(prog='dot', format='svg'))"
   ]
  },
  {
   "cell_type": "markdown",
   "metadata": {
    "colab_type": "text",
    "id": "TfypWUJIlFkz"
   },
   "source": [
    "## Training CNN"
   ]
  },
  {
   "cell_type": "code",
   "execution_count": 8,
   "metadata": {
    "colab": {
     "base_uri": "https://localhost:8080/",
     "height": 931
    },
    "colab_type": "code",
    "id": "zsdmu-ggfvr1",
    "outputId": "77a52558-8ecc-4fc5-e0cb-2b86a75df4c6",
    "scrolled": false
   },
   "outputs": [
    {
     "name": "stdout",
     "output_type": "stream",
     "text": [
      "Train on 490 samples, validate on 210 samples\n",
      "Epoch 1/40\n",
      "490/490 [==============================] - 4s 7ms/step - loss: 1.7478 - acc: 0.3143 - val_loss: 1.5109 - val_acc: 0.5048\n",
      "Epoch 2/40\n",
      "490/490 [==============================] - 3s 6ms/step - loss: 1.4141 - acc: 0.4612 - val_loss: 1.1570 - val_acc: 0.6095\n",
      "Epoch 3/40\n",
      "490/490 [==============================] - 3s 6ms/step - loss: 1.1565 - acc: 0.5490 - val_loss: 0.9467 - val_acc: 0.6524\n",
      "Epoch 4/40\n",
      "490/490 [==============================] - 3s 6ms/step - loss: 1.0325 - acc: 0.5959 - val_loss: 0.8514 - val_acc: 0.6810\n",
      "Epoch 5/40\n",
      "490/490 [==============================] - 3s 6ms/step - loss: 0.8865 - acc: 0.6367 - val_loss: 0.7402 - val_acc: 0.7286\n",
      "Epoch 6/40\n",
      "490/490 [==============================] - 3s 6ms/step - loss: 0.8602 - acc: 0.6327 - val_loss: 0.6933 - val_acc: 0.7619\n",
      "Epoch 7/40\n",
      "490/490 [==============================] - 3s 6ms/step - loss: 0.7799 - acc: 0.6878 - val_loss: 0.6264 - val_acc: 0.7762\n",
      "Epoch 8/40\n",
      "490/490 [==============================] - 3s 7ms/step - loss: 0.6903 - acc: 0.7327 - val_loss: 0.5815 - val_acc: 0.8143\n",
      "Epoch 9/40\n",
      "490/490 [==============================] - 3s 6ms/step - loss: 0.6305 - acc: 0.7592 - val_loss: 0.5621 - val_acc: 0.8238\n",
      "Epoch 10/40\n",
      "490/490 [==============================] - 3s 6ms/step - loss: 0.5559 - acc: 0.7735 - val_loss: 0.5070 - val_acc: 0.7905\n",
      "Epoch 11/40\n",
      "490/490 [==============================] - 3s 6ms/step - loss: 0.5367 - acc: 0.7857 - val_loss: 0.4651 - val_acc: 0.8429\n",
      "Epoch 12/40\n",
      "490/490 [==============================] - 3s 6ms/step - loss: 0.5139 - acc: 0.7918 - val_loss: 0.4362 - val_acc: 0.8571\n",
      "Epoch 13/40\n",
      "490/490 [==============================] - 3s 6ms/step - loss: 0.4820 - acc: 0.7959 - val_loss: 0.4261 - val_acc: 0.8381\n",
      "Epoch 14/40\n",
      "490/490 [==============================] - 3s 6ms/step - loss: 0.4218 - acc: 0.8592 - val_loss: 0.3759 - val_acc: 0.8667\n",
      "Epoch 15/40\n",
      "490/490 [==============================] - 3s 6ms/step - loss: 0.4143 - acc: 0.8531 - val_loss: 0.3831 - val_acc: 0.8571\n",
      "Epoch 16/40\n",
      "490/490 [==============================] - 3s 6ms/step - loss: 0.3689 - acc: 0.8612 - val_loss: 0.3553 - val_acc: 0.8714\n",
      "Epoch 17/40\n",
      "490/490 [==============================] - 3s 6ms/step - loss: 0.3772 - acc: 0.8531 - val_loss: 0.3507 - val_acc: 0.8762\n",
      "Epoch 18/40\n",
      "490/490 [==============================] - 3s 6ms/step - loss: 0.3302 - acc: 0.8837 - val_loss: 0.2950 - val_acc: 0.9048\n",
      "Epoch 19/40\n",
      "490/490 [==============================] - 3s 6ms/step - loss: 0.3287 - acc: 0.8857 - val_loss: 0.2698 - val_acc: 0.9048\n",
      "Epoch 20/40\n",
      "490/490 [==============================] - 3s 6ms/step - loss: 0.3056 - acc: 0.9000 - val_loss: 0.2544 - val_acc: 0.9095\n",
      "Epoch 21/40\n",
      "490/490 [==============================] - 3s 6ms/step - loss: 0.2777 - acc: 0.9000 - val_loss: 0.2471 - val_acc: 0.9190\n",
      "Epoch 22/40\n",
      "490/490 [==============================] - 3s 7ms/step - loss: 0.2597 - acc: 0.9143 - val_loss: 0.2515 - val_acc: 0.9000\n",
      "Epoch 23/40\n",
      "490/490 [==============================] - 3s 6ms/step - loss: 0.2328 - acc: 0.9245 - val_loss: 0.2403 - val_acc: 0.9048\n",
      "Epoch 24/40\n",
      "490/490 [==============================] - 3s 6ms/step - loss: 0.2279 - acc: 0.9306 - val_loss: 0.2061 - val_acc: 0.9286\n",
      "Epoch 25/40\n",
      "490/490 [==============================] - 4s 7ms/step - loss: 0.2004 - acc: 0.9388 - val_loss: 0.1940 - val_acc: 0.9286\n",
      "Epoch 26/40\n",
      "490/490 [==============================] - 3s 6ms/step - loss: 0.2030 - acc: 0.9469 - val_loss: 0.2012 - val_acc: 0.9238\n",
      "Epoch 27/40\n",
      "490/490 [==============================] - 3s 7ms/step - loss: 0.1868 - acc: 0.9408 - val_loss: 0.2123 - val_acc: 0.9190\n",
      "Epoch 28/40\n",
      "490/490 [==============================] - 3s 7ms/step - loss: 0.1562 - acc: 0.9490 - val_loss: 0.1932 - val_acc: 0.9190\n",
      "Epoch 29/40\n",
      "490/490 [==============================] - 4s 7ms/step - loss: 0.1851 - acc: 0.9347 - val_loss: 0.1848 - val_acc: 0.9238\n",
      "Epoch 30/40\n",
      "490/490 [==============================] - 3s 7ms/step - loss: 0.1664 - acc: 0.9469 - val_loss: 0.1852 - val_acc: 0.9286\n",
      "Epoch 31/40\n",
      "490/490 [==============================] - 4s 8ms/step - loss: 0.1643 - acc: 0.9571 - val_loss: 0.1853 - val_acc: 0.9143\n",
      "Epoch 32/40\n",
      "490/490 [==============================] - 4s 7ms/step - loss: 0.1685 - acc: 0.9531 - val_loss: 0.1789 - val_acc: 0.9238\n",
      "Epoch 33/40\n",
      "490/490 [==============================] - 3s 6ms/step - loss: 0.1459 - acc: 0.9592 - val_loss: 0.1671 - val_acc: 0.9238\n",
      "Epoch 34/40\n",
      "490/490 [==============================] - 3s 6ms/step - loss: 0.1349 - acc: 0.9633 - val_loss: 0.1647 - val_acc: 0.9333\n",
      "Epoch 35/40\n",
      "490/490 [==============================] - 3s 6ms/step - loss: 0.1372 - acc: 0.9592 - val_loss: 0.3040 - val_acc: 0.8905\n",
      "Epoch 36/40\n",
      "490/490 [==============================] - 3s 6ms/step - loss: 0.1365 - acc: 0.9592 - val_loss: 0.1501 - val_acc: 0.9429\n",
      "Epoch 37/40\n",
      "490/490 [==============================] - 3s 6ms/step - loss: 0.1176 - acc: 0.9714 - val_loss: 0.1960 - val_acc: 0.9238\n",
      "Epoch 38/40\n",
      "490/490 [==============================] - 3s 6ms/step - loss: 0.1056 - acc: 0.9694 - val_loss: 0.1489 - val_acc: 0.9381\n",
      "Epoch 39/40\n",
      "490/490 [==============================] - 3s 6ms/step - loss: 0.1028 - acc: 0.9612 - val_loss: 0.1962 - val_acc: 0.9286\n",
      "Epoch 40/40\n",
      "490/490 [==============================] - 3s 7ms/step - loss: 0.1278 - acc: 0.9633 - val_loss: 0.1423 - val_acc: 0.9429\n"
     ]
    }
   ],
   "source": [
    "EPOCHS = 40\n",
    "history = model.fit(train_data, train_labels, epochs=EPOCHS, validation_data=(test_data, test_labels))"
   ]
  },
  {
   "cell_type": "code",
   "execution_count": 9,
   "metadata": {},
   "outputs": [
    {
     "data": {
      "image/png": "[encoded data removed]",
      "text/plain": [
       "<matplotlib.figure.Figure at 0x188ed22a8d0>"
      ]
     },
     "metadata": {},
     "output_type": "display_data"
    },
    {
     "data": {
      "image/png": "[encoded data removed]",
      "text/plain": [
       "<matplotlib.figure.Figure at 0x188eb018cc0>"
      ]
     },
     "metadata": {},
     "output_type": "display_data"
    }
   ],
   "source": [
    "%run history.py\n",
    "%matplotlib inline\n",
    "\n",
    "plot_accuracy(history)\n",
    "plot_loss(history)"
   ]
  },
  {
   "cell_type": "markdown",
   "metadata": {},
   "source": [
    "## Save the model"
   ]
  },
  {
   "cell_type": "code",
   "execution_count": 18,
   "metadata": {},
   "outputs": [],
   "source": [
    "import datetime\n",
    "\n",
    "dt = datetime.datetime.today().strftime('%Y%m%d%H%M%S')\n",
    "filename = DATASET_FOLDER + '/cnn_for_aed_{}.h5'.format(dt)\n",
    "model.save(filename)"
   ]
  },
  {
   "cell_type": "markdown",
   "metadata": {},
   "source": [
    "## Load the model"
   ]
  },
  {
   "cell_type": "code",
   "execution_count": 19,
   "metadata": {},
   "outputs": [],
   "source": [
    "del model\n",
    "model = models.load_model(filename)"
   ]
  },
  {
   "cell_type": "markdown",
   "metadata": {
    "colab_type": "text",
    "id": "j6con4C3lKC1"
   },
   "source": [
    "## Confirmation"
   ]
  },
  {
   "cell_type": "code",
   "execution_count": 20,
   "metadata": {
    "colab": {
     "base_uri": "https://localhost:8080/",
     "height": 34
    },
    "colab_type": "code",
    "id": "4oZYLLij69wU",
    "outputId": "b37a4b8a-2c80-411f-d8a9-5df1c6dbfe22"
   },
   "outputs": [],
   "source": [
    "import numpy as np\n",
    "import matplotlib.pyplot as plt"
   ]
  },
  {
   "cell_type": "code",
   "execution_count": 21,
   "metadata": {
    "colab": {
     "base_uri": "https://localhost:8080/",
     "height": 193
    },
    "colab_type": "code",
    "id": "zSxXE9FgRBdJ",
    "outputId": "f3a53efe-e99f-4572-f9b4-1bf3c39c77ec"
   },
   "outputs": [],
   "source": [
    "layer_outputs = [layer.output for layer in model.layers]\n",
    "#layer_outputs"
   ]
  },
  {
   "cell_type": "code",
   "execution_count": 14,
   "metadata": {
    "colab": {
     "base_uri": "https://localhost:8080/",
     "height": 34
    },
    "colab_type": "code",
    "id": "dcw7yHKrRkPD",
    "outputId": "a3ed5441-ae48-4635-bf07-ac5060030608"
   },
   "outputs": [],
   "source": [
    "activation_model = models.Model(inputs=model.input, outputs=layer_outputs)\n",
    "activations = activation_model.predict(test_data)\n",
    "#activations[0][0,:,:,0].shape"
   ]
  },
  {
   "cell_type": "code",
   "execution_count": 15,
   "metadata": {},
   "outputs": [
    {
     "data": {
      "text/plain": [
       "['silence', 'train', 'station', 'cafe', 'mall', 'port', 'street']"
      ]
     },
     "execution_count": 15,
     "metadata": {},
     "output_type": "execute_result"
    }
   ],
   "source": [
    "class_labels"
   ]
  },
  {
   "cell_type": "code",
   "execution_count": 16,
   "metadata": {
    "colab": {
     "base_uri": "https://localhost:8080/",
     "height": 193
    },
    "colab_type": "code",
    "id": "ccSNAwGKhRn9",
    "outputId": "0ad22e12-713b-4b07-e17b-45d39ff1b80b"
   },
   "outputs": [
    {
     "data": {
      "text/plain": [
       "array([[ 0,  0,  0,  0,  0,  0, 99],\n",
       "       [ 0,  0,  0,  0,  0,  0, 99],\n",
       "       [ 0,  0,  1, 98,  0,  0,  0],\n",
       "       [99,  0,  0,  0,  0,  0,  0],\n",
       "       [ 0,  0,  0,  0, 99,  0,  0],\n",
       "       [ 0, 75,  0,  0, 24,  0,  0],\n",
       "       [ 0,  0,  0,  0,  0, 99,  0],\n",
       "       [ 0,  0,  0,  0,  0,  0, 99],\n",
       "       [99,  0,  0,  0,  0,  0,  0],\n",
       "       [ 0,  0,  0,  0,  0, 23, 76]])"
      ]
     },
     "execution_count": 16,
     "metadata": {},
     "output_type": "execute_result"
    }
   ],
   "source": [
    "(activations[-1][:10]*100).astype(int)"
   ]
  },
  {
   "cell_type": "code",
   "execution_count": 17,
   "metadata": {
    "colab": {
     "base_uri": "https://localhost:8080/",
     "height": 193
    },
    "colab_type": "code",
    "id": "RoE0nxtuiGIN",
    "outputId": "154437a8-ab72-46f4-f42c-3e6464af47d0",
    "scrolled": true
   },
   "outputs": [
    {
     "data": {
      "text/plain": [
       "array([[0, 0, 0, 0, 0, 0, 1],\n",
       "       [0, 0, 0, 0, 0, 0, 1],\n",
       "       [0, 0, 0, 1, 0, 0, 0],\n",
       "       [1, 0, 0, 0, 0, 0, 0],\n",
       "       [0, 0, 0, 0, 1, 0, 0],\n",
       "       [0, 1, 0, 0, 0, 0, 0],\n",
       "       [0, 0, 0, 0, 0, 1, 0],\n",
       "       [0, 0, 0, 0, 0, 0, 1],\n",
       "       [1, 0, 0, 0, 0, 0, 0],\n",
       "       [0, 0, 0, 0, 0, 0, 1]])"
      ]
     },
     "execution_count": 17,
     "metadata": {},
     "output_type": "execute_result"
    }
   ],
   "source": [
    "test_labels[:10].astype(int)"
   ]
  },
  {
   "cell_type": "code",
   "execution_count": null,
   "metadata": {},
   "outputs": [],
   "source": []
  }
 ],
 "metadata": {
  "colab": {
   "collapsed_sections": [],
   "name": "CNN for AED",
   "provenance": [],
   "version": "0.3.2"
  },
  "kernelspec": {
   "display_name": "Python 3",
   "language": "python",
   "name": "python3"
  },
  "language_info": {
   "codemirror_mode": {
    "name": "ipython",
    "version": 3
   },
   "file_extension": ".py",
   "mimetype": "text/x-python",
   "name": "python",
   "nbconvert_exporter": "python",
   "pygments_lexer": "ipython3",
   "version": "3.6.4"
  }
 },
 "nbformat": 4,
 "nbformat_minor": 1
}
