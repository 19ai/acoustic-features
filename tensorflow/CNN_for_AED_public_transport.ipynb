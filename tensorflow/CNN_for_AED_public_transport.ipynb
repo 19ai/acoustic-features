{
 "cells": [
  {
   "cell_type": "markdown",
   "metadata": {
    "colab_type": "text",
    "id": "0X16cagQE-Y-"
   },
   "source": [
    "# DNN for AED with Keras/TensorFlow\n",
    "\n",
    "Date: November 11, 2018 and February 27, 2019\n",
    "\n",
    "Neural network: input MFCC to DNN"
   ]
  },
  {
   "cell_type": "markdown",
   "metadata": {
    "colab_type": "text",
    "id": "WwQ-dEltkl5Q"
   },
   "source": [
    "## Preparing data set for CNN"
   ]
  },
  {
   "cell_type": "code",
   "execution_count": 54,
   "metadata": {
    "colab": {
     "base_uri": "https://localhost:8080/",
     "height": 34
    },
    "colab_type": "code",
    "id": "VEJyQsGpV3ug",
    "outputId": "3929aa39-3383-4791-e065-3622e6781181"
   },
   "outputs": [
    {
     "data": {
      "text/plain": [
       "<matplotlib.figure.Figure at 0x23ebe6fc550>"
      ]
     },
     "metadata": {},
     "output_type": "display_data"
    }
   ],
   "source": [
    "DATASET_FOLDER = '../dataset/data_environment'\n",
    "\n",
    "%run ../oscilloscope/script/dataset.py\n",
    "\n",
    "ds = DataSet(DATASET_FOLDER)\n",
    "train_data, train_labels, test_data, test_labels = ds.generate(flatten=False)\n",
    "shape = ds.shape\n",
    "class_labels = ds.class_labels"
   ]
  },
  {
   "cell_type": "code",
   "execution_count": 55,
   "metadata": {},
   "outputs": [
    {
     "data": {
      "text/plain": [
       "((420, 64, 40, 1), (180, 64, 40, 1))"
      ]
     },
     "execution_count": 55,
     "metadata": {},
     "output_type": "execute_result"
    },
    {
     "data": {
      "image/png": "[encoded data removed]",
      "text/plain": [
       "<matplotlib.figure.Figure at 0x23ebdd93550>"
      ]
     },
     "metadata": {},
     "output_type": "display_data"
    }
   ],
   "source": [
    "import matplotlib.pyplot as plt\n",
    "%matplotlib inline\n",
    "\n",
    "plt.imshow(np.rot90(train_data[0].reshape(ds.shape)), cmap='seismic')\n",
    "train_data.shape, test_data.shape"
   ]
  },
  {
   "cell_type": "markdown",
   "metadata": {
    "colab_type": "text",
    "id": "VfUmgxxVk6uM"
   },
   "source": [
    "### DNN model"
   ]
  },
  {
   "cell_type": "code",
   "execution_count": 62,
   "metadata": {
    "colab": {
     "base_uri": "https://localhost:8080/",
     "height": 509
    },
    "colab_type": "code",
    "id": "B2Xg6tGLdMKP",
    "outputId": "ae3daa32-9dbf-4d8b-9a11-7f596dd2e4a6"
   },
   "outputs": [
    {
     "name": "stdout",
     "output_type": "stream",
     "text": [
      "_________________________________________________________________\n",
      "Layer (type)                 Output Shape              Param #   \n",
      "=================================================================\n",
      "conv2d_19 (Conv2D)           (None, 62, 38, 4)         40        \n",
      "_________________________________________________________________\n",
      "max_pooling2d_19 (MaxPooling (None, 31, 19, 4)         0         \n",
      "_________________________________________________________________\n",
      "conv2d_20 (Conv2D)           (None, 29, 17, 8)         296       \n",
      "_________________________________________________________________\n",
      "max_pooling2d_20 (MaxPooling (None, 14, 8, 8)          0         \n",
      "_________________________________________________________________\n",
      "conv2d_21 (Conv2D)           (None, 12, 6, 16)         1168      \n",
      "_________________________________________________________________\n",
      "max_pooling2d_21 (MaxPooling (None, 6, 3, 16)          0         \n",
      "_________________________________________________________________\n",
      "flatten_7 (Flatten)          (None, 288)               0         \n",
      "_________________________________________________________________\n",
      "dropout_7 (Dropout)          (None, 288)               0         \n",
      "_________________________________________________________________\n",
      "dense_7 (Dense)              (None, 6)                 1734      \n",
      "=================================================================\n",
      "Total params: 3,238\n",
      "Trainable params: 3,238\n",
      "Non-trainable params: 0\n",
      "_________________________________________________________________\n"
     ]
    }
   ],
   "source": [
    "from keras import layers\n",
    "from keras import models\n",
    "\n",
    "model = models.Sequential()\n",
    "\n",
    "model.add(layers.Conv2D(4, (3, 3), activation='relu', input_shape=(*shape, 1)))\n",
    "model.add(layers.MaxPooling2D((2,2)))\n",
    "\n",
    "model.add(layers.Conv2D(8, (3, 3), activation='relu'))\n",
    "model.add(layers.MaxPooling2D((2,2)))\n",
    "\n",
    "model.add(layers.Conv2D(16, (3, 3), activation='relu'))\n",
    "model.add(layers.MaxPooling2D((2,2)))\n",
    "\n",
    "model.add(layers.Flatten())\n",
    "model.add(layers.Dropout(0.5))\n",
    "model.add(layers.Dense(len(class_labels), activation='softmax'))\n",
    "\n",
    "model.summary()"
   ]
  },
  {
   "cell_type": "code",
   "execution_count": 63,
   "metadata": {
    "colab": {},
    "colab_type": "code",
    "id": "nRr1L_4ogL6i"
   },
   "outputs": [],
   "source": [
    "model.compile(optimizer='rmsprop', loss='categorical_crossentropy', metrics=['accuracy'])"
   ]
  },
  {
   "cell_type": "code",
   "execution_count": 64,
   "metadata": {},
   "outputs": [
    {
     "data": {
      "image/svg+xml": [
       "<svg height=\"702pt\" viewBox=\"0.00 0.00 223.00 702.00\" width=\"223pt\" xmlns=\"http://www.w3.org/2000/svg\" xmlns:xlink=\"http://www.w3.org/1999/xlink\">\n",
       "<g class=\"graph\" id=\"graph0\" transform=\"scale(1 1) rotate(0) translate(4 698)\">\n",
       "<title>G</title>\n",
       "<polygon fill=\"white\" points=\"-4,4 -4,-698 219,-698 219,4 -4,4\" stroke=\"none\"/>\n",
       "<!-- 2468625514792 -->\n",
       "<g class=\"node\" id=\"node1\"><title>2468625514792</title>\n",
       "<polygon fill=\"none\" points=\"40.5,-584.5 40.5,-620.5 174.5,-620.5 174.5,-584.5 40.5,-584.5\" stroke=\"black\"/>\n",
       "<text font-family=\"Times New Roman,serif\" font-size=\"14.00\" text-anchor=\"middle\" x=\"107.5\" y=\"-598.8\">conv2d_19: Conv2D</text>\n",
       "</g>\n",
       "<!-- 2468625517144 -->\n",
       "<g class=\"node\" id=\"node2\"><title>2468625517144</title>\n",
       "<polygon fill=\"none\" points=\"0,-511.5 0,-547.5 215,-547.5 215,-511.5 0,-511.5\" stroke=\"black\"/>\n",
       "<text font-family=\"Times New Roman,serif\" font-size=\"14.00\" text-anchor=\"middle\" x=\"107.5\" y=\"-525.8\">max_pooling2d_19: MaxPooling2D</text>\n",
       "</g>\n",
       "<!-- 2468625514792&#45;&gt;2468625517144 -->\n",
       "<g class=\"edge\" id=\"edge2\"><title>2468625514792-&gt;2468625517144</title>\n",
       "<path d=\"M107.5,-584.313C107.5,-576.289 107.5,-566.547 107.5,-557.569\" fill=\"none\" stroke=\"black\"/>\n",
       "<polygon fill=\"black\" points=\"111,-557.529 107.5,-547.529 104,-557.529 111,-557.529\" stroke=\"black\"/>\n",
       "</g>\n",
       "<!-- 2468625514736 -->\n",
       "<g class=\"node\" id=\"node3\"><title>2468625514736</title>\n",
       "<polygon fill=\"none\" points=\"40.5,-438.5 40.5,-474.5 174.5,-474.5 174.5,-438.5 40.5,-438.5\" stroke=\"black\"/>\n",
       "<text font-family=\"Times New Roman,serif\" font-size=\"14.00\" text-anchor=\"middle\" x=\"107.5\" y=\"-452.8\">conv2d_20: Conv2D</text>\n",
       "</g>\n",
       "<!-- 2468625517144&#45;&gt;2468625514736 -->\n",
       "<g class=\"edge\" id=\"edge3\"><title>2468625517144-&gt;2468625514736</title>\n",
       "<path d=\"M107.5,-511.313C107.5,-503.289 107.5,-493.547 107.5,-484.569\" fill=\"none\" stroke=\"black\"/>\n",
       "<polygon fill=\"black\" points=\"111,-484.529 107.5,-474.529 104,-484.529 111,-484.529\" stroke=\"black\"/>\n",
       "</g>\n",
       "<!-- 2468625695464 -->\n",
       "<g class=\"node\" id=\"node4\"><title>2468625695464</title>\n",
       "<polygon fill=\"none\" points=\"0,-365.5 0,-401.5 215,-401.5 215,-365.5 0,-365.5\" stroke=\"black\"/>\n",
       "<text font-family=\"Times New Roman,serif\" font-size=\"14.00\" text-anchor=\"middle\" x=\"107.5\" y=\"-379.8\">max_pooling2d_20: MaxPooling2D</text>\n",
       "</g>\n",
       "<!-- 2468625514736&#45;&gt;2468625695464 -->\n",
       "<g class=\"edge\" id=\"edge4\"><title>2468625514736-&gt;2468625695464</title>\n",
       "<path d=\"M107.5,-438.313C107.5,-430.289 107.5,-420.547 107.5,-411.569\" fill=\"none\" stroke=\"black\"/>\n",
       "<polygon fill=\"black\" points=\"111,-411.529 107.5,-401.529 104,-411.529 111,-411.529\" stroke=\"black\"/>\n",
       "</g>\n",
       "<!-- 2468625040944 -->\n",
       "<g class=\"node\" id=\"node5\"><title>2468625040944</title>\n",
       "<polygon fill=\"none\" points=\"40.5,-292.5 40.5,-328.5 174.5,-328.5 174.5,-292.5 40.5,-292.5\" stroke=\"black\"/>\n",
       "<text font-family=\"Times New Roman,serif\" font-size=\"14.00\" text-anchor=\"middle\" x=\"107.5\" y=\"-306.8\">conv2d_21: Conv2D</text>\n",
       "</g>\n",
       "<!-- 2468625695464&#45;&gt;2468625040944 -->\n",
       "<g class=\"edge\" id=\"edge5\"><title>2468625695464-&gt;2468625040944</title>\n",
       "<path d=\"M107.5,-365.313C107.5,-357.289 107.5,-347.547 107.5,-338.569\" fill=\"none\" stroke=\"black\"/>\n",
       "<polygon fill=\"black\" points=\"111,-338.529 107.5,-328.529 104,-338.529 111,-338.529\" stroke=\"black\"/>\n",
       "</g>\n",
       "<!-- 2468625775752 -->\n",
       "<g class=\"node\" id=\"node6\"><title>2468625775752</title>\n",
       "<polygon fill=\"none\" points=\"0,-219.5 0,-255.5 215,-255.5 215,-219.5 0,-219.5\" stroke=\"black\"/>\n",
       "<text font-family=\"Times New Roman,serif\" font-size=\"14.00\" text-anchor=\"middle\" x=\"107.5\" y=\"-233.8\">max_pooling2d_21: MaxPooling2D</text>\n",
       "</g>\n",
       "<!-- 2468625040944&#45;&gt;2468625775752 -->\n",
       "<g class=\"edge\" id=\"edge6\"><title>2468625040944-&gt;2468625775752</title>\n",
       "<path d=\"M107.5,-292.313C107.5,-284.289 107.5,-274.547 107.5,-265.569\" fill=\"none\" stroke=\"black\"/>\n",
       "<polygon fill=\"black\" points=\"111,-265.529 107.5,-255.529 104,-265.529 111,-265.529\" stroke=\"black\"/>\n",
       "</g>\n",
       "<!-- 2468625696920 -->\n",
       "<g class=\"node\" id=\"node7\"><title>2468625696920</title>\n",
       "<polygon fill=\"none\" points=\"53,-146.5 53,-182.5 162,-182.5 162,-146.5 53,-146.5\" stroke=\"black\"/>\n",
       "<text font-family=\"Times New Roman,serif\" font-size=\"14.00\" text-anchor=\"middle\" x=\"107.5\" y=\"-160.8\">flatten_7: Flatten</text>\n",
       "</g>\n",
       "<!-- 2468625775752&#45;&gt;2468625696920 -->\n",
       "<g class=\"edge\" id=\"edge7\"><title>2468625775752-&gt;2468625696920</title>\n",
       "<path d=\"M107.5,-219.313C107.5,-211.289 107.5,-201.547 107.5,-192.569\" fill=\"none\" stroke=\"black\"/>\n",
       "<polygon fill=\"black\" points=\"111,-192.529 107.5,-182.529 104,-192.529 111,-192.529\" stroke=\"black\"/>\n",
       "</g>\n",
       "<!-- 2468625840952 -->\n",
       "<g class=\"node\" id=\"node8\"><title>2468625840952</title>\n",
       "<polygon fill=\"none\" points=\"42.5,-73.5 42.5,-109.5 172.5,-109.5 172.5,-73.5 42.5,-73.5\" stroke=\"black\"/>\n",
       "<text font-family=\"Times New Roman,serif\" font-size=\"14.00\" text-anchor=\"middle\" x=\"107.5\" y=\"-87.8\">dropout_7: Dropout</text>\n",
       "</g>\n",
       "<!-- 2468625696920&#45;&gt;2468625840952 -->\n",
       "<g class=\"edge\" id=\"edge8\"><title>2468625696920-&gt;2468625840952</title>\n",
       "<path d=\"M107.5,-146.313C107.5,-138.289 107.5,-128.547 107.5,-119.569\" fill=\"none\" stroke=\"black\"/>\n",
       "<polygon fill=\"black\" points=\"111,-119.529 107.5,-109.529 104,-119.529 111,-119.529\" stroke=\"black\"/>\n",
       "</g>\n",
       "<!-- 2468625841008 -->\n",
       "<g class=\"node\" id=\"node9\"><title>2468625841008</title>\n",
       "<polygon fill=\"none\" points=\"55.5,-0.5 55.5,-36.5 159.5,-36.5 159.5,-0.5 55.5,-0.5\" stroke=\"black\"/>\n",
       "<text font-family=\"Times New Roman,serif\" font-size=\"14.00\" text-anchor=\"middle\" x=\"107.5\" y=\"-14.8\">dense_7: Dense</text>\n",
       "</g>\n",
       "<!-- 2468625840952&#45;&gt;2468625841008 -->\n",
       "<g class=\"edge\" id=\"edge9\"><title>2468625840952-&gt;2468625841008</title>\n",
       "<path d=\"M107.5,-73.3129C107.5,-65.2895 107.5,-55.5475 107.5,-46.5691\" fill=\"none\" stroke=\"black\"/>\n",
       "<polygon fill=\"black\" points=\"111,-46.5288 107.5,-36.5288 104,-46.5289 111,-46.5288\" stroke=\"black\"/>\n",
       "</g>\n",
       "<!-- 2468625517032 -->\n",
       "<g class=\"node\" id=\"node10\"><title>2468625517032</title>\n",
       "<polygon fill=\"none\" points=\"55.5,-657.5 55.5,-693.5 159.5,-693.5 159.5,-657.5 55.5,-657.5\" stroke=\"black\"/>\n",
       "<text font-family=\"Times New Roman,serif\" font-size=\"14.00\" text-anchor=\"middle\" x=\"107.5\" y=\"-671.8\">2468625517032</text>\n",
       "</g>\n",
       "<!-- 2468625517032&#45;&gt;2468625514792 -->\n",
       "<g class=\"edge\" id=\"edge1\"><title>2468625517032-&gt;2468625514792</title>\n",
       "<path d=\"M107.5,-657.313C107.5,-649.289 107.5,-639.547 107.5,-630.569\" fill=\"none\" stroke=\"black\"/>\n",
       "<polygon fill=\"black\" points=\"111,-630.529 107.5,-620.529 104,-630.529 111,-630.529\" stroke=\"black\"/>\n",
       "</g>\n",
       "</g>\n",
       "</svg>"
      ],
      "text/plain": [
       "<IPython.core.display.SVG object>"
      ]
     },
     "execution_count": 64,
     "metadata": {},
     "output_type": "execute_result"
    }
   ],
   "source": [
    "from IPython.display import SVG\n",
    "from keras.utils.vis_utils import model_to_dot\n",
    "\n",
    "SVG(model_to_dot(model).create(prog='dot', format='svg'))"
   ]
  },
  {
   "cell_type": "markdown",
   "metadata": {
    "colab_type": "text",
    "id": "TfypWUJIlFkz"
   },
   "source": [
    "## Training CNN"
   ]
  },
  {
   "cell_type": "code",
   "execution_count": 65,
   "metadata": {
    "colab": {
     "base_uri": "https://localhost:8080/",
     "height": 931
    },
    "colab_type": "code",
    "id": "zsdmu-ggfvr1",
    "outputId": "77a52558-8ecc-4fc5-e0cb-2b86a75df4c6",
    "scrolled": false
   },
   "outputs": [
    {
     "name": "stdout",
     "output_type": "stream",
     "text": [
      "Train on 420 samples, validate on 180 samples\n",
      "Epoch 1/30\n",
      "420/420 [==============================] - 3s 7ms/step - loss: 1.7572 - acc: 0.2476 - val_loss: 1.6304 - val_acc: 0.4389\n",
      "Epoch 2/30\n",
      "420/420 [==============================] - 2s 5ms/step - loss: 1.5941 - acc: 0.3714 - val_loss: 1.4160 - val_acc: 0.6722\n",
      "Epoch 3/30\n",
      "420/420 [==============================] - 2s 5ms/step - loss: 1.3611 - acc: 0.4810 - val_loss: 1.1691 - val_acc: 0.6500\n",
      "Epoch 4/30\n",
      "420/420 [==============================] - 2s 5ms/step - loss: 1.1690 - acc: 0.5667 - val_loss: 1.0027 - val_acc: 0.6333\n",
      "Epoch 5/30\n",
      "420/420 [==============================] - 2s 6ms/step - loss: 1.0866 - acc: 0.5857 - val_loss: 0.8887 - val_acc: 0.6556\n",
      "Epoch 6/30\n",
      "420/420 [==============================] - 2s 5ms/step - loss: 0.9618 - acc: 0.6405 - val_loss: 0.7973 - val_acc: 0.7444\n",
      "Epoch 7/30\n",
      "420/420 [==============================] - 2s 6ms/step - loss: 0.9111 - acc: 0.6571 - val_loss: 0.7567 - val_acc: 0.7389\n",
      "Epoch 8/30\n",
      "420/420 [==============================] - 2s 5ms/step - loss: 0.8641 - acc: 0.6619 - val_loss: 0.7299 - val_acc: 0.6944\n",
      "Epoch 9/30\n",
      "420/420 [==============================] - 2s 6ms/step - loss: 0.7944 - acc: 0.6857 - val_loss: 0.6790 - val_acc: 0.7389\n",
      "Epoch 10/30\n",
      "420/420 [==============================] - 2s 5ms/step - loss: 0.7072 - acc: 0.7095 - val_loss: 0.6209 - val_acc: 0.7500\n",
      "Epoch 11/30\n",
      "420/420 [==============================] - 3s 6ms/step - loss: 0.7128 - acc: 0.7048 - val_loss: 0.5986 - val_acc: 0.7278\n",
      "Epoch 12/30\n",
      "420/420 [==============================] - 2s 6ms/step - loss: 0.6209 - acc: 0.7548 - val_loss: 0.5446 - val_acc: 0.8222\n",
      "Epoch 13/30\n",
      "420/420 [==============================] - 2s 5ms/step - loss: 0.6765 - acc: 0.7214 - val_loss: 0.5277 - val_acc: 0.7889\n",
      "Epoch 14/30\n",
      "420/420 [==============================] - 2s 5ms/step - loss: 0.5604 - acc: 0.7929 - val_loss: 0.4989 - val_acc: 0.7722\n",
      "Epoch 15/30\n",
      "420/420 [==============================] - 2s 5ms/step - loss: 0.5513 - acc: 0.7976 - val_loss: 0.4902 - val_acc: 0.8000\n",
      "Epoch 16/30\n",
      "420/420 [==============================] - 2s 5ms/step - loss: 0.5202 - acc: 0.7976 - val_loss: 0.5201 - val_acc: 0.7889\n",
      "Epoch 17/30\n",
      "420/420 [==============================] - 2s 5ms/step - loss: 0.4788 - acc: 0.8095 - val_loss: 0.4347 - val_acc: 0.8167\n",
      "Epoch 18/30\n",
      "420/420 [==============================] - 3s 6ms/step - loss: 0.4876 - acc: 0.8048 - val_loss: 0.4120 - val_acc: 0.8500\n",
      "Epoch 19/30\n",
      "420/420 [==============================] - 2s 5ms/step - loss: 0.4264 - acc: 0.8310 - val_loss: 0.4148 - val_acc: 0.8611\n",
      "Epoch 20/30\n",
      "420/420 [==============================] - 2s 5ms/step - loss: 0.4251 - acc: 0.8476 - val_loss: 0.3979 - val_acc: 0.8611\n",
      "Epoch 21/30\n",
      "420/420 [==============================] - 2s 5ms/step - loss: 0.3809 - acc: 0.8548 - val_loss: 0.3827 - val_acc: 0.8611\n",
      "Epoch 22/30\n",
      "420/420 [==============================] - 2s 5ms/step - loss: 0.3877 - acc: 0.8524 - val_loss: 0.3841 - val_acc: 0.8500\n",
      "Epoch 23/30\n",
      "420/420 [==============================] - 2s 5ms/step - loss: 0.3589 - acc: 0.8619 - val_loss: 0.4016 - val_acc: 0.8444\n",
      "Epoch 24/30\n",
      "420/420 [==============================] - 2s 6ms/step - loss: 0.3310 - acc: 0.8833 - val_loss: 0.3806 - val_acc: 0.8500\n",
      "Epoch 25/30\n",
      "420/420 [==============================] - 2s 6ms/step - loss: 0.3189 - acc: 0.8786 - val_loss: 0.3189 - val_acc: 0.8667\n",
      "Epoch 26/30\n",
      "420/420 [==============================] - 2s 5ms/step - loss: 0.2848 - acc: 0.9071 - val_loss: 0.3950 - val_acc: 0.7944\n",
      "Epoch 27/30\n",
      "420/420 [==============================] - 2s 5ms/step - loss: 0.3113 - acc: 0.8786 - val_loss: 0.3578 - val_acc: 0.8722\n",
      "Epoch 28/30\n",
      "420/420 [==============================] - 3s 6ms/step - loss: 0.3172 - acc: 0.8548 - val_loss: 0.3756 - val_acc: 0.8444\n",
      "Epoch 29/30\n",
      "420/420 [==============================] - 2s 5ms/step - loss: 0.2849 - acc: 0.8881 - val_loss: 0.3440 - val_acc: 0.8667\n",
      "Epoch 30/30\n",
      "420/420 [==============================] - 2s 6ms/step - loss: 0.2625 - acc: 0.9024 - val_loss: 0.2747 - val_acc: 0.8833\n"
     ]
    }
   ],
   "source": [
    "EPOCHS = 30\n",
    "history = model.fit(train_data, train_labels, epochs=EPOCHS, validation_data=(test_data, test_labels))"
   ]
  },
  {
   "cell_type": "code",
   "execution_count": 66,
   "metadata": {},
   "outputs": [
    {
     "data": {
      "image/png": "[encoded data removed]",
      "text/plain": [
       "<matplotlib.figure.Figure at 0x23ec585ab38>"
      ]
     },
     "metadata": {},
     "output_type": "display_data"
    },
    {
     "data": {
      "image/png": "[encoded data removed]",
      "text/plain": [
       "<matplotlib.figure.Figure at 0x23ec4fc8908>"
      ]
     },
     "metadata": {},
     "output_type": "display_data"
    }
   ],
   "source": [
    "%run history.py\n",
    "%matplotlib inline\n",
    "\n",
    "plot_accuracy(history)\n",
    "plot_loss(history)"
   ]
  },
  {
   "cell_type": "markdown",
   "metadata": {},
   "source": [
    "## Save the model"
   ]
  },
  {
   "cell_type": "code",
   "execution_count": 67,
   "metadata": {},
   "outputs": [],
   "source": [
    "import datetime\n",
    "\n",
    "dt = datetime.datetime.today().strftime('%Y%m%d%H%M%S')\n",
    "filename = DATASET_FOLDER + '/cnn_for_aed_{}.h5'.format(dt)\n",
    "model.save(filename)"
   ]
  },
  {
   "cell_type": "markdown",
   "metadata": {},
   "source": [
    "## Load the model"
   ]
  },
  {
   "cell_type": "code",
   "execution_count": 68,
   "metadata": {},
   "outputs": [],
   "source": [
    "del model\n",
    "model = models.load_model(filename)"
   ]
  },
  {
   "cell_type": "markdown",
   "metadata": {
    "colab_type": "text",
    "id": "j6con4C3lKC1"
   },
   "source": [
    "## Confirmation"
   ]
  },
  {
   "cell_type": "code",
   "execution_count": 69,
   "metadata": {
    "colab": {
     "base_uri": "https://localhost:8080/",
     "height": 34
    },
    "colab_type": "code",
    "id": "4oZYLLij69wU",
    "outputId": "b37a4b8a-2c80-411f-d8a9-5df1c6dbfe22"
   },
   "outputs": [],
   "source": [
    "import numpy as np\n",
    "import matplotlib.pyplot as plt"
   ]
  },
  {
   "cell_type": "code",
   "execution_count": 70,
   "metadata": {
    "colab": {
     "base_uri": "https://localhost:8080/",
     "height": 193
    },
    "colab_type": "code",
    "id": "zSxXE9FgRBdJ",
    "outputId": "f3a53efe-e99f-4572-f9b4-1bf3c39c77ec"
   },
   "outputs": [],
   "source": [
    "layer_outputs = [layer.output for layer in model.layers]\n",
    "#layer_outputs"
   ]
  },
  {
   "cell_type": "code",
   "execution_count": 71,
   "metadata": {
    "colab": {
     "base_uri": "https://localhost:8080/",
     "height": 34
    },
    "colab_type": "code",
    "id": "dcw7yHKrRkPD",
    "outputId": "a3ed5441-ae48-4635-bf07-ac5060030608"
   },
   "outputs": [],
   "source": [
    "activation_model = models.Model(inputs=model.input, outputs=layer_outputs)\n",
    "activations = activation_model.predict(test_data)\n",
    "#activations[0][0,:,:,0].shape"
   ]
  },
  {
   "cell_type": "code",
   "execution_count": 72,
   "metadata": {},
   "outputs": [
    {
     "data": {
      "text/plain": [
       "['train_tokyu_1',\n",
       " 'yokohama_station_tokyu',\n",
       " 'mcdonalds',\n",
       " 'landmark_tower_mall',\n",
       " 'yokohama_port',\n",
       " 'street']"
      ]
     },
     "execution_count": 72,
     "metadata": {},
     "output_type": "execute_result"
    }
   ],
   "source": [
    "class_labels"
   ]
  },
  {
   "cell_type": "code",
   "execution_count": 73,
   "metadata": {
    "colab": {
     "base_uri": "https://localhost:8080/",
     "height": 193
    },
    "colab_type": "code",
    "id": "ccSNAwGKhRn9",
    "outputId": "0ad22e12-713b-4b07-e17b-45d39ff1b80b"
   },
   "outputs": [
    {
     "data": {
      "text/plain": [
       "array([[ 1,  0,  0,  0, 89,  8],\n",
       "       [98,  1,  0,  0,  0,  0],\n",
       "       [13,  0, 85,  0,  0,  0],\n",
       "       [ 1,  0,  0, 98,  0,  0],\n",
       "       [83,  0,  1,  0,  5,  8],\n",
       "       [ 0,  0,  0, 99,  0,  0],\n",
       "       [ 0,  0,  0,  0, 82, 17],\n",
       "       [ 1,  0, 98,  0,  0,  0],\n",
       "       [ 5, 93,  0,  0,  0,  0],\n",
       "       [37, 58,  0,  0,  0,  3]])"
      ]
     },
     "execution_count": 73,
     "metadata": {},
     "output_type": "execute_result"
    }
   ],
   "source": [
    "(activations[-1][:10]*100).astype(int)"
   ]
  },
  {
   "cell_type": "code",
   "execution_count": 74,
   "metadata": {
    "colab": {
     "base_uri": "https://localhost:8080/",
     "height": 193
    },
    "colab_type": "code",
    "id": "RoE0nxtuiGIN",
    "outputId": "154437a8-ab72-46f4-f42c-3e6464af47d0",
    "scrolled": true
   },
   "outputs": [
    {
     "data": {
      "text/plain": [
       "array([[0, 0, 0, 0, 1, 0],\n",
       "       [1, 0, 0, 0, 0, 0],\n",
       "       [0, 0, 1, 0, 0, 0],\n",
       "       [0, 0, 0, 1, 0, 0],\n",
       "       [1, 0, 0, 0, 0, 0],\n",
       "       [0, 0, 0, 1, 0, 0],\n",
       "       [0, 0, 0, 0, 1, 0],\n",
       "       [0, 0, 1, 0, 0, 0],\n",
       "       [0, 1, 0, 0, 0, 0],\n",
       "       [1, 0, 0, 0, 0, 0]])"
      ]
     },
     "execution_count": 74,
     "metadata": {},
     "output_type": "execute_result"
    }
   ],
   "source": [
    "test_labels[:10].astype(int)"
   ]
  },
  {
   "cell_type": "code",
   "execution_count": null,
   "metadata": {},
   "outputs": [],
   "source": []
  }
 ],
 "metadata": {
  "colab": {
   "collapsed_sections": [],
   "name": "CNN for AED",
   "provenance": [],
   "version": "0.3.2"
  },
  "kernelspec": {
   "display_name": "Python 3",
   "language": "python",
   "name": "python3"
  },
  "language_info": {
   "codemirror_mode": {
    "name": "ipython",
    "version": 3
   },
   "file_extension": ".py",
   "mimetype": "text/x-python",
   "name": "python",
   "nbconvert_exporter": "python",
   "pygments_lexer": "ipython3",
   "version": "3.6.4"
  }
 },
 "nbformat": 4,
 "nbformat_minor": 1
}
