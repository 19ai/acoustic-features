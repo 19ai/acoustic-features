{
 "cells": [
  {
   "cell_type": "markdown",
   "metadata": {
    "colab_type": "text",
    "id": "0X16cagQE-Y-"
   },
   "source": [
    "# CNN for AED with Keras/TensorFlow (restaurant)\n",
    "\n",
    "Date: Nov 19, 2018\n",
    "\n",
    "Speech recognition with Keras/TensorFlow\n",
    "\n",
    "Data acquisition: living room\n",
    "\n",
    "Feature set: MFCCs"
   ]
  },
  {
   "cell_type": "markdown",
   "metadata": {
    "colab_type": "text",
    "id": "WwQ-dEltkl5Q"
   },
   "source": [
    "## Preparing data set for CNN"
   ]
  },
  {
   "cell_type": "code",
   "execution_count": 1,
   "metadata": {
    "colab": {
     "base_uri": "https://localhost:8080/",
     "height": 34
    },
    "colab_type": "code",
    "id": "VEJyQsGpV3ug",
    "outputId": "3929aa39-3383-4791-e065-3622e6781181"
   },
   "outputs": [],
   "source": [
    "DATA_FOLDER = '../oscilloscope/data_restaurant/'\n",
    "\n",
    "FILTERS=40\n",
    "FILES = 30\n",
    "TRAINING_FILES = 20\n",
    "TEST_FILES = FILES - TRAINING_FILES"
   ]
  },
  {
   "cell_type": "code",
   "execution_count": 2,
   "metadata": {
    "colab": {},
    "colab_type": "code",
    "id": "JTNdoPBFWGky"
   },
   "outputs": [],
   "source": [
    "%matplotlib inline\n",
    "\n",
    "import matplotlib.pyplot as plt\n",
    "import numpy as np\n",
    "import time\n",
    "import random\n",
    "import os\n",
    "import sklearn.preprocessing as pp"
   ]
  },
  {
   "cell_type": "code",
   "execution_count": 3,
   "metadata": {},
   "outputs": [
    {
     "name": "stdout",
     "output_type": "stream",
     "text": [
      "0: mazui\n",
      "1: oishii\n",
      "2: others\n",
      "3: umai\n"
     ]
    },
    {
     "data": {
      "text/plain": [
       "(80, ['mazui', 'oishii', 'others', 'umai'])"
      ]
     },
     "execution_count": 3,
     "metadata": {},
     "output_type": "execute_result"
    }
   ],
   "source": [
    "import glob\n",
    "\n",
    "data_files = glob.glob(DATA_FOLDER+'*mfcc*.csv')\n",
    "class_labels = []\n",
    "\n",
    "for file in data_files:\n",
    "    label = file.split('-')[0].replace('\\\\', '/').split('/')[-1]\n",
    "    if label not in class_labels:\n",
    "        class_labels.append(label)\n",
    "\n",
    "data_set = {}\n",
    "\n",
    "class_number = 0\n",
    "\n",
    "for label in class_labels:\n",
    "    files = glob.glob(DATA_FOLDER+'{}-*mfcc*.csv'.format(label))\n",
    "    random.shuffle(files)\n",
    "    data_set[label] = (files[:TRAINING_FILES], files[TRAINING_FILES:FILES], class_number)\n",
    "    class_number += 1\n",
    "\n",
    "training_set = []\n",
    "test_set = []\n",
    "\n",
    "LENGTH=96\n",
    "\n",
    "for k, v in data_set.items():\n",
    "    files = v[0]\n",
    "    class_number = v[2]\n",
    "    for file in files:\n",
    "        with open(file) as f:\n",
    "            data = np.array(f.read().split(',')).astype(float)\n",
    "            img1 = pp.scale(data[:FILTERS*LENGTH])\n",
    "            training_set.append((img1, class_number))\n",
    "    files = v[1]\n",
    "    for file in files:\n",
    "        with open(file) as f:\n",
    "            data = np.array(f.read().split(',')).astype(float)\n",
    "            img1 = pp.scale(data[:FILTERS*LENGTH])\n",
    "            test_set.append((img1, class_number))\n",
    "\n",
    "random.shuffle(training_set)\n",
    "random.shuffle(test_set)\n",
    "\n",
    "class_labels = [None for _ in range(len(data_set))]\n",
    "\n",
    "# Class number and class labels\n",
    "for k,v in data_set.items():\n",
    "    print('{}: {}'.format(v[2],k ))\n",
    "    class_labels[v[2]] = k\n",
    "\n",
    "import yaml\n",
    "with open(DATA_FOLDER+'class_labels.yaml', 'w') as f:\n",
    "    yaml.dump(class_labels, f)\n",
    "\n",
    "len(training_set), class_labels"
   ]
  },
  {
   "cell_type": "code",
   "execution_count": 4,
   "metadata": {
    "colab": {},
    "colab_type": "code",
    "id": "28tIKkNyW3cO"
   },
   "outputs": [
    {
     "name": "stderr",
     "output_type": "stream",
     "text": [
      "C:\\Users\\shiny\\Anaconda3\\lib\\site-packages\\h5py\\__init__.py:36: FutureWarning: Conversion of the second argument of issubdtype from `float` to `np.floating` is deprecated. In future, it will be treated as `np.float64 == np.dtype(float).type`.\n",
      "  from ._conv import register_converters as _register_converters\n",
      "Using TensorFlow backend.\n"
     ]
    },
    {
     "data": {
      "text/plain": [
       "<matplotlib.image.AxesImage at 0x160547f5c88>"
      ]
     },
     "execution_count": 4,
     "metadata": {},
     "output_type": "execute_result"
    },
    {
     "data": {
      "image/png": "[encoded data removed]",
      "text/plain": [
       "<matplotlib.figure.Figure at 0x1604f4f3ef0>"
      ]
     },
     "metadata": {},
     "output_type": "display_data"
    }
   ],
   "source": [
    "train_data, train_labels = [], []\n",
    "test_data, test_labels = [], []\n",
    "for img, label in training_set:\n",
    "    train_data.append(img)\n",
    "    train_labels.append(label)\n",
    "for img, label in test_set:\n",
    "    test_data.append(img)\n",
    "    test_labels.append(label)\n",
    "train_data = np.array(train_data, dtype='float32').reshape((TRAINING_FILES*len(class_labels), LENGTH, FILTERS, 1))\n",
    "train_data = train_data[:,:,:12,:]\n",
    "\n",
    "train_labels = np.array(train_labels, dtype='uint8')\n",
    "test_data = np.array(test_data, dtype='float32').reshape((TEST_FILES*len(class_labels), LENGTH, FILTERS, 1))\n",
    "test_data = test_data[:,:,:12,:]\n",
    "\n",
    "test_lables = np.array(test_labels, dtype='uint8')\n",
    "#train_data.shape\n",
    "\n",
    "from keras.utils import to_categorical\n",
    "\n",
    "train_labels=to_categorical(train_labels)\n",
    "test_labels=to_categorical(test_labels)\n",
    "\n",
    "plt.imshow(np.rot90(train_data[20 ,:,:,0]))"
   ]
  },
  {
   "cell_type": "markdown",
   "metadata": {
    "colab_type": "text",
    "id": "VfUmgxxVk6uM"
   },
   "source": [
    "### CNN model"
   ]
  },
  {
   "cell_type": "code",
   "execution_count": 5,
   "metadata": {
    "colab": {
     "base_uri": "https://localhost:8080/",
     "height": 509
    },
    "colab_type": "code",
    "id": "B2Xg6tGLdMKP",
    "outputId": "ae3daa32-9dbf-4d8b-9a11-7f596dd2e4a6"
   },
   "outputs": [
    {
     "name": "stdout",
     "output_type": "stream",
     "text": [
      "_________________________________________________________________\n",
      "Layer (type)                 Output Shape              Param #   \n",
      "=================================================================\n",
      "conv2d_1 (Conv2D)            (None, 94, 10, 8)         80        \n",
      "_________________________________________________________________\n",
      "max_pooling2d_1 (MaxPooling2 (None, 47, 10, 8)         0         \n",
      "_________________________________________________________________\n",
      "conv2d_2 (Conv2D)            (None, 45, 8, 16)         1168      \n",
      "_________________________________________________________________\n",
      "max_pooling2d_2 (MaxPooling2 (None, 22, 8, 16)         0         \n",
      "_________________________________________________________________\n",
      "conv2d_3 (Conv2D)            (None, 20, 6, 32)         4640      \n",
      "_________________________________________________________________\n",
      "max_pooling2d_3 (MaxPooling2 (None, 10, 6, 32)         0         \n",
      "_________________________________________________________________\n",
      "conv2d_4 (Conv2D)            (None, 8, 4, 64)          18496     \n",
      "_________________________________________________________________\n",
      "max_pooling2d_4 (MaxPooling2 (None, 4, 2, 64)          0         \n",
      "_________________________________________________________________\n",
      "flatten_1 (Flatten)          (None, 512)               0         \n",
      "_________________________________________________________________\n",
      "dense_1 (Dense)              (None, 64)                32832     \n",
      "_________________________________________________________________\n",
      "dropout_1 (Dropout)          (None, 64)                0         \n",
      "_________________________________________________________________\n",
      "dense_2 (Dense)              (None, 4)                 260       \n",
      "=================================================================\n",
      "Total params: 57,476\n",
      "Trainable params: 57,476\n",
      "Non-trainable params: 0\n",
      "_________________________________________________________________\n"
     ]
    }
   ],
   "source": [
    "from keras import layers\n",
    "from keras import models\n",
    "\n",
    "model = models.Sequential()\n",
    "\n",
    "model.add(layers.Conv2D(8, (3, 3), activation='relu', input_shape=(LENGTH, 12, 1)))\n",
    "model.add(layers.MaxPooling2D((2,1)))\n",
    "\n",
    "model.add(layers.Conv2D(16, (3, 3), activation='relu'))\n",
    "model.add(layers.MaxPooling2D((2,1)))\n",
    "\n",
    "model.add(layers.Conv2D(32, (3, 3), activation='relu'))\n",
    "model.add(layers.MaxPooling2D((2,1)))\n",
    "\n",
    "model.add(layers.Conv2D(64, (3, 3), activation='relu'))\n",
    "model.add(layers.MaxPooling2D((2,2)))\n",
    "\n",
    "model.add(layers.Flatten())\n",
    "model.add(layers.Dense(64, activation='relu'))\n",
    "model.add(layers.Dropout(0.5))\n",
    "model.add(layers.Dense(4, activation='softmax'))\n",
    "\n",
    "model.summary()"
   ]
  },
  {
   "cell_type": "code",
   "execution_count": 6,
   "metadata": {
    "colab": {},
    "colab_type": "code",
    "id": "nRr1L_4ogL6i"
   },
   "outputs": [],
   "source": [
    "model.compile(optimizer='rmsprop', loss='categorical_crossentropy', metrics=['accuracy'])"
   ]
  },
  {
   "cell_type": "code",
   "execution_count": 7,
   "metadata": {},
   "outputs": [
    {
     "data": {
      "image/svg+xml": [
       "<svg height=\"921pt\" viewBox=\"0.00 0.00 217.00 921.00\" width=\"217pt\" xmlns=\"http://www.w3.org/2000/svg\" xmlns:xlink=\"http://www.w3.org/1999/xlink\">\n",
       "<g class=\"graph\" id=\"graph0\" transform=\"scale(1 1) rotate(0) translate(4 917)\">\n",
       "<title>G</title>\n",
       "<polygon fill=\"white\" points=\"-4,4 -4,-917 213,-917 213,4 -4,4\" stroke=\"none\"/>\n",
       "<!-- 1513246548824 -->\n",
       "<g class=\"node\" id=\"node1\"><title>1513246548824</title>\n",
       "<polygon fill=\"none\" points=\"41,-803.5 41,-839.5 168,-839.5 168,-803.5 41,-803.5\" stroke=\"black\"/>\n",
       "<text font-family=\"Times New Roman,serif\" font-size=\"14.00\" text-anchor=\"middle\" x=\"104.5\" y=\"-817.8\">conv2d_1: Conv2D</text>\n",
       "</g>\n",
       "<!-- 1513246549496 -->\n",
       "<g class=\"node\" id=\"node2\"><title>1513246549496</title>\n",
       "<polygon fill=\"none\" points=\"0,-730.5 0,-766.5 209,-766.5 209,-730.5 0,-730.5\" stroke=\"black\"/>\n",
       "<text font-family=\"Times New Roman,serif\" font-size=\"14.00\" text-anchor=\"middle\" x=\"104.5\" y=\"-744.8\">max_pooling2d_1: MaxPooling2D</text>\n",
       "</g>\n",
       "<!-- 1513246548824&#45;&gt;1513246549496 -->\n",
       "<g class=\"edge\" id=\"edge2\"><title>1513246548824-&gt;1513246549496</title>\n",
       "<path d=\"M104.5,-803.313C104.5,-795.289 104.5,-785.547 104.5,-776.569\" fill=\"none\" stroke=\"black\"/>\n",
       "<polygon fill=\"black\" points=\"108,-776.529 104.5,-766.529 101,-776.529 108,-776.529\" stroke=\"black\"/>\n",
       "</g>\n",
       "<!-- 1513243583096 -->\n",
       "<g class=\"node\" id=\"node3\"><title>1513243583096</title>\n",
       "<polygon fill=\"none\" points=\"41,-657.5 41,-693.5 168,-693.5 168,-657.5 41,-657.5\" stroke=\"black\"/>\n",
       "<text font-family=\"Times New Roman,serif\" font-size=\"14.00\" text-anchor=\"middle\" x=\"104.5\" y=\"-671.8\">conv2d_2: Conv2D</text>\n",
       "</g>\n",
       "<!-- 1513246549496&#45;&gt;1513243583096 -->\n",
       "<g class=\"edge\" id=\"edge3\"><title>1513246549496-&gt;1513243583096</title>\n",
       "<path d=\"M104.5,-730.313C104.5,-722.289 104.5,-712.547 104.5,-703.569\" fill=\"none\" stroke=\"black\"/>\n",
       "<polygon fill=\"black\" points=\"108,-703.529 104.5,-693.529 101,-703.529 108,-703.529\" stroke=\"black\"/>\n",
       "</g>\n",
       "<!-- 1513246660704 -->\n",
       "<g class=\"node\" id=\"node4\"><title>1513246660704</title>\n",
       "<polygon fill=\"none\" points=\"0,-584.5 0,-620.5 209,-620.5 209,-584.5 0,-584.5\" stroke=\"black\"/>\n",
       "<text font-family=\"Times New Roman,serif\" font-size=\"14.00\" text-anchor=\"middle\" x=\"104.5\" y=\"-598.8\">max_pooling2d_2: MaxPooling2D</text>\n",
       "</g>\n",
       "<!-- 1513243583096&#45;&gt;1513246660704 -->\n",
       "<g class=\"edge\" id=\"edge4\"><title>1513243583096-&gt;1513246660704</title>\n",
       "<path d=\"M104.5,-657.313C104.5,-649.289 104.5,-639.547 104.5,-630.569\" fill=\"none\" stroke=\"black\"/>\n",
       "<polygon fill=\"black\" points=\"108,-630.529 104.5,-620.529 101,-630.529 108,-630.529\" stroke=\"black\"/>\n",
       "</g>\n",
       "<!-- 1513246551904 -->\n",
       "<g class=\"node\" id=\"node5\"><title>1513246551904</title>\n",
       "<polygon fill=\"none\" points=\"41,-511.5 41,-547.5 168,-547.5 168,-511.5 41,-511.5\" stroke=\"black\"/>\n",
       "<text font-family=\"Times New Roman,serif\" font-size=\"14.00\" text-anchor=\"middle\" x=\"104.5\" y=\"-525.8\">conv2d_3: Conv2D</text>\n",
       "</g>\n",
       "<!-- 1513246660704&#45;&gt;1513246551904 -->\n",
       "<g class=\"edge\" id=\"edge5\"><title>1513246660704-&gt;1513246551904</title>\n",
       "<path d=\"M104.5,-584.313C104.5,-576.289 104.5,-566.547 104.5,-557.569\" fill=\"none\" stroke=\"black\"/>\n",
       "<polygon fill=\"black\" points=\"108,-557.529 104.5,-547.529 101,-557.529 108,-557.529\" stroke=\"black\"/>\n",
       "</g>\n",
       "<!-- 1513246864720 -->\n",
       "<g class=\"node\" id=\"node6\"><title>1513246864720</title>\n",
       "<polygon fill=\"none\" points=\"0,-438.5 0,-474.5 209,-474.5 209,-438.5 0,-438.5\" stroke=\"black\"/>\n",
       "<text font-family=\"Times New Roman,serif\" font-size=\"14.00\" text-anchor=\"middle\" x=\"104.5\" y=\"-452.8\">max_pooling2d_3: MaxPooling2D</text>\n",
       "</g>\n",
       "<!-- 1513246551904&#45;&gt;1513246864720 -->\n",
       "<g class=\"edge\" id=\"edge6\"><title>1513246551904-&gt;1513246864720</title>\n",
       "<path d=\"M104.5,-511.313C104.5,-503.289 104.5,-493.547 104.5,-484.569\" fill=\"none\" stroke=\"black\"/>\n",
       "<polygon fill=\"black\" points=\"108,-484.529 104.5,-474.529 101,-484.529 108,-484.529\" stroke=\"black\"/>\n",
       "</g>\n",
       "<!-- 1513246791776 -->\n",
       "<g class=\"node\" id=\"node7\"><title>1513246791776</title>\n",
       "<polygon fill=\"none\" points=\"41,-365.5 41,-401.5 168,-401.5 168,-365.5 41,-365.5\" stroke=\"black\"/>\n",
       "<text font-family=\"Times New Roman,serif\" font-size=\"14.00\" text-anchor=\"middle\" x=\"104.5\" y=\"-379.8\">conv2d_4: Conv2D</text>\n",
       "</g>\n",
       "<!-- 1513246864720&#45;&gt;1513246791776 -->\n",
       "<g class=\"edge\" id=\"edge7\"><title>1513246864720-&gt;1513246791776</title>\n",
       "<path d=\"M104.5,-438.313C104.5,-430.289 104.5,-420.547 104.5,-411.569\" fill=\"none\" stroke=\"black\"/>\n",
       "<polygon fill=\"black\" points=\"108,-411.529 104.5,-401.529 101,-411.529 108,-411.529\" stroke=\"black\"/>\n",
       "</g>\n",
       "<!-- 1513247020200 -->\n",
       "<g class=\"node\" id=\"node8\"><title>1513247020200</title>\n",
       "<polygon fill=\"none\" points=\"0,-292.5 0,-328.5 209,-328.5 209,-292.5 0,-292.5\" stroke=\"black\"/>\n",
       "<text font-family=\"Times New Roman,serif\" font-size=\"14.00\" text-anchor=\"middle\" x=\"104.5\" y=\"-306.8\">max_pooling2d_4: MaxPooling2D</text>\n",
       "</g>\n",
       "<!-- 1513246791776&#45;&gt;1513247020200 -->\n",
       "<g class=\"edge\" id=\"edge8\"><title>1513246791776-&gt;1513247020200</title>\n",
       "<path d=\"M104.5,-365.313C104.5,-357.289 104.5,-347.547 104.5,-338.569\" fill=\"none\" stroke=\"black\"/>\n",
       "<polygon fill=\"black\" points=\"108,-338.529 104.5,-328.529 101,-338.529 108,-338.529\" stroke=\"black\"/>\n",
       "</g>\n",
       "<!-- 1513246938784 -->\n",
       "<g class=\"node\" id=\"node9\"><title>1513246938784</title>\n",
       "<polygon fill=\"none\" points=\"50,-219.5 50,-255.5 159,-255.5 159,-219.5 50,-219.5\" stroke=\"black\"/>\n",
       "<text font-family=\"Times New Roman,serif\" font-size=\"14.00\" text-anchor=\"middle\" x=\"104.5\" y=\"-233.8\">flatten_1: Flatten</text>\n",
       "</g>\n",
       "<!-- 1513247020200&#45;&gt;1513246938784 -->\n",
       "<g class=\"edge\" id=\"edge9\"><title>1513247020200-&gt;1513246938784</title>\n",
       "<path d=\"M104.5,-292.313C104.5,-284.289 104.5,-274.547 104.5,-265.569\" fill=\"none\" stroke=\"black\"/>\n",
       "<polygon fill=\"black\" points=\"108,-265.529 104.5,-255.529 101,-265.529 108,-265.529\" stroke=\"black\"/>\n",
       "</g>\n",
       "<!-- 1513247023000 -->\n",
       "<g class=\"node\" id=\"node10\"><title>1513247023000</title>\n",
       "<polygon fill=\"none\" points=\"52.5,-146.5 52.5,-182.5 156.5,-182.5 156.5,-146.5 52.5,-146.5\" stroke=\"black\"/>\n",
       "<text font-family=\"Times New Roman,serif\" font-size=\"14.00\" text-anchor=\"middle\" x=\"104.5\" y=\"-160.8\">dense_1: Dense</text>\n",
       "</g>\n",
       "<!-- 1513246938784&#45;&gt;1513247023000 -->\n",
       "<g class=\"edge\" id=\"edge10\"><title>1513246938784-&gt;1513247023000</title>\n",
       "<path d=\"M104.5,-219.313C104.5,-211.289 104.5,-201.547 104.5,-192.569\" fill=\"none\" stroke=\"black\"/>\n",
       "<polygon fill=\"black\" points=\"108,-192.529 104.5,-182.529 101,-192.529 108,-192.529\" stroke=\"black\"/>\n",
       "</g>\n",
       "<!-- 1513247094376 -->\n",
       "<g class=\"node\" id=\"node11\"><title>1513247094376</title>\n",
       "<polygon fill=\"none\" points=\"39.5,-73.5 39.5,-109.5 169.5,-109.5 169.5,-73.5 39.5,-73.5\" stroke=\"black\"/>\n",
       "<text font-family=\"Times New Roman,serif\" font-size=\"14.00\" text-anchor=\"middle\" x=\"104.5\" y=\"-87.8\">dropout_1: Dropout</text>\n",
       "</g>\n",
       "<!-- 1513247023000&#45;&gt;1513247094376 -->\n",
       "<g class=\"edge\" id=\"edge11\"><title>1513247023000-&gt;1513247094376</title>\n",
       "<path d=\"M104.5,-146.313C104.5,-138.289 104.5,-128.547 104.5,-119.569\" fill=\"none\" stroke=\"black\"/>\n",
       "<polygon fill=\"black\" points=\"108,-119.529 104.5,-109.529 101,-119.529 108,-119.529\" stroke=\"black\"/>\n",
       "</g>\n",
       "<!-- 1513247229600 -->\n",
       "<g class=\"node\" id=\"node12\"><title>1513247229600</title>\n",
       "<polygon fill=\"none\" points=\"52.5,-0.5 52.5,-36.5 156.5,-36.5 156.5,-0.5 52.5,-0.5\" stroke=\"black\"/>\n",
       "<text font-family=\"Times New Roman,serif\" font-size=\"14.00\" text-anchor=\"middle\" x=\"104.5\" y=\"-14.8\">dense_2: Dense</text>\n",
       "</g>\n",
       "<!-- 1513247094376&#45;&gt;1513247229600 -->\n",
       "<g class=\"edge\" id=\"edge12\"><title>1513247094376-&gt;1513247229600</title>\n",
       "<path d=\"M104.5,-73.3129C104.5,-65.2895 104.5,-55.5475 104.5,-46.5691\" fill=\"none\" stroke=\"black\"/>\n",
       "<polygon fill=\"black\" points=\"108,-46.5288 104.5,-36.5288 101,-46.5289 108,-46.5288\" stroke=\"black\"/>\n",
       "</g>\n",
       "<!-- 1513246549272 -->\n",
       "<g class=\"node\" id=\"node13\"><title>1513246549272</title>\n",
       "<polygon fill=\"none\" points=\"52.5,-876.5 52.5,-912.5 156.5,-912.5 156.5,-876.5 52.5,-876.5\" stroke=\"black\"/>\n",
       "<text font-family=\"Times New Roman,serif\" font-size=\"14.00\" text-anchor=\"middle\" x=\"104.5\" y=\"-890.8\">1513246549272</text>\n",
       "</g>\n",
       "<!-- 1513246549272&#45;&gt;1513246548824 -->\n",
       "<g class=\"edge\" id=\"edge1\"><title>1513246549272-&gt;1513246548824</title>\n",
       "<path d=\"M104.5,-876.313C104.5,-868.289 104.5,-858.547 104.5,-849.569\" fill=\"none\" stroke=\"black\"/>\n",
       "<polygon fill=\"black\" points=\"108,-849.529 104.5,-839.529 101,-849.529 108,-849.529\" stroke=\"black\"/>\n",
       "</g>\n",
       "</g>\n",
       "</svg>"
      ],
      "text/plain": [
       "<IPython.core.display.SVG object>"
      ]
     },
     "execution_count": 7,
     "metadata": {},
     "output_type": "execute_result"
    }
   ],
   "source": [
    "from IPython.display import SVG\n",
    "from keras.utils.vis_utils import model_to_dot\n",
    "\n",
    "SVG(model_to_dot(model).create(prog='dot', format='svg'))"
   ]
  },
  {
   "cell_type": "markdown",
   "metadata": {
    "colab_type": "text",
    "id": "TfypWUJIlFkz"
   },
   "source": [
    "## Training CNN"
   ]
  },
  {
   "cell_type": "code",
   "execution_count": 8,
   "metadata": {
    "colab": {
     "base_uri": "https://localhost:8080/",
     "height": 931
    },
    "colab_type": "code",
    "id": "zsdmu-ggfvr1",
    "outputId": "77a52558-8ecc-4fc5-e0cb-2b86a75df4c6"
   },
   "outputs": [
    {
     "name": "stdout",
     "output_type": "stream",
     "text": [
      "Train on 80 samples, validate on 40 samples\n",
      "Epoch 1/30\n",
      "80/80 [==============================] - 8s 96ms/step - loss: 1.3996 - acc: 0.2875 - val_loss: 1.2960 - val_acc: 0.4750\n",
      "Epoch 2/30\n",
      "80/80 [==============================] - 4s 56ms/step - loss: 1.2795 - acc: 0.4250 - val_loss: 1.1230 - val_acc: 0.5500\n",
      "Epoch 3/30\n",
      "80/80 [==============================] - 5s 58ms/step - loss: 1.2269 - acc: 0.4750 - val_loss: 0.9817 - val_acc: 0.6750\n",
      "Epoch 4/30\n",
      "80/80 [==============================] - 4s 54ms/step - loss: 0.9126 - acc: 0.6750 - val_loss: 0.8194 - val_acc: 0.7250\n",
      "Epoch 5/30\n",
      "80/80 [==============================] - 5s 57ms/step - loss: 0.8455 - acc: 0.7250 - val_loss: 0.8256 - val_acc: 0.7000\n",
      "Epoch 6/30\n",
      "80/80 [==============================] - 4s 52ms/step - loss: 0.8181 - acc: 0.7125 - val_loss: 0.6038 - val_acc: 0.8000\n",
      "Epoch 7/30\n",
      "80/80 [==============================] - 4s 52ms/step - loss: 0.5686 - acc: 0.7750 - val_loss: 0.4966 - val_acc: 0.8500\n",
      "Epoch 8/30\n",
      "80/80 [==============================] - 4s 51ms/step - loss: 0.5556 - acc: 0.7875 - val_loss: 0.5475 - val_acc: 0.8000\n",
      "Epoch 9/30\n",
      "80/80 [==============================] - 4s 52ms/step - loss: 0.6385 - acc: 0.7750 - val_loss: 0.5329 - val_acc: 0.9000\n",
      "Epoch 10/30\n",
      "80/80 [==============================] - 4s 53ms/step - loss: 0.5017 - acc: 0.8250 - val_loss: 0.3741 - val_acc: 0.9250\n",
      "Epoch 11/30\n",
      "80/80 [==============================] - 4s 53ms/step - loss: 0.3887 - acc: 0.8750 - val_loss: 0.4097 - val_acc: 0.9000\n",
      "Epoch 12/30\n",
      "80/80 [==============================] - 4s 53ms/step - loss: 0.3454 - acc: 0.8625 - val_loss: 0.6834 - val_acc: 0.7500\n",
      "Epoch 13/30\n",
      "80/80 [==============================] - 4s 54ms/step - loss: 0.3340 - acc: 0.8500 - val_loss: 1.0015 - val_acc: 0.7250\n",
      "Epoch 14/30\n",
      "80/80 [==============================] - 4s 51ms/step - loss: 0.5174 - acc: 0.8500 - val_loss: 0.3298 - val_acc: 0.9500\n",
      "Epoch 15/30\n",
      "80/80 [==============================] - 4s 53ms/step - loss: 0.3790 - acc: 0.8500 - val_loss: 1.1865 - val_acc: 0.6250\n",
      "Epoch 16/30\n",
      "80/80 [==============================] - 4s 50ms/step - loss: 0.3930 - acc: 0.8750 - val_loss: 0.4227 - val_acc: 0.9250\n",
      "Epoch 17/30\n",
      "80/80 [==============================] - 4s 52ms/step - loss: 0.3615 - acc: 0.8750 - val_loss: 0.3871 - val_acc: 0.9500\n",
      "Epoch 18/30\n",
      "80/80 [==============================] - 4s 53ms/step - loss: 0.3138 - acc: 0.8875 - val_loss: 0.4643 - val_acc: 0.9250\n",
      "Epoch 19/30\n",
      "80/80 [==============================] - 4s 55ms/step - loss: 0.2679 - acc: 0.9250 - val_loss: 0.4826 - val_acc: 0.9250\n",
      "Epoch 20/30\n",
      "80/80 [==============================] - 4s 52ms/step - loss: 0.4922 - acc: 0.8625 - val_loss: 0.6953 - val_acc: 0.8000\n",
      "Epoch 21/30\n",
      "80/80 [==============================] - 4s 51ms/step - loss: 0.2597 - acc: 0.9250 - val_loss: 0.4611 - val_acc: 0.9500\n",
      "Epoch 22/30\n",
      "80/80 [==============================] - 4s 51ms/step - loss: 0.3436 - acc: 0.9125 - val_loss: 0.8281 - val_acc: 0.8750\n",
      "Epoch 23/30\n",
      "80/80 [==============================] - 4s 51ms/step - loss: 0.6150 - acc: 0.8250 - val_loss: 0.7173 - val_acc: 0.8750\n",
      "Epoch 24/30\n",
      "80/80 [==============================] - 4s 52ms/step - loss: 0.2706 - acc: 0.9125 - val_loss: 0.6343 - val_acc: 0.9250\n",
      "Epoch 25/30\n",
      "80/80 [==============================] - 4s 52ms/step - loss: 0.4032 - acc: 0.8875 - val_loss: 0.5742 - val_acc: 0.9250\n",
      "Epoch 26/30\n",
      "80/80 [==============================] - 4s 52ms/step - loss: 0.1759 - acc: 0.9375 - val_loss: 0.6557 - val_acc: 0.9250\n",
      "Epoch 27/30\n",
      "80/80 [==============================] - 4s 50ms/step - loss: 0.0697 - acc: 0.9875 - val_loss: 0.5895 - val_acc: 0.9250\n",
      "Epoch 28/30\n",
      "80/80 [==============================] - 4s 53ms/step - loss: 0.4573 - acc: 0.8500 - val_loss: 0.7041 - val_acc: 0.8750\n",
      "Epoch 29/30\n",
      "80/80 [==============================] - 4s 52ms/step - loss: 0.3255 - acc: 0.8875 - val_loss: 0.9265 - val_acc: 0.8500\n",
      "Epoch 30/30\n",
      "80/80 [==============================] - 4s 51ms/step - loss: 0.7046 - acc: 0.8750 - val_loss: 0.8170 - val_acc: 0.8750\n"
     ]
    }
   ],
   "source": [
    "EPOCHS = 30\n",
    "history = model.fit(train_data, train_labels, epochs=EPOCHS, validation_data=(test_data, test_labels), batch_size=10)"
   ]
  },
  {
   "cell_type": "code",
   "execution_count": 9,
   "metadata": {},
   "outputs": [
    {
     "name": "stdout",
     "output_type": "stream",
     "text": [
      "dict_keys(['val_loss', 'val_acc', 'loss', 'acc'])\n"
     ]
    },
    {
     "data": {
      "image/png": "[encoded data removed]",
      "text/plain": [
       "<matplotlib.figure.Figure at 0x16055e8a0b8>"
      ]
     },
     "metadata": {},
     "output_type": "display_data"
    },
    {
     "data": {
      "image/png": "[encoded data removed]",
      "text/plain": [
       "<matplotlib.figure.Figure at 0x160549fa5f8>"
      ]
     },
     "metadata": {},
     "output_type": "display_data"
    }
   ],
   "source": [
    "print(history.history.keys())\n",
    "\n",
    "# Plot training & validation accuracy values\n",
    "plt.plot(history.history['acc'])\n",
    "plt.plot(history.history['val_acc'])\n",
    "\n",
    "plt.title('Model accuracy')\n",
    "plt.ylabel('Accuracy')\n",
    "plt.xlabel('Epoch')\n",
    "plt.legend(['Train', 'Test'], loc='upper left')\n",
    "plt.show()\n",
    "\n",
    "# Plot training & validation loss values\n",
    "plt.plot(history.history['loss'])\n",
    "plt.plot(history.history['val_loss'])\n",
    "plt.title('Model loss')\n",
    "plt.ylabel('Loss')\n",
    "plt.xlabel('Epoch')\n",
    "plt.legend(['Train', 'Test'], loc='upper left')\n",
    "plt.show()"
   ]
  },
  {
   "cell_type": "markdown",
   "metadata": {},
   "source": [
    "## Save the model"
   ]
  },
  {
   "cell_type": "code",
   "execution_count": 10,
   "metadata": {},
   "outputs": [],
   "source": [
    "import datetime\n",
    "\n",
    "dt = datetime.datetime.today().strftime('%Y%m%d%H%M%S')\n",
    "filename = 'cnn_for_aed_restaurant_{}.h5'.format(dt)\n",
    "model.save(filename)"
   ]
  },
  {
   "cell_type": "markdown",
   "metadata": {},
   "source": [
    "## Load the model"
   ]
  },
  {
   "cell_type": "code",
   "execution_count": 11,
   "metadata": {},
   "outputs": [],
   "source": [
    "del model\n",
    "model = models.load_model(filename)"
   ]
  },
  {
   "cell_type": "markdown",
   "metadata": {
    "colab_type": "text",
    "id": "j6con4C3lKC1"
   },
   "source": [
    "## Confirmation"
   ]
  },
  {
   "cell_type": "code",
   "execution_count": 12,
   "metadata": {
    "colab": {
     "base_uri": "https://localhost:8080/",
     "height": 34
    },
    "colab_type": "code",
    "id": "4oZYLLij69wU",
    "outputId": "b37a4b8a-2c80-411f-d8a9-5df1c6dbfe22"
   },
   "outputs": [
    {
     "data": {
      "text/plain": [
       "(80, 96, 12, 1)"
      ]
     },
     "execution_count": 12,
     "metadata": {},
     "output_type": "execute_result"
    }
   ],
   "source": [
    "import numpy as np\n",
    "import matplotlib.pyplot as plt\n",
    "train_data.shape"
   ]
  },
  {
   "cell_type": "code",
   "execution_count": 13,
   "metadata": {
    "colab": {
     "base_uri": "https://localhost:8080/",
     "height": 193
    },
    "colab_type": "code",
    "id": "zSxXE9FgRBdJ",
    "outputId": "f3a53efe-e99f-4572-f9b4-1bf3c39c77ec"
   },
   "outputs": [],
   "source": [
    "layer_outputs = [layer.output for layer in model.layers]\n",
    "#layer_outputs"
   ]
  },
  {
   "cell_type": "code",
   "execution_count": 14,
   "metadata": {
    "colab": {
     "base_uri": "https://localhost:8080/",
     "height": 34
    },
    "colab_type": "code",
    "id": "dcw7yHKrRkPD",
    "outputId": "a3ed5441-ae48-4635-bf07-ac5060030608"
   },
   "outputs": [],
   "source": [
    "activation_model = models.Model(inputs=model.input, outputs=layer_outputs)\n",
    "activations = activation_model.predict(test_data)\n",
    "#activations[0][0,:,:,0].shape"
   ]
  },
  {
   "cell_type": "code",
   "execution_count": 15,
   "metadata": {},
   "outputs": [
    {
     "data": {
      "text/plain": [
       "['mazui', 'oishii', 'others', 'umai']"
      ]
     },
     "execution_count": 15,
     "metadata": {},
     "output_type": "execute_result"
    }
   ],
   "source": [
    "class_labels"
   ]
  },
  {
   "cell_type": "code",
   "execution_count": 16,
   "metadata": {
    "colab": {
     "base_uri": "https://localhost:8080/",
     "height": 193
    },
    "colab_type": "code",
    "id": "ccSNAwGKhRn9",
    "outputId": "0ad22e12-713b-4b07-e17b-45d39ff1b80b"
   },
   "outputs": [
    {
     "data": {
      "text/plain": [
       "array([[  0,   0,  82,  17],\n",
       "       [  0,   0,  33,  66],\n",
       "       [ 99,   0,   0,   0],\n",
       "       [  0,   0,   1,  98],\n",
       "       [  0,  99,   0,   0],\n",
       "       [  0,   0,   0,  99],\n",
       "       [  0,   0,   0,  99],\n",
       "       [  0,   0,   0, 100],\n",
       "       [  0,  99,   0,   0],\n",
       "       [ 99,   0,   0,   0]])"
      ]
     },
     "execution_count": 16,
     "metadata": {},
     "output_type": "execute_result"
    }
   ],
   "source": [
    "(activations[-1][:10]*100).astype(int)"
   ]
  },
  {
   "cell_type": "code",
   "execution_count": 17,
   "metadata": {
    "colab": {
     "base_uri": "https://localhost:8080/",
     "height": 193
    },
    "colab_type": "code",
    "id": "RoE0nxtuiGIN",
    "outputId": "154437a8-ab72-46f4-f42c-3e6464af47d0"
   },
   "outputs": [
    {
     "data": {
      "text/plain": [
       "array([[0, 0, 1, 0],\n",
       "       [0, 0, 1, 0],\n",
       "       [1, 0, 0, 0],\n",
       "       [0, 0, 1, 0],\n",
       "       [0, 1, 0, 0],\n",
       "       [0, 0, 1, 0],\n",
       "       [0, 0, 0, 1],\n",
       "       [0, 0, 0, 1],\n",
       "       [0, 1, 0, 0],\n",
       "       [1, 0, 0, 0]])"
      ]
     },
     "execution_count": 17,
     "metadata": {},
     "output_type": "execute_result"
    }
   ],
   "source": [
    "test_labels[:10].astype(int)"
   ]
  },
  {
   "cell_type": "code",
   "execution_count": 18,
   "metadata": {},
   "outputs": [],
   "source": [
    "def plot_layer(activations, sample, layer):\n",
    "    a = activations[layer].shape\n",
    "    rows = int(a[3]/4)\n",
    "    fig, axarr = plt.subplots(rows, 4, figsize=[20,15])\n",
    "    for i in range(a[3]):\n",
    "        row = int(i/4)\n",
    "        x, y = row, i-4*row\n",
    "        axarr[x, y].imshow(np.rot90(activations[layer][sample, :, :, i]))\n",
    "        axarr[x, y].set_xticks([])\n",
    "        axarr[x, y].set_yticks([])"
   ]
  },
  {
   "cell_type": "code",
   "execution_count": 19,
   "metadata": {},
   "outputs": [
    {
     "data": {
      "text/plain": [
       "'oishii'"
      ]
     },
     "execution_count": 19,
     "metadata": {},
     "output_type": "execute_result"
    },
    {
     "data": {
      "image/png": "[encoded data removed]",
      "text/plain": [
       "<matplotlib.figure.Figure at 0x16054a49898>"
      ]
     },
     "metadata": {},
     "output_type": "display_data"
    }
   ],
   "source": [
    "image_number = 8\n",
    "\n",
    "plt.imshow(np.rot90(test_data[image_number,:,:,0]))\n",
    "class_labels[np.argmax(test_labels[image_number])]"
   ]
  },
  {
   "cell_type": "code",
   "execution_count": 20,
   "metadata": {},
   "outputs": [
    {
     "data": {
      "image/png": "[encoded data removed]",
      "text/plain": [
       "<matplotlib.figure.Figure at 0x160560e3da0>"
      ]
     },
     "metadata": {},
     "output_type": "display_data"
    }
   ],
   "source": [
    "plot_layer(activations, image_number, 2)"
   ]
  },
  {
   "cell_type": "code",
   "execution_count": 21,
   "metadata": {},
   "outputs": [
    {
     "data": {
      "image/png": "[encoded data removed]",
      "text/plain": [
       "<matplotlib.figure.Figure at 0x16058c0ed68>"
      ]
     },
     "metadata": {},
     "output_type": "display_data"
    }
   ],
   "source": [
    "plot_layer(activations, image_number, 6)"
   ]
  },
  {
   "cell_type": "code",
   "execution_count": null,
   "metadata": {},
   "outputs": [],
   "source": []
  }
 ],
 "metadata": {
  "colab": {
   "collapsed_sections": [],
   "name": "CNN for AED",
   "provenance": [],
   "version": "0.3.2"
  },
  "kernelspec": {
   "display_name": "Python 3",
   "language": "python",
   "name": "python3"
  },
  "language_info": {
   "codemirror_mode": {
    "name": "ipython",
    "version": 3
   },
   "file_extension": ".py",
   "mimetype": "text/x-python",
   "name": "python",
   "nbconvert_exporter": "python",
   "pygments_lexer": "ipython3",
   "version": "3.6.4"
  }
 },
 "nbformat": 4,
 "nbformat_minor": 1
}
