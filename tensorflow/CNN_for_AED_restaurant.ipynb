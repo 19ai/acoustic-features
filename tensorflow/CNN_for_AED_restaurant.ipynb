{
 "cells": [
  {
   "cell_type": "markdown",
   "metadata": {
    "colab_type": "text",
    "id": "0X16cagQE-Y-"
   },
   "source": [
    "# CNN for AED with Keras/TensorFlow (restaurant)\n",
    "\n",
    "Date: Nov 19, 2018\n",
    "\n",
    "Speech recognition with Keras/TensorFlow\n",
    "\n",
    "Data acquisition: living room\n",
    "\n",
    "Feature set: MFCCs"
   ]
  },
  {
   "cell_type": "markdown",
   "metadata": {
    "colab_type": "text",
    "id": "WwQ-dEltkl5Q"
   },
   "source": [
    "## Preparing data set for CNN"
   ]
  },
  {
   "cell_type": "code",
   "execution_count": 41,
   "metadata": {
    "colab": {
     "base_uri": "https://localhost:8080/",
     "height": 34
    },
    "colab_type": "code",
    "id": "VEJyQsGpV3ug",
    "outputId": "3929aa39-3383-4791-e065-3622e6781181"
   },
   "outputs": [
    {
     "data": {
      "text/plain": [
       "<matplotlib.image.AxesImage at 0x2cf76ad8550>"
      ]
     },
     "execution_count": 41,
     "metadata": {},
     "output_type": "execute_result"
    },
    {
     "data": {
      "image/png": "[encoded data removed]",
      "text/plain": [
       "<matplotlib.figure.Figure at 0x2cf76244be0>"
      ]
     },
     "metadata": {},
     "output_type": "display_data"
    }
   ],
   "source": [
    "DATASET_FOLDER = '../dataset/data_restaurant/'\n",
    "\n",
    "%run ../oscilloscope/script/dataset.py\n",
    "\n",
    "ds = DataSet(DATASET_FOLDER)\n",
    "train_data, train_labels, test_data, test_labels = ds.generate()\n",
    "shape = ds.get_shape()\n",
    "class_labels = ds.get_class_labels()\n",
    "import matplotlib.pyplot as plt\n",
    "%matplotlib inline\n",
    "plt.imshow(np.rot90(train_data[8,:,:,0]))"
   ]
  },
  {
   "cell_type": "markdown",
   "metadata": {
    "colab_type": "text",
    "id": "VfUmgxxVk6uM"
   },
   "source": [
    "### CNN model"
   ]
  },
  {
   "cell_type": "code",
   "execution_count": 42,
   "metadata": {
    "colab": {
     "base_uri": "https://localhost:8080/",
     "height": 509
    },
    "colab_type": "code",
    "id": "B2Xg6tGLdMKP",
    "outputId": "ae3daa32-9dbf-4d8b-9a11-7f596dd2e4a6"
   },
   "outputs": [
    {
     "name": "stdout",
     "output_type": "stream",
     "text": [
      "_________________________________________________________________\n",
      "Layer (type)                 Output Shape              Param #   \n",
      "=================================================================\n",
      "conv2d_21 (Conv2D)           (None, 94, 10, 8)         80        \n",
      "_________________________________________________________________\n",
      "max_pooling2d_21 (MaxPooling (None, 47, 10, 8)         0         \n",
      "_________________________________________________________________\n",
      "conv2d_22 (Conv2D)           (None, 45, 8, 16)         1168      \n",
      "_________________________________________________________________\n",
      "max_pooling2d_22 (MaxPooling (None, 22, 8, 16)         0         \n",
      "_________________________________________________________________\n",
      "conv2d_23 (Conv2D)           (None, 20, 6, 32)         4640      \n",
      "_________________________________________________________________\n",
      "max_pooling2d_23 (MaxPooling (None, 10, 6, 32)         0         \n",
      "_________________________________________________________________\n",
      "conv2d_24 (Conv2D)           (None, 8, 4, 64)          18496     \n",
      "_________________________________________________________________\n",
      "max_pooling2d_24 (MaxPooling (None, 4, 2, 64)          0         \n",
      "_________________________________________________________________\n",
      "flatten_6 (Flatten)          (None, 512)               0         \n",
      "_________________________________________________________________\n",
      "dense_11 (Dense)             (None, 64)                32832     \n",
      "_________________________________________________________________\n",
      "dropout_6 (Dropout)          (None, 64)                0         \n",
      "_________________________________________________________________\n",
      "dense_12 (Dense)             (None, 4)                 260       \n",
      "=================================================================\n",
      "Total params: 57,476\n",
      "Trainable params: 57,476\n",
      "Non-trainable params: 0\n",
      "_________________________________________________________________\n"
     ]
    }
   ],
   "source": [
    "from keras import layers\n",
    "from keras import models\n",
    "\n",
    "model = models.Sequential()\n",
    "\n",
    "model.add(layers.Conv2D(8, (3, 3), activation='relu', input_shape=(*shape, 1)))\n",
    "model.add(layers.MaxPooling2D((2,1)))\n",
    "\n",
    "model.add(layers.Conv2D(16, (3, 3), activation='relu'))\n",
    "model.add(layers.MaxPooling2D((2,1)))\n",
    "\n",
    "model.add(layers.Conv2D(32, (3, 3), activation='relu'))\n",
    "model.add(layers.MaxPooling2D((2,1)))\n",
    "\n",
    "model.add(layers.Conv2D(64, (3, 3), activation='relu'))\n",
    "model.add(layers.MaxPooling2D((2,2)))\n",
    "\n",
    "model.add(layers.Flatten())\n",
    "model.add(layers.Dense(64, activation='relu'))\n",
    "model.add(layers.Dropout(0.5))\n",
    "model.add(layers.Dense(len(class_labels), activation='softmax'))\n",
    "\n",
    "model.summary()"
   ]
  },
  {
   "cell_type": "code",
   "execution_count": 43,
   "metadata": {
    "colab": {},
    "colab_type": "code",
    "id": "nRr1L_4ogL6i"
   },
   "outputs": [],
   "source": [
    "model.compile(optimizer='rmsprop', loss='categorical_crossentropy', metrics=['accuracy'])"
   ]
  },
  {
   "cell_type": "code",
   "execution_count": 44,
   "metadata": {},
   "outputs": [
    {
     "data": {
      "image/svg+xml": [
       "<svg height=\"921pt\" viewBox=\"0.00 0.00 223.00 921.00\" width=\"223pt\" xmlns=\"http://www.w3.org/2000/svg\" xmlns:xlink=\"http://www.w3.org/1999/xlink\">\n",
       "<g class=\"graph\" id=\"graph0\" transform=\"scale(1 1) rotate(0) translate(4 917)\">\n",
       "<title>G</title>\n",
       "<polygon fill=\"white\" points=\"-4,4 -4,-917 219,-917 219,4 -4,4\" stroke=\"none\"/>\n",
       "<!-- 3089945719360 -->\n",
       "<g class=\"node\" id=\"node1\"><title>3089945719360</title>\n",
       "<polygon fill=\"none\" points=\"40.5,-803.5 40.5,-839.5 174.5,-839.5 174.5,-803.5 40.5,-803.5\" stroke=\"black\"/>\n",
       "<text font-family=\"Times New Roman,serif\" font-size=\"14.00\" text-anchor=\"middle\" x=\"107.5\" y=\"-817.8\">conv2d_21: Conv2D</text>\n",
       "</g>\n",
       "<!-- 3090072210008 -->\n",
       "<g class=\"node\" id=\"node2\"><title>3090072210008</title>\n",
       "<polygon fill=\"none\" points=\"0,-730.5 0,-766.5 215,-766.5 215,-730.5 0,-730.5\" stroke=\"black\"/>\n",
       "<text font-family=\"Times New Roman,serif\" font-size=\"14.00\" text-anchor=\"middle\" x=\"107.5\" y=\"-744.8\">max_pooling2d_21: MaxPooling2D</text>\n",
       "</g>\n",
       "<!-- 3089945719360&#45;&gt;3090072210008 -->\n",
       "<g class=\"edge\" id=\"edge2\"><title>3089945719360-&gt;3090072210008</title>\n",
       "<path d=\"M107.5,-803.313C107.5,-795.289 107.5,-785.547 107.5,-776.569\" fill=\"none\" stroke=\"black\"/>\n",
       "<polygon fill=\"black\" points=\"111,-776.529 107.5,-766.529 104,-776.529 111,-776.529\" stroke=\"black\"/>\n",
       "</g>\n",
       "<!-- 3090072210960 -->\n",
       "<g class=\"node\" id=\"node3\"><title>3090072210960</title>\n",
       "<polygon fill=\"none\" points=\"40.5,-657.5 40.5,-693.5 174.5,-693.5 174.5,-657.5 40.5,-657.5\" stroke=\"black\"/>\n",
       "<text font-family=\"Times New Roman,serif\" font-size=\"14.00\" text-anchor=\"middle\" x=\"107.5\" y=\"-671.8\">conv2d_22: Conv2D</text>\n",
       "</g>\n",
       "<!-- 3090072210008&#45;&gt;3090072210960 -->\n",
       "<g class=\"edge\" id=\"edge3\"><title>3090072210008-&gt;3090072210960</title>\n",
       "<path d=\"M107.5,-730.313C107.5,-722.289 107.5,-712.547 107.5,-703.569\" fill=\"none\" stroke=\"black\"/>\n",
       "<polygon fill=\"black\" points=\"111,-703.529 107.5,-693.529 104,-703.529 111,-703.529\" stroke=\"black\"/>\n",
       "</g>\n",
       "<!-- 3090072031016 -->\n",
       "<g class=\"node\" id=\"node4\"><title>3090072031016</title>\n",
       "<polygon fill=\"none\" points=\"0,-584.5 0,-620.5 215,-620.5 215,-584.5 0,-584.5\" stroke=\"black\"/>\n",
       "<text font-family=\"Times New Roman,serif\" font-size=\"14.00\" text-anchor=\"middle\" x=\"107.5\" y=\"-598.8\">max_pooling2d_22: MaxPooling2D</text>\n",
       "</g>\n",
       "<!-- 3090072210960&#45;&gt;3090072031016 -->\n",
       "<g class=\"edge\" id=\"edge4\"><title>3090072210960-&gt;3090072031016</title>\n",
       "<path d=\"M107.5,-657.313C107.5,-649.289 107.5,-639.547 107.5,-630.569\" fill=\"none\" stroke=\"black\"/>\n",
       "<polygon fill=\"black\" points=\"111,-630.529 107.5,-620.529 104,-630.529 111,-630.529\" stroke=\"black\"/>\n",
       "</g>\n",
       "<!-- 3090072208216 -->\n",
       "<g class=\"node\" id=\"node5\"><title>3090072208216</title>\n",
       "<polygon fill=\"none\" points=\"40.5,-511.5 40.5,-547.5 174.5,-547.5 174.5,-511.5 40.5,-511.5\" stroke=\"black\"/>\n",
       "<text font-family=\"Times New Roman,serif\" font-size=\"14.00\" text-anchor=\"middle\" x=\"107.5\" y=\"-525.8\">conv2d_23: Conv2D</text>\n",
       "</g>\n",
       "<!-- 3090072031016&#45;&gt;3090072208216 -->\n",
       "<g class=\"edge\" id=\"edge5\"><title>3090072031016-&gt;3090072208216</title>\n",
       "<path d=\"M107.5,-584.313C107.5,-576.289 107.5,-566.547 107.5,-557.569\" fill=\"none\" stroke=\"black\"/>\n",
       "<polygon fill=\"black\" points=\"111,-557.529 107.5,-547.529 104,-557.529 111,-557.529\" stroke=\"black\"/>\n",
       "</g>\n",
       "<!-- 3090071839632 -->\n",
       "<g class=\"node\" id=\"node6\"><title>3090071839632</title>\n",
       "<polygon fill=\"none\" points=\"0,-438.5 0,-474.5 215,-474.5 215,-438.5 0,-438.5\" stroke=\"black\"/>\n",
       "<text font-family=\"Times New Roman,serif\" font-size=\"14.00\" text-anchor=\"middle\" x=\"107.5\" y=\"-452.8\">max_pooling2d_23: MaxPooling2D</text>\n",
       "</g>\n",
       "<!-- 3090072208216&#45;&gt;3090071839632 -->\n",
       "<g class=\"edge\" id=\"edge6\"><title>3090072208216-&gt;3090071839632</title>\n",
       "<path d=\"M107.5,-511.313C107.5,-503.289 107.5,-493.547 107.5,-484.569\" fill=\"none\" stroke=\"black\"/>\n",
       "<polygon fill=\"black\" points=\"111,-484.529 107.5,-474.529 104,-484.529 111,-484.529\" stroke=\"black\"/>\n",
       "</g>\n",
       "<!-- 3090071917960 -->\n",
       "<g class=\"node\" id=\"node7\"><title>3090071917960</title>\n",
       "<polygon fill=\"none\" points=\"40.5,-365.5 40.5,-401.5 174.5,-401.5 174.5,-365.5 40.5,-365.5\" stroke=\"black\"/>\n",
       "<text font-family=\"Times New Roman,serif\" font-size=\"14.00\" text-anchor=\"middle\" x=\"107.5\" y=\"-379.8\">conv2d_24: Conv2D</text>\n",
       "</g>\n",
       "<!-- 3090071839632&#45;&gt;3090071917960 -->\n",
       "<g class=\"edge\" id=\"edge7\"><title>3090071839632-&gt;3090071917960</title>\n",
       "<path d=\"M107.5,-438.313C107.5,-430.289 107.5,-420.547 107.5,-411.569\" fill=\"none\" stroke=\"black\"/>\n",
       "<polygon fill=\"black\" points=\"111,-411.529 107.5,-401.529 104,-411.529 111,-411.529\" stroke=\"black\"/>\n",
       "</g>\n",
       "<!-- 3090072731720 -->\n",
       "<g class=\"node\" id=\"node8\"><title>3090072731720</title>\n",
       "<polygon fill=\"none\" points=\"0,-292.5 0,-328.5 215,-328.5 215,-292.5 0,-292.5\" stroke=\"black\"/>\n",
       "<text font-family=\"Times New Roman,serif\" font-size=\"14.00\" text-anchor=\"middle\" x=\"107.5\" y=\"-306.8\">max_pooling2d_24: MaxPooling2D</text>\n",
       "</g>\n",
       "<!-- 3090071917960&#45;&gt;3090072731720 -->\n",
       "<g class=\"edge\" id=\"edge8\"><title>3090071917960-&gt;3090072731720</title>\n",
       "<path d=\"M107.5,-365.313C107.5,-357.289 107.5,-347.547 107.5,-338.569\" fill=\"none\" stroke=\"black\"/>\n",
       "<polygon fill=\"black\" points=\"111,-338.529 107.5,-328.529 104,-338.529 111,-338.529\" stroke=\"black\"/>\n",
       "</g>\n",
       "<!-- 3090071842432 -->\n",
       "<g class=\"node\" id=\"node9\"><title>3090071842432</title>\n",
       "<polygon fill=\"none\" points=\"53,-219.5 53,-255.5 162,-255.5 162,-219.5 53,-219.5\" stroke=\"black\"/>\n",
       "<text font-family=\"Times New Roman,serif\" font-size=\"14.00\" text-anchor=\"middle\" x=\"107.5\" y=\"-233.8\">flatten_6: Flatten</text>\n",
       "</g>\n",
       "<!-- 3090072731720&#45;&gt;3090071842432 -->\n",
       "<g class=\"edge\" id=\"edge9\"><title>3090072731720-&gt;3090071842432</title>\n",
       "<path d=\"M107.5,-292.313C107.5,-284.289 107.5,-274.547 107.5,-265.569\" fill=\"none\" stroke=\"black\"/>\n",
       "<polygon fill=\"black\" points=\"111,-265.529 107.5,-255.529 104,-265.529 111,-265.529\" stroke=\"black\"/>\n",
       "</g>\n",
       "<!-- 3090072735192 -->\n",
       "<g class=\"node\" id=\"node10\"><title>3090072735192</title>\n",
       "<polygon fill=\"none\" points=\"52,-146.5 52,-182.5 163,-182.5 163,-146.5 52,-146.5\" stroke=\"black\"/>\n",
       "<text font-family=\"Times New Roman,serif\" font-size=\"14.00\" text-anchor=\"middle\" x=\"107.5\" y=\"-160.8\">dense_11: Dense</text>\n",
       "</g>\n",
       "<!-- 3090071842432&#45;&gt;3090072735192 -->\n",
       "<g class=\"edge\" id=\"edge10\"><title>3090071842432-&gt;3090072735192</title>\n",
       "<path d=\"M107.5,-219.313C107.5,-211.289 107.5,-201.547 107.5,-192.569\" fill=\"none\" stroke=\"black\"/>\n",
       "<polygon fill=\"black\" points=\"111,-192.529 107.5,-182.529 104,-192.529 111,-192.529\" stroke=\"black\"/>\n",
       "</g>\n",
       "<!-- 3090072834568 -->\n",
       "<g class=\"node\" id=\"node11\"><title>3090072834568</title>\n",
       "<polygon fill=\"none\" points=\"42.5,-73.5 42.5,-109.5 172.5,-109.5 172.5,-73.5 42.5,-73.5\" stroke=\"black\"/>\n",
       "<text font-family=\"Times New Roman,serif\" font-size=\"14.00\" text-anchor=\"middle\" x=\"107.5\" y=\"-87.8\">dropout_6: Dropout</text>\n",
       "</g>\n",
       "<!-- 3090072735192&#45;&gt;3090072834568 -->\n",
       "<g class=\"edge\" id=\"edge11\"><title>3090072735192-&gt;3090072834568</title>\n",
       "<path d=\"M107.5,-146.313C107.5,-138.289 107.5,-128.547 107.5,-119.569\" fill=\"none\" stroke=\"black\"/>\n",
       "<polygon fill=\"black\" points=\"111,-119.529 107.5,-109.529 104,-119.529 111,-119.529\" stroke=\"black\"/>\n",
       "</g>\n",
       "<!-- 3090074214016 -->\n",
       "<g class=\"node\" id=\"node12\"><title>3090074214016</title>\n",
       "<polygon fill=\"none\" points=\"52,-0.5 52,-36.5 163,-36.5 163,-0.5 52,-0.5\" stroke=\"black\"/>\n",
       "<text font-family=\"Times New Roman,serif\" font-size=\"14.00\" text-anchor=\"middle\" x=\"107.5\" y=\"-14.8\">dense_12: Dense</text>\n",
       "</g>\n",
       "<!-- 3090072834568&#45;&gt;3090074214016 -->\n",
       "<g class=\"edge\" id=\"edge12\"><title>3090072834568-&gt;3090074214016</title>\n",
       "<path d=\"M107.5,-73.3129C107.5,-65.2895 107.5,-55.5475 107.5,-46.5691\" fill=\"none\" stroke=\"black\"/>\n",
       "<polygon fill=\"black\" points=\"111,-46.5288 107.5,-36.5288 104,-46.5289 111,-46.5288\" stroke=\"black\"/>\n",
       "</g>\n",
       "<!-- 3090072208160 -->\n",
       "<g class=\"node\" id=\"node13\"><title>3090072208160</title>\n",
       "<polygon fill=\"none\" points=\"55.5,-876.5 55.5,-912.5 159.5,-912.5 159.5,-876.5 55.5,-876.5\" stroke=\"black\"/>\n",
       "<text font-family=\"Times New Roman,serif\" font-size=\"14.00\" text-anchor=\"middle\" x=\"107.5\" y=\"-890.8\">3090072208160</text>\n",
       "</g>\n",
       "<!-- 3090072208160&#45;&gt;3089945719360 -->\n",
       "<g class=\"edge\" id=\"edge1\"><title>3090072208160-&gt;3089945719360</title>\n",
       "<path d=\"M107.5,-876.313C107.5,-868.289 107.5,-858.547 107.5,-849.569\" fill=\"none\" stroke=\"black\"/>\n",
       "<polygon fill=\"black\" points=\"111,-849.529 107.5,-839.529 104,-849.529 111,-849.529\" stroke=\"black\"/>\n",
       "</g>\n",
       "</g>\n",
       "</svg>"
      ],
      "text/plain": [
       "<IPython.core.display.SVG object>"
      ]
     },
     "execution_count": 44,
     "metadata": {},
     "output_type": "execute_result"
    }
   ],
   "source": [
    "from IPython.display import SVG\n",
    "from keras.utils.vis_utils import model_to_dot\n",
    "\n",
    "SVG(model_to_dot(model).create(prog='dot', format='svg'))"
   ]
  },
  {
   "cell_type": "markdown",
   "metadata": {
    "colab_type": "text",
    "id": "TfypWUJIlFkz"
   },
   "source": [
    "## Training CNN"
   ]
  },
  {
   "cell_type": "code",
   "execution_count": 45,
   "metadata": {
    "colab": {
     "base_uri": "https://localhost:8080/",
     "height": 931
    },
    "colab_type": "code",
    "id": "zsdmu-ggfvr1",
    "outputId": "77a52558-8ecc-4fc5-e0cb-2b86a75df4c6"
   },
   "outputs": [
    {
     "name": "stdout",
     "output_type": "stream",
     "text": [
      "Train on 80 samples, validate on 40 samples\n",
      "Epoch 1/30\n",
      "80/80 [==============================] - 5s 58ms/step - loss: 1.4442 - acc: 0.1500 - val_loss: 1.3499 - val_acc: 0.5500\n",
      "Epoch 2/30\n",
      "80/80 [==============================] - 4s 48ms/step - loss: 1.3552 - acc: 0.3250 - val_loss: 1.2949 - val_acc: 0.4000\n",
      "Epoch 3/30\n",
      "80/80 [==============================] - 4s 46ms/step - loss: 1.2377 - acc: 0.4125 - val_loss: 1.1959 - val_acc: 0.5500\n",
      "Epoch 4/30\n",
      "80/80 [==============================] - 4s 48ms/step - loss: 1.1249 - acc: 0.4875 - val_loss: 1.0773 - val_acc: 0.6750\n",
      "Epoch 5/30\n",
      "80/80 [==============================] - 4s 48ms/step - loss: 0.9650 - acc: 0.5875 - val_loss: 0.9407 - val_acc: 0.7750\n",
      "Epoch 6/30\n",
      "80/80 [==============================] - 4s 45ms/step - loss: 0.9050 - acc: 0.6500 - val_loss: 0.8096 - val_acc: 0.7500\n",
      "Epoch 7/30\n",
      "80/80 [==============================] - 4s 49ms/step - loss: 0.6739 - acc: 0.7125 - val_loss: 0.7985 - val_acc: 0.8000\n",
      "Epoch 8/30\n",
      "80/80 [==============================] - 4s 48ms/step - loss: 0.6641 - acc: 0.7750 - val_loss: 0.7970 - val_acc: 0.8000\n",
      "Epoch 9/30\n",
      "80/80 [==============================] - 4s 49ms/step - loss: 0.5742 - acc: 0.8000 - val_loss: 0.7165 - val_acc: 0.8000\n",
      "Epoch 10/30\n",
      "80/80 [==============================] - 4s 51ms/step - loss: 0.4097 - acc: 0.8250 - val_loss: 0.8238 - val_acc: 0.8250\n",
      "Epoch 11/30\n",
      "80/80 [==============================] - 4s 49ms/step - loss: 0.4376 - acc: 0.8500 - val_loss: 0.6339 - val_acc: 0.8500\n",
      "Epoch 12/30\n",
      "80/80 [==============================] - 4s 50ms/step - loss: 0.5084 - acc: 0.8500 - val_loss: 0.9347 - val_acc: 0.8000\n",
      "Epoch 13/30\n",
      "80/80 [==============================] - 4s 50ms/step - loss: 0.4624 - acc: 0.8375 - val_loss: 1.3674 - val_acc: 0.8250\n",
      "Epoch 14/30\n",
      "80/80 [==============================] - 4s 50ms/step - loss: 0.4264 - acc: 0.8500 - val_loss: 1.0702 - val_acc: 0.7000\n",
      "Epoch 15/30\n",
      "80/80 [==============================] - 4s 45ms/step - loss: 0.3391 - acc: 0.9000 - val_loss: 0.8560 - val_acc: 0.8250\n",
      "Epoch 16/30\n",
      "80/80 [==============================] - 4s 47ms/step - loss: 0.6129 - acc: 0.7750 - val_loss: 0.9206 - val_acc: 0.8000\n",
      "Epoch 17/30\n",
      "80/80 [==============================] - 4s 49ms/step - loss: 0.2110 - acc: 0.9250 - val_loss: 0.9891 - val_acc: 0.8250\n",
      "Epoch 18/30\n",
      "80/80 [==============================] - 4s 51ms/step - loss: 0.3728 - acc: 0.8625 - val_loss: 1.1345 - val_acc: 0.7500\n",
      "Epoch 19/30\n",
      "80/80 [==============================] - 4s 48ms/step - loss: 0.4092 - acc: 0.8625 - val_loss: 0.8609 - val_acc: 0.8250\n",
      "Epoch 20/30\n",
      "80/80 [==============================] - 4s 49ms/step - loss: 0.4196 - acc: 0.8750 - val_loss: 1.2877 - val_acc: 0.8500\n",
      "Epoch 21/30\n",
      "80/80 [==============================] - 4s 50ms/step - loss: 0.4139 - acc: 0.8750 - val_loss: 0.8428 - val_acc: 0.8500\n",
      "Epoch 22/30\n",
      "80/80 [==============================] - 4s 46ms/step - loss: 0.3206 - acc: 0.9125 - val_loss: 0.9088 - val_acc: 0.8500\n",
      "Epoch 23/30\n",
      "80/80 [==============================] - 4s 49ms/step - loss: 0.1089 - acc: 0.9375 - val_loss: 1.7237 - val_acc: 0.7500\n",
      "Epoch 24/30\n",
      "80/80 [==============================] - 4s 50ms/step - loss: 0.1986 - acc: 0.9125 - val_loss: 1.3525 - val_acc: 0.8250\n",
      "Epoch 25/30\n",
      "80/80 [==============================] - 4s 51ms/step - loss: 0.3035 - acc: 0.9000 - val_loss: 2.8831 - val_acc: 0.5750\n",
      "Epoch 26/30\n",
      "80/80 [==============================] - 4s 49ms/step - loss: 0.6045 - acc: 0.8750 - val_loss: 0.9568 - val_acc: 0.9000\n",
      "Epoch 27/30\n",
      "80/80 [==============================] - 4s 49ms/step - loss: 1.2579 - acc: 0.8000 - val_loss: 1.6387 - val_acc: 0.8500\n",
      "Epoch 28/30\n",
      "80/80 [==============================] - 4s 48ms/step - loss: 0.3002 - acc: 0.9125 - val_loss: 1.4512 - val_acc: 0.8500\n",
      "Epoch 29/30\n",
      "80/80 [==============================] - 4s 48ms/step - loss: 0.3683 - acc: 0.9375 - val_loss: 1.0618 - val_acc: 0.8500\n",
      "Epoch 30/30\n",
      "80/80 [==============================] - 4s 47ms/step - loss: 0.5062 - acc: 0.8500 - val_loss: 1.0594 - val_acc: 0.8000\n"
     ]
    }
   ],
   "source": [
    "EPOCHS = 30\n",
    "history = model.fit(train_data, train_labels, epochs=EPOCHS, validation_data=(test_data, test_labels), batch_size=10)"
   ]
  },
  {
   "cell_type": "code",
   "execution_count": 46,
   "metadata": {},
   "outputs": [
    {
     "data": {
      "image/png": "[encoded data removed]",
      "text/plain": [
       "<matplotlib.figure.Figure at 0x2cf723f5358>"
      ]
     },
     "metadata": {},
     "output_type": "display_data"
    },
    {
     "data": {
      "image/png": "[encoded data removed]",
      "text/plain": [
       "<matplotlib.figure.Figure at 0x2cf723b5f28>"
      ]
     },
     "metadata": {},
     "output_type": "display_data"
    }
   ],
   "source": [
    "%run history.py\n",
    "%matplotlib inline\n",
    "\n",
    "plot_accuracy(history)\n",
    "plot_loss(history)"
   ]
  },
  {
   "cell_type": "markdown",
   "metadata": {},
   "source": [
    "## Save the model"
   ]
  },
  {
   "cell_type": "code",
   "execution_count": 47,
   "metadata": {},
   "outputs": [],
   "source": [
    "import datetime\n",
    "\n",
    "dt = datetime.datetime.today().strftime('%Y%m%d%H%M%S')\n",
    "filename = DATASET_FOLDER + '/cnn_for_aed_restaurant_{}.h5'.format(dt)\n",
    "model.save(filename)"
   ]
  },
  {
   "cell_type": "markdown",
   "metadata": {},
   "source": [
    "## Load the model"
   ]
  },
  {
   "cell_type": "code",
   "execution_count": 48,
   "metadata": {},
   "outputs": [],
   "source": [
    "del model\n",
    "model = models.load_model(filename)"
   ]
  },
  {
   "cell_type": "markdown",
   "metadata": {
    "colab_type": "text",
    "id": "j6con4C3lKC1"
   },
   "source": [
    "## Confirmation"
   ]
  },
  {
   "cell_type": "code",
   "execution_count": 49,
   "metadata": {
    "colab": {
     "base_uri": "https://localhost:8080/",
     "height": 34
    },
    "colab_type": "code",
    "id": "4oZYLLij69wU",
    "outputId": "b37a4b8a-2c80-411f-d8a9-5df1c6dbfe22"
   },
   "outputs": [
    {
     "data": {
      "text/plain": [
       "(80, 96, 12, 1)"
      ]
     },
     "execution_count": 49,
     "metadata": {},
     "output_type": "execute_result"
    }
   ],
   "source": [
    "import numpy as np\n",
    "import matplotlib.pyplot as plt\n",
    "train_data.shape"
   ]
  },
  {
   "cell_type": "code",
   "execution_count": 50,
   "metadata": {
    "colab": {
     "base_uri": "https://localhost:8080/",
     "height": 193
    },
    "colab_type": "code",
    "id": "zSxXE9FgRBdJ",
    "outputId": "f3a53efe-e99f-4572-f9b4-1bf3c39c77ec"
   },
   "outputs": [],
   "source": [
    "layer_outputs = [layer.output for layer in model.layers]\n",
    "#layer_outputs"
   ]
  },
  {
   "cell_type": "code",
   "execution_count": 51,
   "metadata": {
    "colab": {
     "base_uri": "https://localhost:8080/",
     "height": 34
    },
    "colab_type": "code",
    "id": "dcw7yHKrRkPD",
    "outputId": "a3ed5441-ae48-4635-bf07-ac5060030608"
   },
   "outputs": [],
   "source": [
    "activation_model = models.Model(inputs=model.input, outputs=layer_outputs)\n",
    "activations = activation_model.predict(test_data)\n",
    "#activations[0][0,:,:,0].shape"
   ]
  },
  {
   "cell_type": "code",
   "execution_count": 52,
   "metadata": {},
   "outputs": [
    {
     "data": {
      "text/plain": [
       "['mazui', 'oishii', 'others', 'umai']"
      ]
     },
     "execution_count": 52,
     "metadata": {},
     "output_type": "execute_result"
    }
   ],
   "source": [
    "class_labels"
   ]
  },
  {
   "cell_type": "code",
   "execution_count": 53,
   "metadata": {
    "colab": {
     "base_uri": "https://localhost:8080/",
     "height": 193
    },
    "colab_type": "code",
    "id": "ccSNAwGKhRn9",
    "outputId": "0ad22e12-713b-4b07-e17b-45d39ff1b80b"
   },
   "outputs": [
    {
     "data": {
      "text/plain": [
       "array([[  0,   0,  99,   0],\n",
       "       [  1,  95,   3,   0],\n",
       "       [  0, 100,   0,   0],\n",
       "       [100,   0,   0,   0],\n",
       "       [  0,   0,  99,   0],\n",
       "       [ 99,   0,   0,   0],\n",
       "       [  8,   0,  91,   0],\n",
       "       [  0,   0,   0, 100],\n",
       "       [  0,   0,  50,  49],\n",
       "       [  0,   0,  99,   0]])"
      ]
     },
     "execution_count": 53,
     "metadata": {},
     "output_type": "execute_result"
    }
   ],
   "source": [
    "(activations[-1][:10]*100).astype(int)"
   ]
  },
  {
   "cell_type": "code",
   "execution_count": 54,
   "metadata": {
    "colab": {
     "base_uri": "https://localhost:8080/",
     "height": 193
    },
    "colab_type": "code",
    "id": "RoE0nxtuiGIN",
    "outputId": "154437a8-ab72-46f4-f42c-3e6464af47d0"
   },
   "outputs": [
    {
     "data": {
      "text/plain": [
       "array([[0, 0, 1, 0],\n",
       "       [1, 0, 0, 0],\n",
       "       [0, 1, 0, 0],\n",
       "       [1, 0, 0, 0],\n",
       "       [0, 0, 1, 0],\n",
       "       [1, 0, 0, 0],\n",
       "       [1, 0, 0, 0],\n",
       "       [0, 0, 0, 1],\n",
       "       [0, 0, 0, 1],\n",
       "       [0, 0, 1, 0]])"
      ]
     },
     "execution_count": 54,
     "metadata": {},
     "output_type": "execute_result"
    }
   ],
   "source": [
    "test_labels[:10].astype(int)"
   ]
  },
  {
   "cell_type": "code",
   "execution_count": 55,
   "metadata": {},
   "outputs": [],
   "source": [
    "def plot_layer(activations, sample, layer):\n",
    "    a = activations[layer].shape\n",
    "    rows = int(a[3]/4)\n",
    "    fig, axarr = plt.subplots(rows, 4, figsize=[20,15])\n",
    "    for i in range(a[3]):\n",
    "        row = int(i/4)\n",
    "        x, y = row, i-4*row\n",
    "        axarr[x, y].imshow(np.rot90(activations[layer][sample, :, :, i]))\n",
    "        axarr[x, y].set_xticks([])\n",
    "        axarr[x, y].set_yticks([])"
   ]
  },
  {
   "cell_type": "code",
   "execution_count": 56,
   "metadata": {},
   "outputs": [
    {
     "data": {
      "text/plain": [
       "'umai'"
      ]
     },
     "execution_count": 56,
     "metadata": {},
     "output_type": "execute_result"
    },
    {
     "data": {
      "image/png": "[encoded data removed]",
      "text/plain": [
       "<matplotlib.figure.Figure at 0x2cf75e320b8>"
      ]
     },
     "metadata": {},
     "output_type": "display_data"
    }
   ],
   "source": [
    "image_number = 7\n",
    "\n",
    "plt.imshow(np.rot90(test_data[image_number,:,:,0]))\n",
    "class_labels[np.argmax(test_labels[image_number])]"
   ]
  },
  {
   "cell_type": "code",
   "execution_count": 57,
   "metadata": {},
   "outputs": [
    {
     "data": {
      "image/png": "[encoded data removed]",
      "text/plain": [
       "<matplotlib.figure.Figure at 0x2cf76440390>"
      ]
     },
     "metadata": {},
     "output_type": "display_data"
    }
   ],
   "source": [
    "plot_layer(activations, image_number, 2)"
   ]
  },
  {
   "cell_type": "code",
   "execution_count": 58,
   "metadata": {},
   "outputs": [
    {
     "data": {
      "image/png": "[encoded data removed]",
      "text/plain": [
       "<matplotlib.figure.Figure at 0x2cf70bc85f8>"
      ]
     },
     "metadata": {},
     "output_type": "display_data"
    }
   ],
   "source": [
    "plot_layer(activations, image_number, 6)"
   ]
  },
  {
   "cell_type": "code",
   "execution_count": null,
   "metadata": {},
   "outputs": [],
   "source": []
  }
 ],
 "metadata": {
  "colab": {
   "collapsed_sections": [],
   "name": "CNN for AED",
   "provenance": [],
   "version": "0.3.2"
  },
  "kernelspec": {
   "display_name": "Python 3",
   "language": "python",
   "name": "python3"
  },
  "language_info": {
   "codemirror_mode": {
    "name": "ipython",
    "version": 3
   },
   "file_extension": ".py",
   "mimetype": "text/x-python",
   "name": "python",
   "nbconvert_exporter": "python",
   "pygments_lexer": "ipython3",
   "version": "3.6.4"
  }
 },
 "nbformat": 4,
 "nbformat_minor": 1
}
