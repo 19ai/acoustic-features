{
 "cells": [
  {
   "cell_type": "markdown",
   "metadata": {
    "colab_type": "text",
    "id": "0X16cagQE-Y-"
   },
   "source": [
    "# CNN for AED with Keras/TensorFlow (restaurant)\n",
    "\n",
    "Date: Nov 19, 2018\n",
    "\n",
    "Speech recognition with Keras/TensorFlow\n",
    "\n",
    "Data acquisition: living room\n",
    "\n",
    "Feature set: MFCCs"
   ]
  },
  {
   "cell_type": "markdown",
   "metadata": {
    "colab_type": "text",
    "id": "WwQ-dEltkl5Q"
   },
   "source": [
    "## Preparing data set for CNN"
   ]
  },
  {
   "cell_type": "code",
   "execution_count": 76,
   "metadata": {
    "colab": {
     "base_uri": "https://localhost:8080/",
     "height": 34
    },
    "colab_type": "code",
    "id": "VEJyQsGpV3ug",
    "outputId": "3929aa39-3383-4791-e065-3622e6781181"
   },
   "outputs": [],
   "source": [
    "DATA_FOLDER = '../oscilloscope/data_restaurant/'\n",
    "\n",
    "FILTERS=40\n",
    "FILES = 30\n",
    "TRAINING_FILES = 20\n",
    "TEST_FILES = FILES - TRAINING_FILES"
   ]
  },
  {
   "cell_type": "code",
   "execution_count": 77,
   "metadata": {
    "colab": {},
    "colab_type": "code",
    "id": "JTNdoPBFWGky"
   },
   "outputs": [],
   "source": [
    "%matplotlib inline\n",
    "\n",
    "import matplotlib\n",
    "import matplotlib.pyplot as plt\n",
    "import numpy as np\n",
    "import pandas as pd\n",
    "import time\n",
    "import random\n",
    "import os\n",
    "import sklearn.preprocessing as pp"
   ]
  },
  {
   "cell_type": "code",
   "execution_count": 78,
   "metadata": {},
   "outputs": [
    {
     "name": "stdout",
     "output_type": "stream",
     "text": [
      "0: umai\n",
      "3: oishii\n",
      "1: others\n",
      "2: mazui\n"
     ]
    },
    {
     "data": {
      "text/plain": [
       "(80, ['umai', 'others', 'mazui', 'oishii'])"
      ]
     },
     "execution_count": 78,
     "metadata": {},
     "output_type": "execute_result"
    }
   ],
   "source": [
    "import glob\n",
    "\n",
    "#data_files = glob.glob(DATA_FOLDER+'*mel_spectrogram*.csv')\n",
    "data_files = glob.glob(DATA_FOLDER+'*mfcc*.csv')\n",
    "class_labels = []\n",
    "\n",
    "for file in data_files:\n",
    "    label = file.split('-')[0].replace('\\\\', '/').split('/')[-1]\n",
    "    if label not in class_labels:\n",
    "        class_labels.append(label)\n",
    "\n",
    "data_set = {}\n",
    "\n",
    "class_number = 0\n",
    "\n",
    "for label in class_labels:\n",
    "#    files = glob.glob(DATA_FOLDER+'{}-*mel_spectrogram*.csv'.format(label))\n",
    "    files = glob.glob(DATA_FOLDER+'{}-*mfcc*.csv'.format(label))\n",
    "    random.shuffle(files)\n",
    "    data_set[label] = (files[:TRAINING_FILES], files[TRAINING_FILES:FILES], class_number)\n",
    "    class_number += 1\n",
    "\n",
    "training_set = []\n",
    "test_set = []\n",
    "\n",
    "LENGTH=96\n",
    "\n",
    "for k, v in data_set.items():\n",
    "    files = v[0]\n",
    "    class_number = v[2]\n",
    "    for file in files:\n",
    "        df = pd.read_csv(file.replace(os.path.sep, '/'), dtype=np.float)\n",
    "        #df = df[df['n']<FILTERS]\n",
    "        img1 = pp.scale(df[:FILTERS*LENGTH]['magnitude'].values)\n",
    "        training_set.append((img1, class_number))\n",
    "    files = v[1]\n",
    "    for file in files:\n",
    "        df = pd.read_csv(file.replace(os.path.sep, '/'), dtype=np.float)\n",
    "        #df = df[df['n']<FILTERS]\n",
    "        img1 = pp.scale(df[:FILTERS*LENGTH]['magnitude'].values)\n",
    "        test_set.append((img1, class_number))\n",
    "\n",
    "random.shuffle(training_set)\n",
    "random.shuffle(test_set)\n",
    "\n",
    "class_labels = [None for _ in range(len(data_set))]\n",
    "\n",
    "# Class number and class labels\n",
    "for k,v in data_set.items():\n",
    "    print('{}: {}'.format(v[2],k ))\n",
    "    class_labels[v[2]] = k\n",
    "\n",
    "import yaml\n",
    "with open(DATA_FOLDER+'class_labels.yaml', 'w') as f:\n",
    "    yaml.dump(class_labels, f)\n",
    "\n",
    "len(training_set), class_labels"
   ]
  },
  {
   "cell_type": "code",
   "execution_count": 79,
   "metadata": {
    "colab": {},
    "colab_type": "code",
    "id": "28tIKkNyW3cO"
   },
   "outputs": [
    {
     "data": {
      "text/plain": [
       "<matplotlib.image.AxesImage at 0x5d30ce50>"
      ]
     },
     "execution_count": 79,
     "metadata": {},
     "output_type": "execute_result"
    },
    {
     "data": {
      "image/png": "[encoded data removed]",
      "text/plain": [
       "<matplotlib.figure.Figure at 0x5cc8e430>"
      ]
     },
     "metadata": {
      "needs_background": "light"
     },
     "output_type": "display_data"
    }
   ],
   "source": [
    "train_data, train_labels = [], []\n",
    "test_data, test_labels = [], []\n",
    "for img, label in training_set:\n",
    "    train_data.append(img)\n",
    "    train_labels.append(label)\n",
    "for img, label in test_set:\n",
    "    test_data.append(img)\n",
    "    test_labels.append(label)\n",
    "train_data = np.array(train_data, dtype='float32').reshape((TRAINING_FILES*len(class_labels), LENGTH, FILTERS, 1))\n",
    "train_data = train_data[:,:,:12,:]\n",
    "\n",
    "train_labels = np.array(train_labels, dtype='uint8')\n",
    "test_data = np.array(test_data, dtype='float32').reshape((TEST_FILES*len(class_labels), LENGTH, FILTERS, 1))\n",
    "test_data = test_data[:,:,:12,:]\n",
    "\n",
    "test_lables = np.array(test_labels, dtype='uint8')\n",
    "#train_data.shape\n",
    "\n",
    "from keras.utils import to_categorical\n",
    "\n",
    "train_labels=to_categorical(train_labels)\n",
    "test_labels=to_categorical(test_labels)\n",
    "\n",
    "plt.imshow(np.rot90(train_data[20 ,:,:,0]))"
   ]
  },
  {
   "cell_type": "markdown",
   "metadata": {
    "colab_type": "text",
    "id": "VfUmgxxVk6uM"
   },
   "source": [
    "### CNN model"
   ]
  },
  {
   "cell_type": "code",
   "execution_count": 80,
   "metadata": {
    "colab": {
     "base_uri": "https://localhost:8080/",
     "height": 509
    },
    "colab_type": "code",
    "id": "B2Xg6tGLdMKP",
    "outputId": "ae3daa32-9dbf-4d8b-9a11-7f596dd2e4a6"
   },
   "outputs": [
    {
     "name": "stdout",
     "output_type": "stream",
     "text": [
      "_________________________________________________________________\n",
      "Layer (type)                 Output Shape              Param #   \n",
      "=================================================================\n",
      "conv2d_17 (Conv2D)           (None, 94, 10, 8)         80        \n",
      "_________________________________________________________________\n",
      "max_pooling2d_17 (MaxPooling (None, 47, 10, 8)         0         \n",
      "_________________________________________________________________\n",
      "conv2d_18 (Conv2D)           (None, 45, 8, 16)         1168      \n",
      "_________________________________________________________________\n",
      "max_pooling2d_18 (MaxPooling (None, 22, 8, 16)         0         \n",
      "_________________________________________________________________\n",
      "conv2d_19 (Conv2D)           (None, 20, 6, 32)         4640      \n",
      "_________________________________________________________________\n",
      "max_pooling2d_19 (MaxPooling (None, 10, 6, 32)         0         \n",
      "_________________________________________________________________\n",
      "conv2d_20 (Conv2D)           (None, 8, 4, 64)          18496     \n",
      "_________________________________________________________________\n",
      "max_pooling2d_20 (MaxPooling (None, 4, 2, 64)          0         \n",
      "_________________________________________________________________\n",
      "flatten_5 (Flatten)          (None, 512)               0         \n",
      "_________________________________________________________________\n",
      "dense_5 (Dense)              (None, 64)                32832     \n",
      "_________________________________________________________________\n",
      "dropout_5 (Dropout)          (None, 64)                0         \n",
      "_________________________________________________________________\n",
      "dense_6 (Dense)              (None, 4)                 260       \n",
      "=================================================================\n",
      "Total params: 57,476\n",
      "Trainable params: 57,476\n",
      "Non-trainable params: 0\n",
      "_________________________________________________________________\n"
     ]
    }
   ],
   "source": [
    "from keras import layers\n",
    "from keras import models\n",
    "\n",
    "model = models.Sequential()\n",
    "\n",
    "model.add(layers.Conv2D(8, (3, 3), activation='relu', input_shape=(LENGTH, 12, 1)))\n",
    "model.add(layers.MaxPooling2D((2,1)))\n",
    "\n",
    "model.add(layers.Conv2D(16, (3, 3), activation='relu'))\n",
    "model.add(layers.MaxPooling2D((2,1)))\n",
    "\n",
    "model.add(layers.Conv2D(32, (3, 3), activation='relu'))\n",
    "model.add(layers.MaxPooling2D((2,1)))\n",
    "\n",
    "model.add(layers.Conv2D(64, (3, 3), activation='relu'))\n",
    "model.add(layers.MaxPooling2D((2,2)))\n",
    "\n",
    "model.add(layers.Flatten())\n",
    "model.add(layers.Dense(64, activation='relu'))\n",
    "model.add(layers.Dropout(0.5))\n",
    "model.add(layers.Dense(4, activation='softmax'))\n",
    "\n",
    "model.summary()"
   ]
  },
  {
   "cell_type": "code",
   "execution_count": 81,
   "metadata": {
    "colab": {},
    "colab_type": "code",
    "id": "nRr1L_4ogL6i"
   },
   "outputs": [],
   "source": [
    "model.compile(optimizer='rmsprop', loss='categorical_crossentropy', metrics=['accuracy'])"
   ]
  },
  {
   "cell_type": "code",
   "execution_count": 82,
   "metadata": {},
   "outputs": [
    {
     "data": {
      "image/svg+xml": [
       "<svg height=\"921pt\" viewBox=\"0.00 0.00 272.00 921.00\" width=\"272pt\" xmlns=\"http://www.w3.org/2000/svg\" xmlns:xlink=\"http://www.w3.org/1999/xlink\">\n",
       "<g class=\"graph\" id=\"graph0\" transform=\"scale(1 1) rotate(0) translate(4 917)\">\n",
       "<title>G</title>\n",
       "<polygon fill=\"white\" points=\"-4,4 -4,-917 268,-917 268,4 -4,4\" stroke=\"none\"/>\n",
       "<!-- 1557152912 -->\n",
       "<g class=\"node\" id=\"node1\"><title>1557152912</title>\n",
       "<polygon fill=\"none\" points=\"52,-803.5 52,-839.5 212,-839.5 212,-803.5 52,-803.5\" stroke=\"black\"/>\n",
       "<text font-family=\"Times,serif\" font-size=\"14.00\" text-anchor=\"middle\" x=\"132\" y=\"-817.8\">conv2d_17: Conv2D</text>\n",
       "</g>\n",
       "<!-- 1557153008 -->\n",
       "<g class=\"node\" id=\"node2\"><title>1557153008</title>\n",
       "<polygon fill=\"none\" points=\"0,-730.5 0,-766.5 264,-766.5 264,-730.5 0,-730.5\" stroke=\"black\"/>\n",
       "<text font-family=\"Times,serif\" font-size=\"14.00\" text-anchor=\"middle\" x=\"132\" y=\"-744.8\">max_pooling2d_17: MaxPooling2D</text>\n",
       "</g>\n",
       "<!-- 1557152912&#45;&gt;1557153008 -->\n",
       "<g class=\"edge\" id=\"edge2\"><title>1557152912-&gt;1557153008</title>\n",
       "<path d=\"M132,-803.313C132,-795.289 132,-785.547 132,-776.569\" fill=\"none\" stroke=\"black\"/>\n",
       "<polygon fill=\"black\" points=\"135.5,-776.529 132,-766.529 128.5,-776.529 135.5,-776.529\" stroke=\"black\"/>\n",
       "</g>\n",
       "<!-- 1557146992 -->\n",
       "<g class=\"node\" id=\"node3\"><title>1557146992</title>\n",
       "<polygon fill=\"none\" points=\"52,-657.5 52,-693.5 212,-693.5 212,-657.5 52,-657.5\" stroke=\"black\"/>\n",
       "<text font-family=\"Times,serif\" font-size=\"14.00\" text-anchor=\"middle\" x=\"132\" y=\"-671.8\">conv2d_18: Conv2D</text>\n",
       "</g>\n",
       "<!-- 1557153008&#45;&gt;1557146992 -->\n",
       "<g class=\"edge\" id=\"edge3\"><title>1557153008-&gt;1557146992</title>\n",
       "<path d=\"M132,-730.313C132,-722.289 132,-712.547 132,-703.569\" fill=\"none\" stroke=\"black\"/>\n",
       "<polygon fill=\"black\" points=\"135.5,-703.529 132,-693.529 128.5,-703.529 135.5,-703.529\" stroke=\"black\"/>\n",
       "</g>\n",
       "<!-- 1556686064 -->\n",
       "<g class=\"node\" id=\"node4\"><title>1556686064</title>\n",
       "<polygon fill=\"none\" points=\"0,-584.5 0,-620.5 264,-620.5 264,-584.5 0,-584.5\" stroke=\"black\"/>\n",
       "<text font-family=\"Times,serif\" font-size=\"14.00\" text-anchor=\"middle\" x=\"132\" y=\"-598.8\">max_pooling2d_18: MaxPooling2D</text>\n",
       "</g>\n",
       "<!-- 1557146992&#45;&gt;1556686064 -->\n",
       "<g class=\"edge\" id=\"edge4\"><title>1557146992-&gt;1556686064</title>\n",
       "<path d=\"M132,-657.313C132,-649.289 132,-639.547 132,-630.569\" fill=\"none\" stroke=\"black\"/>\n",
       "<polygon fill=\"black\" points=\"135.5,-630.529 132,-620.529 128.5,-630.529 135.5,-630.529\" stroke=\"black\"/>\n",
       "</g>\n",
       "<!-- 1590053168 -->\n",
       "<g class=\"node\" id=\"node5\"><title>1590053168</title>\n",
       "<polygon fill=\"none\" points=\"52,-511.5 52,-547.5 212,-547.5 212,-511.5 52,-511.5\" stroke=\"black\"/>\n",
       "<text font-family=\"Times,serif\" font-size=\"14.00\" text-anchor=\"middle\" x=\"132\" y=\"-525.8\">conv2d_19: Conv2D</text>\n",
       "</g>\n",
       "<!-- 1556686064&#45;&gt;1590053168 -->\n",
       "<g class=\"edge\" id=\"edge5\"><title>1556686064-&gt;1590053168</title>\n",
       "<path d=\"M132,-584.313C132,-576.289 132,-566.547 132,-557.569\" fill=\"none\" stroke=\"black\"/>\n",
       "<polygon fill=\"black\" points=\"135.5,-557.529 132,-547.529 128.5,-557.529 135.5,-557.529\" stroke=\"black\"/>\n",
       "</g>\n",
       "<!-- 1556418832 -->\n",
       "<g class=\"node\" id=\"node6\"><title>1556418832</title>\n",
       "<polygon fill=\"none\" points=\"0,-438.5 0,-474.5 264,-474.5 264,-438.5 0,-438.5\" stroke=\"black\"/>\n",
       "<text font-family=\"Times,serif\" font-size=\"14.00\" text-anchor=\"middle\" x=\"132\" y=\"-452.8\">max_pooling2d_19: MaxPooling2D</text>\n",
       "</g>\n",
       "<!-- 1590053168&#45;&gt;1556418832 -->\n",
       "<g class=\"edge\" id=\"edge6\"><title>1590053168-&gt;1556418832</title>\n",
       "<path d=\"M132,-511.313C132,-503.289 132,-493.547 132,-484.569\" fill=\"none\" stroke=\"black\"/>\n",
       "<polygon fill=\"black\" points=\"135.5,-484.529 132,-474.529 128.5,-484.529 135.5,-484.529\" stroke=\"black\"/>\n",
       "</g>\n",
       "<!-- 1556405776 -->\n",
       "<g class=\"node\" id=\"node7\"><title>1556405776</title>\n",
       "<polygon fill=\"none\" points=\"52,-365.5 52,-401.5 212,-401.5 212,-365.5 52,-365.5\" stroke=\"black\"/>\n",
       "<text font-family=\"Times,serif\" font-size=\"14.00\" text-anchor=\"middle\" x=\"132\" y=\"-379.8\">conv2d_20: Conv2D</text>\n",
       "</g>\n",
       "<!-- 1556418832&#45;&gt;1556405776 -->\n",
       "<g class=\"edge\" id=\"edge7\"><title>1556418832-&gt;1556405776</title>\n",
       "<path d=\"M132,-438.313C132,-430.289 132,-420.547 132,-411.569\" fill=\"none\" stroke=\"black\"/>\n",
       "<polygon fill=\"black\" points=\"135.5,-411.529 132,-401.529 128.5,-411.529 135.5,-411.529\" stroke=\"black\"/>\n",
       "</g>\n",
       "<!-- 1556944336 -->\n",
       "<g class=\"node\" id=\"node8\"><title>1556944336</title>\n",
       "<polygon fill=\"none\" points=\"0,-292.5 0,-328.5 264,-328.5 264,-292.5 0,-292.5\" stroke=\"black\"/>\n",
       "<text font-family=\"Times,serif\" font-size=\"14.00\" text-anchor=\"middle\" x=\"132\" y=\"-306.8\">max_pooling2d_20: MaxPooling2D</text>\n",
       "</g>\n",
       "<!-- 1556405776&#45;&gt;1556944336 -->\n",
       "<g class=\"edge\" id=\"edge8\"><title>1556405776-&gt;1556944336</title>\n",
       "<path d=\"M132,-365.313C132,-357.289 132,-347.547 132,-338.569\" fill=\"none\" stroke=\"black\"/>\n",
       "<polygon fill=\"black\" points=\"135.5,-338.529 132,-328.529 128.5,-338.529 135.5,-338.529\" stroke=\"black\"/>\n",
       "</g>\n",
       "<!-- 1557096688 -->\n",
       "<g class=\"node\" id=\"node9\"><title>1557096688</title>\n",
       "<polygon fill=\"none\" points=\"61.5,-219.5 61.5,-255.5 202.5,-255.5 202.5,-219.5 61.5,-219.5\" stroke=\"black\"/>\n",
       "<text font-family=\"Times,serif\" font-size=\"14.00\" text-anchor=\"middle\" x=\"132\" y=\"-233.8\">flatten_5: Flatten</text>\n",
       "</g>\n",
       "<!-- 1556944336&#45;&gt;1557096688 -->\n",
       "<g class=\"edge\" id=\"edge9\"><title>1556944336-&gt;1557096688</title>\n",
       "<path d=\"M132,-292.313C132,-284.289 132,-274.547 132,-265.569\" fill=\"none\" stroke=\"black\"/>\n",
       "<polygon fill=\"black\" points=\"135.5,-265.529 132,-255.529 128.5,-265.529 135.5,-265.529\" stroke=\"black\"/>\n",
       "</g>\n",
       "<!-- 1556469744 -->\n",
       "<g class=\"node\" id=\"node10\"><title>1556469744</title>\n",
       "<polygon fill=\"none\" points=\"68,-146.5 68,-182.5 196,-182.5 196,-146.5 68,-146.5\" stroke=\"black\"/>\n",
       "<text font-family=\"Times,serif\" font-size=\"14.00\" text-anchor=\"middle\" x=\"132\" y=\"-160.8\">dense_5: Dense</text>\n",
       "</g>\n",
       "<!-- 1557096688&#45;&gt;1556469744 -->\n",
       "<g class=\"edge\" id=\"edge10\"><title>1557096688-&gt;1556469744</title>\n",
       "<path d=\"M132,-219.313C132,-211.289 132,-201.547 132,-192.569\" fill=\"none\" stroke=\"black\"/>\n",
       "<polygon fill=\"black\" points=\"135.5,-192.529 132,-182.529 128.5,-192.529 135.5,-192.529\" stroke=\"black\"/>\n",
       "</g>\n",
       "<!-- 1556504304 -->\n",
       "<g class=\"node\" id=\"node11\"><title>1556504304</title>\n",
       "<polygon fill=\"none\" points=\"53.5,-73.5 53.5,-109.5 210.5,-109.5 210.5,-73.5 53.5,-73.5\" stroke=\"black\"/>\n",
       "<text font-family=\"Times,serif\" font-size=\"14.00\" text-anchor=\"middle\" x=\"132\" y=\"-87.8\">dropout_5: Dropout</text>\n",
       "</g>\n",
       "<!-- 1556469744&#45;&gt;1556504304 -->\n",
       "<g class=\"edge\" id=\"edge11\"><title>1556469744-&gt;1556504304</title>\n",
       "<path d=\"M132,-146.313C132,-138.289 132,-128.547 132,-119.569\" fill=\"none\" stroke=\"black\"/>\n",
       "<polygon fill=\"black\" points=\"135.5,-119.529 132,-109.529 128.5,-119.529 135.5,-119.529\" stroke=\"black\"/>\n",
       "</g>\n",
       "<!-- 1563297200 -->\n",
       "<g class=\"node\" id=\"node12\"><title>1563297200</title>\n",
       "<polygon fill=\"none\" points=\"68,-0.5 68,-36.5 196,-36.5 196,-0.5 68,-0.5\" stroke=\"black\"/>\n",
       "<text font-family=\"Times,serif\" font-size=\"14.00\" text-anchor=\"middle\" x=\"132\" y=\"-14.8\">dense_6: Dense</text>\n",
       "</g>\n",
       "<!-- 1556504304&#45;&gt;1563297200 -->\n",
       "<g class=\"edge\" id=\"edge12\"><title>1556504304-&gt;1563297200</title>\n",
       "<path d=\"M132,-73.3129C132,-65.2895 132,-55.5475 132,-46.5691\" fill=\"none\" stroke=\"black\"/>\n",
       "<polygon fill=\"black\" points=\"135.5,-46.5288 132,-36.5288 128.5,-46.5289 135.5,-46.5288\" stroke=\"black\"/>\n",
       "</g>\n",
       "<!-- 1557147472 -->\n",
       "<g class=\"node\" id=\"node13\"><title>1557147472</title>\n",
       "<polygon fill=\"none\" points=\"78.5,-876.5 78.5,-912.5 185.5,-912.5 185.5,-876.5 78.5,-876.5\" stroke=\"black\"/>\n",
       "<text font-family=\"Times,serif\" font-size=\"14.00\" text-anchor=\"middle\" x=\"132\" y=\"-890.8\">1557147472</text>\n",
       "</g>\n",
       "<!-- 1557147472&#45;&gt;1557152912 -->\n",
       "<g class=\"edge\" id=\"edge1\"><title>1557147472-&gt;1557152912</title>\n",
       "<path d=\"M132,-876.313C132,-868.289 132,-858.547 132,-849.569\" fill=\"none\" stroke=\"black\"/>\n",
       "<polygon fill=\"black\" points=\"135.5,-849.529 132,-839.529 128.5,-849.529 135.5,-849.529\" stroke=\"black\"/>\n",
       "</g>\n",
       "</g>\n",
       "</svg>"
      ],
      "text/plain": [
       "<IPython.core.display.SVG object>"
      ]
     },
     "execution_count": 82,
     "metadata": {},
     "output_type": "execute_result"
    }
   ],
   "source": [
    "from IPython.display import SVG\n",
    "from keras.utils.vis_utils import model_to_dot\n",
    "\n",
    "SVG(model_to_dot(model).create(prog='dot', format='svg'))"
   ]
  },
  {
   "cell_type": "markdown",
   "metadata": {
    "colab_type": "text",
    "id": "TfypWUJIlFkz"
   },
   "source": [
    "## Training CNN"
   ]
  },
  {
   "cell_type": "code",
   "execution_count": 83,
   "metadata": {
    "colab": {
     "base_uri": "https://localhost:8080/",
     "height": 931
    },
    "colab_type": "code",
    "id": "zsdmu-ggfvr1",
    "outputId": "77a52558-8ecc-4fc5-e0cb-2b86a75df4c6"
   },
   "outputs": [
    {
     "name": "stdout",
     "output_type": "stream",
     "text": [
      "Train on 80 samples, validate on 40 samples\n",
      "Epoch 1/30\n",
      "80/80 [==============================] - 5s 69ms/step - loss: 1.4117 - acc: 0.2250 - val_loss: 1.3612 - val_acc: 0.3750\n",
      "Epoch 2/30\n",
      "80/80 [==============================] - 1s 12ms/step - loss: 1.3733 - acc: 0.2750 - val_loss: 1.3090 - val_acc: 0.5500\n",
      "Epoch 3/30\n",
      "80/80 [==============================] - 1s 12ms/step - loss: 1.3286 - acc: 0.3875 - val_loss: 1.2464 - val_acc: 0.6750\n",
      "Epoch 4/30\n",
      "80/80 [==============================] - 1s 12ms/step - loss: 1.2082 - acc: 0.5750 - val_loss: 1.1071 - val_acc: 0.6750\n",
      "Epoch 5/30\n",
      "80/80 [==============================] - 1s 12ms/step - loss: 1.0759 - acc: 0.6500 - val_loss: 0.9419 - val_acc: 0.6750\n",
      "Epoch 6/30\n",
      "80/80 [==============================] - 1s 13ms/step - loss: 0.9857 - acc: 0.5375 - val_loss: 0.8303 - val_acc: 0.7250\n",
      "Epoch 7/30\n",
      "80/80 [==============================] - 1s 10ms/step - loss: 0.8250 - acc: 0.6625 - val_loss: 0.6557 - val_acc: 0.8500\n",
      "Epoch 8/30\n",
      "80/80 [==============================] - 1s 12ms/step - loss: 0.7301 - acc: 0.7500 - val_loss: 0.5507 - val_acc: 0.9250\n",
      "Epoch 9/30\n",
      "80/80 [==============================] - 1s 12ms/step - loss: 0.6209 - acc: 0.8125 - val_loss: 0.4809 - val_acc: 0.8250\n",
      "Epoch 10/30\n",
      "80/80 [==============================] - 1s 12ms/step - loss: 0.6347 - acc: 0.7250 - val_loss: 0.6217 - val_acc: 0.7500\n",
      "Epoch 11/30\n",
      "80/80 [==============================] - 1s 13ms/step - loss: 0.5434 - acc: 0.8125 - val_loss: 0.3773 - val_acc: 0.9500\n",
      "Epoch 12/30\n",
      "80/80 [==============================] - 1s 12ms/step - loss: 0.5905 - acc: 0.7625 - val_loss: 0.4572 - val_acc: 0.9000\n",
      "Epoch 13/30\n",
      "80/80 [==============================] - 1s 13ms/step - loss: 0.3148 - acc: 0.9250 - val_loss: 0.5321 - val_acc: 0.8000\n",
      "Epoch 14/30\n",
      "80/80 [==============================] - 1s 13ms/step - loss: 0.4038 - acc: 0.8625 - val_loss: 0.3114 - val_acc: 0.8500\n",
      "Epoch 15/30\n",
      "80/80 [==============================] - 1s 13ms/step - loss: 0.4279 - acc: 0.8375 - val_loss: 0.2943 - val_acc: 0.9500\n",
      "Epoch 16/30\n",
      "80/80 [==============================] - 1s 12ms/step - loss: 0.2712 - acc: 0.9250 - val_loss: 0.2891 - val_acc: 0.9250\n",
      "Epoch 17/30\n",
      "80/80 [==============================] - 1s 13ms/step - loss: 0.3068 - acc: 0.8875 - val_loss: 0.4626 - val_acc: 0.8500\n",
      "Epoch 18/30\n",
      "80/80 [==============================] - 1s 13ms/step - loss: 0.3623 - acc: 0.8500 - val_loss: 0.2337 - val_acc: 0.9250\n",
      "Epoch 19/30\n",
      "80/80 [==============================] - 1s 13ms/step - loss: 0.1935 - acc: 0.9500 - val_loss: 0.3469 - val_acc: 0.8750\n",
      "Epoch 20/30\n",
      "80/80 [==============================] - 1s 12ms/step - loss: 0.3309 - acc: 0.8875 - val_loss: 0.2181 - val_acc: 0.9500\n",
      "Epoch 21/30\n",
      "80/80 [==============================] - 1s 13ms/step - loss: 0.2038 - acc: 0.9375 - val_loss: 0.4830 - val_acc: 0.8250\n",
      "Epoch 22/30\n",
      "80/80 [==============================] - 1s 13ms/step - loss: 0.3790 - acc: 0.8250 - val_loss: 0.2191 - val_acc: 0.9500\n",
      "Epoch 23/30\n",
      "80/80 [==============================] - 1s 12ms/step - loss: 0.2077 - acc: 0.9125 - val_loss: 0.1397 - val_acc: 0.9500\n",
      "Epoch 24/30\n",
      "80/80 [==============================] - 1s 13ms/step - loss: 0.1655 - acc: 0.9500 - val_loss: 0.1492 - val_acc: 0.9500\n",
      "Epoch 25/30\n",
      "80/80 [==============================] - 1s 13ms/step - loss: 0.1213 - acc: 0.9500 - val_loss: 0.2227 - val_acc: 0.9500\n",
      "Epoch 26/30\n",
      "80/80 [==============================] - 1s 13ms/step - loss: 0.2252 - acc: 0.9000 - val_loss: 0.4052 - val_acc: 0.8750\n",
      "Epoch 27/30\n",
      "80/80 [==============================] - 1s 12ms/step - loss: 0.1262 - acc: 0.9625 - val_loss: 0.4761 - val_acc: 0.8750\n",
      "Epoch 28/30\n",
      "80/80 [==============================] - 1s 12ms/step - loss: 0.2245 - acc: 0.9500 - val_loss: 0.2082 - val_acc: 0.9250\n",
      "Epoch 29/30\n",
      "80/80 [==============================] - 1s 12ms/step - loss: 0.1194 - acc: 0.9500 - val_loss: 0.2576 - val_acc: 0.9500\n",
      "Epoch 30/30\n",
      "80/80 [==============================] - 1s 14ms/step - loss: 0.0895 - acc: 0.9875 - val_loss: 0.2374 - val_acc: 0.9500\n"
     ]
    }
   ],
   "source": [
    "EPOCHS = 30\n",
    "history = model.fit(train_data, train_labels, epochs=EPOCHS, validation_data=(test_data, test_labels), batch_size=10)"
   ]
  },
  {
   "cell_type": "code",
   "execution_count": 84,
   "metadata": {},
   "outputs": [
    {
     "name": "stdout",
     "output_type": "stream",
     "text": [
      "dict_keys(['val_acc', 'loss', 'val_loss', 'acc'])\n"
     ]
    },
    {
     "data": {
      "image/png": "[encoded data removed]",
      "text/plain": [
       "<matplotlib.figure.Figure at 0x5d01c7f0>"
      ]
     },
     "metadata": {
      "needs_background": "light"
     },
     "output_type": "display_data"
    },
    {
     "data": {
      "image/png": "[encoded data removed]",
      "text/plain": [
       "<matplotlib.figure.Figure at 0x5d29b630>"
      ]
     },
     "metadata": {
      "needs_background": "light"
     },
     "output_type": "display_data"
    }
   ],
   "source": [
    "print(history.history.keys())\n",
    "\n",
    "# Plot training & validation accuracy values\n",
    "plt.plot(history.history['acc'])\n",
    "plt.plot(history.history['val_acc'])\n",
    "\n",
    "plt.title('Model accuracy')\n",
    "plt.ylabel('Accuracy')\n",
    "plt.xlabel('Epoch')\n",
    "plt.legend(['Train', 'Test'], loc='upper left')\n",
    "plt.show()\n",
    "\n",
    "# Plot training & validation loss values\n",
    "plt.plot(history.history['loss'])\n",
    "plt.plot(history.history['val_loss'])\n",
    "plt.title('Model loss')\n",
    "plt.ylabel('Loss')\n",
    "plt.xlabel('Epoch')\n",
    "plt.legend(['Train', 'Test'], loc='upper left')\n",
    "plt.show()"
   ]
  },
  {
   "cell_type": "markdown",
   "metadata": {},
   "source": [
    "## Save the model"
   ]
  },
  {
   "cell_type": "code",
   "execution_count": 85,
   "metadata": {},
   "outputs": [],
   "source": [
    "import datetime\n",
    "\n",
    "dt = datetime.datetime.today().strftime('%Y%m%d%H%M%S')\n",
    "filename = 'cnn_for_aed_restaurant_{}.h5'.format(dt)\n",
    "model.save(filename)"
   ]
  },
  {
   "cell_type": "markdown",
   "metadata": {},
   "source": [
    "## Load the model"
   ]
  },
  {
   "cell_type": "code",
   "execution_count": 86,
   "metadata": {},
   "outputs": [],
   "source": [
    "del model\n",
    "model = models.load_model(filename)"
   ]
  },
  {
   "cell_type": "markdown",
   "metadata": {
    "colab_type": "text",
    "id": "j6con4C3lKC1"
   },
   "source": [
    "## Confirmation"
   ]
  },
  {
   "cell_type": "code",
   "execution_count": 87,
   "metadata": {
    "colab": {
     "base_uri": "https://localhost:8080/",
     "height": 34
    },
    "colab_type": "code",
    "id": "4oZYLLij69wU",
    "outputId": "b37a4b8a-2c80-411f-d8a9-5df1c6dbfe22"
   },
   "outputs": [
    {
     "data": {
      "text/plain": [
       "(80, 96, 12, 1)"
      ]
     },
     "execution_count": 87,
     "metadata": {},
     "output_type": "execute_result"
    }
   ],
   "source": [
    "import numpy as np\n",
    "import matplotlib.pyplot as plt\n",
    "train_data.shape"
   ]
  },
  {
   "cell_type": "code",
   "execution_count": 88,
   "metadata": {
    "colab": {
     "base_uri": "https://localhost:8080/",
     "height": 193
    },
    "colab_type": "code",
    "id": "zSxXE9FgRBdJ",
    "outputId": "f3a53efe-e99f-4572-f9b4-1bf3c39c77ec"
   },
   "outputs": [],
   "source": [
    "layer_outputs = [layer.output for layer in model.layers]\n",
    "#layer_outputs"
   ]
  },
  {
   "cell_type": "code",
   "execution_count": 89,
   "metadata": {
    "colab": {
     "base_uri": "https://localhost:8080/",
     "height": 34
    },
    "colab_type": "code",
    "id": "dcw7yHKrRkPD",
    "outputId": "a3ed5441-ae48-4635-bf07-ac5060030608"
   },
   "outputs": [],
   "source": [
    "activation_model = models.Model(inputs=model.input, outputs=layer_outputs)\n",
    "activations = activation_model.predict(test_data)\n",
    "#activations[0][0,:,:,0].shape"
   ]
  },
  {
   "cell_type": "code",
   "execution_count": 90,
   "metadata": {},
   "outputs": [
    {
     "data": {
      "text/plain": [
       "['umai', 'others', 'mazui', 'oishii']"
      ]
     },
     "execution_count": 90,
     "metadata": {},
     "output_type": "execute_result"
    }
   ],
   "source": [
    "class_labels"
   ]
  },
  {
   "cell_type": "code",
   "execution_count": 91,
   "metadata": {
    "colab": {
     "base_uri": "https://localhost:8080/",
     "height": 193
    },
    "colab_type": "code",
    "id": "ccSNAwGKhRn9",
    "outputId": "0ad22e12-713b-4b07-e17b-45d39ff1b80b"
   },
   "outputs": [
    {
     "data": {
      "text/plain": [
       "array([[ 0,  0,  0, 99],\n",
       "       [ 4,  0, 93,  1],\n",
       "       [ 0,  0, 99,  0],\n",
       "       [ 0,  0,  0, 99],\n",
       "       [ 0,  0,  2, 97],\n",
       "       [ 5,  0, 93,  0],\n",
       "       [ 0,  0,  0, 99],\n",
       "       [98,  1,  0,  0],\n",
       "       [99,  0,  0,  0],\n",
       "       [98,  1,  0,  0]])"
      ]
     },
     "execution_count": 91,
     "metadata": {},
     "output_type": "execute_result"
    }
   ],
   "source": [
    "(activations[-1][:10]*100).astype(int)"
   ]
  },
  {
   "cell_type": "code",
   "execution_count": 92,
   "metadata": {
    "colab": {
     "base_uri": "https://localhost:8080/",
     "height": 193
    },
    "colab_type": "code",
    "id": "RoE0nxtuiGIN",
    "outputId": "154437a8-ab72-46f4-f42c-3e6464af47d0"
   },
   "outputs": [
    {
     "data": {
      "text/plain": [
       "array([[0, 0, 0, 1],\n",
       "       [0, 0, 1, 0],\n",
       "       [0, 0, 1, 0],\n",
       "       [0, 0, 0, 1],\n",
       "       [0, 0, 0, 1],\n",
       "       [0, 1, 0, 0],\n",
       "       [0, 0, 0, 1],\n",
       "       [1, 0, 0, 0],\n",
       "       [1, 0, 0, 0],\n",
       "       [1, 0, 0, 0]])"
      ]
     },
     "execution_count": 92,
     "metadata": {},
     "output_type": "execute_result"
    }
   ],
   "source": [
    "test_labels[:10].astype(int)"
   ]
  },
  {
   "cell_type": "code",
   "execution_count": 93,
   "metadata": {},
   "outputs": [],
   "source": [
    "def plot_layer(activations, sample, layer):\n",
    "    a = activations[layer].shape\n",
    "    rows = int(a[3]/4)\n",
    "    fig, axarr = plt.subplots(rows, 4, figsize=[20,15])\n",
    "    for i in range(a[3]):\n",
    "        row = int(i/4)\n",
    "        x, y = row, i-4*row\n",
    "        axarr[x, y].imshow(np.rot90(activations[layer][sample, :, :, i]))\n",
    "        axarr[x, y].set_xticks([])\n",
    "        axarr[x, y].set_yticks([])"
   ]
  },
  {
   "cell_type": "code",
   "execution_count": 94,
   "metadata": {},
   "outputs": [
    {
     "data": {
      "text/plain": [
       "'umai'"
      ]
     },
     "execution_count": 94,
     "metadata": {},
     "output_type": "execute_result"
    },
    {
     "data": {
      "image/png": "[encoded data removed]",
      "text/plain": [
       "<matplotlib.figure.Figure at 0x5d009f90>"
      ]
     },
     "metadata": {
      "needs_background": "light"
     },
     "output_type": "display_data"
    }
   ],
   "source": [
    "image_number = 8\n",
    "\n",
    "plt.imshow(np.rot90(test_data[image_number,:,:,0]))\n",
    "class_labels[np.argmax(test_labels[image_number])]"
   ]
  },
  {
   "cell_type": "code",
   "execution_count": 95,
   "metadata": {},
   "outputs": [
    {
     "data": {
      "image/png": "[encoded data removed]",
      "text/plain": [
       "<matplotlib.figure.Figure at 0x5de59090>"
      ]
     },
     "metadata": {},
     "output_type": "display_data"
    }
   ],
   "source": [
    "plot_layer(activations, image_number, 2)"
   ]
  },
  {
   "cell_type": "code",
   "execution_count": 96,
   "metadata": {},
   "outputs": [
    {
     "data": {
      "image/png": "[encoded data removed]",
      "text/plain": [
       "<matplotlib.figure.Figure at 0x5d4d8e70>"
      ]
     },
     "metadata": {},
     "output_type": "display_data"
    }
   ],
   "source": [
    "plot_layer(activations, image_number, 6)"
   ]
  },
  {
   "cell_type": "code",
   "execution_count": null,
   "metadata": {},
   "outputs": [],
   "source": []
  }
 ],
 "metadata": {
  "colab": {
   "collapsed_sections": [],
   "name": "CNN for AED",
   "provenance": [],
   "version": "0.3.2"
  },
  "kernelspec": {
   "display_name": "Python 3",
   "language": "python",
   "name": "python3"
  },
  "language_info": {
   "codemirror_mode": {
    "name": "ipython",
    "version": 3
   },
   "file_extension": ".py",
   "mimetype": "text/x-python",
   "name": "python",
   "nbconvert_exporter": "python",
   "pygments_lexer": "ipython3",
   "version": "3.5.3"
  }
 },
 "nbformat": 4,
 "nbformat_minor": 1
}
