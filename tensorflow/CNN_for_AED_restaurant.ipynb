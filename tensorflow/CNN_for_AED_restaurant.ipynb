{
 "cells": [
  {
   "cell_type": "markdown",
   "metadata": {
    "colab_type": "text",
    "id": "0X16cagQE-Y-"
   },
   "source": [
    "# CNN for AED with Keras/TensorFlow\n",
    "\n",
    "Date: March 2, 2019\n",
    "\n",
    "Classification of acoustic events:\n",
    "\n",
    "- Umai\n",
    "- Mazui\n",
    "- Oishii\n",
    "- Others\n",
    "- Silence"
   ]
  },
  {
   "cell_type": "markdown",
   "metadata": {
    "colab_type": "text",
    "id": "WwQ-dEltkl5Q"
   },
   "source": [
    "## Preparing data set for CNN"
   ]
  },
  {
   "cell_type": "code",
   "execution_count": 3,
   "metadata": {
    "colab": {
     "base_uri": "https://localhost:8080/",
     "height": 34
    },
    "colab_type": "code",
    "id": "VEJyQsGpV3ug",
    "outputId": "3929aa39-3383-4791-e065-3622e6781181",
    "scrolled": true
   },
   "outputs": [],
   "source": [
    "DATASET_FOLDER = '../dataset/data_restaurant'\n",
    "\n",
    "%run ../oscilloscope/script/dataset.py\n",
    "\n",
    "ds = DataSet(DATASET_FOLDER)\n",
    "train_data, train_labels, test_data, test_labels = ds.generate()\n",
    "shape = ds.shape\n",
    "class_labels = ds.class_labels"
   ]
  },
  {
   "cell_type": "code",
   "execution_count": 4,
   "metadata": {},
   "outputs": [
    {
     "data": {
      "text/plain": [
       "(64, 40)"
      ]
     },
     "execution_count": 4,
     "metadata": {},
     "output_type": "execute_result"
    }
   ],
   "source": [
    "shape"
   ]
  },
  {
   "cell_type": "markdown",
   "metadata": {
    "colab_type": "text",
    "id": "VfUmgxxVk6uM"
   },
   "source": [
    "### CNN model"
   ]
  },
  {
   "cell_type": "code",
   "execution_count": 5,
   "metadata": {
    "colab": {
     "base_uri": "https://localhost:8080/",
     "height": 509
    },
    "colab_type": "code",
    "id": "B2Xg6tGLdMKP",
    "outputId": "ae3daa32-9dbf-4d8b-9a11-7f596dd2e4a6"
   },
   "outputs": [
    {
     "name": "stdout",
     "output_type": "stream",
     "text": [
      "_________________________________________________________________\n",
      "Layer (type)                 Output Shape              Param #   \n",
      "=================================================================\n",
      "conv2d_1 (Conv2D)            (None, 62, 38, 4)         40        \n",
      "_________________________________________________________________\n",
      "max_pooling2d_1 (MaxPooling2 (None, 31, 19, 4)         0         \n",
      "_________________________________________________________________\n",
      "conv2d_2 (Conv2D)            (None, 29, 17, 8)         296       \n",
      "_________________________________________________________________\n",
      "max_pooling2d_2 (MaxPooling2 (None, 14, 8, 8)          0         \n",
      "_________________________________________________________________\n",
      "conv2d_3 (Conv2D)            (None, 12, 6, 16)         1168      \n",
      "_________________________________________________________________\n",
      "max_pooling2d_3 (MaxPooling2 (None, 6, 3, 16)          0         \n",
      "_________________________________________________________________\n",
      "flatten_1 (Flatten)          (None, 288)               0         \n",
      "_________________________________________________________________\n",
      "dropout_1 (Dropout)          (None, 288)               0         \n",
      "_________________________________________________________________\n",
      "dense_1 (Dense)              (None, 5)                 1445      \n",
      "=================================================================\n",
      "Total params: 2,949\n",
      "Trainable params: 2,949\n",
      "Non-trainable params: 0\n",
      "_________________________________________________________________\n"
     ]
    }
   ],
   "source": [
    "from keras import layers\n",
    "from keras import models\n",
    "\n",
    "model = models.Sequential()\n",
    "\n",
    "model.add(layers.Conv2D(4, (3, 3), activation='relu', input_shape=(*shape, 1)))\n",
    "model.add(layers.MaxPooling2D((2,2)))\n",
    "\n",
    "model.add(layers.Conv2D(8, (3, 3), activation='relu'))\n",
    "model.add(layers.MaxPooling2D((2,2)))\n",
    "\n",
    "model.add(layers.Conv2D(16, (3, 3), activation='relu'))\n",
    "model.add(layers.MaxPooling2D((2,2)))\n",
    "\n",
    "model.add(layers.Flatten())\n",
    "model.add(layers.Dropout(0.5))\n",
    "model.add(layers.Dense(len(class_labels), activation='softmax'))\n",
    "\n",
    "model.summary()"
   ]
  },
  {
   "cell_type": "code",
   "execution_count": 6,
   "metadata": {
    "colab": {},
    "colab_type": "code",
    "id": "nRr1L_4ogL6i"
   },
   "outputs": [],
   "source": [
    "model.compile(optimizer='rmsprop', loss='categorical_crossentropy', metrics=['accuracy'])"
   ]
  },
  {
   "cell_type": "code",
   "execution_count": 7,
   "metadata": {},
   "outputs": [
    {
     "data": {
      "image/svg+xml": [
       "<svg height=\"702pt\" viewBox=\"0.00 0.00 217.00 702.00\" width=\"217pt\" xmlns=\"http://www.w3.org/2000/svg\" xmlns:xlink=\"http://www.w3.org/1999/xlink\">\n",
       "<g class=\"graph\" id=\"graph0\" transform=\"scale(1 1) rotate(0) translate(4 698)\">\n",
       "<title>G</title>\n",
       "<polygon fill=\"white\" points=\"-4,4 -4,-698 213,-698 213,4 -4,4\" stroke=\"none\"/>\n",
       "<!-- 2550742437392 -->\n",
       "<g class=\"node\" id=\"node1\"><title>2550742437392</title>\n",
       "<polygon fill=\"none\" points=\"41,-584.5 41,-620.5 168,-620.5 168,-584.5 41,-584.5\" stroke=\"black\"/>\n",
       "<text font-family=\"Times New Roman,serif\" font-size=\"14.00\" text-anchor=\"middle\" x=\"104.5\" y=\"-598.8\">conv2d_1: Conv2D</text>\n",
       "</g>\n",
       "<!-- 2550742409512 -->\n",
       "<g class=\"node\" id=\"node2\"><title>2550742409512</title>\n",
       "<polygon fill=\"none\" points=\"0,-511.5 0,-547.5 209,-547.5 209,-511.5 0,-511.5\" stroke=\"black\"/>\n",
       "<text font-family=\"Times New Roman,serif\" font-size=\"14.00\" text-anchor=\"middle\" x=\"104.5\" y=\"-525.8\">max_pooling2d_1: MaxPooling2D</text>\n",
       "</g>\n",
       "<!-- 2550742437392&#45;&gt;2550742409512 -->\n",
       "<g class=\"edge\" id=\"edge2\"><title>2550742437392-&gt;2550742409512</title>\n",
       "<path d=\"M104.5,-584.313C104.5,-576.289 104.5,-566.547 104.5,-557.569\" fill=\"none\" stroke=\"black\"/>\n",
       "<polygon fill=\"black\" points=\"108,-557.529 104.5,-547.529 101,-557.529 108,-557.529\" stroke=\"black\"/>\n",
       "</g>\n",
       "<!-- 2550742437560 -->\n",
       "<g class=\"node\" id=\"node3\"><title>2550742437560</title>\n",
       "<polygon fill=\"none\" points=\"41,-438.5 41,-474.5 168,-474.5 168,-438.5 41,-438.5\" stroke=\"black\"/>\n",
       "<text font-family=\"Times New Roman,serif\" font-size=\"14.00\" text-anchor=\"middle\" x=\"104.5\" y=\"-452.8\">conv2d_2: Conv2D</text>\n",
       "</g>\n",
       "<!-- 2550742409512&#45;&gt;2550742437560 -->\n",
       "<g class=\"edge\" id=\"edge3\"><title>2550742409512-&gt;2550742437560</title>\n",
       "<path d=\"M104.5,-511.313C104.5,-503.289 104.5,-493.547 104.5,-484.569\" fill=\"none\" stroke=\"black\"/>\n",
       "<polygon fill=\"black\" points=\"108,-484.529 104.5,-474.529 101,-484.529 108,-484.529\" stroke=\"black\"/>\n",
       "</g>\n",
       "<!-- 2550742465896 -->\n",
       "<g class=\"node\" id=\"node4\"><title>2550742465896</title>\n",
       "<polygon fill=\"none\" points=\"0,-365.5 0,-401.5 209,-401.5 209,-365.5 0,-365.5\" stroke=\"black\"/>\n",
       "<text font-family=\"Times New Roman,serif\" font-size=\"14.00\" text-anchor=\"middle\" x=\"104.5\" y=\"-379.8\">max_pooling2d_2: MaxPooling2D</text>\n",
       "</g>\n",
       "<!-- 2550742437560&#45;&gt;2550742465896 -->\n",
       "<g class=\"edge\" id=\"edge4\"><title>2550742437560-&gt;2550742465896</title>\n",
       "<path d=\"M104.5,-438.313C104.5,-430.289 104.5,-420.547 104.5,-411.569\" fill=\"none\" stroke=\"black\"/>\n",
       "<polygon fill=\"black\" points=\"108,-411.529 104.5,-401.529 101,-411.529 108,-411.529\" stroke=\"black\"/>\n",
       "</g>\n",
       "<!-- 2550742411304 -->\n",
       "<g class=\"node\" id=\"node5\"><title>2550742411304</title>\n",
       "<polygon fill=\"none\" points=\"41,-292.5 41,-328.5 168,-328.5 168,-292.5 41,-292.5\" stroke=\"black\"/>\n",
       "<text font-family=\"Times New Roman,serif\" font-size=\"14.00\" text-anchor=\"middle\" x=\"104.5\" y=\"-306.8\">conv2d_3: Conv2D</text>\n",
       "</g>\n",
       "<!-- 2550742465896&#45;&gt;2550742411304 -->\n",
       "<g class=\"edge\" id=\"edge5\"><title>2550742465896-&gt;2550742411304</title>\n",
       "<path d=\"M104.5,-365.313C104.5,-357.289 104.5,-347.547 104.5,-338.569\" fill=\"none\" stroke=\"black\"/>\n",
       "<polygon fill=\"black\" points=\"108,-338.529 104.5,-328.529 101,-338.529 108,-338.529\" stroke=\"black\"/>\n",
       "</g>\n",
       "<!-- 2550742797840 -->\n",
       "<g class=\"node\" id=\"node6\"><title>2550742797840</title>\n",
       "<polygon fill=\"none\" points=\"0,-219.5 0,-255.5 209,-255.5 209,-219.5 0,-219.5\" stroke=\"black\"/>\n",
       "<text font-family=\"Times New Roman,serif\" font-size=\"14.00\" text-anchor=\"middle\" x=\"104.5\" y=\"-233.8\">max_pooling2d_3: MaxPooling2D</text>\n",
       "</g>\n",
       "<!-- 2550742411304&#45;&gt;2550742797840 -->\n",
       "<g class=\"edge\" id=\"edge6\"><title>2550742411304-&gt;2550742797840</title>\n",
       "<path d=\"M104.5,-292.313C104.5,-284.289 104.5,-274.547 104.5,-265.569\" fill=\"none\" stroke=\"black\"/>\n",
       "<polygon fill=\"black\" points=\"108,-265.529 104.5,-255.529 101,-265.529 108,-265.529\" stroke=\"black\"/>\n",
       "</g>\n",
       "<!-- 2550742729896 -->\n",
       "<g class=\"node\" id=\"node7\"><title>2550742729896</title>\n",
       "<polygon fill=\"none\" points=\"50,-146.5 50,-182.5 159,-182.5 159,-146.5 50,-146.5\" stroke=\"black\"/>\n",
       "<text font-family=\"Times New Roman,serif\" font-size=\"14.00\" text-anchor=\"middle\" x=\"104.5\" y=\"-160.8\">flatten_1: Flatten</text>\n",
       "</g>\n",
       "<!-- 2550742797840&#45;&gt;2550742729896 -->\n",
       "<g class=\"edge\" id=\"edge7\"><title>2550742797840-&gt;2550742729896</title>\n",
       "<path d=\"M104.5,-219.313C104.5,-211.289 104.5,-201.547 104.5,-192.569\" fill=\"none\" stroke=\"black\"/>\n",
       "<polygon fill=\"black\" points=\"108,-192.529 104.5,-182.529 101,-192.529 108,-192.529\" stroke=\"black\"/>\n",
       "</g>\n",
       "<!-- 2550742798288 -->\n",
       "<g class=\"node\" id=\"node8\"><title>2550742798288</title>\n",
       "<polygon fill=\"none\" points=\"39.5,-73.5 39.5,-109.5 169.5,-109.5 169.5,-73.5 39.5,-73.5\" stroke=\"black\"/>\n",
       "<text font-family=\"Times New Roman,serif\" font-size=\"14.00\" text-anchor=\"middle\" x=\"104.5\" y=\"-87.8\">dropout_1: Dropout</text>\n",
       "</g>\n",
       "<!-- 2550742729896&#45;&gt;2550742798288 -->\n",
       "<g class=\"edge\" id=\"edge8\"><title>2550742729896-&gt;2550742798288</title>\n",
       "<path d=\"M104.5,-146.313C104.5,-138.289 104.5,-128.547 104.5,-119.569\" fill=\"none\" stroke=\"black\"/>\n",
       "<polygon fill=\"black\" points=\"108,-119.529 104.5,-109.529 101,-119.529 108,-119.529\" stroke=\"black\"/>\n",
       "</g>\n",
       "<!-- 2550742873872 -->\n",
       "<g class=\"node\" id=\"node9\"><title>2550742873872</title>\n",
       "<polygon fill=\"none\" points=\"52.5,-0.5 52.5,-36.5 156.5,-36.5 156.5,-0.5 52.5,-0.5\" stroke=\"black\"/>\n",
       "<text font-family=\"Times New Roman,serif\" font-size=\"14.00\" text-anchor=\"middle\" x=\"104.5\" y=\"-14.8\">dense_1: Dense</text>\n",
       "</g>\n",
       "<!-- 2550742798288&#45;&gt;2550742873872 -->\n",
       "<g class=\"edge\" id=\"edge9\"><title>2550742798288-&gt;2550742873872</title>\n",
       "<path d=\"M104.5,-73.3129C104.5,-65.2895 104.5,-55.5475 104.5,-46.5691\" fill=\"none\" stroke=\"black\"/>\n",
       "<polygon fill=\"black\" points=\"108,-46.5288 104.5,-36.5288 101,-46.5289 108,-46.5288\" stroke=\"black\"/>\n",
       "</g>\n",
       "<!-- 2550741394096 -->\n",
       "<g class=\"node\" id=\"node10\"><title>2550741394096</title>\n",
       "<polygon fill=\"none\" points=\"52.5,-657.5 52.5,-693.5 156.5,-693.5 156.5,-657.5 52.5,-657.5\" stroke=\"black\"/>\n",
       "<text font-family=\"Times New Roman,serif\" font-size=\"14.00\" text-anchor=\"middle\" x=\"104.5\" y=\"-671.8\">2550741394096</text>\n",
       "</g>\n",
       "<!-- 2550741394096&#45;&gt;2550742437392 -->\n",
       "<g class=\"edge\" id=\"edge1\"><title>2550741394096-&gt;2550742437392</title>\n",
       "<path d=\"M104.5,-657.313C104.5,-649.289 104.5,-639.547 104.5,-630.569\" fill=\"none\" stroke=\"black\"/>\n",
       "<polygon fill=\"black\" points=\"108,-630.529 104.5,-620.529 101,-630.529 108,-630.529\" stroke=\"black\"/>\n",
       "</g>\n",
       "</g>\n",
       "</svg>"
      ],
      "text/plain": [
       "<IPython.core.display.SVG object>"
      ]
     },
     "execution_count": 7,
     "metadata": {},
     "output_type": "execute_result"
    }
   ],
   "source": [
    "from IPython.display import SVG\n",
    "from keras.utils.vis_utils import model_to_dot\n",
    "\n",
    "SVG(model_to_dot(model).create(prog='dot', format='svg'))"
   ]
  },
  {
   "cell_type": "markdown",
   "metadata": {
    "colab_type": "text",
    "id": "TfypWUJIlFkz"
   },
   "source": [
    "## Training CNN"
   ]
  },
  {
   "cell_type": "code",
   "execution_count": 8,
   "metadata": {
    "colab": {
     "base_uri": "https://localhost:8080/",
     "height": 931
    },
    "colab_type": "code",
    "id": "zsdmu-ggfvr1",
    "outputId": "77a52558-8ecc-4fc5-e0cb-2b86a75df4c6",
    "scrolled": false
   },
   "outputs": [
    {
     "name": "stdout",
     "output_type": "stream",
     "text": [
      "Train on 350 samples, validate on 150 samples\n",
      "Epoch 1/100\n",
      "350/350 [==============================] - 3s 9ms/step - loss: 1.5818 - acc: 0.2657 - val_loss: 1.5192 - val_acc: 0.3600\n",
      "Epoch 2/100\n",
      "350/350 [==============================] - 2s 6ms/step - loss: 1.5045 - acc: 0.3257 - val_loss: 1.4388 - val_acc: 0.5267\n",
      "Epoch 3/100\n",
      "350/350 [==============================] - 2s 6ms/step - loss: 1.4153 - acc: 0.4457 - val_loss: 1.3481 - val_acc: 0.6333\n",
      "Epoch 4/100\n",
      "350/350 [==============================] - 2s 6ms/step - loss: 1.3306 - acc: 0.4800 - val_loss: 1.2416 - val_acc: 0.6400\n",
      "Epoch 5/100\n",
      "350/350 [==============================] - 2s 7ms/step - loss: 1.2536 - acc: 0.5314 - val_loss: 1.1536 - val_acc: 0.6333\n",
      "Epoch 6/100\n",
      "350/350 [==============================] - 2s 6ms/step - loss: 1.1955 - acc: 0.5514 - val_loss: 1.0494 - val_acc: 0.6533\n",
      "Epoch 7/100\n",
      "350/350 [==============================] - 2s 6ms/step - loss: 1.1022 - acc: 0.5600 - val_loss: 0.9671 - val_acc: 0.7067\n",
      "Epoch 8/100\n",
      "350/350 [==============================] - 2s 6ms/step - loss: 1.0121 - acc: 0.6114 - val_loss: 0.8890 - val_acc: 0.7400\n",
      "Epoch 9/100\n",
      "350/350 [==============================] - 2s 6ms/step - loss: 0.9241 - acc: 0.6400 - val_loss: 0.8118 - val_acc: 0.7533\n",
      "Epoch 10/100\n",
      "350/350 [==============================] - 2s 6ms/step - loss: 0.8778 - acc: 0.6486 - val_loss: 0.7537 - val_acc: 0.7867\n",
      "Epoch 11/100\n",
      "350/350 [==============================] - 2s 6ms/step - loss: 0.7789 - acc: 0.6971 - val_loss: 0.6879 - val_acc: 0.7933\n",
      "Epoch 12/100\n",
      "350/350 [==============================] - 2s 6ms/step - loss: 0.7504 - acc: 0.7086 - val_loss: 0.6549 - val_acc: 0.8067\n",
      "Epoch 13/100\n",
      "350/350 [==============================] - 2s 6ms/step - loss: 0.7333 - acc: 0.7257 - val_loss: 0.6048 - val_acc: 0.8067\n",
      "Epoch 14/100\n",
      "350/350 [==============================] - 2s 6ms/step - loss: 0.6858 - acc: 0.7371 - val_loss: 0.5688 - val_acc: 0.8333\n",
      "Epoch 15/100\n",
      "350/350 [==============================] - 2s 6ms/step - loss: 0.6042 - acc: 0.7600 - val_loss: 0.5217 - val_acc: 0.8333\n",
      "Epoch 16/100\n",
      "350/350 [==============================] - 2s 6ms/step - loss: 0.5760 - acc: 0.7914 - val_loss: 0.5032 - val_acc: 0.8333\n",
      "Epoch 17/100\n",
      "350/350 [==============================] - 2s 6ms/step - loss: 0.5281 - acc: 0.8057 - val_loss: 0.4606 - val_acc: 0.8533\n",
      "Epoch 18/100\n",
      "350/350 [==============================] - 2s 7ms/step - loss: 0.5083 - acc: 0.8257 - val_loss: 0.4292 - val_acc: 0.8733\n",
      "Epoch 19/100\n",
      "350/350 [==============================] - 2s 6ms/step - loss: 0.4682 - acc: 0.8514 - val_loss: 0.4258 - val_acc: 0.8667\n",
      "Epoch 20/100\n",
      "350/350 [==============================] - 2s 6ms/step - loss: 0.4383 - acc: 0.8457 - val_loss: 0.4173 - val_acc: 0.8600\n",
      "Epoch 21/100\n",
      "350/350 [==============================] - 3s 7ms/step - loss: 0.3980 - acc: 0.8829 - val_loss: 0.4153 - val_acc: 0.8600\n",
      "Epoch 22/100\n",
      "350/350 [==============================] - 2s 7ms/step - loss: 0.3917 - acc: 0.8657 - val_loss: 0.3418 - val_acc: 0.9133\n",
      "Epoch 23/100\n",
      "350/350 [==============================] - 2s 6ms/step - loss: 0.3879 - acc: 0.8771 - val_loss: 0.3624 - val_acc: 0.8800\n",
      "Epoch 24/100\n",
      "350/350 [==============================] - 2s 6ms/step - loss: 0.3663 - acc: 0.8771 - val_loss: 0.3166 - val_acc: 0.9200\n",
      "Epoch 25/100\n",
      "350/350 [==============================] - 2s 6ms/step - loss: 0.4105 - acc: 0.8571 - val_loss: 0.2906 - val_acc: 0.9333\n",
      "Epoch 26/100\n",
      "350/350 [==============================] - 2s 6ms/step - loss: 0.3166 - acc: 0.9000 - val_loss: 0.2855 - val_acc: 0.9400\n",
      "Epoch 27/100\n",
      "350/350 [==============================] - 2s 6ms/step - loss: 0.3547 - acc: 0.8971 - val_loss: 0.2723 - val_acc: 0.9333\n",
      "Epoch 28/100\n",
      "350/350 [==============================] - 2s 6ms/step - loss: 0.2900 - acc: 0.9257 - val_loss: 0.2567 - val_acc: 0.9400\n",
      "Epoch 29/100\n",
      "350/350 [==============================] - 2s 6ms/step - loss: 0.2621 - acc: 0.9229 - val_loss: 0.2523 - val_acc: 0.9333\n",
      "Epoch 30/100\n",
      "350/350 [==============================] - 2s 6ms/step - loss: 0.2926 - acc: 0.9086 - val_loss: 0.2657 - val_acc: 0.9200\n",
      "Epoch 31/100\n",
      "350/350 [==============================] - 2s 6ms/step - loss: 0.2290 - acc: 0.9314 - val_loss: 0.2422 - val_acc: 0.9400\n",
      "Epoch 32/100\n",
      "350/350 [==============================] - 2s 6ms/step - loss: 0.2387 - acc: 0.9143 - val_loss: 0.2072 - val_acc: 0.9467\n",
      "Epoch 33/100\n",
      "350/350 [==============================] - 2s 6ms/step - loss: 0.2520 - acc: 0.9200 - val_loss: 0.2153 - val_acc: 0.9467\n",
      "Epoch 34/100\n",
      "350/350 [==============================] - 2s 7ms/step - loss: 0.2223 - acc: 0.9314 - val_loss: 0.2082 - val_acc: 0.9400\n",
      "Epoch 35/100\n",
      "350/350 [==============================] - 2s 6ms/step - loss: 0.2256 - acc: 0.9229 - val_loss: 0.1912 - val_acc: 0.9467\n",
      "Epoch 36/100\n",
      "350/350 [==============================] - 2s 6ms/step - loss: 0.2227 - acc: 0.9143 - val_loss: 0.1837 - val_acc: 0.9400\n",
      "Epoch 37/100\n",
      "350/350 [==============================] - 2s 7ms/step - loss: 0.2440 - acc: 0.9143 - val_loss: 0.1863 - val_acc: 0.9533\n",
      "Epoch 38/100\n",
      "350/350 [==============================] - 2s 6ms/step - loss: 0.1800 - acc: 0.9429 - val_loss: 0.2336 - val_acc: 0.9200\n",
      "Epoch 39/100\n",
      "350/350 [==============================] - 2s 6ms/step - loss: 0.2329 - acc: 0.9171 - val_loss: 0.1869 - val_acc: 0.9467\n",
      "Epoch 40/100\n",
      "350/350 [==============================] - 2s 7ms/step - loss: 0.1360 - acc: 0.9629 - val_loss: 0.1639 - val_acc: 0.9400\n",
      "Epoch 41/100\n",
      "350/350 [==============================] - 2s 6ms/step - loss: 0.1958 - acc: 0.9257 - val_loss: 0.1774 - val_acc: 0.9467\n",
      "Epoch 42/100\n",
      "350/350 [==============================] - 2s 6ms/step - loss: 0.1979 - acc: 0.9486 - val_loss: 0.1718 - val_acc: 0.9467\n",
      "Epoch 43/100\n",
      "350/350 [==============================] - 2s 7ms/step - loss: 0.2125 - acc: 0.9200 - val_loss: 0.1788 - val_acc: 0.9533\n",
      "Epoch 44/100\n",
      "350/350 [==============================] - 2s 6ms/step - loss: 0.1624 - acc: 0.9600 - val_loss: 0.1868 - val_acc: 0.9467\n",
      "Epoch 45/100\n",
      "350/350 [==============================] - 2s 6ms/step - loss: 0.1323 - acc: 0.9486 - val_loss: 0.1375 - val_acc: 0.9600\n",
      "Epoch 46/100\n",
      "350/350 [==============================] - 2s 6ms/step - loss: 0.1528 - acc: 0.9457 - val_loss: 0.1469 - val_acc: 0.9533\n",
      "Epoch 47/100\n",
      "350/350 [==============================] - 2s 7ms/step - loss: 0.1265 - acc: 0.9657 - val_loss: 0.1329 - val_acc: 0.9600\n",
      "Epoch 48/100\n",
      "350/350 [==============================] - 2s 6ms/step - loss: 0.1429 - acc: 0.9486 - val_loss: 0.1485 - val_acc: 0.9533\n",
      "Epoch 49/100\n",
      "350/350 [==============================] - 3s 7ms/step - loss: 0.1513 - acc: 0.9400 - val_loss: 0.1606 - val_acc: 0.9467\n",
      "Epoch 50/100\n",
      "350/350 [==============================] - 2s 6ms/step - loss: 0.1128 - acc: 0.9686 - val_loss: 0.1271 - val_acc: 0.9667\n",
      "Epoch 51/100\n",
      "350/350 [==============================] - 2s 6ms/step - loss: 0.1368 - acc: 0.9457 - val_loss: 0.1496 - val_acc: 0.9533\n",
      "Epoch 52/100\n",
      "350/350 [==============================] - 2s 6ms/step - loss: 0.1492 - acc: 0.9543 - val_loss: 0.1216 - val_acc: 0.9667\n",
      "Epoch 53/100\n",
      "350/350 [==============================] - 2s 6ms/step - loss: 0.0907 - acc: 0.9657 - val_loss: 0.1378 - val_acc: 0.9533\n",
      "Epoch 54/100\n",
      "350/350 [==============================] - 2s 6ms/step - loss: 0.1058 - acc: 0.9743 - val_loss: 0.1396 - val_acc: 0.9533\n",
      "Epoch 55/100\n",
      "350/350 [==============================] - 2s 6ms/step - loss: 0.1049 - acc: 0.9714 - val_loss: 0.1149 - val_acc: 0.9667\n",
      "Epoch 56/100\n",
      "350/350 [==============================] - 2s 6ms/step - loss: 0.1239 - acc: 0.9486 - val_loss: 0.1268 - val_acc: 0.9667\n",
      "Epoch 57/100\n",
      "350/350 [==============================] - 2s 6ms/step - loss: 0.0917 - acc: 0.9686 - val_loss: 0.1149 - val_acc: 0.9667\n",
      "Epoch 58/100\n",
      "350/350 [==============================] - 2s 6ms/step - loss: 0.0715 - acc: 0.9771 - val_loss: 0.1065 - val_acc: 0.9667\n",
      "Epoch 59/100\n",
      "350/350 [==============================] - 2s 6ms/step - loss: 0.0957 - acc: 0.9657 - val_loss: 0.1103 - val_acc: 0.9600\n",
      "Epoch 60/100\n",
      "350/350 [==============================] - 2s 6ms/step - loss: 0.0976 - acc: 0.9686 - val_loss: 0.1257 - val_acc: 0.9600\n",
      "Epoch 61/100\n",
      "350/350 [==============================] - 2s 6ms/step - loss: 0.0675 - acc: 0.9857 - val_loss: 0.1043 - val_acc: 0.9733\n"
     ]
    },
    {
     "name": "stdout",
     "output_type": "stream",
     "text": [
      "Epoch 62/100\n",
      "350/350 [==============================] - 2s 6ms/step - loss: 0.0974 - acc: 0.9743 - val_loss: 0.0907 - val_acc: 0.9733\n",
      "Epoch 63/100\n",
      "350/350 [==============================] - 2s 5ms/step - loss: 0.0798 - acc: 0.9800 - val_loss: 0.0817 - val_acc: 0.9667\n",
      "Epoch 64/100\n",
      "350/350 [==============================] - 2s 7ms/step - loss: 0.0940 - acc: 0.9714 - val_loss: 0.0935 - val_acc: 0.9667\n",
      "Epoch 65/100\n",
      "350/350 [==============================] - 2s 6ms/step - loss: 0.0786 - acc: 0.9743 - val_loss: 0.0977 - val_acc: 0.9733\n",
      "Epoch 66/100\n",
      "350/350 [==============================] - 2s 6ms/step - loss: 0.0746 - acc: 0.9686 - val_loss: 0.0993 - val_acc: 0.9667\n",
      "Epoch 67/100\n",
      "350/350 [==============================] - 2s 6ms/step - loss: 0.0753 - acc: 0.9800 - val_loss: 0.1220 - val_acc: 0.9600\n",
      "Epoch 68/100\n",
      "350/350 [==============================] - 2s 6ms/step - loss: 0.0719 - acc: 0.9686 - val_loss: 0.1152 - val_acc: 0.9667\n",
      "Epoch 69/100\n",
      "350/350 [==============================] - 2s 6ms/step - loss: 0.0736 - acc: 0.9800 - val_loss: 0.0991 - val_acc: 0.9733\n",
      "Epoch 70/100\n",
      "350/350 [==============================] - 2s 6ms/step - loss: 0.0767 - acc: 0.9743 - val_loss: 0.0984 - val_acc: 0.9667\n",
      "Epoch 71/100\n",
      "350/350 [==============================] - 2s 6ms/step - loss: 0.0779 - acc: 0.9714 - val_loss: 0.0813 - val_acc: 0.9733\n",
      "Epoch 72/100\n",
      "350/350 [==============================] - 2s 6ms/step - loss: 0.0595 - acc: 0.9829 - val_loss: 0.0921 - val_acc: 0.9733\n",
      "Epoch 73/100\n",
      "350/350 [==============================] - 2s 6ms/step - loss: 0.0613 - acc: 0.9771 - val_loss: 0.1493 - val_acc: 0.9467\n",
      "Epoch 74/100\n",
      "350/350 [==============================] - 2s 6ms/step - loss: 0.0817 - acc: 0.9571 - val_loss: 0.0903 - val_acc: 0.9733\n",
      "Epoch 75/100\n",
      "350/350 [==============================] - 2s 6ms/step - loss: 0.0672 - acc: 0.9800 - val_loss: 0.0713 - val_acc: 0.9733\n",
      "Epoch 76/100\n",
      "350/350 [==============================] - 2s 6ms/step - loss: 0.0710 - acc: 0.9743 - val_loss: 0.0758 - val_acc: 0.9733\n",
      "Epoch 77/100\n",
      "350/350 [==============================] - 3s 7ms/step - loss: 0.0567 - acc: 0.9771 - val_loss: 0.1119 - val_acc: 0.9533\n",
      "Epoch 78/100\n",
      "350/350 [==============================] - 2s 6ms/step - loss: 0.0430 - acc: 0.9914 - val_loss: 0.0736 - val_acc: 0.9800\n",
      "Epoch 79/100\n",
      "350/350 [==============================] - 2s 6ms/step - loss: 0.0387 - acc: 0.9886 - val_loss: 0.0905 - val_acc: 0.9733\n",
      "Epoch 80/100\n",
      "350/350 [==============================] - 2s 6ms/step - loss: 0.0489 - acc: 0.9857 - val_loss: 0.0861 - val_acc: 0.9733\n",
      "Epoch 81/100\n",
      "350/350 [==============================] - 2s 6ms/step - loss: 0.0768 - acc: 0.9771 - val_loss: 0.0764 - val_acc: 0.9800\n",
      "Epoch 82/100\n",
      "350/350 [==============================] - 2s 5ms/step - loss: 0.0517 - acc: 0.9800 - val_loss: 0.1167 - val_acc: 0.9600\n",
      "Epoch 83/100\n",
      "350/350 [==============================] - 2s 6ms/step - loss: 0.0621 - acc: 0.9857 - val_loss: 0.0785 - val_acc: 0.9733\n",
      "Epoch 84/100\n",
      "350/350 [==============================] - 2s 6ms/step - loss: 0.0409 - acc: 0.9886 - val_loss: 0.0795 - val_acc: 0.9800\n",
      "Epoch 85/100\n",
      "350/350 [==============================] - 2s 6ms/step - loss: 0.0396 - acc: 0.9886 - val_loss: 0.0638 - val_acc: 0.9733\n",
      "Epoch 86/100\n",
      "350/350 [==============================] - 2s 6ms/step - loss: 0.0803 - acc: 0.9657 - val_loss: 0.0755 - val_acc: 0.9733\n",
      "Epoch 87/100\n",
      "350/350 [==============================] - 2s 7ms/step - loss: 0.0538 - acc: 0.9829 - val_loss: 0.0634 - val_acc: 0.9867\n",
      "Epoch 88/100\n",
      "350/350 [==============================] - 2s 6ms/step - loss: 0.0426 - acc: 0.9914 - val_loss: 0.1092 - val_acc: 0.9667\n",
      "Epoch 89/100\n",
      "350/350 [==============================] - 2s 6ms/step - loss: 0.0506 - acc: 0.9829 - val_loss: 0.0919 - val_acc: 0.9733\n",
      "Epoch 90/100\n",
      "350/350 [==============================] - 2s 6ms/step - loss: 0.0431 - acc: 0.9886 - val_loss: 0.0708 - val_acc: 0.9733\n",
      "Epoch 91/100\n",
      "350/350 [==============================] - 2s 6ms/step - loss: 0.0573 - acc: 0.9829 - val_loss: 0.0679 - val_acc: 0.9800\n",
      "Epoch 92/100\n",
      "350/350 [==============================] - 2s 6ms/step - loss: 0.0433 - acc: 0.9886 - val_loss: 0.0788 - val_acc: 0.9867\n",
      "Epoch 93/100\n",
      "350/350 [==============================] - 2s 6ms/step - loss: 0.0394 - acc: 0.9914 - val_loss: 0.0706 - val_acc: 0.9867\n",
      "Epoch 94/100\n",
      "350/350 [==============================] - 2s 6ms/step - loss: 0.0394 - acc: 0.9914 - val_loss: 0.0804 - val_acc: 0.9733\n",
      "Epoch 95/100\n",
      "350/350 [==============================] - 2s 6ms/step - loss: 0.0400 - acc: 0.9857 - val_loss: 0.0791 - val_acc: 0.9800\n",
      "Epoch 96/100\n",
      "350/350 [==============================] - 2s 6ms/step - loss: 0.0408 - acc: 0.9857 - val_loss: 0.0770 - val_acc: 0.9800\n",
      "Epoch 97/100\n",
      "350/350 [==============================] - 2s 6ms/step - loss: 0.0352 - acc: 0.9914 - val_loss: 0.0825 - val_acc: 0.9800\n",
      "Epoch 98/100\n",
      "350/350 [==============================] - 2s 6ms/step - loss: 0.0381 - acc: 0.9857 - val_loss: 0.0952 - val_acc: 0.9733\n",
      "Epoch 99/100\n",
      "350/350 [==============================] - 2s 6ms/step - loss: 0.0352 - acc: 0.9914 - val_loss: 0.0716 - val_acc: 0.9733\n",
      "Epoch 100/100\n",
      "350/350 [==============================] - 2s 6ms/step - loss: 0.0215 - acc: 0.9943 - val_loss: 0.1024 - val_acc: 0.9667\n"
     ]
    }
   ],
   "source": [
    "EPOCHS = 100\n",
    "history = model.fit(train_data, train_labels, epochs=EPOCHS, validation_data=(test_data, test_labels))"
   ]
  },
  {
   "cell_type": "code",
   "execution_count": 9,
   "metadata": {},
   "outputs": [
    {
     "data": {
      "image/png": "[encoded data removed]",
      "text/plain": [
       "<matplotlib.figure.Figure at 0x251e5b93470>"
      ]
     },
     "metadata": {},
     "output_type": "display_data"
    },
    {
     "data": {
      "image/png": "[encoded data removed]",
      "text/plain": [
       "<matplotlib.figure.Figure at 0x251e5b93550>"
      ]
     },
     "metadata": {},
     "output_type": "display_data"
    }
   ],
   "source": [
    "%run history.py\n",
    "%matplotlib inline\n",
    "\n",
    "plot_accuracy(history)\n",
    "plot_loss(history)"
   ]
  },
  {
   "cell_type": "markdown",
   "metadata": {},
   "source": [
    "## Save the model"
   ]
  },
  {
   "cell_type": "code",
   "execution_count": 11,
   "metadata": {},
   "outputs": [],
   "source": [
    "import datetime\n",
    "\n",
    "dt = datetime.datetime.today().strftime('%Y%m%d%H%M%S')\n",
    "filename = DATASET_FOLDER + '/cnn_for_aed_restaurant{}.h5'.format(dt)\n",
    "model.save(filename)"
   ]
  },
  {
   "cell_type": "markdown",
   "metadata": {},
   "source": [
    "## Load the model"
   ]
  },
  {
   "cell_type": "code",
   "execution_count": 12,
   "metadata": {},
   "outputs": [],
   "source": [
    "del model\n",
    "model = models.load_model(filename)"
   ]
  },
  {
   "cell_type": "markdown",
   "metadata": {
    "colab_type": "text",
    "id": "j6con4C3lKC1"
   },
   "source": [
    "## Confirmation"
   ]
  },
  {
   "cell_type": "code",
   "execution_count": 13,
   "metadata": {
    "colab": {
     "base_uri": "https://localhost:8080/",
     "height": 34
    },
    "colab_type": "code",
    "id": "4oZYLLij69wU",
    "outputId": "b37a4b8a-2c80-411f-d8a9-5df1c6dbfe22"
   },
   "outputs": [
    {
     "data": {
      "text/plain": [
       "(350, 64, 40, 1)"
      ]
     },
     "execution_count": 13,
     "metadata": {},
     "output_type": "execute_result"
    }
   ],
   "source": [
    "import numpy as np\n",
    "import matplotlib.pyplot as plt\n",
    "train_data.shape"
   ]
  },
  {
   "cell_type": "code",
   "execution_count": 14,
   "metadata": {
    "colab": {
     "base_uri": "https://localhost:8080/",
     "height": 193
    },
    "colab_type": "code",
    "id": "zSxXE9FgRBdJ",
    "outputId": "f3a53efe-e99f-4572-f9b4-1bf3c39c77ec"
   },
   "outputs": [],
   "source": [
    "layer_outputs = [layer.output for layer in model.layers]\n",
    "#layer_outputs"
   ]
  },
  {
   "cell_type": "code",
   "execution_count": 15,
   "metadata": {
    "colab": {
     "base_uri": "https://localhost:8080/",
     "height": 34
    },
    "colab_type": "code",
    "id": "dcw7yHKrRkPD",
    "outputId": "a3ed5441-ae48-4635-bf07-ac5060030608"
   },
   "outputs": [],
   "source": [
    "activation_model = models.Model(inputs=model.input, outputs=layer_outputs)\n",
    "activations = activation_model.predict(test_data)\n",
    "#activations[0][0,:,:,0].shape"
   ]
  },
  {
   "cell_type": "code",
   "execution_count": 16,
   "metadata": {},
   "outputs": [
    {
     "data": {
      "text/plain": [
       "['umai', 'mazui', 'oishii', 'silence', 'others']"
      ]
     },
     "execution_count": 16,
     "metadata": {},
     "output_type": "execute_result"
    }
   ],
   "source": [
    "class_labels"
   ]
  },
  {
   "cell_type": "code",
   "execution_count": 17,
   "metadata": {
    "colab": {
     "base_uri": "https://localhost:8080/",
     "height": 193
    },
    "colab_type": "code",
    "id": "ccSNAwGKhRn9",
    "outputId": "0ad22e12-713b-4b07-e17b-45d39ff1b80b"
   },
   "outputs": [
    {
     "data": {
      "text/plain": [
       "array([[99,  0,  0,  0,  0],\n",
       "       [ 0, 99,  0,  0,  0],\n",
       "       [ 0,  0,  4,  0, 95],\n",
       "       [ 0,  0,  0, 99,  0],\n",
       "       [ 0, 99,  0,  0,  0],\n",
       "       [ 0, 99,  0,  0,  0],\n",
       "       [ 0,  0,  0, 99,  0],\n",
       "       [ 0,  0,  0, 99,  0],\n",
       "       [ 0,  0, 99,  0,  0],\n",
       "       [ 0,  0,  0,  0, 99]])"
      ]
     },
     "execution_count": 17,
     "metadata": {},
     "output_type": "execute_result"
    }
   ],
   "source": [
    "(activations[-1][:10]*100).astype(int)"
   ]
  },
  {
   "cell_type": "code",
   "execution_count": 18,
   "metadata": {
    "colab": {
     "base_uri": "https://localhost:8080/",
     "height": 193
    },
    "colab_type": "code",
    "id": "RoE0nxtuiGIN",
    "outputId": "154437a8-ab72-46f4-f42c-3e6464af47d0"
   },
   "outputs": [
    {
     "data": {
      "text/plain": [
       "array([[1, 0, 0, 0, 0],\n",
       "       [0, 1, 0, 0, 0],\n",
       "       [0, 0, 0, 0, 1],\n",
       "       [0, 0, 0, 1, 0],\n",
       "       [0, 1, 0, 0, 0],\n",
       "       [0, 1, 0, 0, 0],\n",
       "       [0, 0, 0, 1, 0],\n",
       "       [0, 0, 0, 1, 0],\n",
       "       [0, 0, 1, 0, 0],\n",
       "       [0, 0, 0, 0, 1]])"
      ]
     },
     "execution_count": 18,
     "metadata": {},
     "output_type": "execute_result"
    }
   ],
   "source": [
    "test_labels[:10].astype(int)"
   ]
  },
  {
   "cell_type": "code",
   "execution_count": 19,
   "metadata": {},
   "outputs": [],
   "source": [
    "def plot_layer(activations, sample, layer):\n",
    "    a = activations[layer].shape\n",
    "    rows = int(a[3]/4)\n",
    "    fig, axarr = plt.subplots(rows, 4, figsize=[20,15])\n",
    "    for i in range(a[3]):\n",
    "        row = int(i/4)\n",
    "        x, y = row, i-4*row\n",
    "        axarr[x, y].imshow(np.rot90(activations[layer][sample, :, :, i]))\n",
    "        axarr[x, y].set_xticks([])\n",
    "        axarr[x, y].set_yticks([])"
   ]
  },
  {
   "cell_type": "code",
   "execution_count": 20,
   "metadata": {},
   "outputs": [
    {
     "data": {
      "text/plain": [
       "'others'"
      ]
     },
     "execution_count": 20,
     "metadata": {},
     "output_type": "execute_result"
    },
    {
     "data": {
      "image/png": "[encoded data removed]",
      "text/plain": [
       "<matplotlib.figure.Figure at 0x251e7e64fd0>"
      ]
     },
     "metadata": {},
     "output_type": "display_data"
    }
   ],
   "source": [
    "image_number = 29\n",
    "\n",
    "plt.imshow(np.rot90(test_data[image_number,:,:,0]))\n",
    "class_labels[np.argmax(test_labels[image_number])]"
   ]
  },
  {
   "cell_type": "code",
   "execution_count": 21,
   "metadata": {},
   "outputs": [
    {
     "data": {
      "image/png": "[encoded data removed]",
      "text/plain": [
       "<matplotlib.figure.Figure at 0x251e5b93898>"
      ]
     },
     "metadata": {},
     "output_type": "display_data"
    }
   ],
   "source": [
    "plot_layer(activations, image_number, 2)"
   ]
  },
  {
   "cell_type": "code",
   "execution_count": 22,
   "metadata": {},
   "outputs": [
    {
     "data": {
      "image/png": "[encoded data removed]",
      "text/plain": [
       "<matplotlib.figure.Figure at 0x251e7acb7b8>"
      ]
     },
     "metadata": {},
     "output_type": "display_data"
    }
   ],
   "source": [
    "plot_layer(activations, image_number, 5)"
   ]
  },
  {
   "cell_type": "code",
   "execution_count": null,
   "metadata": {},
   "outputs": [],
   "source": []
  }
 ],
 "metadata": {
  "colab": {
   "collapsed_sections": [],
   "name": "CNN for AED",
   "provenance": [],
   "version": "0.3.2"
  },
  "kernelspec": {
   "display_name": "Python 3",
   "language": "python",
   "name": "python3"
  },
  "language_info": {
   "codemirror_mode": {
    "name": "ipython",
    "version": 3
   },
   "file_extension": ".py",
   "mimetype": "text/x-python",
   "name": "python",
   "nbconvert_exporter": "python",
   "pygments_lexer": "ipython3",
   "version": "3.6.4"
  }
 },
 "nbformat": 4,
 "nbformat_minor": 1
}
