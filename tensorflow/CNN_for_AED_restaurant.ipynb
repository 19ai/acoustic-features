{
 "cells": [
  {
   "cell_type": "markdown",
   "metadata": {
    "colab_type": "text",
    "id": "0X16cagQE-Y-"
   },
   "source": [
    "# CNN for AED with Keras/TensorFlow\n",
    "\n",
    "Date: March 2, 2019\n",
    "\n",
    "Classification of acoustic events:\n",
    "\n",
    "- Umai\n",
    "- Mazui\n",
    "- Oishii\n",
    "- Others\n",
    "- Silence"
   ]
  },
  {
   "cell_type": "markdown",
   "metadata": {
    "colab_type": "text",
    "id": "WwQ-dEltkl5Q"
   },
   "source": [
    "## Preparing data set for CNN"
   ]
  },
  {
   "cell_type": "code",
   "execution_count": 3,
   "metadata": {
    "colab": {
     "base_uri": "https://localhost:8080/",
     "height": 34
    },
    "colab_type": "code",
    "id": "VEJyQsGpV3ug",
    "outputId": "3929aa39-3383-4791-e065-3622e6781181",
    "scrolled": true
   },
   "outputs": [],
   "source": [
    "DATASET_FOLDER = '../dataset/data_restaurant'\n",
    "\n",
    "%run ../oscilloscope/script/dataset.py\n",
    "\n",
    "ds = DataSet(DATASET_FOLDER)\n",
    "train_data, train_labels, test_data, test_labels = ds.generate()\n",
    "shape = ds.shape\n",
    "class_labels = ds.class_labels"
   ]
  },
  {
   "cell_type": "code",
   "execution_count": 4,
   "metadata": {},
   "outputs": [
    {
     "data": {
      "text/plain": [
       "(64, 40)"
      ]
     },
     "execution_count": 4,
     "metadata": {},
     "output_type": "execute_result"
    }
   ],
   "source": [
    "shape"
   ]
  },
  {
   "cell_type": "markdown",
   "metadata": {
    "colab_type": "text",
    "id": "VfUmgxxVk6uM"
   },
   "source": [
    "### CNN model"
   ]
  },
  {
   "cell_type": "code",
   "execution_count": 22,
   "metadata": {
    "colab": {
     "base_uri": "https://localhost:8080/",
     "height": 509
    },
    "colab_type": "code",
    "id": "B2Xg6tGLdMKP",
    "outputId": "ae3daa32-9dbf-4d8b-9a11-7f596dd2e4a6"
   },
   "outputs": [
    {
     "name": "stdout",
     "output_type": "stream",
     "text": [
      "_________________________________________________________________\n",
      "Layer (type)                 Output Shape              Param #   \n",
      "=================================================================\n",
      "conv2d_4 (Conv2D)            (None, 62, 38, 8)         80        \n",
      "_________________________________________________________________\n",
      "max_pooling2d_4 (MaxPooling2 (None, 31, 19, 8)         0         \n",
      "_________________________________________________________________\n",
      "conv2d_5 (Conv2D)            (None, 29, 17, 16)        1168      \n",
      "_________________________________________________________________\n",
      "max_pooling2d_5 (MaxPooling2 (None, 14, 8, 16)         0         \n",
      "_________________________________________________________________\n",
      "conv2d_6 (Conv2D)            (None, 12, 6, 32)         4640      \n",
      "_________________________________________________________________\n",
      "max_pooling2d_6 (MaxPooling2 (None, 6, 3, 32)          0         \n",
      "_________________________________________________________________\n",
      "flatten_2 (Flatten)          (None, 576)               0         \n",
      "_________________________________________________________________\n",
      "dense_4 (Dense)              (None, 64)                36928     \n",
      "_________________________________________________________________\n",
      "dense_5 (Dense)              (None, 64)                4160      \n",
      "_________________________________________________________________\n",
      "dropout_2 (Dropout)          (None, 64)                0         \n",
      "_________________________________________________________________\n",
      "dense_6 (Dense)              (None, 8)                 520       \n",
      "=================================================================\n",
      "Total params: 47,496\n",
      "Trainable params: 47,496\n",
      "Non-trainable params: 0\n",
      "_________________________________________________________________\n"
     ]
    }
   ],
   "source": [
    "from keras import layers\n",
    "from keras import models\n",
    "\n",
    "model = models.Sequential()\n",
    "\n",
    "model.add(layers.Conv2D(8, (3, 3), activation='relu', input_shape=(*shape, 1)))\n",
    "model.add(layers.MaxPooling2D((2,2)))\n",
    "\n",
    "model.add(layers.Conv2D(16, (3, 3), activation='relu'))\n",
    "model.add(layers.MaxPooling2D((2,2)))\n",
    "\n",
    "model.add(layers.Conv2D(32, (3, 3), activation='relu'))\n",
    "model.add(layers.MaxPooling2D((2,2)))\n",
    "\n",
    "model.add(layers.Flatten())\n",
    "model.add(layers.Dense(64, activation='relu'))\n",
    "model.add(layers.Dense(64, activation='relu'))\n",
    "model.add(layers.Dropout(0.5))\n",
    "model.add(layers.Dense(len(class_labels), activation='softmax'))\n",
    "\n",
    "model.summary()"
   ]
  },
  {
   "cell_type": "code",
   "execution_count": 23,
   "metadata": {
    "colab": {},
    "colab_type": "code",
    "id": "nRr1L_4ogL6i"
   },
   "outputs": [],
   "source": [
    "model.compile(optimizer='rmsprop', loss='categorical_crossentropy', metrics=['accuracy'])"
   ]
  },
  {
   "cell_type": "code",
   "execution_count": 24,
   "metadata": {},
   "outputs": [
    {
     "data": {
      "image/svg+xml": [
       "<svg height=\"848pt\" viewBox=\"0.00 0.00 217.00 848.00\" width=\"217pt\" xmlns=\"http://www.w3.org/2000/svg\" xmlns:xlink=\"http://www.w3.org/1999/xlink\">\n",
       "<g class=\"graph\" id=\"graph0\" transform=\"scale(1 1) rotate(0) translate(4 844)\">\n",
       "<title>G</title>\n",
       "<polygon fill=\"white\" points=\"-4,4 -4,-844 213,-844 213,4 -4,4\" stroke=\"none\"/>\n",
       "<!-- 2182436554344 -->\n",
       "<g class=\"node\" id=\"node1\"><title>2182436554344</title>\n",
       "<polygon fill=\"none\" points=\"41,-730.5 41,-766.5 168,-766.5 168,-730.5 41,-730.5\" stroke=\"black\"/>\n",
       "<text font-family=\"Times New Roman,serif\" font-size=\"14.00\" text-anchor=\"middle\" x=\"104.5\" y=\"-744.8\">conv2d_4: Conv2D</text>\n",
       "</g>\n",
       "<!-- 2182436555016 -->\n",
       "<g class=\"node\" id=\"node2\"><title>2182436555016</title>\n",
       "<polygon fill=\"none\" points=\"0,-657.5 0,-693.5 209,-693.5 209,-657.5 0,-657.5\" stroke=\"black\"/>\n",
       "<text font-family=\"Times New Roman,serif\" font-size=\"14.00\" text-anchor=\"middle\" x=\"104.5\" y=\"-671.8\">max_pooling2d_4: MaxPooling2D</text>\n",
       "</g>\n",
       "<!-- 2182436554344&#45;&gt;2182436555016 -->\n",
       "<g class=\"edge\" id=\"edge2\"><title>2182436554344-&gt;2182436555016</title>\n",
       "<path d=\"M104.5,-730.313C104.5,-722.289 104.5,-712.547 104.5,-703.569\" fill=\"none\" stroke=\"black\"/>\n",
       "<polygon fill=\"black\" points=\"108,-703.529 104.5,-693.529 101,-703.529 108,-703.529\" stroke=\"black\"/>\n",
       "</g>\n",
       "<!-- 2182436554176 -->\n",
       "<g class=\"node\" id=\"node3\"><title>2182436554176</title>\n",
       "<polygon fill=\"none\" points=\"41,-584.5 41,-620.5 168,-620.5 168,-584.5 41,-584.5\" stroke=\"black\"/>\n",
       "<text font-family=\"Times New Roman,serif\" font-size=\"14.00\" text-anchor=\"middle\" x=\"104.5\" y=\"-598.8\">conv2d_5: Conv2D</text>\n",
       "</g>\n",
       "<!-- 2182436555016&#45;&gt;2182436554176 -->\n",
       "<g class=\"edge\" id=\"edge3\"><title>2182436555016-&gt;2182436554176</title>\n",
       "<path d=\"M104.5,-657.313C104.5,-649.289 104.5,-639.547 104.5,-630.569\" fill=\"none\" stroke=\"black\"/>\n",
       "<polygon fill=\"black\" points=\"108,-630.529 104.5,-620.529 101,-630.529 108,-630.529\" stroke=\"black\"/>\n",
       "</g>\n",
       "<!-- 2182436064448 -->\n",
       "<g class=\"node\" id=\"node4\"><title>2182436064448</title>\n",
       "<polygon fill=\"none\" points=\"0,-511.5 0,-547.5 209,-547.5 209,-511.5 0,-511.5\" stroke=\"black\"/>\n",
       "<text font-family=\"Times New Roman,serif\" font-size=\"14.00\" text-anchor=\"middle\" x=\"104.5\" y=\"-525.8\">max_pooling2d_5: MaxPooling2D</text>\n",
       "</g>\n",
       "<!-- 2182436554176&#45;&gt;2182436064448 -->\n",
       "<g class=\"edge\" id=\"edge4\"><title>2182436554176-&gt;2182436064448</title>\n",
       "<path d=\"M104.5,-584.313C104.5,-576.289 104.5,-566.547 104.5,-557.569\" fill=\"none\" stroke=\"black\"/>\n",
       "<polygon fill=\"black\" points=\"108,-557.529 104.5,-547.529 101,-557.529 108,-557.529\" stroke=\"black\"/>\n",
       "</g>\n",
       "<!-- 2182320250328 -->\n",
       "<g class=\"node\" id=\"node5\"><title>2182320250328</title>\n",
       "<polygon fill=\"none\" points=\"41,-438.5 41,-474.5 168,-474.5 168,-438.5 41,-438.5\" stroke=\"black\"/>\n",
       "<text font-family=\"Times New Roman,serif\" font-size=\"14.00\" text-anchor=\"middle\" x=\"104.5\" y=\"-452.8\">conv2d_6: Conv2D</text>\n",
       "</g>\n",
       "<!-- 2182436064448&#45;&gt;2182320250328 -->\n",
       "<g class=\"edge\" id=\"edge5\"><title>2182436064448-&gt;2182320250328</title>\n",
       "<path d=\"M104.5,-511.313C104.5,-503.289 104.5,-493.547 104.5,-484.569\" fill=\"none\" stroke=\"black\"/>\n",
       "<polygon fill=\"black\" points=\"108,-484.529 104.5,-474.529 101,-484.529 108,-484.529\" stroke=\"black\"/>\n",
       "</g>\n",
       "<!-- 2182436177400 -->\n",
       "<g class=\"node\" id=\"node6\"><title>2182436177400</title>\n",
       "<polygon fill=\"none\" points=\"0,-365.5 0,-401.5 209,-401.5 209,-365.5 0,-365.5\" stroke=\"black\"/>\n",
       "<text font-family=\"Times New Roman,serif\" font-size=\"14.00\" text-anchor=\"middle\" x=\"104.5\" y=\"-379.8\">max_pooling2d_6: MaxPooling2D</text>\n",
       "</g>\n",
       "<!-- 2182320250328&#45;&gt;2182436177400 -->\n",
       "<g class=\"edge\" id=\"edge6\"><title>2182320250328-&gt;2182436177400</title>\n",
       "<path d=\"M104.5,-438.313C104.5,-430.289 104.5,-420.547 104.5,-411.569\" fill=\"none\" stroke=\"black\"/>\n",
       "<polygon fill=\"black\" points=\"108,-411.529 104.5,-401.529 101,-411.529 108,-411.529\" stroke=\"black\"/>\n",
       "</g>\n",
       "<!-- 2182436120784 -->\n",
       "<g class=\"node\" id=\"node7\"><title>2182436120784</title>\n",
       "<polygon fill=\"none\" points=\"50,-292.5 50,-328.5 159,-328.5 159,-292.5 50,-292.5\" stroke=\"black\"/>\n",
       "<text font-family=\"Times New Roman,serif\" font-size=\"14.00\" text-anchor=\"middle\" x=\"104.5\" y=\"-306.8\">flatten_2: Flatten</text>\n",
       "</g>\n",
       "<!-- 2182436177400&#45;&gt;2182436120784 -->\n",
       "<g class=\"edge\" id=\"edge7\"><title>2182436177400-&gt;2182436120784</title>\n",
       "<path d=\"M104.5,-365.313C104.5,-357.289 104.5,-347.547 104.5,-338.569\" fill=\"none\" stroke=\"black\"/>\n",
       "<polygon fill=\"black\" points=\"108,-338.529 104.5,-328.529 101,-338.529 108,-338.529\" stroke=\"black\"/>\n",
       "</g>\n",
       "<!-- 2182436807456 -->\n",
       "<g class=\"node\" id=\"node8\"><title>2182436807456</title>\n",
       "<polygon fill=\"none\" points=\"52.5,-219.5 52.5,-255.5 156.5,-255.5 156.5,-219.5 52.5,-219.5\" stroke=\"black\"/>\n",
       "<text font-family=\"Times New Roman,serif\" font-size=\"14.00\" text-anchor=\"middle\" x=\"104.5\" y=\"-233.8\">dense_4: Dense</text>\n",
       "</g>\n",
       "<!-- 2182436120784&#45;&gt;2182436807456 -->\n",
       "<g class=\"edge\" id=\"edge8\"><title>2182436120784-&gt;2182436807456</title>\n",
       "<path d=\"M104.5,-292.313C104.5,-284.289 104.5,-274.547 104.5,-265.569\" fill=\"none\" stroke=\"black\"/>\n",
       "<polygon fill=\"black\" points=\"108,-265.529 104.5,-255.529 101,-265.529 108,-265.529\" stroke=\"black\"/>\n",
       "</g>\n",
       "<!-- 2182436767168 -->\n",
       "<g class=\"node\" id=\"node9\"><title>2182436767168</title>\n",
       "<polygon fill=\"none\" points=\"52.5,-146.5 52.5,-182.5 156.5,-182.5 156.5,-146.5 52.5,-146.5\" stroke=\"black\"/>\n",
       "<text font-family=\"Times New Roman,serif\" font-size=\"14.00\" text-anchor=\"middle\" x=\"104.5\" y=\"-160.8\">dense_5: Dense</text>\n",
       "</g>\n",
       "<!-- 2182436807456&#45;&gt;2182436767168 -->\n",
       "<g class=\"edge\" id=\"edge9\"><title>2182436807456-&gt;2182436767168</title>\n",
       "<path d=\"M104.5,-219.313C104.5,-211.289 104.5,-201.547 104.5,-192.569\" fill=\"none\" stroke=\"black\"/>\n",
       "<polygon fill=\"black\" points=\"108,-192.529 104.5,-182.529 101,-192.529 108,-192.529\" stroke=\"black\"/>\n",
       "</g>\n",
       "<!-- 2182436834048 -->\n",
       "<g class=\"node\" id=\"node10\"><title>2182436834048</title>\n",
       "<polygon fill=\"none\" points=\"39.5,-73.5 39.5,-109.5 169.5,-109.5 169.5,-73.5 39.5,-73.5\" stroke=\"black\"/>\n",
       "<text font-family=\"Times New Roman,serif\" font-size=\"14.00\" text-anchor=\"middle\" x=\"104.5\" y=\"-87.8\">dropout_2: Dropout</text>\n",
       "</g>\n",
       "<!-- 2182436767168&#45;&gt;2182436834048 -->\n",
       "<g class=\"edge\" id=\"edge10\"><title>2182436767168-&gt;2182436834048</title>\n",
       "<path d=\"M104.5,-146.313C104.5,-138.289 104.5,-128.547 104.5,-119.569\" fill=\"none\" stroke=\"black\"/>\n",
       "<polygon fill=\"black\" points=\"108,-119.529 104.5,-109.529 101,-119.529 108,-119.529\" stroke=\"black\"/>\n",
       "</g>\n",
       "<!-- 2182429969096 -->\n",
       "<g class=\"node\" id=\"node11\"><title>2182429969096</title>\n",
       "<polygon fill=\"none\" points=\"52.5,-0.5 52.5,-36.5 156.5,-36.5 156.5,-0.5 52.5,-0.5\" stroke=\"black\"/>\n",
       "<text font-family=\"Times New Roman,serif\" font-size=\"14.00\" text-anchor=\"middle\" x=\"104.5\" y=\"-14.8\">dense_6: Dense</text>\n",
       "</g>\n",
       "<!-- 2182436834048&#45;&gt;2182429969096 -->\n",
       "<g class=\"edge\" id=\"edge11\"><title>2182436834048-&gt;2182429969096</title>\n",
       "<path d=\"M104.5,-73.3129C104.5,-65.2895 104.5,-55.5475 104.5,-46.5691\" fill=\"none\" stroke=\"black\"/>\n",
       "<polygon fill=\"black\" points=\"108,-46.5288 104.5,-36.5288 101,-46.5289 108,-46.5288\" stroke=\"black\"/>\n",
       "</g>\n",
       "<!-- 2182436554848 -->\n",
       "<g class=\"node\" id=\"node12\"><title>2182436554848</title>\n",
       "<polygon fill=\"none\" points=\"52.5,-803.5 52.5,-839.5 156.5,-839.5 156.5,-803.5 52.5,-803.5\" stroke=\"black\"/>\n",
       "<text font-family=\"Times New Roman,serif\" font-size=\"14.00\" text-anchor=\"middle\" x=\"104.5\" y=\"-817.8\">2182436554848</text>\n",
       "</g>\n",
       "<!-- 2182436554848&#45;&gt;2182436554344 -->\n",
       "<g class=\"edge\" id=\"edge1\"><title>2182436554848-&gt;2182436554344</title>\n",
       "<path d=\"M104.5,-803.313C104.5,-795.289 104.5,-785.547 104.5,-776.569\" fill=\"none\" stroke=\"black\"/>\n",
       "<polygon fill=\"black\" points=\"108,-776.529 104.5,-766.529 101,-776.529 108,-776.529\" stroke=\"black\"/>\n",
       "</g>\n",
       "</g>\n",
       "</svg>"
      ],
      "text/plain": [
       "<IPython.core.display.SVG object>"
      ]
     },
     "execution_count": 24,
     "metadata": {},
     "output_type": "execute_result"
    }
   ],
   "source": [
    "from IPython.display import SVG\n",
    "from keras.utils.vis_utils import model_to_dot\n",
    "\n",
    "SVG(model_to_dot(model).create(prog='dot', format='svg'))"
   ]
  },
  {
   "cell_type": "markdown",
   "metadata": {
    "colab_type": "text",
    "id": "TfypWUJIlFkz"
   },
   "source": [
    "## Training CNN"
   ]
  },
  {
   "cell_type": "code",
   "execution_count": 25,
   "metadata": {
    "colab": {
     "base_uri": "https://localhost:8080/",
     "height": 931
    },
    "colab_type": "code",
    "id": "zsdmu-ggfvr1",
    "outputId": "77a52558-8ecc-4fc5-e0cb-2b86a75df4c6",
    "scrolled": false
   },
   "outputs": [
    {
     "name": "stdout",
     "output_type": "stream",
     "text": [
      "Train on 560 samples, validate on 240 samples\n",
      "Epoch 1/30\n",
      "560/560 [==============================] - 20s 35ms/step - loss: 1.9740 - acc: 0.2339 - val_loss: 1.6856 - val_acc: 0.5417\n",
      "Epoch 2/30\n",
      "560/560 [==============================] - 17s 30ms/step - loss: 1.6028 - acc: 0.4000 - val_loss: 1.1384 - val_acc: 0.6667\n",
      "Epoch 3/30\n",
      "560/560 [==============================] - 17s 30ms/step - loss: 1.2257 - acc: 0.5518 - val_loss: 0.8430 - val_acc: 0.8542\n",
      "Epoch 4/30\n",
      "560/560 [==============================] - 18s 32ms/step - loss: 1.0457 - acc: 0.6411 - val_loss: 0.6432 - val_acc: 0.8542\n",
      "Epoch 5/30\n",
      "560/560 [==============================] - 17s 31ms/step - loss: 0.7943 - acc: 0.7482 - val_loss: 0.5090 - val_acc: 0.8583\n",
      "Epoch 6/30\n",
      "560/560 [==============================] - 17s 31ms/step - loss: 0.6946 - acc: 0.7643 - val_loss: 0.3474 - val_acc: 0.9000\n",
      "Epoch 7/30\n",
      "560/560 [==============================] - 18s 32ms/step - loss: 0.6169 - acc: 0.7911 - val_loss: 0.3743 - val_acc: 0.8917\n",
      "Epoch 8/30\n",
      "560/560 [==============================] - 17s 31ms/step - loss: 0.4683 - acc: 0.8393 - val_loss: 0.2269 - val_acc: 0.9375\n",
      "Epoch 9/30\n",
      "560/560 [==============================] - 17s 31ms/step - loss: 0.4352 - acc: 0.8679 - val_loss: 0.2200 - val_acc: 0.9458\n",
      "Epoch 10/30\n",
      "560/560 [==============================] - 17s 31ms/step - loss: 0.3676 - acc: 0.8750 - val_loss: 0.2547 - val_acc: 0.9292\n",
      "Epoch 11/30\n",
      "560/560 [==============================] - 17s 31ms/step - loss: 0.3490 - acc: 0.8821 - val_loss: 0.1958 - val_acc: 0.9500\n",
      "Epoch 12/30\n",
      "560/560 [==============================] - 18s 31ms/step - loss: 0.3108 - acc: 0.8946 - val_loss: 0.1351 - val_acc: 0.9708\n",
      "Epoch 13/30\n",
      "560/560 [==============================] - 17s 31ms/step - loss: 0.2410 - acc: 0.9179 - val_loss: 0.1987 - val_acc: 0.9167\n",
      "Epoch 14/30\n",
      "560/560 [==============================] - 18s 31ms/step - loss: 0.2342 - acc: 0.9107 - val_loss: 0.1670 - val_acc: 0.9583\n",
      "Epoch 15/30\n",
      "560/560 [==============================] - 17s 31ms/step - loss: 0.2223 - acc: 0.9250 - val_loss: 0.1851 - val_acc: 0.9542\n",
      "Epoch 16/30\n",
      "560/560 [==============================] - 17s 30ms/step - loss: 0.2268 - acc: 0.9250 - val_loss: 0.1666 - val_acc: 0.9542\n",
      "Epoch 17/30\n",
      "560/560 [==============================] - 18s 31ms/step - loss: 0.1849 - acc: 0.9375 - val_loss: 0.1713 - val_acc: 0.9542\n",
      "Epoch 18/30\n",
      "560/560 [==============================] - 17s 30ms/step - loss: 0.1561 - acc: 0.9429 - val_loss: 0.2549 - val_acc: 0.9208\n",
      "Epoch 19/30\n",
      "560/560 [==============================] - 18s 31ms/step - loss: 0.1967 - acc: 0.9304 - val_loss: 0.1892 - val_acc: 0.9458\n",
      "Epoch 20/30\n",
      "560/560 [==============================] - 17s 30ms/step - loss: 0.1668 - acc: 0.9482 - val_loss: 0.1294 - val_acc: 0.9625\n",
      "Epoch 21/30\n",
      "560/560 [==============================] - 18s 31ms/step - loss: 0.1453 - acc: 0.9500 - val_loss: 0.1229 - val_acc: 0.9667\n",
      "Epoch 22/30\n",
      "560/560 [==============================] - 17s 31ms/step - loss: 0.1157 - acc: 0.9696 - val_loss: 0.1560 - val_acc: 0.9500\n",
      "Epoch 23/30\n",
      "560/560 [==============================] - 18s 31ms/step - loss: 0.1173 - acc: 0.9643 - val_loss: 0.1357 - val_acc: 0.9583\n",
      "Epoch 24/30\n",
      "560/560 [==============================] - 17s 30ms/step - loss: 0.1117 - acc: 0.9607 - val_loss: 0.1134 - val_acc: 0.9792\n",
      "Epoch 25/30\n",
      "560/560 [==============================] - 17s 31ms/step - loss: 0.0869 - acc: 0.9625 - val_loss: 0.1726 - val_acc: 0.9458\n",
      "Epoch 26/30\n",
      "560/560 [==============================] - 17s 31ms/step - loss: 0.1019 - acc: 0.9607 - val_loss: 0.1710 - val_acc: 0.9625\n",
      "Epoch 27/30\n",
      "560/560 [==============================] - 17s 31ms/step - loss: 0.0698 - acc: 0.9696 - val_loss: 0.0865 - val_acc: 0.9833\n",
      "Epoch 28/30\n",
      "560/560 [==============================] - 17s 30ms/step - loss: 0.1203 - acc: 0.9607 - val_loss: 0.1369 - val_acc: 0.9750\n",
      "Epoch 29/30\n",
      "560/560 [==============================] - 18s 32ms/step - loss: 0.0584 - acc: 0.9786 - val_loss: 0.1609 - val_acc: 0.9583\n",
      "Epoch 30/30\n",
      "560/560 [==============================] - 18s 33ms/step - loss: 0.0871 - acc: 0.9714 - val_loss: 0.1455 - val_acc: 0.9750\n"
     ]
    }
   ],
   "source": [
    "EPOCHS = 30\n",
    "history = model.fit(train_data, train_labels, epochs=EPOCHS, validation_data=(test_data, test_labels))"
   ]
  },
  {
   "cell_type": "code",
   "execution_count": 26,
   "metadata": {},
   "outputs": [
    {
     "data": {
      "image/png": "[encoded data removed]",
      "text/plain": [
       "<matplotlib.figure.Figure at 0x1fc1b7f9198>"
      ]
     },
     "metadata": {},
     "output_type": "display_data"
    },
    {
     "data": {
      "image/png": "[encoded data removed]",
      "text/plain": [
       "<matplotlib.figure.Figure at 0x1fc1b7ebfd0>"
      ]
     },
     "metadata": {},
     "output_type": "display_data"
    }
   ],
   "source": [
    "%run history.py\n",
    "%matplotlib inline\n",
    "\n",
    "plot_accuracy(history)\n",
    "plot_loss(history)"
   ]
  },
  {
   "cell_type": "markdown",
   "metadata": {},
   "source": [
    "## Save the model"
   ]
  },
  {
   "cell_type": "code",
   "execution_count": 27,
   "metadata": {},
   "outputs": [],
   "source": [
    "import datetime\n",
    "\n",
    "dt = datetime.datetime.today().strftime('%Y%m%d%H%M%S')\n",
    "filename = DATASET_FOLDER + '/cnn_for_aed_restaurant{}.h5'.format(dt)\n",
    "model.save(filename)"
   ]
  },
  {
   "cell_type": "markdown",
   "metadata": {},
   "source": [
    "## Load the model"
   ]
  },
  {
   "cell_type": "code",
   "execution_count": 28,
   "metadata": {},
   "outputs": [],
   "source": [
    "del model\n",
    "model = models.load_model(filename)"
   ]
  },
  {
   "cell_type": "markdown",
   "metadata": {
    "colab_type": "text",
    "id": "j6con4C3lKC1"
   },
   "source": [
    "## Confirmation"
   ]
  },
  {
   "cell_type": "code",
   "execution_count": 29,
   "metadata": {
    "colab": {
     "base_uri": "https://localhost:8080/",
     "height": 34
    },
    "colab_type": "code",
    "id": "4oZYLLij69wU",
    "outputId": "b37a4b8a-2c80-411f-d8a9-5df1c6dbfe22"
   },
   "outputs": [
    {
     "data": {
      "text/plain": [
       "(560, 64, 40, 1)"
      ]
     },
     "execution_count": 29,
     "metadata": {},
     "output_type": "execute_result"
    }
   ],
   "source": [
    "import numpy as np\n",
    "import matplotlib.pyplot as plt\n",
    "train_data.shape"
   ]
  },
  {
   "cell_type": "code",
   "execution_count": 30,
   "metadata": {
    "colab": {
     "base_uri": "https://localhost:8080/",
     "height": 193
    },
    "colab_type": "code",
    "id": "zSxXE9FgRBdJ",
    "outputId": "f3a53efe-e99f-4572-f9b4-1bf3c39c77ec"
   },
   "outputs": [],
   "source": [
    "layer_outputs = [layer.output for layer in model.layers]\n",
    "#layer_outputs"
   ]
  },
  {
   "cell_type": "code",
   "execution_count": 31,
   "metadata": {
    "colab": {
     "base_uri": "https://localhost:8080/",
     "height": 34
    },
    "colab_type": "code",
    "id": "dcw7yHKrRkPD",
    "outputId": "a3ed5441-ae48-4635-bf07-ac5060030608"
   },
   "outputs": [],
   "source": [
    "activation_model = models.Model(inputs=model.input, outputs=layer_outputs)\n",
    "activations = activation_model.predict(test_data)\n",
    "#activations[0][0,:,:,0].shape"
   ]
  },
  {
   "cell_type": "code",
   "execution_count": 32,
   "metadata": {},
   "outputs": [
    {
     "data": {
      "text/plain": [
       "['umai', 'mazui', 'oishii', 'silence', 'others', 'a', 'i', 'o']"
      ]
     },
     "execution_count": 32,
     "metadata": {},
     "output_type": "execute_result"
    }
   ],
   "source": [
    "class_labels"
   ]
  },
  {
   "cell_type": "code",
   "execution_count": 33,
   "metadata": {
    "colab": {
     "base_uri": "https://localhost:8080/",
     "height": 193
    },
    "colab_type": "code",
    "id": "ccSNAwGKhRn9",
    "outputId": "0ad22e12-713b-4b07-e17b-45d39ff1b80b"
   },
   "outputs": [
    {
     "data": {
      "text/plain": [
       "array([[ 99,   0,   0,   0,   0,   0,   0,   0],\n",
       "       [  0,   0,   0,  99,   0,   0,   0,   0],\n",
       "       [  0,   0,   0,  99,   0,   0,   0,   0],\n",
       "       [  0,   0,   0,  99,   0,   0,   0,   0],\n",
       "       [  0,  99,   0,   0,   0,   0,   0,   0],\n",
       "       [  0,  99,   0,   0,   0,   0,   0,   0],\n",
       "       [  0,   0,  99,   0,   0,   0,   0,   0],\n",
       "       [  0,   0,  99,   0,   0,   0,   0,   0],\n",
       "       [  0,   0,   0,   0,   0, 100,   0,   0],\n",
       "       [  0,   0,   0,   0,   0,   0,   0, 100]])"
      ]
     },
     "execution_count": 33,
     "metadata": {},
     "output_type": "execute_result"
    }
   ],
   "source": [
    "(activations[-1][:10]*100).astype(int)"
   ]
  },
  {
   "cell_type": "code",
   "execution_count": 34,
   "metadata": {
    "colab": {
     "base_uri": "https://localhost:8080/",
     "height": 193
    },
    "colab_type": "code",
    "id": "RoE0nxtuiGIN",
    "outputId": "154437a8-ab72-46f4-f42c-3e6464af47d0"
   },
   "outputs": [
    {
     "data": {
      "text/plain": [
       "array([[1, 0, 0, 0, 0, 0, 0, 0],\n",
       "       [0, 0, 0, 1, 0, 0, 0, 0],\n",
       "       [0, 0, 0, 1, 0, 0, 0, 0],\n",
       "       [0, 0, 0, 1, 0, 0, 0, 0],\n",
       "       [0, 1, 0, 0, 0, 0, 0, 0],\n",
       "       [0, 1, 0, 0, 0, 0, 0, 0],\n",
       "       [0, 0, 1, 0, 0, 0, 0, 0],\n",
       "       [0, 0, 1, 0, 0, 0, 0, 0],\n",
       "       [0, 0, 0, 0, 0, 1, 0, 0],\n",
       "       [0, 0, 0, 0, 0, 0, 0, 1]])"
      ]
     },
     "execution_count": 34,
     "metadata": {},
     "output_type": "execute_result"
    }
   ],
   "source": [
    "test_labels[:10].astype(int)"
   ]
  },
  {
   "cell_type": "code",
   "execution_count": 35,
   "metadata": {},
   "outputs": [],
   "source": [
    "def plot_layer(activations, sample, layer):\n",
    "    a = activations[layer].shape\n",
    "    rows = int(a[3]/4)\n",
    "    fig, axarr = plt.subplots(rows, 4, figsize=[20,15])\n",
    "    for i in range(a[3]):\n",
    "        row = int(i/4)\n",
    "        x, y = row, i-4*row\n",
    "        axarr[x, y].imshow(np.rot90(activations[layer][sample, :, :, i]))\n",
    "        axarr[x, y].set_xticks([])\n",
    "        axarr[x, y].set_yticks([])"
   ]
  },
  {
   "cell_type": "code",
   "execution_count": 36,
   "metadata": {},
   "outputs": [
    {
     "data": {
      "text/plain": [
       "'o'"
      ]
     },
     "execution_count": 36,
     "metadata": {},
     "output_type": "execute_result"
    },
    {
     "data": {
      "image/png": "[encoded data removed]",
      "text/plain": [
       "<matplotlib.figure.Figure at 0x1fc23096860>"
      ]
     },
     "metadata": {},
     "output_type": "display_data"
    }
   ],
   "source": [
    "image_number = 29\n",
    "\n",
    "plt.imshow(np.rot90(test_data[image_number,:,:,0]))\n",
    "class_labels[np.argmax(test_labels[image_number])]"
   ]
  },
  {
   "cell_type": "code",
   "execution_count": 37,
   "metadata": {},
   "outputs": [
    {
     "data": {
      "image/png": "[encoded data removed]",
      "text/plain": [
       "<matplotlib.figure.Figure at 0x1fc2303b0f0>"
      ]
     },
     "metadata": {},
     "output_type": "display_data"
    }
   ],
   "source": [
    "plot_layer(activations, image_number, 2)"
   ]
  },
  {
   "cell_type": "code",
   "execution_count": 38,
   "metadata": {},
   "outputs": [
    {
     "data": {
      "image/png": "[encoded data removed]",
      "text/plain": [
       "<matplotlib.figure.Figure at 0x1fc1eba66d8>"
      ]
     },
     "metadata": {},
     "output_type": "display_data"
    }
   ],
   "source": [
    "plot_layer(activations, image_number, 5)"
   ]
  },
  {
   "cell_type": "code",
   "execution_count": null,
   "metadata": {},
   "outputs": [],
   "source": []
  }
 ],
 "metadata": {
  "colab": {
   "collapsed_sections": [],
   "name": "CNN for AED",
   "provenance": [],
   "version": "0.3.2"
  },
  "kernelspec": {
   "display_name": "Python 3",
   "language": "python",
   "name": "python3"
  },
  "language_info": {
   "codemirror_mode": {
    "name": "ipython",
    "version": 3
   },
   "file_extension": ".py",
   "mimetype": "text/x-python",
   "name": "python",
   "nbconvert_exporter": "python",
   "pygments_lexer": "ipython3",
   "version": "3.6.4"
  }
 },
 "nbformat": 4,
 "nbformat_minor": 1
}
