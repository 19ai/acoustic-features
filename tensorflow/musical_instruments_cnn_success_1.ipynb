{
 "cells": [
  {
   "cell_type": "markdown",
   "metadata": {
    "colab_type": "text",
    "id": "0X16cagQE-Y-"
   },
   "source": [
    "# CNN for AED with Keras/TensorFlow\n",
    "\n",
    "Date: November 11, 2018 and February 27, 2019\n",
    "\n",
    "Neural network: three convolution layers and three fully connected layers\n",
    "\n",
    "Classification of acoustic events:\n",
    "\n",
    "- Piano music\n",
    "- Framenco guitar music\n",
    "- Classical guitar music\n",
    "- Blues hars music\n",
    "- Tin whistle music\n",
    "- Silence"
   ]
  },
  {
   "cell_type": "markdown",
   "metadata": {
    "colab_type": "text",
    "id": "WwQ-dEltkl5Q"
   },
   "source": [
    "## Preparing data set for CNN"
   ]
  },
  {
   "cell_type": "code",
   "execution_count": 8,
   "metadata": {
    "colab": {
     "base_uri": "https://localhost:8080/",
     "height": 34
    },
    "colab_type": "code",
    "id": "VEJyQsGpV3ug",
    "outputId": "3929aa39-3383-4791-e065-3622e6781181"
   },
   "outputs": [],
   "source": [
    "DATASET_FOLDER = '../dataset/data_music'\n",
    "\n",
    "%run ../oscilloscope/script/dataset.py\n",
    "\n",
    "ds = DataSet(DATASET_FOLDER)\n",
    "train_data, train_labels, test_data, test_labels = ds.generate()\n",
    "shape = ds.shape\n",
    "class_labels = ds.class_labels"
   ]
  },
  {
   "cell_type": "code",
   "execution_count": 9,
   "metadata": {},
   "outputs": [
    {
     "data": {
      "text/plain": [
       "(64, 40)"
      ]
     },
     "execution_count": 9,
     "metadata": {},
     "output_type": "execute_result"
    }
   ],
   "source": [
    "shape"
   ]
  },
  {
   "cell_type": "markdown",
   "metadata": {
    "colab_type": "text",
    "id": "VfUmgxxVk6uM"
   },
   "source": [
    "### CNN model"
   ]
  },
  {
   "cell_type": "code",
   "execution_count": 10,
   "metadata": {
    "colab": {
     "base_uri": "https://localhost:8080/",
     "height": 509
    },
    "colab_type": "code",
    "id": "B2Xg6tGLdMKP",
    "outputId": "ae3daa32-9dbf-4d8b-9a11-7f596dd2e4a6"
   },
   "outputs": [
    {
     "name": "stdout",
     "output_type": "stream",
     "text": [
      "_________________________________________________________________\n",
      "Layer (type)                 Output Shape              Param #   \n",
      "=================================================================\n",
      "conv2d_4 (Conv2D)            (None, 62, 38, 8)         80        \n",
      "_________________________________________________________________\n",
      "max_pooling2d_4 (MaxPooling2 (None, 31, 19, 8)         0         \n",
      "_________________________________________________________________\n",
      "conv2d_5 (Conv2D)            (None, 29, 17, 16)        1168      \n",
      "_________________________________________________________________\n",
      "max_pooling2d_5 (MaxPooling2 (None, 14, 8, 16)         0         \n",
      "_________________________________________________________________\n",
      "conv2d_6 (Conv2D)            (None, 12, 6, 32)         4640      \n",
      "_________________________________________________________________\n",
      "max_pooling2d_6 (MaxPooling2 (None, 6, 3, 32)          0         \n",
      "_________________________________________________________________\n",
      "flatten_2 (Flatten)          (None, 576)               0         \n",
      "_________________________________________________________________\n",
      "dropout_2 (Dropout)          (None, 576)               0         \n",
      "_________________________________________________________________\n",
      "dense_4 (Dense)              (None, 6)                 3462      \n",
      "=================================================================\n",
      "Total params: 9,350\n",
      "Trainable params: 9,350\n",
      "Non-trainable params: 0\n",
      "_________________________________________________________________\n"
     ]
    }
   ],
   "source": [
    "from keras import layers\n",
    "from keras import models\n",
    "\n",
    "model = models.Sequential()\n",
    "\n",
    "model.add(layers.Conv2D(8, (3, 3), activation='relu', input_shape=(*shape, 1)))\n",
    "model.add(layers.MaxPooling2D((2,2)))\n",
    "\n",
    "model.add(layers.Conv2D(16, (3, 3), activation='relu'))\n",
    "model.add(layers.MaxPooling2D((2,2)))\n",
    "\n",
    "model.add(layers.Conv2D(32, (3, 3), activation='relu'))\n",
    "model.add(layers.MaxPooling2D((2,2)))\n",
    "\n",
    "model.add(layers.Flatten())\n",
    "#model.add(layers.Dense(64, activation='relu'))\n",
    "#model.add(layers.Dense(64, activation='relu'))\n",
    "model.add(layers.Dropout(0.5))\n",
    "model.add(layers.Dense(len(class_labels), activation='softmax'))\n",
    "\n",
    "model.summary()"
   ]
  },
  {
   "cell_type": "code",
   "execution_count": 11,
   "metadata": {
    "colab": {},
    "colab_type": "code",
    "id": "nRr1L_4ogL6i"
   },
   "outputs": [],
   "source": [
    "model.compile(optimizer='rmsprop', loss='categorical_crossentropy', metrics=['accuracy'])"
   ]
  },
  {
   "cell_type": "code",
   "execution_count": 12,
   "metadata": {},
   "outputs": [
    {
     "data": {
      "image/svg+xml": [
       "<svg height=\"702pt\" viewBox=\"0.00 0.00 217.00 702.00\" width=\"217pt\" xmlns=\"http://www.w3.org/2000/svg\" xmlns:xlink=\"http://www.w3.org/1999/xlink\">\n",
       "<g class=\"graph\" id=\"graph0\" transform=\"scale(1 1) rotate(0) translate(4 698)\">\n",
       "<title>G</title>\n",
       "<polygon fill=\"white\" points=\"-4,4 -4,-698 213,-698 213,4 -4,4\" stroke=\"none\"/>\n",
       "<!-- 2846969595328 -->\n",
       "<g class=\"node\" id=\"node1\"><title>2846969595328</title>\n",
       "<polygon fill=\"none\" points=\"41,-584.5 41,-620.5 168,-620.5 168,-584.5 41,-584.5\" stroke=\"black\"/>\n",
       "<text font-family=\"Times New Roman,serif\" font-size=\"14.00\" text-anchor=\"middle\" x=\"104.5\" y=\"-598.8\">conv2d_4: Conv2D</text>\n",
       "</g>\n",
       "<!-- 2846969596448 -->\n",
       "<g class=\"node\" id=\"node2\"><title>2846969596448</title>\n",
       "<polygon fill=\"none\" points=\"0,-511.5 0,-547.5 209,-547.5 209,-511.5 0,-511.5\" stroke=\"black\"/>\n",
       "<text font-family=\"Times New Roman,serif\" font-size=\"14.00\" text-anchor=\"middle\" x=\"104.5\" y=\"-525.8\">max_pooling2d_4: MaxPooling2D</text>\n",
       "</g>\n",
       "<!-- 2846969595328&#45;&gt;2846969596448 -->\n",
       "<g class=\"edge\" id=\"edge2\"><title>2846969595328-&gt;2846969596448</title>\n",
       "<path d=\"M104.5,-584.313C104.5,-576.289 104.5,-566.547 104.5,-557.569\" fill=\"none\" stroke=\"black\"/>\n",
       "<polygon fill=\"black\" points=\"108,-557.529 104.5,-547.529 101,-557.529 108,-557.529\" stroke=\"black\"/>\n",
       "</g>\n",
       "<!-- 2846969595272 -->\n",
       "<g class=\"node\" id=\"node3\"><title>2846969595272</title>\n",
       "<polygon fill=\"none\" points=\"41,-438.5 41,-474.5 168,-474.5 168,-438.5 41,-438.5\" stroke=\"black\"/>\n",
       "<text font-family=\"Times New Roman,serif\" font-size=\"14.00\" text-anchor=\"middle\" x=\"104.5\" y=\"-452.8\">conv2d_5: Conv2D</text>\n",
       "</g>\n",
       "<!-- 2846969596448&#45;&gt;2846969595272 -->\n",
       "<g class=\"edge\" id=\"edge3\"><title>2846969596448-&gt;2846969595272</title>\n",
       "<path d=\"M104.5,-511.313C104.5,-503.289 104.5,-493.547 104.5,-484.569\" fill=\"none\" stroke=\"black\"/>\n",
       "<polygon fill=\"black\" points=\"108,-484.529 104.5,-474.529 101,-484.529 108,-484.529\" stroke=\"black\"/>\n",
       "</g>\n",
       "<!-- 2846969482824 -->\n",
       "<g class=\"node\" id=\"node4\"><title>2846969482824</title>\n",
       "<polygon fill=\"none\" points=\"0,-365.5 0,-401.5 209,-401.5 209,-365.5 0,-365.5\" stroke=\"black\"/>\n",
       "<text font-family=\"Times New Roman,serif\" font-size=\"14.00\" text-anchor=\"middle\" x=\"104.5\" y=\"-379.8\">max_pooling2d_5: MaxPooling2D</text>\n",
       "</g>\n",
       "<!-- 2846969595272&#45;&gt;2846969482824 -->\n",
       "<g class=\"edge\" id=\"edge4\"><title>2846969595272-&gt;2846969482824</title>\n",
       "<path d=\"M104.5,-438.313C104.5,-430.289 104.5,-420.547 104.5,-411.569\" fill=\"none\" stroke=\"black\"/>\n",
       "<polygon fill=\"black\" points=\"108,-411.529 104.5,-401.529 101,-411.529 108,-411.529\" stroke=\"black\"/>\n",
       "</g>\n",
       "<!-- 2846969597624 -->\n",
       "<g class=\"node\" id=\"node5\"><title>2846969597624</title>\n",
       "<polygon fill=\"none\" points=\"41,-292.5 41,-328.5 168,-328.5 168,-292.5 41,-292.5\" stroke=\"black\"/>\n",
       "<text font-family=\"Times New Roman,serif\" font-size=\"14.00\" text-anchor=\"middle\" x=\"104.5\" y=\"-306.8\">conv2d_6: Conv2D</text>\n",
       "</g>\n",
       "<!-- 2846969482824&#45;&gt;2846969597624 -->\n",
       "<g class=\"edge\" id=\"edge5\"><title>2846969482824-&gt;2846969597624</title>\n",
       "<path d=\"M104.5,-365.313C104.5,-357.289 104.5,-347.547 104.5,-338.569\" fill=\"none\" stroke=\"black\"/>\n",
       "<polygon fill=\"black\" points=\"108,-338.529 104.5,-328.529 101,-338.529 108,-338.529\" stroke=\"black\"/>\n",
       "</g>\n",
       "<!-- 2846969666696 -->\n",
       "<g class=\"node\" id=\"node6\"><title>2846969666696</title>\n",
       "<polygon fill=\"none\" points=\"0,-219.5 0,-255.5 209,-255.5 209,-219.5 0,-219.5\" stroke=\"black\"/>\n",
       "<text font-family=\"Times New Roman,serif\" font-size=\"14.00\" text-anchor=\"middle\" x=\"104.5\" y=\"-233.8\">max_pooling2d_6: MaxPooling2D</text>\n",
       "</g>\n",
       "<!-- 2846969597624&#45;&gt;2846969666696 -->\n",
       "<g class=\"edge\" id=\"edge6\"><title>2846969597624-&gt;2846969666696</title>\n",
       "<path d=\"M104.5,-292.313C104.5,-284.289 104.5,-274.547 104.5,-265.569\" fill=\"none\" stroke=\"black\"/>\n",
       "<polygon fill=\"black\" points=\"108,-265.529 104.5,-255.529 101,-265.529 108,-265.529\" stroke=\"black\"/>\n",
       "</g>\n",
       "<!-- 2846969521880 -->\n",
       "<g class=\"node\" id=\"node7\"><title>2846969521880</title>\n",
       "<polygon fill=\"none\" points=\"50,-146.5 50,-182.5 159,-182.5 159,-146.5 50,-146.5\" stroke=\"black\"/>\n",
       "<text font-family=\"Times New Roman,serif\" font-size=\"14.00\" text-anchor=\"middle\" x=\"104.5\" y=\"-160.8\">flatten_2: Flatten</text>\n",
       "</g>\n",
       "<!-- 2846969666696&#45;&gt;2846969521880 -->\n",
       "<g class=\"edge\" id=\"edge7\"><title>2846969666696-&gt;2846969521880</title>\n",
       "<path d=\"M104.5,-219.313C104.5,-211.289 104.5,-201.547 104.5,-192.569\" fill=\"none\" stroke=\"black\"/>\n",
       "<polygon fill=\"black\" points=\"108,-192.529 104.5,-182.529 101,-192.529 108,-192.529\" stroke=\"black\"/>\n",
       "</g>\n",
       "<!-- 2846969555320 -->\n",
       "<g class=\"node\" id=\"node8\"><title>2846969555320</title>\n",
       "<polygon fill=\"none\" points=\"39.5,-73.5 39.5,-109.5 169.5,-109.5 169.5,-73.5 39.5,-73.5\" stroke=\"black\"/>\n",
       "<text font-family=\"Times New Roman,serif\" font-size=\"14.00\" text-anchor=\"middle\" x=\"104.5\" y=\"-87.8\">dropout_2: Dropout</text>\n",
       "</g>\n",
       "<!-- 2846969521880&#45;&gt;2846969555320 -->\n",
       "<g class=\"edge\" id=\"edge8\"><title>2846969521880-&gt;2846969555320</title>\n",
       "<path d=\"M104.5,-146.313C104.5,-138.289 104.5,-128.547 104.5,-119.569\" fill=\"none\" stroke=\"black\"/>\n",
       "<polygon fill=\"black\" points=\"108,-119.529 104.5,-109.529 101,-119.529 108,-119.529\" stroke=\"black\"/>\n",
       "</g>\n",
       "<!-- 2846969555376 -->\n",
       "<g class=\"node\" id=\"node9\"><title>2846969555376</title>\n",
       "<polygon fill=\"none\" points=\"52.5,-0.5 52.5,-36.5 156.5,-36.5 156.5,-0.5 52.5,-0.5\" stroke=\"black\"/>\n",
       "<text font-family=\"Times New Roman,serif\" font-size=\"14.00\" text-anchor=\"middle\" x=\"104.5\" y=\"-14.8\">dense_4: Dense</text>\n",
       "</g>\n",
       "<!-- 2846969555320&#45;&gt;2846969555376 -->\n",
       "<g class=\"edge\" id=\"edge9\"><title>2846969555320-&gt;2846969555376</title>\n",
       "<path d=\"M104.5,-73.3129C104.5,-65.2895 104.5,-55.5475 104.5,-46.5691\" fill=\"none\" stroke=\"black\"/>\n",
       "<polygon fill=\"black\" points=\"108,-46.5288 104.5,-36.5288 101,-46.5289 108,-46.5288\" stroke=\"black\"/>\n",
       "</g>\n",
       "<!-- 2846969595720 -->\n",
       "<g class=\"node\" id=\"node10\"><title>2846969595720</title>\n",
       "<polygon fill=\"none\" points=\"52.5,-657.5 52.5,-693.5 156.5,-693.5 156.5,-657.5 52.5,-657.5\" stroke=\"black\"/>\n",
       "<text font-family=\"Times New Roman,serif\" font-size=\"14.00\" text-anchor=\"middle\" x=\"104.5\" y=\"-671.8\">2846969595720</text>\n",
       "</g>\n",
       "<!-- 2846969595720&#45;&gt;2846969595328 -->\n",
       "<g class=\"edge\" id=\"edge1\"><title>2846969595720-&gt;2846969595328</title>\n",
       "<path d=\"M104.5,-657.313C104.5,-649.289 104.5,-639.547 104.5,-630.569\" fill=\"none\" stroke=\"black\"/>\n",
       "<polygon fill=\"black\" points=\"108,-630.529 104.5,-620.529 101,-630.529 108,-630.529\" stroke=\"black\"/>\n",
       "</g>\n",
       "</g>\n",
       "</svg>"
      ],
      "text/plain": [
       "<IPython.core.display.SVG object>"
      ]
     },
     "execution_count": 12,
     "metadata": {},
     "output_type": "execute_result"
    }
   ],
   "source": [
    "from IPython.display import SVG\n",
    "from keras.utils.vis_utils import model_to_dot\n",
    "\n",
    "SVG(model_to_dot(model).create(prog='dot', format='svg'))"
   ]
  },
  {
   "cell_type": "markdown",
   "metadata": {
    "colab_type": "text",
    "id": "TfypWUJIlFkz"
   },
   "source": [
    "## Training CNN"
   ]
  },
  {
   "cell_type": "code",
   "execution_count": 13,
   "metadata": {
    "colab": {
     "base_uri": "https://localhost:8080/",
     "height": 931
    },
    "colab_type": "code",
    "id": "zsdmu-ggfvr1",
    "outputId": "77a52558-8ecc-4fc5-e0cb-2b86a75df4c6",
    "scrolled": false
   },
   "outputs": [
    {
     "name": "stdout",
     "output_type": "stream",
     "text": [
      "Train on 384 samples, validate on 216 samples\n",
      "Epoch 1/60\n",
      "384/384 [==============================] - 14s 35ms/step - loss: 1.6652 - acc: 0.3203 - val_loss: 1.4115 - val_acc: 0.4815\n",
      "Epoch 2/60\n",
      "384/384 [==============================] - 12s 31ms/step - loss: 1.3205 - acc: 0.5339 - val_loss: 1.1058 - val_acc: 0.7083\n",
      "Epoch 3/60\n",
      "384/384 [==============================] - 12s 32ms/step - loss: 1.0936 - acc: 0.5729 - val_loss: 0.9130 - val_acc: 0.6898\n",
      "Epoch 4/60\n",
      "384/384 [==============================] - 12s 32ms/step - loss: 0.9621 - acc: 0.6198 - val_loss: 0.8234 - val_acc: 0.6806\n",
      "Epoch 5/60\n",
      "384/384 [==============================] - 13s 33ms/step - loss: 0.8257 - acc: 0.7057 - val_loss: 0.7567 - val_acc: 0.7130\n",
      "Epoch 6/60\n",
      "384/384 [==============================] - 12s 31ms/step - loss: 0.7132 - acc: 0.7344 - val_loss: 0.6731 - val_acc: 0.7269\n",
      "Epoch 7/60\n",
      "384/384 [==============================] - 13s 33ms/step - loss: 0.6840 - acc: 0.7422 - val_loss: 0.5709 - val_acc: 0.7731\n",
      "Epoch 8/60\n",
      "384/384 [==============================] - 12s 31ms/step - loss: 0.5748 - acc: 0.8073 - val_loss: 0.5300 - val_acc: 0.7870\n",
      "Epoch 9/60\n",
      "384/384 [==============================] - 12s 32ms/step - loss: 0.5153 - acc: 0.7839 - val_loss: 0.4903 - val_acc: 0.7917\n",
      "Epoch 10/60\n",
      "384/384 [==============================] - 12s 32ms/step - loss: 0.4923 - acc: 0.8281 - val_loss: 0.4741 - val_acc: 0.8380\n",
      "Epoch 11/60\n",
      "384/384 [==============================] - 12s 32ms/step - loss: 0.4459 - acc: 0.8281 - val_loss: 0.4153 - val_acc: 0.8565\n",
      "Epoch 12/60\n",
      "384/384 [==============================] - 12s 31ms/step - loss: 0.4040 - acc: 0.8568 - val_loss: 0.4691 - val_acc: 0.7870\n",
      "Epoch 13/60\n",
      "384/384 [==============================] - 12s 33ms/step - loss: 0.4203 - acc: 0.8594 - val_loss: 0.3754 - val_acc: 0.8472\n",
      "Epoch 14/60\n",
      "384/384 [==============================] - 12s 31ms/step - loss: 0.3919 - acc: 0.8568 - val_loss: 0.3898 - val_acc: 0.8565\n",
      "Epoch 15/60\n",
      "384/384 [==============================] - 12s 32ms/step - loss: 0.3277 - acc: 0.8828 - val_loss: 0.3367 - val_acc: 0.8750\n",
      "Epoch 16/60\n",
      "384/384 [==============================] - 12s 31ms/step - loss: 0.3317 - acc: 0.8932 - val_loss: 0.3073 - val_acc: 0.9028\n",
      "Epoch 17/60\n",
      "384/384 [==============================] - 12s 32ms/step - loss: 0.2898 - acc: 0.8958 - val_loss: 0.2991 - val_acc: 0.8981\n",
      "Epoch 18/60\n",
      "384/384 [==============================] - 11s 29ms/step - loss: 0.3115 - acc: 0.8984 - val_loss: 0.2974 - val_acc: 0.8935\n",
      "Epoch 19/60\n",
      "384/384 [==============================] - 12s 32ms/step - loss: 0.2727 - acc: 0.9062 - val_loss: 0.3411 - val_acc: 0.8657\n",
      "Epoch 20/60\n",
      "384/384 [==============================] - 12s 32ms/step - loss: 0.2701 - acc: 0.8958 - val_loss: 0.2784 - val_acc: 0.9167\n",
      "Epoch 21/60\n",
      "384/384 [==============================] - 12s 32ms/step - loss: 0.2310 - acc: 0.9297 - val_loss: 0.3377 - val_acc: 0.8565\n",
      "Epoch 22/60\n",
      "384/384 [==============================] - 12s 32ms/step - loss: 0.2375 - acc: 0.9193 - val_loss: 0.2841 - val_acc: 0.8981\n",
      "Epoch 23/60\n",
      "384/384 [==============================] - 12s 32ms/step - loss: 0.1933 - acc: 0.9401 - val_loss: 0.2438 - val_acc: 0.9167\n",
      "Epoch 24/60\n",
      "384/384 [==============================] - 12s 32ms/step - loss: 0.2206 - acc: 0.9193 - val_loss: 0.2557 - val_acc: 0.8796\n",
      "Epoch 25/60\n",
      "384/384 [==============================] - 12s 32ms/step - loss: 0.2190 - acc: 0.9297 - val_loss: 0.2270 - val_acc: 0.9352\n",
      "Epoch 26/60\n",
      "384/384 [==============================] - 12s 32ms/step - loss: 0.1742 - acc: 0.9401 - val_loss: 0.2637 - val_acc: 0.9120\n",
      "Epoch 27/60\n",
      "384/384 [==============================] - 12s 32ms/step - loss: 0.1600 - acc: 0.9427 - val_loss: 0.2251 - val_acc: 0.9167\n",
      "Epoch 28/60\n",
      "384/384 [==============================] - 12s 32ms/step - loss: 0.1753 - acc: 0.9453 - val_loss: 0.2097 - val_acc: 0.9398\n",
      "Epoch 29/60\n",
      "384/384 [==============================] - 12s 32ms/step - loss: 0.1376 - acc: 0.9505 - val_loss: 0.2197 - val_acc: 0.9352\n",
      "Epoch 30/60\n",
      "384/384 [==============================] - 12s 32ms/step - loss: 0.1149 - acc: 0.9583 - val_loss: 0.3242 - val_acc: 0.8657\n",
      "Epoch 31/60\n",
      "384/384 [==============================] - 11s 30ms/step - loss: 0.1553 - acc: 0.9401 - val_loss: 0.3761 - val_acc: 0.8241\n",
      "Epoch 32/60\n",
      "384/384 [==============================] - 13s 34ms/step - loss: 0.1371 - acc: 0.9505 - val_loss: 0.2576 - val_acc: 0.9120\n",
      "Epoch 33/60\n",
      "384/384 [==============================] - 12s 30ms/step - loss: 0.1236 - acc: 0.9557 - val_loss: 0.1866 - val_acc: 0.9444\n",
      "Epoch 34/60\n",
      "384/384 [==============================] - 12s 32ms/step - loss: 0.1059 - acc: 0.9609 - val_loss: 0.1965 - val_acc: 0.9213\n",
      "Epoch 35/60\n",
      "384/384 [==============================] - 12s 32ms/step - loss: 0.1087 - acc: 0.9635 - val_loss: 0.1989 - val_acc: 0.9444\n",
      "Epoch 36/60\n",
      "384/384 [==============================] - 12s 32ms/step - loss: 0.1013 - acc: 0.9609 - val_loss: 0.1905 - val_acc: 0.9352\n",
      "Epoch 37/60\n",
      "384/384 [==============================] - 12s 32ms/step - loss: 0.1193 - acc: 0.9583 - val_loss: 0.2095 - val_acc: 0.9306\n",
      "Epoch 38/60\n",
      "384/384 [==============================] - 12s 32ms/step - loss: 0.0860 - acc: 0.9740 - val_loss: 0.1800 - val_acc: 0.9352\n",
      "Epoch 39/60\n",
      "384/384 [==============================] - 13s 33ms/step - loss: 0.1011 - acc: 0.9583 - val_loss: 0.2338 - val_acc: 0.9352\n",
      "Epoch 40/60\n",
      "384/384 [==============================] - 12s 32ms/step - loss: 0.0853 - acc: 0.9661 - val_loss: 0.1770 - val_acc: 0.9491\n",
      "Epoch 41/60\n",
      "384/384 [==============================] - 13s 33ms/step - loss: 0.0626 - acc: 0.9818 - val_loss: 0.2031 - val_acc: 0.9306\n",
      "Epoch 42/60\n",
      "384/384 [==============================] - 12s 32ms/step - loss: 0.0672 - acc: 0.9792 - val_loss: 0.1931 - val_acc: 0.9120\n",
      "Epoch 43/60\n",
      "384/384 [==============================] - 12s 31ms/step - loss: 0.0903 - acc: 0.9557 - val_loss: 0.2283 - val_acc: 0.9352\n",
      "Epoch 44/60\n",
      "384/384 [==============================] - 12s 31ms/step - loss: 0.0867 - acc: 0.9714 - val_loss: 0.1678 - val_acc: 0.9398\n",
      "Epoch 45/60\n",
      "384/384 [==============================] - 12s 31ms/step - loss: 0.0753 - acc: 0.9714 - val_loss: 0.2035 - val_acc: 0.9398\n",
      "Epoch 46/60\n",
      "384/384 [==============================] - 12s 31ms/step - loss: 0.0733 - acc: 0.9661 - val_loss: 0.2069 - val_acc: 0.9398\n",
      "Epoch 47/60\n",
      "384/384 [==============================] - 12s 32ms/step - loss: 0.0747 - acc: 0.9714 - val_loss: 0.1762 - val_acc: 0.9352\n",
      "Epoch 48/60\n",
      "384/384 [==============================] - 12s 31ms/step - loss: 0.0914 - acc: 0.9688 - val_loss: 0.1607 - val_acc: 0.9444\n",
      "Epoch 49/60\n",
      "384/384 [==============================] - 12s 32ms/step - loss: 0.0795 - acc: 0.9688 - val_loss: 0.1818 - val_acc: 0.9352\n",
      "Epoch 50/60\n",
      "384/384 [==============================] - 13s 33ms/step - loss: 0.0918 - acc: 0.9740 - val_loss: 0.1580 - val_acc: 0.9306\n",
      "Epoch 51/60\n",
      "384/384 [==============================] - 12s 31ms/step - loss: 0.0609 - acc: 0.9792 - val_loss: 0.1575 - val_acc: 0.9352\n",
      "Epoch 52/60\n",
      "384/384 [==============================] - 12s 32ms/step - loss: 0.0536 - acc: 0.9792 - val_loss: 0.1985 - val_acc: 0.9213\n",
      "Epoch 53/60\n",
      "384/384 [==============================] - 12s 32ms/step - loss: 0.0619 - acc: 0.9818 - val_loss: 0.1603 - val_acc: 0.9444\n",
      "Epoch 54/60\n",
      "384/384 [==============================] - 13s 33ms/step - loss: 0.0573 - acc: 0.9766 - val_loss: 0.2323 - val_acc: 0.9074\n",
      "Epoch 55/60\n",
      "384/384 [==============================] - 12s 31ms/step - loss: 0.0261 - acc: 0.9922 - val_loss: 0.2068 - val_acc: 0.9444\n",
      "Epoch 56/60\n",
      "384/384 [==============================] - 12s 32ms/step - loss: 0.0937 - acc: 0.9635 - val_loss: 0.2016 - val_acc: 0.9444\n",
      "Epoch 57/60\n",
      "384/384 [==============================] - 12s 32ms/step - loss: 0.0418 - acc: 0.9818 - val_loss: 0.1761 - val_acc: 0.9444\n",
      "Epoch 58/60\n",
      "384/384 [==============================] - 12s 31ms/step - loss: 0.0522 - acc: 0.9792 - val_loss: 0.2051 - val_acc: 0.9352\n",
      "Epoch 59/60\n",
      "384/384 [==============================] - 12s 32ms/step - loss: 0.0348 - acc: 0.9896 - val_loss: 0.2147 - val_acc: 0.9398\n",
      "Epoch 60/60\n",
      "384/384 [==============================] - 12s 30ms/step - loss: 0.0807 - acc: 0.9688 - val_loss: 0.2377 - val_acc: 0.9306\n"
     ]
    }
   ],
   "source": [
    "EPOCHS = 60\n",
    "history = model.fit(train_data, train_labels, epochs=EPOCHS, validation_data=(test_data, test_labels))"
   ]
  },
  {
   "cell_type": "code",
   "execution_count": 14,
   "metadata": {},
   "outputs": [
    {
     "data": {
      "image/png": "[encoded data removed]",
      "text/plain": [
       "<matplotlib.figure.Figure at 0x296dc3a1400>"
      ]
     },
     "metadata": {},
     "output_type": "display_data"
    },
    {
     "data": {
      "image/png": "[encoded data removed]",
      "text/plain": [
       "<matplotlib.figure.Figure at 0x296de611908>"
      ]
     },
     "metadata": {},
     "output_type": "display_data"
    }
   ],
   "source": [
    "%run history.py\n",
    "%matplotlib inline\n",
    "\n",
    "plot_accuracy(history)\n",
    "plot_loss(history)"
   ]
  },
  {
   "cell_type": "markdown",
   "metadata": {},
   "source": [
    "## Save the model"
   ]
  },
  {
   "cell_type": "code",
   "execution_count": 15,
   "metadata": {},
   "outputs": [],
   "source": [
    "import datetime\n",
    "\n",
    "dt = datetime.datetime.today().strftime('%Y%m%d%H%M%S')\n",
    "filename = DATASET_FOLDER + '/cnn_for_aed_{}.h5'.format(dt)\n",
    "model.save(filename)"
   ]
  },
  {
   "cell_type": "markdown",
   "metadata": {},
   "source": [
    "## Load the model"
   ]
  },
  {
   "cell_type": "code",
   "execution_count": 16,
   "metadata": {},
   "outputs": [],
   "source": [
    "del model\n",
    "model = models.load_model(filename)"
   ]
  },
  {
   "cell_type": "markdown",
   "metadata": {
    "colab_type": "text",
    "id": "j6con4C3lKC1"
   },
   "source": [
    "## Confirmation"
   ]
  },
  {
   "cell_type": "code",
   "execution_count": 17,
   "metadata": {
    "colab": {
     "base_uri": "https://localhost:8080/",
     "height": 34
    },
    "colab_type": "code",
    "id": "4oZYLLij69wU",
    "outputId": "b37a4b8a-2c80-411f-d8a9-5df1c6dbfe22"
   },
   "outputs": [
    {
     "data": {
      "text/plain": [
       "(384, 64, 40, 1)"
      ]
     },
     "execution_count": 17,
     "metadata": {},
     "output_type": "execute_result"
    }
   ],
   "source": [
    "import numpy as np\n",
    "import matplotlib.pyplot as plt\n",
    "train_data.shape"
   ]
  },
  {
   "cell_type": "code",
   "execution_count": 18,
   "metadata": {
    "colab": {
     "base_uri": "https://localhost:8080/",
     "height": 193
    },
    "colab_type": "code",
    "id": "zSxXE9FgRBdJ",
    "outputId": "f3a53efe-e99f-4572-f9b4-1bf3c39c77ec"
   },
   "outputs": [],
   "source": [
    "layer_outputs = [layer.output for layer in model.layers]\n",
    "#layer_outputs"
   ]
  },
  {
   "cell_type": "code",
   "execution_count": 19,
   "metadata": {
    "colab": {
     "base_uri": "https://localhost:8080/",
     "height": 34
    },
    "colab_type": "code",
    "id": "dcw7yHKrRkPD",
    "outputId": "a3ed5441-ae48-4635-bf07-ac5060030608"
   },
   "outputs": [],
   "source": [
    "activation_model = models.Model(inputs=model.input, outputs=layer_outputs)\n",
    "activations = activation_model.predict(test_data)\n",
    "#activations[0][0,:,:,0].shape"
   ]
  },
  {
   "cell_type": "code",
   "execution_count": 20,
   "metadata": {},
   "outputs": [
    {
     "data": {
      "text/plain": [
       "['piano',\n",
       " 'classical_guitar',\n",
       " 'framenco_guitar',\n",
       " 'blues_harp',\n",
       " 'tin_whistle',\n",
       " 'silence']"
      ]
     },
     "execution_count": 20,
     "metadata": {},
     "output_type": "execute_result"
    }
   ],
   "source": [
    "class_labels"
   ]
  },
  {
   "cell_type": "code",
   "execution_count": 21,
   "metadata": {
    "colab": {
     "base_uri": "https://localhost:8080/",
     "height": 193
    },
    "colab_type": "code",
    "id": "ccSNAwGKhRn9",
    "outputId": "0ad22e12-713b-4b07-e17b-45d39ff1b80b"
   },
   "outputs": [
    {
     "data": {
      "text/plain": [
       "array([[  0,   0,   0,   0,  99,   0],\n",
       "       [  0,   0,  94,   4,   0,   0],\n",
       "       [  0,  99,   0,   0,   0,   0],\n",
       "       [  0,   4,   0,  95,   0,   0],\n",
       "       [  0,   0,  98,   0,   0,   0],\n",
       "       [ 99,   0,   0,   0,   0,   0],\n",
       "       [  0,   0,  99,   0,   0,   0],\n",
       "       [  0,   0,   0,  99,   0,   0],\n",
       "       [  0,   0,   0,   0, 100,   0],\n",
       "       [  0,  73,  26,   0,   0,   0]])"
      ]
     },
     "execution_count": 21,
     "metadata": {},
     "output_type": "execute_result"
    }
   ],
   "source": [
    "(activations[-1][:10]*100).astype(int)"
   ]
  },
  {
   "cell_type": "code",
   "execution_count": 22,
   "metadata": {
    "colab": {
     "base_uri": "https://localhost:8080/",
     "height": 193
    },
    "colab_type": "code",
    "id": "RoE0nxtuiGIN",
    "outputId": "154437a8-ab72-46f4-f42c-3e6464af47d0"
   },
   "outputs": [
    {
     "data": {
      "text/plain": [
       "array([[0, 0, 0, 0, 1, 0],\n",
       "       [0, 0, 1, 0, 0, 0],\n",
       "       [0, 1, 0, 0, 0, 0],\n",
       "       [0, 0, 0, 1, 0, 0],\n",
       "       [0, 0, 1, 0, 0, 0],\n",
       "       [1, 0, 0, 0, 0, 0],\n",
       "       [0, 0, 1, 0, 0, 0],\n",
       "       [0, 0, 0, 1, 0, 0],\n",
       "       [0, 0, 0, 0, 1, 0],\n",
       "       [0, 0, 1, 0, 0, 0]])"
      ]
     },
     "execution_count": 22,
     "metadata": {},
     "output_type": "execute_result"
    }
   ],
   "source": [
    "test_labels[:10].astype(int)"
   ]
  },
  {
   "cell_type": "code",
   "execution_count": 23,
   "metadata": {},
   "outputs": [],
   "source": [
    "def plot_layer(activations, sample, layer):\n",
    "    a = activations[layer].shape\n",
    "    rows = int(a[3]/4)\n",
    "    fig, axarr = plt.subplots(rows, 4, figsize=[20,15])\n",
    "    for i in range(a[3]):\n",
    "        row = int(i/4)\n",
    "        x, y = row, i-4*row\n",
    "        axarr[x, y].imshow(np.rot90(activations[layer][sample, :, :, i]))\n",
    "        axarr[x, y].set_xticks([])\n",
    "        axarr[x, y].set_yticks([])"
   ]
  },
  {
   "cell_type": "code",
   "execution_count": 28,
   "metadata": {},
   "outputs": [
    {
     "data": {
      "text/plain": [
       "'classical_guitar'"
      ]
     },
     "execution_count": 28,
     "metadata": {},
     "output_type": "execute_result"
    },
    {
     "data": {
      "image/png": "[encoded data removed]",
      "text/plain": [
       "<matplotlib.figure.Figure at 0x296df4538d0>"
      ]
     },
     "metadata": {},
     "output_type": "display_data"
    }
   ],
   "source": [
    "image_number = 2\n",
    "\n",
    "plt.imshow(np.rot90(test_data[image_number,:,:,0]))\n",
    "class_labels[np.argmax(test_labels[image_number])]"
   ]
  },
  {
   "cell_type": "code",
   "execution_count": 29,
   "metadata": {},
   "outputs": [
    {
     "data": {
      "image/png": "[encoded data removed]",
      "text/plain": [
       "<matplotlib.figure.Figure at 0x296df8f6a58>"
      ]
     },
     "metadata": {},
     "output_type": "display_data"
    }
   ],
   "source": [
    "plot_layer(activations, image_number, 2)"
   ]
  },
  {
   "cell_type": "code",
   "execution_count": 30,
   "metadata": {},
   "outputs": [
    {
     "data": {
      "image/png": "[encoded data removed]",
      "text/plain": [
       "<matplotlib.figure.Figure at 0x296e2f7c438>"
      ]
     },
     "metadata": {},
     "output_type": "display_data"
    }
   ],
   "source": [
    "plot_layer(activations, image_number, 5)"
   ]
  },
  {
   "cell_type": "code",
   "execution_count": null,
   "metadata": {},
   "outputs": [],
   "source": []
  }
 ],
 "metadata": {
  "colab": {
   "collapsed_sections": [],
   "name": "CNN for AED",
   "provenance": [],
   "version": "0.3.2"
  },
  "kernelspec": {
   "display_name": "Python 3",
   "language": "python",
   "name": "python3"
  },
  "language_info": {
   "codemirror_mode": {
    "name": "ipython",
    "version": 3
   },
   "file_extension": ".py",
   "mimetype": "text/x-python",
   "name": "python",
   "nbconvert_exporter": "python",
   "pygments_lexer": "ipython3",
   "version": "3.6.4"
  }
 },
 "nbformat": 4,
 "nbformat_minor": 1
}
