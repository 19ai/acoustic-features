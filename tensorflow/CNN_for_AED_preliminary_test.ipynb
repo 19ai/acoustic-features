{
  "nbformat": 4,
  "nbformat_minor": 0,
  "metadata": {
    "colab": {
      "name": "CNN_for_AED_preliminary_test.ipynb",
      "version": "0.3.2",
      "provenance": [],
      "collapsed_sections": []
    },
    "kernelspec": {
      "name": "python3",
      "display_name": "Python 3"
    },
    "accelerator": "GPU"
  },
  "cells": [
    {
      "metadata": {
        "id": "nXwda0g5c8_g",
        "colab_type": "text"
      },
      "cell_type": "markdown",
      "source": [
        "# Machine learning with TensorFlow: CNN\n",
        "\n",
        "Date: November 5, 2018\n",
        "\n",
        "Neural network: three convolution layers and three fully connected layers\n",
        "\n",
        "Classification of acoustic events:\n",
        "- Piano music\n",
        "- Framenco guitar music\n",
        "- Classical guitar music\n",
        "- Blues hars music\n",
        "- Tin whistle music"
      ]
    },
    {
      "metadata": {
        "id": "V4VMbOvdLL7y",
        "colab_type": "code",
        "outputId": "a1466544-947b-479b-84d4-c1b056a0da0e",
        "colab": {
          "base_uri": "https://localhost:8080/",
          "height": 34
        }
      },
      "cell_type": "code",
      "source": [
        "from google.colab import drive\n",
        "drive.mount('/content/gdrive')\n",
        "\n",
        "DATA_FOLDER = '/content/gdrive/My Drive/acoustic_event_detection/data/'\n",
        "FILTERS=40\n",
        "TRAINING_FILES = 67\n",
        "FILES = 100"
      ],
      "execution_count": 1,
      "outputs": [
        {
          "output_type": "stream",
          "text": [
            "Drive already mounted at /content/gdrive; to attempt to forcibly remount, call drive.mount(\"/content/gdrive\", force_remount=True).\n"
          ],
          "name": "stdout"
        }
      ]
    },
    {
      "metadata": {
        "id": "G5mp4dkJc8_i",
        "colab_type": "code",
        "colab": {}
      },
      "cell_type": "code",
      "source": [
        "%matplotlib inline\n",
        "\n",
        "import matplotlib\n",
        "import matplotlib.pyplot as plt\n",
        "import numpy as np\n",
        "import pandas as pd\n",
        "import time\n",
        "import random\n",
        "import os"
      ],
      "execution_count": 0,
      "outputs": []
    },
    {
      "metadata": {
        "id": "gsSgFGjpc8_r",
        "colab_type": "text"
      },
      "cell_type": "markdown",
      "source": [
        "## Preparing data set for training CNN"
      ]
    },
    {
      "metadata": {
        "id": "yuBXmB6ec8_s",
        "colab_type": "code",
        "colab": {}
      },
      "cell_type": "code",
      "source": [
        "import glob\n",
        "piano_files = glob.glob(DATA_FOLDER+'*piano*mel_spectrogram*.csv')\n",
        "classical_guitar_files = glob.glob(DATA_FOLDER+'*classical_guitar*mel_spectrogram*.csv')\n",
        "framenco_guitar_files = glob.glob(DATA_FOLDER+'*framenco_guitar*mel_spectrogram*.csv')\n",
        "blues_harp_files = glob.glob(DATA_FOLDER+'*blues_harp*mel_spectrogram*.csv')\n",
        "tin_whistle_files = glob.glob(DATA_FOLDER+'*tin_whistle*mel_spectrogram*.csv')\n",
        "\n",
        "random.shuffle(piano_files)\n",
        "random.shuffle(classical_guitar_files)\n",
        "random.shuffle(framenco_guitar_files)\n",
        "random.shuffle(blues_harp_files)\n",
        "random.shuffle(tin_whistle_files)"
      ],
      "execution_count": 0,
      "outputs": []
    },
    {
      "metadata": {
        "id": "3SToK1ZDc8_x",
        "colab_type": "code",
        "colab": {}
      },
      "cell_type": "code",
      "source": [
        "TRAINING_SET_PIANO = piano_files[:TRAINING_FILES]\n",
        "TRAINING_SET_CLASSICAL_GUITAR = classical_guitar_files[:TRAINING_FILES]\n",
        "TRAINING_SET_FRAMENCO_GUITAR = framenco_guitar_files[:TRAINING_FILES]\n",
        "TRAINING_SET_BLUES_HARP = blues_harp_files[:TRAINING_FILES]\n",
        "TRAINING_SET_TIN_WHISTLE = tin_whistle_files[:TRAINING_FILES]\n",
        "\n",
        "TEST_SET_PIANO = piano_files[TRAINING_FILES:FILES]\n",
        "TEST_SET_CLASSICAL_GUITAR = classical_guitar_files[TRAINING_FILES:FILES]\n",
        "TEST_SET_FRAMENCO_GUITAR = framenco_guitar_files[TRAINING_FILES:FILES]\n",
        "TEST_SET_BLUES_HARP = blues_harp_files[TRAINING_FILES:FILES]\n",
        "TEST_SET_TIN_WHISTLE = tin_whistle_files[TRAINING_FILES:FILES]\n",
        "\n",
        "TRAINING_SET = [(TRAINING_SET_PIANO, 0),\n",
        "                (TRAINING_SET_CLASSICAL_GUITAR, 1),\n",
        "                (TRAINING_SET_FRAMENCO_GUITAR, 2),\n",
        "                (TRAINING_SET_BLUES_HARP, 3),\n",
        "                (TRAINING_SET_TIN_WHISTLE, 4)]\n",
        "\n",
        "TEST_SET = [(TEST_SET_PIANO, 0),\n",
        "            (TEST_SET_CLASSICAL_GUITAR, 1),\n",
        "            (TEST_SET_FRAMENCO_GUITAR, 2),\n",
        "            (TEST_SET_BLUES_HARP, 3),\n",
        "            (TEST_SET_TIN_WHISTLE, 4)]"
      ],
      "execution_count": 0,
      "outputs": []
    },
    {
      "metadata": {
        "scrolled": true,
        "id": "8NYKy3I5c8_1",
        "colab_type": "code",
        "colab": {}
      },
      "cell_type": "code",
      "source": [
        "import sklearn.preprocessing as pp\n",
        "\n",
        "training_set = []\n",
        "test_set = []\n",
        "\n",
        "a1, a2 = 0,  FILTERS*64\n",
        "b1, b2 = FILTERS*64, FILTERS*64*2\n",
        "c1, c2 = FILTERS*64*2, FILTERS*64*3\n",
        "\n",
        "def label(l):\n",
        "    ll = [0,0,0,0,0]\n",
        "    ll[l] = 1\n",
        "    return ll\n",
        "\n",
        "for files, l in TRAINING_SET:\n",
        "    for file in files:\n",
        "        df = pd.read_csv(file.replace(os.path.sep, '/'), dtype=np.float)\n",
        "        #df = df[df['n']<FILTERS]\n",
        "        img1 = pp.scale(df[a1:a2]['magnitude'].values)\n",
        "        img2 = pp.scale(df[b1:b2]['magnitude'].values)\n",
        "        img3 = pp.scale(df[c1:c2]['magnitude'].values)\n",
        "        training_set.append((img1, label(l)))\n",
        "        training_set.append((img2, label(l)))\n",
        "        training_set.append((img3, label(l)))\n",
        "        \n",
        "for files, l in TEST_SET:\n",
        "    for file in files:\n",
        "        df = pd.read_csv(file.replace(os.path.sep, '/'), dtype=np.float)\n",
        "        #df = df[df['n']<FILTERS]\n",
        "        img1 = pp.scale(df[a1:a2]['magnitude'].values)\n",
        "        img2 = pp.scale(df[b1:b2]['magnitude'].values)\n",
        "        img3 = pp.scale(df[c1:c2]['magnitude'].values)\n",
        "        test_set.append((img1, label(l)))\n",
        "        test_set.append((img2, label(l)))\n",
        "        test_set.append((img3, label(l)))\n",
        "                        \n",
        "random.shuffle(training_set)\n",
        "random.shuffle(test_set)"
      ],
      "execution_count": 0,
      "outputs": []
    },
    {
      "metadata": {
        "id": "s_2FsqD-c8_5",
        "colab_type": "code",
        "colab": {}
      },
      "cell_type": "code",
      "source": [
        "train_x, train_t = [], []\n",
        "test_x, test_t = [], []\n",
        "for img, label in training_set:\n",
        "    train_x.append(img)\n",
        "    train_t.append(label)\n",
        "for img, label in test_set:\n",
        "    test_x.append(img)\n",
        "    test_t.append(label)"
      ],
      "execution_count": 0,
      "outputs": []
    },
    {
      "metadata": {
        "id": "pPhVfSm6c8_8",
        "colab_type": "text"
      },
      "cell_type": "markdown",
      "source": [
        "## CNN on TensorFlow"
      ]
    },
    {
      "metadata": {
        "id": "EOsMBhDQjRuK",
        "colab_type": "code",
        "colab": {}
      },
      "cell_type": "code",
      "source": [
        "import tensorflow as tf\n",
        "tf.logging.set_verbosity(tf.logging.ERROR)"
      ],
      "execution_count": 0,
      "outputs": []
    },
    {
      "metadata": {
        "id": "LTeP4GyXc8__",
        "colab_type": "code",
        "colab": {}
      },
      "cell_type": "code",
      "source": [
        "np.random.seed(20181105)\n",
        "tf.set_random_seed(20181105)"
      ],
      "execution_count": 0,
      "outputs": []
    },
    {
      "metadata": {
        "id": "-k_WbGOtgA1J",
        "colab_type": "text"
      },
      "cell_type": "markdown",
      "source": [
        "### Convolution layer"
      ]
    },
    {
      "metadata": {
        "id": "quFmcQM5c9AE",
        "colab_type": "code",
        "colab": {}
      },
      "cell_type": "code",
      "source": [
        "num_samples = FILTERS * 64\n",
        "num_classes = 5\n",
        "\n",
        "num_filters1 = 16\n",
        "num_filters2 = 32\n",
        "num_filters3 = 64\n",
        "\n",
        "num_layers = 1\n",
        "\n",
        "x = tf.placeholder(tf.float32, [None, FILTERS*64])\n",
        "\n",
        "x_image = tf.reshape(x, [-1,64,FILTERS,1])\n",
        "\n",
        "W_conv1 = tf.Variable(tf.truncated_normal([5, 5, 1, num_filters1], stddev=0.1))\n",
        "h_conv1 = tf.nn.conv2d(x_image, W_conv1, strides=[1,1,1,1], padding='SAME')\n",
        "b_conv1 = tf.Variable(tf.constant(0.1, shape=[num_filters1]))\n",
        "h_conv1_cutoff = tf.nn.relu(h_conv1 + b_conv1)\n",
        "h_pool1 = tf.nn.max_pool(h_conv1_cutoff, ksize=[1,2,2,1], strides=[1,2,2,1], padding='SAME')\n",
        "\n",
        "W_conv2 = tf.Variable(tf.truncated_normal([5, 5, num_filters1, num_filters2], stddev=0.1))\n",
        "h_conv2 = tf.nn.conv2d(h_pool1, W_conv2, strides=[1,1,1,1], padding='SAME')\n",
        "b_conv2 = tf.Variable(tf.constant(0.1, shape=[num_filters2]))\n",
        "h_conv2_cutoff = tf.nn.relu(h_conv2 + b_conv2)\n",
        "h_pool2 = tf.nn.max_pool(h_conv2_cutoff, ksize=[1,2,2,1], strides=[1,2,2,1], padding='SAME')\n",
        "\n",
        "W_conv3 = tf.Variable(tf.truncated_normal([5, 5, num_filters2, num_filters3], stddev=0.1))\n",
        "h_conv3 = tf.nn.conv2d(h_pool2, W_conv3, strides=[1,1,1,1], padding='SAME')\n",
        "b_conv3 = tf.Variable(tf.constant(0.1, shape=[num_filters3]))\n",
        "h_conv3_cutoff = tf.nn.relu(h_conv3 + b_conv3)\n",
        "h_pool3 = tf.nn.max_pool(h_conv3_cutoff, ksize=[1,2,2,1], strides=[1,2,2,1], padding='SAME')\n",
        "\n",
        "h_pool_flat3 = tf.reshape(h_pool3, [-1, int(FILTERS/2**3)*int(64/2**3)*num_filters3])"
      ],
      "execution_count": 0,
      "outputs": []
    },
    {
      "metadata": {
        "id": "Gn96f-MxgUm4",
        "colab_type": "text"
      },
      "cell_type": "markdown",
      "source": [
        "### Fully connected layer"
      ]
    },
    {
      "metadata": {
        "id": "QW7ODJU-c9AH",
        "colab_type": "code",
        "colab": {}
      },
      "cell_type": "code",
      "source": [
        "num_units1 = int(FILTERS/2**3)*int(64/2**3)*num_filters3\n",
        "num_units2 = 4096\n",
        "\n",
        "num_classes = 5\n",
        "\n",
        "w1 = tf.Variable(tf.truncated_normal([num_units1, num_units2]))\n",
        "b1 = tf.Variable(tf.zeros([num_units2]))\n",
        "y1 = tf.matmul(h_pool_flat3, w1) + b1\n",
        "hidden1 = tf.nn.relu(y1)\n",
        "\n",
        "w2 = tf.Variable(tf.truncated_normal([num_units2, num_units2]))\n",
        "b2 = tf.Variable(tf.zeros([num_units2]))\n",
        "y2 = tf.matmul(hidden1, w2) + b2\n",
        "hidden2 = tf.nn.relu(y2)\n",
        "\n",
        "w3 = tf.Variable(tf.truncated_normal([num_units2, num_units2]))\n",
        "b3 = tf.Variable(tf.zeros([num_units2]))\n",
        "y3 = tf.matmul(hidden2, w3) + b3\n",
        "hidden3 = tf.nn.tanh(y3)\n",
        "\n",
        "keep_prob = tf.placeholder(tf.float32)\n",
        "hidden3_drop = tf.nn.dropout(hidden3, keep_prob)\n",
        "\n",
        "w0 = tf.Variable(tf.zeros([num_units2, num_classes]))\n",
        "b0 = tf.Variable(tf.zeros([num_classes]))\n",
        "p = tf.nn.softmax(tf.matmul(hidden3_drop, w0) + b0)"
      ],
      "execution_count": 0,
      "outputs": []
    },
    {
      "metadata": {
        "id": "xmTknDFrc9AJ",
        "colab_type": "code",
        "colab": {}
      },
      "cell_type": "code",
      "source": [
        "t = tf.placeholder(tf.float32, [None, num_classes])\n",
        "loss = -tf.reduce_sum(t * tf.log(p))\n",
        "train_step = tf.train.AdamOptimizer(0.00003).minimize(loss)\n",
        "correct_prediction = tf.equal(tf.argmax(p, 1), tf.argmax(t, 1))\n",
        "accuracy = tf.reduce_mean(tf.cast(correct_prediction, tf.float32))"
      ],
      "execution_count": 0,
      "outputs": []
    },
    {
      "metadata": {
        "id": "u8YVIpxGc9AN",
        "colab_type": "code",
        "colab": {}
      },
      "cell_type": "code",
      "source": [
        "sess = tf.Session()\n",
        "sess.run(tf.global_variables_initializer())\n",
        "saver = tf.train.Saver()"
      ],
      "execution_count": 0,
      "outputs": []
    },
    {
      "metadata": {
        "scrolled": false,
        "id": "ZO1xFC8tc9AQ",
        "colab_type": "code",
        "outputId": "1be9f9ea-9c48-4b2e-987b-47bd55bd2a12",
        "colab": {
          "base_uri": "https://localhost:8080/",
          "height": 720
        }
      },
      "cell_type": "code",
      "source": [
        "i = 0\n",
        "for _ in range(4000):\n",
        "    i += 1\n",
        "    sess.run(train_step, feed_dict={x:train_x, t:train_t, keep_prob:0.5})\n",
        "    if i % 100 == 0:\n",
        "        loss_val, acc_val = sess.run([loss, accuracy], feed_dict={x:test_x, t:test_t, keep_prob:1.0})\n",
        "        print('Step: {}, Loss: {}, Accuracy: {}'.format(i, loss_val, acc_val))\n",
        "    if i % 500 == 0:\n",
        "      saver.save(sess, './aed_cnn_session', global_step=i)"
      ],
      "execution_count": 13,
      "outputs": [
        {
          "output_type": "stream",
          "text": [
            "Step: 100, Loss: 461.9782409667969, Accuracy: 0.8060606122016907\n",
            "Step: 200, Loss: 328.4143371582031, Accuracy: 0.8323232531547546\n",
            "Step: 300, Loss: 266.01214599609375, Accuracy: 0.8484848737716675\n",
            "Step: 400, Loss: 231.6869354248047, Accuracy: 0.8666666746139526\n",
            "Step: 500, Loss: 213.00819396972656, Accuracy: 0.870707094669342\n",
            "Step: 600, Loss: 195.45726013183594, Accuracy: 0.8787878751754761\n",
            "Step: 700, Loss: 186.1929168701172, Accuracy: 0.8868687152862549\n",
            "Step: 800, Loss: 173.95654296875, Accuracy: 0.90505051612854\n",
            "Step: 900, Loss: 164.54891967773438, Accuracy: 0.9070706963539124\n",
            "Step: 1000, Loss: 160.22171020507812, Accuracy: 0.9010100960731506\n",
            "Step: 1100, Loss: 152.27072143554688, Accuracy: 0.9070706963539124\n",
            "Step: 1200, Loss: 146.75930786132812, Accuracy: 0.8989899158477783\n",
            "Step: 1300, Loss: 141.76181030273438, Accuracy: 0.8949494957923889\n",
            "Step: 1400, Loss: 139.5734100341797, Accuracy: 0.8949494957923889\n",
            "Step: 1500, Loss: 134.34811401367188, Accuracy: 0.9151515364646912\n",
            "Step: 1600, Loss: 134.128173828125, Accuracy: 0.9010100960731506\n",
            "Step: 1700, Loss: 127.4075927734375, Accuracy: 0.9171717166900635\n",
            "Step: 1800, Loss: 125.95130920410156, Accuracy: 0.90505051612854\n",
            "Step: 1900, Loss: 128.72015380859375, Accuracy: 0.9090909361839294\n",
            "Step: 2000, Loss: 124.8228988647461, Accuracy: 0.9131312966346741\n",
            "Step: 2100, Loss: 123.63389587402344, Accuracy: 0.9090909361839294\n",
            "Step: 2200, Loss: 124.08421325683594, Accuracy: 0.903030276298523\n",
            "Step: 2300, Loss: 115.5409927368164, Accuracy: 0.9131312966346741\n",
            "Step: 2400, Loss: 110.41838073730469, Accuracy: 0.9131312966346741\n",
            "Step: 2500, Loss: 108.69087219238281, Accuracy: 0.9232323169708252\n",
            "Step: 2600, Loss: 113.86100006103516, Accuracy: 0.9171717166900635\n",
            "Step: 2700, Loss: 120.437744140625, Accuracy: 0.9151515364646912\n",
            "Step: 2800, Loss: 118.027587890625, Accuracy: 0.9151515364646912\n",
            "Step: 2900, Loss: 114.52754211425781, Accuracy: 0.9070706963539124\n",
            "Step: 3000, Loss: 112.25028991699219, Accuracy: 0.9151515364646912\n",
            "Step: 3100, Loss: 114.09602355957031, Accuracy: 0.9171717166900635\n",
            "Step: 3200, Loss: 117.71605682373047, Accuracy: 0.90505051612854\n",
            "Step: 3300, Loss: 111.29923248291016, Accuracy: 0.9111111164093018\n",
            "Step: 3400, Loss: 109.17459869384766, Accuracy: 0.9171717166900635\n",
            "Step: 3500, Loss: 113.60908508300781, Accuracy: 0.9010100960731506\n",
            "Step: 3600, Loss: 112.28939056396484, Accuracy: 0.9070706963539124\n",
            "Step: 3700, Loss: 107.3016586303711, Accuracy: 0.9171717166900635\n",
            "Step: 3800, Loss: 106.8223876953125, Accuracy: 0.9151515364646912\n",
            "Step: 3900, Loss: 106.96305084228516, Accuracy: 0.9171717166900635\n",
            "Step: 4000, Loss: 108.17931365966797, Accuracy: 0.9090909361839294\n"
          ],
          "name": "stdout"
        }
      ]
    },
    {
      "metadata": {
        "id": "ANUod5YAgtpp",
        "colab_type": "text"
      },
      "cell_type": "markdown",
      "source": [
        "### Confirmation with test data set"
      ]
    },
    {
      "metadata": {
        "id": "twqoWF1KCOAa",
        "colab_type": "code",
        "colab": {}
      },
      "cell_type": "code",
      "source": [
        "import numpy as np\n",
        "import matplotlib.pyplot as plt"
      ],
      "execution_count": 0,
      "outputs": []
    },
    {
      "metadata": {
        "id": "gqFLH2SSc9AV",
        "colab_type": "code",
        "outputId": "0a5bf90a-4d28-434c-ef6b-5241e0b95f8d",
        "colab": {
          "base_uri": "https://localhost:8080/",
          "height": 298
        }
      },
      "cell_type": "code",
      "source": [
        "p_test = sess.run(p, feed_dict={x:test_x, keep_prob:1.0})\n",
        "(p_test*112).astype(int)[:16]"
      ],
      "execution_count": 15,
      "outputs": [
        {
          "output_type": "execute_result",
          "data": {
            "text/plain": [
              "array([[ 36,  50,  22,   2,   0],\n",
              "       [ 46,  16,  30,  15,   2],\n",
              "       [  1,   0,   0,   0, 110],\n",
              "       [  0,   0,   0, 111,   0],\n",
              "       [  0,   0, 105,   6,   0],\n",
              "       [  0,   0,   0,   0, 111],\n",
              "       [111,   0,   0,   0,   0],\n",
              "       [  3, 108,   0,   0,   0],\n",
              "       [105,   6,   0,   0,   0],\n",
              "       [  0,   0,   0,   0, 111],\n",
              "       [ 22,  89,   0,   0,   0],\n",
              "       [  0,   0,   0, 111,   0],\n",
              "       [  0,   0,   1, 108,   1],\n",
              "       [  0,   0,   0, 111,   0],\n",
              "       [  0,   0, 110,   1,   0],\n",
              "       [  0,   0,  14,  97,   0]])"
            ]
          },
          "metadata": {
            "tags": []
          },
          "execution_count": 15
        }
      ]
    },
    {
      "metadata": {
        "id": "PIfvyRp2c9AY",
        "colab_type": "code",
        "outputId": "d9911d34-65d8-47cc-b4d8-5bb1b0365a18",
        "colab": {
          "base_uri": "https://localhost:8080/",
          "height": 298
        }
      },
      "cell_type": "code",
      "source": [
        "test_t[:16]"
      ],
      "execution_count": 16,
      "outputs": [
        {
          "output_type": "execute_result",
          "data": {
            "text/plain": [
              "[[1, 0, 0, 0, 0],\n",
              " [0, 1, 0, 0, 0],\n",
              " [0, 0, 0, 0, 1],\n",
              " [0, 0, 0, 1, 0],\n",
              " [0, 0, 1, 0, 0],\n",
              " [0, 0, 0, 0, 1],\n",
              " [1, 0, 0, 0, 0],\n",
              " [0, 1, 0, 0, 0],\n",
              " [1, 0, 0, 0, 0],\n",
              " [0, 0, 0, 0, 1],\n",
              " [0, 1, 0, 0, 0],\n",
              " [0, 0, 0, 1, 0],\n",
              " [0, 0, 0, 1, 0],\n",
              " [0, 0, 0, 1, 0],\n",
              " [0, 0, 1, 0, 0],\n",
              " [0, 0, 0, 1, 0]]"
            ]
          },
          "metadata": {
            "tags": []
          },
          "execution_count": 16
        }
      ]
    },
    {
      "metadata": {
        "id": "u4XLTiEQc9Ac",
        "colab_type": "code",
        "colab": {}
      },
      "cell_type": "code",
      "source": [
        "filter_vals, conv_vals = sess.run([W_conv3, h_pool3], feed_dict={x:train_x})"
      ],
      "execution_count": 0,
      "outputs": []
    },
    {
      "metadata": {
        "id": "48LWfRhtdZk2",
        "colab_type": "code",
        "colab": {
          "base_uri": "https://localhost:8080/",
          "height": 285
        },
        "outputId": "8d12c85c-8394-420e-d630-1f02dcfc461d"
      },
      "cell_type": "code",
      "source": [
        "plt.imshow(train_x[10].reshape(64,FILTERS), interpolation='nearest', cmap=plt.cm.hot)"
      ],
      "execution_count": 18,
      "outputs": [
        {
          "output_type": "execute_result",
          "data": {
            "text/plain": [
              "<matplotlib.image.AxesImage at 0x7f7cf6cba240>"
            ]
          },
          "metadata": {
            "tags": []
          },
          "execution_count": 18
        },
        {
          "output_type": "display_data",
          "data": {
            "image/png": "[encoded data removed]",
            "text/plain": [
              "<matplotlib.figure.Figure at 0x7f7cfd938e48>"
            ]
          },
          "metadata": {
            "tags": []
          }
        }
      ]
    },
    {
      "metadata": {
        "id": "0Gpsh4-qGftJ",
        "colab_type": "code",
        "colab": {
          "base_uri": "https://localhost:8080/",
          "height": 282
        },
        "outputId": "58603ba1-4e8b-4b90-fb49-234115356901"
      },
      "cell_type": "code",
      "source": [
        "plt.imshow(filter_vals[:,:,0,10], interpolation='nearest', cmap=plt.cm.gray_r)"
      ],
      "execution_count": 19,
      "outputs": [
        {
          "output_type": "execute_result",
          "data": {
            "text/plain": [
              "<matplotlib.image.AxesImage at 0x7f7cf6bf59b0>"
            ]
          },
          "metadata": {
            "tags": []
          },
          "execution_count": 19
        },
        {
          "output_type": "display_data",
          "data": {
            "image/png": "[encoded data removed]",
            "text/plain": [
              "<matplotlib.figure.Figure at 0x7f7cf6cf0f60>"
            ]
          },
          "metadata": {
            "tags": []
          }
        }
      ]
    },
    {
      "metadata": {
        "id": "CouFsxRzc9Ae",
        "colab_type": "code",
        "colab": {
          "base_uri": "https://localhost:8080/",
          "height": 282
        },
        "outputId": "3b77c8fa-4414-4511-d32c-f36150c1589e"
      },
      "cell_type": "code",
      "source": [
        "plt.imshow(conv_vals[20,:,:,10], interpolation='nearest', cmap=plt.cm.hot)"
      ],
      "execution_count": 20,
      "outputs": [
        {
          "output_type": "execute_result",
          "data": {
            "text/plain": [
              "<matplotlib.image.AxesImage at 0x7f7cf74cb630>"
            ]
          },
          "metadata": {
            "tags": []
          },
          "execution_count": 20
        },
        {
          "output_type": "display_data",
          "data": {
            "image/png": "[encoded data removed]",
            "text/plain": [
              "<matplotlib.figure.Figure at 0x7f7cf6bdf128>"
            ]
          },
          "metadata": {
            "tags": []
          }
        }
      ]
    },
    {
      "metadata": {
        "id": "gLoTcIR7_BPE",
        "colab_type": "code",
        "colab": {
          "base_uri": "https://localhost:8080/",
          "height": 574
        },
        "outputId": "9a4886f9-0f5b-4d7e-a11f-112331475c20"
      },
      "cell_type": "code",
      "source": [
        "fig = plt.figure(figsize=(10,10))\n",
        "\n",
        "for j in range(9):\n",
        "  subplot = fig.add_subplot(10,10,10*(j+1)+1)\n",
        "  subplot.set_xticks([])\n",
        "  subplot.set_yticks([])\n",
        "  subplot.imshow(filter_vals[:,:,0,j],cmap=plt.cm.gray_r, interpolation='nearest')\n",
        "\n",
        "for i in range(9):\n",
        "  subplot = fig.add_subplot(10,10,i+2)\n",
        "  subplot.set_xticks([])\n",
        "  subplot.set_yticks([])\n",
        "  subplot.imshow(train_x[i].reshape(64,FILTERS),cmap=plt.cm.hot, interpolation='nearest', aspect='auto')\n",
        "    \n",
        "for j in range(9):\n",
        "  for i in range(9):\n",
        "    subplot = fig.add_subplot(10,10,10*(j+1)+2+i)\n",
        "    subplot.set_xticks([])\n",
        "    subplot.set_yticks([])\n",
        "    subplot.imshow(conv_vals[i,:,:,j],cmap=plt.cm.gray_r, interpolation='nearest', aspect='auto')\n",
        "\n",
        "fig.savefig(DATA_FOLDER+'/filterd_spectrogram.png')"
      ],
      "execution_count": 21,
      "outputs": [
        {
          "output_type": "display_data",
          "data": {
            "image/png": "[encoded data removed]",
            "text/plain": [
              "<matplotlib.figure.Figure at 0x7f7cf74ed748>"
            ]
          },
          "metadata": {
            "tags": []
          }
        }
      ]
    }
  ]
}