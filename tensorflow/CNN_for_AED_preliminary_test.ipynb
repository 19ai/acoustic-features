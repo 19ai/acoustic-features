{
  "nbformat": 4,
  "nbformat_minor": 0,
  "metadata": {
    "colab": {
      "name": "CNN_for_AED_preliminary_test.ipynb",
      "version": "0.3.2",
      "provenance": [],
      "collapsed_sections": []
    },
    "kernelspec": {
      "name": "python3",
      "display_name": "Python 3"
    },
    "accelerator": "GPU"
  },
  "cells": [
    {
      "metadata": {
        "id": "nXwda0g5c8_g",
        "colab_type": "text"
      },
      "cell_type": "markdown",
      "source": [
        "# Machine learning with TensorFlow: CNN\n",
        "\n",
        "Date: November 4, 2018\n",
        "\n",
        "Neural network: two convolution layers and three hidden layers\n",
        "\n",
        "Classification of acoustic events:\n",
        "- Piano music\n",
        "- Framenco guitar music\n",
        "- Classical guitar music\n",
        "- Blues hars music\n",
        "- Tin whistle music"
      ]
    },
    {
      "metadata": {
        "id": "V4VMbOvdLL7y",
        "colab_type": "code",
        "outputId": "cf21ffc5-c414-4a3a-ea91-21d4b14481bc",
        "colab": {
          "base_uri": "https://localhost:8080/",
          "height": 35
        }
      },
      "cell_type": "code",
      "source": [
        "from google.colab import drive\n",
        "drive.mount('/content/gdrive')\n",
        "\n",
        "DATA_FOLDER = '/content/gdrive/My Drive/acoustic_event_detection/data/'\n",
        "FILTERS=40\n",
        "TRAINING_FILES = 60\n",
        "FILES = 90"
      ],
      "execution_count": 1,
      "outputs": [
        {
          "output_type": "stream",
          "text": [
            "Drive already mounted at /content/gdrive; to attempt to forcibly remount, call drive.mount(\"/content/gdrive\", force_remount=True).\n"
          ],
          "name": "stdout"
        }
      ]
    },
    {
      "metadata": {
        "id": "G5mp4dkJc8_i",
        "colab_type": "code",
        "colab": {}
      },
      "cell_type": "code",
      "source": [
        "%matplotlib inline\n",
        "\n",
        "import matplotlib\n",
        "import matplotlib.pyplot as plt\n",
        "import numpy as np\n",
        "import pandas as pd\n",
        "import time\n",
        "import random\n",
        "import os"
      ],
      "execution_count": 0,
      "outputs": []
    },
    {
      "metadata": {
        "id": "gsSgFGjpc8_r",
        "colab_type": "text"
      },
      "cell_type": "markdown",
      "source": [
        "## Preparing data set for training CNN"
      ]
    },
    {
      "metadata": {
        "id": "yuBXmB6ec8_s",
        "colab_type": "code",
        "colab": {}
      },
      "cell_type": "code",
      "source": [
        "import glob\n",
        "piano_files = glob.glob(DATA_FOLDER+'*piano*mel_spectrogram*.csv')\n",
        "classical_guitar_files = glob.glob(DATA_FOLDER+'*classical_guitar*mel_spectrogram*.csv')\n",
        "framenco_guitar_files = glob.glob(DATA_FOLDER+'*framenco_guitar*mel_spectrogram*.csv')\n",
        "blues_harp_files = glob.glob(DATA_FOLDER+'*blues_harp*mel_spectrogram*.csv')\n",
        "tin_whistle_files = glob.glob(DATA_FOLDER+'*tin_whistle*mel_spectrogram*.csv')\n",
        "\n",
        "random.shuffle(piano_files)\n",
        "random.shuffle(classical_guitar_files)\n",
        "random.shuffle(framenco_guitar_files)\n",
        "random.shuffle(blues_harp_files)\n",
        "random.shuffle(tin_whistle_files)"
      ],
      "execution_count": 0,
      "outputs": []
    },
    {
      "metadata": {
        "id": "3SToK1ZDc8_x",
        "colab_type": "code",
        "colab": {}
      },
      "cell_type": "code",
      "source": [
        "TRAINING_SET_PIANO = piano_files[:TRAINING_FILES]\n",
        "TRAINING_SET_CLASSICAL_GUITAR = classical_guitar_files[:TRAINING_FILES]\n",
        "TRAINING_SET_FRAMENCO_GUITAR = framenco_guitar_files[:TRAINING_FILES]\n",
        "TRAINING_SET_BLUES_HARP = blues_harp_files[:TRAINING_FILES]\n",
        "TRAINING_SET_TIN_WHISTLE = tin_whistle_files[:TRAINING_FILES]\n",
        "\n",
        "TEST_SET_PIANO = piano_files[TRAINING_FILES:FILES]\n",
        "TEST_SET_CLASSICAL_GUITAR = classical_guitar_files[TRAINING_FILES:FILES]\n",
        "TEST_SET_FRAMENCO_GUITAR = framenco_guitar_files[TRAINING_FILES:FILES]\n",
        "TEST_SET_BLUES_HARP = blues_harp_files[TRAINING_FILES:FILES]\n",
        "TEST_SET_TIN_WHISTLE = tin_whistle_files[TRAINING_FILES:FILES]\n",
        "\n",
        "TRAINING_SET = [(TRAINING_SET_PIANO, 0),\n",
        "                (TRAINING_SET_CLASSICAL_GUITAR, 1),\n",
        "                (TRAINING_SET_FRAMENCO_GUITAR, 2),\n",
        "                (TRAINING_SET_BLUES_HARP, 3),\n",
        "                (TRAINING_SET_TIN_WHISTLE, 4)]\n",
        "\n",
        "TEST_SET = [(TEST_SET_PIANO, 0),\n",
        "            (TEST_SET_CLASSICAL_GUITAR, 1),\n",
        "            (TEST_SET_FRAMENCO_GUITAR, 2),\n",
        "            (TEST_SET_BLUES_HARP, 3),\n",
        "            (TEST_SET_TIN_WHISTLE, 4)]"
      ],
      "execution_count": 0,
      "outputs": []
    },
    {
      "metadata": {
        "scrolled": true,
        "id": "8NYKy3I5c8_1",
        "colab_type": "code",
        "colab": {}
      },
      "cell_type": "code",
      "source": [
        "training_set = []\n",
        "test_set = []\n",
        "\n",
        "a1, a2 = 0,  FILTERS*100\n",
        "b1, b2 = FILTERS*50, FILTERS*150\n",
        "c1, c2 = FILTERS*100, FILTERS*200\n",
        "\n",
        "def label(l):\n",
        "    ll = [0,0,0,0,0]\n",
        "    ll[l] = 1\n",
        "    return ll\n",
        "\n",
        "for files, l in TRAINING_SET:\n",
        "    for file in files:\n",
        "        df = pd.read_csv(file.replace(os.path.sep, '/'), dtype=np.int16)\n",
        "        #df = df[df['n']<FILTERS]\n",
        "        # Mean normalization\n",
        "        df['magnitude'] = df['magnitude'] -  df['magnitude'].mean()\n",
        "        training_set.append((df[a1:a2], label(l)))\n",
        "        training_set.append((df[b1:b2], label(l)))\n",
        "        training_set.append((df[c1:c2], label(l)))\n",
        "        \n",
        "for files, l in TEST_SET:\n",
        "    for file in files:\n",
        "        df = pd.read_csv(file.replace(os.path.sep, '/'), dtype=np.int16)\n",
        "        #df = df[df['n']<FILTERS]\n",
        "        # Mean normalization\n",
        "        df['magnitude'] = df['magnitude'] - df['magnitude'].mean()\n",
        "        test_set.append((df[a1:a2], label(l)))\n",
        "        test_set.append((df[b1:b2], label(l)))\n",
        "        test_set.append((df[c1:c2], label(l)))\n",
        "                        \n",
        "random.shuffle(training_set)\n",
        "random.shuffle(test_set)"
      ],
      "execution_count": 0,
      "outputs": []
    },
    {
      "metadata": {
        "id": "s_2FsqD-c8_5",
        "colab_type": "code",
        "colab": {}
      },
      "cell_type": "code",
      "source": [
        "train_x, train_t = [], []\n",
        "test_x, test_t = [], []\n",
        "for df, label in training_set:\n",
        "    train_x.append(df['magnitude'])\n",
        "    train_t.append(label)\n",
        "for df, label in test_set:\n",
        "    test_x.append(df['magnitude'])\n",
        "    test_t.append(label)"
      ],
      "execution_count": 0,
      "outputs": []
    },
    {
      "metadata": {
        "id": "pPhVfSm6c8_8",
        "colab_type": "text"
      },
      "cell_type": "markdown",
      "source": [
        "## CNN on TensorFlow"
      ]
    },
    {
      "metadata": {
        "id": "LTeP4GyXc8__",
        "colab_type": "code",
        "colab": {}
      },
      "cell_type": "code",
      "source": [
        "import tensorflow as tf\n",
        "tf.logging.set_verbosity(tf.logging.ERROR)\n",
        "\n",
        "import numpy as np\n",
        "import matplotlib.pyplot as plt\n",
        "\n",
        "np.random.seed(20181031)\n",
        "tf.set_random_seed(20181031)"
      ],
      "execution_count": 0,
      "outputs": []
    },
    {
      "metadata": {
        "id": "-k_WbGOtgA1J",
        "colab_type": "text"
      },
      "cell_type": "markdown",
      "source": [
        "### Convolution layer"
      ]
    },
    {
      "metadata": {
        "id": "quFmcQM5c9AE",
        "colab_type": "code",
        "colab": {}
      },
      "cell_type": "code",
      "source": [
        "num_samples = FILTERS * 100\n",
        "num_classes = 5\n",
        "\n",
        "num_filters1 = 64\n",
        "num_filters2 = 128\n",
        "num_filters3 = 128\n",
        "\n",
        "num_layers = 1\n",
        "\n",
        "x = tf.placeholder(tf.float32, [None, FILTERS*100])\n",
        "\n",
        "x_image = tf.reshape(x, [-1,100,FILTERS,1])\n",
        "\n",
        "W_conv1 = tf.Variable(tf.truncated_normal([5, 5, 1, num_filters1], stddev=0.1))\n",
        "h_conv1 = tf.nn.conv2d(x_image, W_conv1, strides=[1,1,1,1], padding='SAME')\n",
        "b_conv1 = tf.Variable(tf.constant(0.1, shape=[num_filters1]))\n",
        "h_conv1_cutoff = tf.nn.relu(h_conv1 + b_conv1)\n",
        "h_pool1 = tf.nn.max_pool(h_conv1_cutoff, ksize=[1,2,2,1], strides=[1,2,2,1], padding='SAME')\n",
        "\n",
        "W_conv2 = tf.Variable(tf.truncated_normal([5, 5, num_filters1, num_filters2], stddev=0.1))\n",
        "h_conv2 = tf.nn.conv2d(h_pool1, W_conv2, strides=[1,1,1,1], padding='SAME')\n",
        "b_conv2 = tf.Variable(tf.constant(0.1, shape=[num_filters2]))\n",
        "h_conv2_cutoff = tf.nn.relu(h_conv2 + b_conv2)\n",
        "h_pool2 = tf.nn.max_pool(h_conv2_cutoff, ksize=[1,2,2,1], strides=[1,2,2,1], padding='SAME')\n",
        "\n",
        "W_conv3 = tf.Variable(tf.truncated_normal([5, 5, num_filters2, num_filters3], stddev=0.1))\n",
        "h_conv3 = tf.nn.conv2d(h_pool2, W_conv3, strides=[1,1,1,1], padding='SAME')\n",
        "b_conv3 = tf.Variable(tf.constant(0.1, shape=[num_filters3]))\n",
        "h_conv3_cutoff = tf.nn.relu(h_conv3 + b_conv3)\n",
        "h_pool3 = tf.nn.max_pool(h_conv3_cutoff, ksize=[1,1,1,1], strides=[1,1,1,1], padding='SAME')\n",
        "\n",
        "h_pool_flat3 = tf.reshape(h_pool3, [-1, int(FILTERS/4)*25*num_filters3])\n",
        "#h_pool_flat2 = tf.reshape(h_pool2, [-1, int(FILTERS/4)*25*num_filters2])"
      ],
      "execution_count": 0,
      "outputs": []
    },
    {
      "metadata": {
        "id": "Gn96f-MxgUm4",
        "colab_type": "text"
      },
      "cell_type": "markdown",
      "source": [
        "### Fully connected layer"
      ]
    },
    {
      "metadata": {
        "id": "QW7ODJU-c9AH",
        "colab_type": "code",
        "colab": {}
      },
      "cell_type": "code",
      "source": [
        "num_units1 = int(FILTERS/4)*25*num_filters3\n",
        "#num_units1 = int(FILTERS/4)*25*num_filters2\n",
        "#num_units2 = 4096\n",
        "num_units2 = 2048\n",
        "\n",
        "num_classes = 5\n",
        "\n",
        "w1 = tf.Variable(tf.truncated_normal([num_units1, num_units2]))\n",
        "b1 = tf.Variable(tf.zeros([num_units2]))\n",
        "y1 = tf.matmul(h_pool_flat3, w1) + b1\n",
        "#y1 = tf.matmul(h_pool_flat2, w1) + b1\n",
        "hidden1 = tf.nn.relu(y1)\n",
        "\n",
        "w2 = tf.Variable(tf.truncated_normal([num_units2, num_units2]))\n",
        "b2 = tf.Variable(tf.zeros([num_units2]))\n",
        "y2 = tf.matmul(hidden1, w2) + b2\n",
        "hidden2 = tf.nn.relu(y2)\n",
        "\n",
        "w3 = tf.Variable(tf.truncated_normal([num_units2, num_units2]))\n",
        "b3 = tf.Variable(tf.zeros([num_units2]))\n",
        "y3 = tf.matmul(hidden2, w3) + b3\n",
        "hidden3 = tf.nn.tanh(y3)\n",
        "\n",
        "keep_prob = tf.placeholder(tf.float32)\n",
        "hidden3_drop = tf.nn.dropout(hidden3, keep_prob)\n",
        "\n",
        "w0 = tf.Variable(tf.zeros([num_units2, num_classes]))\n",
        "b0 = tf.Variable(tf.zeros([num_classes]))\n",
        "p = tf.nn.softmax(tf.matmul(hidden3_drop, w0) + b0)"
      ],
      "execution_count": 0,
      "outputs": []
    },
    {
      "metadata": {
        "id": "xmTknDFrc9AJ",
        "colab_type": "code",
        "colab": {}
      },
      "cell_type": "code",
      "source": [
        "t = tf.placeholder(tf.float32, [None, num_classes])\n",
        "loss = -tf.reduce_sum(t * tf.log(p))\n",
        "train_step = tf.train.AdamOptimizer(0.00005).minimize(loss)\n",
        "correct_prediction = tf.equal(tf.argmax(p, 1), tf.argmax(t, 1))\n",
        "accuracy = tf.reduce_mean(tf.cast(correct_prediction, tf.float32))"
      ],
      "execution_count": 0,
      "outputs": []
    },
    {
      "metadata": {
        "id": "u8YVIpxGc9AN",
        "colab_type": "code",
        "colab": {}
      },
      "cell_type": "code",
      "source": [
        "sess = tf.Session()\n",
        "sess.run(tf.global_variables_initializer())"
      ],
      "execution_count": 0,
      "outputs": []
    },
    {
      "metadata": {
        "scrolled": false,
        "id": "ZO1xFC8tc9AQ",
        "colab_type": "code",
        "outputId": "f19ee508-6838-42cc-e96a-5d0ed18c564d",
        "colab": {
          "base_uri": "https://localhost:8080/",
          "height": 737
        }
      },
      "cell_type": "code",
      "source": [
        "i = 0\n",
        "for _ in range(800):\n",
        "    i += 1\n",
        "    sess.run(train_step, feed_dict={x:train_x, t:train_t, keep_prob:0.5})\n",
        "    if i % 20 == 0:\n",
        "        loss_val, acc_val = sess.run([loss, accuracy], feed_dict={x:test_x, t:test_t, keep_prob:1.0})\n",
        "        print('Step: {}, Loss: {}, Accuracy: {}'.format(i, loss_val, acc_val))"
      ],
      "execution_count": 17,
      "outputs": [
        {
          "output_type": "stream",
          "text": [
            "Step: 20, Loss: 645.5425415039062, Accuracy: 0.8222222328186035\n",
            "Step: 40, Loss: 581.1756591796875, Accuracy: 0.846666693687439\n",
            "Step: 60, Loss: 528.7759399414062, Accuracy: 0.8488888740539551\n",
            "Step: 80, Loss: 486.4460144042969, Accuracy: 0.846666693687439\n",
            "Step: 100, Loss: 451.8622131347656, Accuracy: 0.851111114025116\n",
            "Step: 120, Loss: 426.0226745605469, Accuracy: 0.846666693687439\n",
            "Step: 140, Loss: 408.1875, Accuracy: 0.846666693687439\n",
            "Step: 160, Loss: 381.46759033203125, Accuracy: 0.8488888740539551\n",
            "Step: 180, Loss: 362.84002685546875, Accuracy: 0.855555534362793\n",
            "Step: 200, Loss: 341.1737060546875, Accuracy: 0.8600000143051147\n",
            "Step: 220, Loss: 326.3684997558594, Accuracy: 0.8622221946716309\n",
            "Step: 240, Loss: 313.1927185058594, Accuracy: 0.8600000143051147\n",
            "Step: 260, Loss: 302.1601257324219, Accuracy: 0.8644444346427917\n",
            "Step: 280, Loss: 298.5766906738281, Accuracy: 0.855555534362793\n",
            "Step: 300, Loss: 291.531005859375, Accuracy: 0.855555534362793\n",
            "Step: 320, Loss: 278.53729248046875, Accuracy: 0.855555534362793\n",
            "Step: 340, Loss: 278.2371826171875, Accuracy: 0.8577777743339539\n",
            "Step: 360, Loss: 274.2020568847656, Accuracy: 0.855555534362793\n",
            "Step: 380, Loss: 265.4694519042969, Accuracy: 0.851111114025116\n",
            "Step: 400, Loss: 263.71710205078125, Accuracy: 0.8622221946716309\n",
            "Step: 420, Loss: 257.6708679199219, Accuracy: 0.855555534362793\n",
            "Step: 440, Loss: 251.73318481445312, Accuracy: 0.8577777743339539\n",
            "Step: 460, Loss: 247.2638397216797, Accuracy: 0.8600000143051147\n",
            "Step: 480, Loss: 240.32763671875, Accuracy: 0.855555534362793\n",
            "Step: 500, Loss: 233.85906982421875, Accuracy: 0.846666693687439\n",
            "Step: 520, Loss: 234.0755157470703, Accuracy: 0.8600000143051147\n",
            "Step: 540, Loss: 237.24679565429688, Accuracy: 0.8533333539962769\n",
            "Step: 560, Loss: 233.6713409423828, Accuracy: 0.855555534362793\n",
            "Step: 580, Loss: 234.7371826171875, Accuracy: 0.8577777743339539\n",
            "Step: 600, Loss: 234.17941284179688, Accuracy: 0.8644444346427917\n",
            "Step: 620, Loss: 228.28945922851562, Accuracy: 0.8533333539962769\n",
            "Step: 640, Loss: 223.28494262695312, Accuracy: 0.8688889145851135\n",
            "Step: 660, Loss: 214.0127716064453, Accuracy: 0.8755555748939514\n",
            "Step: 680, Loss: 215.17210388183594, Accuracy: 0.8644444346427917\n",
            "Step: 700, Loss: 212.71905517578125, Accuracy: 0.8866666555404663\n",
            "Step: 720, Loss: 219.5376739501953, Accuracy: 0.8644444346427917\n",
            "Step: 740, Loss: 219.1859893798828, Accuracy: 0.8666666746139526\n",
            "Step: 760, Loss: 215.7713165283203, Accuracy: 0.8688889145851135\n",
            "Step: 780, Loss: 213.361083984375, Accuracy: 0.855555534362793\n",
            "Step: 800, Loss: 209.40980529785156, Accuracy: 0.8577777743339539\n"
          ],
          "name": "stdout"
        }
      ]
    },
    {
      "metadata": {
        "id": "ANUod5YAgtpp",
        "colab_type": "text"
      },
      "cell_type": "markdown",
      "source": [
        "### Confirmation with test data set"
      ]
    },
    {
      "metadata": {
        "id": "gqFLH2SSc9AV",
        "colab_type": "code",
        "outputId": "b91b544a-2a6e-44e1-9951-6ca2550d0073",
        "colab": {
          "base_uri": "https://localhost:8080/",
          "height": 305
        }
      },
      "cell_type": "code",
      "source": [
        "p_test = sess.run(p, feed_dict={x:test_x, keep_prob:1.0})\n",
        "(p_test*100).astype(int)[:16]"
      ],
      "execution_count": 18,
      "outputs": [
        {
          "output_type": "execute_result",
          "data": {
            "text/plain": [
              "array([[33, 60,  4,  0,  0],\n",
              "       [ 1,  0,  0,  3, 94],\n",
              "       [23, 39, 32,  3,  1],\n",
              "       [ 1,  0,  2, 95,  0],\n",
              "       [42, 39, 12,  2,  2],\n",
              "       [ 8,  0,  0,  5, 84],\n",
              "       [31, 58,  7,  0,  0],\n",
              "       [ 0,  0,  0,  4, 94],\n",
              "       [34, 61,  3,  1,  0],\n",
              "       [ 0,  1, 93,  4,  0],\n",
              "       [ 1,  0, 16, 76,  4],\n",
              "       [ 1,  6, 82,  8,  0],\n",
              "       [37, 55,  5,  1,  0],\n",
              "       [79,  3,  0,  0, 15],\n",
              "       [ 6,  3, 30, 54,  4],\n",
              "       [59, 28,  6,  4,  1]])"
            ]
          },
          "metadata": {
            "tags": []
          },
          "execution_count": 18
        }
      ]
    },
    {
      "metadata": {
        "id": "PIfvyRp2c9AY",
        "colab_type": "code",
        "outputId": "9ec08771-06bc-40d0-b738-b2cbbf7f0807",
        "colab": {
          "base_uri": "https://localhost:8080/",
          "height": 305
        }
      },
      "cell_type": "code",
      "source": [
        "test_t[:16]"
      ],
      "execution_count": 19,
      "outputs": [
        {
          "output_type": "execute_result",
          "data": {
            "text/plain": [
              "[[0, 1, 0, 0, 0],\n",
              " [0, 0, 0, 0, 1],\n",
              " [0, 1, 0, 0, 0],\n",
              " [0, 0, 0, 1, 0],\n",
              " [0, 1, 0, 0, 0],\n",
              " [0, 0, 0, 0, 1],\n",
              " [0, 1, 0, 0, 0],\n",
              " [0, 0, 0, 0, 1],\n",
              " [0, 1, 0, 0, 0],\n",
              " [0, 0, 1, 0, 0],\n",
              " [0, 0, 0, 1, 0],\n",
              " [0, 0, 1, 0, 0],\n",
              " [0, 1, 0, 0, 0],\n",
              " [1, 0, 0, 0, 0],\n",
              " [0, 0, 0, 1, 0],\n",
              " [1, 0, 0, 0, 0]]"
            ]
          },
          "metadata": {
            "tags": []
          },
          "execution_count": 19
        }
      ]
    },
    {
      "metadata": {
        "id": "u4XLTiEQc9Ac",
        "colab_type": "code",
        "colab": {}
      },
      "cell_type": "code",
      "source": [
        "filter_vals, conv_vals = sess.run([W_conv3, h_pool3], feed_dict={x:train_x})"
      ],
      "execution_count": 0,
      "outputs": []
    },
    {
      "metadata": {
        "id": "48LWfRhtdZk2",
        "colab_type": "code",
        "colab": {
          "base_uri": "https://localhost:8080/",
          "height": 343
        },
        "outputId": "4c5e2c6c-e898-47e0-e16a-07772ee392c9"
      },
      "cell_type": "code",
      "source": [
        "plt.imshow(train_x[20].reshape(100,FILTERS), interpolation='nearest', cmap=plt.cm.hot)"
      ],
      "execution_count": 21,
      "outputs": [
        {
          "output_type": "stream",
          "text": [
            "/usr/local/lib/python3.6/dist-packages/ipykernel_launcher.py:1: FutureWarning: reshape is deprecated and will raise in a subsequent release. Please use .values.reshape(...) instead\n",
            "  \"\"\"Entry point for launching an IPython kernel.\n"
          ],
          "name": "stderr"
        },
        {
          "output_type": "execute_result",
          "data": {
            "text/plain": [
              "<matplotlib.image.AxesImage at 0x7f4eda3a1eb8>"
            ]
          },
          "metadata": {
            "tags": []
          },
          "execution_count": 21
        },
        {
          "output_type": "display_data",
          "data": {
            "image/png": "[encoded data removed]",
            "text/plain": [
              "<matplotlib.figure.Figure at 0x7f4ef0022400>"
            ]
          },
          "metadata": {
            "tags": []
          }
        }
      ]
    },
    {
      "metadata": {
        "id": "0Gpsh4-qGftJ",
        "colab_type": "code",
        "colab": {
          "base_uri": "https://localhost:8080/",
          "height": 283
        },
        "outputId": "c9816d93-966e-47a3-8fd5-1c4c65609f81"
      },
      "cell_type": "code",
      "source": [
        "plt.imshow(filter_vals[:,:,0,77], interpolation='nearest', cmap=plt.cm.gray_r)"
      ],
      "execution_count": 22,
      "outputs": [
        {
          "output_type": "execute_result",
          "data": {
            "text/plain": [
              "<matplotlib.image.AxesImage at 0x7f4ed832e630>"
            ]
          },
          "metadata": {
            "tags": []
          },
          "execution_count": 22
        },
        {
          "output_type": "display_data",
          "data": {
            "image/png": "[encoded data removed]",
            "text/plain": [
              "<matplotlib.figure.Figure at 0x7f4eda368940>"
            ]
          },
          "metadata": {
            "tags": []
          }
        }
      ]
    },
    {
      "metadata": {
        "id": "CouFsxRzc9Ae",
        "colab_type": "code",
        "colab": {
          "base_uri": "https://localhost:8080/",
          "height": 283
        },
        "outputId": "9b8889cd-28a6-4919-a7b7-40e0db4c7d63"
      },
      "cell_type": "code",
      "source": [
        "plt.imshow(conv_vals[20,:,:,77], interpolation='nearest', cmap=plt.cm.hot)"
      ],
      "execution_count": 23,
      "outputs": [
        {
          "output_type": "execute_result",
          "data": {
            "text/plain": [
              "<matplotlib.image.AxesImage at 0x7f4ed828f320>"
            ]
          },
          "metadata": {
            "tags": []
          },
          "execution_count": 23
        },
        {
          "output_type": "display_data",
          "data": {
            "image/png": "[encoded data removed]",
            "text/plain": [
              "<matplotlib.figure.Figure at 0x7f4ed8314668>"
            ]
          },
          "metadata": {
            "tags": []
          }
        }
      ]
    },
    {
      "metadata": {
        "id": "gLoTcIR7_BPE",
        "colab_type": "code",
        "colab": {
          "base_uri": "https://localhost:8080/",
          "height": 631
        },
        "outputId": "3d178d94-29d0-4c28-b055-6a00dc425dbf"
      },
      "cell_type": "code",
      "source": [
        "fig = plt.figure(figsize=(10,10))\n",
        "\n",
        "for j in range(9):\n",
        "  subplot = fig.add_subplot(10,10,10*(j+1)+1)\n",
        "  subplot.set_xticks([])\n",
        "  subplot.set_yticks([])\n",
        "  subplot.imshow(filter_vals[:,:,0,j],cmap=plt.cm.gray_r, interpolation='nearest')\n",
        "\n",
        "for i in range(9):\n",
        "  subplot = fig.add_subplot(10,10,i+2)\n",
        "  subplot.set_xticks([])\n",
        "  subplot.set_yticks([])\n",
        "  subplot.imshow(train_x[i].reshape(100,FILTERS),cmap=plt.cm.hot, interpolation='nearest', aspect='auto')\n",
        "    \n",
        "for j in range(9):\n",
        "  for i in range(9):\n",
        "    subplot = fig.add_subplot(10,10,10*(j+1)+2+i)\n",
        "    subplot.set_xticks([])\n",
        "    subplot.set_yticks([])\n",
        "    subplot.imshow(conv_vals[i,:,:,j],cmap=plt.cm.gray_r, interpolation='nearest', aspect='auto')\n",
        "\n",
        "fig.savefig(DATA_FOLDER+'/filterd_spectrogram.png')"
      ],
      "execution_count": 24,
      "outputs": [
        {
          "output_type": "stream",
          "text": [
            "/usr/local/lib/python3.6/dist-packages/ipykernel_launcher.py:13: FutureWarning: reshape is deprecated and will raise in a subsequent release. Please use .values.reshape(...) instead\n",
            "  del sys.path[0]\n"
          ],
          "name": "stderr"
        },
        {
          "output_type": "display_data",
          "data": {
            "image/png": "[encoded data removed]",
            "text/plain": [
              "<matplotlib.figure.Figure at 0x7f4ed823e668>"
            ]
          },
          "metadata": {
            "tags": []
          }
        }
      ]
    }
  ]
}