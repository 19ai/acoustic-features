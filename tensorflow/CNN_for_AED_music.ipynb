{
 "cells": [
  {
   "cell_type": "markdown",
   "metadata": {
    "colab_type": "text",
    "id": "0X16cagQE-Y-"
   },
   "source": [
    "# CNN for AED with Keras/TensorFlow\n",
    "\n",
    "Date: November 11, 2018 and February 9, 2019\n",
    "\n",
    "Neural network: three convolution layers and three fully connected layers\n",
    "\n",
    "Classification of acoustic events:\n",
    "\n",
    "- Piano music\n",
    "- Framenco guitar music\n",
    "- Classical guitar music\n",
    "- Blues hars music\n",
    "- Tin whistle music\n",
    "- Silence"
   ]
  },
  {
   "cell_type": "markdown",
   "metadata": {
    "colab_type": "text",
    "id": "WwQ-dEltkl5Q"
   },
   "source": [
    "## Preparing data set for CNN"
   ]
  },
  {
   "cell_type": "code",
   "execution_count": 52,
   "metadata": {
    "colab": {
     "base_uri": "https://localhost:8080/",
     "height": 34
    },
    "colab_type": "code",
    "id": "VEJyQsGpV3ug",
    "outputId": "3929aa39-3383-4791-e065-3622e6781181"
   },
   "outputs": [
    {
     "data": {
      "text/plain": [
       "<matplotlib.figure.Figure at 0x1fa04913d30>"
      ]
     },
     "metadata": {},
     "output_type": "display_data"
    }
   ],
   "source": [
    "DATASET_FOLDER = '../dataset/data_music'\n",
    "\n",
    "%run ../oscilloscope/script/dataset.py\n",
    "\n",
    "ds = DataSet(DATASET_FOLDER)\n",
    "train_data, train_labels, test_data, test_labels = ds.generate()\n",
    "shape = ds.shape\n",
    "class_labels = ds.class_labels"
   ]
  },
  {
   "cell_type": "markdown",
   "metadata": {
    "colab_type": "text",
    "id": "VfUmgxxVk6uM"
   },
   "source": [
    "### CNN model"
   ]
  },
  {
   "cell_type": "code",
   "execution_count": 61,
   "metadata": {
    "colab": {
     "base_uri": "https://localhost:8080/",
     "height": 509
    },
    "colab_type": "code",
    "id": "B2Xg6tGLdMKP",
    "outputId": "ae3daa32-9dbf-4d8b-9a11-7f596dd2e4a6"
   },
   "outputs": [
    {
     "name": "stdout",
     "output_type": "stream",
     "text": [
      "_________________________________________________________________\n",
      "Layer (type)                 Output Shape              Param #   \n",
      "=================================================================\n",
      "conv2d_47 (Conv2D)           (None, 62, 38, 4)         40        \n",
      "_________________________________________________________________\n",
      "max_pooling2d_46 (MaxPooling (None, 31, 19, 4)         0         \n",
      "_________________________________________________________________\n",
      "conv2d_48 (Conv2D)           (None, 29, 17, 8)         296       \n",
      "_________________________________________________________________\n",
      "max_pooling2d_47 (MaxPooling (None, 14, 8, 8)          0         \n",
      "_________________________________________________________________\n",
      "conv2d_49 (Conv2D)           (None, 12, 6, 16)         1168      \n",
      "_________________________________________________________________\n",
      "max_pooling2d_48 (MaxPooling (None, 6, 3, 16)          0         \n",
      "_________________________________________________________________\n",
      "flatten_17 (Flatten)         (None, 288)               0         \n",
      "_________________________________________________________________\n",
      "dropout_17 (Dropout)         (None, 288)               0         \n",
      "_________________________________________________________________\n",
      "dense_19 (Dense)             (None, 6)                 1734      \n",
      "=================================================================\n",
      "Total params: 3,238\n",
      "Trainable params: 3,238\n",
      "Non-trainable params: 0\n",
      "_________________________________________________________________\n"
     ]
    }
   ],
   "source": [
    "from keras import layers\n",
    "from keras import models\n",
    "\n",
    "model = models.Sequential()\n",
    "\n",
    "model.add(layers.Conv2D(4, (3, 3), activation='relu', input_shape=(*shape, 1)))\n",
    "model.add(layers.MaxPooling2D((2,2)))\n",
    "\n",
    "model.add(layers.Conv2D(8, (3, 3), activation='relu'))\n",
    "model.add(layers.MaxPooling2D((2,2)))\n",
    "\n",
    "model.add(layers.Conv2D(16, (3, 3), activation='relu'))\n",
    "model.add(layers.MaxPooling2D((2,2)))\n",
    "\n",
    "model.add(layers.Flatten())\n",
    "model.add(layers.Dropout(0.5))\n",
    "model.add(layers.Dense(len(class_labels), activation='softmax'))\n",
    "\n",
    "model.summary()"
   ]
  },
  {
   "cell_type": "code",
   "execution_count": 62,
   "metadata": {
    "colab": {},
    "colab_type": "code",
    "id": "nRr1L_4ogL6i"
   },
   "outputs": [],
   "source": [
    "model.compile(optimizer='rmsprop', loss='categorical_crossentropy', metrics=['accuracy'])"
   ]
  },
  {
   "cell_type": "code",
   "execution_count": 63,
   "metadata": {},
   "outputs": [
    {
     "data": {
      "image/svg+xml": [
       "<svg height=\"702pt\" viewBox=\"0.00 0.00 223.00 702.00\" width=\"223pt\" xmlns=\"http://www.w3.org/2000/svg\" xmlns:xlink=\"http://www.w3.org/1999/xlink\">\n",
       "<g class=\"graph\" id=\"graph0\" transform=\"scale(1 1) rotate(0) translate(4 698)\">\n",
       "<title>G</title>\n",
       "<polygon fill=\"white\" points=\"-4,4 -4,-698 219,-698 219,4 -4,4\" stroke=\"none\"/>\n",
       "<!-- 2173365049832 -->\n",
       "<g class=\"node\" id=\"node1\"><title>2173365049832</title>\n",
       "<polygon fill=\"none\" points=\"40.5,-584.5 40.5,-620.5 174.5,-620.5 174.5,-584.5 40.5,-584.5\" stroke=\"black\"/>\n",
       "<text font-family=\"Times New Roman,serif\" font-size=\"14.00\" text-anchor=\"middle\" x=\"107.5\" y=\"-598.8\">conv2d_47: Conv2D</text>\n",
       "</g>\n",
       "<!-- 2173365050280 -->\n",
       "<g class=\"node\" id=\"node2\"><title>2173365050280</title>\n",
       "<polygon fill=\"none\" points=\"0,-511.5 0,-547.5 215,-547.5 215,-511.5 0,-511.5\" stroke=\"black\"/>\n",
       "<text font-family=\"Times New Roman,serif\" font-size=\"14.00\" text-anchor=\"middle\" x=\"107.5\" y=\"-525.8\">max_pooling2d_46: MaxPooling2D</text>\n",
       "</g>\n",
       "<!-- 2173365049832&#45;&gt;2173365050280 -->\n",
       "<g class=\"edge\" id=\"edge2\"><title>2173365049832-&gt;2173365050280</title>\n",
       "<path d=\"M107.5,-584.313C107.5,-576.289 107.5,-566.547 107.5,-557.569\" fill=\"none\" stroke=\"black\"/>\n",
       "<polygon fill=\"black\" points=\"111,-557.529 107.5,-547.529 104,-557.529 111,-557.529\" stroke=\"black\"/>\n",
       "</g>\n",
       "<!-- 2173365049776 -->\n",
       "<g class=\"node\" id=\"node3\"><title>2173365049776</title>\n",
       "<polygon fill=\"none\" points=\"40.5,-438.5 40.5,-474.5 174.5,-474.5 174.5,-438.5 40.5,-438.5\" stroke=\"black\"/>\n",
       "<text font-family=\"Times New Roman,serif\" font-size=\"14.00\" text-anchor=\"middle\" x=\"107.5\" y=\"-452.8\">conv2d_48: Conv2D</text>\n",
       "</g>\n",
       "<!-- 2173365050280&#45;&gt;2173365049776 -->\n",
       "<g class=\"edge\" id=\"edge3\"><title>2173365050280-&gt;2173365049776</title>\n",
       "<path d=\"M107.5,-511.313C107.5,-503.289 107.5,-493.547 107.5,-484.569\" fill=\"none\" stroke=\"black\"/>\n",
       "<polygon fill=\"black\" points=\"111,-484.529 107.5,-474.529 104,-484.529 111,-484.529\" stroke=\"black\"/>\n",
       "</g>\n",
       "<!-- 2173365129624 -->\n",
       "<g class=\"node\" id=\"node4\"><title>2173365129624</title>\n",
       "<polygon fill=\"none\" points=\"0,-365.5 0,-401.5 215,-401.5 215,-365.5 0,-365.5\" stroke=\"black\"/>\n",
       "<text font-family=\"Times New Roman,serif\" font-size=\"14.00\" text-anchor=\"middle\" x=\"107.5\" y=\"-379.8\">max_pooling2d_47: MaxPooling2D</text>\n",
       "</g>\n",
       "<!-- 2173365049776&#45;&gt;2173365129624 -->\n",
       "<g class=\"edge\" id=\"edge4\"><title>2173365049776-&gt;2173365129624</title>\n",
       "<path d=\"M107.5,-438.313C107.5,-430.289 107.5,-420.547 107.5,-411.569\" fill=\"none\" stroke=\"black\"/>\n",
       "<polygon fill=\"black\" points=\"111,-411.529 107.5,-401.529 104,-411.529 111,-411.529\" stroke=\"black\"/>\n",
       "</g>\n",
       "<!-- 2173365050168 -->\n",
       "<g class=\"node\" id=\"node5\"><title>2173365050168</title>\n",
       "<polygon fill=\"none\" points=\"40.5,-292.5 40.5,-328.5 174.5,-328.5 174.5,-292.5 40.5,-292.5\" stroke=\"black\"/>\n",
       "<text font-family=\"Times New Roman,serif\" font-size=\"14.00\" text-anchor=\"middle\" x=\"107.5\" y=\"-306.8\">conv2d_49: Conv2D</text>\n",
       "</g>\n",
       "<!-- 2173365129624&#45;&gt;2173365050168 -->\n",
       "<g class=\"edge\" id=\"edge5\"><title>2173365129624-&gt;2173365050168</title>\n",
       "<path d=\"M107.5,-365.313C107.5,-357.289 107.5,-347.547 107.5,-338.569\" fill=\"none\" stroke=\"black\"/>\n",
       "<polygon fill=\"black\" points=\"111,-338.529 107.5,-328.529 104,-338.529 111,-338.529\" stroke=\"black\"/>\n",
       "</g>\n",
       "<!-- 2173381806904 -->\n",
       "<g class=\"node\" id=\"node6\"><title>2173381806904</title>\n",
       "<polygon fill=\"none\" points=\"0,-219.5 0,-255.5 215,-255.5 215,-219.5 0,-219.5\" stroke=\"black\"/>\n",
       "<text font-family=\"Times New Roman,serif\" font-size=\"14.00\" text-anchor=\"middle\" x=\"107.5\" y=\"-233.8\">max_pooling2d_48: MaxPooling2D</text>\n",
       "</g>\n",
       "<!-- 2173365050168&#45;&gt;2173381806904 -->\n",
       "<g class=\"edge\" id=\"edge6\"><title>2173365050168-&gt;2173381806904</title>\n",
       "<path d=\"M107.5,-292.313C107.5,-284.289 107.5,-274.547 107.5,-265.569\" fill=\"none\" stroke=\"black\"/>\n",
       "<polygon fill=\"black\" points=\"111,-265.529 107.5,-255.529 104,-265.529 111,-265.529\" stroke=\"black\"/>\n",
       "</g>\n",
       "<!-- 2173365132144 -->\n",
       "<g class=\"node\" id=\"node7\"><title>2173365132144</title>\n",
       "<polygon fill=\"none\" points=\"49.5,-146.5 49.5,-182.5 165.5,-182.5 165.5,-146.5 49.5,-146.5\" stroke=\"black\"/>\n",
       "<text font-family=\"Times New Roman,serif\" font-size=\"14.00\" text-anchor=\"middle\" x=\"107.5\" y=\"-160.8\">flatten_17: Flatten</text>\n",
       "</g>\n",
       "<!-- 2173381806904&#45;&gt;2173365132144 -->\n",
       "<g class=\"edge\" id=\"edge7\"><title>2173381806904-&gt;2173365132144</title>\n",
       "<path d=\"M107.5,-219.313C107.5,-211.289 107.5,-201.547 107.5,-192.569\" fill=\"none\" stroke=\"black\"/>\n",
       "<polygon fill=\"black\" points=\"111,-192.529 107.5,-182.529 104,-192.529 111,-192.529\" stroke=\"black\"/>\n",
       "</g>\n",
       "<!-- 2173381885512 -->\n",
       "<g class=\"node\" id=\"node8\"><title>2173381885512</title>\n",
       "<polygon fill=\"none\" points=\"39,-73.5 39,-109.5 176,-109.5 176,-73.5 39,-73.5\" stroke=\"black\"/>\n",
       "<text font-family=\"Times New Roman,serif\" font-size=\"14.00\" text-anchor=\"middle\" x=\"107.5\" y=\"-87.8\">dropout_17: Dropout</text>\n",
       "</g>\n",
       "<!-- 2173365132144&#45;&gt;2173381885512 -->\n",
       "<g class=\"edge\" id=\"edge8\"><title>2173365132144-&gt;2173381885512</title>\n",
       "<path d=\"M107.5,-146.313C107.5,-138.289 107.5,-128.547 107.5,-119.569\" fill=\"none\" stroke=\"black\"/>\n",
       "<polygon fill=\"black\" points=\"111,-119.529 107.5,-109.529 104,-119.529 111,-119.529\" stroke=\"black\"/>\n",
       "</g>\n",
       "<!-- 2173381885456 -->\n",
       "<g class=\"node\" id=\"node9\"><title>2173381885456</title>\n",
       "<polygon fill=\"none\" points=\"52,-0.5 52,-36.5 163,-36.5 163,-0.5 52,-0.5\" stroke=\"black\"/>\n",
       "<text font-family=\"Times New Roman,serif\" font-size=\"14.00\" text-anchor=\"middle\" x=\"107.5\" y=\"-14.8\">dense_19: Dense</text>\n",
       "</g>\n",
       "<!-- 2173381885512&#45;&gt;2173381885456 -->\n",
       "<g class=\"edge\" id=\"edge9\"><title>2173381885512-&gt;2173381885456</title>\n",
       "<path d=\"M107.5,-73.3129C107.5,-65.2895 107.5,-55.5475 107.5,-46.5691\" fill=\"none\" stroke=\"black\"/>\n",
       "<polygon fill=\"black\" points=\"111,-46.5288 107.5,-36.5288 104,-46.5289 111,-46.5288\" stroke=\"black\"/>\n",
       "</g>\n",
       "<!-- 2173365050224 -->\n",
       "<g class=\"node\" id=\"node10\"><title>2173365050224</title>\n",
       "<polygon fill=\"none\" points=\"55.5,-657.5 55.5,-693.5 159.5,-693.5 159.5,-657.5 55.5,-657.5\" stroke=\"black\"/>\n",
       "<text font-family=\"Times New Roman,serif\" font-size=\"14.00\" text-anchor=\"middle\" x=\"107.5\" y=\"-671.8\">2173365050224</text>\n",
       "</g>\n",
       "<!-- 2173365050224&#45;&gt;2173365049832 -->\n",
       "<g class=\"edge\" id=\"edge1\"><title>2173365050224-&gt;2173365049832</title>\n",
       "<path d=\"M107.5,-657.313C107.5,-649.289 107.5,-639.547 107.5,-630.569\" fill=\"none\" stroke=\"black\"/>\n",
       "<polygon fill=\"black\" points=\"111,-630.529 107.5,-620.529 104,-630.529 111,-630.529\" stroke=\"black\"/>\n",
       "</g>\n",
       "</g>\n",
       "</svg>"
      ],
      "text/plain": [
       "<IPython.core.display.SVG object>"
      ]
     },
     "execution_count": 63,
     "metadata": {},
     "output_type": "execute_result"
    }
   ],
   "source": [
    "from IPython.display import SVG\n",
    "from keras.utils.vis_utils import model_to_dot\n",
    "\n",
    "SVG(model_to_dot(model).create(prog='dot', format='svg'))"
   ]
  },
  {
   "cell_type": "markdown",
   "metadata": {
    "colab_type": "text",
    "id": "TfypWUJIlFkz"
   },
   "source": [
    "## Training CNN"
   ]
  },
  {
   "cell_type": "code",
   "execution_count": 64,
   "metadata": {
    "colab": {
     "base_uri": "https://localhost:8080/",
     "height": 931
    },
    "colab_type": "code",
    "id": "zsdmu-ggfvr1",
    "outputId": "77a52558-8ecc-4fc5-e0cb-2b86a75df4c6"
   },
   "outputs": [
    {
     "name": "stdout",
     "output_type": "stream",
     "text": [
      "Train on 384 samples, validate on 216 samples\n",
      "Epoch 1/40\n",
      "384/384 [==============================] - 5s 12ms/step - loss: 1.7970 - acc: 0.1875 - val_loss: 1.6849 - val_acc: 0.2546\n",
      "Epoch 2/40\n",
      "384/384 [==============================] - 3s 7ms/step - loss: 1.6614 - acc: 0.2656 - val_loss: 1.5492 - val_acc: 0.5694\n",
      "Epoch 3/40\n",
      "384/384 [==============================] - 3s 8ms/step - loss: 1.4894 - acc: 0.4375 - val_loss: 1.3724 - val_acc: 0.6343\n",
      "Epoch 4/40\n",
      "384/384 [==============================] - 3s 8ms/step - loss: 1.3486 - acc: 0.5104 - val_loss: 1.2037 - val_acc: 0.6667\n",
      "Epoch 5/40\n",
      "384/384 [==============================] - 3s 8ms/step - loss: 1.1756 - acc: 0.5703 - val_loss: 1.0799 - val_acc: 0.6806\n",
      "Epoch 6/40\n",
      "384/384 [==============================] - 3s 8ms/step - loss: 1.1037 - acc: 0.5833 - val_loss: 0.9636 - val_acc: 0.7083\n",
      "Epoch 7/40\n",
      "384/384 [==============================] - 3s 8ms/step - loss: 1.0188 - acc: 0.6120 - val_loss: 0.8919 - val_acc: 0.6898\n",
      "Epoch 8/40\n",
      "384/384 [==============================] - 3s 8ms/step - loss: 0.8762 - acc: 0.6693 - val_loss: 0.8155 - val_acc: 0.7222\n",
      "Epoch 9/40\n",
      "384/384 [==============================] - 3s 8ms/step - loss: 0.8056 - acc: 0.6771 - val_loss: 0.7428 - val_acc: 0.7083\n",
      "Epoch 10/40\n",
      "384/384 [==============================] - 3s 8ms/step - loss: 0.7466 - acc: 0.6979 - val_loss: 0.7019 - val_acc: 0.7176\n",
      "Epoch 11/40\n",
      "384/384 [==============================] - 3s 8ms/step - loss: 0.7301 - acc: 0.7109 - val_loss: 0.6623 - val_acc: 0.7315\n",
      "Epoch 12/40\n",
      "384/384 [==============================] - 3s 8ms/step - loss: 0.6577 - acc: 0.7396 - val_loss: 0.6268 - val_acc: 0.7593\n",
      "Epoch 13/40\n",
      "384/384 [==============================] - 3s 8ms/step - loss: 0.6340 - acc: 0.7422 - val_loss: 0.5996 - val_acc: 0.7685\n",
      "Epoch 14/40\n",
      "384/384 [==============================] - 3s 8ms/step - loss: 0.5574 - acc: 0.7734 - val_loss: 0.5842 - val_acc: 0.7824\n",
      "Epoch 15/40\n",
      "384/384 [==============================] - 3s 8ms/step - loss: 0.6244 - acc: 0.7630 - val_loss: 0.5583 - val_acc: 0.8056\n",
      "Epoch 16/40\n",
      "384/384 [==============================] - 3s 8ms/step - loss: 0.5171 - acc: 0.7969 - val_loss: 0.5548 - val_acc: 0.7870\n",
      "Epoch 17/40\n",
      "384/384 [==============================] - 3s 8ms/step - loss: 0.4929 - acc: 0.8021 - val_loss: 0.5215 - val_acc: 0.8009\n",
      "Epoch 18/40\n",
      "384/384 [==============================] - 3s 8ms/step - loss: 0.5093 - acc: 0.7760 - val_loss: 0.4884 - val_acc: 0.8333\n",
      "Epoch 19/40\n",
      "384/384 [==============================] - 3s 7ms/step - loss: 0.4753 - acc: 0.7995 - val_loss: 0.4835 - val_acc: 0.8241\n",
      "Epoch 20/40\n",
      "384/384 [==============================] - 3s 8ms/step - loss: 0.3940 - acc: 0.8646 - val_loss: 0.4485 - val_acc: 0.8611\n",
      "Epoch 21/40\n",
      "384/384 [==============================] - 3s 8ms/step - loss: 0.3697 - acc: 0.8880 - val_loss: 0.4395 - val_acc: 0.8611\n",
      "Epoch 22/40\n",
      "384/384 [==============================] - 3s 8ms/step - loss: 0.4051 - acc: 0.8516 - val_loss: 0.4460 - val_acc: 0.8519\n",
      "Epoch 23/40\n",
      "384/384 [==============================] - 3s 8ms/step - loss: 0.3942 - acc: 0.8672 - val_loss: 0.4008 - val_acc: 0.8796\n",
      "Epoch 24/40\n",
      "384/384 [==============================] - 3s 7ms/step - loss: 0.3455 - acc: 0.8698 - val_loss: 0.3851 - val_acc: 0.8750\n",
      "Epoch 25/40\n",
      "384/384 [==============================] - 3s 8ms/step - loss: 0.3188 - acc: 0.8880 - val_loss: 0.3835 - val_acc: 0.8889\n",
      "Epoch 26/40\n",
      "384/384 [==============================] - 3s 8ms/step - loss: 0.3131 - acc: 0.8750 - val_loss: 0.3648 - val_acc: 0.8981\n",
      "Epoch 27/40\n",
      "384/384 [==============================] - 3s 8ms/step - loss: 0.3014 - acc: 0.8932 - val_loss: 0.3743 - val_acc: 0.9074\n",
      "Epoch 28/40\n",
      "384/384 [==============================] - 3s 8ms/step - loss: 0.2726 - acc: 0.8958 - val_loss: 0.3520 - val_acc: 0.9028\n",
      "Epoch 29/40\n",
      "384/384 [==============================] - 3s 8ms/step - loss: 0.3052 - acc: 0.8724 - val_loss: 0.3418 - val_acc: 0.9074\n",
      "Epoch 30/40\n",
      "384/384 [==============================] - 3s 8ms/step - loss: 0.3003 - acc: 0.8854 - val_loss: 0.3271 - val_acc: 0.9074\n",
      "Epoch 31/40\n",
      "384/384 [==============================] - 3s 8ms/step - loss: 0.2327 - acc: 0.9141 - val_loss: 0.3415 - val_acc: 0.9120\n",
      "Epoch 32/40\n",
      "384/384 [==============================] - 3s 8ms/step - loss: 0.2527 - acc: 0.9219 - val_loss: 0.3184 - val_acc: 0.9074\n",
      "Epoch 33/40\n",
      "384/384 [==============================] - 3s 8ms/step - loss: 0.2479 - acc: 0.9089 - val_loss: 0.3345 - val_acc: 0.8935\n",
      "Epoch 34/40\n",
      "384/384 [==============================] - 3s 8ms/step - loss: 0.2261 - acc: 0.9036 - val_loss: 0.3197 - val_acc: 0.9213\n",
      "Epoch 35/40\n",
      "384/384 [==============================] - 3s 7ms/step - loss: 0.2079 - acc: 0.9323 - val_loss: 0.2908 - val_acc: 0.9259\n",
      "Epoch 36/40\n",
      "384/384 [==============================] - 3s 7ms/step - loss: 0.1818 - acc: 0.9349 - val_loss: 0.2802 - val_acc: 0.9352\n",
      "Epoch 37/40\n",
      "384/384 [==============================] - 3s 8ms/step - loss: 0.1928 - acc: 0.9245 - val_loss: 0.2881 - val_acc: 0.9213\n",
      "Epoch 38/40\n",
      "384/384 [==============================] - 3s 7ms/step - loss: 0.1917 - acc: 0.9167 - val_loss: 0.2799 - val_acc: 0.9213\n",
      "Epoch 39/40\n",
      "384/384 [==============================] - 3s 8ms/step - loss: 0.1688 - acc: 0.9505 - val_loss: 0.2630 - val_acc: 0.9352\n",
      "Epoch 40/40\n",
      "384/384 [==============================] - 3s 7ms/step - loss: 0.2175 - acc: 0.9167 - val_loss: 0.2915 - val_acc: 0.9213\n"
     ]
    }
   ],
   "source": [
    "EPOCHS = 40\n",
    "history = model.fit(train_data, train_labels, epochs=EPOCHS, validation_data=(test_data, test_labels))"
   ]
  },
  {
   "cell_type": "code",
   "execution_count": 65,
   "metadata": {},
   "outputs": [
    {
     "data": {
      "image/png": "[encoded data removed]",
      "text/plain": [
       "<matplotlib.figure.Figure at 0x1fa06769278>"
      ]
     },
     "metadata": {},
     "output_type": "display_data"
    },
    {
     "data": {
      "image/png": "[encoded data removed]",
      "text/plain": [
       "<matplotlib.figure.Figure at 0x1fa06769dd8>"
      ]
     },
     "metadata": {},
     "output_type": "display_data"
    }
   ],
   "source": [
    "%run history.py\n",
    "%matplotlib inline\n",
    "\n",
    "plot_accuracy(history)\n",
    "plot_loss(history)"
   ]
  },
  {
   "cell_type": "markdown",
   "metadata": {},
   "source": [
    "## Save the model"
   ]
  },
  {
   "cell_type": "code",
   "execution_count": 67,
   "metadata": {},
   "outputs": [],
   "source": [
    "import datetime\n",
    "\n",
    "dt = datetime.datetime.today().strftime('%Y%m%d%H%M%S')\n",
    "filename = DATASET_FOLDER + '/cnn_for_aed_{}.h5'.format(dt)\n",
    "model.save(filename)"
   ]
  },
  {
   "cell_type": "markdown",
   "metadata": {},
   "source": [
    "## Load the model"
   ]
  },
  {
   "cell_type": "code",
   "execution_count": 68,
   "metadata": {},
   "outputs": [],
   "source": [
    "del model\n",
    "model = models.load_model(filename)"
   ]
  },
  {
   "cell_type": "markdown",
   "metadata": {
    "colab_type": "text",
    "id": "j6con4C3lKC1"
   },
   "source": [
    "## Confirmation"
   ]
  },
  {
   "cell_type": "code",
   "execution_count": 69,
   "metadata": {
    "colab": {
     "base_uri": "https://localhost:8080/",
     "height": 34
    },
    "colab_type": "code",
    "id": "4oZYLLij69wU",
    "outputId": "b37a4b8a-2c80-411f-d8a9-5df1c6dbfe22"
   },
   "outputs": [
    {
     "data": {
      "text/plain": [
       "(384, 64, 40, 1)"
      ]
     },
     "execution_count": 69,
     "metadata": {},
     "output_type": "execute_result"
    }
   ],
   "source": [
    "import numpy as np\n",
    "import matplotlib.pyplot as plt\n",
    "train_data.shape"
   ]
  },
  {
   "cell_type": "code",
   "execution_count": 70,
   "metadata": {
    "colab": {
     "base_uri": "https://localhost:8080/",
     "height": 193
    },
    "colab_type": "code",
    "id": "zSxXE9FgRBdJ",
    "outputId": "f3a53efe-e99f-4572-f9b4-1bf3c39c77ec"
   },
   "outputs": [],
   "source": [
    "layer_outputs = [layer.output for layer in model.layers]\n",
    "#layer_outputs"
   ]
  },
  {
   "cell_type": "code",
   "execution_count": 71,
   "metadata": {
    "colab": {
     "base_uri": "https://localhost:8080/",
     "height": 34
    },
    "colab_type": "code",
    "id": "dcw7yHKrRkPD",
    "outputId": "a3ed5441-ae48-4635-bf07-ac5060030608"
   },
   "outputs": [],
   "source": [
    "activation_model = models.Model(inputs=model.input, outputs=layer_outputs)\n",
    "activations = activation_model.predict(test_data)\n",
    "#activations[0][0,:,:,0].shape"
   ]
  },
  {
   "cell_type": "code",
   "execution_count": 72,
   "metadata": {},
   "outputs": [
    {
     "data": {
      "text/plain": [
       "['piano',\n",
       " 'classical_guitar',\n",
       " 'framenco_guitar',\n",
       " 'blues_harp',\n",
       " 'tin_whistle',\n",
       " 'silence']"
      ]
     },
     "execution_count": 72,
     "metadata": {},
     "output_type": "execute_result"
    }
   ],
   "source": [
    "class_labels"
   ]
  },
  {
   "cell_type": "code",
   "execution_count": 73,
   "metadata": {
    "colab": {
     "base_uri": "https://localhost:8080/",
     "height": 193
    },
    "colab_type": "code",
    "id": "ccSNAwGKhRn9",
    "outputId": "0ad22e12-713b-4b07-e17b-45d39ff1b80b"
   },
   "outputs": [
    {
     "data": {
      "text/plain": [
       "array([[ 0,  0,  0,  1,  0, 98],\n",
       "       [ 0,  0,  0,  0,  0, 99],\n",
       "       [ 0,  0,  0,  0,  0, 99],\n",
       "       [34, 63,  0,  1,  0,  0],\n",
       "       [ 0, 86, 10,  1,  0,  0],\n",
       "       [ 0,  1, 93,  4,  0,  0],\n",
       "       [ 0, 88,  9,  2,  0,  0],\n",
       "       [ 0,  0,  0,  0,  0, 99],\n",
       "       [ 0,  0,  0,  0,  0, 99],\n",
       "       [ 0,  0,  0,  0,  0, 99]])"
      ]
     },
     "execution_count": 73,
     "metadata": {},
     "output_type": "execute_result"
    }
   ],
   "source": [
    "(activations[-1][:10]*100).astype(int)"
   ]
  },
  {
   "cell_type": "code",
   "execution_count": 74,
   "metadata": {
    "colab": {
     "base_uri": "https://localhost:8080/",
     "height": 193
    },
    "colab_type": "code",
    "id": "RoE0nxtuiGIN",
    "outputId": "154437a8-ab72-46f4-f42c-3e6464af47d0"
   },
   "outputs": [
    {
     "data": {
      "text/plain": [
       "array([[0, 0, 0, 0, 0, 1],\n",
       "       [0, 0, 0, 0, 0, 1],\n",
       "       [0, 0, 0, 0, 0, 1],\n",
       "       [1, 0, 0, 0, 0, 0],\n",
       "       [0, 1, 0, 0, 0, 0],\n",
       "       [0, 0, 1, 0, 0, 0],\n",
       "       [0, 1, 0, 0, 0, 0],\n",
       "       [0, 0, 0, 0, 0, 1],\n",
       "       [0, 0, 0, 0, 0, 1],\n",
       "       [0, 0, 0, 0, 0, 1]])"
      ]
     },
     "execution_count": 74,
     "metadata": {},
     "output_type": "execute_result"
    }
   ],
   "source": [
    "test_labels[:10].astype(int)"
   ]
  },
  {
   "cell_type": "code",
   "execution_count": 79,
   "metadata": {},
   "outputs": [],
   "source": [
    "def plot_layer(activations, sample, layer):\n",
    "    a = activations[layer].shape\n",
    "    rows = int(a[3]/4)\n",
    "    fig, axarr = plt.subplots(rows, 4, figsize=[20,15])\n",
    "    for i in range(a[3]):\n",
    "        row = int(i/4)\n",
    "        x, y = row, i-4*row\n",
    "        axarr[x, y].imshow(np.rot90(activations[layer][sample, :, :, i]))\n",
    "        axarr[x, y].set_xticks([])\n",
    "        axarr[x, y].set_yticks([])"
   ]
  },
  {
   "cell_type": "code",
   "execution_count": 82,
   "metadata": {},
   "outputs": [
    {
     "data": {
      "text/plain": [
       "'classical_guitar'"
      ]
     },
     "execution_count": 82,
     "metadata": {},
     "output_type": "execute_result"
    },
    {
     "data": {
      "image/png": "[encoded data removed]",
      "text/plain": [
       "<matplotlib.figure.Figure at 0x1fa0b5fbcc0>"
      ]
     },
     "metadata": {},
     "output_type": "display_data"
    }
   ],
   "source": [
    "image_number = 29\n",
    "\n",
    "plt.imshow(np.rot90(test_data[image_number,:,:,0]))\n",
    "class_labels[np.argmax(test_labels[image_number])]"
   ]
  },
  {
   "cell_type": "code",
   "execution_count": 83,
   "metadata": {},
   "outputs": [
    {
     "data": {
      "image/png": "[encoded data removed]",
      "text/plain": [
       "<matplotlib.figure.Figure at 0x1fa0b5a36a0>"
      ]
     },
     "metadata": {},
     "output_type": "display_data"
    }
   ],
   "source": [
    "plot_layer(activations, image_number, 2)"
   ]
  },
  {
   "cell_type": "code",
   "execution_count": 84,
   "metadata": {},
   "outputs": [
    {
     "data": {
      "image/png": "[encoded data removed]",
      "text/plain": [
       "<matplotlib.figure.Figure at 0x1fa0baf8400>"
      ]
     },
     "metadata": {},
     "output_type": "display_data"
    }
   ],
   "source": [
    "plot_layer(activations, image_number, 5)"
   ]
  },
  {
   "cell_type": "code",
   "execution_count": null,
   "metadata": {},
   "outputs": [],
   "source": []
  }
 ],
 "metadata": {
  "colab": {
   "collapsed_sections": [],
   "name": "CNN for AED",
   "provenance": [],
   "version": "0.3.2"
  },
  "kernelspec": {
   "display_name": "Python 3",
   "language": "python",
   "name": "python3"
  },
  "language_info": {
   "codemirror_mode": {
    "name": "ipython",
    "version": 3
   },
   "file_extension": ".py",
   "mimetype": "text/x-python",
   "name": "python",
   "nbconvert_exporter": "python",
   "pygments_lexer": "ipython3",
   "version": "3.6.4"
  }
 },
 "nbformat": 4,
 "nbformat_minor": 1
}
