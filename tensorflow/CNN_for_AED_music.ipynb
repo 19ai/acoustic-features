{
 "cells": [
  {
   "cell_type": "markdown",
   "metadata": {
    "colab_type": "text",
    "id": "0X16cagQE-Y-"
   },
   "source": [
    "# CNN for AED with Keras/TensorFlow\n",
    "\n",
    "Date: November 11, 2018\n",
    "\n",
    "Neural network: three convolution layers and three fully connected layers\n",
    "\n",
    "Classification of acoustic events:\n",
    "\n",
    "- Piano music\n",
    "- Framenco guitar music\n",
    "- Classical guitar music\n",
    "- Blues hars music\n",
    "- Tin whistle music\n",
    "- Silence"
   ]
  },
  {
   "cell_type": "markdown",
   "metadata": {
    "colab_type": "text",
    "id": "WwQ-dEltkl5Q"
   },
   "source": [
    "## Preparing data set for CNN"
   ]
  },
  {
   "cell_type": "code",
   "execution_count": 3,
   "metadata": {
    "colab": {
     "base_uri": "https://localhost:8080/",
     "height": 34
    },
    "colab_type": "code",
    "id": "VEJyQsGpV3ug",
    "outputId": "3929aa39-3383-4791-e065-3622e6781181"
   },
   "outputs": [],
   "source": [
    "DATASET_FOLDER = '../dataset/data_music2'\n",
    "\n",
    "%run ../oscilloscope/script/dataset.py\n",
    "\n",
    "ds = DataSet(DATASET_FOLDER)\n",
    "train_data, train_labels, test_data, test_labels = ds.generate()\n",
    "shape = ds.shape\n",
    "class_labels = ds.class_labels"
   ]
  },
  {
   "cell_type": "markdown",
   "metadata": {
    "colab_type": "text",
    "id": "VfUmgxxVk6uM"
   },
   "source": [
    "### CNN model"
   ]
  },
  {
   "cell_type": "code",
   "execution_count": 4,
   "metadata": {
    "colab": {
     "base_uri": "https://localhost:8080/",
     "height": 509
    },
    "colab_type": "code",
    "id": "B2Xg6tGLdMKP",
    "outputId": "ae3daa32-9dbf-4d8b-9a11-7f596dd2e4a6"
   },
   "outputs": [
    {
     "name": "stdout",
     "output_type": "stream",
     "text": [
      "_________________________________________________________________\n",
      "Layer (type)                 Output Shape              Param #   \n",
      "=================================================================\n",
      "conv2d_1 (Conv2D)            (None, 62, 38, 4)         40        \n",
      "_________________________________________________________________\n",
      "max_pooling2d_1 (MaxPooling2 (None, 31, 19, 4)         0         \n",
      "_________________________________________________________________\n",
      "conv2d_2 (Conv2D)            (None, 29, 17, 8)         296       \n",
      "_________________________________________________________________\n",
      "max_pooling2d_2 (MaxPooling2 (None, 14, 8, 8)          0         \n",
      "_________________________________________________________________\n",
      "conv2d_3 (Conv2D)            (None, 12, 6, 16)         1168      \n",
      "_________________________________________________________________\n",
      "max_pooling2d_3 (MaxPooling2 (None, 6, 3, 16)          0         \n",
      "_________________________________________________________________\n",
      "flatten_1 (Flatten)          (None, 288)               0         \n",
      "_________________________________________________________________\n",
      "dropout_1 (Dropout)          (None, 288)               0         \n",
      "_________________________________________________________________\n",
      "dense_1 (Dense)              (None, 6)                 1734      \n",
      "=================================================================\n",
      "Total params: 3,238\n",
      "Trainable params: 3,238\n",
      "Non-trainable params: 0\n",
      "_________________________________________________________________\n"
     ]
    }
   ],
   "source": [
    "from keras import layers\n",
    "from keras import models\n",
    "\n",
    "model = models.Sequential()\n",
    "\n",
    "model.add(layers.Conv2D(4, (3, 3), activation='relu', input_shape=(*shape, 1)))\n",
    "model.add(layers.MaxPooling2D((2,2)))\n",
    "\n",
    "model.add(layers.Conv2D(8, (3, 3), activation='relu'))\n",
    "model.add(layers.MaxPooling2D((2,2)))\n",
    "\n",
    "model.add(layers.Conv2D(16, (3, 3), activation='relu'))\n",
    "model.add(layers.MaxPooling2D((2,2)))\n",
    "\n",
    "model.add(layers.Flatten())\n",
    "model.add(layers.Dropout(0.5))\n",
    "model.add(layers.Dense(len(class_labels), activation='softmax'))\n",
    "\n",
    "model.summary()"
   ]
  },
  {
   "cell_type": "code",
   "execution_count": 5,
   "metadata": {
    "colab": {},
    "colab_type": "code",
    "id": "nRr1L_4ogL6i"
   },
   "outputs": [],
   "source": [
    "model.compile(optimizer='rmsprop', loss='categorical_crossentropy', metrics=['accuracy'])"
   ]
  },
  {
   "cell_type": "code",
   "execution_count": 6,
   "metadata": {},
   "outputs": [
    {
     "data": {
      "image/svg+xml": [
       "<svg height=\"702pt\" viewBox=\"0.00 0.00 217.00 702.00\" width=\"217pt\" xmlns=\"http://www.w3.org/2000/svg\" xmlns:xlink=\"http://www.w3.org/1999/xlink\">\n",
       "<g class=\"graph\" id=\"graph0\" transform=\"scale(1 1) rotate(0) translate(4 698)\">\n",
       "<title>G</title>\n",
       "<polygon fill=\"white\" points=\"-4,4 -4,-698 213,-698 213,4 -4,4\" stroke=\"none\"/>\n",
       "<!-- 2161607056184 -->\n",
       "<g class=\"node\" id=\"node1\"><title>2161607056184</title>\n",
       "<polygon fill=\"none\" points=\"41,-584.5 41,-620.5 168,-620.5 168,-584.5 41,-584.5\" stroke=\"black\"/>\n",
       "<text font-family=\"Times New Roman,serif\" font-size=\"14.00\" text-anchor=\"middle\" x=\"104.5\" y=\"-598.8\">conv2d_1: Conv2D</text>\n",
       "</g>\n",
       "<!-- 2161607057024 -->\n",
       "<g class=\"node\" id=\"node2\"><title>2161607057024</title>\n",
       "<polygon fill=\"none\" points=\"0,-511.5 0,-547.5 209,-547.5 209,-511.5 0,-511.5\" stroke=\"black\"/>\n",
       "<text font-family=\"Times New Roman,serif\" font-size=\"14.00\" text-anchor=\"middle\" x=\"104.5\" y=\"-525.8\">max_pooling2d_1: MaxPooling2D</text>\n",
       "</g>\n",
       "<!-- 2161607056184&#45;&gt;2161607057024 -->\n",
       "<g class=\"edge\" id=\"edge2\"><title>2161607056184-&gt;2161607057024</title>\n",
       "<path d=\"M104.5,-584.313C104.5,-576.289 104.5,-566.547 104.5,-557.569\" fill=\"none\" stroke=\"black\"/>\n",
       "<polygon fill=\"black\" points=\"108,-557.529 104.5,-547.529 101,-557.529 108,-557.529\" stroke=\"black\"/>\n",
       "</g>\n",
       "<!-- 2161606984256 -->\n",
       "<g class=\"node\" id=\"node3\"><title>2161606984256</title>\n",
       "<polygon fill=\"none\" points=\"41,-438.5 41,-474.5 168,-474.5 168,-438.5 41,-438.5\" stroke=\"black\"/>\n",
       "<text font-family=\"Times New Roman,serif\" font-size=\"14.00\" text-anchor=\"middle\" x=\"104.5\" y=\"-452.8\">conv2d_2: Conv2D</text>\n",
       "</g>\n",
       "<!-- 2161607057024&#45;&gt;2161606984256 -->\n",
       "<g class=\"edge\" id=\"edge3\"><title>2161607057024-&gt;2161606984256</title>\n",
       "<path d=\"M104.5,-511.313C104.5,-503.289 104.5,-493.547 104.5,-484.569\" fill=\"none\" stroke=\"black\"/>\n",
       "<polygon fill=\"black\" points=\"108,-484.529 104.5,-474.529 101,-484.529 108,-484.529\" stroke=\"black\"/>\n",
       "</g>\n",
       "<!-- 2161607499560 -->\n",
       "<g class=\"node\" id=\"node4\"><title>2161607499560</title>\n",
       "<polygon fill=\"none\" points=\"0,-365.5 0,-401.5 209,-401.5 209,-365.5 0,-365.5\" stroke=\"black\"/>\n",
       "<text font-family=\"Times New Roman,serif\" font-size=\"14.00\" text-anchor=\"middle\" x=\"104.5\" y=\"-379.8\">max_pooling2d_2: MaxPooling2D</text>\n",
       "</g>\n",
       "<!-- 2161606984256&#45;&gt;2161607499560 -->\n",
       "<g class=\"edge\" id=\"edge4\"><title>2161606984256-&gt;2161607499560</title>\n",
       "<path d=\"M104.5,-438.313C104.5,-430.289 104.5,-420.547 104.5,-411.569\" fill=\"none\" stroke=\"black\"/>\n",
       "<polygon fill=\"black\" points=\"108,-411.529 104.5,-401.529 101,-411.529 108,-411.529\" stroke=\"black\"/>\n",
       "</g>\n",
       "<!-- 2161607050464 -->\n",
       "<g class=\"node\" id=\"node5\"><title>2161607050464</title>\n",
       "<polygon fill=\"none\" points=\"41,-292.5 41,-328.5 168,-328.5 168,-292.5 41,-292.5\" stroke=\"black\"/>\n",
       "<text font-family=\"Times New Roman,serif\" font-size=\"14.00\" text-anchor=\"middle\" x=\"104.5\" y=\"-306.8\">conv2d_3: Conv2D</text>\n",
       "</g>\n",
       "<!-- 2161607499560&#45;&gt;2161607050464 -->\n",
       "<g class=\"edge\" id=\"edge5\"><title>2161607499560-&gt;2161607050464</title>\n",
       "<path d=\"M104.5,-365.313C104.5,-357.289 104.5,-347.547 104.5,-338.569\" fill=\"none\" stroke=\"black\"/>\n",
       "<polygon fill=\"black\" points=\"108,-338.529 104.5,-328.529 101,-338.529 108,-338.529\" stroke=\"black\"/>\n",
       "</g>\n",
       "<!-- 2161607164928 -->\n",
       "<g class=\"node\" id=\"node6\"><title>2161607164928</title>\n",
       "<polygon fill=\"none\" points=\"0,-219.5 0,-255.5 209,-255.5 209,-219.5 0,-219.5\" stroke=\"black\"/>\n",
       "<text font-family=\"Times New Roman,serif\" font-size=\"14.00\" text-anchor=\"middle\" x=\"104.5\" y=\"-233.8\">max_pooling2d_3: MaxPooling2D</text>\n",
       "</g>\n",
       "<!-- 2161607050464&#45;&gt;2161607164928 -->\n",
       "<g class=\"edge\" id=\"edge6\"><title>2161607050464-&gt;2161607164928</title>\n",
       "<path d=\"M104.5,-292.313C104.5,-284.289 104.5,-274.547 104.5,-265.569\" fill=\"none\" stroke=\"black\"/>\n",
       "<polygon fill=\"black\" points=\"108,-265.529 104.5,-255.529 101,-265.529 108,-265.529\" stroke=\"black\"/>\n",
       "</g>\n",
       "<!-- 2161607499504 -->\n",
       "<g class=\"node\" id=\"node7\"><title>2161607499504</title>\n",
       "<polygon fill=\"none\" points=\"50,-146.5 50,-182.5 159,-182.5 159,-146.5 50,-146.5\" stroke=\"black\"/>\n",
       "<text font-family=\"Times New Roman,serif\" font-size=\"14.00\" text-anchor=\"middle\" x=\"104.5\" y=\"-160.8\">flatten_1: Flatten</text>\n",
       "</g>\n",
       "<!-- 2161607164928&#45;&gt;2161607499504 -->\n",
       "<g class=\"edge\" id=\"edge7\"><title>2161607164928-&gt;2161607499504</title>\n",
       "<path d=\"M104.5,-219.313C104.5,-211.289 104.5,-201.547 104.5,-192.569\" fill=\"none\" stroke=\"black\"/>\n",
       "<polygon fill=\"black\" points=\"108,-192.529 104.5,-182.529 101,-192.529 108,-192.529\" stroke=\"black\"/>\n",
       "</g>\n",
       "<!-- 2161607167336 -->\n",
       "<g class=\"node\" id=\"node8\"><title>2161607167336</title>\n",
       "<polygon fill=\"none\" points=\"39.5,-73.5 39.5,-109.5 169.5,-109.5 169.5,-73.5 39.5,-73.5\" stroke=\"black\"/>\n",
       "<text font-family=\"Times New Roman,serif\" font-size=\"14.00\" text-anchor=\"middle\" x=\"104.5\" y=\"-87.8\">dropout_1: Dropout</text>\n",
       "</g>\n",
       "<!-- 2161607499504&#45;&gt;2161607167336 -->\n",
       "<g class=\"edge\" id=\"edge8\"><title>2161607499504-&gt;2161607167336</title>\n",
       "<path d=\"M104.5,-146.313C104.5,-138.289 104.5,-128.547 104.5,-119.569\" fill=\"none\" stroke=\"black\"/>\n",
       "<polygon fill=\"black\" points=\"108,-119.529 104.5,-109.529 101,-119.529 108,-119.529\" stroke=\"black\"/>\n",
       "</g>\n",
       "<!-- 2161607371856 -->\n",
       "<g class=\"node\" id=\"node9\"><title>2161607371856</title>\n",
       "<polygon fill=\"none\" points=\"52.5,-0.5 52.5,-36.5 156.5,-36.5 156.5,-0.5 52.5,-0.5\" stroke=\"black\"/>\n",
       "<text font-family=\"Times New Roman,serif\" font-size=\"14.00\" text-anchor=\"middle\" x=\"104.5\" y=\"-14.8\">dense_1: Dense</text>\n",
       "</g>\n",
       "<!-- 2161607167336&#45;&gt;2161607371856 -->\n",
       "<g class=\"edge\" id=\"edge9\"><title>2161607167336-&gt;2161607371856</title>\n",
       "<path d=\"M104.5,-73.3129C104.5,-65.2895 104.5,-55.5475 104.5,-46.5691\" fill=\"none\" stroke=\"black\"/>\n",
       "<polygon fill=\"black\" points=\"108,-46.5288 104.5,-36.5288 101,-46.5289 108,-46.5288\" stroke=\"black\"/>\n",
       "</g>\n",
       "<!-- 2161607056632 -->\n",
       "<g class=\"node\" id=\"node10\"><title>2161607056632</title>\n",
       "<polygon fill=\"none\" points=\"52.5,-657.5 52.5,-693.5 156.5,-693.5 156.5,-657.5 52.5,-657.5\" stroke=\"black\"/>\n",
       "<text font-family=\"Times New Roman,serif\" font-size=\"14.00\" text-anchor=\"middle\" x=\"104.5\" y=\"-671.8\">2161607056632</text>\n",
       "</g>\n",
       "<!-- 2161607056632&#45;&gt;2161607056184 -->\n",
       "<g class=\"edge\" id=\"edge1\"><title>2161607056632-&gt;2161607056184</title>\n",
       "<path d=\"M104.5,-657.313C104.5,-649.289 104.5,-639.547 104.5,-630.569\" fill=\"none\" stroke=\"black\"/>\n",
       "<polygon fill=\"black\" points=\"108,-630.529 104.5,-620.529 101,-630.529 108,-630.529\" stroke=\"black\"/>\n",
       "</g>\n",
       "</g>\n",
       "</svg>"
      ],
      "text/plain": [
       "<IPython.core.display.SVG object>"
      ]
     },
     "execution_count": 6,
     "metadata": {},
     "output_type": "execute_result"
    }
   ],
   "source": [
    "from IPython.display import SVG\n",
    "from keras.utils.vis_utils import model_to_dot\n",
    "\n",
    "SVG(model_to_dot(model).create(prog='dot', format='svg'))"
   ]
  },
  {
   "cell_type": "markdown",
   "metadata": {
    "colab_type": "text",
    "id": "TfypWUJIlFkz"
   },
   "source": [
    "## Training CNN"
   ]
  },
  {
   "cell_type": "code",
   "execution_count": 7,
   "metadata": {
    "colab": {
     "base_uri": "https://localhost:8080/",
     "height": 931
    },
    "colab_type": "code",
    "id": "zsdmu-ggfvr1",
    "outputId": "77a52558-8ecc-4fc5-e0cb-2b86a75df4c6"
   },
   "outputs": [
    {
     "name": "stdout",
     "output_type": "stream",
     "text": [
      "Train on 1206 samples, validate on 594 samples\n",
      "Epoch 1/30\n",
      "1206/1206 [==============================] - 7s 6ms/step - loss: 1.4536 - acc: 0.4171 - val_loss: 0.9913 - val_acc: 0.7391\n",
      "Epoch 2/30\n",
      "1206/1206 [==============================] - 6s 5ms/step - loss: 0.9632 - acc: 0.6418 - val_loss: 0.6614 - val_acc: 0.7912\n",
      "Epoch 3/30\n",
      "1206/1206 [==============================] - 7s 6ms/step - loss: 0.7436 - acc: 0.7222 - val_loss: 0.5149 - val_acc: 0.8401\n",
      "Epoch 4/30\n",
      "1206/1206 [==============================] - 7s 5ms/step - loss: 0.6239 - acc: 0.7529 - val_loss: 0.4630 - val_acc: 0.8552\n",
      "Epoch 5/30\n",
      "1206/1206 [==============================] - 7s 6ms/step - loss: 0.5653 - acc: 0.7960 - val_loss: 0.4122 - val_acc: 0.8603\n",
      "Epoch 6/30\n",
      "1206/1206 [==============================] - 6s 5ms/step - loss: 0.4877 - acc: 0.8060 - val_loss: 0.3868 - val_acc: 0.8670\n",
      "Epoch 7/30\n",
      "1206/1206 [==============================] - 7s 6ms/step - loss: 0.4471 - acc: 0.8242 - val_loss: 0.3525 - val_acc: 0.8889\n",
      "Epoch 8/30\n",
      "1206/1206 [==============================] - 7s 5ms/step - loss: 0.4110 - acc: 0.8350 - val_loss: 0.3372 - val_acc: 0.8939\n",
      "Epoch 9/30\n",
      "1206/1206 [==============================] - 7s 6ms/step - loss: 0.4000 - acc: 0.8449 - val_loss: 0.3326 - val_acc: 0.8990\n",
      "Epoch 10/30\n",
      "1206/1206 [==============================] - 7s 6ms/step - loss: 0.3583 - acc: 0.8557 - val_loss: 0.3281 - val_acc: 0.8990\n",
      "Epoch 11/30\n",
      "1206/1206 [==============================] - 7s 6ms/step - loss: 0.3457 - acc: 0.8607 - val_loss: 0.3216 - val_acc: 0.8906\n",
      "Epoch 12/30\n",
      "1206/1206 [==============================] - 7s 6ms/step - loss: 0.3223 - acc: 0.8798 - val_loss: 0.3157 - val_acc: 0.8889\n",
      "Epoch 13/30\n",
      "1206/1206 [==============================] - 6s 5ms/step - loss: 0.3138 - acc: 0.8847 - val_loss: 0.2890 - val_acc: 0.9057\n",
      "Epoch 14/30\n",
      "1206/1206 [==============================] - 7s 6ms/step - loss: 0.2831 - acc: 0.8897 - val_loss: 0.2855 - val_acc: 0.9125\n",
      "Epoch 15/30\n",
      "1206/1206 [==============================] - 7s 5ms/step - loss: 0.2851 - acc: 0.8823 - val_loss: 0.2785 - val_acc: 0.9158\n",
      "Epoch 16/30\n",
      "1206/1206 [==============================] - 7s 6ms/step - loss: 0.2720 - acc: 0.8922 - val_loss: 0.2945 - val_acc: 0.9074\n",
      "Epoch 17/30\n",
      "1206/1206 [==============================] - 7s 6ms/step - loss: 0.2722 - acc: 0.8905 - val_loss: 0.2780 - val_acc: 0.9091\n",
      "Epoch 18/30\n",
      "1206/1206 [==============================] - 7s 6ms/step - loss: 0.2574 - acc: 0.9038 - val_loss: 0.2962 - val_acc: 0.8889\n",
      "Epoch 19/30\n",
      "1206/1206 [==============================] - 7s 5ms/step - loss: 0.2528 - acc: 0.8914 - val_loss: 0.2669 - val_acc: 0.9141\n",
      "Epoch 20/30\n",
      "1206/1206 [==============================] - 7s 6ms/step - loss: 0.2575 - acc: 0.9038 - val_loss: 0.2871 - val_acc: 0.8973\n",
      "Epoch 21/30\n",
      "1206/1206 [==============================] - 7s 6ms/step - loss: 0.2392 - acc: 0.9138 - val_loss: 0.2846 - val_acc: 0.9057\n",
      "Epoch 22/30\n",
      "1206/1206 [==============================] - 7s 6ms/step - loss: 0.2153 - acc: 0.9088 - val_loss: 0.2441 - val_acc: 0.9141\n",
      "Epoch 23/30\n",
      "1206/1206 [==============================] - 7s 6ms/step - loss: 0.2075 - acc: 0.9204 - val_loss: 0.2626 - val_acc: 0.8990\n",
      "Epoch 24/30\n",
      "1206/1206 [==============================] - 7s 6ms/step - loss: 0.2230 - acc: 0.9146 - val_loss: 0.2495 - val_acc: 0.9074\n",
      "Epoch 25/30\n",
      "1206/1206 [==============================] - 7s 6ms/step - loss: 0.2098 - acc: 0.9212 - val_loss: 0.2357 - val_acc: 0.9074\n",
      "Epoch 26/30\n",
      "1206/1206 [==============================] - 7s 6ms/step - loss: 0.2026 - acc: 0.9254 - val_loss: 0.2317 - val_acc: 0.9091\n",
      "Epoch 27/30\n",
      "1206/1206 [==============================] - 7s 6ms/step - loss: 0.2063 - acc: 0.9212 - val_loss: 0.2447 - val_acc: 0.9074\n",
      "Epoch 28/30\n",
      "1206/1206 [==============================] - 7s 6ms/step - loss: 0.1974 - acc: 0.9245 - val_loss: 0.2272 - val_acc: 0.9327\n",
      "Epoch 29/30\n",
      "1206/1206 [==============================] - 7s 6ms/step - loss: 0.2019 - acc: 0.9229 - val_loss: 0.2232 - val_acc: 0.9259\n",
      "Epoch 30/30\n",
      "1206/1206 [==============================] - 7s 6ms/step - loss: 0.2099 - acc: 0.9179 - val_loss: 0.2234 - val_acc: 0.9209\n"
     ]
    }
   ],
   "source": [
    "EPOCHS = 30\n",
    "history = model.fit(train_data, train_labels, epochs=EPOCHS, validation_data=(test_data, test_labels))"
   ]
  },
  {
   "cell_type": "code",
   "execution_count": 8,
   "metadata": {},
   "outputs": [
    {
     "data": {
      "image/png": "[encoded data removed]",
      "text/plain": [
       "<matplotlib.figure.Figure at 0x1f74d3ab2b0>"
      ]
     },
     "metadata": {},
     "output_type": "display_data"
    },
    {
     "data": {
      "image/png": "[encoded data removed]",
      "text/plain": [
       "<matplotlib.figure.Figure at 0x1f74d3ab0f0>"
      ]
     },
     "metadata": {},
     "output_type": "display_data"
    }
   ],
   "source": [
    "%run history.py\n",
    "%matplotlib inline\n",
    "\n",
    "plot_accuracy(history)\n",
    "plot_loss(history)"
   ]
  },
  {
   "cell_type": "markdown",
   "metadata": {},
   "source": [
    "## Save the model"
   ]
  },
  {
   "cell_type": "code",
   "execution_count": 9,
   "metadata": {},
   "outputs": [],
   "source": [
    "import datetime\n",
    "\n",
    "dt = datetime.datetime.today().strftime('%Y%m%d%H%M%S')\n",
    "filename = DATASET_FOLDER + '/cnn_for_aed_{}.h5'.format(dt)\n",
    "model.save(filename)"
   ]
  },
  {
   "cell_type": "markdown",
   "metadata": {},
   "source": [
    "## Load the model"
   ]
  },
  {
   "cell_type": "code",
   "execution_count": 10,
   "metadata": {},
   "outputs": [],
   "source": [
    "del model\n",
    "model = models.load_model(filename)"
   ]
  },
  {
   "cell_type": "markdown",
   "metadata": {
    "colab_type": "text",
    "id": "j6con4C3lKC1"
   },
   "source": [
    "## Confirmation"
   ]
  },
  {
   "cell_type": "code",
   "execution_count": 11,
   "metadata": {
    "colab": {
     "base_uri": "https://localhost:8080/",
     "height": 34
    },
    "colab_type": "code",
    "id": "4oZYLLij69wU",
    "outputId": "b37a4b8a-2c80-411f-d8a9-5df1c6dbfe22"
   },
   "outputs": [
    {
     "data": {
      "text/plain": [
       "(1206, 64, 40, 1)"
      ]
     },
     "execution_count": 11,
     "metadata": {},
     "output_type": "execute_result"
    }
   ],
   "source": [
    "import numpy as np\n",
    "import matplotlib.pyplot as plt\n",
    "train_data.shape"
   ]
  },
  {
   "cell_type": "code",
   "execution_count": 12,
   "metadata": {
    "colab": {
     "base_uri": "https://localhost:8080/",
     "height": 193
    },
    "colab_type": "code",
    "id": "zSxXE9FgRBdJ",
    "outputId": "f3a53efe-e99f-4572-f9b4-1bf3c39c77ec"
   },
   "outputs": [],
   "source": [
    "layer_outputs = [layer.output for layer in model.layers]\n",
    "#layer_outputs"
   ]
  },
  {
   "cell_type": "code",
   "execution_count": 13,
   "metadata": {
    "colab": {
     "base_uri": "https://localhost:8080/",
     "height": 34
    },
    "colab_type": "code",
    "id": "dcw7yHKrRkPD",
    "outputId": "a3ed5441-ae48-4635-bf07-ac5060030608"
   },
   "outputs": [],
   "source": [
    "activation_model = models.Model(inputs=model.input, outputs=layer_outputs)\n",
    "activations = activation_model.predict(test_data)\n",
    "#activations[0][0,:,:,0].shape"
   ]
  },
  {
   "cell_type": "code",
   "execution_count": 14,
   "metadata": {},
   "outputs": [
    {
     "data": {
      "text/plain": [
       "['piano',\n",
       " 'classical_guitar',\n",
       " 'framenco_guitar',\n",
       " 'tin_whistle',\n",
       " 'blues_harp',\n",
       " 'silence']"
      ]
     },
     "execution_count": 14,
     "metadata": {},
     "output_type": "execute_result"
    }
   ],
   "source": [
    "class_labels"
   ]
  },
  {
   "cell_type": "code",
   "execution_count": 15,
   "metadata": {
    "colab": {
     "base_uri": "https://localhost:8080/",
     "height": 193
    },
    "colab_type": "code",
    "id": "ccSNAwGKhRn9",
    "outputId": "0ad22e12-713b-4b07-e17b-45d39ff1b80b"
   },
   "outputs": [
    {
     "data": {
      "text/plain": [
       "array([[  0,   0,  99,   0,   0,   0],\n",
       "       [  0,   0,   0,   0,   0,  99],\n",
       "       [  0,   0,   0,   0,   0,  99],\n",
       "       [ 95,   4,   0,   0,   0,   0],\n",
       "       [ 28,  70,   0,   0,   0,   0],\n",
       "       [ 96,   0,   0,   3,   0,   0],\n",
       "       [ 99,   0,   0,   0,   0,   0],\n",
       "       [  0,   0,   0,   0,   0,  99],\n",
       "       [  0,   0,   0, 100,   0,   0],\n",
       "       [  4,   1,   1,  90,   1,   0]])"
      ]
     },
     "execution_count": 15,
     "metadata": {},
     "output_type": "execute_result"
    }
   ],
   "source": [
    "(activations[-1][:10]*100).astype(int)"
   ]
  },
  {
   "cell_type": "code",
   "execution_count": 16,
   "metadata": {
    "colab": {
     "base_uri": "https://localhost:8080/",
     "height": 193
    },
    "colab_type": "code",
    "id": "RoE0nxtuiGIN",
    "outputId": "154437a8-ab72-46f4-f42c-3e6464af47d0"
   },
   "outputs": [
    {
     "data": {
      "text/plain": [
       "array([[0, 0, 1, 0, 0, 0],\n",
       "       [0, 0, 0, 0, 0, 1],\n",
       "       [0, 0, 0, 0, 0, 1],\n",
       "       [1, 0, 0, 0, 0, 0],\n",
       "       [0, 1, 0, 0, 0, 0],\n",
       "       [1, 0, 0, 0, 0, 0],\n",
       "       [1, 0, 0, 0, 0, 0],\n",
       "       [0, 0, 0, 0, 0, 1],\n",
       "       [0, 0, 0, 1, 0, 0],\n",
       "       [1, 0, 0, 0, 0, 0]])"
      ]
     },
     "execution_count": 16,
     "metadata": {},
     "output_type": "execute_result"
    }
   ],
   "source": [
    "test_labels[:10].astype(int)"
   ]
  },
  {
   "cell_type": "code",
   "execution_count": 17,
   "metadata": {},
   "outputs": [],
   "source": [
    "def plot_layer(activations, sample, layer):\n",
    "    a = activations[layer].shape\n",
    "    rows = int(a[3]/4)\n",
    "    fig, axarr = plt.subplots(rows, 4, figsize=[20,15])\n",
    "    for i in range(a[3]):\n",
    "        row = int(i/4)\n",
    "        x, y = row, i-4*row\n",
    "        axarr[x, y].imshow(np.rot90(activations[layer][sample, :, :, i]))\n",
    "        axarr[x, y].set_xticks([])\n",
    "        axarr[x, y].set_yticks([])"
   ]
  },
  {
   "cell_type": "code",
   "execution_count": 18,
   "metadata": {},
   "outputs": [
    {
     "data": {
      "text/plain": [
       "'classical_guitar'"
      ]
     },
     "execution_count": 18,
     "metadata": {},
     "output_type": "execute_result"
    },
    {
     "data": {
      "image/png": "[encoded data removed]",
      "text/plain": [
       "<matplotlib.figure.Figure at 0x1f749d10080>"
      ]
     },
     "metadata": {},
     "output_type": "display_data"
    }
   ],
   "source": [
    "image_number = 25\n",
    "\n",
    "plt.imshow(np.rot90(test_data[image_number,:,:,0]))\n",
    "class_labels[np.argmax(test_labels[image_number])]"
   ]
  },
  {
   "cell_type": "code",
   "execution_count": 19,
   "metadata": {},
   "outputs": [
    {
     "data": {
      "image/png": "[encoded data removed]",
      "text/plain": [
       "<matplotlib.figure.Figure at 0x1f74e6ab0b8>"
      ]
     },
     "metadata": {},
     "output_type": "display_data"
    }
   ],
   "source": [
    "plot_layer(activations, image_number, 2)"
   ]
  },
  {
   "cell_type": "code",
   "execution_count": 20,
   "metadata": {},
   "outputs": [
    {
     "data": {
      "image/png": "[encoded data removed]",
      "text/plain": [
       "<matplotlib.figure.Figure at 0x1f74e6f6908>"
      ]
     },
     "metadata": {},
     "output_type": "display_data"
    }
   ],
   "source": [
    "plot_layer(activations, image_number, 5)"
   ]
  },
  {
   "cell_type": "code",
   "execution_count": null,
   "metadata": {},
   "outputs": [],
   "source": []
  }
 ],
 "metadata": {
  "colab": {
   "collapsed_sections": [],
   "name": "CNN for AED",
   "provenance": [],
   "version": "0.3.2"
  },
  "kernelspec": {
   "display_name": "Python 3",
   "language": "python",
   "name": "python3"
  },
  "language_info": {
   "codemirror_mode": {
    "name": "ipython",
    "version": 3
   },
   "file_extension": ".py",
   "mimetype": "text/x-python",
   "name": "python",
   "nbconvert_exporter": "python",
   "pygments_lexer": "ipython3",
   "version": "3.6.4"
  }
 },
 "nbformat": 4,
 "nbformat_minor": 1
}
