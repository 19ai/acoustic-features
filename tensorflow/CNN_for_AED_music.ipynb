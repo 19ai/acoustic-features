{
 "cells": [
  {
   "cell_type": "markdown",
   "metadata": {
    "colab_type": "text",
    "id": "0X16cagQE-Y-"
   },
   "source": [
    "# CNN for AED with Keras/TensorFlow\n",
    "\n",
    "Date: November 11, 2018 and February 27, 2019\n",
    "\n",
    "Neural network: three convolution layers and three fully connected layers\n",
    "\n",
    "Classification of acoustic events:\n",
    "\n",
    "- Piano music\n",
    "- Framenco guitar music\n",
    "- Classical guitar music\n",
    "- Blues hars music\n",
    "- Tin whistle music\n",
    "- Silence"
   ]
  },
  {
   "cell_type": "markdown",
   "metadata": {
    "colab_type": "text",
    "id": "WwQ-dEltkl5Q"
   },
   "source": [
    "## Preparing data set for CNN"
   ]
  },
  {
   "cell_type": "code",
   "execution_count": 3,
   "metadata": {
    "colab": {
     "base_uri": "https://localhost:8080/",
     "height": 34
    },
    "colab_type": "code",
    "id": "VEJyQsGpV3ug",
    "outputId": "3929aa39-3383-4791-e065-3622e6781181"
   },
   "outputs": [],
   "source": [
    "DATASET_FOLDER = '../dataset/data_music'\n",
    "\n",
    "%run ../oscilloscope/script/dataset.py\n",
    "\n",
    "ds = DataSet(DATASET_FOLDER)\n",
    "train_data, train_labels, test_data, test_labels = ds.generate()\n",
    "shape = ds.shape\n",
    "class_labels = ds.class_labels"
   ]
  },
  {
   "cell_type": "code",
   "execution_count": 4,
   "metadata": {},
   "outputs": [
    {
     "data": {
      "text/plain": [
       "(64, 40)"
      ]
     },
     "execution_count": 4,
     "metadata": {},
     "output_type": "execute_result"
    }
   ],
   "source": [
    "shape"
   ]
  },
  {
   "cell_type": "markdown",
   "metadata": {
    "colab_type": "text",
    "id": "VfUmgxxVk6uM"
   },
   "source": [
    "### CNN model"
   ]
  },
  {
   "cell_type": "code",
   "execution_count": 5,
   "metadata": {
    "colab": {
     "base_uri": "https://localhost:8080/",
     "height": 509
    },
    "colab_type": "code",
    "id": "B2Xg6tGLdMKP",
    "outputId": "ae3daa32-9dbf-4d8b-9a11-7f596dd2e4a6"
   },
   "outputs": [
    {
     "name": "stdout",
     "output_type": "stream",
     "text": [
      "_________________________________________________________________\n",
      "Layer (type)                 Output Shape              Param #   \n",
      "=================================================================\n",
      "conv2d_1 (Conv2D)            (None, 62, 38, 8)         80        \n",
      "_________________________________________________________________\n",
      "max_pooling2d_1 (MaxPooling2 (None, 31, 19, 8)         0         \n",
      "_________________________________________________________________\n",
      "conv2d_2 (Conv2D)            (None, 29, 17, 16)        1168      \n",
      "_________________________________________________________________\n",
      "max_pooling2d_2 (MaxPooling2 (None, 14, 8, 16)         0         \n",
      "_________________________________________________________________\n",
      "conv2d_3 (Conv2D)            (None, 12, 6, 32)         4640      \n",
      "_________________________________________________________________\n",
      "max_pooling2d_3 (MaxPooling2 (None, 6, 3, 32)          0         \n",
      "_________________________________________________________________\n",
      "flatten_1 (Flatten)          (None, 576)               0         \n",
      "_________________________________________________________________\n",
      "dense_1 (Dense)              (None, 64)                36928     \n",
      "_________________________________________________________________\n",
      "dense_2 (Dense)              (None, 64)                4160      \n",
      "_________________________________________________________________\n",
      "dropout_1 (Dropout)          (None, 64)                0         \n",
      "_________________________________________________________________\n",
      "dense_3 (Dense)              (None, 6)                 390       \n",
      "=================================================================\n",
      "Total params: 47,366\n",
      "Trainable params: 47,366\n",
      "Non-trainable params: 0\n",
      "_________________________________________________________________\n"
     ]
    }
   ],
   "source": [
    "from keras import layers\n",
    "from keras import models\n",
    "\n",
    "model = models.Sequential()\n",
    "\n",
    "model.add(layers.Conv2D(8, (3, 3), activation='relu', input_shape=(*shape, 1)))\n",
    "model.add(layers.MaxPooling2D((2,2)))\n",
    "\n",
    "model.add(layers.Conv2D(16, (3, 3), activation='relu'))\n",
    "model.add(layers.MaxPooling2D((2,2)))\n",
    "\n",
    "model.add(layers.Conv2D(32, (3, 3), activation='relu'))\n",
    "model.add(layers.MaxPooling2D((2,2)))\n",
    "\n",
    "model.add(layers.Flatten())\n",
    "model.add(layers.Dense(64, activation='relu'))\n",
    "model.add(layers.Dense(64, activation='relu'))\n",
    "model.add(layers.Dropout(0.5))\n",
    "model.add(layers.Dense(len(class_labels), activation='softmax'))\n",
    "\n",
    "model.summary()"
   ]
  },
  {
   "cell_type": "code",
   "execution_count": 6,
   "metadata": {
    "colab": {},
    "colab_type": "code",
    "id": "nRr1L_4ogL6i"
   },
   "outputs": [],
   "source": [
    "model.compile(optimizer='rmsprop', loss='categorical_crossentropy', metrics=['accuracy'])"
   ]
  },
  {
   "cell_type": "code",
   "execution_count": 7,
   "metadata": {},
   "outputs": [
    {
     "data": {
      "image/svg+xml": [
       "<svg height=\"848pt\" viewBox=\"0.00 0.00 217.00 848.00\" width=\"217pt\" xmlns=\"http://www.w3.org/2000/svg\" xmlns:xlink=\"http://www.w3.org/1999/xlink\">\n",
       "<g class=\"graph\" id=\"graph0\" transform=\"scale(1 1) rotate(0) translate(4 844)\">\n",
       "<title>G</title>\n",
       "<polygon fill=\"white\" points=\"-4,4 -4,-844 213,-844 213,4 -4,4\" stroke=\"none\"/>\n",
       "<!-- 2216128025152 -->\n",
       "<g class=\"node\" id=\"node1\"><title>2216128025152</title>\n",
       "<polygon fill=\"none\" points=\"41,-730.5 41,-766.5 168,-766.5 168,-730.5 41,-730.5\" stroke=\"black\"/>\n",
       "<text font-family=\"Times New Roman,serif\" font-size=\"14.00\" text-anchor=\"middle\" x=\"104.5\" y=\"-744.8\">conv2d_1: Conv2D</text>\n",
       "</g>\n",
       "<!-- 2216128025936 -->\n",
       "<g class=\"node\" id=\"node2\"><title>2216128025936</title>\n",
       "<polygon fill=\"none\" points=\"0,-657.5 0,-693.5 209,-693.5 209,-657.5 0,-657.5\" stroke=\"black\"/>\n",
       "<text font-family=\"Times New Roman,serif\" font-size=\"14.00\" text-anchor=\"middle\" x=\"104.5\" y=\"-671.8\">max_pooling2d_1: MaxPooling2D</text>\n",
       "</g>\n",
       "<!-- 2216128025152&#45;&gt;2216128025936 -->\n",
       "<g class=\"edge\" id=\"edge2\"><title>2216128025152-&gt;2216128025936</title>\n",
       "<path d=\"M104.5,-730.313C104.5,-722.289 104.5,-712.547 104.5,-703.569\" fill=\"none\" stroke=\"black\"/>\n",
       "<polygon fill=\"black\" points=\"108,-703.529 104.5,-693.529 101,-703.529 108,-703.529\" stroke=\"black\"/>\n",
       "</g>\n",
       "<!-- 2216128025320 -->\n",
       "<g class=\"node\" id=\"node3\"><title>2216128025320</title>\n",
       "<polygon fill=\"none\" points=\"41,-584.5 41,-620.5 168,-620.5 168,-584.5 41,-584.5\" stroke=\"black\"/>\n",
       "<text font-family=\"Times New Roman,serif\" font-size=\"14.00\" text-anchor=\"middle\" x=\"104.5\" y=\"-598.8\">conv2d_2: Conv2D</text>\n",
       "</g>\n",
       "<!-- 2216128025936&#45;&gt;2216128025320 -->\n",
       "<g class=\"edge\" id=\"edge3\"><title>2216128025936-&gt;2216128025320</title>\n",
       "<path d=\"M104.5,-657.313C104.5,-649.289 104.5,-639.547 104.5,-630.569\" fill=\"none\" stroke=\"black\"/>\n",
       "<polygon fill=\"black\" points=\"108,-630.529 104.5,-620.529 101,-630.529 108,-630.529\" stroke=\"black\"/>\n",
       "</g>\n",
       "<!-- 2216128178160 -->\n",
       "<g class=\"node\" id=\"node4\"><title>2216128178160</title>\n",
       "<polygon fill=\"none\" points=\"0,-511.5 0,-547.5 209,-547.5 209,-511.5 0,-511.5\" stroke=\"black\"/>\n",
       "<text font-family=\"Times New Roman,serif\" font-size=\"14.00\" text-anchor=\"middle\" x=\"104.5\" y=\"-525.8\">max_pooling2d_2: MaxPooling2D</text>\n",
       "</g>\n",
       "<!-- 2216128025320&#45;&gt;2216128178160 -->\n",
       "<g class=\"edge\" id=\"edge4\"><title>2216128025320-&gt;2216128178160</title>\n",
       "<path d=\"M104.5,-584.313C104.5,-576.289 104.5,-566.547 104.5,-557.569\" fill=\"none\" stroke=\"black\"/>\n",
       "<polygon fill=\"black\" points=\"108,-557.529 104.5,-547.529 101,-557.529 108,-557.529\" stroke=\"black\"/>\n",
       "</g>\n",
       "<!-- 2216128028288 -->\n",
       "<g class=\"node\" id=\"node5\"><title>2216128028288</title>\n",
       "<polygon fill=\"none\" points=\"41,-438.5 41,-474.5 168,-474.5 168,-438.5 41,-438.5\" stroke=\"black\"/>\n",
       "<text font-family=\"Times New Roman,serif\" font-size=\"14.00\" text-anchor=\"middle\" x=\"104.5\" y=\"-452.8\">conv2d_3: Conv2D</text>\n",
       "</g>\n",
       "<!-- 2216128178160&#45;&gt;2216128028288 -->\n",
       "<g class=\"edge\" id=\"edge5\"><title>2216128178160-&gt;2216128028288</title>\n",
       "<path d=\"M104.5,-511.313C104.5,-503.289 104.5,-493.547 104.5,-484.569\" fill=\"none\" stroke=\"black\"/>\n",
       "<polygon fill=\"black\" points=\"108,-484.529 104.5,-474.529 101,-484.529 108,-484.529\" stroke=\"black\"/>\n",
       "</g>\n",
       "<!-- 2216128482720 -->\n",
       "<g class=\"node\" id=\"node6\"><title>2216128482720</title>\n",
       "<polygon fill=\"none\" points=\"0,-365.5 0,-401.5 209,-401.5 209,-365.5 0,-365.5\" stroke=\"black\"/>\n",
       "<text font-family=\"Times New Roman,serif\" font-size=\"14.00\" text-anchor=\"middle\" x=\"104.5\" y=\"-379.8\">max_pooling2d_3: MaxPooling2D</text>\n",
       "</g>\n",
       "<!-- 2216128028288&#45;&gt;2216128482720 -->\n",
       "<g class=\"edge\" id=\"edge6\"><title>2216128028288-&gt;2216128482720</title>\n",
       "<path d=\"M104.5,-438.313C104.5,-430.289 104.5,-420.547 104.5,-411.569\" fill=\"none\" stroke=\"black\"/>\n",
       "<polygon fill=\"black\" points=\"108,-411.529 104.5,-401.529 101,-411.529 108,-411.529\" stroke=\"black\"/>\n",
       "</g>\n",
       "<!-- 2216128337736 -->\n",
       "<g class=\"node\" id=\"node7\"><title>2216128337736</title>\n",
       "<polygon fill=\"none\" points=\"50,-292.5 50,-328.5 159,-328.5 159,-292.5 50,-292.5\" stroke=\"black\"/>\n",
       "<text font-family=\"Times New Roman,serif\" font-size=\"14.00\" text-anchor=\"middle\" x=\"104.5\" y=\"-306.8\">flatten_1: Flatten</text>\n",
       "</g>\n",
       "<!-- 2216128482720&#45;&gt;2216128337736 -->\n",
       "<g class=\"edge\" id=\"edge7\"><title>2216128482720-&gt;2216128337736</title>\n",
       "<path d=\"M104.5,-365.313C104.5,-357.289 104.5,-347.547 104.5,-338.569\" fill=\"none\" stroke=\"black\"/>\n",
       "<polygon fill=\"black\" points=\"108,-338.529 104.5,-328.529 101,-338.529 108,-338.529\" stroke=\"black\"/>\n",
       "</g>\n",
       "<!-- 2216128567952 -->\n",
       "<g class=\"node\" id=\"node8\"><title>2216128567952</title>\n",
       "<polygon fill=\"none\" points=\"52.5,-219.5 52.5,-255.5 156.5,-255.5 156.5,-219.5 52.5,-219.5\" stroke=\"black\"/>\n",
       "<text font-family=\"Times New Roman,serif\" font-size=\"14.00\" text-anchor=\"middle\" x=\"104.5\" y=\"-233.8\">dense_1: Dense</text>\n",
       "</g>\n",
       "<!-- 2216128337736&#45;&gt;2216128567952 -->\n",
       "<g class=\"edge\" id=\"edge8\"><title>2216128337736-&gt;2216128567952</title>\n",
       "<path d=\"M104.5,-292.313C104.5,-284.289 104.5,-274.547 104.5,-265.569\" fill=\"none\" stroke=\"black\"/>\n",
       "<polygon fill=\"black\" points=\"108,-265.529 104.5,-255.529 101,-265.529 108,-265.529\" stroke=\"black\"/>\n",
       "</g>\n",
       "<!-- 2216128567448 -->\n",
       "<g class=\"node\" id=\"node9\"><title>2216128567448</title>\n",
       "<polygon fill=\"none\" points=\"52.5,-146.5 52.5,-182.5 156.5,-182.5 156.5,-146.5 52.5,-146.5\" stroke=\"black\"/>\n",
       "<text font-family=\"Times New Roman,serif\" font-size=\"14.00\" text-anchor=\"middle\" x=\"104.5\" y=\"-160.8\">dense_2: Dense</text>\n",
       "</g>\n",
       "<!-- 2216128567952&#45;&gt;2216128567448 -->\n",
       "<g class=\"edge\" id=\"edge9\"><title>2216128567952-&gt;2216128567448</title>\n",
       "<path d=\"M104.5,-219.313C104.5,-211.289 104.5,-201.547 104.5,-192.569\" fill=\"none\" stroke=\"black\"/>\n",
       "<polygon fill=\"black\" points=\"108,-192.529 104.5,-182.529 101,-192.529 108,-192.529\" stroke=\"black\"/>\n",
       "</g>\n",
       "<!-- 2216128715184 -->\n",
       "<g class=\"node\" id=\"node10\"><title>2216128715184</title>\n",
       "<polygon fill=\"none\" points=\"39.5,-73.5 39.5,-109.5 169.5,-109.5 169.5,-73.5 39.5,-73.5\" stroke=\"black\"/>\n",
       "<text font-family=\"Times New Roman,serif\" font-size=\"14.00\" text-anchor=\"middle\" x=\"104.5\" y=\"-87.8\">dropout_1: Dropout</text>\n",
       "</g>\n",
       "<!-- 2216128567448&#45;&gt;2216128715184 -->\n",
       "<g class=\"edge\" id=\"edge10\"><title>2216128567448-&gt;2216128715184</title>\n",
       "<path d=\"M104.5,-146.313C104.5,-138.289 104.5,-128.547 104.5,-119.569\" fill=\"none\" stroke=\"black\"/>\n",
       "<polygon fill=\"black\" points=\"108,-119.529 104.5,-109.529 101,-119.529 108,-119.529\" stroke=\"black\"/>\n",
       "</g>\n",
       "<!-- 2216128802768 -->\n",
       "<g class=\"node\" id=\"node11\"><title>2216128802768</title>\n",
       "<polygon fill=\"none\" points=\"52.5,-0.5 52.5,-36.5 156.5,-36.5 156.5,-0.5 52.5,-0.5\" stroke=\"black\"/>\n",
       "<text font-family=\"Times New Roman,serif\" font-size=\"14.00\" text-anchor=\"middle\" x=\"104.5\" y=\"-14.8\">dense_3: Dense</text>\n",
       "</g>\n",
       "<!-- 2216128715184&#45;&gt;2216128802768 -->\n",
       "<g class=\"edge\" id=\"edge11\"><title>2216128715184-&gt;2216128802768</title>\n",
       "<path d=\"M104.5,-73.3129C104.5,-65.2895 104.5,-55.5475 104.5,-46.5691\" fill=\"none\" stroke=\"black\"/>\n",
       "<polygon fill=\"black\" points=\"108,-46.5288 104.5,-36.5288 101,-46.5289 108,-46.5288\" stroke=\"black\"/>\n",
       "</g>\n",
       "<!-- 2216128025712 -->\n",
       "<g class=\"node\" id=\"node12\"><title>2216128025712</title>\n",
       "<polygon fill=\"none\" points=\"52.5,-803.5 52.5,-839.5 156.5,-839.5 156.5,-803.5 52.5,-803.5\" stroke=\"black\"/>\n",
       "<text font-family=\"Times New Roman,serif\" font-size=\"14.00\" text-anchor=\"middle\" x=\"104.5\" y=\"-817.8\">2216128025712</text>\n",
       "</g>\n",
       "<!-- 2216128025712&#45;&gt;2216128025152 -->\n",
       "<g class=\"edge\" id=\"edge1\"><title>2216128025712-&gt;2216128025152</title>\n",
       "<path d=\"M104.5,-803.313C104.5,-795.289 104.5,-785.547 104.5,-776.569\" fill=\"none\" stroke=\"black\"/>\n",
       "<polygon fill=\"black\" points=\"108,-776.529 104.5,-766.529 101,-776.529 108,-776.529\" stroke=\"black\"/>\n",
       "</g>\n",
       "</g>\n",
       "</svg>"
      ],
      "text/plain": [
       "<IPython.core.display.SVG object>"
      ]
     },
     "execution_count": 7,
     "metadata": {},
     "output_type": "execute_result"
    }
   ],
   "source": [
    "from IPython.display import SVG\n",
    "from keras.utils.vis_utils import model_to_dot\n",
    "\n",
    "SVG(model_to_dot(model).create(prog='dot', format='svg'))"
   ]
  },
  {
   "cell_type": "markdown",
   "metadata": {
    "colab_type": "text",
    "id": "TfypWUJIlFkz"
   },
   "source": [
    "## Training CNN"
   ]
  },
  {
   "cell_type": "code",
   "execution_count": 8,
   "metadata": {
    "colab": {
     "base_uri": "https://localhost:8080/",
     "height": 931
    },
    "colab_type": "code",
    "id": "zsdmu-ggfvr1",
    "outputId": "77a52558-8ecc-4fc5-e0cb-2b86a75df4c6",
    "scrolled": false
   },
   "outputs": [
    {
     "name": "stdout",
     "output_type": "stream",
     "text": [
      "Train on 384 samples, validate on 216 samples\n",
      "Epoch 1/60\n",
      "384/384 [==============================] - 15s 39ms/step - loss: 1.6765 - acc: 0.2943 - val_loss: 1.4539 - val_acc: 0.3611\n",
      "Epoch 2/60\n",
      "384/384 [==============================] - 14s 35ms/step - loss: 1.3579 - acc: 0.4453 - val_loss: 1.0758 - val_acc: 0.6574\n",
      "Epoch 3/60\n",
      "384/384 [==============================] - 13s 34ms/step - loss: 1.1222 - acc: 0.5339 - val_loss: 0.9141 - val_acc: 0.6991\n",
      "Epoch 4/60\n",
      "384/384 [==============================] - 13s 34ms/step - loss: 0.8828 - acc: 0.6536 - val_loss: 0.7039 - val_acc: 0.7546\n",
      "Epoch 5/60\n",
      "384/384 [==============================] - 12s 32ms/step - loss: 0.8377 - acc: 0.6589 - val_loss: 0.6741 - val_acc: 0.7269\n",
      "Epoch 6/60\n",
      "384/384 [==============================] - 13s 33ms/step - loss: 0.7342 - acc: 0.7005 - val_loss: 0.6218 - val_acc: 0.7361\n",
      "Epoch 7/60\n",
      "384/384 [==============================] - 13s 33ms/step - loss: 0.5922 - acc: 0.7682 - val_loss: 0.5210 - val_acc: 0.7917\n",
      "Epoch 8/60\n",
      "384/384 [==============================] - 12s 32ms/step - loss: 0.5791 - acc: 0.7630 - val_loss: 0.4970 - val_acc: 0.8426\n",
      "Epoch 9/60\n",
      "384/384 [==============================] - 12s 31ms/step - loss: 0.5136 - acc: 0.8177 - val_loss: 0.4869 - val_acc: 0.8102\n",
      "Epoch 10/60\n",
      "384/384 [==============================] - 12s 31ms/step - loss: 0.5325 - acc: 0.7734 - val_loss: 0.4515 - val_acc: 0.8333\n",
      "Epoch 11/60\n",
      "384/384 [==============================] - 13s 34ms/step - loss: 0.4248 - acc: 0.8229 - val_loss: 0.4091 - val_acc: 0.8611\n",
      "Epoch 12/60\n",
      "384/384 [==============================] - 13s 33ms/step - loss: 0.4108 - acc: 0.8438 - val_loss: 0.3911 - val_acc: 0.8611\n",
      "Epoch 13/60\n",
      "384/384 [==============================] - 13s 33ms/step - loss: 0.3769 - acc: 0.8516 - val_loss: 0.3608 - val_acc: 0.8657\n",
      "Epoch 14/60\n",
      "384/384 [==============================] - 13s 33ms/step - loss: 0.3228 - acc: 0.8958 - val_loss: 0.3187 - val_acc: 0.8889\n",
      "Epoch 15/60\n",
      "384/384 [==============================] - 12s 32ms/step - loss: 0.3360 - acc: 0.8828 - val_loss: 0.4038 - val_acc: 0.8565\n",
      "Epoch 16/60\n",
      "384/384 [==============================] - 12s 31ms/step - loss: 0.3151 - acc: 0.8854 - val_loss: 0.3881 - val_acc: 0.8565\n",
      "Epoch 17/60\n",
      "384/384 [==============================] - 12s 32ms/step - loss: 0.2131 - acc: 0.9245 - val_loss: 0.4420 - val_acc: 0.8472\n",
      "Epoch 18/60\n",
      "384/384 [==============================] - 13s 33ms/step - loss: 0.2537 - acc: 0.9089 - val_loss: 0.3034 - val_acc: 0.8843\n",
      "Epoch 19/60\n",
      "384/384 [==============================] - 13s 33ms/step - loss: 0.2201 - acc: 0.9062 - val_loss: 0.3075 - val_acc: 0.8981\n",
      "Epoch 20/60\n",
      "384/384 [==============================] - 13s 33ms/step - loss: 0.2460 - acc: 0.9167 - val_loss: 0.3362 - val_acc: 0.8750\n",
      "Epoch 21/60\n",
      "384/384 [==============================] - 12s 32ms/step - loss: 0.1644 - acc: 0.9531 - val_loss: 0.3113 - val_acc: 0.9028\n",
      "Epoch 22/60\n",
      "384/384 [==============================] - 12s 32ms/step - loss: 0.1214 - acc: 0.9661 - val_loss: 0.7937 - val_acc: 0.7917\n",
      "Epoch 23/60\n",
      "384/384 [==============================] - 13s 33ms/step - loss: 0.2171 - acc: 0.9375 - val_loss: 0.4786 - val_acc: 0.8750\n",
      "Epoch 24/60\n",
      "384/384 [==============================] - 12s 32ms/step - loss: 0.1435 - acc: 0.9427 - val_loss: 0.3624 - val_acc: 0.8889\n",
      "Epoch 25/60\n",
      "384/384 [==============================] - 12s 32ms/step - loss: 0.1281 - acc: 0.9531 - val_loss: 0.3165 - val_acc: 0.8796\n",
      "Epoch 26/60\n",
      "384/384 [==============================] - 13s 33ms/step - loss: 0.1023 - acc: 0.9688 - val_loss: 0.3403 - val_acc: 0.8981\n",
      "Epoch 27/60\n",
      "384/384 [==============================] - 12s 31ms/step - loss: 0.0966 - acc: 0.9531 - val_loss: 0.4467 - val_acc: 0.8796\n",
      "Epoch 28/60\n",
      "384/384 [==============================] - 13s 33ms/step - loss: 0.0995 - acc: 0.9609 - val_loss: 0.3994 - val_acc: 0.8889\n",
      "Epoch 29/60\n",
      "384/384 [==============================] - 12s 31ms/step - loss: 0.1178 - acc: 0.9609 - val_loss: 0.3981 - val_acc: 0.8981\n",
      "Epoch 30/60\n",
      "384/384 [==============================] - 13s 33ms/step - loss: 0.0900 - acc: 0.9609 - val_loss: 0.3405 - val_acc: 0.8935\n",
      "Epoch 31/60\n",
      "384/384 [==============================] - 13s 33ms/step - loss: 0.0505 - acc: 0.9870 - val_loss: 0.3530 - val_acc: 0.9120\n",
      "Epoch 32/60\n",
      "384/384 [==============================] - 12s 31ms/step - loss: 0.0839 - acc: 0.9714 - val_loss: 0.4879 - val_acc: 0.8935\n",
      "Epoch 33/60\n",
      "384/384 [==============================] - 13s 34ms/step - loss: 0.0776 - acc: 0.9635 - val_loss: 0.4909 - val_acc: 0.8704\n",
      "Epoch 34/60\n",
      "384/384 [==============================] - 12s 32ms/step - loss: 0.0543 - acc: 0.9818 - val_loss: 0.3372 - val_acc: 0.9167\n",
      "Epoch 35/60\n",
      "384/384 [==============================] - 12s 31ms/step - loss: 0.1072 - acc: 0.9661 - val_loss: 0.5730 - val_acc: 0.8565\n",
      "Epoch 36/60\n",
      "384/384 [==============================] - 12s 32ms/step - loss: 0.0804 - acc: 0.9844 - val_loss: 0.3898 - val_acc: 0.8889\n",
      "Epoch 37/60\n",
      "384/384 [==============================] - 13s 33ms/step - loss: 0.0381 - acc: 0.9896 - val_loss: 0.3329 - val_acc: 0.8935\n",
      "Epoch 38/60\n",
      "384/384 [==============================] - 14s 35ms/step - loss: 0.0277 - acc: 0.9948 - val_loss: 0.4366 - val_acc: 0.9028\n",
      "Epoch 39/60\n",
      "384/384 [==============================] - 13s 35ms/step - loss: 0.0648 - acc: 0.9688 - val_loss: 0.4419 - val_acc: 0.8981\n",
      "Epoch 40/60\n",
      "384/384 [==============================] - 12s 32ms/step - loss: 0.0442 - acc: 0.9870 - val_loss: 0.5510 - val_acc: 0.8750\n",
      "Epoch 41/60\n",
      "384/384 [==============================] - 13s 33ms/step - loss: 0.0527 - acc: 0.9792 - val_loss: 0.4149 - val_acc: 0.8981\n",
      "Epoch 42/60\n",
      "384/384 [==============================] - 13s 34ms/step - loss: 0.0513 - acc: 0.9844 - val_loss: 0.3790 - val_acc: 0.9074\n",
      "Epoch 43/60\n",
      "384/384 [==============================] - 12s 31ms/step - loss: 0.0882 - acc: 0.9792 - val_loss: 0.4721 - val_acc: 0.9167\n",
      "Epoch 44/60\n",
      "384/384 [==============================] - 12s 32ms/step - loss: 0.0164 - acc: 0.9922 - val_loss: 0.5085 - val_acc: 0.9074\n",
      "Epoch 45/60\n",
      "384/384 [==============================] - 13s 33ms/step - loss: 0.0788 - acc: 0.9766 - val_loss: 0.4551 - val_acc: 0.8889\n",
      "Epoch 46/60\n",
      "384/384 [==============================] - 13s 33ms/step - loss: 0.0187 - acc: 0.9922 - val_loss: 0.4766 - val_acc: 0.8889\n",
      "Epoch 47/60\n",
      "384/384 [==============================] - 12s 31ms/step - loss: 0.0158 - acc: 0.9974 - val_loss: 0.5033 - val_acc: 0.9074\n",
      "Epoch 48/60\n",
      "384/384 [==============================] - 12s 32ms/step - loss: 0.0320 - acc: 0.9870 - val_loss: 0.4559 - val_acc: 0.9074\n",
      "Epoch 49/60\n",
      "384/384 [==============================] - 13s 34ms/step - loss: 0.0817 - acc: 0.9792 - val_loss: 0.4410 - val_acc: 0.9074\n",
      "Epoch 50/60\n",
      "384/384 [==============================] - 13s 33ms/step - loss: 0.0218 - acc: 0.9896 - val_loss: 0.5113 - val_acc: 0.9074\n",
      "Epoch 51/60\n",
      "384/384 [==============================] - 12s 32ms/step - loss: 0.0080 - acc: 1.0000 - val_loss: 0.4823 - val_acc: 0.8981\n",
      "Epoch 52/60\n",
      "384/384 [==============================] - 13s 33ms/step - loss: 0.0129 - acc: 0.9974 - val_loss: 0.6484 - val_acc: 0.8611\n",
      "Epoch 53/60\n",
      "384/384 [==============================] - 13s 34ms/step - loss: 0.0647 - acc: 0.9766 - val_loss: 0.5342 - val_acc: 0.9167\n",
      "Epoch 54/60\n",
      "384/384 [==============================] - 13s 34ms/step - loss: 0.0158 - acc: 0.9948 - val_loss: 0.6236 - val_acc: 0.8843\n",
      "Epoch 55/60\n",
      "384/384 [==============================] - 12s 32ms/step - loss: 0.0327 - acc: 0.9870 - val_loss: 0.5329 - val_acc: 0.8750\n",
      "Epoch 56/60\n",
      "384/384 [==============================] - 13s 35ms/step - loss: 0.0094 - acc: 1.0000 - val_loss: 0.5300 - val_acc: 0.8843\n",
      "Epoch 57/60\n",
      "384/384 [==============================] - 13s 34ms/step - loss: 0.0072 - acc: 1.0000 - val_loss: 0.4810 - val_acc: 0.8935\n",
      "Epoch 58/60\n",
      "384/384 [==============================] - 13s 34ms/step - loss: 0.0509 - acc: 0.9844 - val_loss: 0.8037 - val_acc: 0.8843\n",
      "Epoch 59/60\n",
      "384/384 [==============================] - 13s 33ms/step - loss: 0.0245 - acc: 0.9948 - val_loss: 0.6527 - val_acc: 0.9028\n",
      "Epoch 60/60\n",
      "384/384 [==============================] - 13s 34ms/step - loss: 0.0049 - acc: 1.0000 - val_loss: 0.5108 - val_acc: 0.9167\n"
     ]
    }
   ],
   "source": [
    "EPOCHS = 60\n",
    "history = model.fit(train_data, train_labels, epochs=EPOCHS, validation_data=(test_data, test_labels))"
   ]
  },
  {
   "cell_type": "code",
   "execution_count": 9,
   "metadata": {},
   "outputs": [
    {
     "data": {
      "image/png": "[encoded data removed]",
      "text/plain": [
       "<matplotlib.figure.Figure at 0x203fb845470>"
      ]
     },
     "metadata": {},
     "output_type": "display_data"
    },
    {
     "data": {
      "image/png": "[encoded data removed]",
      "text/plain": [
       "<matplotlib.figure.Figure at 0x203fb845cc0>"
      ]
     },
     "metadata": {},
     "output_type": "display_data"
    }
   ],
   "source": [
    "%run history.py\n",
    "%matplotlib inline\n",
    "\n",
    "plot_accuracy(history)\n",
    "plot_loss(history)"
   ]
  },
  {
   "cell_type": "markdown",
   "metadata": {},
   "source": [
    "## Save the model"
   ]
  },
  {
   "cell_type": "code",
   "execution_count": 10,
   "metadata": {},
   "outputs": [],
   "source": [
    "import datetime\n",
    "\n",
    "dt = datetime.datetime.today().strftime('%Y%m%d%H%M%S')\n",
    "filename = DATASET_FOLDER + '/cnn_for_aed_{}.h5'.format(dt)\n",
    "model.save(filename)"
   ]
  },
  {
   "cell_type": "markdown",
   "metadata": {},
   "source": [
    "## Load the model"
   ]
  },
  {
   "cell_type": "code",
   "execution_count": 11,
   "metadata": {},
   "outputs": [],
   "source": [
    "del model\n",
    "model = models.load_model(filename)"
   ]
  },
  {
   "cell_type": "markdown",
   "metadata": {
    "colab_type": "text",
    "id": "j6con4C3lKC1"
   },
   "source": [
    "## Confirmation"
   ]
  },
  {
   "cell_type": "code",
   "execution_count": 12,
   "metadata": {
    "colab": {
     "base_uri": "https://localhost:8080/",
     "height": 34
    },
    "colab_type": "code",
    "id": "4oZYLLij69wU",
    "outputId": "b37a4b8a-2c80-411f-d8a9-5df1c6dbfe22"
   },
   "outputs": [
    {
     "data": {
      "text/plain": [
       "(384, 64, 40, 1)"
      ]
     },
     "execution_count": 12,
     "metadata": {},
     "output_type": "execute_result"
    }
   ],
   "source": [
    "import numpy as np\n",
    "import matplotlib.pyplot as plt\n",
    "train_data.shape"
   ]
  },
  {
   "cell_type": "code",
   "execution_count": 13,
   "metadata": {
    "colab": {
     "base_uri": "https://localhost:8080/",
     "height": 193
    },
    "colab_type": "code",
    "id": "zSxXE9FgRBdJ",
    "outputId": "f3a53efe-e99f-4572-f9b4-1bf3c39c77ec"
   },
   "outputs": [],
   "source": [
    "layer_outputs = [layer.output for layer in model.layers]\n",
    "#layer_outputs"
   ]
  },
  {
   "cell_type": "code",
   "execution_count": 14,
   "metadata": {
    "colab": {
     "base_uri": "https://localhost:8080/",
     "height": 34
    },
    "colab_type": "code",
    "id": "dcw7yHKrRkPD",
    "outputId": "a3ed5441-ae48-4635-bf07-ac5060030608"
   },
   "outputs": [],
   "source": [
    "activation_model = models.Model(inputs=model.input, outputs=layer_outputs)\n",
    "activations = activation_model.predict(test_data)\n",
    "#activations[0][0,:,:,0].shape"
   ]
  },
  {
   "cell_type": "code",
   "execution_count": 15,
   "metadata": {},
   "outputs": [
    {
     "data": {
      "text/plain": [
       "['piano',\n",
       " 'classical_guitar',\n",
       " 'framenco_guitar',\n",
       " 'blues_harp',\n",
       " 'tin_whistle',\n",
       " 'silence']"
      ]
     },
     "execution_count": 15,
     "metadata": {},
     "output_type": "execute_result"
    }
   ],
   "source": [
    "class_labels"
   ]
  },
  {
   "cell_type": "code",
   "execution_count": 16,
   "metadata": {
    "colab": {
     "base_uri": "https://localhost:8080/",
     "height": 193
    },
    "colab_type": "code",
    "id": "ccSNAwGKhRn9",
    "outputId": "0ad22e12-713b-4b07-e17b-45d39ff1b80b"
   },
   "outputs": [
    {
     "data": {
      "text/plain": [
       "array([[  0,   0,   0, 100,   0,   0],\n",
       "       [ 99,   0,   0,   0,   0,   0],\n",
       "       [  0,  53,  13,   5,   0,  26],\n",
       "       [  0,   0,   0,   0,   0, 100],\n",
       "       [  0,   0,   0,   0,   0, 100],\n",
       "       [  0,  18,   0,  81,   0,   0],\n",
       "       [  0,   0,   0,   0, 100,   0],\n",
       "       [  0,   0,  99,   0,   0,   0],\n",
       "       [  0,  19,  80,   0,   0,   0],\n",
       "       [ 99,   0,   0,   0,   0,   0]])"
      ]
     },
     "execution_count": 16,
     "metadata": {},
     "output_type": "execute_result"
    }
   ],
   "source": [
    "(activations[-1][:10]*100).astype(int)"
   ]
  },
  {
   "cell_type": "code",
   "execution_count": 17,
   "metadata": {
    "colab": {
     "base_uri": "https://localhost:8080/",
     "height": 193
    },
    "colab_type": "code",
    "id": "RoE0nxtuiGIN",
    "outputId": "154437a8-ab72-46f4-f42c-3e6464af47d0"
   },
   "outputs": [
    {
     "data": {
      "text/plain": [
       "array([[0, 0, 0, 1, 0, 0],\n",
       "       [1, 0, 0, 0, 0, 0],\n",
       "       [0, 1, 0, 0, 0, 0],\n",
       "       [0, 0, 0, 0, 0, 1],\n",
       "       [0, 0, 0, 0, 0, 1],\n",
       "       [0, 0, 0, 1, 0, 0],\n",
       "       [0, 0, 0, 0, 1, 0],\n",
       "       [0, 0, 1, 0, 0, 0],\n",
       "       [0, 1, 0, 0, 0, 0],\n",
       "       [1, 0, 0, 0, 0, 0]])"
      ]
     },
     "execution_count": 17,
     "metadata": {},
     "output_type": "execute_result"
    }
   ],
   "source": [
    "test_labels[:10].astype(int)"
   ]
  },
  {
   "cell_type": "code",
   "execution_count": 18,
   "metadata": {},
   "outputs": [],
   "source": [
    "def plot_layer(activations, sample, layer):\n",
    "    a = activations[layer].shape\n",
    "    rows = int(a[3]/4)\n",
    "    fig, axarr = plt.subplots(rows, 4, figsize=[20,15])\n",
    "    for i in range(a[3]):\n",
    "        row = int(i/4)\n",
    "        x, y = row, i-4*row\n",
    "        axarr[x, y].imshow(np.rot90(activations[layer][sample, :, :, i]))\n",
    "        axarr[x, y].set_xticks([])\n",
    "        axarr[x, y].set_yticks([])"
   ]
  },
  {
   "cell_type": "code",
   "execution_count": 19,
   "metadata": {},
   "outputs": [
    {
     "data": {
      "text/plain": [
       "'blues_harp'"
      ]
     },
     "execution_count": 19,
     "metadata": {},
     "output_type": "execute_result"
    },
    {
     "data": {
      "image/png": "[encoded data removed]",
      "text/plain": [
       "<matplotlib.figure.Figure at 0x203fda32da0>"
      ]
     },
     "metadata": {},
     "output_type": "display_data"
    }
   ],
   "source": [
    "image_number = 29\n",
    "\n",
    "plt.imshow(np.rot90(test_data[image_number,:,:,0]))\n",
    "class_labels[np.argmax(test_labels[image_number])]"
   ]
  },
  {
   "cell_type": "code",
   "execution_count": 20,
   "metadata": {},
   "outputs": [
    {
     "data": {
      "image/png": "[encoded data removed]",
      "text/plain": [
       "<matplotlib.figure.Figure at 0x203fd9507f0>"
      ]
     },
     "metadata": {},
     "output_type": "display_data"
    }
   ],
   "source": [
    "plot_layer(activations, image_number, 2)"
   ]
  },
  {
   "cell_type": "code",
   "execution_count": 21,
   "metadata": {},
   "outputs": [
    {
     "data": {
      "image/png": "[encoded data removed]",
      "text/plain": [
       "<matplotlib.figure.Figure at 0x203820d5358>"
      ]
     },
     "metadata": {},
     "output_type": "display_data"
    }
   ],
   "source": [
    "plot_layer(activations, image_number, 5)"
   ]
  },
  {
   "cell_type": "code",
   "execution_count": null,
   "metadata": {},
   "outputs": [],
   "source": []
  }
 ],
 "metadata": {
  "colab": {
   "collapsed_sections": [],
   "name": "CNN for AED",
   "provenance": [],
   "version": "0.3.2"
  },
  "kernelspec": {
   "display_name": "Python 3",
   "language": "python",
   "name": "python3"
  },
  "language_info": {
   "codemirror_mode": {
    "name": "ipython",
    "version": 3
   },
   "file_extension": ".py",
   "mimetype": "text/x-python",
   "name": "python",
   "nbconvert_exporter": "python",
   "pygments_lexer": "ipython3",
   "version": "3.6.4"
  }
 },
 "nbformat": 4,
 "nbformat_minor": 1
}
