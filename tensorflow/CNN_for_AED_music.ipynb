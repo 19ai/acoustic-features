{
 "cells": [
  {
   "cell_type": "markdown",
   "metadata": {
    "colab_type": "text",
    "id": "0X16cagQE-Y-"
   },
   "source": [
    "# CNN for AED with Keras/TensorFlow\n",
    "\n",
    "Date: November 11, 2018 and February 27, 2019\n",
    "\n",
    "Neural network: three convolution layers and three fully connected layers\n",
    "\n",
    "Classification of acoustic events:\n",
    "\n",
    "- Piano music\n",
    "- Framenco guitar music\n",
    "- Classical guitar music\n",
    "- Blues hars music\n",
    "- Tin whistle music\n",
    "- Silence"
   ]
  },
  {
   "cell_type": "markdown",
   "metadata": {
    "colab_type": "text",
    "id": "WwQ-dEltkl5Q"
   },
   "source": [
    "## Preparing data set for CNN"
   ]
  },
  {
   "cell_type": "code",
   "execution_count": 11,
   "metadata": {
    "colab": {
     "base_uri": "https://localhost:8080/",
     "height": 34
    },
    "colab_type": "code",
    "id": "VEJyQsGpV3ug",
    "outputId": "3929aa39-3383-4791-e065-3622e6781181"
   },
   "outputs": [],
   "source": [
    "DATASET_FOLDER = '../dataset/data_music'\n",
    "\n",
    "%run ../oscilloscope/script/dataset.py\n",
    "\n",
    "ds = DataSet(DATASET_FOLDER)\n",
    "train_data, train_labels, test_data, test_labels = ds.generate()\n",
    "shape = ds.shape\n",
    "class_labels = ds.class_labels"
   ]
  },
  {
   "cell_type": "code",
   "execution_count": 12,
   "metadata": {},
   "outputs": [
    {
     "data": {
      "text/plain": [
       "(64, 40)"
      ]
     },
     "execution_count": 12,
     "metadata": {},
     "output_type": "execute_result"
    }
   ],
   "source": [
    "shape"
   ]
  },
  {
   "cell_type": "markdown",
   "metadata": {
    "colab_type": "text",
    "id": "VfUmgxxVk6uM"
   },
   "source": [
    "### CNN model"
   ]
  },
  {
   "cell_type": "code",
   "execution_count": 13,
   "metadata": {
    "colab": {
     "base_uri": "https://localhost:8080/",
     "height": 509
    },
    "colab_type": "code",
    "id": "B2Xg6tGLdMKP",
    "outputId": "ae3daa32-9dbf-4d8b-9a11-7f596dd2e4a6"
   },
   "outputs": [
    {
     "name": "stdout",
     "output_type": "stream",
     "text": [
      "_________________________________________________________________\n",
      "Layer (type)                 Output Shape              Param #   \n",
      "=================================================================\n",
      "conv2d_13 (Conv2D)           (None, 62, 38, 4)         40        \n",
      "_________________________________________________________________\n",
      "max_pooling2d_9 (MaxPooling2 (None, 31, 19, 4)         0         \n",
      "_________________________________________________________________\n",
      "conv2d_14 (Conv2D)           (None, 29, 17, 8)         296       \n",
      "_________________________________________________________________\n",
      "max_pooling2d_10 (MaxPooling (None, 14, 8, 8)          0         \n",
      "_________________________________________________________________\n",
      "conv2d_15 (Conv2D)           (None, 12, 6, 16)         1168      \n",
      "_________________________________________________________________\n",
      "max_pooling2d_11 (MaxPooling (None, 6, 3, 16)          0         \n",
      "_________________________________________________________________\n",
      "flatten_1 (Flatten)          (None, 288)               0         \n",
      "_________________________________________________________________\n",
      "dropout_1 (Dropout)          (None, 288)               0         \n",
      "_________________________________________________________________\n",
      "dense_1 (Dense)              (None, 6)                 1734      \n",
      "=================================================================\n",
      "Total params: 3,238\n",
      "Trainable params: 3,238\n",
      "Non-trainable params: 0\n",
      "_________________________________________________________________\n"
     ]
    }
   ],
   "source": [
    "from keras import layers\n",
    "from keras import models\n",
    "\n",
    "model = models.Sequential()\n",
    "\n",
    "model.add(layers.Conv2D(4, (3, 3), activation='relu', input_shape=(*shape, 1)))\n",
    "model.add(layers.MaxPooling2D((2,2)))\n",
    "\n",
    "model.add(layers.Conv2D(8, (3, 3), activation='relu'))\n",
    "model.add(layers.MaxPooling2D((2,2)))\n",
    "\n",
    "model.add(layers.Conv2D(16, (3, 3), activation='relu'))\n",
    "model.add(layers.MaxPooling2D((2,2)))\n",
    "\n",
    "model.add(layers.Flatten())\n",
    "model.add(layers.Dropout(0.5))\n",
    "model.add(layers.Dense(len(class_labels), activation='softmax'))\n",
    "\n",
    "model.summary()"
   ]
  },
  {
   "cell_type": "code",
   "execution_count": 14,
   "metadata": {
    "colab": {},
    "colab_type": "code",
    "id": "nRr1L_4ogL6i"
   },
   "outputs": [],
   "source": [
    "model.compile(optimizer='rmsprop', loss='categorical_crossentropy', metrics=['accuracy'])"
   ]
  },
  {
   "cell_type": "code",
   "execution_count": 15,
   "metadata": {},
   "outputs": [
    {
     "data": {
      "image/svg+xml": [
       "<svg height=\"702pt\" viewBox=\"0.00 0.00 223.00 702.00\" width=\"223pt\" xmlns=\"http://www.w3.org/2000/svg\" xmlns:xlink=\"http://www.w3.org/1999/xlink\">\n",
       "<g class=\"graph\" id=\"graph0\" transform=\"scale(1 1) rotate(0) translate(4 698)\">\n",
       "<title>G</title>\n",
       "<polygon fill=\"white\" points=\"-4,4 -4,-698 219,-698 219,4 -4,4\" stroke=\"none\"/>\n",
       "<!-- 1522512411952 -->\n",
       "<g class=\"node\" id=\"node1\"><title>1522512411952</title>\n",
       "<polygon fill=\"none\" points=\"40.5,-584.5 40.5,-620.5 174.5,-620.5 174.5,-584.5 40.5,-584.5\" stroke=\"black\"/>\n",
       "<text font-family=\"Times New Roman,serif\" font-size=\"14.00\" text-anchor=\"middle\" x=\"107.5\" y=\"-598.8\">conv2d_13: Conv2D</text>\n",
       "</g>\n",
       "<!-- 1522512410944 -->\n",
       "<g class=\"node\" id=\"node2\"><title>1522512410944</title>\n",
       "<polygon fill=\"none\" points=\"3,-511.5 3,-547.5 212,-547.5 212,-511.5 3,-511.5\" stroke=\"black\"/>\n",
       "<text font-family=\"Times New Roman,serif\" font-size=\"14.00\" text-anchor=\"middle\" x=\"107.5\" y=\"-525.8\">max_pooling2d_9: MaxPooling2D</text>\n",
       "</g>\n",
       "<!-- 1522512411952&#45;&gt;1522512410944 -->\n",
       "<g class=\"edge\" id=\"edge2\"><title>1522512411952-&gt;1522512410944</title>\n",
       "<path d=\"M107.5,-584.313C107.5,-576.289 107.5,-566.547 107.5,-557.569\" fill=\"none\" stroke=\"black\"/>\n",
       "<polygon fill=\"black\" points=\"111,-557.529 107.5,-547.529 104,-557.529 111,-557.529\" stroke=\"black\"/>\n",
       "</g>\n",
       "<!-- 1522512411896 -->\n",
       "<g class=\"node\" id=\"node3\"><title>1522512411896</title>\n",
       "<polygon fill=\"none\" points=\"40.5,-438.5 40.5,-474.5 174.5,-474.5 174.5,-438.5 40.5,-438.5\" stroke=\"black\"/>\n",
       "<text font-family=\"Times New Roman,serif\" font-size=\"14.00\" text-anchor=\"middle\" x=\"107.5\" y=\"-452.8\">conv2d_14: Conv2D</text>\n",
       "</g>\n",
       "<!-- 1522512410944&#45;&gt;1522512411896 -->\n",
       "<g class=\"edge\" id=\"edge3\"><title>1522512410944-&gt;1522512411896</title>\n",
       "<path d=\"M107.5,-511.313C107.5,-503.289 107.5,-493.547 107.5,-484.569\" fill=\"none\" stroke=\"black\"/>\n",
       "<polygon fill=\"black\" points=\"111,-484.529 107.5,-474.529 104,-484.529 111,-484.529\" stroke=\"black\"/>\n",
       "</g>\n",
       "<!-- 1522512492416 -->\n",
       "<g class=\"node\" id=\"node4\"><title>1522512492416</title>\n",
       "<polygon fill=\"none\" points=\"0,-365.5 0,-401.5 215,-401.5 215,-365.5 0,-365.5\" stroke=\"black\"/>\n",
       "<text font-family=\"Times New Roman,serif\" font-size=\"14.00\" text-anchor=\"middle\" x=\"107.5\" y=\"-379.8\">max_pooling2d_10: MaxPooling2D</text>\n",
       "</g>\n",
       "<!-- 1522512411896&#45;&gt;1522512492416 -->\n",
       "<g class=\"edge\" id=\"edge4\"><title>1522512411896-&gt;1522512492416</title>\n",
       "<path d=\"M107.5,-438.313C107.5,-430.289 107.5,-420.547 107.5,-411.569\" fill=\"none\" stroke=\"black\"/>\n",
       "<polygon fill=\"black\" points=\"111,-411.529 107.5,-401.529 104,-411.529 111,-411.529\" stroke=\"black\"/>\n",
       "</g>\n",
       "<!-- 1522512491072 -->\n",
       "<g class=\"node\" id=\"node5\"><title>1522512491072</title>\n",
       "<polygon fill=\"none\" points=\"40.5,-292.5 40.5,-328.5 174.5,-328.5 174.5,-292.5 40.5,-292.5\" stroke=\"black\"/>\n",
       "<text font-family=\"Times New Roman,serif\" font-size=\"14.00\" text-anchor=\"middle\" x=\"107.5\" y=\"-306.8\">conv2d_15: Conv2D</text>\n",
       "</g>\n",
       "<!-- 1522512492416&#45;&gt;1522512491072 -->\n",
       "<g class=\"edge\" id=\"edge5\"><title>1522512492416-&gt;1522512491072</title>\n",
       "<path d=\"M107.5,-365.313C107.5,-357.289 107.5,-347.547 107.5,-338.569\" fill=\"none\" stroke=\"black\"/>\n",
       "<polygon fill=\"black\" points=\"111,-338.529 107.5,-328.529 104,-338.529 111,-338.529\" stroke=\"black\"/>\n",
       "</g>\n",
       "<!-- 1522512574672 -->\n",
       "<g class=\"node\" id=\"node6\"><title>1522512574672</title>\n",
       "<polygon fill=\"none\" points=\"0,-219.5 0,-255.5 215,-255.5 215,-219.5 0,-219.5\" stroke=\"black\"/>\n",
       "<text font-family=\"Times New Roman,serif\" font-size=\"14.00\" text-anchor=\"middle\" x=\"107.5\" y=\"-233.8\">max_pooling2d_11: MaxPooling2D</text>\n",
       "</g>\n",
       "<!-- 1522512491072&#45;&gt;1522512574672 -->\n",
       "<g class=\"edge\" id=\"edge6\"><title>1522512491072-&gt;1522512574672</title>\n",
       "<path d=\"M107.5,-292.313C107.5,-284.289 107.5,-274.547 107.5,-265.569\" fill=\"none\" stroke=\"black\"/>\n",
       "<polygon fill=\"black\" points=\"111,-265.529 107.5,-255.529 104,-265.529 111,-265.529\" stroke=\"black\"/>\n",
       "</g>\n",
       "<!-- 1522511833072 -->\n",
       "<g class=\"node\" id=\"node7\"><title>1522511833072</title>\n",
       "<polygon fill=\"none\" points=\"53,-146.5 53,-182.5 162,-182.5 162,-146.5 53,-146.5\" stroke=\"black\"/>\n",
       "<text font-family=\"Times New Roman,serif\" font-size=\"14.00\" text-anchor=\"middle\" x=\"107.5\" y=\"-160.8\">flatten_1: Flatten</text>\n",
       "</g>\n",
       "<!-- 1522512574672&#45;&gt;1522511833072 -->\n",
       "<g class=\"edge\" id=\"edge7\"><title>1522512574672-&gt;1522511833072</title>\n",
       "<path d=\"M107.5,-219.313C107.5,-211.289 107.5,-201.547 107.5,-192.569\" fill=\"none\" stroke=\"black\"/>\n",
       "<polygon fill=\"black\" points=\"111,-192.529 107.5,-182.529 104,-192.529 111,-192.529\" stroke=\"black\"/>\n",
       "</g>\n",
       "<!-- 1522512571696 -->\n",
       "<g class=\"node\" id=\"node8\"><title>1522512571696</title>\n",
       "<polygon fill=\"none\" points=\"42.5,-73.5 42.5,-109.5 172.5,-109.5 172.5,-73.5 42.5,-73.5\" stroke=\"black\"/>\n",
       "<text font-family=\"Times New Roman,serif\" font-size=\"14.00\" text-anchor=\"middle\" x=\"107.5\" y=\"-87.8\">dropout_1: Dropout</text>\n",
       "</g>\n",
       "<!-- 1522511833072&#45;&gt;1522512571696 -->\n",
       "<g class=\"edge\" id=\"edge8\"><title>1522511833072-&gt;1522512571696</title>\n",
       "<path d=\"M107.5,-146.313C107.5,-138.289 107.5,-128.547 107.5,-119.569\" fill=\"none\" stroke=\"black\"/>\n",
       "<polygon fill=\"black\" points=\"111,-119.529 107.5,-109.529 104,-119.529 111,-119.529\" stroke=\"black\"/>\n",
       "</g>\n",
       "<!-- 1522512571640 -->\n",
       "<g class=\"node\" id=\"node9\"><title>1522512571640</title>\n",
       "<polygon fill=\"none\" points=\"55.5,-0.5 55.5,-36.5 159.5,-36.5 159.5,-0.5 55.5,-0.5\" stroke=\"black\"/>\n",
       "<text font-family=\"Times New Roman,serif\" font-size=\"14.00\" text-anchor=\"middle\" x=\"107.5\" y=\"-14.8\">dense_1: Dense</text>\n",
       "</g>\n",
       "<!-- 1522512571696&#45;&gt;1522512571640 -->\n",
       "<g class=\"edge\" id=\"edge9\"><title>1522512571696-&gt;1522512571640</title>\n",
       "<path d=\"M107.5,-73.3129C107.5,-65.2895 107.5,-55.5475 107.5,-46.5691\" fill=\"none\" stroke=\"black\"/>\n",
       "<polygon fill=\"black\" points=\"111,-46.5288 107.5,-36.5288 104,-46.5289 111,-46.5288\" stroke=\"black\"/>\n",
       "</g>\n",
       "<!-- 1522512411000 -->\n",
       "<g class=\"node\" id=\"node10\"><title>1522512411000</title>\n",
       "<polygon fill=\"none\" points=\"55.5,-657.5 55.5,-693.5 159.5,-693.5 159.5,-657.5 55.5,-657.5\" stroke=\"black\"/>\n",
       "<text font-family=\"Times New Roman,serif\" font-size=\"14.00\" text-anchor=\"middle\" x=\"107.5\" y=\"-671.8\">1522512411000</text>\n",
       "</g>\n",
       "<!-- 1522512411000&#45;&gt;1522512411952 -->\n",
       "<g class=\"edge\" id=\"edge1\"><title>1522512411000-&gt;1522512411952</title>\n",
       "<path d=\"M107.5,-657.313C107.5,-649.289 107.5,-639.547 107.5,-630.569\" fill=\"none\" stroke=\"black\"/>\n",
       "<polygon fill=\"black\" points=\"111,-630.529 107.5,-620.529 104,-630.529 111,-630.529\" stroke=\"black\"/>\n",
       "</g>\n",
       "</g>\n",
       "</svg>"
      ],
      "text/plain": [
       "<IPython.core.display.SVG object>"
      ]
     },
     "execution_count": 15,
     "metadata": {},
     "output_type": "execute_result"
    }
   ],
   "source": [
    "from IPython.display import SVG\n",
    "from keras.utils.vis_utils import model_to_dot\n",
    "\n",
    "SVG(model_to_dot(model).create(prog='dot', format='svg'))"
   ]
  },
  {
   "cell_type": "markdown",
   "metadata": {
    "colab_type": "text",
    "id": "TfypWUJIlFkz"
   },
   "source": [
    "## Training CNN"
   ]
  },
  {
   "cell_type": "code",
   "execution_count": 16,
   "metadata": {
    "colab": {
     "base_uri": "https://localhost:8080/",
     "height": 931
    },
    "colab_type": "code",
    "id": "zsdmu-ggfvr1",
    "outputId": "77a52558-8ecc-4fc5-e0cb-2b86a75df4c6",
    "scrolled": false
   },
   "outputs": [
    {
     "name": "stdout",
     "output_type": "stream",
     "text": [
      "Train on 384 samples, validate on 216 samples\n",
      "Epoch 1/100\n",
      "384/384 [==============================] - 4s 9ms/step - loss: 1.7896 - acc: 0.1979 - val_loss: 1.7310 - val_acc: 0.2361\n",
      "Epoch 2/100\n",
      "384/384 [==============================] - 3s 7ms/step - loss: 1.6997 - acc: 0.2604 - val_loss: 1.6445 - val_acc: 0.3657\n",
      "Epoch 3/100\n",
      "384/384 [==============================] - 2s 6ms/step - loss: 1.5976 - acc: 0.3854 - val_loss: 1.5422 - val_acc: 0.4213\n",
      "Epoch 4/100\n",
      "384/384 [==============================] - 3s 8ms/step - loss: 1.5214 - acc: 0.4453 - val_loss: 1.4137 - val_acc: 0.6065\n",
      "Epoch 5/100\n",
      "384/384 [==============================] - 3s 7ms/step - loss: 1.3460 - acc: 0.5286 - val_loss: 1.2546 - val_acc: 0.6296\n",
      "Epoch 6/100\n",
      "384/384 [==============================] - 3s 7ms/step - loss: 1.2521 - acc: 0.5469 - val_loss: 1.1165 - val_acc: 0.6898\n",
      "Epoch 7/100\n",
      "384/384 [==============================] - 2s 5ms/step - loss: 1.0857 - acc: 0.6276 - val_loss: 0.9805 - val_acc: 0.7315\n",
      "Epoch 8/100\n",
      "384/384 [==============================] - 2s 6ms/step - loss: 0.9874 - acc: 0.6693 - val_loss: 0.8995 - val_acc: 0.7222\n",
      "Epoch 9/100\n",
      "384/384 [==============================] - 2s 6ms/step - loss: 0.8979 - acc: 0.6875 - val_loss: 0.7948 - val_acc: 0.7593\n",
      "Epoch 10/100\n",
      "384/384 [==============================] - 2s 6ms/step - loss: 0.8223 - acc: 0.6849 - val_loss: 0.7509 - val_acc: 0.7593\n",
      "Epoch 11/100\n",
      "384/384 [==============================] - 2s 6ms/step - loss: 0.7793 - acc: 0.7005 - val_loss: 0.7094 - val_acc: 0.7500\n",
      "Epoch 12/100\n",
      "384/384 [==============================] - 2s 6ms/step - loss: 0.7487 - acc: 0.7057 - val_loss: 0.6976 - val_acc: 0.7546\n",
      "Epoch 13/100\n",
      "384/384 [==============================] - 2s 6ms/step - loss: 0.7125 - acc: 0.7161 - val_loss: 0.6491 - val_acc: 0.7778\n",
      "Epoch 14/100\n",
      "384/384 [==============================] - 2s 6ms/step - loss: 0.6585 - acc: 0.7526 - val_loss: 0.6036 - val_acc: 0.7778\n",
      "Epoch 15/100\n",
      "384/384 [==============================] - 2s 6ms/step - loss: 0.6330 - acc: 0.7500 - val_loss: 0.5823 - val_acc: 0.7917\n",
      "Epoch 16/100\n",
      "384/384 [==============================] - 3s 7ms/step - loss: 0.5598 - acc: 0.7943 - val_loss: 0.5456 - val_acc: 0.8009\n",
      "Epoch 17/100\n",
      "384/384 [==============================] - 2s 6ms/step - loss: 0.5483 - acc: 0.8099 - val_loss: 0.5175 - val_acc: 0.7917\n",
      "Epoch 18/100\n",
      "384/384 [==============================] - 3s 7ms/step - loss: 0.4714 - acc: 0.8125 - val_loss: 0.5022 - val_acc: 0.8194\n",
      "Epoch 19/100\n",
      "384/384 [==============================] - 3s 7ms/step - loss: 0.5126 - acc: 0.8151 - val_loss: 0.4914 - val_acc: 0.8194\n",
      "Epoch 20/100\n",
      "384/384 [==============================] - 2s 6ms/step - loss: 0.4738 - acc: 0.8281 - val_loss: 0.4729 - val_acc: 0.8148\n",
      "Epoch 21/100\n",
      "384/384 [==============================] - 2s 6ms/step - loss: 0.4315 - acc: 0.8333 - val_loss: 0.4484 - val_acc: 0.8380\n",
      "Epoch 22/100\n",
      "384/384 [==============================] - 2s 6ms/step - loss: 0.4216 - acc: 0.8568 - val_loss: 0.4495 - val_acc: 0.8472\n",
      "Epoch 23/100\n",
      "384/384 [==============================] - 3s 7ms/step - loss: 0.4482 - acc: 0.8255 - val_loss: 0.4160 - val_acc: 0.8519\n",
      "Epoch 24/100\n",
      "384/384 [==============================] - 3s 7ms/step - loss: 0.3516 - acc: 0.8880 - val_loss: 0.4166 - val_acc: 0.8519\n",
      "Epoch 25/100\n",
      "384/384 [==============================] - 3s 7ms/step - loss: 0.3786 - acc: 0.8672 - val_loss: 0.4169 - val_acc: 0.8472\n",
      "Epoch 26/100\n",
      "384/384 [==============================] - 3s 7ms/step - loss: 0.3586 - acc: 0.8620 - val_loss: 0.3952 - val_acc: 0.8565\n",
      "Epoch 27/100\n",
      "384/384 [==============================] - 3s 7ms/step - loss: 0.3499 - acc: 0.8594 - val_loss: 0.3894 - val_acc: 0.8750\n",
      "Epoch 28/100\n",
      "384/384 [==============================] - 3s 7ms/step - loss: 0.3022 - acc: 0.9062 - val_loss: 0.3967 - val_acc: 0.8519\n",
      "Epoch 29/100\n",
      "384/384 [==============================] - 3s 7ms/step - loss: 0.3447 - acc: 0.8646 - val_loss: 0.3894 - val_acc: 0.8796\n",
      "Epoch 30/100\n",
      "384/384 [==============================] - 3s 8ms/step - loss: 0.3179 - acc: 0.8724 - val_loss: 0.3861 - val_acc: 0.8657\n",
      "Epoch 31/100\n",
      "384/384 [==============================] - 2s 5ms/step - loss: 0.3162 - acc: 0.8646 - val_loss: 0.3574 - val_acc: 0.8750\n",
      "Epoch 32/100\n",
      "384/384 [==============================] - 2s 6ms/step - loss: 0.2988 - acc: 0.8958 - val_loss: 0.3687 - val_acc: 0.8565\n",
      "Epoch 33/100\n",
      "384/384 [==============================] - 2s 6ms/step - loss: 0.2698 - acc: 0.9062 - val_loss: 0.3601 - val_acc: 0.8796\n",
      "Epoch 34/100\n",
      "384/384 [==============================] - 3s 7ms/step - loss: 0.2724 - acc: 0.8958 - val_loss: 0.3693 - val_acc: 0.8611\n",
      "Epoch 35/100\n",
      "384/384 [==============================] - 3s 7ms/step - loss: 0.2386 - acc: 0.9036 - val_loss: 0.3831 - val_acc: 0.8611\n",
      "Epoch 36/100\n",
      "384/384 [==============================] - 2s 6ms/step - loss: 0.2367 - acc: 0.9167 - val_loss: 0.3449 - val_acc: 0.8843\n",
      "Epoch 37/100\n",
      "384/384 [==============================] - 2s 6ms/step - loss: 0.2294 - acc: 0.9141 - val_loss: 0.3395 - val_acc: 0.8889\n",
      "Epoch 38/100\n",
      "384/384 [==============================] - 3s 7ms/step - loss: 0.2626 - acc: 0.8984 - val_loss: 0.3399 - val_acc: 0.8796\n",
      "Epoch 39/100\n",
      "384/384 [==============================] - 2s 6ms/step - loss: 0.2285 - acc: 0.9089 - val_loss: 0.3212 - val_acc: 0.8889\n",
      "Epoch 40/100\n",
      "384/384 [==============================] - 3s 7ms/step - loss: 0.2391 - acc: 0.8932 - val_loss: 0.3343 - val_acc: 0.8843\n",
      "Epoch 41/100\n",
      "384/384 [==============================] - 2s 6ms/step - loss: 0.2231 - acc: 0.9349 - val_loss: 0.3088 - val_acc: 0.9120\n",
      "Epoch 42/100\n",
      "384/384 [==============================] - 3s 7ms/step - loss: 0.1836 - acc: 0.9323 - val_loss: 0.3260 - val_acc: 0.8981\n",
      "Epoch 43/100\n",
      "384/384 [==============================] - 2s 6ms/step - loss: 0.1967 - acc: 0.9271 - val_loss: 0.3261 - val_acc: 0.8889\n",
      "Epoch 44/100\n",
      "384/384 [==============================] - 2s 6ms/step - loss: 0.2131 - acc: 0.9167 - val_loss: 0.3156 - val_acc: 0.9028\n",
      "Epoch 45/100\n",
      "384/384 [==============================] - 3s 7ms/step - loss: 0.1966 - acc: 0.9219 - val_loss: 0.3173 - val_acc: 0.8796\n",
      "Epoch 46/100\n",
      "384/384 [==============================] - 3s 7ms/step - loss: 0.1838 - acc: 0.9349 - val_loss: 0.3008 - val_acc: 0.8889\n",
      "Epoch 47/100\n",
      "384/384 [==============================] - 3s 7ms/step - loss: 0.1461 - acc: 0.9375 - val_loss: 0.3065 - val_acc: 0.8935\n",
      "Epoch 48/100\n",
      "384/384 [==============================] - 3s 7ms/step - loss: 0.1650 - acc: 0.9271 - val_loss: 0.3250 - val_acc: 0.8843\n",
      "Epoch 49/100\n",
      "384/384 [==============================] - 3s 7ms/step - loss: 0.1690 - acc: 0.9375 - val_loss: 0.3250 - val_acc: 0.8843\n",
      "Epoch 50/100\n",
      "384/384 [==============================] - 3s 7ms/step - loss: 0.1720 - acc: 0.9453 - val_loss: 0.3231 - val_acc: 0.8889\n",
      "Epoch 51/100\n",
      "384/384 [==============================] - 2s 6ms/step - loss: 0.1418 - acc: 0.9557 - val_loss: 0.2877 - val_acc: 0.9028\n",
      "Epoch 52/100\n",
      "384/384 [==============================] - 2s 6ms/step - loss: 0.1435 - acc: 0.9453 - val_loss: 0.3085 - val_acc: 0.8843\n",
      "Epoch 53/100\n",
      "384/384 [==============================] - 3s 7ms/step - loss: 0.1523 - acc: 0.9453 - val_loss: 0.3110 - val_acc: 0.8935\n",
      "Epoch 54/100\n",
      "384/384 [==============================] - 2s 6ms/step - loss: 0.1537 - acc: 0.9401 - val_loss: 0.3395 - val_acc: 0.9074\n",
      "Epoch 55/100\n",
      "384/384 [==============================] - 3s 7ms/step - loss: 0.1495 - acc: 0.9557 - val_loss: 0.2873 - val_acc: 0.8843\n",
      "Epoch 56/100\n",
      "384/384 [==============================] - 2s 6ms/step - loss: 0.1363 - acc: 0.9427 - val_loss: 0.3014 - val_acc: 0.8889\n",
      "Epoch 57/100\n",
      "384/384 [==============================] - 2s 6ms/step - loss: 0.1417 - acc: 0.9531 - val_loss: 0.2934 - val_acc: 0.8889\n",
      "Epoch 58/100\n",
      "384/384 [==============================] - 2s 6ms/step - loss: 0.1338 - acc: 0.9557 - val_loss: 0.3217 - val_acc: 0.9120\n",
      "Epoch 59/100\n",
      "384/384 [==============================] - 2s 6ms/step - loss: 0.1218 - acc: 0.9531 - val_loss: 0.2989 - val_acc: 0.9074\n",
      "Epoch 60/100\n",
      "384/384 [==============================] - 2s 6ms/step - loss: 0.1152 - acc: 0.9557 - val_loss: 0.3130 - val_acc: 0.8843\n",
      "Epoch 61/100\n",
      "384/384 [==============================] - 3s 7ms/step - loss: 0.0991 - acc: 0.9635 - val_loss: 0.3119 - val_acc: 0.8981\n"
     ]
    },
    {
     "name": "stdout",
     "output_type": "stream",
     "text": [
      "Epoch 62/100\n",
      "384/384 [==============================] - 2s 6ms/step - loss: 0.1316 - acc: 0.9557 - val_loss: 0.3011 - val_acc: 0.8750\n",
      "Epoch 63/100\n",
      "384/384 [==============================] - 3s 7ms/step - loss: 0.0917 - acc: 0.9766 - val_loss: 0.3187 - val_acc: 0.8935\n",
      "Epoch 64/100\n",
      "384/384 [==============================] - 2s 6ms/step - loss: 0.1202 - acc: 0.9609 - val_loss: 0.2901 - val_acc: 0.8981\n",
      "Epoch 65/100\n",
      "384/384 [==============================] - 3s 7ms/step - loss: 0.1083 - acc: 0.9557 - val_loss: 0.2740 - val_acc: 0.9074\n",
      "Epoch 66/100\n",
      "384/384 [==============================] - 2s 6ms/step - loss: 0.1295 - acc: 0.9583 - val_loss: 0.3068 - val_acc: 0.8935\n",
      "Epoch 67/100\n",
      "384/384 [==============================] - 3s 7ms/step - loss: 0.0895 - acc: 0.9766 - val_loss: 0.2862 - val_acc: 0.9028\n",
      "Epoch 68/100\n",
      "384/384 [==============================] - 3s 7ms/step - loss: 0.0760 - acc: 0.9818 - val_loss: 0.2941 - val_acc: 0.8981\n",
      "Epoch 69/100\n",
      "384/384 [==============================] - 3s 7ms/step - loss: 0.0886 - acc: 0.9661 - val_loss: 0.3290 - val_acc: 0.8981\n",
      "Epoch 70/100\n",
      "384/384 [==============================] - 3s 7ms/step - loss: 0.1118 - acc: 0.9557 - val_loss: 0.2647 - val_acc: 0.8935\n",
      "Epoch 71/100\n",
      "384/384 [==============================] - 3s 7ms/step - loss: 0.1003 - acc: 0.9531 - val_loss: 0.2919 - val_acc: 0.8981\n",
      "Epoch 72/100\n",
      "384/384 [==============================] - 2s 6ms/step - loss: 0.0870 - acc: 0.9688 - val_loss: 0.2946 - val_acc: 0.8843\n",
      "Epoch 73/100\n",
      "384/384 [==============================] - 3s 7ms/step - loss: 0.0978 - acc: 0.9714 - val_loss: 0.3233 - val_acc: 0.8889\n",
      "Epoch 74/100\n",
      "384/384 [==============================] - 3s 7ms/step - loss: 0.0936 - acc: 0.9714 - val_loss: 0.3002 - val_acc: 0.8981\n",
      "Epoch 75/100\n",
      "384/384 [==============================] - 3s 7ms/step - loss: 0.0810 - acc: 0.9688 - val_loss: 0.2986 - val_acc: 0.8981\n",
      "Epoch 76/100\n",
      "384/384 [==============================] - 2s 6ms/step - loss: 0.0588 - acc: 0.9740 - val_loss: 0.2818 - val_acc: 0.9028\n",
      "Epoch 77/100\n",
      "384/384 [==============================] - 3s 7ms/step - loss: 0.0924 - acc: 0.9714 - val_loss: 0.3513 - val_acc: 0.9028\n",
      "Epoch 78/100\n",
      "384/384 [==============================] - 3s 7ms/step - loss: 0.0833 - acc: 0.9688 - val_loss: 0.3284 - val_acc: 0.8889\n",
      "Epoch 79/100\n",
      "384/384 [==============================] - 2s 6ms/step - loss: 0.0726 - acc: 0.9740 - val_loss: 0.2696 - val_acc: 0.9028\n",
      "Epoch 80/100\n",
      "384/384 [==============================] - 2s 6ms/step - loss: 0.0795 - acc: 0.9661 - val_loss: 0.2853 - val_acc: 0.8843\n",
      "Epoch 81/100\n",
      "384/384 [==============================] - 2s 5ms/step - loss: 0.0635 - acc: 0.9818 - val_loss: 0.2797 - val_acc: 0.9028\n",
      "Epoch 82/100\n",
      "384/384 [==============================] - 2s 6ms/step - loss: 0.0990 - acc: 0.9661 - val_loss: 0.2822 - val_acc: 0.9028\n",
      "Epoch 83/100\n",
      "384/384 [==============================] - 3s 7ms/step - loss: 0.0558 - acc: 0.9818 - val_loss: 0.2830 - val_acc: 0.8935\n",
      "Epoch 84/100\n",
      "384/384 [==============================] - 3s 7ms/step - loss: 0.0627 - acc: 0.9818 - val_loss: 0.2838 - val_acc: 0.8981\n",
      "Epoch 85/100\n",
      "384/384 [==============================] - 3s 7ms/step - loss: 0.0729 - acc: 0.9688 - val_loss: 0.3366 - val_acc: 0.8843\n",
      "Epoch 86/100\n",
      "384/384 [==============================] - 3s 7ms/step - loss: 0.0554 - acc: 0.9792 - val_loss: 0.2564 - val_acc: 0.9167\n",
      "Epoch 87/100\n",
      "384/384 [==============================] - 3s 7ms/step - loss: 0.0720 - acc: 0.9714 - val_loss: 0.3047 - val_acc: 0.8889\n",
      "Epoch 88/100\n",
      "384/384 [==============================] - 2s 6ms/step - loss: 0.0914 - acc: 0.9531 - val_loss: 0.2855 - val_acc: 0.9028\n",
      "Epoch 89/100\n",
      "384/384 [==============================] - 3s 7ms/step - loss: 0.0697 - acc: 0.9740 - val_loss: 0.3059 - val_acc: 0.8981\n",
      "Epoch 90/100\n",
      "384/384 [==============================] - 2s 6ms/step - loss: 0.0776 - acc: 0.9714 - val_loss: 0.2598 - val_acc: 0.9074\n",
      "Epoch 91/100\n",
      "384/384 [==============================] - 3s 7ms/step - loss: 0.0474 - acc: 0.9922 - val_loss: 0.3059 - val_acc: 0.8843\n",
      "Epoch 92/100\n",
      "384/384 [==============================] - 3s 7ms/step - loss: 0.0499 - acc: 0.9870 - val_loss: 0.2741 - val_acc: 0.8981\n",
      "Epoch 93/100\n",
      "384/384 [==============================] - 2s 6ms/step - loss: 0.0476 - acc: 0.9870 - val_loss: 0.2817 - val_acc: 0.8981\n",
      "Epoch 94/100\n",
      "384/384 [==============================] - 3s 7ms/step - loss: 0.0664 - acc: 0.9792 - val_loss: 0.2757 - val_acc: 0.8935\n",
      "Epoch 95/100\n",
      "384/384 [==============================] - 3s 7ms/step - loss: 0.0371 - acc: 0.9896 - val_loss: 0.3001 - val_acc: 0.8981\n",
      "Epoch 96/100\n",
      "384/384 [==============================] - 3s 7ms/step - loss: 0.0395 - acc: 0.9818 - val_loss: 0.2955 - val_acc: 0.9028\n",
      "Epoch 97/100\n",
      "384/384 [==============================] - 3s 7ms/step - loss: 0.0356 - acc: 0.9792 - val_loss: 0.2923 - val_acc: 0.9074\n",
      "Epoch 98/100\n",
      "384/384 [==============================] - 3s 7ms/step - loss: 0.0737 - acc: 0.9766 - val_loss: 0.3664 - val_acc: 0.8843\n",
      "Epoch 99/100\n",
      "384/384 [==============================] - 2s 6ms/step - loss: 0.0723 - acc: 0.9766 - val_loss: 0.3090 - val_acc: 0.8935\n",
      "Epoch 100/100\n",
      "384/384 [==============================] - 3s 7ms/step - loss: 0.0329 - acc: 0.9948 - val_loss: 0.2990 - val_acc: 0.9028\n"
     ]
    }
   ],
   "source": [
    "EPOCHS = 100\n",
    "history = model.fit(train_data, train_labels, epochs=EPOCHS, validation_data=(test_data, test_labels))"
   ]
  },
  {
   "cell_type": "code",
   "execution_count": 17,
   "metadata": {},
   "outputs": [
    {
     "data": {
      "image/png": "[encoded data removed]",
      "text/plain": [
       "<matplotlib.figure.Figure at 0x16279aedbe0>"
      ]
     },
     "metadata": {},
     "output_type": "display_data"
    },
    {
     "data": {
      "image/png": "[encoded data removed]",
      "text/plain": [
       "<matplotlib.figure.Figure at 0x1627d000e48>"
      ]
     },
     "metadata": {},
     "output_type": "display_data"
    }
   ],
   "source": [
    "%run history.py\n",
    "%matplotlib inline\n",
    "\n",
    "plot_accuracy(history)\n",
    "plot_loss(history)"
   ]
  },
  {
   "cell_type": "markdown",
   "metadata": {},
   "source": [
    "## Save the model"
   ]
  },
  {
   "cell_type": "code",
   "execution_count": 18,
   "metadata": {},
   "outputs": [],
   "source": [
    "import datetime\n",
    "\n",
    "dt = datetime.datetime.today().strftime('%Y%m%d%H%M%S')\n",
    "filename = DATASET_FOLDER + '/cnn_for_aed_{}.h5'.format(dt)\n",
    "model.save(filename)"
   ]
  },
  {
   "cell_type": "markdown",
   "metadata": {},
   "source": [
    "## Load the model"
   ]
  },
  {
   "cell_type": "code",
   "execution_count": 19,
   "metadata": {},
   "outputs": [],
   "source": [
    "del model\n",
    "model = models.load_model(filename)"
   ]
  },
  {
   "cell_type": "markdown",
   "metadata": {
    "colab_type": "text",
    "id": "j6con4C3lKC1"
   },
   "source": [
    "## Confirmation"
   ]
  },
  {
   "cell_type": "code",
   "execution_count": 20,
   "metadata": {
    "colab": {
     "base_uri": "https://localhost:8080/",
     "height": 34
    },
    "colab_type": "code",
    "id": "4oZYLLij69wU",
    "outputId": "b37a4b8a-2c80-411f-d8a9-5df1c6dbfe22"
   },
   "outputs": [
    {
     "data": {
      "text/plain": [
       "(384, 64, 40, 1)"
      ]
     },
     "execution_count": 20,
     "metadata": {},
     "output_type": "execute_result"
    }
   ],
   "source": [
    "import numpy as np\n",
    "import matplotlib.pyplot as plt\n",
    "train_data.shape"
   ]
  },
  {
   "cell_type": "code",
   "execution_count": 21,
   "metadata": {
    "colab": {
     "base_uri": "https://localhost:8080/",
     "height": 193
    },
    "colab_type": "code",
    "id": "zSxXE9FgRBdJ",
    "outputId": "f3a53efe-e99f-4572-f9b4-1bf3c39c77ec"
   },
   "outputs": [],
   "source": [
    "layer_outputs = [layer.output for layer in model.layers]\n",
    "#layer_outputs"
   ]
  },
  {
   "cell_type": "code",
   "execution_count": 22,
   "metadata": {
    "colab": {
     "base_uri": "https://localhost:8080/",
     "height": 34
    },
    "colab_type": "code",
    "id": "dcw7yHKrRkPD",
    "outputId": "a3ed5441-ae48-4635-bf07-ac5060030608"
   },
   "outputs": [],
   "source": [
    "activation_model = models.Model(inputs=model.input, outputs=layer_outputs)\n",
    "activations = activation_model.predict(test_data)\n",
    "#activations[0][0,:,:,0].shape"
   ]
  },
  {
   "cell_type": "code",
   "execution_count": 23,
   "metadata": {},
   "outputs": [
    {
     "data": {
      "text/plain": [
       "['piano',\n",
       " 'classical_guitar',\n",
       " 'framenco_guitar',\n",
       " 'blues_harp',\n",
       " 'tin_whistle',\n",
       " 'silence']"
      ]
     },
     "execution_count": 23,
     "metadata": {},
     "output_type": "execute_result"
    }
   ],
   "source": [
    "class_labels"
   ]
  },
  {
   "cell_type": "code",
   "execution_count": 24,
   "metadata": {
    "colab": {
     "base_uri": "https://localhost:8080/",
     "height": 193
    },
    "colab_type": "code",
    "id": "ccSNAwGKhRn9",
    "outputId": "0ad22e12-713b-4b07-e17b-45d39ff1b80b"
   },
   "outputs": [
    {
     "data": {
      "text/plain": [
       "array([[  0,   0,   0,   0,  99,   0],\n",
       "       [  0,   0,  31,  68,   0,   0],\n",
       "       [ 99,   0,   0,   0,   0,   0],\n",
       "       [ 99,   0,   0,   0,   0,   0],\n",
       "       [  0,   0,   0,  99,   0,   0],\n",
       "       [  0,   0,   0,   0,   0,  99],\n",
       "       [  0,   0,   0,   0,  99,   0],\n",
       "       [ 24,  73,   0,   1,   0,   0],\n",
       "       [  0,   0,   0,   0, 100,   0],\n",
       "       [  0,   0,   0,  99,   0,   0]])"
      ]
     },
     "execution_count": 24,
     "metadata": {},
     "output_type": "execute_result"
    }
   ],
   "source": [
    "(activations[-1][:10]*100).astype(int)"
   ]
  },
  {
   "cell_type": "code",
   "execution_count": 25,
   "metadata": {
    "colab": {
     "base_uri": "https://localhost:8080/",
     "height": 193
    },
    "colab_type": "code",
    "id": "RoE0nxtuiGIN",
    "outputId": "154437a8-ab72-46f4-f42c-3e6464af47d0"
   },
   "outputs": [
    {
     "data": {
      "text/plain": [
       "array([[0, 0, 0, 0, 1, 0],\n",
       "       [0, 0, 0, 1, 0, 0],\n",
       "       [1, 0, 0, 0, 0, 0],\n",
       "       [1, 0, 0, 0, 0, 0],\n",
       "       [0, 0, 0, 1, 0, 0],\n",
       "       [0, 0, 0, 0, 0, 1],\n",
       "       [0, 0, 0, 0, 1, 0],\n",
       "       [1, 0, 0, 0, 0, 0],\n",
       "       [0, 0, 0, 0, 1, 0],\n",
       "       [0, 0, 0, 1, 0, 0]])"
      ]
     },
     "execution_count": 25,
     "metadata": {},
     "output_type": "execute_result"
    }
   ],
   "source": [
    "test_labels[:10].astype(int)"
   ]
  },
  {
   "cell_type": "code",
   "execution_count": 26,
   "metadata": {},
   "outputs": [],
   "source": [
    "def plot_layer(activations, sample, layer):\n",
    "    a = activations[layer].shape\n",
    "    rows = int(a[3]/4)\n",
    "    fig, axarr = plt.subplots(rows, 4, figsize=[20,15])\n",
    "    for i in range(a[3]):\n",
    "        row = int(i/4)\n",
    "        x, y = row, i-4*row\n",
    "        axarr[x, y].imshow(np.rot90(activations[layer][sample, :, :, i]))\n",
    "        axarr[x, y].set_xticks([])\n",
    "        axarr[x, y].set_yticks([])"
   ]
  },
  {
   "cell_type": "code",
   "execution_count": 27,
   "metadata": {},
   "outputs": [
    {
     "data": {
      "text/plain": [
       "'silence'"
      ]
     },
     "execution_count": 27,
     "metadata": {},
     "output_type": "execute_result"
    },
    {
     "data": {
      "image/png": "[encoded data removed]",
      "text/plain": [
       "<matplotlib.figure.Figure at 0x1627f9a3fd0>"
      ]
     },
     "metadata": {},
     "output_type": "display_data"
    }
   ],
   "source": [
    "image_number = 29\n",
    "\n",
    "plt.imshow(np.rot90(test_data[image_number,:,:,0]))\n",
    "class_labels[np.argmax(test_labels[image_number])]"
   ]
  },
  {
   "cell_type": "code",
   "execution_count": 28,
   "metadata": {},
   "outputs": [
    {
     "data": {
      "image/png": "[encoded data removed]",
      "text/plain": [
       "<matplotlib.figure.Figure at 0x16279951710>"
      ]
     },
     "metadata": {},
     "output_type": "display_data"
    }
   ],
   "source": [
    "plot_layer(activations, image_number, 2)"
   ]
  },
  {
   "cell_type": "code",
   "execution_count": 29,
   "metadata": {},
   "outputs": [
    {
     "data": {
      "image/png": "[encoded data removed]",
      "text/plain": [
       "<matplotlib.figure.Figure at 0x16201c800f0>"
      ]
     },
     "metadata": {},
     "output_type": "display_data"
    }
   ],
   "source": [
    "plot_layer(activations, image_number, 5)"
   ]
  },
  {
   "cell_type": "code",
   "execution_count": null,
   "metadata": {},
   "outputs": [],
   "source": []
  }
 ],
 "metadata": {
  "colab": {
   "collapsed_sections": [],
   "name": "CNN for AED",
   "provenance": [],
   "version": "0.3.2"
  },
  "kernelspec": {
   "display_name": "Python 3",
   "language": "python",
   "name": "python3"
  },
  "language_info": {
   "codemirror_mode": {
    "name": "ipython",
    "version": 3
   },
   "file_extension": ".py",
   "mimetype": "text/x-python",
   "name": "python",
   "nbconvert_exporter": "python",
   "pygments_lexer": "ipython3",
   "version": "3.6.4"
  }
 },
 "nbformat": 4,
 "nbformat_minor": 1
}
