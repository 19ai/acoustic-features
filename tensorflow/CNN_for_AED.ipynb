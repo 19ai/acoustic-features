{
 "cells": [
  {
   "cell_type": "markdown",
   "metadata": {
    "colab_type": "text",
    "id": "0X16cagQE-Y-"
   },
   "source": [
    "# CNN for AED with Keras/TensorFlow\n",
    "\n",
    "Date: November 6, 2018\n",
    "\n",
    "Neural network: three convolution layers and three fully connected layers\n",
    "\n",
    "Classification of acoustic events:\n",
    "\n",
    "- Piano music\n",
    "- Framenco guitar music\n",
    "- Classical guitar music\n",
    "- Blues hars music\n",
    "- Tin whistle music"
   ]
  },
  {
   "cell_type": "markdown",
   "metadata": {
    "colab_type": "text",
    "id": "WwQ-dEltkl5Q"
   },
   "source": [
    "## Preparing data set for CNN"
   ]
  },
  {
   "cell_type": "code",
   "execution_count": 124,
   "metadata": {
    "colab": {
     "base_uri": "https://localhost:8080/",
     "height": 34
    },
    "colab_type": "code",
    "id": "VEJyQsGpV3ug",
    "outputId": "3929aa39-3383-4791-e065-3622e6781181"
   },
   "outputs": [],
   "source": [
    "#from google.colab import drive\n",
    "#drive.mount('/content/gdrive')\n",
    "\n",
    "#DATA_FOLDER = '/content/gdrive/My Drive/acoustic_event_detection/data/'\n",
    "DATA_FOLDER = '../oscilloscope/data/data_music/'\n",
    "\n",
    "FILTERS=40\n",
    "FILES = 100\n",
    "TRAINING_FILES = 67\n",
    "TEST_FILES = FILES - TRAINING_FILES"
   ]
  },
  {
   "cell_type": "code",
   "execution_count": 125,
   "metadata": {
    "colab": {},
    "colab_type": "code",
    "id": "JTNdoPBFWGky"
   },
   "outputs": [],
   "source": [
    "%matplotlib inline\n",
    "\n",
    "import matplotlib\n",
    "import matplotlib.pyplot as plt\n",
    "import numpy as np\n",
    "import pandas as pd\n",
    "import time\n",
    "import random\n",
    "import os\n",
    "import sklearn.preprocessing as pp"
   ]
  },
  {
   "cell_type": "code",
   "execution_count": 126,
   "metadata": {},
   "outputs": [
    {
     "name": "stdout",
     "output_type": "stream",
     "text": [
      "0: blues_harp\n",
      "1: classical_guitar\n",
      "2: framenco_guitar\n",
      "3: piano\n",
      "4: tin_whistle\n"
     ]
    }
   ],
   "source": [
    "import glob\n",
    "\n",
    "data_files = glob.glob(DATA_FOLDER+'*mel_spectrogram*.csv')\n",
    "class_labels = []\n",
    "\n",
    "for file in data_files:\n",
    "    label = file.split('-')[0].replace('\\\\', '/').split('/')[-1]\n",
    "    if label not in class_labels:\n",
    "        class_labels.append(label)\n",
    "\n",
    "        data_set = {}\n",
    "\n",
    "class_number = 0\n",
    "\n",
    "for label in class_labels:\n",
    "    files = glob.glob(DATA_FOLDER+'{}-*mel_spectrogram*.csv'.format(label))\n",
    "    random.shuffle(files)\n",
    "    data_set[label] = (files[:TRAINING_FILES], files[TRAINING_FILES:FILES], class_number)\n",
    "    class_number += 1\n",
    "\n",
    "training_set = []\n",
    "test_set = []\n",
    "\n",
    "LENGTH=64\n",
    "a1, a2 = 0,  FILTERS*64\n",
    "b1, b2 = FILTERS*64, FILTERS*64*2\n",
    "c1, c2 = FILTERS*64*2, FILTERS*64*3\n",
    "\n",
    "for k, v in data_set.items():\n",
    "    files = v[0]\n",
    "    class_number = v[2]\n",
    "    for file in files:\n",
    "        df = pd.read_csv(file.replace(os.path.sep, '/'), dtype=np.float)\n",
    "        #df = df[df['n']<FILTERS]\n",
    "        img1 = pp.scale(df[a1:a2]['magnitude'].values)\n",
    "        img2 = pp.scale(df[b1:b2]['magnitude'].values)\n",
    "        img3 = pp.scale(df[c1:c2]['magnitude'].values)\n",
    "        training_set.append((img1, class_number))\n",
    "        training_set.append((img2, class_number))\n",
    "        training_set.append((img3, class_number))\n",
    "    files = v[1]\n",
    "    for file in files:\n",
    "        df = pd.read_csv(file.replace(os.path.sep, '/'), dtype=np.float)\n",
    "        #df = df[df['n']<FILTERS]\n",
    "        img1 = pp.scale(df[a1:a2]['magnitude'].values)\n",
    "        img2 = pp.scale(df[b1:b2]['magnitude'].values)\n",
    "        img3 = pp.scale(df[c1:c2]['magnitude'].values)\n",
    "        test_set.append((img1, class_number))\n",
    "        test_set.append((img2, class_number))\n",
    "        test_set.append((img3, class_number))\n",
    "\n",
    "random.shuffle(training_set)\n",
    "random.shuffle(test_set)\n",
    "\n",
    "class_labels = []\n",
    "\n",
    "# Class number and class labels\n",
    "for k,v in data_set.items():\n",
    "    print('{}: {}'.format(v[2],k ))\n",
    "    class_labels.append(k)\n",
    "\n",
    "import yaml\n",
    "with open(DATA_FOLDER+'class_labels.yaml', 'w') as f:\n",
    "    yaml.dump(class_labels, f)"
   ]
  },
  {
   "cell_type": "code",
   "execution_count": 127,
   "metadata": {
    "colab": {},
    "colab_type": "code",
    "id": "28tIKkNyW3cO"
   },
   "outputs": [
    {
     "data": {
      "text/plain": [
       "<matplotlib.image.AxesImage at 0x2a695dc6a90>"
      ]
     },
     "execution_count": 127,
     "metadata": {},
     "output_type": "execute_result"
    },
    {
     "data": {
      "image/png": "[encoded data removed]",
      "text/plain": [
       "<matplotlib.figure.Figure at 0x2a695d32240>"
      ]
     },
     "metadata": {},
     "output_type": "display_data"
    }
   ],
   "source": [
    "train_data, train_labels = [], []\n",
    "test_data, test_labels = [], []\n",
    "for img, label in training_set:\n",
    "    train_data.append(img)\n",
    "    train_labels.append(label)\n",
    "for img, label in test_set:\n",
    "    test_data.append(img)\n",
    "    test_labels.append(label)\n",
    "train_data = np.array(train_data, dtype='float32').reshape((TRAINING_FILES*5*3, LENGTH, FILTERS, 1))\n",
    "train_labels = np.array(train_labels, dtype='uint8')\n",
    "test_data = np.array(test_data, dtype='float32').reshape((TEST_FILES*5*3, LENGTH, FILTERS, 1))\n",
    "test_lables = np.array(test_labels, dtype='uint8')\n",
    "#train_data.shape\n",
    "\n",
    "from keras.utils import to_categorical\n",
    "\n",
    "train_labels=to_categorical(train_labels)\n",
    "test_labels=to_categorical(test_labels)\n",
    "\n",
    "plt.imshow(np.rot90(train_data[0, :,:,0]))"
   ]
  },
  {
   "cell_type": "markdown",
   "metadata": {
    "colab_type": "text",
    "id": "VfUmgxxVk6uM"
   },
   "source": [
    "### CNN model"
   ]
  },
  {
   "cell_type": "code",
   "execution_count": 248,
   "metadata": {
    "colab": {
     "base_uri": "https://localhost:8080/",
     "height": 509
    },
    "colab_type": "code",
    "id": "B2Xg6tGLdMKP",
    "outputId": "ae3daa32-9dbf-4d8b-9a11-7f596dd2e4a6"
   },
   "outputs": [
    {
     "name": "stdout",
     "output_type": "stream",
     "text": [
      "_________________________________________________________________\n",
      "Layer (type)                 Output Shape              Param #   \n",
      "=================================================================\n",
      "conv2d_45 (Conv2D)           (None, 62, 38, 4)         40        \n",
      "_________________________________________________________________\n",
      "max_pooling2d_44 (MaxPooling (None, 31, 19, 4)         0         \n",
      "_________________________________________________________________\n",
      "conv2d_46 (Conv2D)           (None, 29, 17, 8)         296       \n",
      "_________________________________________________________________\n",
      "max_pooling2d_45 (MaxPooling (None, 14, 8, 8)          0         \n",
      "_________________________________________________________________\n",
      "conv2d_47 (Conv2D)           (None, 12, 6, 16)         1168      \n",
      "_________________________________________________________________\n",
      "max_pooling2d_46 (MaxPooling (None, 6, 3, 16)          0         \n",
      "_________________________________________________________________\n",
      "flatten_17 (Flatten)         (None, 288)               0         \n",
      "_________________________________________________________________\n",
      "dropout_18 (Dropout)         (None, 288)               0         \n",
      "_________________________________________________________________\n",
      "dense_35 (Dense)             (None, 5)                 1445      \n",
      "=================================================================\n",
      "Total params: 2,949\n",
      "Trainable params: 2,949\n",
      "Non-trainable params: 0\n",
      "_________________________________________________________________\n"
     ]
    }
   ],
   "source": [
    "from keras import layers\n",
    "from keras import models\n",
    "\n",
    "model = models.Sequential()\n",
    "\n",
    "model.add(layers.Conv2D(4, (3, 3), activation='relu', input_shape=(LENGTH, FILTERS, 1)))\n",
    "model.add(layers.MaxPooling2D((2,2)))\n",
    "\n",
    "model.add(layers.Conv2D(8, (3, 3), activation='relu'))\n",
    "model.add(layers.MaxPooling2D((2,2)))\n",
    "\n",
    "model.add(layers.Conv2D(16, (3, 3), activation='relu'))\n",
    "model.add(layers.MaxPooling2D((2,2)))\n",
    "\n",
    "model.add(layers.Flatten())\n",
    "model.add(layers.Dropout(0.5))\n",
    "model.add(layers.Dense(5, activation='softmax'))\n",
    "\n",
    "model.summary()"
   ]
  },
  {
   "cell_type": "code",
   "execution_count": 229,
   "metadata": {
    "colab": {},
    "colab_type": "code",
    "id": "nRr1L_4ogL6i"
   },
   "outputs": [],
   "source": [
    "model.compile(optimizer='rmsprop', loss='categorical_crossentropy', metrics=['accuracy'])"
   ]
  },
  {
   "cell_type": "code",
   "execution_count": 230,
   "metadata": {},
   "outputs": [
    {
     "data": {
      "image/svg+xml": [
       "<svg height=\"702pt\" viewBox=\"0.00 0.00 223.00 702.00\" width=\"223pt\" xmlns=\"http://www.w3.org/2000/svg\" xmlns:xlink=\"http://www.w3.org/1999/xlink\">\n",
       "<g class=\"graph\" id=\"graph0\" transform=\"scale(1 1) rotate(0) translate(4 698)\">\n",
       "<title>G</title>\n",
       "<polygon fill=\"white\" points=\"-4,4 -4,-698 219,-698 219,4 -4,4\" stroke=\"none\"/>\n",
       "<!-- 2914843281112 -->\n",
       "<g class=\"node\" id=\"node1\"><title>2914843281112</title>\n",
       "<polygon fill=\"none\" points=\"40.5,-584.5 40.5,-620.5 174.5,-620.5 174.5,-584.5 40.5,-584.5\" stroke=\"black\"/>\n",
       "<text font-family=\"Times New Roman,serif\" font-size=\"14.00\" text-anchor=\"middle\" x=\"107.5\" y=\"-598.8\">conv2d_41: Conv2D</text>\n",
       "</g>\n",
       "<!-- 2914843281560 -->\n",
       "<g class=\"node\" id=\"node2\"><title>2914843281560</title>\n",
       "<polygon fill=\"none\" points=\"0,-511.5 0,-547.5 215,-547.5 215,-511.5 0,-511.5\" stroke=\"black\"/>\n",
       "<text font-family=\"Times New Roman,serif\" font-size=\"14.00\" text-anchor=\"middle\" x=\"107.5\" y=\"-525.8\">max_pooling2d_41: MaxPooling2D</text>\n",
       "</g>\n",
       "<!-- 2914843281112&#45;&gt;2914843281560 -->\n",
       "<g class=\"edge\" id=\"edge2\"><title>2914843281112-&gt;2914843281560</title>\n",
       "<path d=\"M107.5,-584.313C107.5,-576.289 107.5,-566.547 107.5,-557.569\" fill=\"none\" stroke=\"black\"/>\n",
       "<polygon fill=\"black\" points=\"111,-557.529 107.5,-547.529 104,-557.529 111,-557.529\" stroke=\"black\"/>\n",
       "</g>\n",
       "<!-- 2914843281056 -->\n",
       "<g class=\"node\" id=\"node3\"><title>2914843281056</title>\n",
       "<polygon fill=\"none\" points=\"40.5,-438.5 40.5,-474.5 174.5,-474.5 174.5,-438.5 40.5,-438.5\" stroke=\"black\"/>\n",
       "<text font-family=\"Times New Roman,serif\" font-size=\"14.00\" text-anchor=\"middle\" x=\"107.5\" y=\"-452.8\">conv2d_42: Conv2D</text>\n",
       "</g>\n",
       "<!-- 2914843281560&#45;&gt;2914843281056 -->\n",
       "<g class=\"edge\" id=\"edge3\"><title>2914843281560-&gt;2914843281056</title>\n",
       "<path d=\"M107.5,-511.313C107.5,-503.289 107.5,-493.547 107.5,-484.569\" fill=\"none\" stroke=\"black\"/>\n",
       "<polygon fill=\"black\" points=\"111,-484.529 107.5,-474.529 104,-484.529 111,-484.529\" stroke=\"black\"/>\n",
       "</g>\n",
       "<!-- 2914847122096 -->\n",
       "<g class=\"node\" id=\"node4\"><title>2914847122096</title>\n",
       "<polygon fill=\"none\" points=\"0,-365.5 0,-401.5 215,-401.5 215,-365.5 0,-365.5\" stroke=\"black\"/>\n",
       "<text font-family=\"Times New Roman,serif\" font-size=\"14.00\" text-anchor=\"middle\" x=\"107.5\" y=\"-379.8\">max_pooling2d_42: MaxPooling2D</text>\n",
       "</g>\n",
       "<!-- 2914843281056&#45;&gt;2914847122096 -->\n",
       "<g class=\"edge\" id=\"edge4\"><title>2914843281056-&gt;2914847122096</title>\n",
       "<path d=\"M107.5,-438.313C107.5,-430.289 107.5,-420.547 107.5,-411.569\" fill=\"none\" stroke=\"black\"/>\n",
       "<polygon fill=\"black\" points=\"111,-411.529 107.5,-401.529 104,-411.529 111,-411.529\" stroke=\"black\"/>\n",
       "</g>\n",
       "<!-- 2914843283408 -->\n",
       "<g class=\"node\" id=\"node5\"><title>2914843283408</title>\n",
       "<polygon fill=\"none\" points=\"40.5,-292.5 40.5,-328.5 174.5,-328.5 174.5,-292.5 40.5,-292.5\" stroke=\"black\"/>\n",
       "<text font-family=\"Times New Roman,serif\" font-size=\"14.00\" text-anchor=\"middle\" x=\"107.5\" y=\"-306.8\">conv2d_43: Conv2D</text>\n",
       "</g>\n",
       "<!-- 2914847122096&#45;&gt;2914843283408 -->\n",
       "<g class=\"edge\" id=\"edge5\"><title>2914847122096-&gt;2914843283408</title>\n",
       "<path d=\"M107.5,-365.313C107.5,-357.289 107.5,-347.547 107.5,-338.569\" fill=\"none\" stroke=\"black\"/>\n",
       "<polygon fill=\"black\" points=\"111,-338.529 107.5,-328.529 104,-338.529 111,-338.529\" stroke=\"black\"/>\n",
       "</g>\n",
       "<!-- 2914847198736 -->\n",
       "<g class=\"node\" id=\"node6\"><title>2914847198736</title>\n",
       "<polygon fill=\"none\" points=\"0,-219.5 0,-255.5 215,-255.5 215,-219.5 0,-219.5\" stroke=\"black\"/>\n",
       "<text font-family=\"Times New Roman,serif\" font-size=\"14.00\" text-anchor=\"middle\" x=\"107.5\" y=\"-233.8\">max_pooling2d_43: MaxPooling2D</text>\n",
       "</g>\n",
       "<!-- 2914843283408&#45;&gt;2914847198736 -->\n",
       "<g class=\"edge\" id=\"edge6\"><title>2914843283408-&gt;2914847198736</title>\n",
       "<path d=\"M107.5,-292.313C107.5,-284.289 107.5,-274.547 107.5,-265.569\" fill=\"none\" stroke=\"black\"/>\n",
       "<polygon fill=\"black\" points=\"111,-265.529 107.5,-255.529 104,-265.529 111,-265.529\" stroke=\"black\"/>\n",
       "</g>\n",
       "<!-- 2914847123552 -->\n",
       "<g class=\"node\" id=\"node7\"><title>2914847123552</title>\n",
       "<polygon fill=\"none\" points=\"49.5,-146.5 49.5,-182.5 165.5,-182.5 165.5,-146.5 49.5,-146.5\" stroke=\"black\"/>\n",
       "<text font-family=\"Times New Roman,serif\" font-size=\"14.00\" text-anchor=\"middle\" x=\"107.5\" y=\"-160.8\">flatten_16: Flatten</text>\n",
       "</g>\n",
       "<!-- 2914847198736&#45;&gt;2914847123552 -->\n",
       "<g class=\"edge\" id=\"edge7\"><title>2914847198736-&gt;2914847123552</title>\n",
       "<path d=\"M107.5,-219.313C107.5,-211.289 107.5,-201.547 107.5,-192.569\" fill=\"none\" stroke=\"black\"/>\n",
       "<polygon fill=\"black\" points=\"111,-192.529 107.5,-182.529 104,-192.529 111,-192.529\" stroke=\"black\"/>\n",
       "</g>\n",
       "<!-- 2914847275776 -->\n",
       "<g class=\"node\" id=\"node8\"><title>2914847275776</title>\n",
       "<polygon fill=\"none\" points=\"39,-73.5 39,-109.5 176,-109.5 176,-73.5 39,-73.5\" stroke=\"black\"/>\n",
       "<text font-family=\"Times New Roman,serif\" font-size=\"14.00\" text-anchor=\"middle\" x=\"107.5\" y=\"-87.8\">dropout_17: Dropout</text>\n",
       "</g>\n",
       "<!-- 2914847123552&#45;&gt;2914847275776 -->\n",
       "<g class=\"edge\" id=\"edge8\"><title>2914847123552-&gt;2914847275776</title>\n",
       "<path d=\"M107.5,-146.313C107.5,-138.289 107.5,-128.547 107.5,-119.569\" fill=\"none\" stroke=\"black\"/>\n",
       "<polygon fill=\"black\" points=\"111,-119.529 107.5,-109.529 104,-119.529 111,-119.529\" stroke=\"black\"/>\n",
       "</g>\n",
       "<!-- 2914847275832 -->\n",
       "<g class=\"node\" id=\"node9\"><title>2914847275832</title>\n",
       "<polygon fill=\"none\" points=\"52,-0.5 52,-36.5 163,-36.5 163,-0.5 52,-0.5\" stroke=\"black\"/>\n",
       "<text font-family=\"Times New Roman,serif\" font-size=\"14.00\" text-anchor=\"middle\" x=\"107.5\" y=\"-14.8\">dense_34: Dense</text>\n",
       "</g>\n",
       "<!-- 2914847275776&#45;&gt;2914847275832 -->\n",
       "<g class=\"edge\" id=\"edge9\"><title>2914847275776-&gt;2914847275832</title>\n",
       "<path d=\"M107.5,-73.3129C107.5,-65.2895 107.5,-55.5475 107.5,-46.5691\" fill=\"none\" stroke=\"black\"/>\n",
       "<polygon fill=\"black\" points=\"111,-46.5288 107.5,-36.5288 104,-46.5289 111,-46.5288\" stroke=\"black\"/>\n",
       "</g>\n",
       "<!-- 2914843281504 -->\n",
       "<g class=\"node\" id=\"node10\"><title>2914843281504</title>\n",
       "<polygon fill=\"none\" points=\"55.5,-657.5 55.5,-693.5 159.5,-693.5 159.5,-657.5 55.5,-657.5\" stroke=\"black\"/>\n",
       "<text font-family=\"Times New Roman,serif\" font-size=\"14.00\" text-anchor=\"middle\" x=\"107.5\" y=\"-671.8\">2914843281504</text>\n",
       "</g>\n",
       "<!-- 2914843281504&#45;&gt;2914843281112 -->\n",
       "<g class=\"edge\" id=\"edge1\"><title>2914843281504-&gt;2914843281112</title>\n",
       "<path d=\"M107.5,-657.313C107.5,-649.289 107.5,-639.547 107.5,-630.569\" fill=\"none\" stroke=\"black\"/>\n",
       "<polygon fill=\"black\" points=\"111,-630.529 107.5,-620.529 104,-630.529 111,-630.529\" stroke=\"black\"/>\n",
       "</g>\n",
       "</g>\n",
       "</svg>"
      ],
      "text/plain": [
       "<IPython.core.display.SVG object>"
      ]
     },
     "execution_count": 230,
     "metadata": {},
     "output_type": "execute_result"
    }
   ],
   "source": [
    "from IPython.display import SVG\n",
    "from keras.utils.vis_utils import model_to_dot\n",
    "\n",
    "SVG(model_to_dot(model).create(prog='dot', format='svg'))"
   ]
  },
  {
   "cell_type": "markdown",
   "metadata": {
    "colab_type": "text",
    "id": "TfypWUJIlFkz"
   },
   "source": [
    "## Training CNN"
   ]
  },
  {
   "cell_type": "code",
   "execution_count": 231,
   "metadata": {
    "colab": {
     "base_uri": "https://localhost:8080/",
     "height": 931
    },
    "colab_type": "code",
    "id": "zsdmu-ggfvr1",
    "outputId": "77a52558-8ecc-4fc5-e0cb-2b86a75df4c6"
   },
   "outputs": [
    {
     "name": "stdout",
     "output_type": "stream",
     "text": [
      "Train on 1005 samples, validate on 495 samples\n",
      "Epoch 1/30\n",
      "1005/1005 [==============================] - 8s 8ms/step - loss: 1.4321 - acc: 0.3881 - val_loss: 1.1425 - val_acc: 0.6768\n",
      "Epoch 2/30\n",
      "1005/1005 [==============================] - 6s 6ms/step - loss: 1.0787 - acc: 0.5552 - val_loss: 0.8194 - val_acc: 0.7051\n",
      "Epoch 3/30\n",
      "1005/1005 [==============================] - 6s 6ms/step - loss: 0.8741 - acc: 0.6299 - val_loss: 0.6767 - val_acc: 0.7394\n",
      "Epoch 4/30\n",
      "1005/1005 [==============================] - 7s 7ms/step - loss: 0.7585 - acc: 0.6866 - val_loss: 0.5633 - val_acc: 0.7939\n",
      "Epoch 5/30\n",
      "1005/1005 [==============================] - 6s 6ms/step - loss: 0.6532 - acc: 0.7383 - val_loss: 0.5615 - val_acc: 0.7535\n",
      "Epoch 6/30\n",
      "1005/1005 [==============================] - 6s 6ms/step - loss: 0.6152 - acc: 0.7443 - val_loss: 0.5010 - val_acc: 0.8303\n",
      "Epoch 7/30\n",
      "1005/1005 [==============================] - 6s 6ms/step - loss: 0.5168 - acc: 0.8020 - val_loss: 0.4320 - val_acc: 0.8505\n",
      "Epoch 8/30\n",
      "1005/1005 [==============================] - 6s 6ms/step - loss: 0.4833 - acc: 0.8119 - val_loss: 0.4141 - val_acc: 0.8485\n",
      "Epoch 9/30\n",
      "1005/1005 [==============================] - 7s 7ms/step - loss: 0.4231 - acc: 0.8289 - val_loss: 0.3811 - val_acc: 0.8566\n",
      "Epoch 10/30\n",
      "1005/1005 [==============================] - 6s 6ms/step - loss: 0.4137 - acc: 0.8279 - val_loss: 0.4544 - val_acc: 0.8283\n",
      "Epoch 11/30\n",
      "1005/1005 [==============================] - 6s 6ms/step - loss: 0.3599 - acc: 0.8647 - val_loss: 0.3451 - val_acc: 0.8949\n",
      "Epoch 12/30\n",
      "1005/1005 [==============================] - 6s 6ms/step - loss: 0.3562 - acc: 0.8537 - val_loss: 0.3423 - val_acc: 0.8707\n",
      "Epoch 13/30\n",
      "1005/1005 [==============================] - 7s 7ms/step - loss: 0.3379 - acc: 0.8746 - val_loss: 0.3091 - val_acc: 0.8929\n",
      "Epoch 14/30\n",
      "1005/1005 [==============================] - 6s 6ms/step - loss: 0.3058 - acc: 0.8826 - val_loss: 0.3045 - val_acc: 0.9030\n",
      "Epoch 15/30\n",
      "1005/1005 [==============================] - 7s 7ms/step - loss: 0.2789 - acc: 0.9025 - val_loss: 0.3708 - val_acc: 0.8747\n",
      "Epoch 16/30\n",
      "1005/1005 [==============================] - 7s 7ms/step - loss: 0.2880 - acc: 0.9015 - val_loss: 0.3057 - val_acc: 0.8747\n",
      "Epoch 17/30\n",
      "1005/1005 [==============================] - 6s 6ms/step - loss: 0.2636 - acc: 0.9085 - val_loss: 0.2850 - val_acc: 0.8949\n",
      "Epoch 18/30\n",
      "1005/1005 [==============================] - 6s 6ms/step - loss: 0.2510 - acc: 0.9055 - val_loss: 0.2732 - val_acc: 0.9111\n",
      "Epoch 19/30\n",
      "1005/1005 [==============================] - 7s 6ms/step - loss: 0.2511 - acc: 0.9035 - val_loss: 0.2899 - val_acc: 0.9071\n",
      "Epoch 20/30\n",
      "1005/1005 [==============================] - 7s 7ms/step - loss: 0.2525 - acc: 0.8985 - val_loss: 0.2822 - val_acc: 0.9030\n",
      "Epoch 21/30\n",
      "1005/1005 [==============================] - 6s 6ms/step - loss: 0.2278 - acc: 0.9075 - val_loss: 0.3122 - val_acc: 0.8667\n",
      "Epoch 22/30\n",
      "1005/1005 [==============================] - 6s 6ms/step - loss: 0.2128 - acc: 0.9214 - val_loss: 0.2720 - val_acc: 0.9131\n",
      "Epoch 23/30\n",
      "1005/1005 [==============================] - 6s 6ms/step - loss: 0.2165 - acc: 0.9214 - val_loss: 0.2853 - val_acc: 0.8970\n",
      "Epoch 24/30\n",
      "1005/1005 [==============================] - 6s 6ms/step - loss: 0.2092 - acc: 0.9254 - val_loss: 0.2603 - val_acc: 0.9051\n",
      "Epoch 25/30\n",
      "1005/1005 [==============================] - 6s 6ms/step - loss: 0.2053 - acc: 0.9224 - val_loss: 0.2493 - val_acc: 0.9091\n",
      "Epoch 26/30\n",
      "1005/1005 [==============================] - 6s 6ms/step - loss: 0.2051 - acc: 0.9284 - val_loss: 0.2638 - val_acc: 0.9091\n",
      "Epoch 27/30\n",
      "1005/1005 [==============================] - 6s 6ms/step - loss: 0.1855 - acc: 0.9224 - val_loss: 0.2973 - val_acc: 0.8929\n",
      "Epoch 28/30\n",
      "1005/1005 [==============================] - 7s 7ms/step - loss: 0.1922 - acc: 0.9164 - val_loss: 0.2536 - val_acc: 0.8990\n",
      "Epoch 29/30\n",
      "1005/1005 [==============================] - 6s 6ms/step - loss: 0.1946 - acc: 0.9353 - val_loss: 0.2700 - val_acc: 0.9071\n",
      "Epoch 30/30\n",
      "1005/1005 [==============================] - 6s 6ms/step - loss: 0.1754 - acc: 0.9453 - val_loss: 0.2891 - val_acc: 0.9010\n"
     ]
    }
   ],
   "source": [
    "EPOCHS = 30\n",
    "history = model.fit(train_data, train_labels, epochs=EPOCHS, validation_data=(test_data, test_labels))"
   ]
  },
  {
   "cell_type": "code",
   "execution_count": 232,
   "metadata": {},
   "outputs": [
    {
     "name": "stdout",
     "output_type": "stream",
     "text": [
      "dict_keys(['val_loss', 'val_acc', 'loss', 'acc'])\n"
     ]
    },
    {
     "data": {
      "image/png": "[encoded data removed]",
      "text/plain": [
       "<matplotlib.figure.Figure at 0x2a6a0caa898>"
      ]
     },
     "metadata": {},
     "output_type": "display_data"
    },
    {
     "data": {
      "image/png": "[encoded data removed]",
      "text/plain": [
       "<matplotlib.figure.Figure at 0x2a6a02c49b0>"
      ]
     },
     "metadata": {},
     "output_type": "display_data"
    }
   ],
   "source": [
    "print(history.history.keys())\n",
    "\n",
    "# Plot training & validation accuracy values\n",
    "plt.plot(history.history['acc'])\n",
    "plt.plot(history.history['val_acc'])\n",
    "\n",
    "plt.title('Model accuracy')\n",
    "plt.ylabel('Accuracy')\n",
    "plt.xlabel('Epoch')\n",
    "plt.legend(['Train', 'Test'], loc='upper left')\n",
    "plt.show()\n",
    "\n",
    "# Plot training & validation loss values\n",
    "plt.plot(history.history['loss'])\n",
    "plt.plot(history.history['val_loss'])\n",
    "plt.title('Model loss')\n",
    "plt.ylabel('Loss')\n",
    "plt.xlabel('Epoch')\n",
    "plt.legend(['Train', 'Test'], loc='upper left')\n",
    "plt.show()"
   ]
  },
  {
   "cell_type": "markdown",
   "metadata": {},
   "source": [
    "## Save the model"
   ]
  },
  {
   "cell_type": "code",
   "execution_count": 233,
   "metadata": {},
   "outputs": [],
   "source": [
    "import datetime\n",
    "\n",
    "dt = datetime.datetime.today().strftime('%Y%m%d%H%M%S')\n",
    "filename = 'cnn_for_aed_{}.h5'.format(dt)\n",
    "model.save(filename)"
   ]
  },
  {
   "cell_type": "markdown",
   "metadata": {},
   "source": [
    "## Load the model"
   ]
  },
  {
   "cell_type": "code",
   "execution_count": 234,
   "metadata": {},
   "outputs": [],
   "source": [
    "del model\n",
    "model = models.load_model(filename)"
   ]
  },
  {
   "cell_type": "markdown",
   "metadata": {
    "colab_type": "text",
    "id": "j6con4C3lKC1"
   },
   "source": [
    "## Confirmation"
   ]
  },
  {
   "cell_type": "code",
   "execution_count": 235,
   "metadata": {
    "colab": {
     "base_uri": "https://localhost:8080/",
     "height": 34
    },
    "colab_type": "code",
    "id": "4oZYLLij69wU",
    "outputId": "b37a4b8a-2c80-411f-d8a9-5df1c6dbfe22"
   },
   "outputs": [
    {
     "data": {
      "text/plain": [
       "(1005, 64, 40, 1)"
      ]
     },
     "execution_count": 235,
     "metadata": {},
     "output_type": "execute_result"
    }
   ],
   "source": [
    "import numpy as np\n",
    "import matplotlib.pyplot as plt\n",
    "train_data.shape"
   ]
  },
  {
   "cell_type": "code",
   "execution_count": 236,
   "metadata": {
    "colab": {
     "base_uri": "https://localhost:8080/",
     "height": 193
    },
    "colab_type": "code",
    "id": "zSxXE9FgRBdJ",
    "outputId": "f3a53efe-e99f-4572-f9b4-1bf3c39c77ec"
   },
   "outputs": [],
   "source": [
    "layer_outputs = [layer.output for layer in model.layers]\n",
    "#layer_outputs"
   ]
  },
  {
   "cell_type": "code",
   "execution_count": 237,
   "metadata": {
    "colab": {
     "base_uri": "https://localhost:8080/",
     "height": 34
    },
    "colab_type": "code",
    "id": "dcw7yHKrRkPD",
    "outputId": "a3ed5441-ae48-4635-bf07-ac5060030608"
   },
   "outputs": [],
   "source": [
    "activation_model = models.Model(inputs=model.input, outputs=layer_outputs)\n",
    "activations = activation_model.predict(test_data)\n",
    "#activations[0][0,:,:,0].shape"
   ]
  },
  {
   "cell_type": "code",
   "execution_count": 238,
   "metadata": {},
   "outputs": [
    {
     "data": {
      "text/plain": [
       "['blues_harp', 'classical_guitar', 'framenco_guitar', 'piano', 'tin_whistle']"
      ]
     },
     "execution_count": 238,
     "metadata": {},
     "output_type": "execute_result"
    }
   ],
   "source": [
    "class_labels"
   ]
  },
  {
   "cell_type": "code",
   "execution_count": 239,
   "metadata": {
    "colab": {
     "base_uri": "https://localhost:8080/",
     "height": 193
    },
    "colab_type": "code",
    "id": "ccSNAwGKhRn9",
    "outputId": "0ad22e12-713b-4b07-e17b-45d39ff1b80b"
   },
   "outputs": [
    {
     "data": {
      "text/plain": [
       "array([[99,  0,  0,  0,  0],\n",
       "       [ 0,  0, 99,  0,  0],\n",
       "       [ 0, 37,  0, 62,  0],\n",
       "       [ 0, 89,  0, 10,  0],\n",
       "       [99,  0,  0,  0,  0],\n",
       "       [ 0,  0,  0, 99,  0],\n",
       "       [99,  0,  0,  0,  0],\n",
       "       [ 0,  0,  0,  0, 99],\n",
       "       [99,  0,  0,  0,  0],\n",
       "       [ 0,  0, 99,  0,  0]])"
      ]
     },
     "execution_count": 239,
     "metadata": {},
     "output_type": "execute_result"
    }
   ],
   "source": [
    "(activations[-1][:10]*100).astype(int)"
   ]
  },
  {
   "cell_type": "code",
   "execution_count": 240,
   "metadata": {
    "colab": {
     "base_uri": "https://localhost:8080/",
     "height": 193
    },
    "colab_type": "code",
    "id": "RoE0nxtuiGIN",
    "outputId": "154437a8-ab72-46f4-f42c-3e6464af47d0"
   },
   "outputs": [
    {
     "data": {
      "text/plain": [
       "array([[1, 0, 0, 0, 0],\n",
       "       [0, 0, 1, 0, 0],\n",
       "       [0, 0, 0, 1, 0],\n",
       "       [0, 1, 0, 0, 0],\n",
       "       [1, 0, 0, 0, 0],\n",
       "       [0, 0, 0, 1, 0],\n",
       "       [1, 0, 0, 0, 0],\n",
       "       [0, 0, 0, 0, 1],\n",
       "       [1, 0, 0, 0, 0],\n",
       "       [0, 0, 1, 0, 0]])"
      ]
     },
     "execution_count": 240,
     "metadata": {},
     "output_type": "execute_result"
    }
   ],
   "source": [
    "test_labels[:10].astype(int)"
   ]
  },
  {
   "cell_type": "code",
   "execution_count": 241,
   "metadata": {},
   "outputs": [],
   "source": [
    "def plot_layer(activations, sample, layer):\n",
    "    a = activations[layer].shape\n",
    "    rows = int(a[3]/4)\n",
    "    fig, axarr = plt.subplots(rows, 4, figsize=[20,15])\n",
    "    for i in range(a[3]):\n",
    "        row = int(i/4)\n",
    "        x, y = row, i-4*row\n",
    "        axarr[x, y].imshow(np.rot90(activations[layer][sample, :, :, i]))\n",
    "        axarr[x, y].set_xticks([])\n",
    "        axarr[x, y].set_yticks([])"
   ]
  },
  {
   "cell_type": "code",
   "execution_count": 244,
   "metadata": {},
   "outputs": [
    {
     "data": {
      "text/plain": [
       "'framenco_guitar'"
      ]
     },
     "execution_count": 244,
     "metadata": {},
     "output_type": "execute_result"
    },
    {
     "data": {
      "image/png": "[encoded data removed]",
      "text/plain": [
       "<matplotlib.figure.Figure at 0x2a693494400>"
      ]
     },
     "metadata": {},
     "output_type": "display_data"
    }
   ],
   "source": [
    "image_number = 25\n",
    "\n",
    "plt.imshow(np.rot90(test_data[image_number,:,:,0]))\n",
    "class_labels[np.argmax(test_labels[image_number])]"
   ]
  },
  {
   "cell_type": "code",
   "execution_count": 245,
   "metadata": {},
   "outputs": [
    {
     "data": {
      "image/png": "[encoded data removed]",
      "text/plain": [
       "<matplotlib.figure.Figure at 0x2a69316bcc0>"
      ]
     },
     "metadata": {},
     "output_type": "display_data"
    }
   ],
   "source": [
    "plot_layer(activations, image_number, 2)"
   ]
  },
  {
   "cell_type": "code",
   "execution_count": 246,
   "metadata": {},
   "outputs": [
    {
     "data": {
      "image/png": "[encoded data removed]",
      "text/plain": [
       "<matplotlib.figure.Figure at 0x2a68d3db4e0>"
      ]
     },
     "metadata": {},
     "output_type": "display_data"
    }
   ],
   "source": [
    "plot_layer(activations, image_number, 5)"
   ]
  },
  {
   "cell_type": "code",
   "execution_count": null,
   "metadata": {},
   "outputs": [],
   "source": []
  }
 ],
 "metadata": {
  "colab": {
   "collapsed_sections": [],
   "name": "CNN for AED",
   "provenance": [],
   "version": "0.3.2"
  },
  "kernelspec": {
   "display_name": "Python 3",
   "language": "python",
   "name": "python3"
  },
  "language_info": {
   "codemirror_mode": {
    "name": "ipython",
    "version": 3
   },
   "file_extension": ".py",
   "mimetype": "text/x-python",
   "name": "python",
   "nbconvert_exporter": "python",
   "pygments_lexer": "ipython3",
   "version": "3.6.4"
  }
 },
 "nbformat": 4,
 "nbformat_minor": 1
}
