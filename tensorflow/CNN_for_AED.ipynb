{
 "cells": [
  {
   "cell_type": "markdown",
   "metadata": {
    "colab_type": "text",
    "id": "0X16cagQE-Y-"
   },
   "source": [
    "# CNN for AED with Keras/TensorFlow\n",
    "\n",
    "Date: November 11, 2018\n",
    "\n",
    "Neural network: three convolution layers and three fully connected layers\n",
    "\n",
    "Classification of acoustic events:\n",
    "\n",
    "- Piano music\n",
    "- Framenco guitar music\n",
    "- Classical guitar music\n",
    "- Blues hars music\n",
    "- Tin whistle music\n",
    "- Silence"
   ]
  },
  {
   "cell_type": "markdown",
   "metadata": {
    "colab_type": "text",
    "id": "WwQ-dEltkl5Q"
   },
   "source": [
    "## Preparing data set for CNN"
   ]
  },
  {
   "cell_type": "code",
   "execution_count": 9,
   "metadata": {
    "colab": {
     "base_uri": "https://localhost:8080/",
     "height": 34
    },
    "colab_type": "code",
    "id": "VEJyQsGpV3ug",
    "outputId": "3929aa39-3383-4791-e065-3622e6781181"
   },
   "outputs": [],
   "source": [
    "#from google.colab import drive\n",
    "#drive.mount('/content/gdrive')\n",
    "\n",
    "DATA_FOLDER = '../oscilloscope/data_music/'\n",
    "\n",
    "FILTERS=40\n",
    "FILES = 100\n",
    "TRAINING_FILES = 67\n",
    "TEST_FILES = FILES - TRAINING_FILES"
   ]
  },
  {
   "cell_type": "code",
   "execution_count": 10,
   "metadata": {
    "colab": {},
    "colab_type": "code",
    "id": "JTNdoPBFWGky"
   },
   "outputs": [],
   "source": [
    "%matplotlib inline\n",
    "\n",
    "import matplotlib\n",
    "import matplotlib.pyplot as plt\n",
    "import numpy as np\n",
    "import pandas as pd\n",
    "import time\n",
    "import random\n",
    "import os\n",
    "import sklearn.preprocessing as pp"
   ]
  },
  {
   "cell_type": "code",
   "execution_count": 11,
   "metadata": {},
   "outputs": [
    {
     "name": "stdout",
     "output_type": "stream",
     "text": [
      "5: framenco_guitar\n",
      "1: piano\n",
      "3: blues_harp\n",
      "4: tin_whistle\n",
      "2: classical_guitar\n",
      "0: silence\n"
     ]
    }
   ],
   "source": [
    "import glob\n",
    "\n",
    "data_files = glob.glob(DATA_FOLDER+'*mel_spectrogram*.csv')\n",
    "class_labels = []\n",
    "\n",
    "for file in data_files:\n",
    "    label = file.split('-')[0].replace('\\\\', '/').split('/')[-1]\n",
    "    if label not in class_labels:\n",
    "        class_labels.append(label)\n",
    "\n",
    "data_set = {}\n",
    "\n",
    "class_number = 0\n",
    "\n",
    "for label in class_labels:\n",
    "    files = glob.glob(DATA_FOLDER+'{}-*mel_spectrogram*.csv'.format(label))\n",
    "    random.shuffle(files)\n",
    "    data_set[label] = (files[:TRAINING_FILES], files[TRAINING_FILES:FILES], class_number)\n",
    "    class_number += 1\n",
    "\n",
    "training_set = []\n",
    "test_set = []\n",
    "\n",
    "LENGTH=64\n",
    "a1, a2 = 0,  FILTERS*64\n",
    "b1, b2 = FILTERS*64, FILTERS*64*2\n",
    "c1, c2 = FILTERS*64*2, FILTERS*64*3\n",
    "\n",
    "for k, v in data_set.items():\n",
    "    files = v[0]\n",
    "    class_number = v[2]\n",
    "    for file in files:\n",
    "        df = pd.read_csv(file.replace(os.path.sep, '/'), dtype=np.float)\n",
    "        #df = df[df['n']<FILTERS]\n",
    "        img1 = pp.scale(df[a1:a2]['magnitude'].values)\n",
    "        img2 = pp.scale(df[b1:b2]['magnitude'].values)\n",
    "        img3 = pp.scale(df[c1:c2]['magnitude'].values)\n",
    "        training_set.append((img1, class_number))\n",
    "        training_set.append((img2, class_number))\n",
    "        training_set.append((img3, class_number))\n",
    "    files = v[1]\n",
    "    for file in files:\n",
    "        df = pd.read_csv(file.replace(os.path.sep, '/'), dtype=np.float)\n",
    "        #df = df[df['n']<FILTERS]\n",
    "        img1 = pp.scale(df[a1:a2]['magnitude'].values)\n",
    "        img2 = pp.scale(df[b1:b2]['magnitude'].values)\n",
    "        img3 = pp.scale(df[c1:c2]['magnitude'].values)\n",
    "        test_set.append((img1, class_number))\n",
    "        test_set.append((img2, class_number))\n",
    "        test_set.append((img3, class_number))\n",
    "\n",
    "random.shuffle(training_set)\n",
    "random.shuffle(test_set)\n",
    "\n",
    "class_labels = [None for _ in range(len(data_set))]\n",
    "\n",
    "# Class number and class labels\n",
    "for k,v in data_set.items():\n",
    "    print('{}: {}'.format(v[2],k ))\n",
    "    class_labels[v[2]] = k\n",
    "    \n",
    "import yaml\n",
    "with open(DATA_FOLDER+'class_labels.yaml', 'w') as f:\n",
    "    yaml.dump(class_labels, f)"
   ]
  },
  {
   "cell_type": "code",
   "execution_count": 12,
   "metadata": {
    "colab": {},
    "colab_type": "code",
    "id": "28tIKkNyW3cO"
   },
   "outputs": [
    {
     "name": "stderr",
     "output_type": "stream",
     "text": [
      "Using TensorFlow backend.\n",
      "/usr/lib/python3.5/importlib/_bootstrap.py:222: RuntimeWarning: compiletime version 3.4 of module 'tensorflow.python.framework.fast_tensor_util' does not match runtime version 3.5\n",
      "  return f(*args, **kwds)\n",
      "/usr/lib/python3.5/importlib/_bootstrap.py:222: RuntimeWarning: builtins.type size changed, may indicate binary incompatibility. Expected 432, got 412\n",
      "  return f(*args, **kwds)\n"
     ]
    },
    {
     "data": {
      "text/plain": [
       "<matplotlib.image.AxesImage at 0x63d2b830>"
      ]
     },
     "execution_count": 12,
     "metadata": {},
     "output_type": "execute_result"
    },
    {
     "data": {
      "image/png": "[encoded data removed]",
      "text/plain": [
       "<matplotlib.figure.Figure at 0x6c6d4430>"
      ]
     },
     "metadata": {
      "needs_background": "light"
     },
     "output_type": "display_data"
    }
   ],
   "source": [
    "train_data, train_labels = [], []\n",
    "test_data, test_labels = [], []\n",
    "for img, label in training_set:\n",
    "    train_data.append(img)\n",
    "    train_labels.append(label)\n",
    "for img, label in test_set:\n",
    "    test_data.append(img)\n",
    "    test_labels.append(label)\n",
    "train_data = np.array(train_data, dtype='float32').reshape((TRAINING_FILES*len(class_labels)*3, LENGTH, FILTERS, 1))\n",
    "train_labels = np.array(train_labels, dtype='uint8')\n",
    "test_data = np.array(test_data, dtype='float32').reshape((TEST_FILES*len(class_labels)*3, LENGTH, FILTERS, 1))\n",
    "test_lables = np.array(test_labels, dtype='uint8')\n",
    "#train_data.shape\n",
    "\n",
    "from keras.utils import to_categorical\n",
    "\n",
    "train_labels=to_categorical(train_labels)\n",
    "test_labels=to_categorical(test_labels)\n",
    "\n",
    "plt.imshow(np.rot90(train_data[0, :,:,0]))"
   ]
  },
  {
   "cell_type": "markdown",
   "metadata": {
    "colab_type": "text",
    "id": "VfUmgxxVk6uM"
   },
   "source": [
    "### CNN model"
   ]
  },
  {
   "cell_type": "code",
   "execution_count": 13,
   "metadata": {
    "colab": {
     "base_uri": "https://localhost:8080/",
     "height": 509
    },
    "colab_type": "code",
    "id": "B2Xg6tGLdMKP",
    "outputId": "ae3daa32-9dbf-4d8b-9a11-7f596dd2e4a6"
   },
   "outputs": [
    {
     "name": "stdout",
     "output_type": "stream",
     "text": [
      "_________________________________________________________________\n",
      "Layer (type)                 Output Shape              Param #   \n",
      "=================================================================\n",
      "conv2d_1 (Conv2D)            (None, 62, 38, 4)         40        \n",
      "_________________________________________________________________\n",
      "max_pooling2d_1 (MaxPooling2 (None, 31, 19, 4)         0         \n",
      "_________________________________________________________________\n",
      "conv2d_2 (Conv2D)            (None, 29, 17, 8)         296       \n",
      "_________________________________________________________________\n",
      "max_pooling2d_2 (MaxPooling2 (None, 14, 8, 8)          0         \n",
      "_________________________________________________________________\n",
      "conv2d_3 (Conv2D)            (None, 12, 6, 16)         1168      \n",
      "_________________________________________________________________\n",
      "max_pooling2d_3 (MaxPooling2 (None, 6, 3, 16)          0         \n",
      "_________________________________________________________________\n",
      "flatten_1 (Flatten)          (None, 288)               0         \n",
      "_________________________________________________________________\n",
      "dropout_1 (Dropout)          (None, 288)               0         \n",
      "_________________________________________________________________\n",
      "dense_1 (Dense)              (None, 6)                 1734      \n",
      "=================================================================\n",
      "Total params: 3,238\n",
      "Trainable params: 3,238\n",
      "Non-trainable params: 0\n",
      "_________________________________________________________________\n"
     ]
    }
   ],
   "source": [
    "from keras import layers\n",
    "from keras import models\n",
    "\n",
    "model = models.Sequential()\n",
    "\n",
    "model.add(layers.Conv2D(4, (3, 3), activation='relu', input_shape=(LENGTH, FILTERS, 1)))\n",
    "model.add(layers.MaxPooling2D((2,2)))\n",
    "\n",
    "model.add(layers.Conv2D(8, (3, 3), activation='relu'))\n",
    "model.add(layers.MaxPooling2D((2,2)))\n",
    "\n",
    "model.add(layers.Conv2D(16, (3, 3), activation='relu'))\n",
    "model.add(layers.MaxPooling2D((2,2)))\n",
    "\n",
    "model.add(layers.Flatten())\n",
    "model.add(layers.Dropout(0.5))\n",
    "model.add(layers.Dense(len(class_labels), activation='softmax'))\n",
    "\n",
    "model.summary()"
   ]
  },
  {
   "cell_type": "code",
   "execution_count": 14,
   "metadata": {
    "colab": {},
    "colab_type": "code",
    "id": "nRr1L_4ogL6i"
   },
   "outputs": [],
   "source": [
    "model.compile(optimizer='rmsprop', loss='categorical_crossentropy', metrics=['accuracy'])"
   ]
  },
  {
   "cell_type": "code",
   "execution_count": 15,
   "metadata": {},
   "outputs": [
    {
     "data": {
      "image/svg+xml": [
       "<svg height=\"702pt\" viewBox=\"0.00 0.00 263.00 702.00\" width=\"263pt\" xmlns=\"http://www.w3.org/2000/svg\" xmlns:xlink=\"http://www.w3.org/1999/xlink\">\n",
       "<g class=\"graph\" id=\"graph0\" transform=\"scale(1 1) rotate(0) translate(4 698)\">\n",
       "<title>G</title>\n",
       "<polygon fill=\"white\" points=\"-4,4 -4,-698 259,-698 259,4 -4,4\" stroke=\"none\"/>\n",
       "<!-- 1674634000 -->\n",
       "<g class=\"node\" id=\"node1\"><title>1674634000</title>\n",
       "<polygon fill=\"none\" points=\"52,-584.5 52,-620.5 203,-620.5 203,-584.5 52,-584.5\" stroke=\"black\"/>\n",
       "<text font-family=\"Times,serif\" font-size=\"14.00\" text-anchor=\"middle\" x=\"127.5\" y=\"-598.8\">conv2d_1: Conv2D</text>\n",
       "</g>\n",
       "<!-- 1674633584 -->\n",
       "<g class=\"node\" id=\"node2\"><title>1674633584</title>\n",
       "<polygon fill=\"none\" points=\"0,-511.5 0,-547.5 255,-547.5 255,-511.5 0,-511.5\" stroke=\"black\"/>\n",
       "<text font-family=\"Times,serif\" font-size=\"14.00\" text-anchor=\"middle\" x=\"127.5\" y=\"-525.8\">max_pooling2d_1: MaxPooling2D</text>\n",
       "</g>\n",
       "<!-- 1674634000&#45;&gt;1674633584 -->\n",
       "<g class=\"edge\" id=\"edge2\"><title>1674634000-&gt;1674633584</title>\n",
       "<path d=\"M127.5,-584.313C127.5,-576.289 127.5,-566.547 127.5,-557.569\" fill=\"none\" stroke=\"black\"/>\n",
       "<polygon fill=\"black\" points=\"131,-557.529 127.5,-547.529 124,-557.529 131,-557.529\" stroke=\"black\"/>\n",
       "</g>\n",
       "<!-- 1674606416 -->\n",
       "<g class=\"node\" id=\"node3\"><title>1674606416</title>\n",
       "<polygon fill=\"none\" points=\"52,-438.5 52,-474.5 203,-474.5 203,-438.5 52,-438.5\" stroke=\"black\"/>\n",
       "<text font-family=\"Times,serif\" font-size=\"14.00\" text-anchor=\"middle\" x=\"127.5\" y=\"-452.8\">conv2d_2: Conv2D</text>\n",
       "</g>\n",
       "<!-- 1674633584&#45;&gt;1674606416 -->\n",
       "<g class=\"edge\" id=\"edge3\"><title>1674633584-&gt;1674606416</title>\n",
       "<path d=\"M127.5,-511.313C127.5,-503.289 127.5,-493.547 127.5,-484.569\" fill=\"none\" stroke=\"black\"/>\n",
       "<polygon fill=\"black\" points=\"131,-484.529 127.5,-474.529 124,-484.529 131,-484.529\" stroke=\"black\"/>\n",
       "</g>\n",
       "<!-- 1672676560 -->\n",
       "<g class=\"node\" id=\"node4\"><title>1672676560</title>\n",
       "<polygon fill=\"none\" points=\"0,-365.5 0,-401.5 255,-401.5 255,-365.5 0,-365.5\" stroke=\"black\"/>\n",
       "<text font-family=\"Times,serif\" font-size=\"14.00\" text-anchor=\"middle\" x=\"127.5\" y=\"-379.8\">max_pooling2d_2: MaxPooling2D</text>\n",
       "</g>\n",
       "<!-- 1674606416&#45;&gt;1672676560 -->\n",
       "<g class=\"edge\" id=\"edge4\"><title>1674606416-&gt;1672676560</title>\n",
       "<path d=\"M127.5,-438.313C127.5,-430.289 127.5,-420.547 127.5,-411.569\" fill=\"none\" stroke=\"black\"/>\n",
       "<polygon fill=\"black\" points=\"131,-411.529 127.5,-401.529 124,-411.529 131,-411.529\" stroke=\"black\"/>\n",
       "</g>\n",
       "<!-- 1672676144 -->\n",
       "<g class=\"node\" id=\"node5\"><title>1672676144</title>\n",
       "<polygon fill=\"none\" points=\"52,-292.5 52,-328.5 203,-328.5 203,-292.5 52,-292.5\" stroke=\"black\"/>\n",
       "<text font-family=\"Times,serif\" font-size=\"14.00\" text-anchor=\"middle\" x=\"127.5\" y=\"-306.8\">conv2d_3: Conv2D</text>\n",
       "</g>\n",
       "<!-- 1672676560&#45;&gt;1672676144 -->\n",
       "<g class=\"edge\" id=\"edge5\"><title>1672676560-&gt;1672676144</title>\n",
       "<path d=\"M127.5,-365.313C127.5,-357.289 127.5,-347.547 127.5,-338.569\" fill=\"none\" stroke=\"black\"/>\n",
       "<polygon fill=\"black\" points=\"131,-338.529 127.5,-328.529 124,-338.529 131,-338.529\" stroke=\"black\"/>\n",
       "</g>\n",
       "<!-- 1672679024 -->\n",
       "<g class=\"node\" id=\"node6\"><title>1672679024</title>\n",
       "<polygon fill=\"none\" points=\"0,-219.5 0,-255.5 255,-255.5 255,-219.5 0,-219.5\" stroke=\"black\"/>\n",
       "<text font-family=\"Times,serif\" font-size=\"14.00\" text-anchor=\"middle\" x=\"127.5\" y=\"-233.8\">max_pooling2d_3: MaxPooling2D</text>\n",
       "</g>\n",
       "<!-- 1672676144&#45;&gt;1672679024 -->\n",
       "<g class=\"edge\" id=\"edge6\"><title>1672676144-&gt;1672679024</title>\n",
       "<path d=\"M127.5,-292.313C127.5,-284.289 127.5,-274.547 127.5,-265.569\" fill=\"none\" stroke=\"black\"/>\n",
       "<polygon fill=\"black\" points=\"131,-265.529 127.5,-255.529 124,-265.529 131,-265.529\" stroke=\"black\"/>\n",
       "</g>\n",
       "<!-- 1674228176 -->\n",
       "<g class=\"node\" id=\"node7\"><title>1674228176</title>\n",
       "<polygon fill=\"none\" points=\"57,-146.5 57,-182.5 198,-182.5 198,-146.5 57,-146.5\" stroke=\"black\"/>\n",
       "<text font-family=\"Times,serif\" font-size=\"14.00\" text-anchor=\"middle\" x=\"127.5\" y=\"-160.8\">flatten_1: Flatten</text>\n",
       "</g>\n",
       "<!-- 1672679024&#45;&gt;1674228176 -->\n",
       "<g class=\"edge\" id=\"edge7\"><title>1672679024-&gt;1674228176</title>\n",
       "<path d=\"M127.5,-219.313C127.5,-211.289 127.5,-201.547 127.5,-192.569\" fill=\"none\" stroke=\"black\"/>\n",
       "<polygon fill=\"black\" points=\"131,-192.529 127.5,-182.529 124,-192.529 131,-192.529\" stroke=\"black\"/>\n",
       "</g>\n",
       "<!-- 1674231088 -->\n",
       "<g class=\"node\" id=\"node8\"><title>1674231088</title>\n",
       "<polygon fill=\"none\" points=\"49,-73.5 49,-109.5 206,-109.5 206,-73.5 49,-73.5\" stroke=\"black\"/>\n",
       "<text font-family=\"Times,serif\" font-size=\"14.00\" text-anchor=\"middle\" x=\"127.5\" y=\"-87.8\">dropout_1: Dropout</text>\n",
       "</g>\n",
       "<!-- 1674228176&#45;&gt;1674231088 -->\n",
       "<g class=\"edge\" id=\"edge8\"><title>1674228176-&gt;1674231088</title>\n",
       "<path d=\"M127.5,-146.313C127.5,-138.289 127.5,-128.547 127.5,-119.569\" fill=\"none\" stroke=\"black\"/>\n",
       "<polygon fill=\"black\" points=\"131,-119.529 127.5,-109.529 124,-119.529 131,-119.529\" stroke=\"black\"/>\n",
       "</g>\n",
       "<!-- 1674230992 -->\n",
       "<g class=\"node\" id=\"node9\"><title>1674230992</title>\n",
       "<polygon fill=\"none\" points=\"63.5,-0.5 63.5,-36.5 191.5,-36.5 191.5,-0.5 63.5,-0.5\" stroke=\"black\"/>\n",
       "<text font-family=\"Times,serif\" font-size=\"14.00\" text-anchor=\"middle\" x=\"127.5\" y=\"-14.8\">dense_1: Dense</text>\n",
       "</g>\n",
       "<!-- 1674231088&#45;&gt;1674230992 -->\n",
       "<g class=\"edge\" id=\"edge9\"><title>1674231088-&gt;1674230992</title>\n",
       "<path d=\"M127.5,-73.3129C127.5,-65.2895 127.5,-55.5475 127.5,-46.5691\" fill=\"none\" stroke=\"black\"/>\n",
       "<polygon fill=\"black\" points=\"131,-46.5288 127.5,-36.5288 124,-46.5289 131,-46.5288\" stroke=\"black\"/>\n",
       "</g>\n",
       "<!-- 1674637136 -->\n",
       "<g class=\"node\" id=\"node10\"><title>1674637136</title>\n",
       "<polygon fill=\"none\" points=\"74,-657.5 74,-693.5 181,-693.5 181,-657.5 74,-657.5\" stroke=\"black\"/>\n",
       "<text font-family=\"Times,serif\" font-size=\"14.00\" text-anchor=\"middle\" x=\"127.5\" y=\"-671.8\">1674637136</text>\n",
       "</g>\n",
       "<!-- 1674637136&#45;&gt;1674634000 -->\n",
       "<g class=\"edge\" id=\"edge1\"><title>1674637136-&gt;1674634000</title>\n",
       "<path d=\"M127.5,-657.313C127.5,-649.289 127.5,-639.547 127.5,-630.569\" fill=\"none\" stroke=\"black\"/>\n",
       "<polygon fill=\"black\" points=\"131,-630.529 127.5,-620.529 124,-630.529 131,-630.529\" stroke=\"black\"/>\n",
       "</g>\n",
       "</g>\n",
       "</svg>"
      ],
      "text/plain": [
       "<IPython.core.display.SVG object>"
      ]
     },
     "execution_count": 15,
     "metadata": {},
     "output_type": "execute_result"
    }
   ],
   "source": [
    "from IPython.display import SVG\n",
    "from keras.utils.vis_utils import model_to_dot\n",
    "\n",
    "SVG(model_to_dot(model).create(prog='dot', format='svg'))"
   ]
  },
  {
   "cell_type": "markdown",
   "metadata": {
    "colab_type": "text",
    "id": "TfypWUJIlFkz"
   },
   "source": [
    "## Training CNN"
   ]
  },
  {
   "cell_type": "code",
   "execution_count": 16,
   "metadata": {
    "colab": {
     "base_uri": "https://localhost:8080/",
     "height": 931
    },
    "colab_type": "code",
    "id": "zsdmu-ggfvr1",
    "outputId": "77a52558-8ecc-4fc5-e0cb-2b86a75df4c6"
   },
   "outputs": [
    {
     "name": "stdout",
     "output_type": "stream",
     "text": [
      "Train on 1206 samples, validate on 594 samples\n",
      "Epoch 1/30\n",
      "1206/1206 [==============================] - 11s 9ms/step - loss: 1.7648 - acc: 0.2496 - val_loss: 1.6060 - val_acc: 0.3502\n",
      "Epoch 2/30\n",
      "1206/1206 [==============================] - 7s 6ms/step - loss: 1.4010 - acc: 0.4876 - val_loss: 1.0746 - val_acc: 0.6498\n",
      "Epoch 3/30\n",
      "1206/1206 [==============================] - 7s 6ms/step - loss: 0.9760 - acc: 0.6310 - val_loss: 0.7714 - val_acc: 0.7172\n",
      "Epoch 4/30\n",
      "1206/1206 [==============================] - 7s 6ms/step - loss: 0.8084 - acc: 0.6849 - val_loss: 0.6475 - val_acc: 0.7727\n",
      "Epoch 5/30\n",
      "1206/1206 [==============================] - 7s 6ms/step - loss: 0.7209 - acc: 0.7189 - val_loss: 0.5921 - val_acc: 0.7778\n",
      "Epoch 6/30\n",
      "1206/1206 [==============================] - 7s 6ms/step - loss: 0.6230 - acc: 0.7504 - val_loss: 0.5394 - val_acc: 0.7896\n",
      "Epoch 7/30\n",
      "1206/1206 [==============================] - 7s 6ms/step - loss: 0.5721 - acc: 0.7811 - val_loss: 0.4627 - val_acc: 0.8350\n",
      "Epoch 8/30\n",
      "1206/1206 [==============================] - 7s 6ms/step - loss: 0.5062 - acc: 0.8093 - val_loss: 0.4304 - val_acc: 0.8401\n",
      "Epoch 9/30\n",
      "1206/1206 [==============================] - 7s 6ms/step - loss: 0.4916 - acc: 0.8176 - val_loss: 0.4206 - val_acc: 0.8451\n",
      "Epoch 10/30\n",
      "1206/1206 [==============================] - 7s 6ms/step - loss: 0.4587 - acc: 0.8259 - val_loss: 0.3867 - val_acc: 0.8502\n",
      "Epoch 11/30\n",
      "1206/1206 [==============================] - 7s 6ms/step - loss: 0.4352 - acc: 0.8391 - val_loss: 0.3753 - val_acc: 0.8519\n",
      "Epoch 12/30\n",
      "1206/1206 [==============================] - 7s 6ms/step - loss: 0.3834 - acc: 0.8549 - val_loss: 0.3876 - val_acc: 0.8384\n",
      "Epoch 13/30\n",
      "1206/1206 [==============================] - 8s 6ms/step - loss: 0.3920 - acc: 0.8599 - val_loss: 0.3439 - val_acc: 0.8535\n",
      "Epoch 14/30\n",
      "1206/1206 [==============================] - 8s 7ms/step - loss: 0.3882 - acc: 0.8549 - val_loss: 0.3731 - val_acc: 0.8519\n",
      "Epoch 15/30\n",
      "1206/1206 [==============================] - 7s 6ms/step - loss: 0.3444 - acc: 0.8748 - val_loss: 0.3627 - val_acc: 0.8586\n",
      "Epoch 16/30\n",
      "1206/1206 [==============================] - 7s 6ms/step - loss: 0.3437 - acc: 0.8748 - val_loss: 0.2904 - val_acc: 0.8855\n",
      "Epoch 17/30\n",
      "1206/1206 [==============================] - 7s 6ms/step - loss: 0.3387 - acc: 0.8914 - val_loss: 0.3325 - val_acc: 0.8653\n",
      "Epoch 18/30\n",
      "1206/1206 [==============================] - 7s 6ms/step - loss: 0.3321 - acc: 0.8756 - val_loss: 0.2936 - val_acc: 0.8788\n",
      "Epoch 19/30\n",
      "1206/1206 [==============================] - 7s 6ms/step - loss: 0.3098 - acc: 0.8905 - val_loss: 0.2866 - val_acc: 0.8822\n",
      "Epoch 20/30\n",
      "1206/1206 [==============================] - 7s 6ms/step - loss: 0.3012 - acc: 0.8964 - val_loss: 0.2696 - val_acc: 0.8923\n",
      "Epoch 21/30\n",
      "1206/1206 [==============================] - 7s 6ms/step - loss: 0.3015 - acc: 0.8947 - val_loss: 0.2712 - val_acc: 0.8990\n",
      "Epoch 22/30\n",
      "1206/1206 [==============================] - 7s 6ms/step - loss: 0.3020 - acc: 0.8897 - val_loss: 0.3138 - val_acc: 0.8754\n",
      "Epoch 23/30\n",
      "1206/1206 [==============================] - 7s 6ms/step - loss: 0.2906 - acc: 0.8881 - val_loss: 0.2680 - val_acc: 0.8923\n",
      "Epoch 24/30\n",
      "1206/1206 [==============================] - 7s 6ms/step - loss: 0.2819 - acc: 0.8939 - val_loss: 0.2714 - val_acc: 0.8990\n",
      "Epoch 25/30\n",
      "1206/1206 [==============================] - 8s 6ms/step - loss: 0.2707 - acc: 0.9088 - val_loss: 0.2664 - val_acc: 0.9108\n",
      "Epoch 26/30\n",
      "1206/1206 [==============================] - 7s 6ms/step - loss: 0.2590 - acc: 0.9104 - val_loss: 0.2824 - val_acc: 0.8889\n",
      "Epoch 27/30\n",
      "1206/1206 [==============================] - 8s 6ms/step - loss: 0.2670 - acc: 0.9080 - val_loss: 0.2839 - val_acc: 0.8889\n",
      "Epoch 28/30\n",
      "1206/1206 [==============================] - 7s 6ms/step - loss: 0.2531 - acc: 0.9121 - val_loss: 0.2688 - val_acc: 0.8939\n",
      "Epoch 29/30\n",
      "1206/1206 [==============================] - 7s 6ms/step - loss: 0.2468 - acc: 0.9063 - val_loss: 0.2467 - val_acc: 0.8973\n",
      "Epoch 30/30\n",
      "1206/1206 [==============================] - 8s 7ms/step - loss: 0.2557 - acc: 0.9121 - val_loss: 0.2430 - val_acc: 0.9091\n"
     ]
    }
   ],
   "source": [
    "EPOCHS = 30\n",
    "history = model.fit(train_data, train_labels, epochs=EPOCHS, validation_data=(test_data, test_labels))"
   ]
  },
  {
   "cell_type": "code",
   "execution_count": 17,
   "metadata": {},
   "outputs": [
    {
     "name": "stdout",
     "output_type": "stream",
     "text": [
      "dict_keys(['val_loss', 'loss', 'acc', 'val_acc'])\n"
     ]
    },
    {
     "data": {
      "image/png": "[encoded data removed]",
      "text/plain": [
       "<matplotlib.figure.Figure at 0x630b81b0>"
      ]
     },
     "metadata": {
      "needs_background": "light"
     },
     "output_type": "display_data"
    },
    {
     "data": {
      "image/png": "[encoded data removed]",
      "text/plain": [
       "<matplotlib.figure.Figure at 0x63d95410>"
      ]
     },
     "metadata": {
      "needs_background": "light"
     },
     "output_type": "display_data"
    }
   ],
   "source": [
    "print(history.history.keys())\n",
    "\n",
    "# Plot training & validation accuracy values\n",
    "plt.plot(history.history['acc'])\n",
    "plt.plot(history.history['val_acc'])\n",
    "\n",
    "plt.title('Model accuracy')\n",
    "plt.ylabel('Accuracy')\n",
    "plt.xlabel('Epoch')\n",
    "plt.legend(['Train', 'Test'], loc='upper left')\n",
    "plt.show()\n",
    "\n",
    "# Plot training & validation loss values\n",
    "plt.plot(history.history['loss'])\n",
    "plt.plot(history.history['val_loss'])\n",
    "plt.title('Model loss')\n",
    "plt.ylabel('Loss')\n",
    "plt.xlabel('Epoch')\n",
    "plt.legend(['Train', 'Test'], loc='upper left')\n",
    "plt.show()"
   ]
  },
  {
   "cell_type": "markdown",
   "metadata": {},
   "source": [
    "## Save the model"
   ]
  },
  {
   "cell_type": "code",
   "execution_count": 18,
   "metadata": {},
   "outputs": [],
   "source": [
    "import datetime\n",
    "\n",
    "dt = datetime.datetime.today().strftime('%Y%m%d%H%M%S')\n",
    "filename = 'cnn_for_aed_{}.h5'.format(dt)\n",
    "model.save(filename)"
   ]
  },
  {
   "cell_type": "markdown",
   "metadata": {},
   "source": [
    "## Load the model"
   ]
  },
  {
   "cell_type": "code",
   "execution_count": 19,
   "metadata": {},
   "outputs": [],
   "source": [
    "del model\n",
    "model = models.load_model(filename)"
   ]
  },
  {
   "cell_type": "markdown",
   "metadata": {
    "colab_type": "text",
    "id": "j6con4C3lKC1"
   },
   "source": [
    "## Confirmation"
   ]
  },
  {
   "cell_type": "code",
   "execution_count": 20,
   "metadata": {
    "colab": {
     "base_uri": "https://localhost:8080/",
     "height": 34
    },
    "colab_type": "code",
    "id": "4oZYLLij69wU",
    "outputId": "b37a4b8a-2c80-411f-d8a9-5df1c6dbfe22"
   },
   "outputs": [
    {
     "data": {
      "text/plain": [
       "(1206, 64, 40, 1)"
      ]
     },
     "execution_count": 20,
     "metadata": {},
     "output_type": "execute_result"
    }
   ],
   "source": [
    "import numpy as np\n",
    "import matplotlib.pyplot as plt\n",
    "train_data.shape"
   ]
  },
  {
   "cell_type": "code",
   "execution_count": 21,
   "metadata": {
    "colab": {
     "base_uri": "https://localhost:8080/",
     "height": 193
    },
    "colab_type": "code",
    "id": "zSxXE9FgRBdJ",
    "outputId": "f3a53efe-e99f-4572-f9b4-1bf3c39c77ec"
   },
   "outputs": [],
   "source": [
    "layer_outputs = [layer.output for layer in model.layers]\n",
    "#layer_outputs"
   ]
  },
  {
   "cell_type": "code",
   "execution_count": 22,
   "metadata": {
    "colab": {
     "base_uri": "https://localhost:8080/",
     "height": 34
    },
    "colab_type": "code",
    "id": "dcw7yHKrRkPD",
    "outputId": "a3ed5441-ae48-4635-bf07-ac5060030608"
   },
   "outputs": [],
   "source": [
    "activation_model = models.Model(inputs=model.input, outputs=layer_outputs)\n",
    "activations = activation_model.predict(test_data)\n",
    "#activations[0][0,:,:,0].shape"
   ]
  },
  {
   "cell_type": "code",
   "execution_count": 23,
   "metadata": {},
   "outputs": [
    {
     "data": {
      "text/plain": [
       "['silence',\n",
       " 'piano',\n",
       " 'classical_guitar',\n",
       " 'blues_harp',\n",
       " 'tin_whistle',\n",
       " 'framenco_guitar']"
      ]
     },
     "execution_count": 23,
     "metadata": {},
     "output_type": "execute_result"
    }
   ],
   "source": [
    "class_labels"
   ]
  },
  {
   "cell_type": "code",
   "execution_count": 24,
   "metadata": {
    "colab": {
     "base_uri": "https://localhost:8080/",
     "height": 193
    },
    "colab_type": "code",
    "id": "ccSNAwGKhRn9",
    "outputId": "0ad22e12-713b-4b07-e17b-45d39ff1b80b"
   },
   "outputs": [
    {
     "data": {
      "text/plain": [
       "array([[ 0,  0,  0,  2,  0, 97],\n",
       "       [98,  1,  0,  0,  0,  0],\n",
       "       [ 0, 13, 78,  0,  0,  6],\n",
       "       [99,  0,  0,  0,  0,  0],\n",
       "       [ 0, 97,  0,  0,  2,  0],\n",
       "       [ 0,  0,  0, 99,  0,  0],\n",
       "       [ 0,  0,  0,  0, 99,  0],\n",
       "       [97,  2,  0,  0,  0,  0],\n",
       "       [ 0, 96,  3,  0,  0,  0],\n",
       "       [ 0,  5, 27,  8,  0, 57]])"
      ]
     },
     "execution_count": 24,
     "metadata": {},
     "output_type": "execute_result"
    }
   ],
   "source": [
    "(activations[-1][:10]*100).astype(int)"
   ]
  },
  {
   "cell_type": "code",
   "execution_count": 25,
   "metadata": {
    "colab": {
     "base_uri": "https://localhost:8080/",
     "height": 193
    },
    "colab_type": "code",
    "id": "RoE0nxtuiGIN",
    "outputId": "154437a8-ab72-46f4-f42c-3e6464af47d0"
   },
   "outputs": [
    {
     "data": {
      "text/plain": [
       "array([[0, 0, 0, 0, 0, 1],\n",
       "       [1, 0, 0, 0, 0, 0],\n",
       "       [0, 0, 1, 0, 0, 0],\n",
       "       [1, 0, 0, 0, 0, 0],\n",
       "       [0, 1, 0, 0, 0, 0],\n",
       "       [0, 0, 0, 1, 0, 0],\n",
       "       [0, 0, 0, 0, 1, 0],\n",
       "       [1, 0, 0, 0, 0, 0],\n",
       "       [0, 0, 1, 0, 0, 0],\n",
       "       [0, 0, 1, 0, 0, 0]])"
      ]
     },
     "execution_count": 25,
     "metadata": {},
     "output_type": "execute_result"
    }
   ],
   "source": [
    "test_labels[:10].astype(int)"
   ]
  },
  {
   "cell_type": "code",
   "execution_count": 26,
   "metadata": {},
   "outputs": [],
   "source": [
    "def plot_layer(activations, sample, layer):\n",
    "    a = activations[layer].shape\n",
    "    rows = int(a[3]/4)\n",
    "    fig, axarr = plt.subplots(rows, 4, figsize=[20,15])\n",
    "    for i in range(a[3]):\n",
    "        row = int(i/4)\n",
    "        x, y = row, i-4*row\n",
    "        axarr[x, y].imshow(np.rot90(activations[layer][sample, :, :, i]))\n",
    "        axarr[x, y].set_xticks([])\n",
    "        axarr[x, y].set_yticks([])"
   ]
  },
  {
   "cell_type": "code",
   "execution_count": 27,
   "metadata": {},
   "outputs": [
    {
     "data": {
      "text/plain": [
       "'tin_whistle'"
      ]
     },
     "execution_count": 27,
     "metadata": {},
     "output_type": "execute_result"
    },
    {
     "data": {
      "image/png": "[encoded data removed]",
      "text/plain": [
       "<matplotlib.figure.Figure at 0x63c05ab0>"
      ]
     },
     "metadata": {
      "needs_background": "light"
     },
     "output_type": "display_data"
    }
   ],
   "source": [
    "image_number = 25\n",
    "\n",
    "plt.imshow(np.rot90(test_data[image_number,:,:,0]))\n",
    "class_labels[np.argmax(test_labels[image_number])]"
   ]
  },
  {
   "cell_type": "code",
   "execution_count": 28,
   "metadata": {},
   "outputs": [
    {
     "data": {
      "image/png": "[encoded data removed]",
      "text/plain": [
       "<matplotlib.figure.Figure at 0x63bf8290>"
      ]
     },
     "metadata": {},
     "output_type": "display_data"
    }
   ],
   "source": [
    "plot_layer(activations, image_number, 2)"
   ]
  },
  {
   "cell_type": "code",
   "execution_count": 29,
   "metadata": {},
   "outputs": [
    {
     "data": {
      "image/png": "[encoded data removed]",
      "text/plain": [
       "<matplotlib.figure.Figure at 0x5e15c0d0>"
      ]
     },
     "metadata": {},
     "output_type": "display_data"
    }
   ],
   "source": [
    "plot_layer(activations, image_number, 5)"
   ]
  },
  {
   "cell_type": "code",
   "execution_count": null,
   "metadata": {},
   "outputs": [],
   "source": []
  }
 ],
 "metadata": {
  "colab": {
   "collapsed_sections": [],
   "name": "CNN for AED",
   "provenance": [],
   "version": "0.3.2"
  },
  "kernelspec": {
   "display_name": "Python 3",
   "language": "python",
   "name": "python3"
  },
  "language_info": {
   "codemirror_mode": {
    "name": "ipython",
    "version": 3
   },
   "file_extension": ".py",
   "mimetype": "text/x-python",
   "name": "python",
   "nbconvert_exporter": "python",
   "pygments_lexer": "ipython3",
   "version": "3.5.3"
  }
 },
 "nbformat": 4,
 "nbformat_minor": 1
}
