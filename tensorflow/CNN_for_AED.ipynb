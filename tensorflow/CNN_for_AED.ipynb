{
  "nbformat": 4,
  "nbformat_minor": 0,
  "metadata": {
    "colab": {
      "name": "CNN for AED",
      "version": "0.3.2",
      "provenance": [],
      "collapsed_sections": []
    },
    "kernelspec": {
      "name": "python3",
      "display_name": "Python 3"
    }
  },
  "cells": [
    {
      "metadata": {
        "id": "0X16cagQE-Y-",
        "colab_type": "text"
      },
      "cell_type": "markdown",
      "source": [
        "# CNN for AED with Keras/TensorFlow\n",
        "\n",
        "Date: November 6, 2018\n",
        "\n",
        "Neural network: three convolution layers and three fully connected layers\n",
        "\n",
        "Classification of acoustic events:\n",
        "\n",
        "- Piano music\n",
        "- Framenco guitar music\n",
        "- Classical guitar music\n",
        "- Blues hars music\n",
        "- Tin whistle music"
      ]
    },
    {
      "metadata": {
        "id": "6mxDnltukmF4",
        "colab_type": "text"
      },
      "cell_type": "markdown",
      "source": [
        "## Preparing data set for training CNN"
      ]
    },
    {
      "metadata": {
        "id": "WwQ-dEltkl5Q",
        "colab_type": "text"
      },
      "cell_type": "markdown",
      "source": [
        "## Preparing data set for CNN"
      ]
    },
    {
      "metadata": {
        "id": "VEJyQsGpV3ug",
        "colab_type": "code",
        "colab": {
          "base_uri": "https://localhost:8080/",
          "height": 34
        },
        "outputId": "3929aa39-3383-4791-e065-3622e6781181"
      },
      "cell_type": "code",
      "source": [
        "from google.colab import drive\n",
        "drive.mount('/content/gdrive')\n",
        "\n",
        "DATA_FOLDER = '/content/gdrive/My Drive/acoustic_event_detection/data/'\n",
        "FILTERS=40\n",
        "FILES = 100\n",
        "TRAINING_FILES = 67\n",
        "TEST_FILES = FILES - TRAINING_FILES"
      ],
      "execution_count": 1,
      "outputs": [
        {
          "output_type": "stream",
          "text": [
            "Drive already mounted at /content/gdrive; to attempt to forcibly remount, call drive.mount(\"/content/gdrive\", force_remount=True).\n"
          ],
          "name": "stdout"
        }
      ]
    },
    {
      "metadata": {
        "id": "JTNdoPBFWGky",
        "colab_type": "code",
        "colab": {}
      },
      "cell_type": "code",
      "source": [
        "%matplotlib inline\n",
        "\n",
        "import matplotlib\n",
        "import matplotlib.pyplot as plt\n",
        "import numpy as np\n",
        "import pandas as pd\n",
        "import time\n",
        "import random\n",
        "import os\n",
        "import sklearn.preprocessing as pp"
      ],
      "execution_count": 0,
      "outputs": []
    },
    {
      "metadata": {
        "id": "ohulLLO1WLaf",
        "colab_type": "code",
        "colab": {}
      },
      "cell_type": "code",
      "source": [
        "import glob\n",
        "piano_files = glob.glob(DATA_FOLDER+'*piano*mel_spectrogram*.csv')\n",
        "classical_guitar_files = glob.glob(DATA_FOLDER+'*classical_guitar*mel_spectrogram*.csv')\n",
        "framenco_guitar_files = glob.glob(DATA_FOLDER+'*framenco_guitar*mel_spectrogram*.csv')\n",
        "blues_harp_files = glob.glob(DATA_FOLDER+'*blues_harp*mel_spectrogram*.csv')\n",
        "tin_whistle_files = glob.glob(DATA_FOLDER+'*tin_whistle*mel_spectrogram*.csv')\n",
        "random.shuffle(piano_files)\n",
        "random.shuffle(classical_guitar_files)\n",
        "random.shuffle(framenco_guitar_files)\n",
        "random.shuffle(blues_harp_files)\n",
        "random.shuffle(tin_whistle_files)"
      ],
      "execution_count": 0,
      "outputs": []
    },
    {
      "metadata": {
        "id": "BjUi-ov5WpLL",
        "colab_type": "code",
        "colab": {}
      },
      "cell_type": "code",
      "source": [
        "TRAINING_SET_PIANO = piano_files[:TRAINING_FILES]\n",
        "TRAINING_SET_CLASSICAL_GUITAR = classical_guitar_files[:TRAINING_FILES]\n",
        "TRAINING_SET_FRAMENCO_GUITAR = framenco_guitar_files[:TRAINING_FILES]\n",
        "TRAINING_SET_BLUES_HARP = blues_harp_files[:TRAINING_FILES]\n",
        "TRAINING_SET_TIN_WHISTLE = tin_whistle_files[:TRAINING_FILES]\n",
        "\n",
        "TEST_SET_PIANO = piano_files[TRAINING_FILES:FILES]\n",
        "TEST_SET_CLASSICAL_GUITAR = classical_guitar_files[TRAINING_FILES:FILES]\n",
        "TEST_SET_FRAMENCO_GUITAR = framenco_guitar_files[TRAINING_FILES:FILES]\n",
        "TEST_SET_BLUES_HARP = blues_harp_files[TRAINING_FILES:FILES]\n",
        "TEST_SET_TIN_WHISTLE = tin_whistle_files[TRAINING_FILES:FILES]\n",
        "\n",
        "TRAINING_SET = [(TRAINING_SET_PIANO, 0),\n",
        "                (TRAINING_SET_CLASSICAL_GUITAR, 1),\n",
        "                (TRAINING_SET_FRAMENCO_GUITAR, 2),\n",
        "                (TRAINING_SET_BLUES_HARP, 3),\n",
        "                (TRAINING_SET_TIN_WHISTLE, 4)]\n",
        "\n",
        "TEST_SET = [(TEST_SET_PIANO, 0),\n",
        "            (TEST_SET_CLASSICAL_GUITAR, 1),\n",
        "            (TEST_SET_FRAMENCO_GUITAR, 2),\n",
        "            (TEST_SET_BLUES_HARP, 3),\n",
        "            (TEST_SET_TIN_WHISTLE, 4)]"
      ],
      "execution_count": 0,
      "outputs": []
    },
    {
      "metadata": {
        "id": "SUF1kaSpWx8L",
        "colab_type": "code",
        "colab": {}
      },
      "cell_type": "code",
      "source": [
        "training_set = []\n",
        "test_set = []\n",
        "\n",
        "LENGTH=64\n",
        "\n",
        "a1, a2 = 0,  FILTERS*64\n",
        "b1, b2 = FILTERS*64, FILTERS*64*2\n",
        "c1, c2 = FILTERS*64*2, FILTERS*64*3\n",
        "\n",
        "for files, l in TRAINING_SET:\n",
        "    for file in files:\n",
        "        df = pd.read_csv(file.replace(os.path.sep, '/'), dtype=np.float)\n",
        "        #df = df[df['n']<FILTERS]\n",
        "        img1 = df[a1:a2]['magnitude'].values/128.0\n",
        "        img2 = df[b1:b2]['magnitude'].values/128.0\n",
        "        img3 = df[c1:c2]['magnitude'].values/128.0\n",
        "        training_set.append((img1, l))\n",
        "        training_set.append((img2, l))\n",
        "        training_set.append((img3, l))\n",
        "        \n",
        "for files, l in TEST_SET:\n",
        "    for file in files:\n",
        "        df = pd.read_csv(file.replace(os.path.sep, '/'), dtype=np.float)\n",
        "        #df = df[df['n']<FILTERS]\n",
        "        img1 = df[a1:a2]['magnitude'].values/128.0\n",
        "        img2 = df[b1:b2]['magnitude'].values/128.0\n",
        "        img3 = df[c1:c2]['magnitude'].values/128.0\n",
        "        test_set.append((img1, l))\n",
        "        test_set.append((img2, l))\n",
        "        test_set.append((img3, l))\n",
        "                        \n",
        "random.shuffle(training_set)\n",
        "random.shuffle(test_set)"
      ],
      "execution_count": 0,
      "outputs": []
    },
    {
      "metadata": {
        "id": "28tIKkNyW3cO",
        "colab_type": "code",
        "colab": {}
      },
      "cell_type": "code",
      "source": [
        "train_data, train_labels = [], []\n",
        "test_data, test_labels = [], []\n",
        "for img, label in training_set:\n",
        "    train_data.append(img)\n",
        "    train_labels.append(label)\n",
        "for img, label in test_set:\n",
        "    test_data.append(img)\n",
        "    test_labels.append(label)\n",
        "train_data = np.array(train_data, dtype='float32').reshape((TRAINING_FILES*5*3, LENGTH, FILTERS, 1))\n",
        "train_labels = np.array(train_labels, dtype='uint8')\n",
        "test_data = np.array(test_data, dtype='float32').reshape((TEST_FILES*5*3, LENGTH, FILTERS, 1))\n",
        "test_labels = np.array(test_labels, dtype='uint8')"
      ],
      "execution_count": 0,
      "outputs": []
    },
    {
      "metadata": {
        "id": "VfUmgxxVk6uM",
        "colab_type": "text"
      },
      "cell_type": "markdown",
      "source": [
        "### CNN model"
      ]
    },
    {
      "metadata": {
        "id": "B2Xg6tGLdMKP",
        "colab_type": "code",
        "colab": {
          "base_uri": "https://localhost:8080/",
          "height": 509
        },
        "outputId": "ae3daa32-9dbf-4d8b-9a11-7f596dd2e4a6"
      },
      "cell_type": "code",
      "source": [
        "from keras import layers\n",
        "from keras import models\n",
        "\n",
        "model = models.Sequential()\n",
        "\n",
        "model.add(layers.Conv2D(64, (3, 3), activation='relu', padding='same', input_shape=(LENGTH, FILTERS, 1)))\n",
        "model.add(layers.MaxPooling2D((2,2)))\n",
        "\n",
        "model.add(layers.Conv2D(128, (3, 3), activation='relu', padding='same'))\n",
        "model.add(layers.MaxPooling2D((2,2)))\n",
        "\n",
        "model.add(layers.Conv2D(256, (3, 3), activation='relu', padding='same'))\n",
        "model.add(layers.MaxPooling2D((2,2)))\n",
        "\n",
        "model.add(layers.Flatten())\n",
        "model.add(layers.Dense(256, activation='relu'))\n",
        "model.add(layers.Dense(128, activation='relu'))\n",
        "model.add(layers.Dense(5, activation='softmax'))\n",
        "\n",
        "model.summary()"
      ],
      "execution_count": 7,
      "outputs": [
        {
          "output_type": "stream",
          "text": [
            "Using TensorFlow backend.\n"
          ],
          "name": "stderr"
        },
        {
          "output_type": "stream",
          "text": [
            "_________________________________________________________________\n",
            "Layer (type)                 Output Shape              Param #   \n",
            "=================================================================\n",
            "conv2d_1 (Conv2D)            (None, 64, 40, 64)        640       \n",
            "_________________________________________________________________\n",
            "max_pooling2d_1 (MaxPooling2 (None, 32, 20, 64)        0         \n",
            "_________________________________________________________________\n",
            "conv2d_2 (Conv2D)            (None, 32, 20, 128)       73856     \n",
            "_________________________________________________________________\n",
            "max_pooling2d_2 (MaxPooling2 (None, 16, 10, 128)       0         \n",
            "_________________________________________________________________\n",
            "conv2d_3 (Conv2D)            (None, 16, 10, 256)       295168    \n",
            "_________________________________________________________________\n",
            "max_pooling2d_3 (MaxPooling2 (None, 8, 5, 256)         0         \n",
            "_________________________________________________________________\n",
            "flatten_1 (Flatten)          (None, 10240)             0         \n",
            "_________________________________________________________________\n",
            "dense_1 (Dense)              (None, 256)               2621696   \n",
            "_________________________________________________________________\n",
            "dense_2 (Dense)              (None, 128)               32896     \n",
            "_________________________________________________________________\n",
            "dense_3 (Dense)              (None, 5)                 645       \n",
            "=================================================================\n",
            "Total params: 3,024,901\n",
            "Trainable params: 3,024,901\n",
            "Non-trainable params: 0\n",
            "_________________________________________________________________\n"
          ],
          "name": "stdout"
        }
      ]
    },
    {
      "metadata": {
        "id": "nRr1L_4ogL6i",
        "colab_type": "code",
        "colab": {}
      },
      "cell_type": "code",
      "source": [
        "model.compile(optimizer='rmsprop', loss='categorical_crossentropy', metrics=['accuracy'])"
      ],
      "execution_count": 0,
      "outputs": []
    },
    {
      "metadata": {
        "id": "TfypWUJIlFkz",
        "colab_type": "text"
      },
      "cell_type": "markdown",
      "source": [
        "## Training CNN"
      ]
    },
    {
      "metadata": {
        "id": "zsdmu-ggfvr1",
        "colab_type": "code",
        "colab": {
          "base_uri": "https://localhost:8080/",
          "height": 931
        },
        "outputId": "77a52558-8ecc-4fc5-e0cb-2b86a75df4c6"
      },
      "cell_type": "code",
      "source": [
        "from keras.utils import to_categorical\n",
        "\n",
        "train_labels=to_categorical(train_labels)\n",
        "test_labels=to_categorical(test_labels)\n",
        "\n",
        "model.fit(train_data, train_labels, epochs=25)\n",
        "test_loss, test_acc = model.evaluate(test_data, test_labels)\n",
        "print('test_acc:', test_acc)"
      ],
      "execution_count": 9,
      "outputs": [
        {
          "output_type": "stream",
          "text": [
            "Epoch 1/25\n",
            "1005/1005 [==============================] - 19s 19ms/step - loss: 1.6292 - acc: 0.2368\n",
            "Epoch 2/25\n",
            "1005/1005 [==============================] - 20s 20ms/step - loss: 1.2183 - acc: 0.4826\n",
            "Epoch 3/25\n",
            "1005/1005 [==============================] - 19s 19ms/step - loss: 0.6855 - acc: 0.7075\n",
            "Epoch 4/25\n",
            "1005/1005 [==============================] - 19s 19ms/step - loss: 0.5747 - acc: 0.7781\n",
            "Epoch 5/25\n",
            "1005/1005 [==============================] - 19s 19ms/step - loss: 0.5000 - acc: 0.7970\n",
            "Epoch 6/25\n",
            "1005/1005 [==============================] - 19s 19ms/step - loss: 0.3104 - acc: 0.8786\n",
            "Epoch 7/25\n",
            "1005/1005 [==============================] - 19s 19ms/step - loss: 0.3452 - acc: 0.8577\n",
            "Epoch 8/25\n",
            "1005/1005 [==============================] - 19s 19ms/step - loss: 0.3166 - acc: 0.8826\n",
            "Epoch 9/25\n",
            "1005/1005 [==============================] - 19s 19ms/step - loss: 0.2516 - acc: 0.9055\n",
            "Epoch 10/25\n",
            "1005/1005 [==============================] - 19s 19ms/step - loss: 0.2683 - acc: 0.8915\n",
            "Epoch 11/25\n",
            "1005/1005 [==============================] - 19s 19ms/step - loss: 0.1885 - acc: 0.9353\n",
            "Epoch 12/25\n",
            "1005/1005 [==============================] - 19s 19ms/step - loss: 0.2303 - acc: 0.9274\n",
            "Epoch 13/25\n",
            "1005/1005 [==============================] - 19s 19ms/step - loss: 0.1993 - acc: 0.9234\n",
            "Epoch 14/25\n",
            "1005/1005 [==============================] - 19s 19ms/step - loss: 0.1767 - acc: 0.9433\n",
            "Epoch 15/25\n",
            "1005/1005 [==============================] - 19s 19ms/step - loss: 0.2024 - acc: 0.9264\n",
            "Epoch 16/25\n",
            "1005/1005 [==============================] - 19s 19ms/step - loss: 0.1412 - acc: 0.9433\n",
            "Epoch 17/25\n",
            "1005/1005 [==============================] - 19s 19ms/step - loss: 0.1560 - acc: 0.9373\n",
            "Epoch 18/25\n",
            "1005/1005 [==============================] - 19s 19ms/step - loss: 0.1069 - acc: 0.9652\n",
            "Epoch 19/25\n",
            "1005/1005 [==============================] - 20s 20ms/step - loss: 0.1239 - acc: 0.9512\n",
            "Epoch 20/25\n",
            "1005/1005 [==============================] - 19s 19ms/step - loss: 0.1144 - acc: 0.9622\n",
            "Epoch 21/25\n",
            "1005/1005 [==============================] - 19s 19ms/step - loss: 0.1106 - acc: 0.9522\n",
            "Epoch 22/25\n",
            "1005/1005 [==============================] - 19s 19ms/step - loss: 0.1183 - acc: 0.9552\n",
            "Epoch 23/25\n",
            "1005/1005 [==============================] - 19s 18ms/step - loss: 0.0892 - acc: 0.9741\n",
            "Epoch 24/25\n",
            "1005/1005 [==============================] - 19s 19ms/step - loss: 0.0897 - acc: 0.9652\n",
            "Epoch 25/25\n",
            "1005/1005 [==============================] - 19s 19ms/step - loss: 0.0809 - acc: 0.9692\n",
            "495/495 [==============================] - 2s 5ms/step\n",
            "test_acc: 0.9373737376145642\n"
          ],
          "name": "stdout"
        }
      ]
    },
    {
      "metadata": {
        "id": "j6con4C3lKC1",
        "colab_type": "text"
      },
      "cell_type": "markdown",
      "source": [
        "## Confirmation"
      ]
    },
    {
      "metadata": {
        "id": "4oZYLLij69wU",
        "colab_type": "code",
        "colab": {
          "base_uri": "https://localhost:8080/",
          "height": 34
        },
        "outputId": "b37a4b8a-2c80-411f-d8a9-5df1c6dbfe22"
      },
      "cell_type": "code",
      "source": [
        "import numpy as np\n",
        "import matplotlib.pyplot as plt\n",
        "train_data.shape"
      ],
      "execution_count": 10,
      "outputs": [
        {
          "output_type": "execute_result",
          "data": {
            "text/plain": [
              "(1005, 64, 40, 1)"
            ]
          },
          "metadata": {
            "tags": []
          },
          "execution_count": 10
        }
      ]
    },
    {
      "metadata": {
        "id": "zSxXE9FgRBdJ",
        "colab_type": "code",
        "colab": {
          "base_uri": "https://localhost:8080/",
          "height": 193
        },
        "outputId": "f3a53efe-e99f-4572-f9b4-1bf3c39c77ec"
      },
      "cell_type": "code",
      "source": [
        "layer_outputs = [layer.output for layer in model.layers]\n",
        "layer_outputs"
      ],
      "execution_count": 11,
      "outputs": [
        {
          "output_type": "execute_result",
          "data": {
            "text/plain": [
              "[<tf.Tensor 'conv2d_1/Relu:0' shape=(?, 64, 40, 64) dtype=float32>,\n",
              " <tf.Tensor 'max_pooling2d_1/MaxPool:0' shape=(?, 32, 20, 64) dtype=float32>,\n",
              " <tf.Tensor 'conv2d_2/Relu:0' shape=(?, 32, 20, 128) dtype=float32>,\n",
              " <tf.Tensor 'max_pooling2d_2/MaxPool:0' shape=(?, 16, 10, 128) dtype=float32>,\n",
              " <tf.Tensor 'conv2d_3/Relu:0' shape=(?, 16, 10, 256) dtype=float32>,\n",
              " <tf.Tensor 'max_pooling2d_3/MaxPool:0' shape=(?, 8, 5, 256) dtype=float32>,\n",
              " <tf.Tensor 'flatten_1/Reshape:0' shape=(?, ?) dtype=float32>,\n",
              " <tf.Tensor 'dense_1/Relu:0' shape=(?, 256) dtype=float32>,\n",
              " <tf.Tensor 'dense_2/Relu:0' shape=(?, 128) dtype=float32>,\n",
              " <tf.Tensor 'dense_3/Softmax:0' shape=(?, 5) dtype=float32>]"
            ]
          },
          "metadata": {
            "tags": []
          },
          "execution_count": 11
        }
      ]
    },
    {
      "metadata": {
        "id": "dcw7yHKrRkPD",
        "colab_type": "code",
        "colab": {
          "base_uri": "https://localhost:8080/",
          "height": 34
        },
        "outputId": "a3ed5441-ae48-4635-bf07-ac5060030608"
      },
      "cell_type": "code",
      "source": [
        "activation_model = models.Model(inputs=model.input, outputs=layer_outputs)\n",
        "activations = activation_model.predict(test_data)\n",
        "activations[0][0,:,:,0].shape"
      ],
      "execution_count": 12,
      "outputs": [
        {
          "output_type": "execute_result",
          "data": {
            "text/plain": [
              "(64, 40)"
            ]
          },
          "metadata": {
            "tags": []
          },
          "execution_count": 12
        }
      ]
    },
    {
      "metadata": {
        "id": "RSfDhwvhjqjB",
        "colab_type": "code",
        "colab": {
          "base_uri": "https://localhost:8080/",
          "height": 285
        },
        "outputId": "feb7602b-f794-4882-af01-47160faad10d"
      },
      "cell_type": "code",
      "source": [
        "plt.imshow(test_data[12,:,:,0])"
      ],
      "execution_count": 13,
      "outputs": [
        {
          "output_type": "execute_result",
          "data": {
            "text/plain": [
              "<matplotlib.image.AxesImage at 0x7f373f98de48>"
            ]
          },
          "metadata": {
            "tags": []
          },
          "execution_count": 13
        },
        {
          "output_type": "display_data",
          "data": {
            "image/png": "[encoded data removed]",
            "text/plain": [
              "<matplotlib.figure.Figure at 0x7f3742de86a0>"
            ]
          },
          "metadata": {
            "tags": []
          }
        }
      ]
    },
    {
      "metadata": {
        "id": "EKk_uIZCTOSo",
        "colab_type": "code",
        "colab": {
          "base_uri": "https://localhost:8080/",
          "height": 282
        },
        "outputId": "53ac9ecb-ca17-44c8-9684-2cf88181dcff"
      },
      "cell_type": "code",
      "source": [
        "plt.imshow(activations[3][12,:,:,90])"
      ],
      "execution_count": 28,
      "outputs": [
        {
          "output_type": "execute_result",
          "data": {
            "text/plain": [
              "<matplotlib.image.AxesImage at 0x7f373d476320>"
            ]
          },
          "metadata": {
            "tags": []
          },
          "execution_count": 28
        },
        {
          "output_type": "display_data",
          "data": {
            "image/png": "[encoded data removed]",
            "text/plain": [
              "<matplotlib.figure.Figure at 0x7f373d4ae518>"
            ]
          },
          "metadata": {
            "tags": []
          }
        }
      ]
    },
    {
      "metadata": {
        "id": "I8xbIIpWisdo",
        "colab_type": "code",
        "colab": {
          "base_uri": "https://localhost:8080/",
          "height": 282
        },
        "outputId": "3ba8ba5d-7f51-44a9-d3d8-dbf479185f7f"
      },
      "cell_type": "code",
      "source": [
        "plt.imshow(activations[5][12,:,:,90])"
      ],
      "execution_count": 29,
      "outputs": [
        {
          "output_type": "execute_result",
          "data": {
            "text/plain": [
              "<matplotlib.image.AxesImage at 0x7f373d44ccc0>"
            ]
          },
          "metadata": {
            "tags": []
          },
          "execution_count": 29
        },
        {
          "output_type": "display_data",
          "data": {
            "image/png": "[encoded data removed]",
            "text/plain": [
              "<matplotlib.figure.Figure at 0x7f373d48e278>"
            ]
          },
          "metadata": {
            "tags": []
          }
        }
      ]
    },
    {
      "metadata": {
        "id": "ccSNAwGKhRn9",
        "colab_type": "code",
        "colab": {
          "base_uri": "https://localhost:8080/",
          "height": 193
        },
        "outputId": "0ad22e12-713b-4b07-e17b-45d39ff1b80b"
      },
      "cell_type": "code",
      "source": [
        "\n",
        "(activations[9][:10]*100).astype(int)"
      ],
      "execution_count": 30,
      "outputs": [
        {
          "output_type": "execute_result",
          "data": {
            "text/plain": [
              "array([[ 99,   0,   0,   0,   0],\n",
              "       [ 60,  33,   5,   0,   0],\n",
              "       [  0,  99,   0,   0,   0],\n",
              "       [ 98,   1,   0,   0,   0],\n",
              "       [  0,   0,   0,   0, 100],\n",
              "       [  1,  98,   0,   0,   0],\n",
              "       [  0,   0,   0,   0, 100],\n",
              "       [ 93,   6,   0,   0,   0],\n",
              "       [  0,   0,   0,   0, 100],\n",
              "       [ 98,   1,   0,   0,   0]])"
            ]
          },
          "metadata": {
            "tags": []
          },
          "execution_count": 30
        }
      ]
    },
    {
      "metadata": {
        "id": "RoE0nxtuiGIN",
        "colab_type": "code",
        "colab": {
          "base_uri": "https://localhost:8080/",
          "height": 193
        },
        "outputId": "154437a8-ab72-46f4-f42c-3e6464af47d0"
      },
      "cell_type": "code",
      "source": [
        "test_labels[:10]"
      ],
      "execution_count": 31,
      "outputs": [
        {
          "output_type": "execute_result",
          "data": {
            "text/plain": [
              "array([[1., 0., 0., 0., 0.],\n",
              "       [1., 0., 0., 0., 0.],\n",
              "       [0., 1., 0., 0., 0.],\n",
              "       [1., 0., 0., 0., 0.],\n",
              "       [0., 0., 0., 0., 1.],\n",
              "       [1., 0., 0., 0., 0.],\n",
              "       [0., 0., 0., 0., 1.],\n",
              "       [1., 0., 0., 0., 0.],\n",
              "       [0., 0., 0., 0., 1.],\n",
              "       [1., 0., 0., 0., 0.]], dtype=float32)"
            ]
          },
          "metadata": {
            "tags": []
          },
          "execution_count": 31
        }
      ]
    }
  ]
}