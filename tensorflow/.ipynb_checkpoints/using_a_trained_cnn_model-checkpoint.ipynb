{
 "cells": [
  {
   "cell_type": "markdown",
   "metadata": {},
   "source": [
    "# Using a trained CNN model"
   ]
  },
  {
   "cell_type": "code",
   "execution_count": 307,
   "metadata": {},
   "outputs": [
    {
     "name": "stdout",
     "output_type": "stream",
     "text": [
      "_________________________________________________________________\n",
      "Layer (type)                 Output Shape              Param #   \n",
      "=================================================================\n",
      "conv2d_74 (Conv2D)           (None, 60, 36, 16)        416       \n",
      "_________________________________________________________________\n",
      "max_pooling2d_74 (MaxPooling (None, 30, 18, 16)        0         \n",
      "_________________________________________________________________\n",
      "conv2d_75 (Conv2D)           (None, 26, 14, 32)        12832     \n",
      "_________________________________________________________________\n",
      "max_pooling2d_75 (MaxPooling (None, 13, 7, 32)         0         \n",
      "_________________________________________________________________\n",
      "flatten_26 (Flatten)         (None, 2912)              0         \n",
      "_________________________________________________________________\n",
      "dropout_8 (Dropout)          (None, 2912)              0         \n",
      "_________________________________________________________________\n",
      "dense_51 (Dense)             (None, 64)                186432    \n",
      "_________________________________________________________________\n",
      "dense_52 (Dense)             (None, 5)                 325       \n",
      "=================================================================\n",
      "Total params: 200,005\n",
      "Trainable params: 200,005\n",
      "Non-trainable params: 0\n",
      "_________________________________________________________________\n"
     ]
    }
   ],
   "source": [
    "from keras import models\n",
    "import serial\n",
    "import numpy as np\n",
    "import pandas as pd\n",
    "import matplotlib.pyplot as plt\n",
    "\n",
    "MODEL = './cnn_for_aed_20181107184029.h5'\n",
    "\n",
    "model = models.load_model(MODEL)\n",
    "model.summary()"
   ]
  },
  {
   "cell_type": "code",
   "execution_count": 379,
   "metadata": {},
   "outputs": [],
   "source": [
    "FILTERED_MEL = b'3'\n",
    "PORT = 'COM15'\n",
    "BAUD_RATE = 921600\n",
    "\n",
    "def serial_read():\n",
    "    ser = serial.Serial(PORT, BAUD_RATE)\n",
    "    data = []\n",
    "    id_ = 0\n",
    "    n = 0\n",
    "    \n",
    "    ser.write(FILTERED_MEL)\n",
    "    while True:\n",
    "        line = ser.readline().decode('ascii')\n",
    "        records = line[:-3].split(',')  # exclude the last ','\n",
    "        delim = line[-2]  # exclude '\\n'\n",
    "        for r in records:\n",
    "            data.append(int(r))\n",
    "        if delim == 'e':\n",
    "            break\n",
    "\n",
    "    ser.close()\n",
    "    return np.array(data).reshape(200, 40, 1)"
   ]
  },
  {
   "cell_type": "code",
   "execution_count": 402,
   "metadata": {},
   "outputs": [
    {
     "data": {
      "text/plain": [
       "(2, 200, 40, 1)"
      ]
     },
     "execution_count": 402,
     "metadata": {},
     "output_type": "execute_result"
    }
   ],
   "source": [
    "data1 = serial_read()\n",
    "data2 = serial_read()\n",
    "data = np.array([data1, data2])\n",
    "data.shape"
   ]
  },
  {
   "cell_type": "code",
   "execution_count": 403,
   "metadata": {},
   "outputs": [
    {
     "data": {
      "text/plain": [
       "(2, 64, 40, 1)"
      ]
     },
     "execution_count": 403,
     "metadata": {},
     "output_type": "execute_result"
    },
    {
     "data": {
      "image/png": "[encoded data removed]",
      "text/plain": [
       "<matplotlib.figure.Figure at 0x25583897278>"
      ]
     },
     "metadata": {},
     "output_type": "display_data"
    }
   ],
   "source": [
    "plt.imshow(np.rot90(data[0,64:128,:,0]))\n",
    "data[:,64:128,:,:].shape"
   ]
  },
  {
   "cell_type": "code",
   "execution_count": 404,
   "metadata": {},
   "outputs": [],
   "source": [
    "layer_outputs = [layer.output for layer in model.layers]\n",
    "activation_model = models.Model(inputs=model.input, outputs=layer_outputs)\n",
    "activations = activation_model.predict(data[:,64:128,:,:])"
   ]
  },
  {
   "cell_type": "code",
   "execution_count": 405,
   "metadata": {},
   "outputs": [
    {
     "data": {
      "text/plain": [
       "<matplotlib.image.AxesImage at 0x255839927f0>"
      ]
     },
     "execution_count": 405,
     "metadata": {},
     "output_type": "execute_result"
    },
    {
     "data": {
      "image/png": "[encoded data removed]",
      "text/plain": [
       "<matplotlib.figure.Figure at 0x2558391d588>"
      ]
     },
     "metadata": {},
     "output_type": "display_data"
    }
   ],
   "source": [
    "plt.imshow(np.rot90(activations[1][0,:,:,3]))"
   ]
  },
  {
   "cell_type": "code",
   "execution_count": 406,
   "metadata": {},
   "outputs": [
    {
     "data": {
      "text/plain": [
       "array([[  0,   0, 100,   0,   0],\n",
       "       [  0,   0, 100,   0,   0]])"
      ]
     },
     "execution_count": 406,
     "metadata": {},
     "output_type": "execute_result"
    }
   ],
   "source": [
    "(activations[-1]*100).astype(int)"
   ]
  },
  {
   "cell_type": "code",
   "execution_count": null,
   "metadata": {},
   "outputs": [],
   "source": []
  }
 ],
 "metadata": {
  "kernelspec": {
   "display_name": "Python 3",
   "language": "python",
   "name": "python3"
  },
  "language_info": {
   "codemirror_mode": {
    "name": "ipython",
    "version": 3
   },
   "file_extension": ".py",
   "mimetype": "text/x-python",
   "name": "python",
   "nbconvert_exporter": "python",
   "pygments_lexer": "ipython3",
   "version": "3.6.4"
  }
 },
 "nbformat": 4,
 "nbformat_minor": 2
}
