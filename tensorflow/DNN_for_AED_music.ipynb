{
 "cells": [
  {
   "cell_type": "markdown",
   "metadata": {
    "colab_type": "text",
    "id": "0X16cagQE-Y-"
   },
   "source": [
    "# DNN for AED with Keras/TensorFlow\n",
    "\n",
    "Date: November 11, 2018 and February 27, 2019\n",
    "\n",
    "Neural network: input MFCC to DNN\n",
    "\n",
    "Classification of acoustic events:\n",
    "\n",
    "- Piano music\n",
    "- Framenco guitar music\n",
    "- Classical guitar music\n",
    "- Blues hars music\n",
    "- Tin whistle music\n",
    "- Silence"
   ]
  },
  {
   "cell_type": "markdown",
   "metadata": {
    "colab_type": "text",
    "id": "WwQ-dEltkl5Q"
   },
   "source": [
    "## Preparing data set for CNN"
   ]
  },
  {
   "cell_type": "code",
   "execution_count": null,
   "metadata": {
    "colab": {
     "base_uri": "https://localhost:8080/",
     "height": 34
    },
    "colab_type": "code",
    "id": "VEJyQsGpV3ug",
    "outputId": "3929aa39-3383-4791-e065-3622e6781181"
   },
   "outputs": [],
   "source": [
    "DATASET_FOLDER = '../dataset/data_music'\n",
    "\n",
    "%run ../oscilloscope/script/dataset.py\n",
    "\n",
    "ds = DataSet(DATASET_FOLDER)\n",
    "train_data, train_labels, test_data, test_labels = ds.generate(flatten=True)\n",
    "shape = ds.shape\n",
    "class_labels = ds.class_labels"
   ]
  },
  {
   "cell_type": "code",
   "execution_count": 20,
   "metadata": {},
   "outputs": [
    {
     "data": {
      "text/plain": [
       "((384, 1280), (216, 1280))"
      ]
     },
     "execution_count": 20,
     "metadata": {},
     "output_type": "execute_result"
    },
    {
     "data": {
      "image/png": "[encoded data removed]",
      "text/plain": [
       "<matplotlib.figure.Figure at 0x1751ac9c898>"
      ]
     },
     "metadata": {},
     "output_type": "display_data"
    }
   ],
   "source": [
    "import matplotlib.pyplot as plt\n",
    "%matplotlib inline\n",
    "\n",
    "plt.imshow(np.rot90(train_data[0].reshape(ds.shape)), cmap='seismic')\n",
    "train_data.shape, test_data.shape"
   ]
  },
  {
   "cell_type": "markdown",
   "metadata": {
    "colab_type": "text",
    "id": "VfUmgxxVk6uM"
   },
   "source": [
    "### DNN model"
   ]
  },
  {
   "cell_type": "code",
   "execution_count": 21,
   "metadata": {
    "colab": {
     "base_uri": "https://localhost:8080/",
     "height": 509
    },
    "colab_type": "code",
    "id": "B2Xg6tGLdMKP",
    "outputId": "ae3daa32-9dbf-4d8b-9a11-7f596dd2e4a6"
   },
   "outputs": [
    {
     "name": "stdout",
     "output_type": "stream",
     "text": [
      "_________________________________________________________________\n",
      "Layer (type)                 Output Shape              Param #   \n",
      "=================================================================\n",
      "dense_13 (Dense)             (None, 128)               163968    \n",
      "_________________________________________________________________\n",
      "dropout_9 (Dropout)          (None, 128)               0         \n",
      "_________________________________________________________________\n",
      "dense_14 (Dense)             (None, 128)               16512     \n",
      "_________________________________________________________________\n",
      "dropout_10 (Dropout)         (None, 128)               0         \n",
      "_________________________________________________________________\n",
      "dense_15 (Dense)             (None, 6)                 774       \n",
      "=================================================================\n",
      "Total params: 181,254\n",
      "Trainable params: 181,254\n",
      "Non-trainable params: 0\n",
      "_________________________________________________________________\n"
     ]
    }
   ],
   "source": [
    "from keras import layers\n",
    "from keras import models\n",
    "\n",
    "model = models.Sequential()\n",
    "\n",
    "model.add(layers.Dense(128, input_dim=shape[0]*shape[1], activation='relu'))\n",
    "model.add(layers.Dropout(0.25))\n",
    "model.add(layers.Dense(128, input_dim=shape[0]*shape[1], activation='relu'))\n",
    "model.add(layers.Dropout(0.25))\n",
    "model.add(layers.Dense(len(class_labels), activation='softmax'))\n",
    "\n",
    "model.summary()"
   ]
  },
  {
   "cell_type": "code",
   "execution_count": 22,
   "metadata": {
    "colab": {},
    "colab_type": "code",
    "id": "nRr1L_4ogL6i"
   },
   "outputs": [],
   "source": [
    "model.compile(optimizer='rmsprop', loss='categorical_crossentropy', metrics=['accuracy'])"
   ]
  },
  {
   "cell_type": "code",
   "execution_count": 23,
   "metadata": {},
   "outputs": [
    {
     "data": {
      "image/svg+xml": [
       "<svg height=\"410pt\" viewBox=\"0.00 0.00 145.00 410.00\" width=\"145pt\" xmlns=\"http://www.w3.org/2000/svg\" xmlns:xlink=\"http://www.w3.org/1999/xlink\">\n",
       "<g class=\"graph\" id=\"graph0\" transform=\"scale(1 1) rotate(0) translate(4 406)\">\n",
       "<title>G</title>\n",
       "<polygon fill=\"white\" points=\"-4,4 -4,-406 141,-406 141,4 -4,4\" stroke=\"none\"/>\n",
       "<!-- 1602501707312 -->\n",
       "<g class=\"node\" id=\"node1\"><title>1602501707312</title>\n",
       "<polygon fill=\"none\" points=\"13,-292.5 13,-328.5 124,-328.5 124,-292.5 13,-292.5\" stroke=\"black\"/>\n",
       "<text font-family=\"Times New Roman,serif\" font-size=\"14.00\" text-anchor=\"middle\" x=\"68.5\" y=\"-306.8\">dense_13: Dense</text>\n",
       "</g>\n",
       "<!-- 1602501256304 -->\n",
       "<g class=\"node\" id=\"node2\"><title>1602501256304</title>\n",
       "<polygon fill=\"none\" points=\"3.5,-219.5 3.5,-255.5 133.5,-255.5 133.5,-219.5 3.5,-219.5\" stroke=\"black\"/>\n",
       "<text font-family=\"Times New Roman,serif\" font-size=\"14.00\" text-anchor=\"middle\" x=\"68.5\" y=\"-233.8\">dropout_9: Dropout</text>\n",
       "</g>\n",
       "<!-- 1602501707312&#45;&gt;1602501256304 -->\n",
       "<g class=\"edge\" id=\"edge2\"><title>1602501707312-&gt;1602501256304</title>\n",
       "<path d=\"M68.5,-292.313C68.5,-284.289 68.5,-274.547 68.5,-265.569\" fill=\"none\" stroke=\"black\"/>\n",
       "<polygon fill=\"black\" points=\"72.0001,-265.529 68.5,-255.529 65.0001,-265.529 72.0001,-265.529\" stroke=\"black\"/>\n",
       "</g>\n",
       "<!-- 1602501258768 -->\n",
       "<g class=\"node\" id=\"node3\"><title>1602501258768</title>\n",
       "<polygon fill=\"none\" points=\"13,-146.5 13,-182.5 124,-182.5 124,-146.5 13,-146.5\" stroke=\"black\"/>\n",
       "<text font-family=\"Times New Roman,serif\" font-size=\"14.00\" text-anchor=\"middle\" x=\"68.5\" y=\"-160.8\">dense_14: Dense</text>\n",
       "</g>\n",
       "<!-- 1602501256304&#45;&gt;1602501258768 -->\n",
       "<g class=\"edge\" id=\"edge3\"><title>1602501256304-&gt;1602501258768</title>\n",
       "<path d=\"M68.5,-219.313C68.5,-211.289 68.5,-201.547 68.5,-192.569\" fill=\"none\" stroke=\"black\"/>\n",
       "<polygon fill=\"black\" points=\"72.0001,-192.529 68.5,-182.529 65.0001,-192.529 72.0001,-192.529\" stroke=\"black\"/>\n",
       "</g>\n",
       "<!-- 1602501708936 -->\n",
       "<g class=\"node\" id=\"node4\"><title>1602501708936</title>\n",
       "<polygon fill=\"none\" points=\"0,-73.5 0,-109.5 137,-109.5 137,-73.5 0,-73.5\" stroke=\"black\"/>\n",
       "<text font-family=\"Times New Roman,serif\" font-size=\"14.00\" text-anchor=\"middle\" x=\"68.5\" y=\"-87.8\">dropout_10: Dropout</text>\n",
       "</g>\n",
       "<!-- 1602501258768&#45;&gt;1602501708936 -->\n",
       "<g class=\"edge\" id=\"edge4\"><title>1602501258768-&gt;1602501708936</title>\n",
       "<path d=\"M68.5,-146.313C68.5,-138.289 68.5,-128.547 68.5,-119.569\" fill=\"none\" stroke=\"black\"/>\n",
       "<polygon fill=\"black\" points=\"72.0001,-119.529 68.5,-109.529 65.0001,-119.529 72.0001,-119.529\" stroke=\"black\"/>\n",
       "</g>\n",
       "<!-- 1602501256080 -->\n",
       "<g class=\"node\" id=\"node5\"><title>1602501256080</title>\n",
       "<polygon fill=\"none\" points=\"13,-0.5 13,-36.5 124,-36.5 124,-0.5 13,-0.5\" stroke=\"black\"/>\n",
       "<text font-family=\"Times New Roman,serif\" font-size=\"14.00\" text-anchor=\"middle\" x=\"68.5\" y=\"-14.8\">dense_15: Dense</text>\n",
       "</g>\n",
       "<!-- 1602501708936&#45;&gt;1602501256080 -->\n",
       "<g class=\"edge\" id=\"edge5\"><title>1602501708936-&gt;1602501256080</title>\n",
       "<path d=\"M68.5,-73.3129C68.5,-65.2895 68.5,-55.5475 68.5,-46.5691\" fill=\"none\" stroke=\"black\"/>\n",
       "<polygon fill=\"black\" points=\"72.0001,-46.5288 68.5,-36.5288 65.0001,-46.5289 72.0001,-46.5288\" stroke=\"black\"/>\n",
       "</g>\n",
       "<!-- 1602501706976 -->\n",
       "<g class=\"node\" id=\"node6\"><title>1602501706976</title>\n",
       "<polygon fill=\"none\" points=\"16.5,-365.5 16.5,-401.5 120.5,-401.5 120.5,-365.5 16.5,-365.5\" stroke=\"black\"/>\n",
       "<text font-family=\"Times New Roman,serif\" font-size=\"14.00\" text-anchor=\"middle\" x=\"68.5\" y=\"-379.8\">1602501706976</text>\n",
       "</g>\n",
       "<!-- 1602501706976&#45;&gt;1602501707312 -->\n",
       "<g class=\"edge\" id=\"edge1\"><title>1602501706976-&gt;1602501707312</title>\n",
       "<path d=\"M68.5,-365.313C68.5,-357.289 68.5,-347.547 68.5,-338.569\" fill=\"none\" stroke=\"black\"/>\n",
       "<polygon fill=\"black\" points=\"72.0001,-338.529 68.5,-328.529 65.0001,-338.529 72.0001,-338.529\" stroke=\"black\"/>\n",
       "</g>\n",
       "</g>\n",
       "</svg>"
      ],
      "text/plain": [
       "<IPython.core.display.SVG object>"
      ]
     },
     "execution_count": 23,
     "metadata": {},
     "output_type": "execute_result"
    }
   ],
   "source": [
    "from IPython.display import SVG\n",
    "from keras.utils.vis_utils import model_to_dot\n",
    "\n",
    "SVG(model_to_dot(model).create(prog='dot', format='svg'))"
   ]
  },
  {
   "cell_type": "markdown",
   "metadata": {
    "colab_type": "text",
    "id": "TfypWUJIlFkz"
   },
   "source": [
    "## Training DNN"
   ]
  },
  {
   "cell_type": "code",
   "execution_count": 24,
   "metadata": {
    "colab": {
     "base_uri": "https://localhost:8080/",
     "height": 931
    },
    "colab_type": "code",
    "id": "zsdmu-ggfvr1",
    "outputId": "77a52558-8ecc-4fc5-e0cb-2b86a75df4c6",
    "scrolled": false
   },
   "outputs": [
    {
     "name": "stdout",
     "output_type": "stream",
     "text": [
      "Train on 384 samples, validate on 216 samples\n",
      "Epoch 1/100\n",
      "384/384 [==============================] - 1s 2ms/step - loss: 1.3569 - acc: 0.5260 - val_loss: 0.7389 - val_acc: 0.7546\n",
      "Epoch 2/100\n",
      "384/384 [==============================] - 0s 169us/step - loss: 0.7054 - acc: 0.7656 - val_loss: 0.6852 - val_acc: 0.8102\n",
      "Epoch 3/100\n",
      "384/384 [==============================] - 0s 160us/step - loss: 0.4630 - acc: 0.8307 - val_loss: 0.6444 - val_acc: 0.7917\n",
      "Epoch 4/100\n",
      "384/384 [==============================] - 0s 164us/step - loss: 0.3091 - acc: 0.9089 - val_loss: 0.6551 - val_acc: 0.7685\n",
      "Epoch 5/100\n",
      "384/384 [==============================] - 0s 152us/step - loss: 0.2497 - acc: 0.9167 - val_loss: 0.7601 - val_acc: 0.8148\n",
      "Epoch 6/100\n",
      "384/384 [==============================] - 0s 167us/step - loss: 0.1751 - acc: 0.9297 - val_loss: 0.6763 - val_acc: 0.8148\n",
      "Epoch 7/100\n",
      "384/384 [==============================] - 0s 181us/step - loss: 0.1522 - acc: 0.9557 - val_loss: 0.6927 - val_acc: 0.8148\n",
      "Epoch 8/100\n",
      "384/384 [==============================] - 0s 166us/step - loss: 0.1284 - acc: 0.9609 - val_loss: 0.6582 - val_acc: 0.8148\n",
      "Epoch 9/100\n",
      "384/384 [==============================] - 0s 163us/step - loss: 0.1008 - acc: 0.9688 - val_loss: 0.8561 - val_acc: 0.7731\n",
      "Epoch 10/100\n",
      "384/384 [==============================] - 0s 161us/step - loss: 0.0631 - acc: 0.9818 - val_loss: 0.7984 - val_acc: 0.8056\n",
      "Epoch 11/100\n",
      "384/384 [==============================] - 0s 158us/step - loss: 0.0892 - acc: 0.9688 - val_loss: 0.9280 - val_acc: 0.7639\n",
      "Epoch 12/100\n",
      "384/384 [==============================] - 0s 152us/step - loss: 0.1030 - acc: 0.9583 - val_loss: 0.9070 - val_acc: 0.7731\n",
      "Epoch 13/100\n",
      "384/384 [==============================] - 0s 164us/step - loss: 0.0630 - acc: 0.9792 - val_loss: 0.7859 - val_acc: 0.8194\n",
      "Epoch 14/100\n",
      "384/384 [==============================] - 0s 169us/step - loss: 0.0557 - acc: 0.9766 - val_loss: 0.8721 - val_acc: 0.8009\n",
      "Epoch 15/100\n",
      "384/384 [==============================] - 0s 180us/step - loss: 0.0267 - acc: 0.9896 - val_loss: 1.0016 - val_acc: 0.7963\n",
      "Epoch 16/100\n",
      "384/384 [==============================] - 0s 169us/step - loss: 0.0265 - acc: 0.9948 - val_loss: 0.8606 - val_acc: 0.8380\n",
      "Epoch 17/100\n",
      "384/384 [==============================] - 0s 160us/step - loss: 0.0433 - acc: 0.9844 - val_loss: 1.1721 - val_acc: 0.7778\n",
      "Epoch 18/100\n",
      "384/384 [==============================] - 0s 195us/step - loss: 0.0356 - acc: 0.9922 - val_loss: 1.1803 - val_acc: 0.7917\n",
      "Epoch 19/100\n",
      "384/384 [==============================] - 0s 179us/step - loss: 0.0270 - acc: 0.9948 - val_loss: 1.0353 - val_acc: 0.8148\n",
      "Epoch 20/100\n",
      "384/384 [==============================] - 0s 168us/step - loss: 0.0219 - acc: 0.9922 - val_loss: 1.0524 - val_acc: 0.8194\n",
      "Epoch 21/100\n",
      "384/384 [==============================] - 0s 164us/step - loss: 0.0313 - acc: 0.9870 - val_loss: 1.1197 - val_acc: 0.8056\n",
      "Epoch 22/100\n",
      "384/384 [==============================] - 0s 204us/step - loss: 0.0160 - acc: 0.9948 - val_loss: 1.0012 - val_acc: 0.8194\n",
      "Epoch 23/100\n",
      "384/384 [==============================] - 0s 188us/step - loss: 0.0340 - acc: 0.9922 - val_loss: 1.0789 - val_acc: 0.8056\n",
      "Epoch 24/100\n",
      "384/384 [==============================] - 0s 235us/step - loss: 0.0104 - acc: 0.9974 - val_loss: 1.3238 - val_acc: 0.8148\n",
      "Epoch 25/100\n",
      "384/384 [==============================] - 0s 237us/step - loss: 0.0108 - acc: 0.9974 - val_loss: 1.0619 - val_acc: 0.8194\n",
      "Epoch 26/100\n",
      "384/384 [==============================] - 0s 300us/step - loss: 0.0173 - acc: 0.9922 - val_loss: 1.1264 - val_acc: 0.8194\n",
      "Epoch 27/100\n",
      "384/384 [==============================] - 0s 289us/step - loss: 0.0039 - acc: 1.0000 - val_loss: 1.1445 - val_acc: 0.8380\n",
      "Epoch 28/100\n",
      "384/384 [==============================] - 0s 260us/step - loss: 0.0052 - acc: 0.9974 - val_loss: 1.2811 - val_acc: 0.8009\n",
      "Epoch 29/100\n",
      "384/384 [==============================] - 0s 172us/step - loss: 0.0051 - acc: 1.0000 - val_loss: 1.3896 - val_acc: 0.8241\n",
      "Epoch 30/100\n",
      "384/384 [==============================] - 0s 174us/step - loss: 0.0311 - acc: 0.9922 - val_loss: 1.3214 - val_acc: 0.7963\n",
      "Epoch 31/100\n",
      "384/384 [==============================] - 0s 163us/step - loss: 0.0185 - acc: 0.9922 - val_loss: 1.3775 - val_acc: 0.8287\n",
      "Epoch 32/100\n",
      "384/384 [==============================] - 0s 164us/step - loss: 0.0208 - acc: 0.9948 - val_loss: 1.3448 - val_acc: 0.7824\n",
      "Epoch 33/100\n",
      "384/384 [==============================] - 0s 160us/step - loss: 0.0252 - acc: 0.9922 - val_loss: 1.3510 - val_acc: 0.8102\n",
      "Epoch 34/100\n",
      "384/384 [==============================] - 0s 172us/step - loss: 0.0061 - acc: 0.9974 - val_loss: 1.3106 - val_acc: 0.8241\n",
      "Epoch 35/100\n",
      "384/384 [==============================] - 0s 223us/step - loss: 0.0016 - acc: 1.0000 - val_loss: 1.2884 - val_acc: 0.8333\n",
      "Epoch 36/100\n",
      "384/384 [==============================] - 0s 259us/step - loss: 0.0029 - acc: 1.0000 - val_loss: 1.5584 - val_acc: 0.7917\n",
      "Epoch 37/100\n",
      "384/384 [==============================] - 0s 214us/step - loss: 0.0332 - acc: 0.9870 - val_loss: 1.4577 - val_acc: 0.8194\n",
      "Epoch 38/100\n",
      "384/384 [==============================] - 0s 224us/step - loss: 0.0129 - acc: 0.9948 - val_loss: 1.4218 - val_acc: 0.8194\n",
      "Epoch 39/100\n",
      "384/384 [==============================] - 0s 187us/step - loss: 0.0025 - acc: 1.0000 - val_loss: 1.5285 - val_acc: 0.8287\n",
      "Epoch 40/100\n",
      "384/384 [==============================] - 0s 148us/step - loss: 0.0104 - acc: 0.9948 - val_loss: 1.4976 - val_acc: 0.8102\n",
      "Epoch 41/100\n",
      "384/384 [==============================] - 0s 171us/step - loss: 0.0125 - acc: 0.9974 - val_loss: 1.5309 - val_acc: 0.7963\n",
      "Epoch 42/100\n",
      "384/384 [==============================] - 0s 166us/step - loss: 0.0350 - acc: 0.9948 - val_loss: 1.5506 - val_acc: 0.8194\n",
      "Epoch 43/100\n",
      "384/384 [==============================] - 0s 164us/step - loss: 0.0098 - acc: 0.9948 - val_loss: 1.3447 - val_acc: 0.8241\n",
      "Epoch 44/100\n",
      "384/384 [==============================] - 0s 164us/step - loss: 0.0293 - acc: 0.9896 - val_loss: 1.4139 - val_acc: 0.8056\n",
      "Epoch 45/100\n",
      "384/384 [==============================] - 0s 225us/step - loss: 0.0081 - acc: 0.9974 - val_loss: 1.5604 - val_acc: 0.7963\n",
      "Epoch 46/100\n",
      "384/384 [==============================] - 0s 213us/step - loss: 0.0120 - acc: 0.9974 - val_loss: 1.8049 - val_acc: 0.8056\n",
      "Epoch 47/100\n",
      "384/384 [==============================] - 0s 262us/step - loss: 0.0021 - acc: 1.0000 - val_loss: 1.6129 - val_acc: 0.8194\n",
      "Epoch 48/100\n",
      "384/384 [==============================] - 0s 230us/step - loss: 0.0271 - acc: 0.9974 - val_loss: 1.5364 - val_acc: 0.7870\n",
      "Epoch 49/100\n",
      "384/384 [==============================] - 0s 221us/step - loss: 0.0014 - acc: 1.0000 - val_loss: 1.5759 - val_acc: 0.8056\n",
      "Epoch 50/100\n",
      "384/384 [==============================] - 0s 236us/step - loss: 0.0034 - acc: 1.0000 - val_loss: 2.0352 - val_acc: 0.7593\n",
      "Epoch 51/100\n",
      "384/384 [==============================] - 0s 280us/step - loss: 0.0454 - acc: 0.9922 - val_loss: 1.6789 - val_acc: 0.8148\n",
      "Epoch 52/100\n",
      "384/384 [==============================] - 0s 259us/step - loss: 0.0035 - acc: 1.0000 - val_loss: 1.5768 - val_acc: 0.8426\n",
      "Epoch 53/100\n",
      "384/384 [==============================] - 0s 201us/step - loss: 9.2655e-04 - acc: 1.0000 - val_loss: 1.5892 - val_acc: 0.8333\n",
      "Epoch 54/100\n",
      "384/384 [==============================] - 0s 216us/step - loss: 0.0030 - acc: 1.0000 - val_loss: 1.5947 - val_acc: 0.8102\n",
      "Epoch 55/100\n",
      "384/384 [==============================] - 0s 229us/step - loss: 8.8538e-04 - acc: 1.0000 - val_loss: 1.6614 - val_acc: 0.8056\n",
      "Epoch 56/100\n",
      "384/384 [==============================] - 0s 200us/step - loss: 0.0121 - acc: 0.9948 - val_loss: 1.6729 - val_acc: 0.8194\n",
      "Epoch 57/100\n",
      "384/384 [==============================] - 0s 319us/step - loss: 0.0295 - acc: 0.9974 - val_loss: 1.9804 - val_acc: 0.7731\n",
      "Epoch 58/100\n",
      "384/384 [==============================] - 0s 297us/step - loss: 0.0097 - acc: 0.9948 - val_loss: 1.9031 - val_acc: 0.7963\n",
      "Epoch 59/100\n",
      "384/384 [==============================] - 0s 273us/step - loss: 7.3143e-04 - acc: 1.0000 - val_loss: 1.8928 - val_acc: 0.7963\n",
      "Epoch 60/100\n",
      "384/384 [==============================] - 0s 197us/step - loss: 0.0168 - acc: 0.9896 - val_loss: 1.8487 - val_acc: 0.8056\n"
     ]
    },
    {
     "name": "stdout",
     "output_type": "stream",
     "text": [
      "Epoch 61/100\n",
      "384/384 [==============================] - 0s 214us/step - loss: 0.0014 - acc: 1.0000 - val_loss: 1.8227 - val_acc: 0.8194\n",
      "Epoch 62/100\n",
      "384/384 [==============================] - 0s 261us/step - loss: 0.0109 - acc: 0.9948 - val_loss: 1.8407 - val_acc: 0.8102\n",
      "Epoch 63/100\n",
      "384/384 [==============================] - 0s 322us/step - loss: 0.0049 - acc: 0.9974 - val_loss: 1.9428 - val_acc: 0.8056\n",
      "Epoch 64/100\n",
      "384/384 [==============================] - 0s 293us/step - loss: 0.0055 - acc: 0.9974 - val_loss: 1.8301 - val_acc: 0.7963\n",
      "Epoch 65/100\n",
      "384/384 [==============================] - 0s 231us/step - loss: 0.0192 - acc: 0.9948 - val_loss: 1.6522 - val_acc: 0.8148\n",
      "Epoch 66/100\n",
      "384/384 [==============================] - 0s 231us/step - loss: 0.0241 - acc: 0.9922 - val_loss: 1.7485 - val_acc: 0.7778\n",
      "Epoch 67/100\n",
      "384/384 [==============================] - 0s 238us/step - loss: 0.0020 - acc: 1.0000 - val_loss: 1.7594 - val_acc: 0.8102\n",
      "Epoch 68/100\n",
      "384/384 [==============================] - 0s 253us/step - loss: 0.0129 - acc: 0.9922 - val_loss: 1.8083 - val_acc: 0.8194\n",
      "Epoch 69/100\n",
      "384/384 [==============================] - 0s 323us/step - loss: 0.0078 - acc: 0.9974 - val_loss: 1.5988 - val_acc: 0.8287\n",
      "Epoch 70/100\n",
      "384/384 [==============================] - 0s 309us/step - loss: 0.0025 - acc: 1.0000 - val_loss: 1.6647 - val_acc: 0.8287\n",
      "Epoch 71/100\n",
      "384/384 [==============================] - 0s 243us/step - loss: 7.6677e-04 - acc: 1.0000 - val_loss: 1.6038 - val_acc: 0.8426\n",
      "Epoch 72/100\n",
      "384/384 [==============================] - 0s 212us/step - loss: 0.0019 - acc: 1.0000 - val_loss: 1.6822 - val_acc: 0.8472\n",
      "Epoch 73/100\n",
      "384/384 [==============================] - 0s 256us/step - loss: 0.0017 - acc: 1.0000 - val_loss: 1.6578 - val_acc: 0.8426\n",
      "Epoch 74/100\n",
      "384/384 [==============================] - 0s 226us/step - loss: 4.0790e-04 - acc: 1.0000 - val_loss: 1.8334 - val_acc: 0.8194\n",
      "Epoch 75/100\n",
      "384/384 [==============================] - 0s 208us/step - loss: 0.0056 - acc: 0.9974 - val_loss: 1.7949 - val_acc: 0.8009\n",
      "Epoch 76/100\n",
      "384/384 [==============================] - 0s 204us/step - loss: 0.0092 - acc: 0.9974 - val_loss: 1.9295 - val_acc: 0.7963\n",
      "Epoch 77/100\n",
      "384/384 [==============================] - 0s 338us/step - loss: 0.0288 - acc: 0.9870 - val_loss: 1.8383 - val_acc: 0.8148\n",
      "Epoch 78/100\n",
      "384/384 [==============================] - 0s 223us/step - loss: 0.0011 - acc: 1.0000 - val_loss: 2.0065 - val_acc: 0.8056\n",
      "Epoch 79/100\n",
      "384/384 [==============================] - 0s 213us/step - loss: 0.0016 - acc: 1.0000 - val_loss: 1.8755 - val_acc: 0.8102\n",
      "Epoch 80/100\n",
      "384/384 [==============================] - 0s 216us/step - loss: 0.0030 - acc: 1.0000 - val_loss: 1.9689 - val_acc: 0.8009\n",
      "Epoch 81/100\n",
      "384/384 [==============================] - 0s 244us/step - loss: 0.0012 - acc: 1.0000 - val_loss: 1.7362 - val_acc: 0.8148\n",
      "Epoch 82/100\n",
      "384/384 [==============================] - 0s 241us/step - loss: 4.5146e-04 - acc: 1.0000 - val_loss: 1.8605 - val_acc: 0.8009\n",
      "Epoch 83/100\n",
      "384/384 [==============================] - 0s 225us/step - loss: 0.0037 - acc: 1.0000 - val_loss: 1.9110 - val_acc: 0.8102\n",
      "Epoch 84/100\n",
      "384/384 [==============================] - 0s 230us/step - loss: 0.0099 - acc: 0.9974 - val_loss: 1.8503 - val_acc: 0.8102\n",
      "Epoch 85/100\n",
      "384/384 [==============================] - 0s 201us/step - loss: 2.8036e-04 - acc: 1.0000 - val_loss: 1.8999 - val_acc: 0.8194\n",
      "Epoch 86/100\n",
      "384/384 [==============================] - 0s 236us/step - loss: 0.0119 - acc: 0.9974 - val_loss: 1.9990 - val_acc: 0.8148\n",
      "Epoch 87/100\n",
      "384/384 [==============================] - 0s 300us/step - loss: 0.0146 - acc: 0.9948 - val_loss: 2.1107 - val_acc: 0.8056\n",
      "Epoch 88/100\n",
      "384/384 [==============================] - 0s 262us/step - loss: 0.0158 - acc: 0.9974 - val_loss: 1.9693 - val_acc: 0.8333\n",
      "Epoch 89/100\n",
      "384/384 [==============================] - 0s 217us/step - loss: 0.0113 - acc: 0.9948 - val_loss: 2.1487 - val_acc: 0.8102\n",
      "Epoch 90/100\n",
      "384/384 [==============================] - 0s 221us/step - loss: 0.0054 - acc: 0.9974 - val_loss: 1.8429 - val_acc: 0.8194\n",
      "Epoch 91/100\n",
      "384/384 [==============================] - 0s 232us/step - loss: 0.0052 - acc: 0.9948 - val_loss: 1.9241 - val_acc: 0.8333\n",
      "Epoch 92/100\n",
      "384/384 [==============================] - 0s 253us/step - loss: 0.0103 - acc: 0.9948 - val_loss: 1.9488 - val_acc: 0.8333\n",
      "Epoch 93/100\n",
      "384/384 [==============================] - 0s 230us/step - loss: 0.0209 - acc: 0.9948 - val_loss: 1.9461 - val_acc: 0.8241\n",
      "Epoch 94/100\n",
      "384/384 [==============================] - 0s 310us/step - loss: 8.0156e-04 - acc: 1.0000 - val_loss: 1.9464 - val_acc: 0.8287\n",
      "Epoch 95/100\n",
      "384/384 [==============================] - 0s 226us/step - loss: 4.7434e-05 - acc: 1.0000 - val_loss: 1.9267 - val_acc: 0.8148\n",
      "Epoch 96/100\n",
      "384/384 [==============================] - 0s 244us/step - loss: 1.7032e-04 - acc: 1.0000 - val_loss: 1.9228 - val_acc: 0.8148\n",
      "Epoch 97/100\n",
      "384/384 [==============================] - 0s 212us/step - loss: 1.1067e-04 - acc: 1.0000 - val_loss: 1.9708 - val_acc: 0.8333\n",
      "Epoch 98/100\n",
      "384/384 [==============================] - 0s 215us/step - loss: 0.0060 - acc: 0.9974 - val_loss: 1.9211 - val_acc: 0.8241\n",
      "Epoch 99/100\n",
      "384/384 [==============================] - 0s 226us/step - loss: 2.0568e-04 - acc: 1.0000 - val_loss: 1.8014 - val_acc: 0.8194\n",
      "Epoch 100/100\n",
      "384/384 [==============================] - 0s 332us/step - loss: 0.0023 - acc: 1.0000 - val_loss: 1.8263 - val_acc: 0.8194\n"
     ]
    }
   ],
   "source": [
    "EPOCHS = 100\n",
    "history = model.fit(train_data, train_labels, epochs=EPOCHS, validation_data=(test_data, test_labels))"
   ]
  },
  {
   "cell_type": "code",
   "execution_count": 430,
   "metadata": {},
   "outputs": [
    {
     "data": {
      "image/png": "[encoded data removed]",
      "text/plain": [
       "<matplotlib.figure.Figure at 0x1dfb5c61d68>"
      ]
     },
     "metadata": {},
     "output_type": "display_data"
    },
    {
     "data": {
      "image/png": "[encoded data removed]",
      "text/plain": [
       "<matplotlib.figure.Figure at 0x1dfb5c61d30>"
      ]
     },
     "metadata": {},
     "output_type": "display_data"
    }
   ],
   "source": [
    "%run history.py\n",
    "%matplotlib inline\n",
    "\n",
    "plot_accuracy(history)\n",
    "plot_loss(history)"
   ]
  },
  {
   "cell_type": "markdown",
   "metadata": {},
   "source": [
    "## Save the model"
   ]
  },
  {
   "cell_type": "code",
   "execution_count": 431,
   "metadata": {},
   "outputs": [],
   "source": [
    "import datetime\n",
    "\n",
    "dt = datetime.datetime.today().strftime('%Y%m%d%H%M%S')\n",
    "filename = DATASET_FOLDER + '/dnn_for_aed_{}.h5'.format(dt)\n",
    "model.save(filename)"
   ]
  },
  {
   "cell_type": "markdown",
   "metadata": {},
   "source": [
    "## Load the model"
   ]
  },
  {
   "cell_type": "code",
   "execution_count": 432,
   "metadata": {},
   "outputs": [],
   "source": [
    "del model\n",
    "model = models.load_model(filename)"
   ]
  },
  {
   "cell_type": "markdown",
   "metadata": {
    "colab_type": "text",
    "id": "j6con4C3lKC1"
   },
   "source": [
    "## Confirmation"
   ]
  },
  {
   "cell_type": "code",
   "execution_count": 433,
   "metadata": {
    "colab": {
     "base_uri": "https://localhost:8080/",
     "height": 34
    },
    "colab_type": "code",
    "id": "4oZYLLij69wU",
    "outputId": "b37a4b8a-2c80-411f-d8a9-5df1c6dbfe22"
   },
   "outputs": [],
   "source": [
    "import numpy as np\n",
    "import matplotlib.pyplot as plt"
   ]
  },
  {
   "cell_type": "code",
   "execution_count": 434,
   "metadata": {
    "colab": {
     "base_uri": "https://localhost:8080/",
     "height": 193
    },
    "colab_type": "code",
    "id": "zSxXE9FgRBdJ",
    "outputId": "f3a53efe-e99f-4572-f9b4-1bf3c39c77ec"
   },
   "outputs": [],
   "source": [
    "layer_outputs = [layer.output for layer in model.layers]\n",
    "#layer_outputs"
   ]
  },
  {
   "cell_type": "code",
   "execution_count": 435,
   "metadata": {
    "colab": {
     "base_uri": "https://localhost:8080/",
     "height": 34
    },
    "colab_type": "code",
    "id": "dcw7yHKrRkPD",
    "outputId": "a3ed5441-ae48-4635-bf07-ac5060030608"
   },
   "outputs": [],
   "source": [
    "activation_model = models.Model(inputs=model.input, outputs=layer_outputs)\n",
    "activations = activation_model.predict(test_data)\n",
    "#activations[0][0,:,:,0].shape"
   ]
  },
  {
   "cell_type": "code",
   "execution_count": 436,
   "metadata": {},
   "outputs": [
    {
     "data": {
      "text/plain": [
       "['piano',\n",
       " 'classical_guitar',\n",
       " 'framenco_guitar',\n",
       " 'blues_harp',\n",
       " 'tin_whistle',\n",
       " 'silence']"
      ]
     },
     "execution_count": 436,
     "metadata": {},
     "output_type": "execute_result"
    }
   ],
   "source": [
    "class_labels"
   ]
  },
  {
   "cell_type": "code",
   "execution_count": 437,
   "metadata": {
    "colab": {
     "base_uri": "https://localhost:8080/",
     "height": 193
    },
    "colab_type": "code",
    "id": "ccSNAwGKhRn9",
    "outputId": "0ad22e12-713b-4b07-e17b-45d39ff1b80b"
   },
   "outputs": [
    {
     "data": {
      "text/plain": [
       "array([[100,   0,   0,   0,   0,   0],\n",
       "       [  0,   0,   0,   0,   0, 100],\n",
       "       [  0,  99,   0,   0,   0,   0],\n",
       "       [  0,   0,   0,  99,   0,   0],\n",
       "       [  0,   0,  99,   0,   0,   0],\n",
       "       [ 99,   0,   0,   0,   0,   0],\n",
       "       [  0,   0,   0,   0,   0, 100],\n",
       "       [  0,   0,   0,  99,   0,   0],\n",
       "       [100,   0,   0,   0,   0,   0],\n",
       "       [ 99,   0,   0,   0,   0,   0]])"
      ]
     },
     "execution_count": 437,
     "metadata": {},
     "output_type": "execute_result"
    }
   ],
   "source": [
    "(activations[-1][:10]*100).astype(int)"
   ]
  },
  {
   "cell_type": "code",
   "execution_count": 438,
   "metadata": {
    "colab": {
     "base_uri": "https://localhost:8080/",
     "height": 193
    },
    "colab_type": "code",
    "id": "RoE0nxtuiGIN",
    "outputId": "154437a8-ab72-46f4-f42c-3e6464af47d0"
   },
   "outputs": [
    {
     "data": {
      "text/plain": [
       "array([[1, 0, 0, 0, 0, 0],\n",
       "       [0, 0, 0, 0, 0, 1],\n",
       "       [0, 1, 0, 0, 0, 0],\n",
       "       [0, 0, 0, 1, 0, 0],\n",
       "       [0, 0, 1, 0, 0, 0],\n",
       "       [1, 0, 0, 0, 0, 0],\n",
       "       [0, 0, 0, 0, 0, 1],\n",
       "       [0, 0, 0, 1, 0, 0],\n",
       "       [1, 0, 0, 0, 0, 0],\n",
       "       [1, 0, 0, 0, 0, 0]])"
      ]
     },
     "execution_count": 438,
     "metadata": {},
     "output_type": "execute_result"
    }
   ],
   "source": [
    "test_labels[:10].astype(int)"
   ]
  },
  {
   "cell_type": "code",
   "execution_count": null,
   "metadata": {},
   "outputs": [],
   "source": []
  }
 ],
 "metadata": {
  "colab": {
   "collapsed_sections": [],
   "name": "CNN for AED",
   "provenance": [],
   "version": "0.3.2"
  },
  "kernelspec": {
   "display_name": "Python 3",
   "language": "python",
   "name": "python3"
  },
  "language_info": {
   "codemirror_mode": {
    "name": "ipython",
    "version": 3
   },
   "file_extension": ".py",
   "mimetype": "text/x-python",
   "name": "python",
   "nbconvert_exporter": "python",
   "pygments_lexer": "ipython3",
   "version": "3.6.4"
  }
 },
 "nbformat": 4,
 "nbformat_minor": 1
}
