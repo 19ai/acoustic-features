{
 "cells": [
  {
   "cell_type": "markdown",
   "metadata": {
    "colab_type": "text",
    "id": "0X16cagQE-Y-"
   },
   "source": [
    "# CNN for AED with Keras/TensorFlow\n",
    "\n",
    "Date: February 29, 2019\n",
    "\n",
    "Neural network: input MFCCs to DNN"
   ]
  },
  {
   "cell_type": "markdown",
   "metadata": {
    "colab_type": "text",
    "id": "WwQ-dEltkl5Q"
   },
   "source": [
    "## Preparing data set for CNN"
   ]
  },
  {
   "cell_type": "code",
   "execution_count": 29,
   "metadata": {
    "colab": {
     "base_uri": "https://localhost:8080/",
     "height": 34
    },
    "colab_type": "code",
    "id": "VEJyQsGpV3ug",
    "outputId": "3929aa39-3383-4791-e065-3622e6781181"
   },
   "outputs": [
    {
     "data": {
      "text/plain": [
       "<matplotlib.figure.Figure at 0x20fc7bca1d0>"
      ]
     },
     "metadata": {},
     "output_type": "display_data"
    }
   ],
   "source": [
    "DATASET_FOLDER = '../dataset/data_environment'\n",
    "\n",
    "%run ../oscilloscope/script/dataset.py\n",
    "\n",
    "ds = DataSet(DATASET_FOLDER)\n",
    "train_data, train_labels, test_data, test_labels = ds.generate(flatten=False)\n",
    "shape = ds.shape\n",
    "class_labels = ds.class_labels"
   ]
  },
  {
   "cell_type": "code",
   "execution_count": 30,
   "metadata": {},
   "outputs": [
    {
     "data": {
      "text/plain": [
       "((420, 96, 12, 1), (180, 96, 12, 1))"
      ]
     },
     "execution_count": 30,
     "metadata": {},
     "output_type": "execute_result"
    },
    {
     "data": {
      "image/png": "[encoded data removed]",
      "text/plain": [
       "<matplotlib.figure.Figure at 0x20fcacf5860>"
      ]
     },
     "metadata": {},
     "output_type": "display_data"
    }
   ],
   "source": [
    "import matplotlib.pyplot as plt\n",
    "%matplotlib inline\n",
    "\n",
    "plt.imshow(np.rot90(train_data[0].reshape(ds.shape)), cmap='seismic')\n",
    "train_data.shape, test_data.shape"
   ]
  },
  {
   "cell_type": "markdown",
   "metadata": {
    "colab_type": "text",
    "id": "VfUmgxxVk6uM"
   },
   "source": [
    "### CNN model"
   ]
  },
  {
   "cell_type": "code",
   "execution_count": 32,
   "metadata": {
    "colab": {
     "base_uri": "https://localhost:8080/",
     "height": 509
    },
    "colab_type": "code",
    "id": "B2Xg6tGLdMKP",
    "outputId": "ae3daa32-9dbf-4d8b-9a11-7f596dd2e4a6"
   },
   "outputs": [
    {
     "name": "stdout",
     "output_type": "stream",
     "text": [
      "_________________________________________________________________\n",
      "Layer (type)                 Output Shape              Param #   \n",
      "=================================================================\n",
      "conv2d_23 (Conv2D)           (None, 94, 10, 8)         80        \n",
      "_________________________________________________________________\n",
      "max_pooling2d_19 (MaxPooling (None, 23, 5, 8)          0         \n",
      "_________________________________________________________________\n",
      "conv2d_24 (Conv2D)           (None, 21, 3, 16)         1168      \n",
      "_________________________________________________________________\n",
      "max_pooling2d_20 (MaxPooling (None, 5, 3, 16)          0         \n",
      "_________________________________________________________________\n",
      "flatten_8 (Flatten)          (None, 240)               0         \n",
      "_________________________________________________________________\n",
      "dropout_8 (Dropout)          (None, 240)               0         \n",
      "_________________________________________________________________\n",
      "dense_8 (Dense)              (None, 6)                 1446      \n",
      "=================================================================\n",
      "Total params: 2,694\n",
      "Trainable params: 2,694\n",
      "Non-trainable params: 0\n",
      "_________________________________________________________________\n"
     ]
    }
   ],
   "source": [
    "from keras import layers\n",
    "from keras import models\n",
    "\n",
    "model = models.Sequential()\n",
    "\n",
    "model.add(layers.Conv2D(8, (3, 3), activation='relu', input_shape=(*shape, 1)))\n",
    "model.add(layers.MaxPooling2D((4,2)))\n",
    "\n",
    "model.add(layers.Conv2D(16, (3, 3), activation='relu'))\n",
    "model.add(layers.MaxPooling2D((4,1)))\n",
    "\n",
    "model.add(layers.Flatten())\n",
    "model.add(layers.Dropout(0.5))\n",
    "model.add(layers.Dense(len(class_labels), activation='softmax'))\n",
    "\n",
    "model.summary()"
   ]
  },
  {
   "cell_type": "code",
   "execution_count": 33,
   "metadata": {
    "colab": {},
    "colab_type": "code",
    "id": "nRr1L_4ogL6i"
   },
   "outputs": [],
   "source": [
    "model.compile(optimizer='rmsprop', loss='categorical_crossentropy', metrics=['accuracy'])"
   ]
  },
  {
   "cell_type": "code",
   "execution_count": 34,
   "metadata": {},
   "outputs": [
    {
     "data": {
      "image/svg+xml": [
       "<svg height=\"556pt\" viewBox=\"0.00 0.00 223.00 556.00\" width=\"223pt\" xmlns=\"http://www.w3.org/2000/svg\" xmlns:xlink=\"http://www.w3.org/1999/xlink\">\n",
       "<g class=\"graph\" id=\"graph0\" transform=\"scale(1 1) rotate(0) translate(4 552)\">\n",
       "<title>G</title>\n",
       "<polygon fill=\"white\" points=\"-4,4 -4,-552 219,-552 219,4 -4,4\" stroke=\"none\"/>\n",
       "<!-- 2266813764888 -->\n",
       "<g class=\"node\" id=\"node1\"><title>2266813764888</title>\n",
       "<polygon fill=\"none\" points=\"40.5,-438.5 40.5,-474.5 174.5,-474.5 174.5,-438.5 40.5,-438.5\" stroke=\"black\"/>\n",
       "<text font-family=\"Times New Roman,serif\" font-size=\"14.00\" text-anchor=\"middle\" x=\"107.5\" y=\"-452.8\">conv2d_23: Conv2D</text>\n",
       "</g>\n",
       "<!-- 2266814044480 -->\n",
       "<g class=\"node\" id=\"node2\"><title>2266814044480</title>\n",
       "<polygon fill=\"none\" points=\"0,-365.5 0,-401.5 215,-401.5 215,-365.5 0,-365.5\" stroke=\"black\"/>\n",
       "<text font-family=\"Times New Roman,serif\" font-size=\"14.00\" text-anchor=\"middle\" x=\"107.5\" y=\"-379.8\">max_pooling2d_19: MaxPooling2D</text>\n",
       "</g>\n",
       "<!-- 2266813764888&#45;&gt;2266814044480 -->\n",
       "<g class=\"edge\" id=\"edge2\"><title>2266813764888-&gt;2266814044480</title>\n",
       "<path d=\"M107.5,-438.313C107.5,-430.289 107.5,-420.547 107.5,-411.569\" fill=\"none\" stroke=\"black\"/>\n",
       "<polygon fill=\"black\" points=\"111,-411.529 107.5,-401.529 104,-411.529 111,-411.529\" stroke=\"black\"/>\n",
       "</g>\n",
       "<!-- 2266813986800 -->\n",
       "<g class=\"node\" id=\"node3\"><title>2266813986800</title>\n",
       "<polygon fill=\"none\" points=\"40.5,-292.5 40.5,-328.5 174.5,-328.5 174.5,-292.5 40.5,-292.5\" stroke=\"black\"/>\n",
       "<text font-family=\"Times New Roman,serif\" font-size=\"14.00\" text-anchor=\"middle\" x=\"107.5\" y=\"-306.8\">conv2d_24: Conv2D</text>\n",
       "</g>\n",
       "<!-- 2266814044480&#45;&gt;2266813986800 -->\n",
       "<g class=\"edge\" id=\"edge3\"><title>2266814044480-&gt;2266813986800</title>\n",
       "<path d=\"M107.5,-365.313C107.5,-357.289 107.5,-347.547 107.5,-338.569\" fill=\"none\" stroke=\"black\"/>\n",
       "<polygon fill=\"black\" points=\"111,-338.529 107.5,-328.529 104,-338.529 111,-338.529\" stroke=\"black\"/>\n",
       "</g>\n",
       "<!-- 2266814141888 -->\n",
       "<g class=\"node\" id=\"node4\"><title>2266814141888</title>\n",
       "<polygon fill=\"none\" points=\"0,-219.5 0,-255.5 215,-255.5 215,-219.5 0,-219.5\" stroke=\"black\"/>\n",
       "<text font-family=\"Times New Roman,serif\" font-size=\"14.00\" text-anchor=\"middle\" x=\"107.5\" y=\"-233.8\">max_pooling2d_20: MaxPooling2D</text>\n",
       "</g>\n",
       "<!-- 2266813986800&#45;&gt;2266814141888 -->\n",
       "<g class=\"edge\" id=\"edge4\"><title>2266813986800-&gt;2266814141888</title>\n",
       "<path d=\"M107.5,-292.313C107.5,-284.289 107.5,-274.547 107.5,-265.569\" fill=\"none\" stroke=\"black\"/>\n",
       "<polygon fill=\"black\" points=\"111,-265.529 107.5,-255.529 104,-265.529 111,-265.529\" stroke=\"black\"/>\n",
       "</g>\n",
       "<!-- 2266814045768 -->\n",
       "<g class=\"node\" id=\"node5\"><title>2266814045768</title>\n",
       "<polygon fill=\"none\" points=\"53,-146.5 53,-182.5 162,-182.5 162,-146.5 53,-146.5\" stroke=\"black\"/>\n",
       "<text font-family=\"Times New Roman,serif\" font-size=\"14.00\" text-anchor=\"middle\" x=\"107.5\" y=\"-160.8\">flatten_8: Flatten</text>\n",
       "</g>\n",
       "<!-- 2266814141888&#45;&gt;2266814045768 -->\n",
       "<g class=\"edge\" id=\"edge5\"><title>2266814141888-&gt;2266814045768</title>\n",
       "<path d=\"M107.5,-219.313C107.5,-211.289 107.5,-201.547 107.5,-192.569\" fill=\"none\" stroke=\"black\"/>\n",
       "<polygon fill=\"black\" points=\"111,-192.529 107.5,-182.529 104,-192.529 111,-192.529\" stroke=\"black\"/>\n",
       "</g>\n",
       "<!-- 2266814237720 -->\n",
       "<g class=\"node\" id=\"node6\"><title>2266814237720</title>\n",
       "<polygon fill=\"none\" points=\"42.5,-73.5 42.5,-109.5 172.5,-109.5 172.5,-73.5 42.5,-73.5\" stroke=\"black\"/>\n",
       "<text font-family=\"Times New Roman,serif\" font-size=\"14.00\" text-anchor=\"middle\" x=\"107.5\" y=\"-87.8\">dropout_8: Dropout</text>\n",
       "</g>\n",
       "<!-- 2266814045768&#45;&gt;2266814237720 -->\n",
       "<g class=\"edge\" id=\"edge6\"><title>2266814045768-&gt;2266814237720</title>\n",
       "<path d=\"M107.5,-146.313C107.5,-138.289 107.5,-128.547 107.5,-119.569\" fill=\"none\" stroke=\"black\"/>\n",
       "<polygon fill=\"black\" points=\"111,-119.529 107.5,-109.529 104,-119.529 111,-119.529\" stroke=\"black\"/>\n",
       "</g>\n",
       "<!-- 2266814237664 -->\n",
       "<g class=\"node\" id=\"node7\"><title>2266814237664</title>\n",
       "<polygon fill=\"none\" points=\"55.5,-0.5 55.5,-36.5 159.5,-36.5 159.5,-0.5 55.5,-0.5\" stroke=\"black\"/>\n",
       "<text font-family=\"Times New Roman,serif\" font-size=\"14.00\" text-anchor=\"middle\" x=\"107.5\" y=\"-14.8\">dense_8: Dense</text>\n",
       "</g>\n",
       "<!-- 2266814237720&#45;&gt;2266814237664 -->\n",
       "<g class=\"edge\" id=\"edge7\"><title>2266814237720-&gt;2266814237664</title>\n",
       "<path d=\"M107.5,-73.3129C107.5,-65.2895 107.5,-55.5475 107.5,-46.5691\" fill=\"none\" stroke=\"black\"/>\n",
       "<polygon fill=\"black\" points=\"111,-46.5288 107.5,-36.5288 104,-46.5289 111,-46.5288\" stroke=\"black\"/>\n",
       "</g>\n",
       "<!-- 2266814042912 -->\n",
       "<g class=\"node\" id=\"node8\"><title>2266814042912</title>\n",
       "<polygon fill=\"none\" points=\"55.5,-511.5 55.5,-547.5 159.5,-547.5 159.5,-511.5 55.5,-511.5\" stroke=\"black\"/>\n",
       "<text font-family=\"Times New Roman,serif\" font-size=\"14.00\" text-anchor=\"middle\" x=\"107.5\" y=\"-525.8\">2266814042912</text>\n",
       "</g>\n",
       "<!-- 2266814042912&#45;&gt;2266813764888 -->\n",
       "<g class=\"edge\" id=\"edge1\"><title>2266814042912-&gt;2266813764888</title>\n",
       "<path d=\"M107.5,-511.313C107.5,-503.289 107.5,-493.547 107.5,-484.569\" fill=\"none\" stroke=\"black\"/>\n",
       "<polygon fill=\"black\" points=\"111,-484.529 107.5,-474.529 104,-484.529 111,-484.529\" stroke=\"black\"/>\n",
       "</g>\n",
       "</g>\n",
       "</svg>"
      ],
      "text/plain": [
       "<IPython.core.display.SVG object>"
      ]
     },
     "execution_count": 34,
     "metadata": {},
     "output_type": "execute_result"
    }
   ],
   "source": [
    "from IPython.display import SVG\n",
    "from keras.utils.vis_utils import model_to_dot\n",
    "\n",
    "SVG(model_to_dot(model).create(prog='dot', format='svg'))"
   ]
  },
  {
   "cell_type": "markdown",
   "metadata": {
    "colab_type": "text",
    "id": "TfypWUJIlFkz"
   },
   "source": [
    "## Training CNN"
   ]
  },
  {
   "cell_type": "code",
   "execution_count": 35,
   "metadata": {
    "colab": {
     "base_uri": "https://localhost:8080/",
     "height": 931
    },
    "colab_type": "code",
    "id": "zsdmu-ggfvr1",
    "outputId": "77a52558-8ecc-4fc5-e0cb-2b86a75df4c6",
    "scrolled": false
   },
   "outputs": [
    {
     "name": "stdout",
     "output_type": "stream",
     "text": [
      "Train on 420 samples, validate on 180 samples\n",
      "Epoch 1/100\n",
      "420/420 [==============================] - 1s 2ms/step - loss: 1.8256 - acc: 0.2452 - val_loss: 1.5055 - val_acc: 0.4333\n",
      "Epoch 2/100\n",
      "420/420 [==============================] - 0s 485us/step - loss: 1.4605 - acc: 0.4452 - val_loss: 1.2447 - val_acc: 0.6333\n",
      "Epoch 3/100\n",
      "420/420 [==============================] - 0s 558us/step - loss: 1.2472 - acc: 0.5286 - val_loss: 1.0421 - val_acc: 0.7556\n",
      "Epoch 4/100\n",
      "420/420 [==============================] - 0s 490us/step - loss: 1.0624 - acc: 0.6214 - val_loss: 0.8645 - val_acc: 0.7444\n",
      "Epoch 5/100\n",
      "420/420 [==============================] - 0s 470us/step - loss: 0.9311 - acc: 0.6452 - val_loss: 0.7527 - val_acc: 0.7389\n",
      "Epoch 6/100\n",
      "420/420 [==============================] - 0s 499us/step - loss: 0.8282 - acc: 0.6786 - val_loss: 0.6354 - val_acc: 0.8333\n",
      "Epoch 7/100\n",
      "420/420 [==============================] - 0s 476us/step - loss: 0.7680 - acc: 0.6929 - val_loss: 0.5708 - val_acc: 0.8333\n",
      "Epoch 8/100\n",
      "420/420 [==============================] - 0s 585us/step - loss: 0.6849 - acc: 0.7429 - val_loss: 0.5244 - val_acc: 0.8444\n",
      "Epoch 9/100\n",
      "420/420 [==============================] - 0s 495us/step - loss: 0.6094 - acc: 0.7738 - val_loss: 0.4709 - val_acc: 0.8667\n",
      "Epoch 10/100\n",
      "420/420 [==============================] - 0s 465us/step - loss: 0.5535 - acc: 0.7881 - val_loss: 0.4295 - val_acc: 0.8556\n",
      "Epoch 11/100\n",
      "420/420 [==============================] - 0s 446us/step - loss: 0.5513 - acc: 0.7905 - val_loss: 0.3825 - val_acc: 0.8944\n",
      "Epoch 12/100\n",
      "420/420 [==============================] - 0s 534us/step - loss: 0.4812 - acc: 0.8167 - val_loss: 0.3531 - val_acc: 0.9000\n",
      "Epoch 13/100\n",
      "420/420 [==============================] - 0s 566us/step - loss: 0.4425 - acc: 0.8310 - val_loss: 0.3391 - val_acc: 0.8833\n",
      "Epoch 14/100\n",
      "420/420 [==============================] - 0s 572us/step - loss: 0.4804 - acc: 0.8214 - val_loss: 0.3284 - val_acc: 0.9056\n",
      "Epoch 15/100\n",
      "420/420 [==============================] - 0s 581us/step - loss: 0.4132 - acc: 0.8381 - val_loss: 0.2927 - val_acc: 0.9111\n",
      "Epoch 16/100\n",
      "420/420 [==============================] - 0s 516us/step - loss: 0.3837 - acc: 0.8571 - val_loss: 0.3435 - val_acc: 0.8667\n",
      "Epoch 17/100\n",
      "420/420 [==============================] - 0s 505us/step - loss: 0.3967 - acc: 0.8548 - val_loss: 0.2667 - val_acc: 0.9222\n",
      "Epoch 18/100\n",
      "420/420 [==============================] - 0s 439us/step - loss: 0.4194 - acc: 0.8524 - val_loss: 0.2535 - val_acc: 0.9278\n",
      "Epoch 19/100\n",
      "420/420 [==============================] - 0s 461us/step - loss: 0.3150 - acc: 0.8786 - val_loss: 0.2535 - val_acc: 0.9167\n",
      "Epoch 20/100\n",
      "420/420 [==============================] - 0s 570us/step - loss: 0.3411 - acc: 0.8786 - val_loss: 0.2580 - val_acc: 0.9278\n",
      "Epoch 21/100\n",
      "420/420 [==============================] - 0s 551us/step - loss: 0.2834 - acc: 0.8810 - val_loss: 0.2117 - val_acc: 0.9389\n",
      "Epoch 22/100\n",
      "420/420 [==============================] - 0s 559us/step - loss: 0.2569 - acc: 0.9167 - val_loss: 0.2387 - val_acc: 0.9167\n",
      "Epoch 23/100\n",
      "420/420 [==============================] - 0s 554us/step - loss: 0.2864 - acc: 0.8976 - val_loss: 0.1924 - val_acc: 0.9389\n",
      "Epoch 24/100\n",
      "420/420 [==============================] - 0s 565us/step - loss: 0.2729 - acc: 0.8857 - val_loss: 0.1923 - val_acc: 0.9278\n",
      "Epoch 25/100\n",
      "420/420 [==============================] - 0s 656us/step - loss: 0.2655 - acc: 0.8976 - val_loss: 0.1890 - val_acc: 0.9333\n",
      "Epoch 26/100\n",
      "420/420 [==============================] - 0s 555us/step - loss: 0.2412 - acc: 0.9143 - val_loss: 0.1669 - val_acc: 0.9444\n",
      "Epoch 27/100\n",
      "420/420 [==============================] - 0s 601us/step - loss: 0.2491 - acc: 0.8905 - val_loss: 0.1744 - val_acc: 0.9333\n",
      "Epoch 28/100\n",
      "420/420 [==============================] - 0s 579us/step - loss: 0.2837 - acc: 0.8857 - val_loss: 0.1732 - val_acc: 0.9444\n",
      "Epoch 29/100\n",
      "420/420 [==============================] - 0s 589us/step - loss: 0.2416 - acc: 0.9024 - val_loss: 0.1556 - val_acc: 0.9500\n",
      "Epoch 30/100\n",
      "420/420 [==============================] - 0s 624us/step - loss: 0.2239 - acc: 0.9167 - val_loss: 0.1536 - val_acc: 0.9333\n",
      "Epoch 31/100\n",
      "420/420 [==============================] - 0s 561us/step - loss: 0.2302 - acc: 0.9000 - val_loss: 0.2197 - val_acc: 0.9056\n",
      "Epoch 32/100\n",
      "420/420 [==============================] - 0s 560us/step - loss: 0.2094 - acc: 0.9095 - val_loss: 0.1386 - val_acc: 0.9500\n",
      "Epoch 33/100\n",
      "420/420 [==============================] - 0s 529us/step - loss: 0.2260 - acc: 0.9190 - val_loss: 0.1367 - val_acc: 0.9500\n",
      "Epoch 34/100\n",
      "420/420 [==============================] - 0s 564us/step - loss: 0.1674 - acc: 0.9333 - val_loss: 0.1692 - val_acc: 0.9444\n",
      "Epoch 35/100\n",
      "420/420 [==============================] - 0s 557us/step - loss: 0.1875 - acc: 0.9214 - val_loss: 0.1298 - val_acc: 0.9500\n",
      "Epoch 36/100\n",
      "420/420 [==============================] - 0s 547us/step - loss: 0.2014 - acc: 0.9095 - val_loss: 0.1445 - val_acc: 0.9500\n",
      "Epoch 37/100\n",
      "420/420 [==============================] - 0s 554us/step - loss: 0.1512 - acc: 0.9500 - val_loss: 0.1272 - val_acc: 0.9500\n",
      "Epoch 38/100\n",
      "420/420 [==============================] - 0s 554us/step - loss: 0.1597 - acc: 0.9405 - val_loss: 0.1203 - val_acc: 0.9611\n",
      "Epoch 39/100\n",
      "420/420 [==============================] - 0s 528us/step - loss: 0.1645 - acc: 0.9357 - val_loss: 0.1144 - val_acc: 0.9667\n",
      "Epoch 40/100\n",
      "420/420 [==============================] - 0s 535us/step - loss: 0.1493 - acc: 0.9429 - val_loss: 0.1191 - val_acc: 0.9611\n",
      "Epoch 41/100\n",
      "420/420 [==============================] - 0s 545us/step - loss: 0.1710 - acc: 0.9214 - val_loss: 0.1591 - val_acc: 0.9444\n",
      "Epoch 42/100\n",
      "420/420 [==============================] - 0s 525us/step - loss: 0.1690 - acc: 0.9286 - val_loss: 0.1254 - val_acc: 0.9500\n",
      "Epoch 43/100\n",
      "420/420 [==============================] - 0s 562us/step - loss: 0.1494 - acc: 0.9405 - val_loss: 0.1108 - val_acc: 0.9556\n",
      "Epoch 44/100\n",
      "420/420 [==============================] - 0s 515us/step - loss: 0.1465 - acc: 0.9452 - val_loss: 0.1119 - val_acc: 0.9611\n",
      "Epoch 45/100\n",
      "420/420 [==============================] - 0s 545us/step - loss: 0.1482 - acc: 0.9405 - val_loss: 0.1166 - val_acc: 0.9611\n",
      "Epoch 46/100\n",
      "420/420 [==============================] - 0s 496us/step - loss: 0.1612 - acc: 0.9214 - val_loss: 0.1056 - val_acc: 0.9556\n",
      "Epoch 47/100\n",
      "420/420 [==============================] - 0s 534us/step - loss: 0.1267 - acc: 0.9500 - val_loss: 0.0975 - val_acc: 0.9611\n",
      "Epoch 48/100\n",
      "420/420 [==============================] - 0s 512us/step - loss: 0.1449 - acc: 0.9476 - val_loss: 0.1009 - val_acc: 0.9667\n",
      "Epoch 49/100\n",
      "420/420 [==============================] - 0s 566us/step - loss: 0.1374 - acc: 0.9571 - val_loss: 0.1214 - val_acc: 0.9611\n",
      "Epoch 50/100\n",
      "420/420 [==============================] - 0s 585us/step - loss: 0.1382 - acc: 0.9476 - val_loss: 0.1120 - val_acc: 0.9556\n",
      "Epoch 51/100\n",
      "420/420 [==============================] - 0s 493us/step - loss: 0.1503 - acc: 0.9476 - val_loss: 0.1019 - val_acc: 0.9667\n",
      "Epoch 52/100\n",
      "420/420 [==============================] - 0s 513us/step - loss: 0.1263 - acc: 0.9524 - val_loss: 0.0979 - val_acc: 0.9611\n",
      "Epoch 53/100\n",
      "420/420 [==============================] - 0s 523us/step - loss: 0.1180 - acc: 0.9571 - val_loss: 0.0982 - val_acc: 0.9667\n",
      "Epoch 54/100\n",
      "420/420 [==============================] - 0s 514us/step - loss: 0.1371 - acc: 0.9452 - val_loss: 0.0988 - val_acc: 0.9722\n",
      "Epoch 55/100\n",
      "420/420 [==============================] - 0s 511us/step - loss: 0.1018 - acc: 0.9690 - val_loss: 0.0959 - val_acc: 0.9611\n",
      "Epoch 56/100\n",
      "420/420 [==============================] - 0s 587us/step - loss: 0.1377 - acc: 0.9476 - val_loss: 0.0905 - val_acc: 0.9722\n",
      "Epoch 57/100\n",
      "420/420 [==============================] - 0s 509us/step - loss: 0.1033 - acc: 0.9690 - val_loss: 0.0810 - val_acc: 0.9722\n",
      "Epoch 58/100\n",
      "420/420 [==============================] - 0s 548us/step - loss: 0.0915 - acc: 0.9667 - val_loss: 0.0859 - val_acc: 0.9667\n",
      "Epoch 59/100\n",
      "420/420 [==============================] - 0s 524us/step - loss: 0.1083 - acc: 0.9595 - val_loss: 0.0802 - val_acc: 0.9667\n",
      "Epoch 60/100\n",
      "420/420 [==============================] - 0s 532us/step - loss: 0.1018 - acc: 0.9571 - val_loss: 0.0807 - val_acc: 0.9778\n"
     ]
    },
    {
     "name": "stdout",
     "output_type": "stream",
     "text": [
      "Epoch 61/100\n",
      "420/420 [==============================] - 0s 562us/step - loss: 0.1163 - acc: 0.9595 - val_loss: 0.0743 - val_acc: 0.9667\n",
      "Epoch 62/100\n",
      "420/420 [==============================] - 0s 562us/step - loss: 0.1109 - acc: 0.9548 - val_loss: 0.0797 - val_acc: 0.9778\n",
      "Epoch 63/100\n",
      "420/420 [==============================] - 0s 552us/step - loss: 0.0911 - acc: 0.9738 - val_loss: 0.0919 - val_acc: 0.9722\n",
      "Epoch 64/100\n",
      "420/420 [==============================] - 0s 569us/step - loss: 0.0938 - acc: 0.9643 - val_loss: 0.0842 - val_acc: 0.9667\n",
      "Epoch 65/100\n",
      "420/420 [==============================] - 0s 626us/step - loss: 0.1330 - acc: 0.9429 - val_loss: 0.0810 - val_acc: 0.9722\n",
      "Epoch 66/100\n",
      "420/420 [==============================] - 0s 618us/step - loss: 0.0882 - acc: 0.9667 - val_loss: 0.0678 - val_acc: 0.9667\n",
      "Epoch 67/100\n",
      "420/420 [==============================] - 0s 580us/step - loss: 0.1017 - acc: 0.9595 - val_loss: 0.0819 - val_acc: 0.9611\n",
      "Epoch 68/100\n",
      "420/420 [==============================] - 0s 573us/step - loss: 0.0926 - acc: 0.9714 - val_loss: 0.0659 - val_acc: 0.9611\n",
      "Epoch 69/100\n",
      "420/420 [==============================] - 0s 558us/step - loss: 0.0982 - acc: 0.9619 - val_loss: 0.0723 - val_acc: 0.9556\n",
      "Epoch 70/100\n",
      "420/420 [==============================] - 0s 550us/step - loss: 0.0803 - acc: 0.9762 - val_loss: 0.0711 - val_acc: 0.9778\n",
      "Epoch 71/100\n",
      "420/420 [==============================] - 0s 573us/step - loss: 0.0883 - acc: 0.9667 - val_loss: 0.0841 - val_acc: 0.9611\n",
      "Epoch 72/100\n",
      "420/420 [==============================] - 0s 562us/step - loss: 0.0907 - acc: 0.9643 - val_loss: 0.0691 - val_acc: 0.9722\n",
      "Epoch 73/100\n",
      "420/420 [==============================] - 0s 572us/step - loss: 0.0836 - acc: 0.9643 - val_loss: 0.0959 - val_acc: 0.9556\n",
      "Epoch 74/100\n",
      "420/420 [==============================] - 0s 548us/step - loss: 0.0996 - acc: 0.9595 - val_loss: 0.0665 - val_acc: 0.9778\n",
      "Epoch 75/100\n",
      "420/420 [==============================] - 0s 643us/step - loss: 0.0848 - acc: 0.9738 - val_loss: 0.0682 - val_acc: 0.9667\n",
      "Epoch 76/100\n",
      "420/420 [==============================] - 0s 580us/step - loss: 0.0725 - acc: 0.9667 - val_loss: 0.0645 - val_acc: 0.9833\n",
      "Epoch 77/100\n",
      "420/420 [==============================] - 0s 522us/step - loss: 0.0892 - acc: 0.9595 - val_loss: 0.0747 - val_acc: 0.9722\n",
      "Epoch 78/100\n",
      "420/420 [==============================] - 0s 562us/step - loss: 0.0680 - acc: 0.9762 - val_loss: 0.0788 - val_acc: 0.9833\n",
      "Epoch 79/100\n",
      "420/420 [==============================] - 0s 547us/step - loss: 0.0787 - acc: 0.9690 - val_loss: 0.0644 - val_acc: 0.9778\n",
      "Epoch 80/100\n",
      "420/420 [==============================] - 0s 553us/step - loss: 0.0698 - acc: 0.9690 - val_loss: 0.0620 - val_acc: 0.9833\n",
      "Epoch 81/100\n",
      "420/420 [==============================] - 0s 541us/step - loss: 0.0827 - acc: 0.9714 - val_loss: 0.0618 - val_acc: 0.9889\n",
      "Epoch 82/100\n",
      "420/420 [==============================] - 0s 568us/step - loss: 0.0994 - acc: 0.9619 - val_loss: 0.0664 - val_acc: 0.9889\n",
      "Epoch 83/100\n",
      "420/420 [==============================] - 0s 556us/step - loss: 0.0738 - acc: 0.9738 - val_loss: 0.0749 - val_acc: 0.9722\n",
      "Epoch 84/100\n",
      "420/420 [==============================] - 0s 602us/step - loss: 0.0542 - acc: 0.9857 - val_loss: 0.0722 - val_acc: 0.9778\n",
      "Epoch 85/100\n",
      "420/420 [==============================] - 0s 535us/step - loss: 0.0686 - acc: 0.9738 - val_loss: 0.0596 - val_acc: 0.9833\n",
      "Epoch 86/100\n",
      "420/420 [==============================] - 0s 538us/step - loss: 0.0793 - acc: 0.9738 - val_loss: 0.0892 - val_acc: 0.9667\n",
      "Epoch 87/100\n",
      "420/420 [==============================] - 0s 523us/step - loss: 0.0777 - acc: 0.9714 - val_loss: 0.0622 - val_acc: 0.9833\n",
      "Epoch 88/100\n",
      "420/420 [==============================] - 0s 558us/step - loss: 0.0640 - acc: 0.9762 - val_loss: 0.0716 - val_acc: 0.9722\n",
      "Epoch 89/100\n",
      "420/420 [==============================] - 0s 555us/step - loss: 0.0515 - acc: 0.9857 - val_loss: 0.0683 - val_acc: 0.9667\n",
      "Epoch 90/100\n",
      "420/420 [==============================] - 0s 560us/step - loss: 0.0650 - acc: 0.9714 - val_loss: 0.0606 - val_acc: 0.9889\n",
      "Epoch 91/100\n",
      "420/420 [==============================] - 0s 586us/step - loss: 0.0695 - acc: 0.9810 - val_loss: 0.0602 - val_acc: 0.9722\n",
      "Epoch 92/100\n",
      "420/420 [==============================] - 0s 569us/step - loss: 0.0710 - acc: 0.9738 - val_loss: 0.0962 - val_acc: 0.9611\n",
      "Epoch 93/100\n",
      "420/420 [==============================] - 0s 537us/step - loss: 0.0749 - acc: 0.9643 - val_loss: 0.0661 - val_acc: 0.9611\n",
      "Epoch 94/100\n",
      "420/420 [==============================] - 0s 531us/step - loss: 0.0533 - acc: 0.9857 - val_loss: 0.0629 - val_acc: 0.9778\n",
      "Epoch 95/100\n",
      "420/420 [==============================] - 0s 531us/step - loss: 0.0588 - acc: 0.9762 - val_loss: 0.0548 - val_acc: 0.9833\n",
      "Epoch 96/100\n",
      "420/420 [==============================] - 0s 558us/step - loss: 0.0641 - acc: 0.9714 - val_loss: 0.0584 - val_acc: 0.9833\n",
      "Epoch 97/100\n",
      "420/420 [==============================] - 0s 535us/step - loss: 0.0574 - acc: 0.9786 - val_loss: 0.0620 - val_acc: 0.9667\n",
      "Epoch 98/100\n",
      "420/420 [==============================] - 0s 609us/step - loss: 0.0583 - acc: 0.9786 - val_loss: 0.0559 - val_acc: 0.9778\n",
      "Epoch 99/100\n",
      "420/420 [==============================] - 0s 638us/step - loss: 0.0454 - acc: 0.9833 - val_loss: 0.0498 - val_acc: 0.9833\n",
      "Epoch 100/100\n",
      "420/420 [==============================] - 0s 536us/step - loss: 0.0625 - acc: 0.9714 - val_loss: 0.0521 - val_acc: 0.9667\n"
     ]
    }
   ],
   "source": [
    "EPOCHS = 100\n",
    "history = model.fit(train_data, train_labels, epochs=EPOCHS, validation_data=(test_data, test_labels))"
   ]
  },
  {
   "cell_type": "code",
   "execution_count": 36,
   "metadata": {},
   "outputs": [
    {
     "data": {
      "image/png": "[encoded data removed]",
      "text/plain": [
       "<matplotlib.figure.Figure at 0x20fcacc9cc0>"
      ]
     },
     "metadata": {},
     "output_type": "display_data"
    },
    {
     "data": {
      "image/png": "[encoded data removed]",
      "text/plain": [
       "<matplotlib.figure.Figure at 0x20fcacc9d68>"
      ]
     },
     "metadata": {},
     "output_type": "display_data"
    }
   ],
   "source": [
    "%run history.py\n",
    "%matplotlib inline\n",
    "\n",
    "plot_accuracy(history)\n",
    "plot_loss(history)"
   ]
  },
  {
   "cell_type": "markdown",
   "metadata": {},
   "source": [
    "## Save the model"
   ]
  },
  {
   "cell_type": "code",
   "execution_count": 37,
   "metadata": {},
   "outputs": [],
   "source": [
    "import datetime\n",
    "\n",
    "dt = datetime.datetime.today().strftime('%Y%m%d%H%M%S')\n",
    "filename = DATASET_FOLDER + '/cnn_mfcc_for_aed_{}.h5'.format(dt)\n",
    "model.save(filename)"
   ]
  },
  {
   "cell_type": "markdown",
   "metadata": {},
   "source": [
    "## Load the model"
   ]
  },
  {
   "cell_type": "code",
   "execution_count": 38,
   "metadata": {},
   "outputs": [],
   "source": [
    "del model\n",
    "model = models.load_model(filename)"
   ]
  },
  {
   "cell_type": "markdown",
   "metadata": {
    "colab_type": "text",
    "id": "j6con4C3lKC1"
   },
   "source": [
    "## Confirmation"
   ]
  },
  {
   "cell_type": "code",
   "execution_count": 39,
   "metadata": {
    "colab": {
     "base_uri": "https://localhost:8080/",
     "height": 34
    },
    "colab_type": "code",
    "id": "4oZYLLij69wU",
    "outputId": "b37a4b8a-2c80-411f-d8a9-5df1c6dbfe22"
   },
   "outputs": [],
   "source": [
    "import numpy as np\n",
    "import matplotlib.pyplot as plt"
   ]
  },
  {
   "cell_type": "code",
   "execution_count": 40,
   "metadata": {
    "colab": {
     "base_uri": "https://localhost:8080/",
     "height": 193
    },
    "colab_type": "code",
    "id": "zSxXE9FgRBdJ",
    "outputId": "f3a53efe-e99f-4572-f9b4-1bf3c39c77ec"
   },
   "outputs": [],
   "source": [
    "layer_outputs = [layer.output for layer in model.layers]\n",
    "#layer_outputs"
   ]
  },
  {
   "cell_type": "code",
   "execution_count": 41,
   "metadata": {
    "colab": {
     "base_uri": "https://localhost:8080/",
     "height": 34
    },
    "colab_type": "code",
    "id": "dcw7yHKrRkPD",
    "outputId": "a3ed5441-ae48-4635-bf07-ac5060030608"
   },
   "outputs": [],
   "source": [
    "activation_model = models.Model(inputs=model.input, outputs=layer_outputs)\n",
    "activations = activation_model.predict(test_data)\n",
    "#activations[0][0,:,:,0].shape"
   ]
  },
  {
   "cell_type": "code",
   "execution_count": 42,
   "metadata": {},
   "outputs": [
    {
     "data": {
      "text/plain": [
       "['train', 'station', 'cafe', 'mall', 'port', 'street']"
      ]
     },
     "execution_count": 42,
     "metadata": {},
     "output_type": "execute_result"
    }
   ],
   "source": [
    "class_labels"
   ]
  },
  {
   "cell_type": "code",
   "execution_count": 43,
   "metadata": {
    "colab": {
     "base_uri": "https://localhost:8080/",
     "height": 193
    },
    "colab_type": "code",
    "id": "ccSNAwGKhRn9",
    "outputId": "0ad22e12-713b-4b07-e17b-45d39ff1b80b"
   },
   "outputs": [
    {
     "data": {
      "text/plain": [
       "array([[  0,   0,   0, 100,   0,   0],\n",
       "       [ 99,   0,   0,   0,   0,   0],\n",
       "       [  0,   5,  83,  11,   0,   0],\n",
       "       [  0,   0, 100,   0,   0,   0],\n",
       "       [  1,  98,   0,   0,   0,   0],\n",
       "       [  0,   0,   0,  99,   0,   0],\n",
       "       [  0,  99,   0,   0,   0,   0],\n",
       "       [ 97,   2,   0,   0,   0,   0],\n",
       "       [  0,   0,   0,   0,   0,  99],\n",
       "       [ 96,   0,   0,   0,   0,   3]])"
      ]
     },
     "execution_count": 43,
     "metadata": {},
     "output_type": "execute_result"
    }
   ],
   "source": [
    "(activations[-1][:10]*100).astype(int)"
   ]
  },
  {
   "cell_type": "code",
   "execution_count": 44,
   "metadata": {
    "colab": {
     "base_uri": "https://localhost:8080/",
     "height": 193
    },
    "colab_type": "code",
    "id": "RoE0nxtuiGIN",
    "outputId": "154437a8-ab72-46f4-f42c-3e6464af47d0",
    "scrolled": true
   },
   "outputs": [
    {
     "data": {
      "text/plain": [
       "array([[0, 0, 0, 1, 0, 0],\n",
       "       [1, 0, 0, 0, 0, 0],\n",
       "       [0, 0, 1, 0, 0, 0],\n",
       "       [0, 0, 1, 0, 0, 0],\n",
       "       [0, 1, 0, 0, 0, 0],\n",
       "       [0, 0, 0, 1, 0, 0],\n",
       "       [0, 1, 0, 0, 0, 0],\n",
       "       [1, 0, 0, 0, 0, 0],\n",
       "       [0, 0, 0, 0, 0, 1],\n",
       "       [1, 0, 0, 0, 0, 0]])"
      ]
     },
     "execution_count": 44,
     "metadata": {},
     "output_type": "execute_result"
    }
   ],
   "source": [
    "test_labels[:10].astype(int)"
   ]
  },
  {
   "cell_type": "code",
   "execution_count": null,
   "metadata": {},
   "outputs": [],
   "source": []
  }
 ],
 "metadata": {
  "colab": {
   "collapsed_sections": [],
   "name": "CNN for AED",
   "provenance": [],
   "version": "0.3.2"
  },
  "kernelspec": {
   "display_name": "Python 3",
   "language": "python",
   "name": "python3"
  },
  "language_info": {
   "codemirror_mode": {
    "name": "ipython",
    "version": 3
   },
   "file_extension": ".py",
   "mimetype": "text/x-python",
   "name": "python",
   "nbconvert_exporter": "python",
   "pygments_lexer": "ipython3",
   "version": "3.6.4"
  }
 },
 "nbformat": 4,
 "nbformat_minor": 1
}
