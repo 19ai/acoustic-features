{
 "cells": [
  {
   "cell_type": "markdown",
   "metadata": {
    "colab_type": "text",
    "id": "0X16cagQE-Y-"
   },
   "source": [
    "# CNN for acoustic scene classfication: my life environment\n",
    "\n",
    "Date: March 1, 2019\n",
    "\n",
    "Neural network: input MFSCs to CNN"
   ]
  },
  {
   "cell_type": "markdown",
   "metadata": {
    "colab_type": "text",
    "id": "WwQ-dEltkl5Q"
   },
   "source": [
    "## Preparing data set for CNN"
   ]
  },
  {
   "cell_type": "code",
   "execution_count": 46,
   "metadata": {
    "colab": {
     "base_uri": "https://localhost:8080/",
     "height": 34
    },
    "colab_type": "code",
    "id": "VEJyQsGpV3ug",
    "outputId": "3929aa39-3383-4791-e065-3622e6781181"
   },
   "outputs": [
    {
     "data": {
      "text/plain": [
       "<matplotlib.figure.Figure at 0x188ec4c60f0>"
      ]
     },
     "metadata": {},
     "output_type": "display_data"
    }
   ],
   "source": [
    "DATASET_FOLDER = '../dataset/data_environment'\n",
    "\n",
    "%run ../oscilloscope/script/dataset.py\n",
    "\n",
    "ds = DataSet(DATASET_FOLDER)\n",
    "train_data, train_labels, test_data, test_labels = ds.generate(flatten=False)\n",
    "shape = ds.shape\n",
    "class_labels = ds.class_labels"
   ]
  },
  {
   "cell_type": "code",
   "execution_count": 47,
   "metadata": {},
   "outputs": [
    {
     "data": {
      "text/plain": [
       "((490, 96, 40, 1), (210, 96, 40, 1))"
      ]
     },
     "execution_count": 47,
     "metadata": {},
     "output_type": "execute_result"
    },
    {
     "data": {
      "image/png": "[encoded data removed]",
      "text/plain": [
       "<matplotlib.figure.Figure at 0x188ec4c6198>"
      ]
     },
     "metadata": {},
     "output_type": "display_data"
    }
   ],
   "source": [
    "import matplotlib.pyplot as plt\n",
    "%matplotlib inline\n",
    "\n",
    "plt.imshow(np.rot90(train_data[0].reshape(ds.shape)))\n",
    "train_data.shape, test_data.shape"
   ]
  },
  {
   "cell_type": "markdown",
   "metadata": {
    "colab_type": "text",
    "id": "VfUmgxxVk6uM"
   },
   "source": [
    "### CNN model"
   ]
  },
  {
   "cell_type": "code",
   "execution_count": 54,
   "metadata": {
    "colab": {
     "base_uri": "https://localhost:8080/",
     "height": 509
    },
    "colab_type": "code",
    "id": "B2Xg6tGLdMKP",
    "outputId": "ae3daa32-9dbf-4d8b-9a11-7f596dd2e4a6"
   },
   "outputs": [
    {
     "name": "stdout",
     "output_type": "stream",
     "text": [
      "_________________________________________________________________\n",
      "Layer (type)                 Output Shape              Param #   \n",
      "=================================================================\n",
      "conv2d_26 (Conv2D)           (None, 94, 38, 4)         40        \n",
      "_________________________________________________________________\n",
      "max_pooling2d_25 (MaxPooling (None, 47, 19, 4)         0         \n",
      "_________________________________________________________________\n",
      "conv2d_27 (Conv2D)           (None, 45, 17, 8)         296       \n",
      "_________________________________________________________________\n",
      "max_pooling2d_26 (MaxPooling (None, 22, 8, 8)          0         \n",
      "_________________________________________________________________\n",
      "conv2d_28 (Conv2D)           (None, 20, 6, 16)         1168      \n",
      "_________________________________________________________________\n",
      "max_pooling2d_27 (MaxPooling (None, 10, 3, 16)         0         \n",
      "_________________________________________________________________\n",
      "flatten_9 (Flatten)          (None, 480)               0         \n",
      "_________________________________________________________________\n",
      "dropout_9 (Dropout)          (None, 480)               0         \n",
      "_________________________________________________________________\n",
      "dense_9 (Dense)              (None, 7)                 3367      \n",
      "=================================================================\n",
      "Total params: 4,871\n",
      "Trainable params: 4,871\n",
      "Non-trainable params: 0\n",
      "_________________________________________________________________\n"
     ]
    }
   ],
   "source": [
    "from keras import layers\n",
    "from keras import models\n",
    "\n",
    "model = models.Sequential()\n",
    "\n",
    "model.add(layers.Conv2D(4, (3, 3), activation='relu', input_shape=(*shape, 1)))\n",
    "model.add(layers.MaxPooling2D((2,2)))\n",
    "\n",
    "model.add(layers.Conv2D(8, (3, 3), activation='relu'))\n",
    "model.add(layers.MaxPooling2D((2,2)))\n",
    "\n",
    "model.add(layers.Conv2D(16, (3, 3), activation='relu'))\n",
    "model.add(layers.MaxPooling2D((2,2)))\n",
    "\n",
    "model.add(layers.Flatten())\n",
    "model.add(layers.Dropout(0.5))\n",
    "model.add(layers.Dense(len(class_labels), activation='softmax'))\n",
    "\n",
    "model.summary()"
   ]
  },
  {
   "cell_type": "code",
   "execution_count": 55,
   "metadata": {
    "colab": {},
    "colab_type": "code",
    "id": "nRr1L_4ogL6i"
   },
   "outputs": [],
   "source": [
    "model.compile(optimizer='rmsprop', loss='categorical_crossentropy', metrics=['accuracy'])"
   ]
  },
  {
   "cell_type": "code",
   "execution_count": 56,
   "metadata": {},
   "outputs": [
    {
     "data": {
      "image/svg+xml": [
       "<svg height=\"702pt\" viewBox=\"0.00 0.00 223.00 702.00\" width=\"223pt\" xmlns=\"http://www.w3.org/2000/svg\" xmlns:xlink=\"http://www.w3.org/1999/xlink\">\n",
       "<g class=\"graph\" id=\"graph0\" transform=\"scale(1 1) rotate(0) translate(4 698)\">\n",
       "<title>G</title>\n",
       "<polygon fill=\"white\" points=\"-4,4 -4,-698 219,-698 219,4 -4,4\" stroke=\"none\"/>\n",
       "<!-- 1687682254048 -->\n",
       "<g class=\"node\" id=\"node1\"><title>1687682254048</title>\n",
       "<polygon fill=\"none\" points=\"40.5,-584.5 40.5,-620.5 174.5,-620.5 174.5,-584.5 40.5,-584.5\" stroke=\"black\"/>\n",
       "<text font-family=\"Times New Roman,serif\" font-size=\"14.00\" text-anchor=\"middle\" x=\"107.5\" y=\"-598.8\">conv2d_26: Conv2D</text>\n",
       "</g>\n",
       "<!-- 1687682254496 -->\n",
       "<g class=\"node\" id=\"node2\"><title>1687682254496</title>\n",
       "<polygon fill=\"none\" points=\"0,-511.5 0,-547.5 215,-547.5 215,-511.5 0,-511.5\" stroke=\"black\"/>\n",
       "<text font-family=\"Times New Roman,serif\" font-size=\"14.00\" text-anchor=\"middle\" x=\"107.5\" y=\"-525.8\">max_pooling2d_25: MaxPooling2D</text>\n",
       "</g>\n",
       "<!-- 1687682254048&#45;&gt;1687682254496 -->\n",
       "<g class=\"edge\" id=\"edge2\"><title>1687682254048-&gt;1687682254496</title>\n",
       "<path d=\"M107.5,-584.313C107.5,-576.289 107.5,-566.547 107.5,-557.569\" fill=\"none\" stroke=\"black\"/>\n",
       "<polygon fill=\"black\" points=\"111,-557.529 107.5,-547.529 104,-557.529 111,-557.529\" stroke=\"black\"/>\n",
       "</g>\n",
       "<!-- 1687682253992 -->\n",
       "<g class=\"node\" id=\"node3\"><title>1687682253992</title>\n",
       "<polygon fill=\"none\" points=\"40.5,-438.5 40.5,-474.5 174.5,-474.5 174.5,-438.5 40.5,-438.5\" stroke=\"black\"/>\n",
       "<text font-family=\"Times New Roman,serif\" font-size=\"14.00\" text-anchor=\"middle\" x=\"107.5\" y=\"-452.8\">conv2d_27: Conv2D</text>\n",
       "</g>\n",
       "<!-- 1687682254496&#45;&gt;1687682253992 -->\n",
       "<g class=\"edge\" id=\"edge3\"><title>1687682254496-&gt;1687682253992</title>\n",
       "<path d=\"M107.5,-511.313C107.5,-503.289 107.5,-493.547 107.5,-484.569\" fill=\"none\" stroke=\"black\"/>\n",
       "<polygon fill=\"black\" points=\"111,-484.529 107.5,-474.529 104,-484.529 111,-484.529\" stroke=\"black\"/>\n",
       "</g>\n",
       "<!-- 1687682246472 -->\n",
       "<g class=\"node\" id=\"node4\"><title>1687682246472</title>\n",
       "<polygon fill=\"none\" points=\"0,-365.5 0,-401.5 215,-401.5 215,-365.5 0,-365.5\" stroke=\"black\"/>\n",
       "<text font-family=\"Times New Roman,serif\" font-size=\"14.00\" text-anchor=\"middle\" x=\"107.5\" y=\"-379.8\">max_pooling2d_26: MaxPooling2D</text>\n",
       "</g>\n",
       "<!-- 1687682253992&#45;&gt;1687682246472 -->\n",
       "<g class=\"edge\" id=\"edge4\"><title>1687682253992-&gt;1687682246472</title>\n",
       "<path d=\"M107.5,-438.313C107.5,-430.289 107.5,-420.547 107.5,-411.569\" fill=\"none\" stroke=\"black\"/>\n",
       "<polygon fill=\"black\" points=\"111,-411.529 107.5,-401.529 104,-411.529 111,-411.529\" stroke=\"black\"/>\n",
       "</g>\n",
       "<!-- 1687682256288 -->\n",
       "<g class=\"node\" id=\"node5\"><title>1687682256288</title>\n",
       "<polygon fill=\"none\" points=\"40.5,-292.5 40.5,-328.5 174.5,-328.5 174.5,-292.5 40.5,-292.5\" stroke=\"black\"/>\n",
       "<text font-family=\"Times New Roman,serif\" font-size=\"14.00\" text-anchor=\"middle\" x=\"107.5\" y=\"-306.8\">conv2d_28: Conv2D</text>\n",
       "</g>\n",
       "<!-- 1687682246472&#45;&gt;1687682256288 -->\n",
       "<g class=\"edge\" id=\"edge5\"><title>1687682246472-&gt;1687682256288</title>\n",
       "<path d=\"M107.5,-365.313C107.5,-357.289 107.5,-347.547 107.5,-338.569\" fill=\"none\" stroke=\"black\"/>\n",
       "<polygon fill=\"black\" points=\"111,-338.529 107.5,-328.529 104,-338.529 111,-338.529\" stroke=\"black\"/>\n",
       "</g>\n",
       "<!-- 1687682421984 -->\n",
       "<g class=\"node\" id=\"node6\"><title>1687682421984</title>\n",
       "<polygon fill=\"none\" points=\"0,-219.5 0,-255.5 215,-255.5 215,-219.5 0,-219.5\" stroke=\"black\"/>\n",
       "<text font-family=\"Times New Roman,serif\" font-size=\"14.00\" text-anchor=\"middle\" x=\"107.5\" y=\"-233.8\">max_pooling2d_27: MaxPooling2D</text>\n",
       "</g>\n",
       "<!-- 1687682256288&#45;&gt;1687682421984 -->\n",
       "<g class=\"edge\" id=\"edge6\"><title>1687682256288-&gt;1687682421984</title>\n",
       "<path d=\"M107.5,-292.313C107.5,-284.289 107.5,-274.547 107.5,-265.569\" fill=\"none\" stroke=\"black\"/>\n",
       "<polygon fill=\"black\" points=\"111,-265.529 107.5,-255.529 104,-265.529 111,-265.529\" stroke=\"black\"/>\n",
       "</g>\n",
       "<!-- 1687682336472 -->\n",
       "<g class=\"node\" id=\"node7\"><title>1687682336472</title>\n",
       "<polygon fill=\"none\" points=\"53,-146.5 53,-182.5 162,-182.5 162,-146.5 53,-146.5\" stroke=\"black\"/>\n",
       "<text font-family=\"Times New Roman,serif\" font-size=\"14.00\" text-anchor=\"middle\" x=\"107.5\" y=\"-160.8\">flatten_9: Flatten</text>\n",
       "</g>\n",
       "<!-- 1687682421984&#45;&gt;1687682336472 -->\n",
       "<g class=\"edge\" id=\"edge7\"><title>1687682421984-&gt;1687682336472</title>\n",
       "<path d=\"M107.5,-219.313C107.5,-211.289 107.5,-201.547 107.5,-192.569\" fill=\"none\" stroke=\"black\"/>\n",
       "<polygon fill=\"black\" points=\"111,-192.529 107.5,-182.529 104,-192.529 111,-192.529\" stroke=\"black\"/>\n",
       "</g>\n",
       "<!-- 1687682424784 -->\n",
       "<g class=\"node\" id=\"node8\"><title>1687682424784</title>\n",
       "<polygon fill=\"none\" points=\"42.5,-73.5 42.5,-109.5 172.5,-109.5 172.5,-73.5 42.5,-73.5\" stroke=\"black\"/>\n",
       "<text font-family=\"Times New Roman,serif\" font-size=\"14.00\" text-anchor=\"middle\" x=\"107.5\" y=\"-87.8\">dropout_9: Dropout</text>\n",
       "</g>\n",
       "<!-- 1687682336472&#45;&gt;1687682424784 -->\n",
       "<g class=\"edge\" id=\"edge8\"><title>1687682336472-&gt;1687682424784</title>\n",
       "<path d=\"M107.5,-146.313C107.5,-138.289 107.5,-128.547 107.5,-119.569\" fill=\"none\" stroke=\"black\"/>\n",
       "<polygon fill=\"black\" points=\"111,-119.529 107.5,-109.529 104,-119.529 111,-119.529\" stroke=\"black\"/>\n",
       "</g>\n",
       "<!-- 1687682500816 -->\n",
       "<g class=\"node\" id=\"node9\"><title>1687682500816</title>\n",
       "<polygon fill=\"none\" points=\"55.5,-0.5 55.5,-36.5 159.5,-36.5 159.5,-0.5 55.5,-0.5\" stroke=\"black\"/>\n",
       "<text font-family=\"Times New Roman,serif\" font-size=\"14.00\" text-anchor=\"middle\" x=\"107.5\" y=\"-14.8\">dense_9: Dense</text>\n",
       "</g>\n",
       "<!-- 1687682424784&#45;&gt;1687682500816 -->\n",
       "<g class=\"edge\" id=\"edge9\"><title>1687682424784-&gt;1687682500816</title>\n",
       "<path d=\"M107.5,-73.3129C107.5,-65.2895 107.5,-55.5475 107.5,-46.5691\" fill=\"none\" stroke=\"black\"/>\n",
       "<polygon fill=\"black\" points=\"111,-46.5288 107.5,-36.5288 104,-46.5289 111,-46.5288\" stroke=\"black\"/>\n",
       "</g>\n",
       "<!-- 1687682254440 -->\n",
       "<g class=\"node\" id=\"node10\"><title>1687682254440</title>\n",
       "<polygon fill=\"none\" points=\"55.5,-657.5 55.5,-693.5 159.5,-693.5 159.5,-657.5 55.5,-657.5\" stroke=\"black\"/>\n",
       "<text font-family=\"Times New Roman,serif\" font-size=\"14.00\" text-anchor=\"middle\" x=\"107.5\" y=\"-671.8\">1687682254440</text>\n",
       "</g>\n",
       "<!-- 1687682254440&#45;&gt;1687682254048 -->\n",
       "<g class=\"edge\" id=\"edge1\"><title>1687682254440-&gt;1687682254048</title>\n",
       "<path d=\"M107.5,-657.313C107.5,-649.289 107.5,-639.547 107.5,-630.569\" fill=\"none\" stroke=\"black\"/>\n",
       "<polygon fill=\"black\" points=\"111,-630.529 107.5,-620.529 104,-630.529 111,-630.529\" stroke=\"black\"/>\n",
       "</g>\n",
       "</g>\n",
       "</svg>"
      ],
      "text/plain": [
       "<IPython.core.display.SVG object>"
      ]
     },
     "execution_count": 56,
     "metadata": {},
     "output_type": "execute_result"
    }
   ],
   "source": [
    "from IPython.display import SVG\n",
    "from keras.utils.vis_utils import model_to_dot\n",
    "\n",
    "SVG(model_to_dot(model).create(prog='dot', format='svg'))"
   ]
  },
  {
   "cell_type": "markdown",
   "metadata": {
    "colab_type": "text",
    "id": "TfypWUJIlFkz"
   },
   "source": [
    "## Training CNN"
   ]
  },
  {
   "cell_type": "code",
   "execution_count": 57,
   "metadata": {
    "colab": {
     "base_uri": "https://localhost:8080/",
     "height": 931
    },
    "colab_type": "code",
    "id": "zsdmu-ggfvr1",
    "outputId": "77a52558-8ecc-4fc5-e0cb-2b86a75df4c6",
    "scrolled": false
   },
   "outputs": [
    {
     "name": "stdout",
     "output_type": "stream",
     "text": [
      "Train on 490 samples, validate on 210 samples\n",
      "Epoch 1/50\n",
      "490/490 [==============================] - 25s 51ms/step - loss: 1.9522 - acc: 0.2224 - val_loss: 1.7570 - val_acc: 0.4095\n",
      "Epoch 2/50\n",
      "490/490 [==============================] - 23s 46ms/step - loss: 1.6164 - acc: 0.4061 - val_loss: 1.3392 - val_acc: 0.6048\n",
      "Epoch 3/50\n",
      "490/490 [==============================] - 21s 43ms/step - loss: 1.2512 - acc: 0.5286 - val_loss: 1.0500 - val_acc: 0.6143\n",
      "Epoch 4/50\n",
      "490/490 [==============================] - 21s 43ms/step - loss: 1.0138 - acc: 0.6469 - val_loss: 0.8345 - val_acc: 0.6667\n",
      "Epoch 5/50\n",
      "490/490 [==============================] - 25s 50ms/step - loss: 0.8441 - acc: 0.6776 - val_loss: 0.7335 - val_acc: 0.7048\n",
      "Epoch 6/50\n",
      "490/490 [==============================] - 20s 42ms/step - loss: 0.8108 - acc: 0.6878 - val_loss: 0.6112 - val_acc: 0.7667\n",
      "Epoch 7/50\n",
      "490/490 [==============================] - 22s 45ms/step - loss: 0.7193 - acc: 0.7204 - val_loss: 0.5777 - val_acc: 0.7857\n",
      "Epoch 8/50\n",
      "490/490 [==============================] - 24s 49ms/step - loss: 0.6669 - acc: 0.7204 - val_loss: 0.5491 - val_acc: 0.7952\n",
      "Epoch 9/50\n",
      "490/490 [==============================] - 23s 48ms/step - loss: 0.6145 - acc: 0.7571 - val_loss: 0.4877 - val_acc: 0.8381\n",
      "Epoch 10/50\n",
      "490/490 [==============================] - 23s 46ms/step - loss: 0.5449 - acc: 0.8000 - val_loss: 0.4472 - val_acc: 0.8381\n",
      "Epoch 11/50\n",
      "490/490 [==============================] - 23s 48ms/step - loss: 0.4751 - acc: 0.8082 - val_loss: 0.4095 - val_acc: 0.8238\n",
      "Epoch 12/50\n",
      "490/490 [==============================] - 22s 46ms/step - loss: 0.4477 - acc: 0.8327 - val_loss: 0.4099 - val_acc: 0.8429\n",
      "Epoch 13/50\n",
      "490/490 [==============================] - 24s 49ms/step - loss: 0.4101 - acc: 0.8408 - val_loss: 0.3624 - val_acc: 0.8429\n",
      "Epoch 14/50\n",
      "490/490 [==============================] - 25s 50ms/step - loss: 0.3835 - acc: 0.8633 - val_loss: 0.4661 - val_acc: 0.8333\n",
      "Epoch 15/50\n",
      "490/490 [==============================] - 22s 45ms/step - loss: 0.3216 - acc: 0.8939 - val_loss: 0.3048 - val_acc: 0.8952\n",
      "Epoch 16/50\n",
      "490/490 [==============================] - 23s 46ms/step - loss: 0.3364 - acc: 0.8714 - val_loss: 0.3032 - val_acc: 0.8714\n",
      "Epoch 17/50\n",
      "490/490 [==============================] - 23s 48ms/step - loss: 0.2969 - acc: 0.8878 - val_loss: 0.2305 - val_acc: 0.9048\n",
      "Epoch 18/50\n",
      "490/490 [==============================] - 23s 48ms/step - loss: 0.2604 - acc: 0.9000 - val_loss: 0.2229 - val_acc: 0.9095\n",
      "Epoch 19/50\n",
      "490/490 [==============================] - 23s 47ms/step - loss: 0.2545 - acc: 0.9020 - val_loss: 0.2585 - val_acc: 0.9048\n",
      "Epoch 20/50\n",
      "490/490 [==============================] - 23s 46ms/step - loss: 0.2418 - acc: 0.9122 - val_loss: 0.1946 - val_acc: 0.9190\n",
      "Epoch 21/50\n",
      "490/490 [==============================] - 21s 44ms/step - loss: 0.2140 - acc: 0.9184 - val_loss: 0.1776 - val_acc: 0.9476\n",
      "Epoch 22/50\n",
      "490/490 [==============================] - 22s 45ms/step - loss: 0.2172 - acc: 0.9286 - val_loss: 0.1823 - val_acc: 0.9381\n",
      "Epoch 23/50\n",
      "490/490 [==============================] - 25s 51ms/step - loss: 0.2103 - acc: 0.9163 - val_loss: 0.3210 - val_acc: 0.8857\n",
      "Epoch 24/50\n",
      "490/490 [==============================] - 22s 46ms/step - loss: 0.1846 - acc: 0.9388 - val_loss: 0.2035 - val_acc: 0.9095\n",
      "Epoch 25/50\n",
      "490/490 [==============================] - 22s 45ms/step - loss: 0.1439 - acc: 0.9592 - val_loss: 0.1386 - val_acc: 0.9619\n",
      "Epoch 26/50\n",
      "490/490 [==============================] - 24s 48ms/step - loss: 0.1809 - acc: 0.9367 - val_loss: 0.1314 - val_acc: 0.9476\n",
      "Epoch 27/50\n",
      "490/490 [==============================] - 23s 47ms/step - loss: 0.1520 - acc: 0.9449 - val_loss: 0.1294 - val_acc: 0.9571\n",
      "Epoch 28/50\n",
      "490/490 [==============================] - 23s 46ms/step - loss: 0.1507 - acc: 0.9449 - val_loss: 0.1169 - val_acc: 0.9762\n",
      "Epoch 29/50\n",
      "490/490 [==============================] - 24s 50ms/step - loss: 0.1505 - acc: 0.9449 - val_loss: 0.1374 - val_acc: 0.9476\n",
      "Epoch 30/50\n",
      "490/490 [==============================] - 24s 49ms/step - loss: 0.1353 - acc: 0.9531 - val_loss: 0.1412 - val_acc: 0.9524\n",
      "Epoch 31/50\n",
      "490/490 [==============================] - 21s 44ms/step - loss: 0.1405 - acc: 0.9592 - val_loss: 0.1784 - val_acc: 0.9381\n",
      "Epoch 32/50\n",
      "490/490 [==============================] - 22s 44ms/step - loss: 0.1281 - acc: 0.9571 - val_loss: 0.1624 - val_acc: 0.9524\n",
      "Epoch 33/50\n",
      "490/490 [==============================] - 23s 47ms/step - loss: 0.1049 - acc: 0.9714 - val_loss: 0.1689 - val_acc: 0.9286\n",
      "Epoch 34/50\n",
      "490/490 [==============================] - 26s 53ms/step - loss: 0.0910 - acc: 0.9653 - val_loss: 0.1642 - val_acc: 0.9333\n",
      "Epoch 35/50\n",
      "490/490 [==============================] - 24s 49ms/step - loss: 0.1336 - acc: 0.9571 - val_loss: 0.1375 - val_acc: 0.9333\n",
      "Epoch 36/50\n",
      "490/490 [==============================] - 20s 41ms/step - loss: 0.1113 - acc: 0.9694 - val_loss: 0.1054 - val_acc: 0.9667\n",
      "Epoch 37/50\n",
      "490/490 [==============================] - 23s 47ms/step - loss: 0.0784 - acc: 0.9837 - val_loss: 0.1019 - val_acc: 0.9714\n",
      "Epoch 38/50\n",
      "490/490 [==============================] - 24s 49ms/step - loss: 0.0811 - acc: 0.9694 - val_loss: 0.0897 - val_acc: 0.9762\n",
      "Epoch 39/50\n",
      "490/490 [==============================] - 22s 45ms/step - loss: 0.0921 - acc: 0.9673 - val_loss: 0.1542 - val_acc: 0.9476\n",
      "Epoch 40/50\n",
      "490/490 [==============================] - 24s 49ms/step - loss: 0.0950 - acc: 0.9673 - val_loss: 0.1007 - val_acc: 0.9667\n",
      "Epoch 41/50\n",
      "490/490 [==============================] - 25s 51ms/step - loss: 0.0818 - acc: 0.9694 - val_loss: 0.1521 - val_acc: 0.9429\n",
      "Epoch 42/50\n",
      "490/490 [==============================] - 22s 46ms/step - loss: 0.0989 - acc: 0.9694 - val_loss: 0.0919 - val_acc: 0.9762\n",
      "Epoch 43/50\n",
      "490/490 [==============================] - 22s 45ms/step - loss: 0.0858 - acc: 0.9735 - val_loss: 0.0817 - val_acc: 0.9810\n",
      "Epoch 44/50\n",
      "490/490 [==============================] - 23s 46ms/step - loss: 0.0831 - acc: 0.9673 - val_loss: 0.1152 - val_acc: 0.9619\n",
      "Epoch 45/50\n",
      "490/490 [==============================] - 23s 47ms/step - loss: 0.0653 - acc: 0.9796 - val_loss: 0.1097 - val_acc: 0.9571\n",
      "Epoch 46/50\n",
      "490/490 [==============================] - 23s 46ms/step - loss: 0.0461 - acc: 0.9878 - val_loss: 0.0819 - val_acc: 0.9667\n",
      "Epoch 47/50\n",
      "490/490 [==============================] - 23s 48ms/step - loss: 0.0625 - acc: 0.9837 - val_loss: 0.1235 - val_acc: 0.9619\n",
      "Epoch 48/50\n",
      "490/490 [==============================] - 22s 44ms/step - loss: 0.0902 - acc: 0.9735 - val_loss: 0.0817 - val_acc: 0.9762\n",
      "Epoch 49/50\n",
      "490/490 [==============================] - 22s 44ms/step - loss: 0.0589 - acc: 0.9776 - val_loss: 0.1113 - val_acc: 0.9619\n",
      "Epoch 50/50\n",
      "490/490 [==============================] - 21s 44ms/step - loss: 0.0346 - acc: 0.9898 - val_loss: 0.0817 - val_acc: 0.9714\n"
     ]
    }
   ],
   "source": [
    "EPOCHS = 50\n",
    "history = model.fit(train_data, train_labels, epochs=EPOCHS, validation_data=(test_data, test_labels))"
   ]
  },
  {
   "cell_type": "code",
   "execution_count": 58,
   "metadata": {},
   "outputs": [
    {
     "data": {
      "image/png": "[encoded data removed]",
      "text/plain": [
       "<matplotlib.figure.Figure at 0x188f15ffa20>"
      ]
     },
     "metadata": {},
     "output_type": "display_data"
    },
    {
     "data": {
      "image/png": "[encoded data removed]",
      "text/plain": [
       "<matplotlib.figure.Figure at 0x188f49ff668>"
      ]
     },
     "metadata": {},
     "output_type": "display_data"
    }
   ],
   "source": [
    "%run history.py\n",
    "%matplotlib inline\n",
    "\n",
    "plot_accuracy(history)\n",
    "plot_loss(history)"
   ]
  },
  {
   "cell_type": "markdown",
   "metadata": {},
   "source": [
    "## Save the model"
   ]
  },
  {
   "cell_type": "code",
   "execution_count": 59,
   "metadata": {},
   "outputs": [],
   "source": [
    "import datetime\n",
    "\n",
    "dt = datetime.datetime.today().strftime('%Y%m%d%H%M%S')\n",
    "filename = DATASET_FOLDER + '/cnn_for_aed_{}.h5'.format(dt)\n",
    "model.save(filename)"
   ]
  },
  {
   "cell_type": "markdown",
   "metadata": {},
   "source": [
    "## Load the model"
   ]
  },
  {
   "cell_type": "code",
   "execution_count": 60,
   "metadata": {},
   "outputs": [],
   "source": [
    "del model\n",
    "model = models.load_model(filename)"
   ]
  },
  {
   "cell_type": "markdown",
   "metadata": {
    "colab_type": "text",
    "id": "j6con4C3lKC1"
   },
   "source": [
    "## Confirmation"
   ]
  },
  {
   "cell_type": "code",
   "execution_count": 61,
   "metadata": {
    "colab": {
     "base_uri": "https://localhost:8080/",
     "height": 34
    },
    "colab_type": "code",
    "id": "4oZYLLij69wU",
    "outputId": "b37a4b8a-2c80-411f-d8a9-5df1c6dbfe22"
   },
   "outputs": [],
   "source": [
    "import numpy as np\n",
    "import matplotlib.pyplot as plt"
   ]
  },
  {
   "cell_type": "code",
   "execution_count": 62,
   "metadata": {
    "colab": {
     "base_uri": "https://localhost:8080/",
     "height": 193
    },
    "colab_type": "code",
    "id": "zSxXE9FgRBdJ",
    "outputId": "f3a53efe-e99f-4572-f9b4-1bf3c39c77ec"
   },
   "outputs": [],
   "source": [
    "layer_outputs = [layer.output for layer in model.layers]\n",
    "#layer_outputs"
   ]
  },
  {
   "cell_type": "code",
   "execution_count": 63,
   "metadata": {
    "colab": {
     "base_uri": "https://localhost:8080/",
     "height": 34
    },
    "colab_type": "code",
    "id": "dcw7yHKrRkPD",
    "outputId": "a3ed5441-ae48-4635-bf07-ac5060030608"
   },
   "outputs": [],
   "source": [
    "activation_model = models.Model(inputs=model.input, outputs=layer_outputs)\n",
    "activations = activation_model.predict(test_data)\n",
    "#activations[0][0,:,:,0].shape"
   ]
  },
  {
   "cell_type": "code",
   "execution_count": 64,
   "metadata": {},
   "outputs": [
    {
     "data": {
      "text/plain": [
       "['train', 'station', 'cafe', 'mall', 'port', 'street', 'office']"
      ]
     },
     "execution_count": 64,
     "metadata": {},
     "output_type": "execute_result"
    }
   ],
   "source": [
    "class_labels"
   ]
  },
  {
   "cell_type": "code",
   "execution_count": 65,
   "metadata": {
    "colab": {
     "base_uri": "https://localhost:8080/",
     "height": 193
    },
    "colab_type": "code",
    "id": "ccSNAwGKhRn9",
    "outputId": "0ad22e12-713b-4b07-e17b-45d39ff1b80b"
   },
   "outputs": [
    {
     "data": {
      "text/plain": [
       "array([[ 0, 99,  0,  0,  0,  0,  0],\n",
       "       [ 0,  0,  0, 99,  0,  0,  0],\n",
       "       [ 0, 99,  0,  0,  0,  0,  0],\n",
       "       [ 0,  0,  0,  0, 99,  0,  0],\n",
       "       [99,  0,  0,  0,  0,  0,  0],\n",
       "       [ 0,  0,  0,  0, 99,  0,  0],\n",
       "       [ 0,  0,  0,  0,  0, 99,  0],\n",
       "       [ 0, 99,  0,  0,  0,  0,  0],\n",
       "       [ 0,  0,  0,  0,  0,  0, 99],\n",
       "       [ 0,  0,  0, 99,  0,  0,  0]])"
      ]
     },
     "execution_count": 65,
     "metadata": {},
     "output_type": "execute_result"
    }
   ],
   "source": [
    "(activations[-1][:10]*100).astype(int)"
   ]
  },
  {
   "cell_type": "code",
   "execution_count": 66,
   "metadata": {
    "colab": {
     "base_uri": "https://localhost:8080/",
     "height": 193
    },
    "colab_type": "code",
    "id": "RoE0nxtuiGIN",
    "outputId": "154437a8-ab72-46f4-f42c-3e6464af47d0",
    "scrolled": true
   },
   "outputs": [
    {
     "data": {
      "text/plain": [
       "array([[0, 1, 0, 0, 0, 0, 0],\n",
       "       [0, 0, 0, 1, 0, 0, 0],\n",
       "       [0, 1, 0, 0, 0, 0, 0],\n",
       "       [0, 0, 0, 0, 1, 0, 0],\n",
       "       [1, 0, 0, 0, 0, 0, 0],\n",
       "       [0, 0, 0, 0, 1, 0, 0],\n",
       "       [0, 0, 0, 0, 0, 1, 0],\n",
       "       [0, 1, 0, 0, 0, 0, 0],\n",
       "       [0, 0, 0, 0, 0, 0, 1],\n",
       "       [0, 0, 0, 1, 0, 0, 0]])"
      ]
     },
     "execution_count": 66,
     "metadata": {},
     "output_type": "execute_result"
    }
   ],
   "source": [
    "test_labels[:10].astype(int)"
   ]
  },
  {
   "cell_type": "code",
   "execution_count": null,
   "metadata": {},
   "outputs": [],
   "source": []
  }
 ],
 "metadata": {
  "colab": {
   "collapsed_sections": [],
   "name": "CNN for AED",
   "provenance": [],
   "version": "0.3.2"
  },
  "kernelspec": {
   "display_name": "Python 3",
   "language": "python",
   "name": "python3"
  },
  "language_info": {
   "codemirror_mode": {
    "name": "ipython",
    "version": 3
   },
   "file_extension": ".py",
   "mimetype": "text/x-python",
   "name": "python",
   "nbconvert_exporter": "python",
   "pygments_lexer": "ipython3",
   "version": "3.6.4"
  }
 },
 "nbformat": 4,
 "nbformat_minor": 1
}
