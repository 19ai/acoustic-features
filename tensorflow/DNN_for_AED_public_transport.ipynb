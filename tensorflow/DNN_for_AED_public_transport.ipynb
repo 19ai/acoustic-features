{
 "cells": [
  {
   "cell_type": "markdown",
   "metadata": {
    "colab_type": "text",
    "id": "0X16cagQE-Y-"
   },
   "source": [
    "# DNN for AED with Keras/TensorFlow\n",
    "\n",
    "Date: November 11, 2018 and February 27, 2019\n",
    "\n",
    "Neural network: input MFCC to DNN"
   ]
  },
  {
   "cell_type": "markdown",
   "metadata": {
    "colab_type": "text",
    "id": "WwQ-dEltkl5Q"
   },
   "source": [
    "## Preparing data set for CNN"
   ]
  },
  {
   "cell_type": "code",
   "execution_count": 117,
   "metadata": {
    "colab": {
     "base_uri": "https://localhost:8080/",
     "height": 34
    },
    "colab_type": "code",
    "id": "VEJyQsGpV3ug",
    "outputId": "3929aa39-3383-4791-e065-3622e6781181"
   },
   "outputs": [
    {
     "data": {
      "text/plain": [
       "<matplotlib.figure.Figure at 0x2931f940358>"
      ]
     },
     "metadata": {},
     "output_type": "display_data"
    }
   ],
   "source": [
    "DATASET_FOLDER = '../dataset/data_measurement'\n",
    "\n",
    "%run ../oscilloscope/script/dataset.py\n",
    "\n",
    "ds = DataSet(DATASET_FOLDER)\n",
    "train_data, train_labels, test_data, test_labels = ds.generate(flatten=True)\n",
    "shape = ds.shape\n",
    "class_labels = ds.class_labels"
   ]
  },
  {
   "cell_type": "code",
   "execution_count": 118,
   "metadata": {},
   "outputs": [
    {
     "data": {
      "text/plain": [
       "((420, 1152), (180, 1152))"
      ]
     },
     "execution_count": 118,
     "metadata": {},
     "output_type": "execute_result"
    },
    {
     "data": {
      "image/png": "[encoded data removed]",
      "text/plain": [
       "<matplotlib.figure.Figure at 0x2931cb97b38>"
      ]
     },
     "metadata": {},
     "output_type": "display_data"
    }
   ],
   "source": [
    "import matplotlib.pyplot as plt\n",
    "%matplotlib inline\n",
    "\n",
    "plt.imshow(np.rot90(train_data[0].reshape(ds.shape)), cmap='seismic')\n",
    "train_data.shape, test_data.shape"
   ]
  },
  {
   "cell_type": "markdown",
   "metadata": {
    "colab_type": "text",
    "id": "VfUmgxxVk6uM"
   },
   "source": [
    "### DNN model"
   ]
  },
  {
   "cell_type": "code",
   "execution_count": 120,
   "metadata": {
    "colab": {
     "base_uri": "https://localhost:8080/",
     "height": 509
    },
    "colab_type": "code",
    "id": "B2Xg6tGLdMKP",
    "outputId": "ae3daa32-9dbf-4d8b-9a11-7f596dd2e4a6"
   },
   "outputs": [
    {
     "name": "stdout",
     "output_type": "stream",
     "text": [
      "_________________________________________________________________\n",
      "Layer (type)                 Output Shape              Param #   \n",
      "=================================================================\n",
      "dense_27 (Dense)             (None, 64)                73792     \n",
      "_________________________________________________________________\n",
      "dropout_14 (Dropout)         (None, 64)                0         \n",
      "_________________________________________________________________\n",
      "dense_28 (Dense)             (None, 6)                 390       \n",
      "=================================================================\n",
      "Total params: 74,182\n",
      "Trainable params: 74,182\n",
      "Non-trainable params: 0\n",
      "_________________________________________________________________\n"
     ]
    }
   ],
   "source": [
    "from keras import layers\n",
    "from keras import models\n",
    "\n",
    "model = models.Sequential()\n",
    "\n",
    "model.add(layers.Dense(64, input_dim=shape[0]*shape[1], activation='relu'))\n",
    "model.add(layers.Dropout(0.5))\n",
    "model.add(layers.Dense(len(class_labels), activation='softmax'))\n",
    "\n",
    "model.summary()"
   ]
  },
  {
   "cell_type": "code",
   "execution_count": 121,
   "metadata": {
    "colab": {},
    "colab_type": "code",
    "id": "nRr1L_4ogL6i"
   },
   "outputs": [],
   "source": [
    "model.compile(optimizer='rmsprop', loss='categorical_crossentropy', metrics=['accuracy'])"
   ]
  },
  {
   "cell_type": "code",
   "execution_count": 122,
   "metadata": {},
   "outputs": [
    {
     "data": {
      "image/svg+xml": [
       "<svg height=\"264pt\" viewBox=\"0.00 0.00 145.00 264.00\" width=\"145pt\" xmlns=\"http://www.w3.org/2000/svg\" xmlns:xlink=\"http://www.w3.org/1999/xlink\">\n",
       "<g class=\"graph\" id=\"graph0\" transform=\"scale(1 1) rotate(0) translate(4 260)\">\n",
       "<title>G</title>\n",
       "<polygon fill=\"white\" points=\"-4,4 -4,-260 141,-260 141,4 -4,4\" stroke=\"none\"/>\n",
       "<!-- 2830913527032 -->\n",
       "<g class=\"node\" id=\"node1\"><title>2830913527032</title>\n",
       "<polygon fill=\"none\" points=\"13,-146.5 13,-182.5 124,-182.5 124,-146.5 13,-146.5\" stroke=\"black\"/>\n",
       "<text font-family=\"Times New Roman,serif\" font-size=\"14.00\" text-anchor=\"middle\" x=\"68.5\" y=\"-160.8\">dense_27: Dense</text>\n",
       "</g>\n",
       "<!-- 2830815470424 -->\n",
       "<g class=\"node\" id=\"node2\"><title>2830815470424</title>\n",
       "<polygon fill=\"none\" points=\"0,-73.5 0,-109.5 137,-109.5 137,-73.5 0,-73.5\" stroke=\"black\"/>\n",
       "<text font-family=\"Times New Roman,serif\" font-size=\"14.00\" text-anchor=\"middle\" x=\"68.5\" y=\"-87.8\">dropout_14: Dropout</text>\n",
       "</g>\n",
       "<!-- 2830913527032&#45;&gt;2830815470424 -->\n",
       "<g class=\"edge\" id=\"edge2\"><title>2830913527032-&gt;2830815470424</title>\n",
       "<path d=\"M68.5,-146.313C68.5,-138.289 68.5,-128.547 68.5,-119.569\" fill=\"none\" stroke=\"black\"/>\n",
       "<polygon fill=\"black\" points=\"72.0001,-119.529 68.5,-109.529 65.0001,-119.529 72.0001,-119.529\" stroke=\"black\"/>\n",
       "</g>\n",
       "<!-- 2830815540784 -->\n",
       "<g class=\"node\" id=\"node3\"><title>2830815540784</title>\n",
       "<polygon fill=\"none\" points=\"13,-0.5 13,-36.5 124,-36.5 124,-0.5 13,-0.5\" stroke=\"black\"/>\n",
       "<text font-family=\"Times New Roman,serif\" font-size=\"14.00\" text-anchor=\"middle\" x=\"68.5\" y=\"-14.8\">dense_28: Dense</text>\n",
       "</g>\n",
       "<!-- 2830815470424&#45;&gt;2830815540784 -->\n",
       "<g class=\"edge\" id=\"edge3\"><title>2830815470424-&gt;2830815540784</title>\n",
       "<path d=\"M68.5,-73.3129C68.5,-65.2895 68.5,-55.5475 68.5,-46.5691\" fill=\"none\" stroke=\"black\"/>\n",
       "<polygon fill=\"black\" points=\"72.0001,-46.5288 68.5,-36.5288 65.0001,-46.5289 72.0001,-46.5288\" stroke=\"black\"/>\n",
       "</g>\n",
       "<!-- 2830815539272 -->\n",
       "<g class=\"node\" id=\"node4\"><title>2830815539272</title>\n",
       "<polygon fill=\"none\" points=\"16.5,-219.5 16.5,-255.5 120.5,-255.5 120.5,-219.5 16.5,-219.5\" stroke=\"black\"/>\n",
       "<text font-family=\"Times New Roman,serif\" font-size=\"14.00\" text-anchor=\"middle\" x=\"68.5\" y=\"-233.8\">2830815539272</text>\n",
       "</g>\n",
       "<!-- 2830815539272&#45;&gt;2830913527032 -->\n",
       "<g class=\"edge\" id=\"edge1\"><title>2830815539272-&gt;2830913527032</title>\n",
       "<path d=\"M68.5,-219.313C68.5,-211.289 68.5,-201.547 68.5,-192.569\" fill=\"none\" stroke=\"black\"/>\n",
       "<polygon fill=\"black\" points=\"72.0001,-192.529 68.5,-182.529 65.0001,-192.529 72.0001,-192.529\" stroke=\"black\"/>\n",
       "</g>\n",
       "</g>\n",
       "</svg>"
      ],
      "text/plain": [
       "<IPython.core.display.SVG object>"
      ]
     },
     "execution_count": 122,
     "metadata": {},
     "output_type": "execute_result"
    }
   ],
   "source": [
    "from IPython.display import SVG\n",
    "from keras.utils.vis_utils import model_to_dot\n",
    "\n",
    "SVG(model_to_dot(model).create(prog='dot', format='svg'))"
   ]
  },
  {
   "cell_type": "markdown",
   "metadata": {
    "colab_type": "text",
    "id": "TfypWUJIlFkz"
   },
   "source": [
    "## Training DNN"
   ]
  },
  {
   "cell_type": "code",
   "execution_count": 123,
   "metadata": {
    "colab": {
     "base_uri": "https://localhost:8080/",
     "height": 931
    },
    "colab_type": "code",
    "id": "zsdmu-ggfvr1",
    "outputId": "77a52558-8ecc-4fc5-e0cb-2b86a75df4c6",
    "scrolled": false
   },
   "outputs": [
    {
     "name": "stdout",
     "output_type": "stream",
     "text": [
      "Train on 420 samples, validate on 180 samples\n",
      "Epoch 1/100\n",
      "420/420 [==============================] - 1s 3ms/step - loss: 1.5338 - acc: 0.5905 - val_loss: 0.3735 - val_acc: 0.8611\n",
      "Epoch 2/100\n",
      "420/420 [==============================] - 0s 126us/step - loss: 0.5806 - acc: 0.7810 - val_loss: 0.4326 - val_acc: 0.8389\n",
      "Epoch 3/100\n",
      "420/420 [==============================] - 0s 123us/step - loss: 0.4114 - acc: 0.8452 - val_loss: 0.1475 - val_acc: 0.9444\n",
      "Epoch 4/100\n",
      "420/420 [==============================] - 0s 133us/step - loss: 0.3084 - acc: 0.8786 - val_loss: 0.2963 - val_acc: 0.9056\n",
      "Epoch 5/100\n",
      "420/420 [==============================] - 0s 133us/step - loss: 0.2766 - acc: 0.9024 - val_loss: 0.3085 - val_acc: 0.8833\n",
      "Epoch 6/100\n",
      "420/420 [==============================] - 0s 133us/step - loss: 0.2029 - acc: 0.9190 - val_loss: 0.1583 - val_acc: 0.9278\n",
      "Epoch 7/100\n",
      "420/420 [==============================] - 0s 133us/step - loss: 0.2157 - acc: 0.9238 - val_loss: 0.2825 - val_acc: 0.9000\n",
      "Epoch 8/100\n",
      "420/420 [==============================] - 0s 135us/step - loss: 0.1590 - acc: 0.9310 - val_loss: 0.0886 - val_acc: 0.9722\n",
      "Epoch 9/100\n",
      "420/420 [==============================] - 0s 131us/step - loss: 0.1077 - acc: 0.9619 - val_loss: 0.0873 - val_acc: 0.9667\n",
      "Epoch 10/100\n",
      "420/420 [==============================] - 0s 131us/step - loss: 0.0916 - acc: 0.9643 - val_loss: 0.0781 - val_acc: 0.9778\n",
      "Epoch 11/100\n",
      "420/420 [==============================] - 0s 133us/step - loss: 0.1090 - acc: 0.9476 - val_loss: 0.0802 - val_acc: 0.9778\n",
      "Epoch 12/100\n",
      "420/420 [==============================] - 0s 93us/step - loss: 0.1158 - acc: 0.9548 - val_loss: 0.0701 - val_acc: 0.9833\n",
      "Epoch 13/100\n",
      "420/420 [==============================] - 0s 79us/step - loss: 0.0978 - acc: 0.9643 - val_loss: 0.0711 - val_acc: 0.9833\n",
      "Epoch 14/100\n",
      "420/420 [==============================] - 0s 96us/step - loss: 0.0884 - acc: 0.9643 - val_loss: 0.0883 - val_acc: 0.9778\n",
      "Epoch 15/100\n",
      "420/420 [==============================] - 0s 92us/step - loss: 0.0899 - acc: 0.9571 - val_loss: 0.0785 - val_acc: 0.9833\n",
      "Epoch 16/100\n",
      "420/420 [==============================] - 0s 92us/step - loss: 0.1120 - acc: 0.9619 - val_loss: 0.0657 - val_acc: 0.9722\n",
      "Epoch 17/100\n",
      "420/420 [==============================] - 0s 87us/step - loss: 0.0781 - acc: 0.9786 - val_loss: 0.0845 - val_acc: 0.9778\n",
      "Epoch 18/100\n",
      "420/420 [==============================] - 0s 91us/step - loss: 0.0675 - acc: 0.9905 - val_loss: 0.0617 - val_acc: 0.9833\n",
      "Epoch 19/100\n",
      "420/420 [==============================] - 0s 123us/step - loss: 0.0619 - acc: 0.9762 - val_loss: 0.0830 - val_acc: 0.9611\n",
      "Epoch 20/100\n",
      "420/420 [==============================] - 0s 144us/step - loss: 0.0481 - acc: 0.9857 - val_loss: 0.0864 - val_acc: 0.9722\n",
      "Epoch 21/100\n",
      "420/420 [==============================] - 0s 143us/step - loss: 0.0354 - acc: 0.9881 - val_loss: 0.1279 - val_acc: 0.9444\n",
      "Epoch 22/100\n",
      "420/420 [==============================] - 0s 128us/step - loss: 0.0523 - acc: 0.9786 - val_loss: 0.0722 - val_acc: 0.9778\n",
      "Epoch 23/100\n",
      "420/420 [==============================] - 0s 116us/step - loss: 0.0247 - acc: 0.9929 - val_loss: 0.0607 - val_acc: 0.9778\n",
      "Epoch 24/100\n",
      "420/420 [==============================] - 0s 166us/step - loss: 0.0398 - acc: 0.9786 - val_loss: 0.0860 - val_acc: 0.9722\n",
      "Epoch 25/100\n",
      "420/420 [==============================] - 0s 201us/step - loss: 0.0483 - acc: 0.9857 - val_loss: 0.1081 - val_acc: 0.9722\n",
      "Epoch 26/100\n",
      "420/420 [==============================] - 0s 170us/step - loss: 0.0581 - acc: 0.9786 - val_loss: 0.1051 - val_acc: 0.9611\n",
      "Epoch 27/100\n",
      "420/420 [==============================] - 0s 165us/step - loss: 0.0337 - acc: 0.9857 - val_loss: 0.0704 - val_acc: 0.9833\n",
      "Epoch 28/100\n",
      "420/420 [==============================] - 0s 145us/step - loss: 0.0521 - acc: 0.9929 - val_loss: 0.0843 - val_acc: 0.9667\n",
      "Epoch 29/100\n",
      "420/420 [==============================] - 0s 141us/step - loss: 0.0343 - acc: 0.9881 - val_loss: 0.1796 - val_acc: 0.9167\n",
      "Epoch 30/100\n",
      "420/420 [==============================] - 0s 133us/step - loss: 0.0520 - acc: 0.9762 - val_loss: 0.0564 - val_acc: 0.9833\n",
      "Epoch 31/100\n",
      "420/420 [==============================] - 0s 125us/step - loss: 0.0288 - acc: 0.9881 - val_loss: 0.1227 - val_acc: 0.9667\n",
      "Epoch 32/100\n",
      "420/420 [==============================] - 0s 157us/step - loss: 0.0482 - acc: 0.9929 - val_loss: 0.0978 - val_acc: 0.9667\n",
      "Epoch 33/100\n",
      "420/420 [==============================] - 0s 134us/step - loss: 0.0438 - acc: 0.9857 - val_loss: 0.0707 - val_acc: 0.9722\n",
      "Epoch 34/100\n",
      "420/420 [==============================] - 0s 139us/step - loss: 0.0127 - acc: 0.9952 - val_loss: 0.2165 - val_acc: 0.9278\n",
      "Epoch 35/100\n",
      "420/420 [==============================] - 0s 125us/step - loss: 0.0274 - acc: 0.9929 - val_loss: 0.1051 - val_acc: 0.9667\n",
      "Epoch 36/100\n",
      "420/420 [==============================] - 0s 129us/step - loss: 0.0467 - acc: 0.9857 - val_loss: 0.1379 - val_acc: 0.9667\n",
      "Epoch 37/100\n",
      "420/420 [==============================] - 0s 136us/step - loss: 0.0163 - acc: 0.9952 - val_loss: 0.0863 - val_acc: 0.9778\n",
      "Epoch 38/100\n",
      "420/420 [==============================] - 0s 128us/step - loss: 0.0328 - acc: 0.9810 - val_loss: 0.0846 - val_acc: 0.9722\n",
      "Epoch 39/100\n",
      "420/420 [==============================] - 0s 115us/step - loss: 0.0245 - acc: 0.9881 - val_loss: 0.1104 - val_acc: 0.9833\n",
      "Epoch 40/100\n",
      "420/420 [==============================] - 0s 153us/step - loss: 0.0314 - acc: 0.9929 - val_loss: 0.1089 - val_acc: 0.9667\n",
      "Epoch 41/100\n",
      "420/420 [==============================] - 0s 128us/step - loss: 0.0074 - acc: 0.9976 - val_loss: 0.0888 - val_acc: 0.9833\n",
      "Epoch 42/100\n",
      "420/420 [==============================] - 0s 132us/step - loss: 0.0183 - acc: 0.9905 - val_loss: 0.1289 - val_acc: 0.9722\n",
      "Epoch 43/100\n",
      "420/420 [==============================] - 0s 129us/step - loss: 0.0447 - acc: 0.9833 - val_loss: 0.1475 - val_acc: 0.9722\n",
      "Epoch 44/100\n",
      "420/420 [==============================] - 0s 189us/step - loss: 0.0391 - acc: 0.9833 - val_loss: 0.1083 - val_acc: 0.9611\n",
      "Epoch 45/100\n",
      "420/420 [==============================] - 0s 159us/step - loss: 0.0486 - acc: 0.9786 - val_loss: 0.0674 - val_acc: 0.9889\n",
      "Epoch 46/100\n",
      "420/420 [==============================] - 0s 123us/step - loss: 0.0125 - acc: 0.9976 - val_loss: 0.1044 - val_acc: 0.9833\n",
      "Epoch 47/100\n",
      "420/420 [==============================] - 0s 119us/step - loss: 0.0160 - acc: 0.9929 - val_loss: 0.0747 - val_acc: 0.9833\n",
      "Epoch 48/100\n",
      "420/420 [==============================] - 0s 89us/step - loss: 0.0254 - acc: 0.9952 - val_loss: 0.0709 - val_acc: 0.9833\n",
      "Epoch 49/100\n",
      "420/420 [==============================] - 0s 90us/step - loss: 0.0104 - acc: 0.9952 - val_loss: 0.0909 - val_acc: 0.9833\n",
      "Epoch 50/100\n",
      "420/420 [==============================] - 0s 94us/step - loss: 0.0110 - acc: 0.9929 - val_loss: 0.0694 - val_acc: 0.9889\n",
      "Epoch 51/100\n",
      "420/420 [==============================] - 0s 105us/step - loss: 0.0247 - acc: 0.9881 - val_loss: 0.0846 - val_acc: 0.9778\n",
      "Epoch 52/100\n",
      "420/420 [==============================] - 0s 97us/step - loss: 0.0273 - acc: 0.9905 - val_loss: 0.1095 - val_acc: 0.9778\n",
      "Epoch 53/100\n",
      "420/420 [==============================] - 0s 97us/step - loss: 0.0171 - acc: 0.9929 - val_loss: 0.0877 - val_acc: 0.9778\n",
      "Epoch 54/100\n",
      "420/420 [==============================] - 0s 88us/step - loss: 0.0324 - acc: 0.9881 - val_loss: 0.0891 - val_acc: 0.9833\n",
      "Epoch 55/100\n",
      "420/420 [==============================] - 0s 92us/step - loss: 0.0092 - acc: 0.9976 - val_loss: 0.0814 - val_acc: 0.9889\n",
      "Epoch 56/100\n",
      "420/420 [==============================] - 0s 94us/step - loss: 0.0202 - acc: 0.9952 - val_loss: 0.1133 - val_acc: 0.9778\n",
      "Epoch 57/100\n",
      "420/420 [==============================] - 0s 92us/step - loss: 0.0124 - acc: 0.9952 - val_loss: 0.1380 - val_acc: 0.9722\n",
      "Epoch 58/100\n",
      "420/420 [==============================] - 0s 97us/step - loss: 0.0185 - acc: 0.9905 - val_loss: 0.1232 - val_acc: 0.9778\n",
      "Epoch 59/100\n",
      "420/420 [==============================] - 0s 116us/step - loss: 0.0163 - acc: 0.9952 - val_loss: 0.1160 - val_acc: 0.9722\n",
      "Epoch 60/100\n",
      "420/420 [==============================] - 0s 161us/step - loss: 0.0138 - acc: 0.9929 - val_loss: 0.1428 - val_acc: 0.9778\n",
      "Epoch 61/100\n"
     ]
    },
    {
     "name": "stdout",
     "output_type": "stream",
     "text": [
      "420/420 [==============================] - 0s 191us/step - loss: 0.0277 - acc: 0.9857 - val_loss: 0.1182 - val_acc: 0.9778\n",
      "Epoch 62/100\n",
      "420/420 [==============================] - 0s 158us/step - loss: 0.0039 - acc: 1.0000 - val_loss: 0.1154 - val_acc: 0.9833\n",
      "Epoch 63/100\n",
      "420/420 [==============================] - 0s 153us/step - loss: 0.0159 - acc: 0.9929 - val_loss: 0.1630 - val_acc: 0.9778\n",
      "Epoch 64/100\n",
      "420/420 [==============================] - 0s 143us/step - loss: 0.0231 - acc: 0.9929 - val_loss: 0.1271 - val_acc: 0.9833\n",
      "Epoch 65/100\n",
      "420/420 [==============================] - 0s 134us/step - loss: 0.0119 - acc: 0.9952 - val_loss: 0.1645 - val_acc: 0.9722\n",
      "Epoch 66/100\n",
      "420/420 [==============================] - 0s 130us/step - loss: 0.0109 - acc: 0.9976 - val_loss: 0.1298 - val_acc: 0.9833\n",
      "Epoch 67/100\n",
      "420/420 [==============================] - 0s 134us/step - loss: 0.0122 - acc: 0.9929 - val_loss: 0.1266 - val_acc: 0.9722\n",
      "Epoch 68/100\n",
      "420/420 [==============================] - 0s 112us/step - loss: 0.0303 - acc: 0.9881 - val_loss: 0.1361 - val_acc: 0.9778\n",
      "Epoch 69/100\n",
      "420/420 [==============================] - 0s 169us/step - loss: 0.0198 - acc: 0.9905 - val_loss: 0.1241 - val_acc: 0.9778\n",
      "Epoch 70/100\n",
      "420/420 [==============================] - 0s 190us/step - loss: 0.0057 - acc: 1.0000 - val_loss: 0.1119 - val_acc: 0.9722\n",
      "Epoch 71/100\n",
      "420/420 [==============================] - 0s 198us/step - loss: 0.0182 - acc: 0.9929 - val_loss: 0.1233 - val_acc: 0.9667\n",
      "Epoch 72/100\n",
      "420/420 [==============================] - 0s 150us/step - loss: 0.0109 - acc: 0.9976 - val_loss: 0.1467 - val_acc: 0.9667\n",
      "Epoch 73/100\n",
      "420/420 [==============================] - 0s 166us/step - loss: 0.0104 - acc: 0.9976 - val_loss: 0.1090 - val_acc: 0.9778\n",
      "Epoch 74/100\n",
      "420/420 [==============================] - 0s 186us/step - loss: 0.0011 - acc: 1.0000 - val_loss: 0.1077 - val_acc: 0.9722\n",
      "Epoch 75/100\n",
      "420/420 [==============================] - 0s 143us/step - loss: 0.0149 - acc: 0.9976 - val_loss: 0.2142 - val_acc: 0.9667\n",
      "Epoch 76/100\n",
      "420/420 [==============================] - 0s 150us/step - loss: 0.0132 - acc: 0.9952 - val_loss: 0.1201 - val_acc: 0.9833\n",
      "Epoch 77/100\n",
      "420/420 [==============================] - 0s 123us/step - loss: 0.0072 - acc: 0.9952 - val_loss: 0.1675 - val_acc: 0.9778\n",
      "Epoch 78/100\n",
      "420/420 [==============================] - 0s 136us/step - loss: 0.0157 - acc: 0.9929 - val_loss: 0.1582 - val_acc: 0.9722\n",
      "Epoch 79/100\n",
      "420/420 [==============================] - 0s 129us/step - loss: 0.0029 - acc: 1.0000 - val_loss: 0.1266 - val_acc: 0.9833\n",
      "Epoch 80/100\n",
      "420/420 [==============================] - 0s 186us/step - loss: 0.0231 - acc: 0.9929 - val_loss: 0.1340 - val_acc: 0.9778\n",
      "Epoch 81/100\n",
      "420/420 [==============================] - 0s 187us/step - loss: 0.0248 - acc: 0.9881 - val_loss: 0.1311 - val_acc: 0.9833\n",
      "Epoch 82/100\n",
      "420/420 [==============================] - 0s 174us/step - loss: 0.0107 - acc: 0.9976 - val_loss: 0.1190 - val_acc: 0.9833\n",
      "Epoch 83/100\n",
      "420/420 [==============================] - 0s 129us/step - loss: 0.0045 - acc: 0.9976 - val_loss: 0.1158 - val_acc: 0.9778\n",
      "Epoch 84/100\n",
      "420/420 [==============================] - 0s 122us/step - loss: 0.0240 - acc: 0.9929 - val_loss: 0.1409 - val_acc: 0.9722\n",
      "Epoch 85/100\n",
      "420/420 [==============================] - 0s 137us/step - loss: 0.0042 - acc: 1.0000 - val_loss: 0.1382 - val_acc: 0.9722\n",
      "Epoch 86/100\n",
      "420/420 [==============================] - 0s 129us/step - loss: 0.0113 - acc: 0.9952 - val_loss: 0.1578 - val_acc: 0.9611\n",
      "Epoch 87/100\n",
      "420/420 [==============================] - 0s 125us/step - loss: 0.0075 - acc: 0.9976 - val_loss: 0.1982 - val_acc: 0.9667\n",
      "Epoch 88/100\n",
      "420/420 [==============================] - 0s 123us/step - loss: 0.0139 - acc: 0.9929 - val_loss: 0.1513 - val_acc: 0.9722\n",
      "Epoch 89/100\n",
      "420/420 [==============================] - 0s 126us/step - loss: 0.0135 - acc: 0.9952 - val_loss: 0.1787 - val_acc: 0.9722\n",
      "Epoch 90/100\n",
      "420/420 [==============================] - 0s 122us/step - loss: 0.0348 - acc: 0.9905 - val_loss: 0.2230 - val_acc: 0.9722\n",
      "Epoch 91/100\n",
      "420/420 [==============================] - 0s 133us/step - loss: 0.0076 - acc: 0.9976 - val_loss: 0.1515 - val_acc: 0.9778\n",
      "Epoch 92/100\n",
      "420/420 [==============================] - 0s 186us/step - loss: 0.0073 - acc: 0.9976 - val_loss: 0.1886 - val_acc: 0.9722\n",
      "Epoch 93/100\n",
      "420/420 [==============================] - 0s 148us/step - loss: 0.0193 - acc: 0.9952 - val_loss: 0.1647 - val_acc: 0.9667\n",
      "Epoch 94/100\n",
      "420/420 [==============================] - 0s 162us/step - loss: 0.0151 - acc: 0.9929 - val_loss: 0.1745 - val_acc: 0.9667\n",
      "Epoch 95/100\n",
      "420/420 [==============================] - 0s 113us/step - loss: 0.0166 - acc: 0.9905 - val_loss: 0.1874 - val_acc: 0.9722\n",
      "Epoch 96/100\n",
      "420/420 [==============================] - 0s 116us/step - loss: 0.0151 - acc: 0.9952 - val_loss: 0.1680 - val_acc: 0.9722\n",
      "Epoch 97/100\n",
      "420/420 [==============================] - 0s 124us/step - loss: 0.0033 - acc: 1.0000 - val_loss: 0.1968 - val_acc: 0.9722\n",
      "Epoch 98/100\n",
      "420/420 [==============================] - 0s 119us/step - loss: 0.0017 - acc: 1.0000 - val_loss: 0.1755 - val_acc: 0.9722\n",
      "Epoch 99/100\n",
      "420/420 [==============================] - 0s 134us/step - loss: 0.0283 - acc: 0.9929 - val_loss: 0.1825 - val_acc: 0.9722\n",
      "Epoch 100/100\n",
      "420/420 [==============================] - 0s 136us/step - loss: 0.0106 - acc: 0.9952 - val_loss: 0.2064 - val_acc: 0.9722\n"
     ]
    }
   ],
   "source": [
    "EPOCHS = 100\n",
    "history = model.fit(train_data, train_labels, epochs=EPOCHS, validation_data=(test_data, test_labels))"
   ]
  },
  {
   "cell_type": "code",
   "execution_count": 124,
   "metadata": {},
   "outputs": [
    {
     "data": {
      "image/png": "[encoded data removed]",
      "text/plain": [
       "<matplotlib.figure.Figure at 0x2931a4283c8>"
      ]
     },
     "metadata": {},
     "output_type": "display_data"
    },
    {
     "data": {
      "image/png": "[encoded data removed]",
      "text/plain": [
       "<matplotlib.figure.Figure at 0x2931a4284a8>"
      ]
     },
     "metadata": {},
     "output_type": "display_data"
    }
   ],
   "source": [
    "%run history.py\n",
    "%matplotlib inline\n",
    "\n",
    "plot_accuracy(history)\n",
    "plot_loss(history)"
   ]
  },
  {
   "cell_type": "markdown",
   "metadata": {},
   "source": [
    "## Save the model"
   ]
  },
  {
   "cell_type": "code",
   "execution_count": 125,
   "metadata": {},
   "outputs": [],
   "source": [
    "import datetime\n",
    "\n",
    "dt = datetime.datetime.today().strftime('%Y%m%d%H%M%S')\n",
    "filename = DATASET_FOLDER + '/dnn_for_aed_{}.h5'.format(dt)\n",
    "model.save(filename)"
   ]
  },
  {
   "cell_type": "markdown",
   "metadata": {},
   "source": [
    "## Load the model"
   ]
  },
  {
   "cell_type": "code",
   "execution_count": 126,
   "metadata": {},
   "outputs": [],
   "source": [
    "del model\n",
    "model = models.load_model(filename)"
   ]
  },
  {
   "cell_type": "markdown",
   "metadata": {
    "colab_type": "text",
    "id": "j6con4C3lKC1"
   },
   "source": [
    "## Confirmation"
   ]
  },
  {
   "cell_type": "code",
   "execution_count": 127,
   "metadata": {
    "colab": {
     "base_uri": "https://localhost:8080/",
     "height": 34
    },
    "colab_type": "code",
    "id": "4oZYLLij69wU",
    "outputId": "b37a4b8a-2c80-411f-d8a9-5df1c6dbfe22"
   },
   "outputs": [],
   "source": [
    "import numpy as np\n",
    "import matplotlib.pyplot as plt"
   ]
  },
  {
   "cell_type": "code",
   "execution_count": 128,
   "metadata": {
    "colab": {
     "base_uri": "https://localhost:8080/",
     "height": 193
    },
    "colab_type": "code",
    "id": "zSxXE9FgRBdJ",
    "outputId": "f3a53efe-e99f-4572-f9b4-1bf3c39c77ec"
   },
   "outputs": [],
   "source": [
    "layer_outputs = [layer.output for layer in model.layers]\n",
    "#layer_outputs"
   ]
  },
  {
   "cell_type": "code",
   "execution_count": 129,
   "metadata": {
    "colab": {
     "base_uri": "https://localhost:8080/",
     "height": 34
    },
    "colab_type": "code",
    "id": "dcw7yHKrRkPD",
    "outputId": "a3ed5441-ae48-4635-bf07-ac5060030608"
   },
   "outputs": [],
   "source": [
    "activation_model = models.Model(inputs=model.input, outputs=layer_outputs)\n",
    "activations = activation_model.predict(test_data)\n",
    "#activations[0][0,:,:,0].shape"
   ]
  },
  {
   "cell_type": "code",
   "execution_count": 130,
   "metadata": {},
   "outputs": [
    {
     "data": {
      "text/plain": [
       "['train_tokyu_1',\n",
       " 'yokohama_station_tokyu',\n",
       " 'mcdonalds',\n",
       " 'landmark_tower_mall',\n",
       " 'yokohama_port',\n",
       " 'street']"
      ]
     },
     "execution_count": 130,
     "metadata": {},
     "output_type": "execute_result"
    }
   ],
   "source": [
    "class_labels"
   ]
  },
  {
   "cell_type": "code",
   "execution_count": 131,
   "metadata": {
    "colab": {
     "base_uri": "https://localhost:8080/",
     "height": 193
    },
    "colab_type": "code",
    "id": "ccSNAwGKhRn9",
    "outputId": "0ad22e12-713b-4b07-e17b-45d39ff1b80b"
   },
   "outputs": [
    {
     "data": {
      "text/plain": [
       "array([[ 99,   0,   0,   0,   0,   0],\n",
       "       [  0,   0, 100,   0,   0,   0],\n",
       "       [  0,   0, 100,   0,   0,   0],\n",
       "       [  0,   0,   0,   0,   0,  99],\n",
       "       [  0,   0, 100,   0,   0,   0],\n",
       "       [  0,   0,   0,   0,   0, 100],\n",
       "       [  0, 100,   0,   0,   0,   0],\n",
       "       [  0,   0,   0,   0,  99,   0],\n",
       "       [  0,   0, 100,   0,   0,   0],\n",
       "       [  0, 100,   0,   0,   0,   0]])"
      ]
     },
     "execution_count": 131,
     "metadata": {},
     "output_type": "execute_result"
    }
   ],
   "source": [
    "(activations[-1][:10]*100).astype(int)"
   ]
  },
  {
   "cell_type": "code",
   "execution_count": 132,
   "metadata": {
    "colab": {
     "base_uri": "https://localhost:8080/",
     "height": 193
    },
    "colab_type": "code",
    "id": "RoE0nxtuiGIN",
    "outputId": "154437a8-ab72-46f4-f42c-3e6464af47d0",
    "scrolled": true
   },
   "outputs": [
    {
     "data": {
      "text/plain": [
       "array([[1, 0, 0, 0, 0, 0],\n",
       "       [0, 0, 1, 0, 0, 0],\n",
       "       [0, 0, 1, 0, 0, 0],\n",
       "       [0, 0, 0, 0, 0, 1],\n",
       "       [0, 0, 1, 0, 0, 0],\n",
       "       [0, 0, 0, 0, 0, 1],\n",
       "       [0, 1, 0, 0, 0, 0],\n",
       "       [0, 0, 0, 0, 1, 0],\n",
       "       [0, 0, 1, 0, 0, 0],\n",
       "       [0, 1, 0, 0, 0, 0]])"
      ]
     },
     "execution_count": 132,
     "metadata": {},
     "output_type": "execute_result"
    }
   ],
   "source": [
    "test_labels[:10].astype(int)"
   ]
  },
  {
   "cell_type": "code",
   "execution_count": null,
   "metadata": {},
   "outputs": [],
   "source": []
  }
 ],
 "metadata": {
  "colab": {
   "collapsed_sections": [],
   "name": "CNN for AED",
   "provenance": [],
   "version": "0.3.2"
  },
  "kernelspec": {
   "display_name": "Python 3",
   "language": "python",
   "name": "python3"
  },
  "language_info": {
   "codemirror_mode": {
    "name": "ipython",
    "version": 3
   },
   "file_extension": ".py",
   "mimetype": "text/x-python",
   "name": "python",
   "nbconvert_exporter": "python",
   "pygments_lexer": "ipython3",
   "version": "3.6.4"
  }
 },
 "nbformat": 4,
 "nbformat_minor": 1
}
