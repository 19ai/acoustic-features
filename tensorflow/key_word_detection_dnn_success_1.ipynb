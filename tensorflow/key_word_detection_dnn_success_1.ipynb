{
 "cells": [
  {
   "cell_type": "markdown",
   "metadata": {
    "colab_type": "text",
    "id": "WwQ-dEltkl5Q"
   },
   "source": [
    "# DNN for key word detection"
   ]
  },
  {
   "cell_type": "code",
   "execution_count": 12,
   "metadata": {
    "colab": {
     "base_uri": "https://localhost:8080/",
     "height": 34
    },
    "colab_type": "code",
    "id": "VEJyQsGpV3ug",
    "outputId": "3929aa39-3383-4791-e065-3622e6781181"
   },
   "outputs": [
    {
     "name": "stdout",
     "output_type": "stream",
     "text": [
      "(1260, 64, 12, 1)\n",
      "(540, 64, 12, 1)\n"
     ]
    },
    {
     "data": {
      "text/plain": [
       "(64, 12)"
      ]
     },
     "execution_count": 12,
     "metadata": {},
     "output_type": "execute_result"
    }
   ],
   "source": [
    "DATASET_FOLDER = '../dataset/data_restaurant'\n",
    "\n",
    "%run ../oscilloscope/script/dataset.py\n",
    "\n",
    "ds = DataSet(DATASET_FOLDER)\n",
    "train_data, train_labels, test_data, test_labels = ds.generate(flatten=True)['mfcc']\n",
    "shape = ds.shape\n",
    "class_labels = ds.class_labels\n",
    "shape"
   ]
  },
  {
   "cell_type": "code",
   "execution_count": 13,
   "metadata": {},
   "outputs": [
    {
     "data": {
      "text/plain": [
       "((1260, 768), (540, 768))"
      ]
     },
     "execution_count": 13,
     "metadata": {},
     "output_type": "execute_result"
    },
    {
     "data": {
      "image/png": "[encoded data removed]",
      "text/plain": [
       "<matplotlib.figure.Figure at 0x166b22f8c50>"
      ]
     },
     "metadata": {},
     "output_type": "display_data"
    }
   ],
   "source": [
    "import matplotlib.pyplot as plt\n",
    "%matplotlib inline\n",
    "\n",
    "plt.imshow(np.rot90(train_data[0].reshape(ds.shape)), cmap='seismic')\n",
    "train_data.shape, test_data.shape"
   ]
  },
  {
   "cell_type": "markdown",
   "metadata": {
    "colab_type": "text",
    "id": "VfUmgxxVk6uM"
   },
   "source": [
    "### DNN model"
   ]
  },
  {
   "cell_type": "code",
   "execution_count": 33,
   "metadata": {
    "colab": {
     "base_uri": "https://localhost:8080/",
     "height": 509
    },
    "colab_type": "code",
    "id": "B2Xg6tGLdMKP",
    "outputId": "ae3daa32-9dbf-4d8b-9a11-7f596dd2e4a6"
   },
   "outputs": [
    {
     "name": "stdout",
     "output_type": "stream",
     "text": [
      "_________________________________________________________________\n",
      "Layer (type)                 Output Shape              Param #   \n",
      "=================================================================\n",
      "dense_17 (Dense)             (None, 100)               76900     \n",
      "_________________________________________________________________\n",
      "dropout_12 (Dropout)         (None, 100)               0         \n",
      "_________________________________________________________________\n",
      "dense_18 (Dense)             (None, 100)               10100     \n",
      "_________________________________________________________________\n",
      "dropout_13 (Dropout)         (None, 100)               0         \n",
      "_________________________________________________________________\n",
      "dense_19 (Dense)             (None, 18)                1818      \n",
      "=================================================================\n",
      "Total params: 88,818\n",
      "Trainable params: 88,818\n",
      "Non-trainable params: 0\n",
      "_________________________________________________________________\n"
     ]
    }
   ],
   "source": [
    "from keras import layers\n",
    "from keras import models\n",
    "\n",
    "model = models.Sequential()\n",
    "\n",
    "model.add(layers.Dense(100, input_dim=shape[0]*shape[1], activation='relu'))\n",
    "model.add(layers.Dropout(0.25))\n",
    "model.add(layers.Dense(100, input_dim=shape[0]*shape[1], activation='relu'))\n",
    "model.add(layers.Dropout(0.25))\n",
    "model.add(layers.Dense(len(class_labels), activation='softmax'))\n",
    "\n",
    "model.summary()"
   ]
  },
  {
   "cell_type": "code",
   "execution_count": 34,
   "metadata": {
    "colab": {},
    "colab_type": "code",
    "id": "nRr1L_4ogL6i"
   },
   "outputs": [],
   "source": [
    "model.compile(optimizer='rmsprop', loss='categorical_crossentropy', metrics=['accuracy'])"
   ]
  },
  {
   "cell_type": "code",
   "execution_count": 35,
   "metadata": {},
   "outputs": [
    {
     "data": {
      "image/svg+xml": [
       "<svg height=\"410pt\" viewBox=\"0.00 0.00 145.00 410.00\" width=\"145pt\" xmlns=\"http://www.w3.org/2000/svg\" xmlns:xlink=\"http://www.w3.org/1999/xlink\">\n",
       "<g class=\"graph\" id=\"graph0\" transform=\"scale(1 1) rotate(0) translate(4 406)\">\n",
       "<title>G</title>\n",
       "<polygon fill=\"white\" points=\"-4,4 -4,-406 141,-406 141,4 -4,4\" stroke=\"none\"/>\n",
       "<!-- 1540625826984 -->\n",
       "<g class=\"node\" id=\"node1\"><title>1540625826984</title>\n",
       "<polygon fill=\"none\" points=\"13,-292.5 13,-328.5 124,-328.5 124,-292.5 13,-292.5\" stroke=\"black\"/>\n",
       "<text font-family=\"Times New Roman,serif\" font-size=\"14.00\" text-anchor=\"middle\" x=\"68.5\" y=\"-306.8\">dense_17: Dense</text>\n",
       "</g>\n",
       "<!-- 1540625826928 -->\n",
       "<g class=\"node\" id=\"node2\"><title>1540625826928</title>\n",
       "<polygon fill=\"none\" points=\"0,-219.5 0,-255.5 137,-255.5 137,-219.5 0,-219.5\" stroke=\"black\"/>\n",
       "<text font-family=\"Times New Roman,serif\" font-size=\"14.00\" text-anchor=\"middle\" x=\"68.5\" y=\"-233.8\">dropout_12: Dropout</text>\n",
       "</g>\n",
       "<!-- 1540625826984&#45;&gt;1540625826928 -->\n",
       "<g class=\"edge\" id=\"edge2\"><title>1540625826984-&gt;1540625826928</title>\n",
       "<path d=\"M68.5,-292.313C68.5,-284.289 68.5,-274.547 68.5,-265.569\" fill=\"none\" stroke=\"black\"/>\n",
       "<polygon fill=\"black\" points=\"72.0001,-265.529 68.5,-255.529 65.0001,-265.529 72.0001,-265.529\" stroke=\"black\"/>\n",
       "</g>\n",
       "<!-- 1540625828048 -->\n",
       "<g class=\"node\" id=\"node3\"><title>1540625828048</title>\n",
       "<polygon fill=\"none\" points=\"13,-146.5 13,-182.5 124,-182.5 124,-146.5 13,-146.5\" stroke=\"black\"/>\n",
       "<text font-family=\"Times New Roman,serif\" font-size=\"14.00\" text-anchor=\"middle\" x=\"68.5\" y=\"-160.8\">dense_18: Dense</text>\n",
       "</g>\n",
       "<!-- 1540625826928&#45;&gt;1540625828048 -->\n",
       "<g class=\"edge\" id=\"edge3\"><title>1540625826928-&gt;1540625828048</title>\n",
       "<path d=\"M68.5,-219.313C68.5,-211.289 68.5,-201.547 68.5,-192.569\" fill=\"none\" stroke=\"black\"/>\n",
       "<polygon fill=\"black\" points=\"72.0001,-192.529 68.5,-182.529 65.0001,-192.529 72.0001,-192.529\" stroke=\"black\"/>\n",
       "</g>\n",
       "<!-- 1540625814304 -->\n",
       "<g class=\"node\" id=\"node4\"><title>1540625814304</title>\n",
       "<polygon fill=\"none\" points=\"0,-73.5 0,-109.5 137,-109.5 137,-73.5 0,-73.5\" stroke=\"black\"/>\n",
       "<text font-family=\"Times New Roman,serif\" font-size=\"14.00\" text-anchor=\"middle\" x=\"68.5\" y=\"-87.8\">dropout_13: Dropout</text>\n",
       "</g>\n",
       "<!-- 1540625828048&#45;&gt;1540625814304 -->\n",
       "<g class=\"edge\" id=\"edge4\"><title>1540625828048-&gt;1540625814304</title>\n",
       "<path d=\"M68.5,-146.313C68.5,-138.289 68.5,-128.547 68.5,-119.569\" fill=\"none\" stroke=\"black\"/>\n",
       "<polygon fill=\"black\" points=\"72.0001,-119.529 68.5,-109.529 65.0001,-119.529 72.0001,-119.529\" stroke=\"black\"/>\n",
       "</g>\n",
       "<!-- 1540625814472 -->\n",
       "<g class=\"node\" id=\"node5\"><title>1540625814472</title>\n",
       "<polygon fill=\"none\" points=\"13,-0.5 13,-36.5 124,-36.5 124,-0.5 13,-0.5\" stroke=\"black\"/>\n",
       "<text font-family=\"Times New Roman,serif\" font-size=\"14.00\" text-anchor=\"middle\" x=\"68.5\" y=\"-14.8\">dense_19: Dense</text>\n",
       "</g>\n",
       "<!-- 1540625814304&#45;&gt;1540625814472 -->\n",
       "<g class=\"edge\" id=\"edge5\"><title>1540625814304-&gt;1540625814472</title>\n",
       "<path d=\"M68.5,-73.3129C68.5,-65.2895 68.5,-55.5475 68.5,-46.5691\" fill=\"none\" stroke=\"black\"/>\n",
       "<polygon fill=\"black\" points=\"72.0001,-46.5288 68.5,-36.5288 65.0001,-46.5289 72.0001,-46.5288\" stroke=\"black\"/>\n",
       "</g>\n",
       "<!-- 1540625827320 -->\n",
       "<g class=\"node\" id=\"node6\"><title>1540625827320</title>\n",
       "<polygon fill=\"none\" points=\"16.5,-365.5 16.5,-401.5 120.5,-401.5 120.5,-365.5 16.5,-365.5\" stroke=\"black\"/>\n",
       "<text font-family=\"Times New Roman,serif\" font-size=\"14.00\" text-anchor=\"middle\" x=\"68.5\" y=\"-379.8\">1540625827320</text>\n",
       "</g>\n",
       "<!-- 1540625827320&#45;&gt;1540625826984 -->\n",
       "<g class=\"edge\" id=\"edge1\"><title>1540625827320-&gt;1540625826984</title>\n",
       "<path d=\"M68.5,-365.313C68.5,-357.289 68.5,-347.547 68.5,-338.569\" fill=\"none\" stroke=\"black\"/>\n",
       "<polygon fill=\"black\" points=\"72.0001,-338.529 68.5,-328.529 65.0001,-338.529 72.0001,-338.529\" stroke=\"black\"/>\n",
       "</g>\n",
       "</g>\n",
       "</svg>"
      ],
      "text/plain": [
       "<IPython.core.display.SVG object>"
      ]
     },
     "execution_count": 35,
     "metadata": {},
     "output_type": "execute_result"
    }
   ],
   "source": [
    "from IPython.display import SVG\n",
    "from keras.utils.vis_utils import model_to_dot\n",
    "\n",
    "SVG(model_to_dot(model).create(prog='dot', format='svg'))"
   ]
  },
  {
   "cell_type": "markdown",
   "metadata": {
    "colab_type": "text",
    "id": "TfypWUJIlFkz"
   },
   "source": [
    "## Training DNN"
   ]
  },
  {
   "cell_type": "code",
   "execution_count": 36,
   "metadata": {
    "colab": {
     "base_uri": "https://localhost:8080/",
     "height": 931
    },
    "colab_type": "code",
    "id": "zsdmu-ggfvr1",
    "outputId": "77a52558-8ecc-4fc5-e0cb-2b86a75df4c6",
    "scrolled": false
   },
   "outputs": [
    {
     "name": "stdout",
     "output_type": "stream",
     "text": [
      "Train on 1260 samples, validate on 540 samples\n",
      "Epoch 1/200\n",
      "1260/1260 [==============================] - 1s 462us/step - loss: 12.1732 - acc: 0.1452 - val_loss: 8.1796 - val_acc: 0.2963\n",
      "Epoch 2/200\n",
      "1260/1260 [==============================] - 0s 101us/step - loss: 6.8453 - acc: 0.2817 - val_loss: 2.0318 - val_acc: 0.5704\n",
      "Epoch 3/200\n",
      "1260/1260 [==============================] - 0s 113us/step - loss: 2.9004 - acc: 0.3849 - val_loss: 1.3330 - val_acc: 0.6333\n",
      "Epoch 4/200\n",
      "1260/1260 [==============================] - 0s 89us/step - loss: 1.8756 - acc: 0.5143 - val_loss: 1.1039 - val_acc: 0.7167\n",
      "Epoch 5/200\n",
      "1260/1260 [==============================] - 0s 90us/step - loss: 1.3681 - acc: 0.6151 - val_loss: 0.8679 - val_acc: 0.7519\n",
      "Epoch 6/200\n",
      "1260/1260 [==============================] - 0s 88us/step - loss: 1.1302 - acc: 0.6706 - val_loss: 0.7931 - val_acc: 0.8130\n",
      "Epoch 7/200\n",
      "1260/1260 [==============================] - 0s 89us/step - loss: 0.9597 - acc: 0.7317 - val_loss: 0.6491 - val_acc: 0.8519\n",
      "Epoch 8/200\n",
      "1260/1260 [==============================] - 0s 88us/step - loss: 0.7446 - acc: 0.7833 - val_loss: 0.5588 - val_acc: 0.8630\n",
      "Epoch 9/200\n",
      "1260/1260 [==============================] - 0s 98us/step - loss: 0.6892 - acc: 0.8087 - val_loss: 0.4704 - val_acc: 0.8870\n",
      "Epoch 10/200\n",
      "1260/1260 [==============================] - 0s 86us/step - loss: 0.6638 - acc: 0.8214 - val_loss: 0.4792 - val_acc: 0.8963\n",
      "Epoch 11/200\n",
      "1260/1260 [==============================] - 0s 85us/step - loss: 0.5508 - acc: 0.8421 - val_loss: 0.4540 - val_acc: 0.8852\n",
      "Epoch 12/200\n",
      "1260/1260 [==============================] - 0s 93us/step - loss: 0.5402 - acc: 0.8595 - val_loss: 0.4336 - val_acc: 0.9093\n",
      "Epoch 13/200\n",
      "1260/1260 [==============================] - 0s 89us/step - loss: 0.4157 - acc: 0.8786 - val_loss: 0.4846 - val_acc: 0.8796\n",
      "Epoch 14/200\n",
      "1260/1260 [==============================] - 0s 111us/step - loss: 0.4585 - acc: 0.8817 - val_loss: 0.3143 - val_acc: 0.9296\n",
      "Epoch 15/200\n",
      "1260/1260 [==============================] - 0s 102us/step - loss: 0.3918 - acc: 0.8937 - val_loss: 0.3147 - val_acc: 0.9315\n",
      "Epoch 16/200\n",
      "1260/1260 [==============================] - 0s 108us/step - loss: 0.3464 - acc: 0.9016 - val_loss: 0.4002 - val_acc: 0.9093\n",
      "Epoch 17/200\n",
      "1260/1260 [==============================] - 0s 104us/step - loss: 0.3029 - acc: 0.9198 - val_loss: 0.3919 - val_acc: 0.9167\n",
      "Epoch 18/200\n",
      "1260/1260 [==============================] - 0s 104us/step - loss: 0.2330 - acc: 0.9405 - val_loss: 0.5490 - val_acc: 0.8981\n",
      "Epoch 19/200\n",
      "1260/1260 [==============================] - 0s 109us/step - loss: 0.3403 - acc: 0.9135 - val_loss: 0.3088 - val_acc: 0.9333\n",
      "Epoch 20/200\n",
      "1260/1260 [==============================] - 0s 92us/step - loss: 0.3239 - acc: 0.9111 - val_loss: 0.3487 - val_acc: 0.9222\n",
      "Epoch 21/200\n",
      "1260/1260 [==============================] - 0s 92us/step - loss: 0.2870 - acc: 0.9270 - val_loss: 0.2879 - val_acc: 0.9389\n",
      "Epoch 22/200\n",
      "1260/1260 [==============================] - 0s 139us/step - loss: 0.2514 - acc: 0.9333 - val_loss: 0.3937 - val_acc: 0.9185\n",
      "Epoch 23/200\n",
      "1260/1260 [==============================] - 0s 143us/step - loss: 0.2223 - acc: 0.9405 - val_loss: 0.3000 - val_acc: 0.9241\n",
      "Epoch 24/200\n",
      "1260/1260 [==============================] - 0s 119us/step - loss: 0.2080 - acc: 0.9437 - val_loss: 0.2247 - val_acc: 0.9500\n",
      "Epoch 25/200\n",
      "1260/1260 [==============================] - 0s 105us/step - loss: 0.2707 - acc: 0.9365 - val_loss: 0.3351 - val_acc: 0.9463\n",
      "Epoch 26/200\n",
      "1260/1260 [==============================] - 0s 114us/step - loss: 0.1709 - acc: 0.9532 - val_loss: 0.3797 - val_acc: 0.9352\n",
      "Epoch 27/200\n",
      "1260/1260 [==============================] - 0s 91us/step - loss: 0.2341 - acc: 0.9437 - val_loss: 0.3231 - val_acc: 0.9444\n",
      "Epoch 28/200\n",
      "1260/1260 [==============================] - 0s 93us/step - loss: 0.2388 - acc: 0.9468 - val_loss: 0.2969 - val_acc: 0.9537\n",
      "Epoch 29/200\n",
      "1260/1260 [==============================] - 0s 176us/step - loss: 0.1654 - acc: 0.9563 - val_loss: 0.4205 - val_acc: 0.9352\n",
      "Epoch 30/200\n",
      "1260/1260 [==============================] - 0s 131us/step - loss: 0.2063 - acc: 0.9516 - val_loss: 0.3337 - val_acc: 0.9519\n",
      "Epoch 31/200\n",
      "1260/1260 [==============================] - 0s 102us/step - loss: 0.2200 - acc: 0.9437 - val_loss: 0.3569 - val_acc: 0.9333\n",
      "Epoch 32/200\n",
      "1260/1260 [==============================] - 0s 105us/step - loss: 0.1626 - acc: 0.9611 - val_loss: 0.2865 - val_acc: 0.9426\n",
      "Epoch 33/200\n",
      "1260/1260 [==============================] - 0s 102us/step - loss: 0.2244 - acc: 0.9452 - val_loss: 0.3633 - val_acc: 0.9407\n",
      "Epoch 34/200\n",
      "1260/1260 [==============================] - 0s 106us/step - loss: 0.2255 - acc: 0.9516 - val_loss: 0.3418 - val_acc: 0.9463\n",
      "Epoch 35/200\n",
      "1260/1260 [==============================] - 0s 108us/step - loss: 0.1082 - acc: 0.9714 - val_loss: 0.3243 - val_acc: 0.9389\n",
      "Epoch 36/200\n",
      "1260/1260 [==============================] - 0s 104us/step - loss: 0.1228 - acc: 0.9714 - val_loss: 0.3323 - val_acc: 0.9407\n",
      "Epoch 37/200\n",
      "1260/1260 [==============================] - 0s 107us/step - loss: 0.0926 - acc: 0.9730 - val_loss: 0.3805 - val_acc: 0.9481\n",
      "Epoch 38/200\n",
      "1260/1260 [==============================] - 0s 139us/step - loss: 0.1908 - acc: 0.9603 - val_loss: 0.3295 - val_acc: 0.9500\n",
      "Epoch 39/200\n",
      "1260/1260 [==============================] - 0s 168us/step - loss: 0.1537 - acc: 0.9579 - val_loss: 0.2694 - val_acc: 0.9500\n",
      "Epoch 40/200\n",
      "1260/1260 [==============================] - 0s 150us/step - loss: 0.1559 - acc: 0.9675 - val_loss: 0.2841 - val_acc: 0.9500\n",
      "Epoch 41/200\n",
      "1260/1260 [==============================] - 0s 155us/step - loss: 0.1497 - acc: 0.9643 - val_loss: 0.3190 - val_acc: 0.9537\n",
      "Epoch 42/200\n",
      "1260/1260 [==============================] - 0s 133us/step - loss: 0.1168 - acc: 0.9683 - val_loss: 0.3076 - val_acc: 0.9574\n",
      "Epoch 43/200\n",
      "1260/1260 [==============================] - 0s 93us/step - loss: 0.1399 - acc: 0.9563 - val_loss: 0.3018 - val_acc: 0.9574\n",
      "Epoch 44/200\n",
      "1260/1260 [==============================] - 0s 108us/step - loss: 0.0918 - acc: 0.9746 - val_loss: 0.2280 - val_acc: 0.9685\n",
      "Epoch 45/200\n",
      "1260/1260 [==============================] - 0s 110us/step - loss: 0.0973 - acc: 0.9754 - val_loss: 0.2282 - val_acc: 0.9574\n",
      "Epoch 46/200\n",
      "1260/1260 [==============================] - 0s 107us/step - loss: 0.1557 - acc: 0.9587 - val_loss: 0.3140 - val_acc: 0.9611\n",
      "Epoch 47/200\n",
      "1260/1260 [==============================] - 0s 113us/step - loss: 0.0869 - acc: 0.9794 - val_loss: 0.2621 - val_acc: 0.9667\n",
      "Epoch 48/200\n",
      "1260/1260 [==============================] - 0s 106us/step - loss: 0.2026 - acc: 0.9587 - val_loss: 0.2531 - val_acc: 0.9611\n",
      "Epoch 49/200\n",
      "1260/1260 [==============================] - 0s 103us/step - loss: 0.1102 - acc: 0.9746 - val_loss: 0.2367 - val_acc: 0.9574\n",
      "Epoch 50/200\n",
      "1260/1260 [==============================] - 0s 116us/step - loss: 0.1342 - acc: 0.9690 - val_loss: 0.3487 - val_acc: 0.9407\n",
      "Epoch 51/200\n",
      "1260/1260 [==============================] - 0s 104us/step - loss: 0.1272 - acc: 0.9690 - val_loss: 0.2643 - val_acc: 0.9574\n",
      "Epoch 52/200\n",
      "1260/1260 [==============================] - 0s 108us/step - loss: 0.1014 - acc: 0.9754 - val_loss: 0.2606 - val_acc: 0.9611\n",
      "Epoch 53/200\n",
      "1260/1260 [==============================] - 0s 105us/step - loss: 0.0844 - acc: 0.9786 - val_loss: 0.2832 - val_acc: 0.9574\n",
      "Epoch 54/200\n",
      "1260/1260 [==============================] - 0s 108us/step - loss: 0.1099 - acc: 0.9794 - val_loss: 0.3613 - val_acc: 0.9519\n",
      "Epoch 55/200\n",
      "1260/1260 [==============================] - 0s 108us/step - loss: 0.1077 - acc: 0.9754 - val_loss: 0.4623 - val_acc: 0.9407\n",
      "Epoch 56/200\n",
      "1260/1260 [==============================] - 0s 137us/step - loss: 0.0782 - acc: 0.9810 - val_loss: 0.3617 - val_acc: 0.9500\n",
      "Epoch 57/200\n",
      "1260/1260 [==============================] - 0s 164us/step - loss: 0.1536 - acc: 0.9683 - val_loss: 0.3733 - val_acc: 0.9500\n",
      "Epoch 58/200\n",
      "1260/1260 [==============================] - 0s 127us/step - loss: 0.0926 - acc: 0.9817 - val_loss: 0.3417 - val_acc: 0.9537\n",
      "Epoch 59/200\n",
      "1260/1260 [==============================] - 0s 107us/step - loss: 0.1092 - acc: 0.9810 - val_loss: 0.3541 - val_acc: 0.9519\n",
      "Epoch 60/200\n",
      "1260/1260 [==============================] - 0s 117us/step - loss: 0.0742 - acc: 0.9849 - val_loss: 0.3572 - val_acc: 0.9500\n",
      "Epoch 61/200\n",
      "1260/1260 [==============================] - 0s 104us/step - loss: 0.0972 - acc: 0.9778 - val_loss: 0.3653 - val_acc: 0.9537\n",
      "Epoch 62/200\n",
      "1260/1260 [==============================] - 0s 125us/step - loss: 0.1152 - acc: 0.9778 - val_loss: 0.3010 - val_acc: 0.9630\n",
      "Epoch 63/200\n",
      "1260/1260 [==============================] - 0s 157us/step - loss: 0.1358 - acc: 0.9794 - val_loss: 0.3133 - val_acc: 0.9574\n",
      "Epoch 64/200\n",
      "1260/1260 [==============================] - 0s 160us/step - loss: 0.1084 - acc: 0.9770 - val_loss: 0.3705 - val_acc: 0.9537\n",
      "Epoch 65/200\n",
      "1260/1260 [==============================] - 0s 158us/step - loss: 0.1380 - acc: 0.9730 - val_loss: 0.3161 - val_acc: 0.9574\n",
      "Epoch 66/200\n",
      "1260/1260 [==============================] - 0s 158us/step - loss: 0.1181 - acc: 0.9746 - val_loss: 0.4169 - val_acc: 0.9444\n",
      "Epoch 67/200\n",
      "1260/1260 [==============================] - 0s 134us/step - loss: 0.1082 - acc: 0.9754 - val_loss: 0.3931 - val_acc: 0.9500\n",
      "Epoch 68/200\n",
      "1260/1260 [==============================] - 0s 125us/step - loss: 0.1623 - acc: 0.9722 - val_loss: 0.4241 - val_acc: 0.9537\n",
      "Epoch 69/200\n",
      "1260/1260 [==============================] - 0s 104us/step - loss: 0.0686 - acc: 0.9794 - val_loss: 0.4285 - val_acc: 0.9519\n",
      "Epoch 70/200\n",
      "1260/1260 [==============================] - 0s 102us/step - loss: 0.0843 - acc: 0.9817 - val_loss: 0.4218 - val_acc: 0.9463\n",
      "Epoch 71/200\n",
      "1260/1260 [==============================] - 0s 104us/step - loss: 0.1069 - acc: 0.9754 - val_loss: 0.4201 - val_acc: 0.9537\n",
      "Epoch 72/200\n",
      "1260/1260 [==============================] - 0s 105us/step - loss: 0.1068 - acc: 0.9786 - val_loss: 0.4782 - val_acc: 0.9500\n",
      "Epoch 73/200\n",
      "1260/1260 [==============================] - 0s 104us/step - loss: 0.1348 - acc: 0.9778 - val_loss: 0.3942 - val_acc: 0.9519\n",
      "Epoch 74/200\n",
      "1260/1260 [==============================] - 0s 114us/step - loss: 0.1110 - acc: 0.9841 - val_loss: 0.4261 - val_acc: 0.9481\n",
      "Epoch 75/200\n",
      "1260/1260 [==============================] - 0s 112us/step - loss: 0.1228 - acc: 0.9762 - val_loss: 0.4530 - val_acc: 0.9500\n",
      "Epoch 76/200\n",
      "1260/1260 [==============================] - 0s 104us/step - loss: 0.0977 - acc: 0.9794 - val_loss: 0.4415 - val_acc: 0.9593\n",
      "Epoch 77/200\n",
      "1260/1260 [==============================] - 0s 112us/step - loss: 0.1401 - acc: 0.9714 - val_loss: 0.3352 - val_acc: 0.9537\n",
      "Epoch 78/200\n",
      "1260/1260 [==============================] - 0s 157us/step - loss: 0.0807 - acc: 0.9833 - val_loss: 0.3954 - val_acc: 0.9500\n",
      "Epoch 79/200\n",
      "1260/1260 [==============================] - 0s 146us/step - loss: 0.0885 - acc: 0.9833 - val_loss: 0.3270 - val_acc: 0.9648\n",
      "Epoch 80/200\n",
      "1260/1260 [==============================] - 0s 147us/step - loss: 0.0698 - acc: 0.9841 - val_loss: 0.4381 - val_acc: 0.9444\n",
      "Epoch 81/200\n",
      "1260/1260 [==============================] - 0s 133us/step - loss: 0.0787 - acc: 0.9833 - val_loss: 0.3799 - val_acc: 0.9556\n",
      "Epoch 82/200\n",
      "1260/1260 [==============================] - 0s 109us/step - loss: 0.0837 - acc: 0.9833 - val_loss: 0.3292 - val_acc: 0.9593\n",
      "Epoch 83/200\n",
      "1260/1260 [==============================] - 0s 113us/step - loss: 0.1527 - acc: 0.9754 - val_loss: 0.3802 - val_acc: 0.9500\n",
      "Epoch 84/200\n",
      "1260/1260 [==============================] - 0s 108us/step - loss: 0.0748 - acc: 0.9857 - val_loss: 0.3361 - val_acc: 0.9574\n",
      "Epoch 85/200\n",
      "1260/1260 [==============================] - 0s 125us/step - loss: 0.0809 - acc: 0.9857 - val_loss: 0.4237 - val_acc: 0.9500\n",
      "Epoch 86/200\n",
      "1260/1260 [==============================] - 0s 155us/step - loss: 0.1213 - acc: 0.9786 - val_loss: 0.3360 - val_acc: 0.9593\n",
      "Epoch 87/200\n",
      "1260/1260 [==============================] - 0s 161us/step - loss: 0.0530 - acc: 0.9889 - val_loss: 0.4158 - val_acc: 0.9556\n",
      "Epoch 88/200\n",
      "1260/1260 [==============================] - 0s 171us/step - loss: 0.1096 - acc: 0.9794 - val_loss: 0.4142 - val_acc: 0.9500\n",
      "Epoch 89/200\n",
      "1260/1260 [==============================] - 0s 158us/step - loss: 0.0558 - acc: 0.9929 - val_loss: 0.3691 - val_acc: 0.9574\n",
      "Epoch 90/200\n",
      "1260/1260 [==============================] - 0s 129us/step - loss: 0.0681 - acc: 0.9865 - val_loss: 0.3811 - val_acc: 0.9574\n",
      "Epoch 91/200\n",
      "1260/1260 [==============================] - 0s 108us/step - loss: 0.0868 - acc: 0.9857 - val_loss: 0.3431 - val_acc: 0.9630\n",
      "Epoch 92/200\n",
      "1260/1260 [==============================] - 0s 110us/step - loss: 0.1093 - acc: 0.9770 - val_loss: 0.2956 - val_acc: 0.9611\n",
      "Epoch 93/200\n",
      "1260/1260 [==============================] - 0s 110us/step - loss: 0.0484 - acc: 0.9889 - val_loss: 0.3425 - val_acc: 0.9648\n",
      "Epoch 94/200\n",
      "1260/1260 [==============================] - 0s 109us/step - loss: 0.0913 - acc: 0.9825 - val_loss: 0.3732 - val_acc: 0.9611\n",
      "Epoch 95/200\n",
      "1260/1260 [==============================] - 0s 114us/step - loss: 0.0670 - acc: 0.9817 - val_loss: 0.3860 - val_acc: 0.9556\n",
      "Epoch 96/200\n",
      "1260/1260 [==============================] - 0s 106us/step - loss: 0.1181 - acc: 0.9841 - val_loss: 0.3711 - val_acc: 0.9556\n",
      "Epoch 97/200\n",
      "1260/1260 [==============================] - 0s 116us/step - loss: 0.1036 - acc: 0.9817 - val_loss: 0.4446 - val_acc: 0.9444\n",
      "Epoch 98/200\n",
      "1260/1260 [==============================] - 0s 111us/step - loss: 0.0582 - acc: 0.9873 - val_loss: 0.3342 - val_acc: 0.9593\n",
      "Epoch 99/200\n",
      "1260/1260 [==============================] - 0s 103us/step - loss: 0.0743 - acc: 0.9849 - val_loss: 0.3517 - val_acc: 0.9630\n",
      "Epoch 100/200\n",
      "1260/1260 [==============================] - 0s 118us/step - loss: 0.0806 - acc: 0.9881 - val_loss: 0.3446 - val_acc: 0.9593\n",
      "Epoch 101/200\n",
      "1260/1260 [==============================] - 0s 112us/step - loss: 0.0773 - acc: 0.9849 - val_loss: 0.3952 - val_acc: 0.9593\n",
      "Epoch 102/200\n",
      "1260/1260 [==============================] - 0s 118us/step - loss: 0.1056 - acc: 0.9849 - val_loss: 0.4109 - val_acc: 0.9574\n",
      "Epoch 103/200\n",
      "1260/1260 [==============================] - 0s 153us/step - loss: 0.0753 - acc: 0.9913 - val_loss: 0.4248 - val_acc: 0.9537\n",
      "Epoch 104/200\n",
      "1260/1260 [==============================] - 0s 153us/step - loss: 0.0985 - acc: 0.9810 - val_loss: 0.3833 - val_acc: 0.9648\n",
      "Epoch 105/200\n",
      "1260/1260 [==============================] - 0s 161us/step - loss: 0.0518 - acc: 0.9905 - val_loss: 0.3940 - val_acc: 0.9593\n",
      "Epoch 106/200\n",
      "1260/1260 [==============================] - 0s 159us/step - loss: 0.0704 - acc: 0.9897 - val_loss: 0.4327 - val_acc: 0.9519\n",
      "Epoch 107/200\n",
      "1260/1260 [==============================] - 0s 116us/step - loss: 0.1138 - acc: 0.9849 - val_loss: 0.4233 - val_acc: 0.9500\n",
      "Epoch 108/200\n",
      "1260/1260 [==============================] - 0s 114us/step - loss: 0.1245 - acc: 0.9810 - val_loss: 0.3736 - val_acc: 0.9611\n",
      "Epoch 109/200\n",
      "1260/1260 [==============================] - 0s 112us/step - loss: 0.0566 - acc: 0.9889 - val_loss: 0.4691 - val_acc: 0.9537\n",
      "Epoch 110/200\n",
      "1260/1260 [==============================] - 0s 112us/step - loss: 0.0319 - acc: 0.9944 - val_loss: 0.3687 - val_acc: 0.9648\n",
      "Epoch 111/200\n",
      "1260/1260 [==============================] - 0s 117us/step - loss: 0.0722 - acc: 0.9889 - val_loss: 0.4661 - val_acc: 0.9556\n",
      "Epoch 112/200\n",
      "1260/1260 [==============================] - 0s 113us/step - loss: 0.0931 - acc: 0.9857 - val_loss: 0.4791 - val_acc: 0.9519\n",
      "Epoch 113/200\n",
      "1260/1260 [==============================] - 0s 116us/step - loss: 0.1113 - acc: 0.9810 - val_loss: 0.4963 - val_acc: 0.9481\n",
      "Epoch 114/200\n",
      "1260/1260 [==============================] - 0s 109us/step - loss: 0.0575 - acc: 0.9889 - val_loss: 0.3591 - val_acc: 0.9630\n",
      "Epoch 115/200\n",
      "1260/1260 [==============================] - 0s 152us/step - loss: 0.0725 - acc: 0.9857 - val_loss: 0.3851 - val_acc: 0.9593\n",
      "Epoch 116/200\n",
      "1260/1260 [==============================] - 0s 155us/step - loss: 0.1320 - acc: 0.9802 - val_loss: 0.3701 - val_acc: 0.9667\n",
      "Epoch 117/200\n",
      "1260/1260 [==============================] - 0s 158us/step - loss: 0.0438 - acc: 0.9913 - val_loss: 0.3916 - val_acc: 0.9593\n",
      "Epoch 118/200\n",
      "1260/1260 [==============================] - 0s 157us/step - loss: 0.0285 - acc: 0.9929 - val_loss: 0.4343 - val_acc: 0.9574\n",
      "Epoch 119/200\n"
     ]
    },
    {
     "name": "stdout",
     "output_type": "stream",
     "text": [
      "1260/1260 [==============================] - 0s 126us/step - loss: 0.1260 - acc: 0.9833 - val_loss: 0.4843 - val_acc: 0.9407\n",
      "Epoch 120/200\n",
      "1260/1260 [==============================] - 0s 117us/step - loss: 0.0739 - acc: 0.9889 - val_loss: 0.4386 - val_acc: 0.9574\n",
      "Epoch 121/200\n",
      "1260/1260 [==============================] - 0s 90us/step - loss: 0.0306 - acc: 0.9937 - val_loss: 0.3555 - val_acc: 0.9537\n",
      "Epoch 122/200\n",
      "1260/1260 [==============================] - 0s 103us/step - loss: 0.0782 - acc: 0.9849 - val_loss: 0.3301 - val_acc: 0.9648\n",
      "Epoch 123/200\n",
      "1260/1260 [==============================] - 0s 104us/step - loss: 0.0962 - acc: 0.9865 - val_loss: 0.3453 - val_acc: 0.9648\n",
      "Epoch 124/200\n",
      "1260/1260 [==============================] - 0s 104us/step - loss: 0.0883 - acc: 0.9881 - val_loss: 0.3067 - val_acc: 0.9648\n",
      "Epoch 125/200\n",
      "1260/1260 [==============================] - 0s 103us/step - loss: 0.0750 - acc: 0.9897 - val_loss: 0.3105 - val_acc: 0.9722\n",
      "Epoch 126/200\n",
      "1260/1260 [==============================] - 0s 112us/step - loss: 0.1041 - acc: 0.9825 - val_loss: 0.3685 - val_acc: 0.9593\n",
      "Epoch 127/200\n",
      "1260/1260 [==============================] - 0s 161us/step - loss: 0.0436 - acc: 0.9881 - val_loss: 0.3750 - val_acc: 0.9519\n",
      "Epoch 128/200\n",
      "1260/1260 [==============================] - 0s 141us/step - loss: 0.0541 - acc: 0.9913 - val_loss: 0.4306 - val_acc: 0.9574\n",
      "Epoch 129/200\n",
      "1260/1260 [==============================] - 0s 154us/step - loss: 0.0644 - acc: 0.9873 - val_loss: 0.3817 - val_acc: 0.9593\n",
      "Epoch 130/200\n",
      "1260/1260 [==============================] - 0s 154us/step - loss: 0.0461 - acc: 0.9881 - val_loss: 0.3026 - val_acc: 0.9667\n",
      "Epoch 131/200\n",
      "1260/1260 [==============================] - 0s 121us/step - loss: 0.0232 - acc: 0.9937 - val_loss: 0.2944 - val_acc: 0.9704\n",
      "Epoch 132/200\n",
      "1260/1260 [==============================] - 0s 106us/step - loss: 0.0568 - acc: 0.9873 - val_loss: 0.3075 - val_acc: 0.9667\n",
      "Epoch 133/200\n",
      "1260/1260 [==============================] - 0s 108us/step - loss: 0.0779 - acc: 0.9865 - val_loss: 0.3937 - val_acc: 0.9611\n",
      "Epoch 134/200\n",
      "1260/1260 [==============================] - 0s 110us/step - loss: 0.0627 - acc: 0.9889 - val_loss: 0.4060 - val_acc: 0.9593\n",
      "Epoch 135/200\n",
      "1260/1260 [==============================] - 0s 108us/step - loss: 0.0566 - acc: 0.9881 - val_loss: 0.3040 - val_acc: 0.9630\n",
      "Epoch 136/200\n",
      "1260/1260 [==============================] - 0s 106us/step - loss: 0.0720 - acc: 0.9905 - val_loss: 0.3996 - val_acc: 0.9648\n",
      "Epoch 137/200\n",
      "1260/1260 [==============================] - 0s 112us/step - loss: 0.1123 - acc: 0.9865 - val_loss: 0.3943 - val_acc: 0.9611\n",
      "Epoch 138/200\n",
      "1260/1260 [==============================] - 0s 158us/step - loss: 0.0666 - acc: 0.9913 - val_loss: 0.3639 - val_acc: 0.9630\n",
      "Epoch 139/200\n",
      "1260/1260 [==============================] - 0s 165us/step - loss: 0.0765 - acc: 0.9921 - val_loss: 0.3593 - val_acc: 0.9630\n",
      "Epoch 140/200\n",
      "1260/1260 [==============================] - 0s 159us/step - loss: 0.0534 - acc: 0.9873 - val_loss: 0.3885 - val_acc: 0.9556\n",
      "Epoch 141/200\n",
      "1260/1260 [==============================] - 0s 152us/step - loss: 0.0609 - acc: 0.9905 - val_loss: 0.3479 - val_acc: 0.9648\n",
      "Epoch 142/200\n",
      "1260/1260 [==============================] - 0s 129us/step - loss: 0.1477 - acc: 0.9778 - val_loss: 0.4026 - val_acc: 0.9630\n",
      "Epoch 143/200\n",
      "1260/1260 [==============================] - 0s 101us/step - loss: 0.0708 - acc: 0.9881 - val_loss: 0.3852 - val_acc: 0.9667\n",
      "Epoch 144/200\n",
      "1260/1260 [==============================] - 0s 108us/step - loss: 0.0600 - acc: 0.9873 - val_loss: 0.3657 - val_acc: 0.9685\n",
      "Epoch 145/200\n",
      "1260/1260 [==============================] - 0s 110us/step - loss: 0.0695 - acc: 0.9929 - val_loss: 0.3487 - val_acc: 0.9704\n",
      "Epoch 146/200\n",
      "1260/1260 [==============================] - 0s 110us/step - loss: 0.0413 - acc: 0.9913 - val_loss: 0.3375 - val_acc: 0.9593\n",
      "Epoch 147/200\n",
      "1260/1260 [==============================] - 0s 108us/step - loss: 0.0803 - acc: 0.9889 - val_loss: 0.3427 - val_acc: 0.9648\n",
      "Epoch 148/200\n",
      "1260/1260 [==============================] - 0s 105us/step - loss: 0.0840 - acc: 0.9857 - val_loss: 0.3649 - val_acc: 0.9667\n",
      "Epoch 149/200\n",
      "1260/1260 [==============================] - 0s 112us/step - loss: 0.0441 - acc: 0.9929 - val_loss: 0.3896 - val_acc: 0.9630\n",
      "Epoch 150/200\n",
      "1260/1260 [==============================] - 0s 146us/step - loss: 0.0578 - acc: 0.9873 - val_loss: 0.3470 - val_acc: 0.9648\n",
      "Epoch 151/200\n",
      "1260/1260 [==============================] - 0s 161us/step - loss: 0.0969 - acc: 0.9881 - val_loss: 0.3307 - val_acc: 0.9685\n",
      "Epoch 152/200\n",
      "1260/1260 [==============================] - 0s 156us/step - loss: 0.0610 - acc: 0.9913 - val_loss: 0.3776 - val_acc: 0.9556\n",
      "Epoch 153/200\n",
      "1260/1260 [==============================] - 0s 158us/step - loss: 0.0623 - acc: 0.9921 - val_loss: 0.5346 - val_acc: 0.9519\n",
      "Epoch 154/200\n",
      "1260/1260 [==============================] - 0s 161us/step - loss: 0.0537 - acc: 0.9905 - val_loss: 0.3973 - val_acc: 0.9593\n",
      "Epoch 155/200\n",
      "1260/1260 [==============================] - 0s 165us/step - loss: 0.0752 - acc: 0.9873 - val_loss: 0.4363 - val_acc: 0.9630\n",
      "Epoch 156/200\n",
      "1260/1260 [==============================] - 0s 156us/step - loss: 0.0389 - acc: 0.9952 - val_loss: 0.5014 - val_acc: 0.9593\n",
      "Epoch 157/200\n",
      "1260/1260 [==============================] - 0s 137us/step - loss: 0.0728 - acc: 0.9905 - val_loss: 0.3416 - val_acc: 0.9704\n",
      "Epoch 158/200\n",
      "1260/1260 [==============================] - 0s 151us/step - loss: 0.0347 - acc: 0.9929 - val_loss: 0.3290 - val_acc: 0.9667\n",
      "Epoch 159/200\n",
      "1260/1260 [==============================] - 0s 146us/step - loss: 0.0434 - acc: 0.9921 - val_loss: 0.3720 - val_acc: 0.9648\n",
      "Epoch 160/200\n",
      "1260/1260 [==============================] - 0s 114us/step - loss: 0.0587 - acc: 0.9889 - val_loss: 0.3528 - val_acc: 0.9667\n",
      "Epoch 161/200\n",
      "1260/1260 [==============================] - 0s 104us/step - loss: 0.0630 - acc: 0.9913 - val_loss: 0.2906 - val_acc: 0.9741\n",
      "Epoch 162/200\n",
      "1260/1260 [==============================] - 0s 108us/step - loss: 0.0413 - acc: 0.9921 - val_loss: 0.3930 - val_acc: 0.9593\n",
      "Epoch 163/200\n",
      "1260/1260 [==============================] - 0s 101us/step - loss: 0.0370 - acc: 0.9913 - val_loss: 0.2623 - val_acc: 0.9759\n",
      "Epoch 164/200\n",
      "1260/1260 [==============================] - 0s 112us/step - loss: 0.0500 - acc: 0.9929 - val_loss: 0.3432 - val_acc: 0.9704\n",
      "Epoch 165/200\n",
      "1260/1260 [==============================] - 0s 112us/step - loss: 0.0854 - acc: 0.9865 - val_loss: 0.3510 - val_acc: 0.9704\n",
      "Epoch 166/200\n",
      "1260/1260 [==============================] - 0s 107us/step - loss: 0.0716 - acc: 0.9889 - val_loss: 0.3824 - val_acc: 0.9704\n",
      "Epoch 167/200\n",
      "1260/1260 [==============================] - 0s 98us/step - loss: 0.0641 - acc: 0.9913 - val_loss: 0.3243 - val_acc: 0.9685\n",
      "Epoch 168/200\n",
      "1260/1260 [==============================] - 0s 107us/step - loss: 0.0615 - acc: 0.9929 - val_loss: 0.3811 - val_acc: 0.9648\n",
      "Epoch 169/200\n",
      "1260/1260 [==============================] - 0s 112us/step - loss: 0.1097 - acc: 0.9857 - val_loss: 0.4194 - val_acc: 0.9667\n",
      "Epoch 170/200\n",
      "1260/1260 [==============================] - 0s 109us/step - loss: 0.0666 - acc: 0.9921 - val_loss: 0.4342 - val_acc: 0.9648\n",
      "Epoch 171/200\n",
      "1260/1260 [==============================] - 0s 116us/step - loss: 0.0534 - acc: 0.9889 - val_loss: 0.3859 - val_acc: 0.9593\n",
      "Epoch 172/200\n",
      "1260/1260 [==============================] - 0s 112us/step - loss: 0.0984 - acc: 0.9849 - val_loss: 0.3552 - val_acc: 0.9593\n",
      "Epoch 173/200\n",
      "1260/1260 [==============================] - 0s 111us/step - loss: 0.0801 - acc: 0.9881 - val_loss: 0.3459 - val_acc: 0.9648\n",
      "Epoch 174/200\n",
      "1260/1260 [==============================] - 0s 108us/step - loss: 0.0308 - acc: 0.9952 - val_loss: 0.4210 - val_acc: 0.9667\n",
      "Epoch 175/200\n",
      "1260/1260 [==============================] - 0s 116us/step - loss: 0.0786 - acc: 0.9897 - val_loss: 0.4000 - val_acc: 0.9593\n",
      "Epoch 176/200\n",
      "1260/1260 [==============================] - 0s 114us/step - loss: 0.0820 - acc: 0.9881 - val_loss: 0.4702 - val_acc: 0.9519\n",
      "Epoch 177/200\n",
      "1260/1260 [==============================] - 0s 137us/step - loss: 0.0263 - acc: 0.9944 - val_loss: 0.4446 - val_acc: 0.9593\n",
      "Epoch 178/200\n"
     ]
    },
    {
     "name": "stdout",
     "output_type": "stream",
     "text": [
      "1260/1260 [==============================] - 0s 144us/step - loss: 0.0359 - acc: 0.9937 - val_loss: 0.4940 - val_acc: 0.9537\n",
      "Epoch 179/200\n",
      "1260/1260 [==============================] - 0s 141us/step - loss: 0.0493 - acc: 0.9897 - val_loss: 0.4804 - val_acc: 0.9593\n",
      "Epoch 180/200\n",
      "1260/1260 [==============================] - 0s 109us/step - loss: 0.0590 - acc: 0.9889 - val_loss: 0.4801 - val_acc: 0.9574\n",
      "Epoch 181/200\n",
      "1260/1260 [==============================] - 0s 102us/step - loss: 0.0739 - acc: 0.9897 - val_loss: 0.4471 - val_acc: 0.9611\n",
      "Epoch 182/200\n",
      "1260/1260 [==============================] - 0s 105us/step - loss: 0.0479 - acc: 0.9929 - val_loss: 0.4179 - val_acc: 0.9611\n",
      "Epoch 183/200\n",
      "1260/1260 [==============================] - 0s 97us/step - loss: 0.0751 - acc: 0.9952 - val_loss: 0.3687 - val_acc: 0.9574\n",
      "Epoch 184/200\n",
      "1260/1260 [==============================] - 0s 104us/step - loss: 0.0949 - acc: 0.9841 - val_loss: 0.3775 - val_acc: 0.9630\n",
      "Epoch 185/200\n",
      "1260/1260 [==============================] - 0s 158us/step - loss: 0.0581 - acc: 0.9889 - val_loss: 0.3720 - val_acc: 0.9593\n",
      "Epoch 186/200\n",
      "1260/1260 [==============================] - 0s 145us/step - loss: 0.0311 - acc: 0.9944 - val_loss: 0.3905 - val_acc: 0.9611\n",
      "Epoch 187/200\n",
      "1260/1260 [==============================] - 0s 139us/step - loss: 0.0297 - acc: 0.9929 - val_loss: 0.3475 - val_acc: 0.9630\n",
      "Epoch 188/200\n",
      "1260/1260 [==============================] - 0s 104us/step - loss: 0.0325 - acc: 0.9921 - val_loss: 0.4581 - val_acc: 0.9556\n",
      "Epoch 189/200\n",
      "1260/1260 [==============================] - 0s 106us/step - loss: 0.0809 - acc: 0.9889 - val_loss: 0.3906 - val_acc: 0.9630\n",
      "Epoch 190/200\n",
      "1260/1260 [==============================] - 0s 104us/step - loss: 0.0932 - acc: 0.9913 - val_loss: 0.3449 - val_acc: 0.9648\n",
      "Epoch 191/200\n",
      "1260/1260 [==============================] - 0s 104us/step - loss: 0.0386 - acc: 0.9937 - val_loss: 0.2747 - val_acc: 0.9648\n",
      "Epoch 192/200\n",
      "1260/1260 [==============================] - 0s 105us/step - loss: 0.0464 - acc: 0.9944 - val_loss: 0.3582 - val_acc: 0.9704\n",
      "Epoch 193/200\n",
      "1260/1260 [==============================] - 0s 104us/step - loss: 0.0754 - acc: 0.9905 - val_loss: 0.2969 - val_acc: 0.9722\n",
      "Epoch 194/200\n",
      "1260/1260 [==============================] - 0s 134us/step - loss: 0.0240 - acc: 0.9968 - val_loss: 0.3179 - val_acc: 0.9722\n",
      "Epoch 195/200\n",
      "1260/1260 [==============================] - 0s 130us/step - loss: 0.0837 - acc: 0.9913 - val_loss: 0.3907 - val_acc: 0.9685\n",
      "Epoch 196/200\n",
      "1260/1260 [==============================] - 0s 132us/step - loss: 0.0586 - acc: 0.9905 - val_loss: 0.4141 - val_acc: 0.9667\n",
      "Epoch 197/200\n",
      "1260/1260 [==============================] - 0s 145us/step - loss: 0.0573 - acc: 0.9905 - val_loss: 0.4026 - val_acc: 0.9685\n",
      "Epoch 198/200\n",
      "1260/1260 [==============================] - 0s 179us/step - loss: 0.0847 - acc: 0.9905 - val_loss: 0.4171 - val_acc: 0.9630\n",
      "Epoch 199/200\n",
      "1260/1260 [==============================] - 0s 112us/step - loss: 0.0924 - acc: 0.9881 - val_loss: 0.4971 - val_acc: 0.9556\n",
      "Epoch 200/200\n",
      "1260/1260 [==============================] - 0s 116us/step - loss: 0.0415 - acc: 0.9921 - val_loss: 0.4539 - val_acc: 0.9537\n"
     ]
    }
   ],
   "source": [
    "EPOCHS = 200\n",
    "history = model.fit(train_data, train_labels, epochs=EPOCHS, validation_data=(test_data, test_labels))"
   ]
  },
  {
   "cell_type": "code",
   "execution_count": 37,
   "metadata": {},
   "outputs": [
    {
     "data": {
      "image/png": "[encoded data removed]",
      "text/plain": [
       "<matplotlib.figure.Figure at 0x166b3e3bda0>"
      ]
     },
     "metadata": {},
     "output_type": "display_data"
    },
    {
     "data": {
      "image/png": "[encoded data removed]",
      "text/plain": [
       "<matplotlib.figure.Figure at 0x166af2a3470>"
      ]
     },
     "metadata": {},
     "output_type": "display_data"
    }
   ],
   "source": [
    "%run history.py\n",
    "%matplotlib inline\n",
    "\n",
    "plot_accuracy(history)\n",
    "plot_loss(history)"
   ]
  },
  {
   "cell_type": "markdown",
   "metadata": {},
   "source": [
    "## Save the model"
   ]
  },
  {
   "cell_type": "code",
   "execution_count": 38,
   "metadata": {},
   "outputs": [],
   "source": [
    "import datetime\n",
    "\n",
    "dt = datetime.datetime.today().strftime('%Y%m%d%H%M%S')\n",
    "filename = DATASET_FOLDER + '/restaurant_dnn_{}.h5'.format(dt)\n",
    "model.save(filename)"
   ]
  },
  {
   "cell_type": "markdown",
   "metadata": {},
   "source": [
    "## Load the model"
   ]
  },
  {
   "cell_type": "code",
   "execution_count": 39,
   "metadata": {},
   "outputs": [],
   "source": [
    "del model\n",
    "model = models.load_model(filename)"
   ]
  },
  {
   "cell_type": "markdown",
   "metadata": {
    "colab_type": "text",
    "id": "j6con4C3lKC1"
   },
   "source": [
    "## Confirmation"
   ]
  },
  {
   "cell_type": "code",
   "execution_count": 40,
   "metadata": {
    "colab": {
     "base_uri": "https://localhost:8080/",
     "height": 34
    },
    "colab_type": "code",
    "id": "4oZYLLij69wU",
    "outputId": "b37a4b8a-2c80-411f-d8a9-5df1c6dbfe22"
   },
   "outputs": [],
   "source": [
    "import numpy as np\n",
    "import matplotlib.pyplot as plt"
   ]
  },
  {
   "cell_type": "code",
   "execution_count": 41,
   "metadata": {
    "colab": {
     "base_uri": "https://localhost:8080/",
     "height": 193
    },
    "colab_type": "code",
    "id": "zSxXE9FgRBdJ",
    "outputId": "f3a53efe-e99f-4572-f9b4-1bf3c39c77ec"
   },
   "outputs": [],
   "source": [
    "layer_outputs = [layer.output for layer in model.layers]\n",
    "#layer_outputs"
   ]
  },
  {
   "cell_type": "code",
   "execution_count": 42,
   "metadata": {
    "colab": {
     "base_uri": "https://localhost:8080/",
     "height": 34
    },
    "colab_type": "code",
    "id": "dcw7yHKrRkPD",
    "outputId": "a3ed5441-ae48-4635-bf07-ac5060030608"
   },
   "outputs": [],
   "source": [
    "activation_model = models.Model(inputs=model.input, outputs=layer_outputs)\n",
    "activations = activation_model.predict(test_data)\n",
    "#activations[0][0,:,:,0].shape"
   ]
  },
  {
   "cell_type": "code",
   "execution_count": 43,
   "metadata": {},
   "outputs": [
    {
     "data": {
      "text/plain": [
       "['umai',\n",
       " 'mazui',\n",
       " 'oishii',\n",
       " 'silence',\n",
       " 'others',\n",
       " 'a',\n",
       " 'i',\n",
       " 'o',\n",
       " 'sushi',\n",
       " 'sashimi',\n",
       " 'gyouza',\n",
       " 'hashi',\n",
       " 'spoon',\n",
       " 'fork',\n",
       " 'syouyu',\n",
       " 'sakana',\n",
       " 'niku',\n",
       " 'gohan']"
      ]
     },
     "execution_count": 43,
     "metadata": {},
     "output_type": "execute_result"
    }
   ],
   "source": [
    "class_labels"
   ]
  },
  {
   "cell_type": "code",
   "execution_count": 44,
   "metadata": {
    "colab": {
     "base_uri": "https://localhost:8080/",
     "height": 193
    },
    "colab_type": "code",
    "id": "ccSNAwGKhRn9",
    "outputId": "0ad22e12-713b-4b07-e17b-45d39ff1b80b"
   },
   "outputs": [
    {
     "data": {
      "text/plain": [
       "array([[  0,   0,   0,   0,   0, 100,   0,   0,   0,   0,   0,   0,   0,\n",
       "          0,   0,   0,   0,   0],\n",
       "       [100,   0,   0,   0,   0,   0,   0,   0,   0,   0,   0,   0,   0,\n",
       "          0,   0,   0,   0,   0],\n",
       "       [  0,   0,   0,   0,   0,   0,   0,   0,   0,   0,   0,   0,   0,\n",
       "          0,   0,   0,   0, 100],\n",
       "       [  0, 100,   0,   0,   0,   0,   0,   0,   0,   0,   0,   0,   0,\n",
       "          0,   0,   0,   0,   0],\n",
       "       [  0,   0,   0,   0,   0,   0,   0,   0,   0, 100,   0,   0,   0,\n",
       "          0,   0,   0,   0,   0],\n",
       "       [  0,   0,   0,   0,   0, 100,   0,   0,   0,   0,   0,   0,   0,\n",
       "          0,   0,   0,   0,   0],\n",
       "       [  0,   0,   0,   0,   0,   0,   0,   0,   0,   0,   0,   0,   0,\n",
       "          0,   0,   0,   0, 100],\n",
       "       [  0,   0,   0,   0,   0,   0,   0,   0, 100,   0,   0,   0,   0,\n",
       "          0,   0,   0,   0,   0],\n",
       "       [  0,   0,   0,   0,   0,   0,   0,   0,   0,   0,   0,   0,   0,\n",
       "          0,   0,   0,   0, 100],\n",
       "       [  0,   0,   0,   0,   0, 100,   0,   0,   0,   0,   0,   0,   0,\n",
       "          0,   0,   0,   0,   0]])"
      ]
     },
     "execution_count": 44,
     "metadata": {},
     "output_type": "execute_result"
    }
   ],
   "source": [
    "(activations[-1][:10]*100).astype(int)"
   ]
  },
  {
   "cell_type": "code",
   "execution_count": 45,
   "metadata": {
    "colab": {
     "base_uri": "https://localhost:8080/",
     "height": 193
    },
    "colab_type": "code",
    "id": "RoE0nxtuiGIN",
    "outputId": "154437a8-ab72-46f4-f42c-3e6464af47d0"
   },
   "outputs": [
    {
     "data": {
      "text/plain": [
       "array([[0, 0, 0, 0, 0, 1, 0, 0, 0, 0, 0, 0, 0, 0, 0, 0, 0, 0],\n",
       "       [1, 0, 0, 0, 0, 0, 0, 0, 0, 0, 0, 0, 0, 0, 0, 0, 0, 0],\n",
       "       [0, 0, 0, 0, 0, 0, 0, 0, 0, 0, 0, 0, 0, 0, 0, 0, 0, 1],\n",
       "       [0, 1, 0, 0, 0, 0, 0, 0, 0, 0, 0, 0, 0, 0, 0, 0, 0, 0],\n",
       "       [0, 0, 0, 0, 0, 0, 0, 0, 0, 1, 0, 0, 0, 0, 0, 0, 0, 0],\n",
       "       [0, 0, 0, 0, 0, 1, 0, 0, 0, 0, 0, 0, 0, 0, 0, 0, 0, 0],\n",
       "       [0, 0, 0, 0, 0, 0, 0, 0, 0, 0, 0, 0, 0, 0, 0, 0, 0, 1],\n",
       "       [0, 0, 0, 0, 0, 0, 0, 0, 1, 0, 0, 0, 0, 0, 0, 0, 0, 0],\n",
       "       [0, 0, 0, 0, 0, 0, 0, 0, 0, 0, 0, 0, 0, 0, 0, 0, 0, 1],\n",
       "       [0, 0, 0, 0, 0, 1, 0, 0, 0, 0, 0, 0, 0, 0, 0, 0, 0, 0]])"
      ]
     },
     "execution_count": 45,
     "metadata": {},
     "output_type": "execute_result"
    }
   ],
   "source": [
    "test_labels[:10].astype(int)"
   ]
  },
  {
   "cell_type": "code",
   "execution_count": null,
   "metadata": {},
   "outputs": [],
   "source": []
  }
 ],
 "metadata": {
  "colab": {
   "collapsed_sections": [],
   "name": "CNN for AED",
   "provenance": [],
   "version": "0.3.2"
  },
  "kernelspec": {
   "display_name": "Python 3",
   "language": "python",
   "name": "python3"
  },
  "language_info": {
   "codemirror_mode": {
    "name": "ipython",
    "version": 3
   },
   "file_extension": ".py",
   "mimetype": "text/x-python",
   "name": "python",
   "nbconvert_exporter": "python",
   "pygments_lexer": "ipython3",
   "version": "3.6.4"
  }
 },
 "nbformat": 4,
 "nbformat_minor": 1
}
