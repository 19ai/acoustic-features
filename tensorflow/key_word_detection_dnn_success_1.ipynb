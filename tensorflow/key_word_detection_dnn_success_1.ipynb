{
 "cells": [
  {
   "cell_type": "markdown",
   "metadata": {
    "colab_type": "text",
    "id": "WwQ-dEltkl5Q"
   },
   "source": [
    "## Preparing data set for DNN\n",
    "\n",
    "MFCCs"
   ]
  },
  {
   "cell_type": "code",
   "execution_count": 156,
   "metadata": {
    "colab": {
     "base_uri": "https://localhost:8080/",
     "height": 34
    },
    "colab_type": "code",
    "id": "VEJyQsGpV3ug",
    "outputId": "3929aa39-3383-4791-e065-3622e6781181"
   },
   "outputs": [
    {
     "data": {
      "text/plain": [
       "(64, 15)"
      ]
     },
     "execution_count": 156,
     "metadata": {},
     "output_type": "execute_result"
    },
    {
     "data": {
      "text/plain": [
       "<matplotlib.figure.Figure at 0x2c5379c9668>"
      ]
     },
     "metadata": {},
     "output_type": "display_data"
    }
   ],
   "source": [
    "DATASET_FOLDER = '../dataset/data_restaurant'\n",
    "\n",
    "%run ../oscilloscope/script/dataset.py\n",
    "\n",
    "ds = DataSet(DATASET_FOLDER)\n",
    "train_data, train_labels, test_data, test_labels = ds.generate(flatten=True)\n",
    "shape = ds.shape\n",
    "class_labels = ds.class_labels\n",
    "shape"
   ]
  },
  {
   "cell_type": "code",
   "execution_count": 157,
   "metadata": {},
   "outputs": [
    {
     "data": {
      "text/plain": [
       "((1260, 960), (540, 960))"
      ]
     },
     "execution_count": 157,
     "metadata": {},
     "output_type": "execute_result"
    },
    {
     "data": {
      "image/png": "[encoded data removed]",
      "text/plain": [
       "<matplotlib.figure.Figure at 0x2c537a9eda0>"
      ]
     },
     "metadata": {},
     "output_type": "display_data"
    }
   ],
   "source": [
    "import matplotlib.pyplot as plt\n",
    "%matplotlib inline\n",
    "\n",
    "plt.imshow(np.rot90(train_data[0].reshape(ds.shape)), cmap='seismic')\n",
    "train_data.shape, test_data.shape"
   ]
  },
  {
   "cell_type": "markdown",
   "metadata": {
    "colab_type": "text",
    "id": "VfUmgxxVk6uM"
   },
   "source": [
    "### DNN model"
   ]
  },
  {
   "cell_type": "code",
   "execution_count": 158,
   "metadata": {
    "colab": {
     "base_uri": "https://localhost:8080/",
     "height": 509
    },
    "colab_type": "code",
    "id": "B2Xg6tGLdMKP",
    "outputId": "ae3daa32-9dbf-4d8b-9a11-7f596dd2e4a6"
   },
   "outputs": [
    {
     "name": "stdout",
     "output_type": "stream",
     "text": [
      "_________________________________________________________________\n",
      "Layer (type)                 Output Shape              Param #   \n",
      "=================================================================\n",
      "dense_85 (Dense)             (None, 128)               123008    \n",
      "_________________________________________________________________\n",
      "dropout_58 (Dropout)         (None, 128)               0         \n",
      "_________________________________________________________________\n",
      "dense_86 (Dense)             (None, 128)               16512     \n",
      "_________________________________________________________________\n",
      "dropout_59 (Dropout)         (None, 128)               0         \n",
      "_________________________________________________________________\n",
      "dense_87 (Dense)             (None, 18)                2322      \n",
      "=================================================================\n",
      "Total params: 141,842\n",
      "Trainable params: 141,842\n",
      "Non-trainable params: 0\n",
      "_________________________________________________________________\n"
     ]
    }
   ],
   "source": [
    "from keras import layers\n",
    "from keras import models\n",
    "\n",
    "model = models.Sequential()\n",
    "\n",
    "model.add(layers.Dense(128, input_dim=shape[0]*shape[1], activation='relu'))\n",
    "model.add(layers.Dropout(0.25))\n",
    "model.add(layers.Dense(128, input_dim=shape[0]*shape[1], activation='relu'))\n",
    "model.add(layers.Dropout(0.25))\n",
    "model.add(layers.Dense(len(class_labels), activation='softmax'))\n",
    "\n",
    "model.summary()"
   ]
  },
  {
   "cell_type": "code",
   "execution_count": 159,
   "metadata": {
    "colab": {},
    "colab_type": "code",
    "id": "nRr1L_4ogL6i"
   },
   "outputs": [],
   "source": [
    "model.compile(optimizer='rmsprop', loss='categorical_crossentropy', metrics=['accuracy'])"
   ]
  },
  {
   "cell_type": "code",
   "execution_count": 160,
   "metadata": {},
   "outputs": [
    {
     "data": {
      "image/svg+xml": [
       "<svg height=\"410pt\" viewBox=\"0.00 0.00 145.00 410.00\" width=\"145pt\" xmlns=\"http://www.w3.org/2000/svg\" xmlns:xlink=\"http://www.w3.org/1999/xlink\">\n",
       "<g class=\"graph\" id=\"graph0\" transform=\"scale(1 1) rotate(0) translate(4 406)\">\n",
       "<title>G</title>\n",
       "<polygon fill=\"white\" points=\"-4,4 -4,-406 141,-406 141,4 -4,4\" stroke=\"none\"/>\n",
       "<!-- 3046065213112 -->\n",
       "<g class=\"node\" id=\"node1\"><title>3046065213112</title>\n",
       "<polygon fill=\"none\" points=\"13,-292.5 13,-328.5 124,-328.5 124,-292.5 13,-292.5\" stroke=\"black\"/>\n",
       "<text font-family=\"Times New Roman,serif\" font-size=\"14.00\" text-anchor=\"middle\" x=\"68.5\" y=\"-306.8\">dense_85: Dense</text>\n",
       "</g>\n",
       "<!-- 3046101540256 -->\n",
       "<g class=\"node\" id=\"node2\"><title>3046101540256</title>\n",
       "<polygon fill=\"none\" points=\"0,-219.5 0,-255.5 137,-255.5 137,-219.5 0,-219.5\" stroke=\"black\"/>\n",
       "<text font-family=\"Times New Roman,serif\" font-size=\"14.00\" text-anchor=\"middle\" x=\"68.5\" y=\"-233.8\">dropout_58: Dropout</text>\n",
       "</g>\n",
       "<!-- 3046065213112&#45;&gt;3046101540256 -->\n",
       "<g class=\"edge\" id=\"edge2\"><title>3046065213112-&gt;3046101540256</title>\n",
       "<path d=\"M68.5,-292.313C68.5,-284.289 68.5,-274.547 68.5,-265.569\" fill=\"none\" stroke=\"black\"/>\n",
       "<polygon fill=\"black\" points=\"72.0001,-265.529 68.5,-255.529 65.0001,-265.529 72.0001,-265.529\" stroke=\"black\"/>\n",
       "</g>\n",
       "<!-- 3046065139440 -->\n",
       "<g class=\"node\" id=\"node3\"><title>3046065139440</title>\n",
       "<polygon fill=\"none\" points=\"13,-146.5 13,-182.5 124,-182.5 124,-146.5 13,-146.5\" stroke=\"black\"/>\n",
       "<text font-family=\"Times New Roman,serif\" font-size=\"14.00\" text-anchor=\"middle\" x=\"68.5\" y=\"-160.8\">dense_86: Dense</text>\n",
       "</g>\n",
       "<!-- 3046101540256&#45;&gt;3046065139440 -->\n",
       "<g class=\"edge\" id=\"edge3\"><title>3046101540256-&gt;3046065139440</title>\n",
       "<path d=\"M68.5,-219.313C68.5,-211.289 68.5,-201.547 68.5,-192.569\" fill=\"none\" stroke=\"black\"/>\n",
       "<polygon fill=\"black\" points=\"72.0001,-192.529 68.5,-182.529 65.0001,-192.529 72.0001,-192.529\" stroke=\"black\"/>\n",
       "</g>\n",
       "<!-- 3046065137480 -->\n",
       "<g class=\"node\" id=\"node4\"><title>3046065137480</title>\n",
       "<polygon fill=\"none\" points=\"0,-73.5 0,-109.5 137,-109.5 137,-73.5 0,-73.5\" stroke=\"black\"/>\n",
       "<text font-family=\"Times New Roman,serif\" font-size=\"14.00\" text-anchor=\"middle\" x=\"68.5\" y=\"-87.8\">dropout_59: Dropout</text>\n",
       "</g>\n",
       "<!-- 3046065139440&#45;&gt;3046065137480 -->\n",
       "<g class=\"edge\" id=\"edge4\"><title>3046065139440-&gt;3046065137480</title>\n",
       "<path d=\"M68.5,-146.313C68.5,-138.289 68.5,-128.547 68.5,-119.569\" fill=\"none\" stroke=\"black\"/>\n",
       "<polygon fill=\"black\" points=\"72.0001,-119.529 68.5,-109.529 65.0001,-119.529 72.0001,-119.529\" stroke=\"black\"/>\n",
       "</g>\n",
       "<!-- 3046065418984 -->\n",
       "<g class=\"node\" id=\"node5\"><title>3046065418984</title>\n",
       "<polygon fill=\"none\" points=\"13,-0.5 13,-36.5 124,-36.5 124,-0.5 13,-0.5\" stroke=\"black\"/>\n",
       "<text font-family=\"Times New Roman,serif\" font-size=\"14.00\" text-anchor=\"middle\" x=\"68.5\" y=\"-14.8\">dense_87: Dense</text>\n",
       "</g>\n",
       "<!-- 3046065137480&#45;&gt;3046065418984 -->\n",
       "<g class=\"edge\" id=\"edge5\"><title>3046065137480-&gt;3046065418984</title>\n",
       "<path d=\"M68.5,-73.3129C68.5,-65.2895 68.5,-55.5475 68.5,-46.5691\" fill=\"none\" stroke=\"black\"/>\n",
       "<polygon fill=\"black\" points=\"72.0001,-46.5288 68.5,-36.5288 65.0001,-46.5289 72.0001,-46.5288\" stroke=\"black\"/>\n",
       "</g>\n",
       "<!-- 3046065136472 -->\n",
       "<g class=\"node\" id=\"node6\"><title>3046065136472</title>\n",
       "<polygon fill=\"none\" points=\"16.5,-365.5 16.5,-401.5 120.5,-401.5 120.5,-365.5 16.5,-365.5\" stroke=\"black\"/>\n",
       "<text font-family=\"Times New Roman,serif\" font-size=\"14.00\" text-anchor=\"middle\" x=\"68.5\" y=\"-379.8\">3046065136472</text>\n",
       "</g>\n",
       "<!-- 3046065136472&#45;&gt;3046065213112 -->\n",
       "<g class=\"edge\" id=\"edge1\"><title>3046065136472-&gt;3046065213112</title>\n",
       "<path d=\"M68.5,-365.313C68.5,-357.289 68.5,-347.547 68.5,-338.569\" fill=\"none\" stroke=\"black\"/>\n",
       "<polygon fill=\"black\" points=\"72.0001,-338.529 68.5,-328.529 65.0001,-338.529 72.0001,-338.529\" stroke=\"black\"/>\n",
       "</g>\n",
       "</g>\n",
       "</svg>"
      ],
      "text/plain": [
       "<IPython.core.display.SVG object>"
      ]
     },
     "execution_count": 160,
     "metadata": {},
     "output_type": "execute_result"
    }
   ],
   "source": [
    "from IPython.display import SVG\n",
    "from keras.utils.vis_utils import model_to_dot\n",
    "\n",
    "SVG(model_to_dot(model).create(prog='dot', format='svg'))"
   ]
  },
  {
   "cell_type": "markdown",
   "metadata": {
    "colab_type": "text",
    "id": "TfypWUJIlFkz"
   },
   "source": [
    "## Training DNN"
   ]
  },
  {
   "cell_type": "code",
   "execution_count": 161,
   "metadata": {
    "colab": {
     "base_uri": "https://localhost:8080/",
     "height": 931
    },
    "colab_type": "code",
    "id": "zsdmu-ggfvr1",
    "outputId": "77a52558-8ecc-4fc5-e0cb-2b86a75df4c6",
    "scrolled": false
   },
   "outputs": [
    {
     "name": "stdout",
     "output_type": "stream",
     "text": [
      "Train on 1260 samples, validate on 540 samples\n",
      "Epoch 1/50\n",
      "1260/1260 [==============================] - 3s 2ms/step - loss: 2.4127 - acc: 0.2968 - val_loss: 1.2544 - val_acc: 0.7370\n",
      "Epoch 2/50\n",
      "1260/1260 [==============================] - 0s 238us/step - loss: 1.1209 - acc: 0.6468 - val_loss: 0.5786 - val_acc: 0.8574\n",
      "Epoch 3/50\n",
      "1260/1260 [==============================] - 0s 152us/step - loss: 0.6544 - acc: 0.8008 - val_loss: 0.3410 - val_acc: 0.9278\n",
      "Epoch 4/50\n",
      "1260/1260 [==============================] - 0s 308us/step - loss: 0.3998 - acc: 0.8841 - val_loss: 0.2661 - val_acc: 0.9278\n",
      "Epoch 5/50\n",
      "1260/1260 [==============================] - 0s 229us/step - loss: 0.2579 - acc: 0.9222 - val_loss: 0.2052 - val_acc: 0.9481\n",
      "Epoch 6/50\n",
      "1260/1260 [==============================] - 0s 134us/step - loss: 0.1968 - acc: 0.9429 - val_loss: 0.1573 - val_acc: 0.9574\n",
      "Epoch 7/50\n",
      "1260/1260 [==============================] - 0s 138us/step - loss: 0.1292 - acc: 0.9627 - val_loss: 0.1505 - val_acc: 0.9556\n",
      "Epoch 8/50\n",
      "1260/1260 [==============================] - 0s 240us/step - loss: 0.0976 - acc: 0.9675 - val_loss: 0.2212 - val_acc: 0.9426\n",
      "Epoch 9/50\n",
      "1260/1260 [==============================] - 0s 287us/step - loss: 0.0930 - acc: 0.9738 - val_loss: 0.1586 - val_acc: 0.9630\n",
      "Epoch 10/50\n",
      "1260/1260 [==============================] - 0s 284us/step - loss: 0.0754 - acc: 0.9762 - val_loss: 0.1445 - val_acc: 0.9630\n",
      "Epoch 11/50\n",
      "1260/1260 [==============================] - 0s 264us/step - loss: 0.0518 - acc: 0.9810 - val_loss: 0.1311 - val_acc: 0.9685\n",
      "Epoch 12/50\n",
      "1260/1260 [==============================] - 0s 223us/step - loss: 0.0478 - acc: 0.9833 - val_loss: 0.1760 - val_acc: 0.9611\n",
      "Epoch 13/50\n",
      "1260/1260 [==============================] - 0s 268us/step - loss: 0.0674 - acc: 0.9746 - val_loss: 0.2326 - val_acc: 0.9519\n",
      "Epoch 14/50\n",
      "1260/1260 [==============================] - 0s 257us/step - loss: 0.0417 - acc: 0.9881 - val_loss: 0.1887 - val_acc: 0.9593\n",
      "Epoch 15/50\n",
      "1260/1260 [==============================] - 0s 198us/step - loss: 0.0374 - acc: 0.9889 - val_loss: 0.1714 - val_acc: 0.9630\n",
      "Epoch 16/50\n",
      "1260/1260 [==============================] - 0s 256us/step - loss: 0.0400 - acc: 0.9865 - val_loss: 0.1881 - val_acc: 0.9704\n",
      "Epoch 17/50\n",
      "1260/1260 [==============================] - 0s 187us/step - loss: 0.0228 - acc: 0.9921 - val_loss: 0.2137 - val_acc: 0.9667\n",
      "Epoch 18/50\n",
      "1260/1260 [==============================] - 0s 212us/step - loss: 0.0346 - acc: 0.9897 - val_loss: 0.2008 - val_acc: 0.9667\n",
      "Epoch 19/50\n",
      "1260/1260 [==============================] - 0s 231us/step - loss: 0.0278 - acc: 0.9929 - val_loss: 0.2142 - val_acc: 0.9630\n",
      "Epoch 20/50\n",
      "1260/1260 [==============================] - 0s 185us/step - loss: 0.0161 - acc: 0.9968 - val_loss: 0.1775 - val_acc: 0.9704\n",
      "Epoch 21/50\n",
      "1260/1260 [==============================] - 0s 220us/step - loss: 0.0185 - acc: 0.9921 - val_loss: 0.2833 - val_acc: 0.9593\n",
      "Epoch 22/50\n",
      "1260/1260 [==============================] - 0s 264us/step - loss: 0.0179 - acc: 0.9952 - val_loss: 0.2082 - val_acc: 0.9667\n",
      "Epoch 23/50\n",
      "1260/1260 [==============================] - 0s 239us/step - loss: 0.0250 - acc: 0.9937 - val_loss: 0.2730 - val_acc: 0.9481\n",
      "Epoch 24/50\n",
      "1260/1260 [==============================] - 0s 183us/step - loss: 0.0315 - acc: 0.9905 - val_loss: 0.2189 - val_acc: 0.9722\n",
      "Epoch 25/50\n",
      "1260/1260 [==============================] - 0s 190us/step - loss: 0.0163 - acc: 0.9952 - val_loss: 0.1914 - val_acc: 0.9722\n",
      "Epoch 26/50\n",
      "1260/1260 [==============================] - 0s 185us/step - loss: 0.0222 - acc: 0.9929 - val_loss: 0.2154 - val_acc: 0.9630\n",
      "Epoch 27/50\n",
      "1260/1260 [==============================] - 0s 184us/step - loss: 0.0191 - acc: 0.9937 - val_loss: 0.2139 - val_acc: 0.9630\n",
      "Epoch 28/50\n",
      "1260/1260 [==============================] - 0s 184us/step - loss: 0.0110 - acc: 0.9984 - val_loss: 0.2092 - val_acc: 0.9685\n",
      "Epoch 29/50\n",
      "1260/1260 [==============================] - 0s 258us/step - loss: 0.0165 - acc: 0.9937 - val_loss: 0.2256 - val_acc: 0.9667\n",
      "Epoch 30/50\n",
      "1260/1260 [==============================] - 0s 182us/step - loss: 0.0235 - acc: 0.9952 - val_loss: 0.2304 - val_acc: 0.9611\n",
      "Epoch 31/50\n",
      "1260/1260 [==============================] - 0s 185us/step - loss: 0.0079 - acc: 0.9984 - val_loss: 0.2050 - val_acc: 0.9593\n",
      "Epoch 32/50\n",
      "1260/1260 [==============================] - 0s 185us/step - loss: 0.0189 - acc: 0.9937 - val_loss: 0.2938 - val_acc: 0.9593\n",
      "Epoch 33/50\n",
      "1260/1260 [==============================] - 0s 182us/step - loss: 0.0091 - acc: 0.9968 - val_loss: 0.2000 - val_acc: 0.9667\n",
      "Epoch 34/50\n",
      "1260/1260 [==============================] - 0s 187us/step - loss: 0.0079 - acc: 0.9984 - val_loss: 0.1837 - val_acc: 0.9685\n",
      "Epoch 35/50\n",
      "1260/1260 [==============================] - 0s 255us/step - loss: 0.0130 - acc: 0.9952 - val_loss: 0.2081 - val_acc: 0.9667\n",
      "Epoch 36/50\n",
      "1260/1260 [==============================] - 0s 273us/step - loss: 0.0151 - acc: 0.9952 - val_loss: 0.1914 - val_acc: 0.9704\n",
      "Epoch 37/50\n",
      "1260/1260 [==============================] - 0s 253us/step - loss: 0.0116 - acc: 0.9960 - val_loss: 0.2937 - val_acc: 0.9648\n",
      "Epoch 38/50\n",
      "1260/1260 [==============================] - 0s 188us/step - loss: 0.0107 - acc: 0.9960 - val_loss: 0.2288 - val_acc: 0.9685\n",
      "Epoch 39/50\n",
      "1260/1260 [==============================] - 0s 209us/step - loss: 0.0062 - acc: 0.9984 - val_loss: 0.2012 - val_acc: 0.9685\n",
      "Epoch 40/50\n",
      "1260/1260 [==============================] - 0s 176us/step - loss: 0.0125 - acc: 0.9937 - val_loss: 0.2399 - val_acc: 0.9667\n",
      "Epoch 41/50\n",
      "1260/1260 [==============================] - 0s 184us/step - loss: 0.0032 - acc: 0.9992 - val_loss: 0.2266 - val_acc: 0.9685\n",
      "Epoch 42/50\n",
      "1260/1260 [==============================] - 0s 234us/step - loss: 0.0184 - acc: 0.9944 - val_loss: 0.2193 - val_acc: 0.9704\n",
      "Epoch 43/50\n",
      "1260/1260 [==============================] - 0s 170us/step - loss: 0.0047 - acc: 0.9992 - val_loss: 0.2379 - val_acc: 0.9611\n",
      "Epoch 44/50\n",
      "1260/1260 [==============================] - 0s 231us/step - loss: 0.0097 - acc: 0.9960 - val_loss: 0.2443 - val_acc: 0.9667\n",
      "Epoch 45/50\n",
      "1260/1260 [==============================] - 0s 219us/step - loss: 0.0094 - acc: 0.9968 - val_loss: 0.2628 - val_acc: 0.9685\n",
      "Epoch 46/50\n",
      "1260/1260 [==============================] - 0s 220us/step - loss: 0.0095 - acc: 0.9984 - val_loss: 0.1989 - val_acc: 0.9778\n",
      "Epoch 47/50\n",
      "1260/1260 [==============================] - 0s 263us/step - loss: 0.0081 - acc: 0.9968 - val_loss: 0.2086 - val_acc: 0.9741\n",
      "Epoch 48/50\n",
      "1260/1260 [==============================] - 0s 218us/step - loss: 0.0052 - acc: 0.9984 - val_loss: 0.2489 - val_acc: 0.9685\n",
      "Epoch 49/50\n",
      "1260/1260 [==============================] - 0s 179us/step - loss: 0.0143 - acc: 0.9944 - val_loss: 0.2546 - val_acc: 0.9667\n",
      "Epoch 50/50\n",
      "1260/1260 [==============================] - 0s 194us/step - loss: 0.0143 - acc: 0.9960 - val_loss: 0.2433 - val_acc: 0.9704\n"
     ]
    }
   ],
   "source": [
    "EPOCHS = 50\n",
    "history = model.fit(train_data, train_labels, epochs=EPOCHS, validation_data=(test_data, test_labels))"
   ]
  },
  {
   "cell_type": "code",
   "execution_count": 162,
   "metadata": {},
   "outputs": [
    {
     "data": {
      "image/png": "[encoded data removed]",
      "text/plain": [
       "<matplotlib.figure.Figure at 0x2c527f19358>"
      ]
     },
     "metadata": {},
     "output_type": "display_data"
    },
    {
     "data": {
      "image/png": "[encoded data removed]",
      "text/plain": [
       "<matplotlib.figure.Figure at 0x2c537ae3b38>"
      ]
     },
     "metadata": {},
     "output_type": "display_data"
    }
   ],
   "source": [
    "%run history.py\n",
    "%matplotlib inline\n",
    "\n",
    "plot_accuracy(history)\n",
    "plot_loss(history)"
   ]
  },
  {
   "cell_type": "markdown",
   "metadata": {},
   "source": [
    "## Save the model"
   ]
  },
  {
   "cell_type": "code",
   "execution_count": 163,
   "metadata": {},
   "outputs": [],
   "source": [
    "import datetime\n",
    "\n",
    "dt = datetime.datetime.today().strftime('%Y%m%d%H%M%S')\n",
    "filename = DATASET_FOLDER + '/dnn_for_aed_restaurant{}.h5'.format(dt)\n",
    "model.save(filename)"
   ]
  },
  {
   "cell_type": "markdown",
   "metadata": {},
   "source": [
    "## Load the model"
   ]
  },
  {
   "cell_type": "code",
   "execution_count": 164,
   "metadata": {},
   "outputs": [],
   "source": [
    "del model\n",
    "model = models.load_model(filename)"
   ]
  },
  {
   "cell_type": "markdown",
   "metadata": {
    "colab_type": "text",
    "id": "j6con4C3lKC1"
   },
   "source": [
    "## Confirmation"
   ]
  },
  {
   "cell_type": "code",
   "execution_count": 165,
   "metadata": {
    "colab": {
     "base_uri": "https://localhost:8080/",
     "height": 34
    },
    "colab_type": "code",
    "id": "4oZYLLij69wU",
    "outputId": "b37a4b8a-2c80-411f-d8a9-5df1c6dbfe22"
   },
   "outputs": [],
   "source": [
    "import numpy as np\n",
    "import matplotlib.pyplot as plt"
   ]
  },
  {
   "cell_type": "code",
   "execution_count": 166,
   "metadata": {
    "colab": {
     "base_uri": "https://localhost:8080/",
     "height": 193
    },
    "colab_type": "code",
    "id": "zSxXE9FgRBdJ",
    "outputId": "f3a53efe-e99f-4572-f9b4-1bf3c39c77ec"
   },
   "outputs": [],
   "source": [
    "layer_outputs = [layer.output for layer in model.layers]\n",
    "#layer_outputs"
   ]
  },
  {
   "cell_type": "code",
   "execution_count": 167,
   "metadata": {
    "colab": {
     "base_uri": "https://localhost:8080/",
     "height": 34
    },
    "colab_type": "code",
    "id": "dcw7yHKrRkPD",
    "outputId": "a3ed5441-ae48-4635-bf07-ac5060030608"
   },
   "outputs": [],
   "source": [
    "activation_model = models.Model(inputs=model.input, outputs=layer_outputs)\n",
    "activations = activation_model.predict(test_data)\n",
    "#activations[0][0,:,:,0].shape"
   ]
  },
  {
   "cell_type": "code",
   "execution_count": 168,
   "metadata": {},
   "outputs": [
    {
     "data": {
      "text/plain": [
       "['umai',\n",
       " 'mazui',\n",
       " 'oishii',\n",
       " 'silence',\n",
       " 'others',\n",
       " 'a',\n",
       " 'i',\n",
       " 'o',\n",
       " 'sushi',\n",
       " 'sashimi',\n",
       " 'gyouza',\n",
       " 'hashi',\n",
       " 'spoon',\n",
       " 'fork',\n",
       " 'syouyu',\n",
       " 'sakana',\n",
       " 'niku',\n",
       " 'gohan']"
      ]
     },
     "execution_count": 168,
     "metadata": {},
     "output_type": "execute_result"
    }
   ],
   "source": [
    "class_labels"
   ]
  },
  {
   "cell_type": "code",
   "execution_count": 169,
   "metadata": {
    "colab": {
     "base_uri": "https://localhost:8080/",
     "height": 193
    },
    "colab_type": "code",
    "id": "ccSNAwGKhRn9",
    "outputId": "0ad22e12-713b-4b07-e17b-45d39ff1b80b"
   },
   "outputs": [
    {
     "data": {
      "text/plain": [
       "array([[  0,   6,   0,   0,  92,   0,   0,   0,   0,   0,   0,   0,   0,\n",
       "          0,   0,   0,   0,   0],\n",
       "       [  0,   0, 100,   0,   0,   0,   0,   0,   0,   0,   0,   0,   0,\n",
       "          0,   0,   0,   0,   0],\n",
       "       [100,   0,   0,   0,   0,   0,   0,   0,   0,   0,   0,   0,   0,\n",
       "          0,   0,   0,   0,   0],\n",
       "       [  0,   0,   0,   0,   0,   0,   0,   0,   0,   0,   0,   0,   0,\n",
       "        100,   0,   0,   0,   0],\n",
       "       [  0,   0,   0,   0,   0,   0,   0,   0,   0,   0,  99,   0,   0,\n",
       "          0,   0,   0,   0,   0],\n",
       "       [100,   0,   0,   0,   0,   0,   0,   0,   0,   0,   0,   0,   0,\n",
       "          0,   0,   0,   0,   0],\n",
       "       [  0, 100,   0,   0,   0,   0,   0,   0,   0,   0,   0,   0,   0,\n",
       "          0,   0,   0,   0,   0],\n",
       "       [  0,   0,   0,   0,   0,   0,   0, 100,   0,   0,   0,   0,   0,\n",
       "          0,   0,   0,   0,   0],\n",
       "       [  0,   0,   0,   0,   0,   0,   0,   0,   0,   0,   0,  99,   0,\n",
       "          0,   0,   0,   0,   0],\n",
       "       [  0,   0,   0,   0, 100,   0,   0,   0,   0,   0,   0,   0,   0,\n",
       "          0,   0,   0,   0,   0]])"
      ]
     },
     "execution_count": 169,
     "metadata": {},
     "output_type": "execute_result"
    }
   ],
   "source": [
    "(activations[-1][:10]*100).astype(int)"
   ]
  },
  {
   "cell_type": "code",
   "execution_count": 170,
   "metadata": {
    "colab": {
     "base_uri": "https://localhost:8080/",
     "height": 193
    },
    "colab_type": "code",
    "id": "RoE0nxtuiGIN",
    "outputId": "154437a8-ab72-46f4-f42c-3e6464af47d0"
   },
   "outputs": [
    {
     "data": {
      "text/plain": [
       "array([[0, 0, 0, 0, 1, 0, 0, 0, 0, 0, 0, 0, 0, 0, 0, 0, 0, 0],\n",
       "       [0, 0, 1, 0, 0, 0, 0, 0, 0, 0, 0, 0, 0, 0, 0, 0, 0, 0],\n",
       "       [1, 0, 0, 0, 0, 0, 0, 0, 0, 0, 0, 0, 0, 0, 0, 0, 0, 0],\n",
       "       [0, 0, 0, 0, 0, 0, 0, 0, 0, 0, 0, 0, 0, 1, 0, 0, 0, 0],\n",
       "       [0, 0, 0, 0, 0, 0, 0, 0, 0, 0, 1, 0, 0, 0, 0, 0, 0, 0],\n",
       "       [1, 0, 0, 0, 0, 0, 0, 0, 0, 0, 0, 0, 0, 0, 0, 0, 0, 0],\n",
       "       [0, 1, 0, 0, 0, 0, 0, 0, 0, 0, 0, 0, 0, 0, 0, 0, 0, 0],\n",
       "       [0, 0, 0, 0, 0, 0, 0, 1, 0, 0, 0, 0, 0, 0, 0, 0, 0, 0],\n",
       "       [0, 0, 0, 0, 0, 0, 0, 0, 0, 0, 0, 1, 0, 0, 0, 0, 0, 0],\n",
       "       [0, 0, 0, 0, 1, 0, 0, 0, 0, 0, 0, 0, 0, 0, 0, 0, 0, 0]])"
      ]
     },
     "execution_count": 170,
     "metadata": {},
     "output_type": "execute_result"
    }
   ],
   "source": [
    "test_labels[:10].astype(int)"
   ]
  },
  {
   "cell_type": "code",
   "execution_count": null,
   "metadata": {},
   "outputs": [],
   "source": []
  }
 ],
 "metadata": {
  "colab": {
   "collapsed_sections": [],
   "name": "CNN for AED",
   "provenance": [],
   "version": "0.3.2"
  },
  "kernelspec": {
   "display_name": "Python 3",
   "language": "python",
   "name": "python3"
  },
  "language_info": {
   "codemirror_mode": {
    "name": "ipython",
    "version": 3
   },
   "file_extension": ".py",
   "mimetype": "text/x-python",
   "name": "python",
   "nbconvert_exporter": "python",
   "pygments_lexer": "ipython3",
   "version": "3.6.4"
  }
 },
 "nbformat": 4,
 "nbformat_minor": 1
}
