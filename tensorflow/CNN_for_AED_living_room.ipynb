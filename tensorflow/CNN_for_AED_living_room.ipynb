{
 "cells": [
  {
   "cell_type": "markdown",
   "metadata": {
    "colab_type": "text",
    "id": "0X16cagQE-Y-"
   },
   "source": [
    "# CNN for AED with Keras/TensorFlow (living room)\n",
    "\n",
    "Date: Nov 8, 2018\n",
    "\n",
    "Data acquisition: living room"
   ]
  },
  {
   "cell_type": "markdown",
   "metadata": {
    "colab_type": "text",
    "id": "WwQ-dEltkl5Q"
   },
   "source": [
    "## Preparing data set for CNN"
   ]
  },
  {
   "cell_type": "code",
   "execution_count": 1,
   "metadata": {
    "colab": {
     "base_uri": "https://localhost:8080/",
     "height": 34
    },
    "colab_type": "code",
    "id": "VEJyQsGpV3ug",
    "outputId": "3929aa39-3383-4791-e065-3622e6781181"
   },
   "outputs": [],
   "source": [
    "DATA_FOLDER = '../oscilloscope/data_living/'\n",
    "\n",
    "FILTERS=40\n",
    "FILES = 50\n",
    "TRAINING_FILES = 40\n",
    "TEST_FILES = FILES - TRAINING_FILES"
   ]
  },
  {
   "cell_type": "code",
   "execution_count": 2,
   "metadata": {
    "colab": {},
    "colab_type": "code",
    "id": "JTNdoPBFWGky"
   },
   "outputs": [],
   "source": [
    "%matplotlib inline\n",
    "\n",
    "import matplotlib\n",
    "import matplotlib.pyplot as plt\n",
    "import numpy as np\n",
    "import pandas as pd\n",
    "import time\n",
    "import random\n",
    "import os\n",
    "import sklearn.preprocessing as pp"
   ]
  },
  {
   "cell_type": "code",
   "execution_count": 3,
   "metadata": {},
   "outputs": [
    {
     "name": "stdout",
     "output_type": "stream",
     "text": [
      "4: watching_tv\n",
      "6: cocking\n",
      "1: bathing\n",
      "0: silence\n",
      "5: moving\n",
      "2: tooth_brushing\n",
      "3: washing\n"
     ]
    },
    {
     "data": {
      "text/plain": [
       "840"
      ]
     },
     "execution_count": 3,
     "metadata": {},
     "output_type": "execute_result"
    }
   ],
   "source": [
    "import glob\n",
    "\n",
    "data_files = glob.glob(DATA_FOLDER+'*mel_spectrogram*.csv')\n",
    "class_labels = []\n",
    "\n",
    "for file in data_files:\n",
    "    label = file.split('-')[0].replace('\\\\', '/').split('/')[-1]\n",
    "    if label not in class_labels:\n",
    "        class_labels.append(label)\n",
    "\n",
    "data_set = {}\n",
    "\n",
    "class_number = 0\n",
    "\n",
    "for label in class_labels:\n",
    "    files = glob.glob(DATA_FOLDER+'{}-*mel_spectrogram*.csv'.format(label))\n",
    "    random.shuffle(files)\n",
    "    data_set[label] = (files[:TRAINING_FILES], files[TRAINING_FILES:FILES], class_number)\n",
    "    class_number += 1\n",
    "\n",
    "training_set = []\n",
    "test_set = []\n",
    "\n",
    "LENGTH=64\n",
    "a1, a2 = 0,  FILTERS*64\n",
    "b1, b2 = FILTERS*64, FILTERS*64*2\n",
    "c1, c2 = FILTERS*64*2, FILTERS*64*3\n",
    "\n",
    "for k, v in data_set.items():\n",
    "    files = v[0]\n",
    "    class_number = v[2]\n",
    "    for file in files:\n",
    "        df = pd.read_csv(file.replace(os.path.sep, '/'), dtype=np.float)\n",
    "        #df = df[df['n']<FILTERS]\n",
    "        img1 = pp.scale(df[a1:a2]['magnitude'].values)\n",
    "        img2 = pp.scale(df[b1:b2]['magnitude'].values)\n",
    "        img3 = pp.scale(df[c1:c2]['magnitude'].values)\n",
    "        training_set.append((img1, class_number))\n",
    "        training_set.append((img2, class_number))\n",
    "        training_set.append((img3, class_number))\n",
    "    files = v[1]\n",
    "    for file in files:\n",
    "        df = pd.read_csv(file.replace(os.path.sep, '/'), dtype=np.float)\n",
    "        #df = df[df['n']<FILTERS]\n",
    "        img1 = pp.scale(df[a1:a2]['magnitude'].values)\n",
    "        img2 = pp.scale(df[b1:b2]['magnitude'].values)\n",
    "        img3 = pp.scale(df[c1:c2]['magnitude'].values)\n",
    "        test_set.append((img1, class_number))\n",
    "        test_set.append((img2, class_number))\n",
    "        test_set.append((img3, class_number))\n",
    "\n",
    "random.shuffle(training_set)\n",
    "random.shuffle(test_set)\n",
    "    \n",
    "class_labels = [None for _ in range(len(data_set))]\n",
    "\n",
    "# Class number and class labels\n",
    "for k,v in data_set.items():\n",
    "    print('{}: {}'.format(v[2],k ))\n",
    "    class_labels[v[2]] = k\n",
    "\n",
    "import yaml\n",
    "with open(DATA_FOLDER+'class_labels.yaml', 'w') as f:\n",
    "    yaml.dump(class_labels, f)\n",
    "\n",
    "len(training_set)"
   ]
  },
  {
   "cell_type": "code",
   "execution_count": 4,
   "metadata": {
    "colab": {},
    "colab_type": "code",
    "id": "28tIKkNyW3cO"
   },
   "outputs": [
    {
     "name": "stderr",
     "output_type": "stream",
     "text": [
      "Using TensorFlow backend.\n",
      "/usr/lib/python3.5/importlib/_bootstrap.py:222: RuntimeWarning: compiletime version 3.4 of module 'tensorflow.python.framework.fast_tensor_util' does not match runtime version 3.5\n",
      "  return f(*args, **kwds)\n",
      "/usr/lib/python3.5/importlib/_bootstrap.py:222: RuntimeWarning: builtins.type size changed, may indicate binary incompatibility. Expected 432, got 412\n",
      "  return f(*args, **kwds)\n"
     ]
    },
    {
     "data": {
      "text/plain": [
       "<matplotlib.image.AxesImage at 0x64453d50>"
      ]
     },
     "execution_count": 4,
     "metadata": {},
     "output_type": "execute_result"
    },
    {
     "data": {
      "image/png": "[encoded data removed]",
      "text/plain": [
       "<matplotlib.figure.Figure at 0x6c65a450>"
      ]
     },
     "metadata": {
      "needs_background": "light"
     },
     "output_type": "display_data"
    }
   ],
   "source": [
    "train_data, train_labels = [], []\n",
    "test_data, test_labels = [], []\n",
    "for img, label in training_set:\n",
    "    train_data.append(img)\n",
    "    train_labels.append(label)\n",
    "for img, label in test_set:\n",
    "    test_data.append(img)\n",
    "    test_labels.append(label)\n",
    "train_data = np.array(train_data, dtype='float32').reshape((TRAINING_FILES*len(class_labels)*3, LENGTH, FILTERS, 1))\n",
    "train_labels = np.array(train_labels, dtype='uint8')\n",
    "test_data = np.array(test_data, dtype='float32').reshape((TEST_FILES*len(class_labels)*3, LENGTH, FILTERS, 1))\n",
    "test_lables = np.array(test_labels, dtype='uint8')\n",
    "#train_data.shape\n",
    "\n",
    "from keras.utils import to_categorical\n",
    "\n",
    "train_labels=to_categorical(train_labels)\n",
    "test_labels=to_categorical(test_labels)\n",
    "\n",
    "plt.imshow(np.rot90(train_data[0, :,:,0]))"
   ]
  },
  {
   "cell_type": "markdown",
   "metadata": {
    "colab_type": "text",
    "id": "VfUmgxxVk6uM"
   },
   "source": [
    "### CNN model"
   ]
  },
  {
   "cell_type": "code",
   "execution_count": 5,
   "metadata": {
    "colab": {
     "base_uri": "https://localhost:8080/",
     "height": 509
    },
    "colab_type": "code",
    "id": "B2Xg6tGLdMKP",
    "outputId": "ae3daa32-9dbf-4d8b-9a11-7f596dd2e4a6"
   },
   "outputs": [
    {
     "name": "stdout",
     "output_type": "stream",
     "text": [
      "_________________________________________________________________\n",
      "Layer (type)                 Output Shape              Param #   \n",
      "=================================================================\n",
      "conv2d_1 (Conv2D)            (None, 62, 38, 4)         40        \n",
      "_________________________________________________________________\n",
      "max_pooling2d_1 (MaxPooling2 (None, 31, 19, 4)         0         \n",
      "_________________________________________________________________\n",
      "conv2d_2 (Conv2D)            (None, 29, 17, 8)         296       \n",
      "_________________________________________________________________\n",
      "max_pooling2d_2 (MaxPooling2 (None, 14, 8, 8)          0         \n",
      "_________________________________________________________________\n",
      "conv2d_3 (Conv2D)            (None, 12, 6, 16)         1168      \n",
      "_________________________________________________________________\n",
      "max_pooling2d_3 (MaxPooling2 (None, 6, 3, 16)          0         \n",
      "_________________________________________________________________\n",
      "flatten_1 (Flatten)          (None, 288)               0         \n",
      "_________________________________________________________________\n",
      "dense_1 (Dense)              (None, 64)                18496     \n",
      "_________________________________________________________________\n",
      "dropout_1 (Dropout)          (None, 64)                0         \n",
      "_________________________________________________________________\n",
      "dense_2 (Dense)              (None, 7)                 455       \n",
      "=================================================================\n",
      "Total params: 20,455\n",
      "Trainable params: 20,455\n",
      "Non-trainable params: 0\n",
      "_________________________________________________________________\n"
     ]
    }
   ],
   "source": [
    "from keras import layers\n",
    "from keras import models\n",
    "\n",
    "model = models.Sequential()\n",
    "\n",
    "model.add(layers.Conv2D(4, (3, 3), activation='relu', input_shape=(LENGTH, FILTERS, 1)))\n",
    "model.add(layers.MaxPooling2D((2,2)))\n",
    "\n",
    "model.add(layers.Conv2D(8, (3, 3), activation='relu'))\n",
    "model.add(layers.MaxPooling2D((2,2)))\n",
    "\n",
    "model.add(layers.Conv2D(16, (3, 3), activation='relu'))\n",
    "model.add(layers.MaxPooling2D((2,2)))\n",
    "\n",
    "model.add(layers.Flatten())\n",
    "model.add(layers.Dense(64, activation='relu'))\n",
    "model.add(layers.Dropout(0.5))\n",
    "model.add(layers.Dense(7, activation='softmax'))\n",
    "\n",
    "model.summary()"
   ]
  },
  {
   "cell_type": "code",
   "execution_count": 6,
   "metadata": {
    "colab": {},
    "colab_type": "code",
    "id": "nRr1L_4ogL6i"
   },
   "outputs": [],
   "source": [
    "model.compile(optimizer='rmsprop', loss='categorical_crossentropy', metrics=['accuracy'])"
   ]
  },
  {
   "cell_type": "code",
   "execution_count": 7,
   "metadata": {},
   "outputs": [
    {
     "data": {
      "image/svg+xml": [
       "<svg height=\"775pt\" viewBox=\"0.00 0.00 263.00 775.00\" width=\"263pt\" xmlns=\"http://www.w3.org/2000/svg\" xmlns:xlink=\"http://www.w3.org/1999/xlink\">\n",
       "<g class=\"graph\" id=\"graph0\" transform=\"scale(1 1) rotate(0) translate(4 771)\">\n",
       "<title>G</title>\n",
       "<polygon fill=\"white\" points=\"-4,4 -4,-771 259,-771 259,4 -4,4\" stroke=\"none\"/>\n",
       "<!-- 1681514800 -->\n",
       "<g class=\"node\" id=\"node1\"><title>1681514800</title>\n",
       "<polygon fill=\"none\" points=\"52,-657.5 52,-693.5 203,-693.5 203,-657.5 52,-657.5\" stroke=\"black\"/>\n",
       "<text font-family=\"Times,serif\" font-size=\"14.00\" text-anchor=\"middle\" x=\"127.5\" y=\"-671.8\">conv2d_1: Conv2D</text>\n",
       "</g>\n",
       "<!-- 1681576208 -->\n",
       "<g class=\"node\" id=\"node2\"><title>1681576208</title>\n",
       "<polygon fill=\"none\" points=\"0,-584.5 0,-620.5 255,-620.5 255,-584.5 0,-584.5\" stroke=\"black\"/>\n",
       "<text font-family=\"Times,serif\" font-size=\"14.00\" text-anchor=\"middle\" x=\"127.5\" y=\"-598.8\">max_pooling2d_1: MaxPooling2D</text>\n",
       "</g>\n",
       "<!-- 1681514800&#45;&gt;1681576208 -->\n",
       "<g class=\"edge\" id=\"edge2\"><title>1681514800-&gt;1681576208</title>\n",
       "<path d=\"M127.5,-657.313C127.5,-649.289 127.5,-639.547 127.5,-630.569\" fill=\"none\" stroke=\"black\"/>\n",
       "<polygon fill=\"black\" points=\"131,-630.529 127.5,-620.529 124,-630.529 131,-630.529\" stroke=\"black\"/>\n",
       "</g>\n",
       "<!-- 1681578128 -->\n",
       "<g class=\"node\" id=\"node3\"><title>1681578128</title>\n",
       "<polygon fill=\"none\" points=\"52,-511.5 52,-547.5 203,-547.5 203,-511.5 52,-511.5\" stroke=\"black\"/>\n",
       "<text font-family=\"Times,serif\" font-size=\"14.00\" text-anchor=\"middle\" x=\"127.5\" y=\"-525.8\">conv2d_2: Conv2D</text>\n",
       "</g>\n",
       "<!-- 1681576208&#45;&gt;1681578128 -->\n",
       "<g class=\"edge\" id=\"edge3\"><title>1681576208-&gt;1681578128</title>\n",
       "<path d=\"M127.5,-584.313C127.5,-576.289 127.5,-566.547 127.5,-557.569\" fill=\"none\" stroke=\"black\"/>\n",
       "<polygon fill=\"black\" points=\"131,-557.529 127.5,-547.529 124,-557.529 131,-557.529\" stroke=\"black\"/>\n",
       "</g>\n",
       "<!-- 1817483024 -->\n",
       "<g class=\"node\" id=\"node4\"><title>1817483024</title>\n",
       "<polygon fill=\"none\" points=\"0,-438.5 0,-474.5 255,-474.5 255,-438.5 0,-438.5\" stroke=\"black\"/>\n",
       "<text font-family=\"Times,serif\" font-size=\"14.00\" text-anchor=\"middle\" x=\"127.5\" y=\"-452.8\">max_pooling2d_2: MaxPooling2D</text>\n",
       "</g>\n",
       "<!-- 1681578128&#45;&gt;1817483024 -->\n",
       "<g class=\"edge\" id=\"edge4\"><title>1681578128-&gt;1817483024</title>\n",
       "<path d=\"M127.5,-511.313C127.5,-503.289 127.5,-493.547 127.5,-484.569\" fill=\"none\" stroke=\"black\"/>\n",
       "<polygon fill=\"black\" points=\"131,-484.529 127.5,-474.529 124,-484.529 131,-484.529\" stroke=\"black\"/>\n",
       "</g>\n",
       "<!-- 1681532560 -->\n",
       "<g class=\"node\" id=\"node5\"><title>1681532560</title>\n",
       "<polygon fill=\"none\" points=\"52,-365.5 52,-401.5 203,-401.5 203,-365.5 52,-365.5\" stroke=\"black\"/>\n",
       "<text font-family=\"Times,serif\" font-size=\"14.00\" text-anchor=\"middle\" x=\"127.5\" y=\"-379.8\">conv2d_3: Conv2D</text>\n",
       "</g>\n",
       "<!-- 1817483024&#45;&gt;1681532560 -->\n",
       "<g class=\"edge\" id=\"edge5\"><title>1817483024-&gt;1681532560</title>\n",
       "<path d=\"M127.5,-438.313C127.5,-430.289 127.5,-420.547 127.5,-411.569\" fill=\"none\" stroke=\"black\"/>\n",
       "<polygon fill=\"black\" points=\"131,-411.529 127.5,-401.529 124,-411.529 131,-411.529\" stroke=\"black\"/>\n",
       "</g>\n",
       "<!-- 1679965392 -->\n",
       "<g class=\"node\" id=\"node6\"><title>1679965392</title>\n",
       "<polygon fill=\"none\" points=\"0,-292.5 0,-328.5 255,-328.5 255,-292.5 0,-292.5\" stroke=\"black\"/>\n",
       "<text font-family=\"Times,serif\" font-size=\"14.00\" text-anchor=\"middle\" x=\"127.5\" y=\"-306.8\">max_pooling2d_3: MaxPooling2D</text>\n",
       "</g>\n",
       "<!-- 1681532560&#45;&gt;1679965392 -->\n",
       "<g class=\"edge\" id=\"edge6\"><title>1681532560-&gt;1679965392</title>\n",
       "<path d=\"M127.5,-365.313C127.5,-357.289 127.5,-347.547 127.5,-338.569\" fill=\"none\" stroke=\"black\"/>\n",
       "<polygon fill=\"black\" points=\"131,-338.529 127.5,-328.529 124,-338.529 131,-338.529\" stroke=\"black\"/>\n",
       "</g>\n",
       "<!-- 1681921552 -->\n",
       "<g class=\"node\" id=\"node7\"><title>1681921552</title>\n",
       "<polygon fill=\"none\" points=\"57,-219.5 57,-255.5 198,-255.5 198,-219.5 57,-219.5\" stroke=\"black\"/>\n",
       "<text font-family=\"Times,serif\" font-size=\"14.00\" text-anchor=\"middle\" x=\"127.5\" y=\"-233.8\">flatten_1: Flatten</text>\n",
       "</g>\n",
       "<!-- 1679965392&#45;&gt;1681921552 -->\n",
       "<g class=\"edge\" id=\"edge7\"><title>1679965392-&gt;1681921552</title>\n",
       "<path d=\"M127.5,-292.313C127.5,-284.289 127.5,-274.547 127.5,-265.569\" fill=\"none\" stroke=\"black\"/>\n",
       "<polygon fill=\"black\" points=\"131,-265.529 127.5,-255.529 124,-265.529 131,-265.529\" stroke=\"black\"/>\n",
       "</g>\n",
       "<!-- 1681920784 -->\n",
       "<g class=\"node\" id=\"node8\"><title>1681920784</title>\n",
       "<polygon fill=\"none\" points=\"63.5,-146.5 63.5,-182.5 191.5,-182.5 191.5,-146.5 63.5,-146.5\" stroke=\"black\"/>\n",
       "<text font-family=\"Times,serif\" font-size=\"14.00\" text-anchor=\"middle\" x=\"127.5\" y=\"-160.8\">dense_1: Dense</text>\n",
       "</g>\n",
       "<!-- 1681921552&#45;&gt;1681920784 -->\n",
       "<g class=\"edge\" id=\"edge8\"><title>1681921552-&gt;1681920784</title>\n",
       "<path d=\"M127.5,-219.313C127.5,-211.289 127.5,-201.547 127.5,-192.569\" fill=\"none\" stroke=\"black\"/>\n",
       "<polygon fill=\"black\" points=\"131,-192.529 127.5,-182.529 124,-192.529 131,-192.529\" stroke=\"black\"/>\n",
       "</g>\n",
       "<!-- 1681923856 -->\n",
       "<g class=\"node\" id=\"node9\"><title>1681923856</title>\n",
       "<polygon fill=\"none\" points=\"49,-73.5 49,-109.5 206,-109.5 206,-73.5 49,-73.5\" stroke=\"black\"/>\n",
       "<text font-family=\"Times,serif\" font-size=\"14.00\" text-anchor=\"middle\" x=\"127.5\" y=\"-87.8\">dropout_1: Dropout</text>\n",
       "</g>\n",
       "<!-- 1681920784&#45;&gt;1681923856 -->\n",
       "<g class=\"edge\" id=\"edge9\"><title>1681920784-&gt;1681923856</title>\n",
       "<path d=\"M127.5,-146.313C127.5,-138.289 127.5,-128.547 127.5,-119.569\" fill=\"none\" stroke=\"black\"/>\n",
       "<polygon fill=\"black\" points=\"131,-119.529 127.5,-109.529 124,-119.529 131,-119.529\" stroke=\"black\"/>\n",
       "</g>\n",
       "<!-- 1682032080 -->\n",
       "<g class=\"node\" id=\"node10\"><title>1682032080</title>\n",
       "<polygon fill=\"none\" points=\"63.5,-0.5 63.5,-36.5 191.5,-36.5 191.5,-0.5 63.5,-0.5\" stroke=\"black\"/>\n",
       "<text font-family=\"Times,serif\" font-size=\"14.00\" text-anchor=\"middle\" x=\"127.5\" y=\"-14.8\">dense_2: Dense</text>\n",
       "</g>\n",
       "<!-- 1681923856&#45;&gt;1682032080 -->\n",
       "<g class=\"edge\" id=\"edge10\"><title>1681923856-&gt;1682032080</title>\n",
       "<path d=\"M127.5,-73.3129C127.5,-65.2895 127.5,-55.5475 127.5,-46.5691\" fill=\"none\" stroke=\"black\"/>\n",
       "<polygon fill=\"black\" points=\"131,-46.5288 127.5,-36.5288 124,-46.5289 131,-46.5288\" stroke=\"black\"/>\n",
       "</g>\n",
       "<!-- 1681579120 -->\n",
       "<g class=\"node\" id=\"node11\"><title>1681579120</title>\n",
       "<polygon fill=\"none\" points=\"74,-730.5 74,-766.5 181,-766.5 181,-730.5 74,-730.5\" stroke=\"black\"/>\n",
       "<text font-family=\"Times,serif\" font-size=\"14.00\" text-anchor=\"middle\" x=\"127.5\" y=\"-744.8\">1681579120</text>\n",
       "</g>\n",
       "<!-- 1681579120&#45;&gt;1681514800 -->\n",
       "<g class=\"edge\" id=\"edge1\"><title>1681579120-&gt;1681514800</title>\n",
       "<path d=\"M127.5,-730.313C127.5,-722.289 127.5,-712.547 127.5,-703.569\" fill=\"none\" stroke=\"black\"/>\n",
       "<polygon fill=\"black\" points=\"131,-703.529 127.5,-693.529 124,-703.529 131,-703.529\" stroke=\"black\"/>\n",
       "</g>\n",
       "</g>\n",
       "</svg>"
      ],
      "text/plain": [
       "<IPython.core.display.SVG object>"
      ]
     },
     "execution_count": 7,
     "metadata": {},
     "output_type": "execute_result"
    }
   ],
   "source": [
    "from IPython.display import SVG\n",
    "from keras.utils.vis_utils import model_to_dot\n",
    "\n",
    "SVG(model_to_dot(model).create(prog='dot', format='svg'))"
   ]
  },
  {
   "cell_type": "markdown",
   "metadata": {
    "colab_type": "text",
    "id": "TfypWUJIlFkz"
   },
   "source": [
    "## Training CNN"
   ]
  },
  {
   "cell_type": "code",
   "execution_count": 8,
   "metadata": {
    "colab": {
     "base_uri": "https://localhost:8080/",
     "height": 931
    },
    "colab_type": "code",
    "id": "zsdmu-ggfvr1",
    "outputId": "77a52558-8ecc-4fc5-e0cb-2b86a75df4c6"
   },
   "outputs": [
    {
     "name": "stdout",
     "output_type": "stream",
     "text": [
      "Train on 840 samples, validate on 210 samples\n",
      "Epoch 1/30\n",
      "840/840 [==============================] - 13s 15ms/step - loss: 1.8641 - acc: 0.2190 - val_loss: 1.4870 - val_acc: 0.5143\n",
      "Epoch 2/30\n",
      "840/840 [==============================] - 7s 9ms/step - loss: 1.3165 - acc: 0.5107 - val_loss: 0.9008 - val_acc: 0.7000\n",
      "Epoch 3/30\n",
      "840/840 [==============================] - 7s 9ms/step - loss: 1.0500 - acc: 0.6452 - val_loss: 0.7747 - val_acc: 0.7381\n",
      "Epoch 4/30\n",
      "840/840 [==============================] - 8s 9ms/step - loss: 0.8755 - acc: 0.7167 - val_loss: 0.6810 - val_acc: 0.7667\n",
      "Epoch 5/30\n",
      "840/840 [==============================] - 8s 9ms/step - loss: 0.7605 - acc: 0.7500 - val_loss: 0.5886 - val_acc: 0.8000\n",
      "Epoch 6/30\n",
      "840/840 [==============================] - 8s 9ms/step - loss: 0.6794 - acc: 0.7548 - val_loss: 0.5524 - val_acc: 0.7571\n",
      "Epoch 7/30\n",
      "840/840 [==============================] - 8s 9ms/step - loss: 0.6330 - acc: 0.7833 - val_loss: 0.5856 - val_acc: 0.7762\n",
      "Epoch 8/30\n",
      "840/840 [==============================] - 8s 9ms/step - loss: 0.5827 - acc: 0.8119 - val_loss: 0.5223 - val_acc: 0.7857\n",
      "Epoch 9/30\n",
      "840/840 [==============================] - 8s 9ms/step - loss: 0.5419 - acc: 0.8095 - val_loss: 0.4986 - val_acc: 0.8190\n",
      "Epoch 10/30\n",
      "840/840 [==============================] - 8s 10ms/step - loss: 0.5280 - acc: 0.8024 - val_loss: 0.5055 - val_acc: 0.7952\n",
      "Epoch 11/30\n",
      "840/840 [==============================] - 6s 7ms/step - loss: 0.4901 - acc: 0.8179 - val_loss: 0.4787 - val_acc: 0.8048\n",
      "Epoch 12/30\n",
      "840/840 [==============================] - 7s 9ms/step - loss: 0.4676 - acc: 0.8321 - val_loss: 0.5190 - val_acc: 0.8238\n",
      "Epoch 13/30\n",
      "840/840 [==============================] - 7s 9ms/step - loss: 0.4410 - acc: 0.8369 - val_loss: 0.6272 - val_acc: 0.8095\n",
      "Epoch 14/30\n",
      "840/840 [==============================] - 7s 9ms/step - loss: 0.3779 - acc: 0.8786 - val_loss: 0.4347 - val_acc: 0.8762\n",
      "Epoch 15/30\n",
      "840/840 [==============================] - 8s 9ms/step - loss: 0.4182 - acc: 0.8560 - val_loss: 0.4847 - val_acc: 0.8333\n",
      "Epoch 16/30\n",
      "840/840 [==============================] - 8s 9ms/step - loss: 0.3959 - acc: 0.8548 - val_loss: 0.5642 - val_acc: 0.8048\n",
      "Epoch 17/30\n",
      "840/840 [==============================] - 7s 9ms/step - loss: 0.3667 - acc: 0.8774 - val_loss: 0.5075 - val_acc: 0.8190\n",
      "Epoch 18/30\n",
      "840/840 [==============================] - 8s 9ms/step - loss: 0.3379 - acc: 0.8762 - val_loss: 0.5056 - val_acc: 0.8286\n",
      "Epoch 19/30\n",
      "840/840 [==============================] - 8s 9ms/step - loss: 0.3600 - acc: 0.8798 - val_loss: 0.4480 - val_acc: 0.8381\n",
      "Epoch 20/30\n",
      "840/840 [==============================] - 8s 9ms/step - loss: 0.3383 - acc: 0.8881 - val_loss: 0.4913 - val_acc: 0.8429\n",
      "Epoch 21/30\n",
      "840/840 [==============================] - 8s 9ms/step - loss: 0.3126 - acc: 0.8881 - val_loss: 0.4280 - val_acc: 0.8762\n",
      "Epoch 22/30\n",
      "840/840 [==============================] - 8s 10ms/step - loss: 0.3102 - acc: 0.8869 - val_loss: 0.5004 - val_acc: 0.8381\n",
      "Epoch 23/30\n",
      "840/840 [==============================] - 8s 9ms/step - loss: 0.2894 - acc: 0.8929 - val_loss: 0.4066 - val_acc: 0.8667\n",
      "Epoch 24/30\n",
      "840/840 [==============================] - 8s 9ms/step - loss: 0.2811 - acc: 0.9012 - val_loss: 0.5211 - val_acc: 0.8429\n",
      "Epoch 25/30\n",
      "840/840 [==============================] - 8s 9ms/step - loss: 0.2732 - acc: 0.9012 - val_loss: 0.4232 - val_acc: 0.8810\n",
      "Epoch 26/30\n",
      "840/840 [==============================] - 8s 9ms/step - loss: 0.2631 - acc: 0.9048 - val_loss: 0.4717 - val_acc: 0.8667\n",
      "Epoch 27/30\n",
      "840/840 [==============================] - 8s 9ms/step - loss: 0.2469 - acc: 0.9143 - val_loss: 0.4646 - val_acc: 0.8667\n",
      "Epoch 28/30\n",
      "840/840 [==============================] - 8s 9ms/step - loss: 0.2374 - acc: 0.9119 - val_loss: 0.5257 - val_acc: 0.8571\n",
      "Epoch 29/30\n",
      "840/840 [==============================] - 8s 10ms/step - loss: 0.2495 - acc: 0.9131 - val_loss: 0.3791 - val_acc: 0.8905\n",
      "Epoch 30/30\n",
      "840/840 [==============================] - 8s 9ms/step - loss: 0.2290 - acc: 0.9286 - val_loss: 0.5969 - val_acc: 0.8476\n"
     ]
    }
   ],
   "source": [
    "EPOCHS = 30\n",
    "history = model.fit(train_data, train_labels, epochs=EPOCHS, validation_data=(test_data, test_labels), batch_size=10)"
   ]
  },
  {
   "cell_type": "code",
   "execution_count": 9,
   "metadata": {},
   "outputs": [
    {
     "name": "stdout",
     "output_type": "stream",
     "text": [
      "dict_keys(['acc', 'val_loss', 'val_acc', 'loss'])\n"
     ]
    },
    {
     "data": {
      "image/png": "[encoded data removed]",
      "text/plain": [
       "<matplotlib.figure.Figure at 0x63736fb0>"
      ]
     },
     "metadata": {
      "needs_background": "light"
     },
     "output_type": "display_data"
    },
    {
     "data": {
      "image/png": "[encoded data removed]",
      "text/plain": [
       "<matplotlib.figure.Figure at 0x6c65abb0>"
      ]
     },
     "metadata": {
      "needs_background": "light"
     },
     "output_type": "display_data"
    }
   ],
   "source": [
    "print(history.history.keys())\n",
    "\n",
    "# Plot training & validation accuracy values\n",
    "plt.plot(history.history['acc'])\n",
    "plt.plot(history.history['val_acc'])\n",
    "\n",
    "plt.title('Model accuracy')\n",
    "plt.ylabel('Accuracy')\n",
    "plt.xlabel('Epoch')\n",
    "plt.legend(['Train', 'Test'], loc='upper left')\n",
    "plt.show()\n",
    "\n",
    "# Plot training & validation loss values\n",
    "plt.plot(history.history['loss'])\n",
    "plt.plot(history.history['val_loss'])\n",
    "plt.title('Model loss')\n",
    "plt.ylabel('Loss')\n",
    "plt.xlabel('Epoch')\n",
    "plt.legend(['Train', 'Test'], loc='upper left')\n",
    "plt.show()"
   ]
  },
  {
   "cell_type": "markdown",
   "metadata": {},
   "source": [
    "## Save the model"
   ]
  },
  {
   "cell_type": "code",
   "execution_count": 10,
   "metadata": {},
   "outputs": [],
   "source": [
    "import datetime\n",
    "\n",
    "dt = datetime.datetime.today().strftime('%Y%m%d%H%M%S')\n",
    "filename = 'cnn_for_aed_living_{}.h5'.format(dt)\n",
    "model.save(filename)"
   ]
  },
  {
   "cell_type": "markdown",
   "metadata": {},
   "source": [
    "## Load the model"
   ]
  },
  {
   "cell_type": "code",
   "execution_count": 11,
   "metadata": {},
   "outputs": [],
   "source": [
    "del model\n",
    "model = models.load_model(filename)"
   ]
  },
  {
   "cell_type": "markdown",
   "metadata": {
    "colab_type": "text",
    "id": "j6con4C3lKC1"
   },
   "source": [
    "## Confirmation"
   ]
  },
  {
   "cell_type": "code",
   "execution_count": 12,
   "metadata": {
    "colab": {
     "base_uri": "https://localhost:8080/",
     "height": 34
    },
    "colab_type": "code",
    "id": "4oZYLLij69wU",
    "outputId": "b37a4b8a-2c80-411f-d8a9-5df1c6dbfe22"
   },
   "outputs": [
    {
     "data": {
      "text/plain": [
       "(840, 64, 40, 1)"
      ]
     },
     "execution_count": 12,
     "metadata": {},
     "output_type": "execute_result"
    }
   ],
   "source": [
    "import numpy as np\n",
    "import matplotlib.pyplot as plt\n",
    "train_data.shape"
   ]
  },
  {
   "cell_type": "code",
   "execution_count": 13,
   "metadata": {
    "colab": {
     "base_uri": "https://localhost:8080/",
     "height": 193
    },
    "colab_type": "code",
    "id": "zSxXE9FgRBdJ",
    "outputId": "f3a53efe-e99f-4572-f9b4-1bf3c39c77ec"
   },
   "outputs": [],
   "source": [
    "layer_outputs = [layer.output for layer in model.layers]\n",
    "#layer_outputs"
   ]
  },
  {
   "cell_type": "code",
   "execution_count": 14,
   "metadata": {
    "colab": {
     "base_uri": "https://localhost:8080/",
     "height": 34
    },
    "colab_type": "code",
    "id": "dcw7yHKrRkPD",
    "outputId": "a3ed5441-ae48-4635-bf07-ac5060030608"
   },
   "outputs": [],
   "source": [
    "activation_model = models.Model(inputs=model.input, outputs=layer_outputs)\n",
    "activations = activation_model.predict(test_data)\n",
    "#activations[0][0,:,:,0].shape"
   ]
  },
  {
   "cell_type": "code",
   "execution_count": 15,
   "metadata": {},
   "outputs": [
    {
     "data": {
      "text/plain": [
       "['silence',\n",
       " 'bathing',\n",
       " 'tooth_brushing',\n",
       " 'washing',\n",
       " 'watching_tv',\n",
       " 'moving',\n",
       " 'cocking']"
      ]
     },
     "execution_count": 15,
     "metadata": {},
     "output_type": "execute_result"
    }
   ],
   "source": [
    "class_labels"
   ]
  },
  {
   "cell_type": "code",
   "execution_count": 16,
   "metadata": {
    "colab": {
     "base_uri": "https://localhost:8080/",
     "height": 193
    },
    "colab_type": "code",
    "id": "ccSNAwGKhRn9",
    "outputId": "0ad22e12-713b-4b07-e17b-45d39ff1b80b"
   },
   "outputs": [
    {
     "data": {
      "text/plain": [
       "array([[ 0,  0,  0,  0,  0,  0, 99],\n",
       "       [ 0,  0, 90,  0,  0,  9,  0],\n",
       "       [ 0, 99,  0,  0,  0,  0,  0],\n",
       "       [ 0, 99,  0,  0,  0,  0,  0],\n",
       "       [ 0,  0,  0, 99,  0,  0,  0],\n",
       "       [ 0,  0, 97,  2,  0,  0,  0],\n",
       "       [ 0,  0,  0,  0, 99,  0,  0],\n",
       "       [ 0,  0,  0, 47,  0, 52,  0],\n",
       "       [ 0,  0, 99,  0,  0,  0,  0],\n",
       "       [80,  0,  0,  0,  2, 15,  0]])"
      ]
     },
     "execution_count": 16,
     "metadata": {},
     "output_type": "execute_result"
    }
   ],
   "source": [
    "(activations[-1][:10]*100).astype(int)"
   ]
  },
  {
   "cell_type": "code",
   "execution_count": 17,
   "metadata": {
    "colab": {
     "base_uri": "https://localhost:8080/",
     "height": 193
    },
    "colab_type": "code",
    "id": "RoE0nxtuiGIN",
    "outputId": "154437a8-ab72-46f4-f42c-3e6464af47d0"
   },
   "outputs": [
    {
     "data": {
      "text/plain": [
       "array([[0, 0, 0, 0, 0, 0, 1],\n",
       "       [0, 0, 1, 0, 0, 0, 0],\n",
       "       [0, 1, 0, 0, 0, 0, 0],\n",
       "       [0, 1, 0, 0, 0, 0, 0],\n",
       "       [0, 0, 0, 1, 0, 0, 0],\n",
       "       [0, 0, 1, 0, 0, 0, 0],\n",
       "       [0, 0, 0, 0, 1, 0, 0],\n",
       "       [0, 0, 0, 0, 0, 1, 0],\n",
       "       [0, 0, 1, 0, 0, 0, 0],\n",
       "       [1, 0, 0, 0, 0, 0, 0]])"
      ]
     },
     "execution_count": 17,
     "metadata": {},
     "output_type": "execute_result"
    }
   ],
   "source": [
    "test_labels[:10].astype(int)"
   ]
  },
  {
   "cell_type": "code",
   "execution_count": 18,
   "metadata": {},
   "outputs": [],
   "source": [
    "def plot_layer(activations, sample, layer):\n",
    "    a = activations[layer].shape\n",
    "    rows = int(a[3]/4)\n",
    "    fig, axarr = plt.subplots(rows, 4, figsize=[20,15])\n",
    "    for i in range(a[3]):\n",
    "        row = int(i/4)\n",
    "        x, y = row, i-4*row\n",
    "        axarr[x, y].imshow(np.rot90(activations[layer][sample, :, :, i]))\n",
    "        axarr[x, y].set_xticks([])\n",
    "        axarr[x, y].set_yticks([])"
   ]
  },
  {
   "cell_type": "code",
   "execution_count": 19,
   "metadata": {},
   "outputs": [
    {
     "data": {
      "text/plain": [
       "'tooth_brushing'"
      ]
     },
     "execution_count": 19,
     "metadata": {},
     "output_type": "execute_result"
    },
    {
     "data": {
      "image/png": "[encoded data removed]",
      "text/plain": [
       "<matplotlib.figure.Figure at 0x5ee51130>"
      ]
     },
     "metadata": {
      "needs_background": "light"
     },
     "output_type": "display_data"
    }
   ],
   "source": [
    "image_number = 8\n",
    "\n",
    "plt.imshow(np.rot90(test_data[image_number,:,:,0]))\n",
    "class_labels[np.argmax(test_labels[image_number])]"
   ]
  },
  {
   "cell_type": "code",
   "execution_count": 20,
   "metadata": {},
   "outputs": [
    {
     "data": {
      "image/png": "[encoded data removed]",
      "text/plain": [
       "<matplotlib.figure.Figure at 0x638cc990>"
      ]
     },
     "metadata": {},
     "output_type": "display_data"
    }
   ],
   "source": [
    "plot_layer(activations, image_number, 2)"
   ]
  },
  {
   "cell_type": "code",
   "execution_count": 21,
   "metadata": {},
   "outputs": [
    {
     "data": {
      "image/png": "[encoded data removed]",
      "text/plain": [
       "<matplotlib.figure.Figure at 0x5e822cb0>"
      ]
     },
     "metadata": {},
     "output_type": "display_data"
    }
   ],
   "source": [
    "plot_layer(activations, image_number, 4)"
   ]
  },
  {
   "cell_type": "code",
   "execution_count": null,
   "metadata": {},
   "outputs": [],
   "source": []
  }
 ],
 "metadata": {
  "colab": {
   "collapsed_sections": [],
   "name": "CNN for AED",
   "provenance": [],
   "version": "0.3.2"
  },
  "kernelspec": {
   "display_name": "Python 3",
   "language": "python",
   "name": "python3"
  },
  "language_info": {
   "codemirror_mode": {
    "name": "ipython",
    "version": 3
   },
   "file_extension": ".py",
   "mimetype": "text/x-python",
   "name": "python",
   "nbconvert_exporter": "python",
   "pygments_lexer": "ipython3",
   "version": "3.5.3"
  }
 },
 "nbformat": 4,
 "nbformat_minor": 1
}
