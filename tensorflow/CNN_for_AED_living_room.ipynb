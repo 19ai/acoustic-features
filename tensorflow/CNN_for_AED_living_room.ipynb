{
 "cells": [
  {
   "cell_type": "markdown",
   "metadata": {
    "colab_type": "text",
    "id": "0X16cagQE-Y-"
   },
   "source": [
    "# CNN for AED with Keras/TensorFlow (living room)\n",
    "\n",
    "Date: Nov 8, 2018\n",
    "\n",
    "Data acquisition: living room"
   ]
  },
  {
   "cell_type": "markdown",
   "metadata": {
    "colab_type": "text",
    "id": "WwQ-dEltkl5Q"
   },
   "source": [
    "## Preparing data set for CNN"
   ]
  },
  {
   "cell_type": "code",
   "execution_count": 1,
   "metadata": {
    "colab": {
     "base_uri": "https://localhost:8080/",
     "height": 34
    },
    "colab_type": "code",
    "id": "VEJyQsGpV3ug",
    "outputId": "3929aa39-3383-4791-e065-3622e6781181"
   },
   "outputs": [],
   "source": [
    "DATA_FOLDER = '../oscilloscope/data_living/'\n",
    "\n",
    "FILTERS=40\n",
    "FILES = 50\n",
    "TRAINING_FILES = 40\n",
    "TEST_FILES = FILES - TRAINING_FILES"
   ]
  },
  {
   "cell_type": "code",
   "execution_count": 2,
   "metadata": {
    "colab": {},
    "colab_type": "code",
    "id": "JTNdoPBFWGky"
   },
   "outputs": [],
   "source": [
    "%matplotlib inline\n",
    "\n",
    "import matplotlib\n",
    "import matplotlib.pyplot as plt\n",
    "import numpy as np\n",
    "import pandas as pd\n",
    "import time\n",
    "import random\n",
    "import os\n",
    "import sklearn.preprocessing as pp"
   ]
  },
  {
   "cell_type": "code",
   "execution_count": 3,
   "metadata": {},
   "outputs": [
    {
     "name": "stdout",
     "output_type": "stream",
     "text": [
      "0: bathing\n",
      "1: cocking\n",
      "2: moving\n",
      "3: silence\n",
      "4: tooth_brushing\n",
      "5: washing\n",
      "6: watching_tv\n"
     ]
    },
    {
     "data": {
      "text/plain": [
       "840"
      ]
     },
     "execution_count": 3,
     "metadata": {},
     "output_type": "execute_result"
    }
   ],
   "source": [
    "import glob\n",
    "\n",
    "data_files = glob.glob(DATA_FOLDER+'*mel_spectrogram*.csv')\n",
    "class_labels = []\n",
    "\n",
    "for file in data_files:\n",
    "    label = file.split('-')[0].replace('\\\\', '/').split('/')[-1]\n",
    "    if label not in class_labels:\n",
    "        class_labels.append(label)\n",
    "\n",
    "data_set = {}\n",
    "\n",
    "class_number = 0\n",
    "\n",
    "for label in class_labels:\n",
    "    files = glob.glob(DATA_FOLDER+'{}-*mel_spectrogram*.csv'.format(label))\n",
    "    random.shuffle(files)\n",
    "    data_set[label] = (files[:TRAINING_FILES], files[TRAINING_FILES:FILES], class_number)\n",
    "    class_number += 1\n",
    "\n",
    "training_set = []\n",
    "test_set = []\n",
    "\n",
    "LENGTH=64\n",
    "a1, a2 = 0,  FILTERS*64\n",
    "b1, b2 = FILTERS*64, FILTERS*64*2\n",
    "c1, c2 = FILTERS*64*2, FILTERS*64*3\n",
    "\n",
    "for k, v in data_set.items():\n",
    "    files = v[0]\n",
    "    class_number = v[2]\n",
    "    for file in files:\n",
    "        df = pd.read_csv(file.replace(os.path.sep, '/'), dtype=np.float)\n",
    "        #df = df[df['n']<FILTERS]\n",
    "        img1 = pp.scale(df[a1:a2]['magnitude'].values)\n",
    "        img2 = pp.scale(df[b1:b2]['magnitude'].values)\n",
    "        img3 = pp.scale(df[c1:c2]['magnitude'].values)\n",
    "        training_set.append((img1, class_number))\n",
    "        training_set.append((img2, class_number))\n",
    "        training_set.append((img3, class_number))\n",
    "    files = v[1]\n",
    "    for file in files:\n",
    "        df = pd.read_csv(file.replace(os.path.sep, '/'), dtype=np.float)\n",
    "        #df = df[df['n']<FILTERS]\n",
    "        img1 = pp.scale(df[a1:a2]['magnitude'].values)\n",
    "        img2 = pp.scale(df[b1:b2]['magnitude'].values)\n",
    "        img3 = pp.scale(df[c1:c2]['magnitude'].values)\n",
    "        test_set.append((img1, class_number))\n",
    "        test_set.append((img2, class_number))\n",
    "        test_set.append((img3, class_number))\n",
    "\n",
    "random.shuffle(training_set)\n",
    "random.shuffle(test_set)\n",
    "\n",
    "class_labels = []\n",
    "\n",
    "# Class number and class labels\n",
    "for k,v in data_set.items():\n",
    "    print('{}: {}'.format(v[2],k ))\n",
    "    class_labels.append(k)\n",
    "\n",
    "import yaml\n",
    "with open(DATA_FOLDER+'class_labels.yaml', 'w') as f:\n",
    "    yaml.dump(class_labels, f)\n",
    "\n",
    "len(training_set)"
   ]
  },
  {
   "cell_type": "code",
   "execution_count": 4,
   "metadata": {
    "colab": {},
    "colab_type": "code",
    "id": "28tIKkNyW3cO"
   },
   "outputs": [
    {
     "name": "stderr",
     "output_type": "stream",
     "text": [
      "C:\\Users\\shiny\\Anaconda3\\Lib\\site-packages\\h5py\\__init__.py:36: FutureWarning: Conversion of the second argument of issubdtype from `float` to `np.floating` is deprecated. In future, it will be treated as `np.float64 == np.dtype(float).type`.\n",
      "  from ._conv import register_converters as _register_converters\n",
      "Using TensorFlow backend.\n"
     ]
    },
    {
     "data": {
      "text/plain": [
       "<matplotlib.image.AxesImage at 0x26f5aa22e80>"
      ]
     },
     "execution_count": 4,
     "metadata": {},
     "output_type": "execute_result"
    },
    {
     "data": {
      "image/png": "[encoded data removed]",
      "text/plain": [
       "<matplotlib.figure.Figure at 0x26f549ec470>"
      ]
     },
     "metadata": {},
     "output_type": "display_data"
    }
   ],
   "source": [
    "train_data, train_labels = [], []\n",
    "test_data, test_labels = [], []\n",
    "for img, label in training_set:\n",
    "    train_data.append(img)\n",
    "    train_labels.append(label)\n",
    "for img, label in test_set:\n",
    "    test_data.append(img)\n",
    "    test_labels.append(label)\n",
    "train_data = np.array(train_data, dtype='float32').reshape((TRAINING_FILES*len(class_labels)*3, LENGTH, FILTERS, 1))\n",
    "train_labels = np.array(train_labels, dtype='uint8')\n",
    "test_data = np.array(test_data, dtype='float32').reshape((TEST_FILES*len(class_labels)*3, LENGTH, FILTERS, 1))\n",
    "test_lables = np.array(test_labels, dtype='uint8')\n",
    "#train_data.shape\n",
    "\n",
    "from keras.utils import to_categorical\n",
    "\n",
    "train_labels=to_categorical(train_labels)\n",
    "test_labels=to_categorical(test_labels)\n",
    "\n",
    "plt.imshow(np.rot90(train_data[0, :,:,0]))"
   ]
  },
  {
   "cell_type": "markdown",
   "metadata": {
    "colab_type": "text",
    "id": "VfUmgxxVk6uM"
   },
   "source": [
    "### CNN model"
   ]
  },
  {
   "cell_type": "code",
   "execution_count": 28,
   "metadata": {
    "colab": {
     "base_uri": "https://localhost:8080/",
     "height": 509
    },
    "colab_type": "code",
    "id": "B2Xg6tGLdMKP",
    "outputId": "ae3daa32-9dbf-4d8b-9a11-7f596dd2e4a6"
   },
   "outputs": [
    {
     "name": "stdout",
     "output_type": "stream",
     "text": [
      "_________________________________________________________________\n",
      "Layer (type)                 Output Shape              Param #   \n",
      "=================================================================\n",
      "conv2d_18 (Conv2D)           (None, 62, 38, 4)         40        \n",
      "_________________________________________________________________\n",
      "max_pooling2d_15 (MaxPooling (None, 31, 19, 4)         0         \n",
      "_________________________________________________________________\n",
      "conv2d_19 (Conv2D)           (None, 29, 17, 8)         296       \n",
      "_________________________________________________________________\n",
      "max_pooling2d_16 (MaxPooling (None, 14, 8, 8)          0         \n",
      "_________________________________________________________________\n",
      "conv2d_20 (Conv2D)           (None, 12, 6, 16)         1168      \n",
      "_________________________________________________________________\n",
      "max_pooling2d_17 (MaxPooling (None, 6, 3, 16)          0         \n",
      "_________________________________________________________________\n",
      "flatten_7 (Flatten)          (None, 288)               0         \n",
      "_________________________________________________________________\n",
      "dense_10 (Dense)             (None, 64)                18496     \n",
      "_________________________________________________________________\n",
      "dropout_5 (Dropout)          (None, 64)                0         \n",
      "_________________________________________________________________\n",
      "dense_11 (Dense)             (None, 7)                 455       \n",
      "=================================================================\n",
      "Total params: 20,455\n",
      "Trainable params: 20,455\n",
      "Non-trainable params: 0\n",
      "_________________________________________________________________\n"
     ]
    }
   ],
   "source": [
    "from keras import layers\n",
    "from keras import models\n",
    "\n",
    "model = models.Sequential()\n",
    "\n",
    "model.add(layers.Conv2D(4, (3, 3), activation='relu', input_shape=(LENGTH, FILTERS, 1)))\n",
    "model.add(layers.MaxPooling2D((2,2)))\n",
    "\n",
    "model.add(layers.Conv2D(8, (3, 3), activation='relu'))\n",
    "model.add(layers.MaxPooling2D((2,2)))\n",
    "\n",
    "model.add(layers.Conv2D(16, (3, 3), activation='relu'))\n",
    "model.add(layers.MaxPooling2D((2,2)))\n",
    "\n",
    "model.add(layers.Flatten())\n",
    "model.add(layers.Dense(64, activation='relu'))\n",
    "model.add(layers.Dropout(0.5))\n",
    "model.add(layers.Dense(7, activation='softmax'))\n",
    "\n",
    "model.summary()"
   ]
  },
  {
   "cell_type": "code",
   "execution_count": 29,
   "metadata": {
    "colab": {},
    "colab_type": "code",
    "id": "nRr1L_4ogL6i"
   },
   "outputs": [],
   "source": [
    "model.compile(optimizer='rmsprop', loss='categorical_crossentropy', metrics=['accuracy'])"
   ]
  },
  {
   "cell_type": "code",
   "execution_count": 30,
   "metadata": {},
   "outputs": [
    {
     "data": {
      "image/svg+xml": [
       "<svg height=\"775pt\" viewBox=\"0.00 0.00 223.00 775.00\" width=\"223pt\" xmlns=\"http://www.w3.org/2000/svg\" xmlns:xlink=\"http://www.w3.org/1999/xlink\">\n",
       "<g class=\"graph\" id=\"graph0\" transform=\"scale(1 1) rotate(0) translate(4 771)\">\n",
       "<title>G</title>\n",
       "<polygon fill=\"white\" points=\"-4,4 -4,-771 219,-771 219,4 -4,4\" stroke=\"none\"/>\n",
       "<!-- 2677385041008 -->\n",
       "<g class=\"node\" id=\"node1\"><title>2677385041008</title>\n",
       "<polygon fill=\"none\" points=\"40.5,-657.5 40.5,-693.5 174.5,-693.5 174.5,-657.5 40.5,-657.5\" stroke=\"black\"/>\n",
       "<text font-family=\"Times New Roman,serif\" font-size=\"14.00\" text-anchor=\"middle\" x=\"107.5\" y=\"-671.8\">conv2d_18: Conv2D</text>\n",
       "</g>\n",
       "<!-- 2677385022040 -->\n",
       "<g class=\"node\" id=\"node2\"><title>2677385022040</title>\n",
       "<polygon fill=\"none\" points=\"0,-584.5 0,-620.5 215,-620.5 215,-584.5 0,-584.5\" stroke=\"black\"/>\n",
       "<text font-family=\"Times New Roman,serif\" font-size=\"14.00\" text-anchor=\"middle\" x=\"107.5\" y=\"-598.8\">max_pooling2d_15: MaxPooling2D</text>\n",
       "</g>\n",
       "<!-- 2677385041008&#45;&gt;2677385022040 -->\n",
       "<g class=\"edge\" id=\"edge2\"><title>2677385041008-&gt;2677385022040</title>\n",
       "<path d=\"M107.5,-657.313C107.5,-649.289 107.5,-639.547 107.5,-630.569\" fill=\"none\" stroke=\"black\"/>\n",
       "<polygon fill=\"black\" points=\"111,-630.529 107.5,-620.529 104,-630.529 111,-630.529\" stroke=\"black\"/>\n",
       "</g>\n",
       "<!-- 2677385040168 -->\n",
       "<g class=\"node\" id=\"node3\"><title>2677385040168</title>\n",
       "<polygon fill=\"none\" points=\"40.5,-511.5 40.5,-547.5 174.5,-547.5 174.5,-511.5 40.5,-511.5\" stroke=\"black\"/>\n",
       "<text font-family=\"Times New Roman,serif\" font-size=\"14.00\" text-anchor=\"middle\" x=\"107.5\" y=\"-525.8\">conv2d_19: Conv2D</text>\n",
       "</g>\n",
       "<!-- 2677385022040&#45;&gt;2677385040168 -->\n",
       "<g class=\"edge\" id=\"edge3\"><title>2677385022040-&gt;2677385040168</title>\n",
       "<path d=\"M107.5,-584.313C107.5,-576.289 107.5,-566.547 107.5,-557.569\" fill=\"none\" stroke=\"black\"/>\n",
       "<polygon fill=\"black\" points=\"111,-557.529 107.5,-547.529 104,-557.529 111,-557.529\" stroke=\"black\"/>\n",
       "</g>\n",
       "<!-- 2677385393152 -->\n",
       "<g class=\"node\" id=\"node4\"><title>2677385393152</title>\n",
       "<polygon fill=\"none\" points=\"0,-438.5 0,-474.5 215,-474.5 215,-438.5 0,-438.5\" stroke=\"black\"/>\n",
       "<text font-family=\"Times New Roman,serif\" font-size=\"14.00\" text-anchor=\"middle\" x=\"107.5\" y=\"-452.8\">max_pooling2d_16: MaxPooling2D</text>\n",
       "</g>\n",
       "<!-- 2677385040168&#45;&gt;2677385393152 -->\n",
       "<g class=\"edge\" id=\"edge4\"><title>2677385040168-&gt;2677385393152</title>\n",
       "<path d=\"M107.5,-511.313C107.5,-503.289 107.5,-493.547 107.5,-484.569\" fill=\"none\" stroke=\"black\"/>\n",
       "<polygon fill=\"black\" points=\"111,-484.529 107.5,-474.529 104,-484.529 111,-484.529\" stroke=\"black\"/>\n",
       "</g>\n",
       "<!-- 2677385320096 -->\n",
       "<g class=\"node\" id=\"node5\"><title>2677385320096</title>\n",
       "<polygon fill=\"none\" points=\"40.5,-365.5 40.5,-401.5 174.5,-401.5 174.5,-365.5 40.5,-365.5\" stroke=\"black\"/>\n",
       "<text font-family=\"Times New Roman,serif\" font-size=\"14.00\" text-anchor=\"middle\" x=\"107.5\" y=\"-379.8\">conv2d_20: Conv2D</text>\n",
       "</g>\n",
       "<!-- 2677385393152&#45;&gt;2677385320096 -->\n",
       "<g class=\"edge\" id=\"edge5\"><title>2677385393152-&gt;2677385320096</title>\n",
       "<path d=\"M107.5,-438.313C107.5,-430.289 107.5,-420.547 107.5,-411.569\" fill=\"none\" stroke=\"black\"/>\n",
       "<polygon fill=\"black\" points=\"111,-411.529 107.5,-401.529 104,-411.529 111,-411.529\" stroke=\"black\"/>\n",
       "</g>\n",
       "<!-- 2677385643008 -->\n",
       "<g class=\"node\" id=\"node6\"><title>2677385643008</title>\n",
       "<polygon fill=\"none\" points=\"0,-292.5 0,-328.5 215,-328.5 215,-292.5 0,-292.5\" stroke=\"black\"/>\n",
       "<text font-family=\"Times New Roman,serif\" font-size=\"14.00\" text-anchor=\"middle\" x=\"107.5\" y=\"-306.8\">max_pooling2d_17: MaxPooling2D</text>\n",
       "</g>\n",
       "<!-- 2677385320096&#45;&gt;2677385643008 -->\n",
       "<g class=\"edge\" id=\"edge6\"><title>2677385320096-&gt;2677385643008</title>\n",
       "<path d=\"M107.5,-365.313C107.5,-357.289 107.5,-347.547 107.5,-338.569\" fill=\"none\" stroke=\"black\"/>\n",
       "<polygon fill=\"black\" points=\"111,-338.529 107.5,-328.529 104,-338.529 111,-338.529\" stroke=\"black\"/>\n",
       "</g>\n",
       "<!-- 2677385395616 -->\n",
       "<g class=\"node\" id=\"node7\"><title>2677385395616</title>\n",
       "<polygon fill=\"none\" points=\"53,-219.5 53,-255.5 162,-255.5 162,-219.5 53,-219.5\" stroke=\"black\"/>\n",
       "<text font-family=\"Times New Roman,serif\" font-size=\"14.00\" text-anchor=\"middle\" x=\"107.5\" y=\"-233.8\">flatten_7: Flatten</text>\n",
       "</g>\n",
       "<!-- 2677385643008&#45;&gt;2677385395616 -->\n",
       "<g class=\"edge\" id=\"edge7\"><title>2677385643008-&gt;2677385395616</title>\n",
       "<path d=\"M107.5,-292.313C107.5,-284.289 107.5,-274.547 107.5,-265.569\" fill=\"none\" stroke=\"black\"/>\n",
       "<polygon fill=\"black\" points=\"111,-265.529 107.5,-255.529 104,-265.529 111,-265.529\" stroke=\"black\"/>\n",
       "</g>\n",
       "<!-- 2677385645640 -->\n",
       "<g class=\"node\" id=\"node8\"><title>2677385645640</title>\n",
       "<polygon fill=\"none\" points=\"52,-146.5 52,-182.5 163,-182.5 163,-146.5 52,-146.5\" stroke=\"black\"/>\n",
       "<text font-family=\"Times New Roman,serif\" font-size=\"14.00\" text-anchor=\"middle\" x=\"107.5\" y=\"-160.8\">dense_10: Dense</text>\n",
       "</g>\n",
       "<!-- 2677385395616&#45;&gt;2677385645640 -->\n",
       "<g class=\"edge\" id=\"edge8\"><title>2677385395616-&gt;2677385645640</title>\n",
       "<path d=\"M107.5,-219.313C107.5,-211.289 107.5,-201.547 107.5,-192.569\" fill=\"none\" stroke=\"black\"/>\n",
       "<polygon fill=\"black\" points=\"111,-192.529 107.5,-182.529 104,-192.529 111,-192.529\" stroke=\"black\"/>\n",
       "</g>\n",
       "<!-- 2677385645696 -->\n",
       "<g class=\"node\" id=\"node9\"><title>2677385645696</title>\n",
       "<polygon fill=\"none\" points=\"42.5,-73.5 42.5,-109.5 172.5,-109.5 172.5,-73.5 42.5,-73.5\" stroke=\"black\"/>\n",
       "<text font-family=\"Times New Roman,serif\" font-size=\"14.00\" text-anchor=\"middle\" x=\"107.5\" y=\"-87.8\">dropout_5: Dropout</text>\n",
       "</g>\n",
       "<!-- 2677385645640&#45;&gt;2677385645696 -->\n",
       "<g class=\"edge\" id=\"edge9\"><title>2677385645640-&gt;2677385645696</title>\n",
       "<path d=\"M107.5,-146.313C107.5,-138.289 107.5,-128.547 107.5,-119.569\" fill=\"none\" stroke=\"black\"/>\n",
       "<polygon fill=\"black\" points=\"111,-119.529 107.5,-109.529 104,-119.529 111,-119.529\" stroke=\"black\"/>\n",
       "</g>\n",
       "<!-- 2677385805496 -->\n",
       "<g class=\"node\" id=\"node10\"><title>2677385805496</title>\n",
       "<polygon fill=\"none\" points=\"52,-0.5 52,-36.5 163,-36.5 163,-0.5 52,-0.5\" stroke=\"black\"/>\n",
       "<text font-family=\"Times New Roman,serif\" font-size=\"14.00\" text-anchor=\"middle\" x=\"107.5\" y=\"-14.8\">dense_11: Dense</text>\n",
       "</g>\n",
       "<!-- 2677385645696&#45;&gt;2677385805496 -->\n",
       "<g class=\"edge\" id=\"edge10\"><title>2677385645696-&gt;2677385805496</title>\n",
       "<path d=\"M107.5,-73.3129C107.5,-65.2895 107.5,-55.5475 107.5,-46.5691\" fill=\"none\" stroke=\"black\"/>\n",
       "<polygon fill=\"black\" points=\"111,-46.5288 107.5,-36.5288 104,-46.5289 111,-46.5288\" stroke=\"black\"/>\n",
       "</g>\n",
       "<!-- 2677385022376 -->\n",
       "<g class=\"node\" id=\"node11\"><title>2677385022376</title>\n",
       "<polygon fill=\"none\" points=\"55.5,-730.5 55.5,-766.5 159.5,-766.5 159.5,-730.5 55.5,-730.5\" stroke=\"black\"/>\n",
       "<text font-family=\"Times New Roman,serif\" font-size=\"14.00\" text-anchor=\"middle\" x=\"107.5\" y=\"-744.8\">2677385022376</text>\n",
       "</g>\n",
       "<!-- 2677385022376&#45;&gt;2677385041008 -->\n",
       "<g class=\"edge\" id=\"edge1\"><title>2677385022376-&gt;2677385041008</title>\n",
       "<path d=\"M107.5,-730.313C107.5,-722.289 107.5,-712.547 107.5,-703.569\" fill=\"none\" stroke=\"black\"/>\n",
       "<polygon fill=\"black\" points=\"111,-703.529 107.5,-693.529 104,-703.529 111,-703.529\" stroke=\"black\"/>\n",
       "</g>\n",
       "</g>\n",
       "</svg>"
      ],
      "text/plain": [
       "<IPython.core.display.SVG object>"
      ]
     },
     "execution_count": 30,
     "metadata": {},
     "output_type": "execute_result"
    }
   ],
   "source": [
    "from IPython.display import SVG\n",
    "from keras.utils.vis_utils import model_to_dot\n",
    "\n",
    "SVG(model_to_dot(model).create(prog='dot', format='svg'))"
   ]
  },
  {
   "cell_type": "markdown",
   "metadata": {
    "colab_type": "text",
    "id": "TfypWUJIlFkz"
   },
   "source": [
    "## Training CNN"
   ]
  },
  {
   "cell_type": "code",
   "execution_count": 31,
   "metadata": {
    "colab": {
     "base_uri": "https://localhost:8080/",
     "height": 931
    },
    "colab_type": "code",
    "id": "zsdmu-ggfvr1",
    "outputId": "77a52558-8ecc-4fc5-e0cb-2b86a75df4c6"
   },
   "outputs": [
    {
     "name": "stdout",
     "output_type": "stream",
     "text": [
      "Train on 840 samples, validate on 210 samples\n",
      "Epoch 1/30\n",
      "840/840 [==============================] - 6s 7ms/step - loss: 1.6843 - acc: 0.3595 - val_loss: 1.1549 - val_acc: 0.6857\n",
      "Epoch 2/30\n",
      "840/840 [==============================] - 5s 6ms/step - loss: 1.1841 - acc: 0.5702 - val_loss: 0.8586 - val_acc: 0.7238\n",
      "Epoch 3/30\n",
      "840/840 [==============================] - 5s 6ms/step - loss: 0.9551 - acc: 0.6512 - val_loss: 0.7063 - val_acc: 0.7524\n",
      "Epoch 4/30\n",
      "840/840 [==============================] - 5s 6ms/step - loss: 0.8411 - acc: 0.7012 - val_loss: 0.6557 - val_acc: 0.7667\n",
      "Epoch 5/30\n",
      "840/840 [==============================] - 5s 6ms/step - loss: 0.7274 - acc: 0.7321 - val_loss: 0.5823 - val_acc: 0.7810\n",
      "Epoch 6/30\n",
      "840/840 [==============================] - 5s 6ms/step - loss: 0.6760 - acc: 0.7583 - val_loss: 0.5831 - val_acc: 0.8143\n",
      "Epoch 7/30\n",
      "840/840 [==============================] - 5s 6ms/step - loss: 0.5727 - acc: 0.7952 - val_loss: 0.5349 - val_acc: 0.8238\n",
      "Epoch 8/30\n",
      "840/840 [==============================] - 5s 6ms/step - loss: 0.5514 - acc: 0.7964 - val_loss: 0.4829 - val_acc: 0.8333\n",
      "Epoch 9/30\n",
      "840/840 [==============================] - 6s 7ms/step - loss: 0.5132 - acc: 0.8250 - val_loss: 0.4855 - val_acc: 0.8238\n",
      "Epoch 10/30\n",
      "840/840 [==============================] - 5s 6ms/step - loss: 0.4934 - acc: 0.8238 - val_loss: 0.4774 - val_acc: 0.8524\n",
      "Epoch 11/30\n",
      "840/840 [==============================] - 5s 6ms/step - loss: 0.4550 - acc: 0.8369 - val_loss: 0.4551 - val_acc: 0.8619\n",
      "Epoch 12/30\n",
      "840/840 [==============================] - 5s 6ms/step - loss: 0.4005 - acc: 0.8667 - val_loss: 0.4670 - val_acc: 0.8619\n",
      "Epoch 13/30\n",
      "840/840 [==============================] - 5s 6ms/step - loss: 0.3794 - acc: 0.8655 - val_loss: 0.5093 - val_acc: 0.8571\n",
      "Epoch 14/30\n",
      "840/840 [==============================] - 5s 6ms/step - loss: 0.3788 - acc: 0.8714 - val_loss: 0.4575 - val_acc: 0.9000\n",
      "Epoch 15/30\n",
      "840/840 [==============================] - 5s 6ms/step - loss: 0.3089 - acc: 0.8964 - val_loss: 0.4214 - val_acc: 0.8810\n",
      "Epoch 16/30\n",
      "840/840 [==============================] - 5s 6ms/step - loss: 0.3241 - acc: 0.8893 - val_loss: 0.4510 - val_acc: 0.9000\n",
      "Epoch 17/30\n",
      "840/840 [==============================] - 5s 6ms/step - loss: 0.3315 - acc: 0.8774 - val_loss: 0.4499 - val_acc: 0.8762\n",
      "Epoch 18/30\n",
      "840/840 [==============================] - 5s 6ms/step - loss: 0.2834 - acc: 0.8976 - val_loss: 0.5240 - val_acc: 0.8857\n",
      "Epoch 19/30\n",
      "840/840 [==============================] - 5s 6ms/step - loss: 0.2944 - acc: 0.8929 - val_loss: 0.4812 - val_acc: 0.9000\n",
      "Epoch 20/30\n",
      "840/840 [==============================] - 5s 6ms/step - loss: 0.2755 - acc: 0.8952 - val_loss: 0.4755 - val_acc: 0.8857\n",
      "Epoch 21/30\n",
      "840/840 [==============================] - 5s 6ms/step - loss: 0.2691 - acc: 0.9071 - val_loss: 0.5395 - val_acc: 0.8714\n",
      "Epoch 22/30\n",
      "840/840 [==============================] - 5s 6ms/step - loss: 0.2494 - acc: 0.9155 - val_loss: 0.4988 - val_acc: 0.8857\n",
      "Epoch 23/30\n",
      "840/840 [==============================] - 5s 6ms/step - loss: 0.2335 - acc: 0.9179 - val_loss: 0.4992 - val_acc: 0.8905\n",
      "Epoch 24/30\n",
      "840/840 [==============================] - 5s 6ms/step - loss: 0.2142 - acc: 0.9286 - val_loss: 0.5375 - val_acc: 0.8952\n",
      "Epoch 25/30\n",
      "840/840 [==============================] - 5s 6ms/step - loss: 0.2229 - acc: 0.9119 - val_loss: 0.5141 - val_acc: 0.8905\n",
      "Epoch 26/30\n",
      "840/840 [==============================] - 5s 6ms/step - loss: 0.2278 - acc: 0.9190 - val_loss: 0.5225 - val_acc: 0.8810\n",
      "Epoch 27/30\n",
      "840/840 [==============================] - 5s 6ms/step - loss: 0.2094 - acc: 0.9286 - val_loss: 0.4847 - val_acc: 0.9000\n",
      "Epoch 28/30\n",
      "840/840 [==============================] - 5s 6ms/step - loss: 0.1863 - acc: 0.9369 - val_loss: 0.6359 - val_acc: 0.8619\n",
      "Epoch 29/30\n",
      "840/840 [==============================] - 5s 6ms/step - loss: 0.2038 - acc: 0.9226 - val_loss: 0.5621 - val_acc: 0.8762\n",
      "Epoch 30/30\n",
      "840/840 [==============================] - 5s 6ms/step - loss: 0.1860 - acc: 0.9417 - val_loss: 0.5691 - val_acc: 0.8857\n"
     ]
    }
   ],
   "source": [
    "EPOCHS = 30\n",
    "history = model.fit(train_data, train_labels, epochs=EPOCHS, validation_data=(test_data, test_labels), batch_size=10)"
   ]
  },
  {
   "cell_type": "code",
   "execution_count": 32,
   "metadata": {},
   "outputs": [
    {
     "name": "stdout",
     "output_type": "stream",
     "text": [
      "dict_keys(['val_loss', 'val_acc', 'loss', 'acc'])\n"
     ]
    },
    {
     "data": {
      "image/png": "[encoded data removed]",
      "text/plain": [
       "<matplotlib.figure.Figure at 0x26f5f8ee160>"
      ]
     },
     "metadata": {},
     "output_type": "display_data"
    },
    {
     "data": {
      "image/png": "[encoded data removed]",
      "text/plain": [
       "<matplotlib.figure.Figure at 0x26f5f8dce10>"
      ]
     },
     "metadata": {},
     "output_type": "display_data"
    }
   ],
   "source": [
    "print(history.history.keys())\n",
    "\n",
    "# Plot training & validation accuracy values\n",
    "plt.plot(history.history['acc'])\n",
    "plt.plot(history.history['val_acc'])\n",
    "\n",
    "plt.title('Model accuracy')\n",
    "plt.ylabel('Accuracy')\n",
    "plt.xlabel('Epoch')\n",
    "plt.legend(['Train', 'Test'], loc='upper left')\n",
    "plt.show()\n",
    "\n",
    "# Plot training & validation loss values\n",
    "plt.plot(history.history['loss'])\n",
    "plt.plot(history.history['val_loss'])\n",
    "plt.title('Model loss')\n",
    "plt.ylabel('Loss')\n",
    "plt.xlabel('Epoch')\n",
    "plt.legend(['Train', 'Test'], loc='upper left')\n",
    "plt.show()"
   ]
  },
  {
   "cell_type": "markdown",
   "metadata": {},
   "source": [
    "## Save the model"
   ]
  },
  {
   "cell_type": "code",
   "execution_count": 33,
   "metadata": {},
   "outputs": [],
   "source": [
    "import datetime\n",
    "\n",
    "dt = datetime.datetime.today().strftime('%Y%m%d%H%M%S')\n",
    "filename = 'cnn_for_aed_living_{}.h5'.format(dt)\n",
    "model.save(filename)"
   ]
  },
  {
   "cell_type": "markdown",
   "metadata": {},
   "source": [
    "## Load the model"
   ]
  },
  {
   "cell_type": "code",
   "execution_count": 34,
   "metadata": {},
   "outputs": [],
   "source": [
    "del model\n",
    "model = models.load_model(filename)"
   ]
  },
  {
   "cell_type": "markdown",
   "metadata": {
    "colab_type": "text",
    "id": "j6con4C3lKC1"
   },
   "source": [
    "## Confirmation"
   ]
  },
  {
   "cell_type": "code",
   "execution_count": 35,
   "metadata": {
    "colab": {
     "base_uri": "https://localhost:8080/",
     "height": 34
    },
    "colab_type": "code",
    "id": "4oZYLLij69wU",
    "outputId": "b37a4b8a-2c80-411f-d8a9-5df1c6dbfe22"
   },
   "outputs": [
    {
     "data": {
      "text/plain": [
       "(840, 64, 40, 1)"
      ]
     },
     "execution_count": 35,
     "metadata": {},
     "output_type": "execute_result"
    }
   ],
   "source": [
    "import numpy as np\n",
    "import matplotlib.pyplot as plt\n",
    "train_data.shape"
   ]
  },
  {
   "cell_type": "code",
   "execution_count": 36,
   "metadata": {
    "colab": {
     "base_uri": "https://localhost:8080/",
     "height": 193
    },
    "colab_type": "code",
    "id": "zSxXE9FgRBdJ",
    "outputId": "f3a53efe-e99f-4572-f9b4-1bf3c39c77ec"
   },
   "outputs": [],
   "source": [
    "layer_outputs = [layer.output for layer in model.layers]\n",
    "#layer_outputs"
   ]
  },
  {
   "cell_type": "code",
   "execution_count": 37,
   "metadata": {
    "colab": {
     "base_uri": "https://localhost:8080/",
     "height": 34
    },
    "colab_type": "code",
    "id": "dcw7yHKrRkPD",
    "outputId": "a3ed5441-ae48-4635-bf07-ac5060030608"
   },
   "outputs": [],
   "source": [
    "activation_model = models.Model(inputs=model.input, outputs=layer_outputs)\n",
    "activations = activation_model.predict(test_data)\n",
    "#activations[0][0,:,:,0].shape"
   ]
  },
  {
   "cell_type": "code",
   "execution_count": 38,
   "metadata": {},
   "outputs": [
    {
     "data": {
      "text/plain": [
       "['bathing',\n",
       " 'cocking',\n",
       " 'moving',\n",
       " 'silence',\n",
       " 'tooth_brushing',\n",
       " 'washing',\n",
       " 'watching_tv']"
      ]
     },
     "execution_count": 38,
     "metadata": {},
     "output_type": "execute_result"
    }
   ],
   "source": [
    "class_labels"
   ]
  },
  {
   "cell_type": "code",
   "execution_count": 39,
   "metadata": {
    "colab": {
     "base_uri": "https://localhost:8080/",
     "height": 193
    },
    "colab_type": "code",
    "id": "ccSNAwGKhRn9",
    "outputId": "0ad22e12-713b-4b07-e17b-45d39ff1b80b"
   },
   "outputs": [
    {
     "data": {
      "text/plain": [
       "array([[  0,   0,   0,   0,  99,   0,   0],\n",
       "       [  0,   0,   0,   0,  99,   0,   0],\n",
       "       [  0,   0,   3,   0,  96,   0,   0],\n",
       "       [  0,  94,   0,   0,   0,   0,   5],\n",
       "       [  0,   0,   0,   0,   0,  99,   0],\n",
       "       [100,   0,   0,   0,   0,   0,   0],\n",
       "       [  0,   0,   5,  73,   0,   0,  20],\n",
       "       [  0,   0,  12,   0,  86,   1,   0],\n",
       "       [  0,  99,   0,   0,   0,   0,   0],\n",
       "       [  0,   0,   0,   0,  99,   0,   0]])"
      ]
     },
     "execution_count": 39,
     "metadata": {},
     "output_type": "execute_result"
    }
   ],
   "source": [
    "(activations[-1][:10]*100).astype(int)"
   ]
  },
  {
   "cell_type": "code",
   "execution_count": 40,
   "metadata": {
    "colab": {
     "base_uri": "https://localhost:8080/",
     "height": 193
    },
    "colab_type": "code",
    "id": "RoE0nxtuiGIN",
    "outputId": "154437a8-ab72-46f4-f42c-3e6464af47d0"
   },
   "outputs": [
    {
     "data": {
      "text/plain": [
       "array([[0, 0, 0, 0, 1, 0, 0],\n",
       "       [0, 0, 0, 0, 1, 0, 0],\n",
       "       [0, 0, 0, 0, 1, 0, 0],\n",
       "       [0, 0, 1, 0, 0, 0, 0],\n",
       "       [0, 0, 0, 0, 0, 1, 0],\n",
       "       [1, 0, 0, 0, 0, 0, 0],\n",
       "       [0, 0, 0, 1, 0, 0, 0],\n",
       "       [0, 0, 0, 0, 1, 0, 0],\n",
       "       [0, 1, 0, 0, 0, 0, 0],\n",
       "       [0, 0, 0, 0, 1, 0, 0]])"
      ]
     },
     "execution_count": 40,
     "metadata": {},
     "output_type": "execute_result"
    }
   ],
   "source": [
    "test_labels[:10].astype(int)"
   ]
  },
  {
   "cell_type": "code",
   "execution_count": 41,
   "metadata": {},
   "outputs": [],
   "source": [
    "def plot_layer(activations, sample, layer):\n",
    "    a = activations[layer].shape\n",
    "    rows = int(a[3]/4)\n",
    "    fig, axarr = plt.subplots(rows, 4, figsize=[20,15])\n",
    "    for i in range(a[3]):\n",
    "        row = int(i/4)\n",
    "        x, y = row, i-4*row\n",
    "        axarr[x, y].imshow(np.rot90(activations[layer][sample, :, :, i]))\n",
    "        axarr[x, y].set_xticks([])\n",
    "        axarr[x, y].set_yticks([])"
   ]
  },
  {
   "cell_type": "code",
   "execution_count": 42,
   "metadata": {},
   "outputs": [
    {
     "data": {
      "text/plain": [
       "'cocking'"
      ]
     },
     "execution_count": 42,
     "metadata": {},
     "output_type": "execute_result"
    },
    {
     "data": {
      "image/png": "[encoded data removed]",
      "text/plain": [
       "<matplotlib.figure.Figure at 0x26f609340b8>"
      ]
     },
     "metadata": {},
     "output_type": "display_data"
    }
   ],
   "source": [
    "image_number = 8\n",
    "\n",
    "plt.imshow(np.rot90(test_data[image_number,:,:,0]))\n",
    "class_labels[np.argmax(test_labels[image_number])]"
   ]
  },
  {
   "cell_type": "code",
   "execution_count": 44,
   "metadata": {},
   "outputs": [
    {
     "data": {
      "image/png": "[encoded data removed]",
      "text/plain": [
       "<matplotlib.figure.Figure at 0x26f633dd320>"
      ]
     },
     "metadata": {},
     "output_type": "display_data"
    }
   ],
   "source": [
    "plot_layer(activations, image_number, 2)"
   ]
  },
  {
   "cell_type": "code",
   "execution_count": 45,
   "metadata": {},
   "outputs": [
    {
     "data": {
      "image/png": "[encoded data removed]",
      "text/plain": [
       "<matplotlib.figure.Figure at 0x26f642b96a0>"
      ]
     },
     "metadata": {},
     "output_type": "display_data"
    }
   ],
   "source": [
    "plot_layer(activations, image_number, 4)"
   ]
  },
  {
   "cell_type": "code",
   "execution_count": null,
   "metadata": {},
   "outputs": [],
   "source": []
  }
 ],
 "metadata": {
  "colab": {
   "collapsed_sections": [],
   "name": "CNN for AED",
   "provenance": [],
   "version": "0.3.2"
  },
  "kernelspec": {
   "display_name": "Python 3",
   "language": "python",
   "name": "python3"
  },
  "language_info": {
   "codemirror_mode": {
    "name": "ipython",
    "version": 3
   },
   "file_extension": ".py",
   "mimetype": "text/x-python",
   "name": "python",
   "nbconvert_exporter": "python",
   "pygments_lexer": "ipython3",
   "version": "3.6.4"
  }
 },
 "nbformat": 4,
 "nbformat_minor": 1
}
