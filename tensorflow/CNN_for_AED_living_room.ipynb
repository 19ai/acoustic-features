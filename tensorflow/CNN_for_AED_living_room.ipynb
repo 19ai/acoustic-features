{
 "cells": [
  {
   "cell_type": "markdown",
   "metadata": {
    "colab_type": "text",
    "id": "0X16cagQE-Y-"
   },
   "source": [
    "# CNN for AED with Keras/TensorFlow (living room)\n",
    "\n",
    "Date: Nov 8, 2018\n",
    "\n",
    "Data acquisition: living room"
   ]
  },
  {
   "cell_type": "markdown",
   "metadata": {
    "colab_type": "text",
    "id": "WwQ-dEltkl5Q"
   },
   "source": [
    "## Preparing data set for CNN"
   ]
  },
  {
   "cell_type": "code",
   "execution_count": 6,
   "metadata": {
    "colab": {
     "base_uri": "https://localhost:8080/",
     "height": 34
    },
    "colab_type": "code",
    "id": "VEJyQsGpV3ug",
    "outputId": "3929aa39-3383-4791-e065-3622e6781181"
   },
   "outputs": [],
   "source": [
    "DATASET_FOLDER = '../dataset/data_living2'\n",
    "\n",
    "%run ../oscilloscope/script/dataset.py\n",
    "\n",
    "ds = DataSet(DATASET_FOLDER)\n",
    "train_data, train_labels, test_data, test_labels = ds.generate()\n",
    "shape = ds.shape\n",
    "class_labels = ds.class_labels"
   ]
  },
  {
   "cell_type": "markdown",
   "metadata": {
    "colab_type": "text",
    "id": "VfUmgxxVk6uM"
   },
   "source": [
    "### CNN model"
   ]
  },
  {
   "cell_type": "code",
   "execution_count": 7,
   "metadata": {
    "colab": {
     "base_uri": "https://localhost:8080/",
     "height": 509
    },
    "colab_type": "code",
    "id": "B2Xg6tGLdMKP",
    "outputId": "ae3daa32-9dbf-4d8b-9a11-7f596dd2e4a6"
   },
   "outputs": [
    {
     "name": "stdout",
     "output_type": "stream",
     "text": [
      "_________________________________________________________________\n",
      "Layer (type)                 Output Shape              Param #   \n",
      "=================================================================\n",
      "conv2d_1 (Conv2D)            (None, 62, 38, 4)         40        \n",
      "_________________________________________________________________\n",
      "max_pooling2d_1 (MaxPooling2 (None, 31, 19, 4)         0         \n",
      "_________________________________________________________________\n",
      "conv2d_2 (Conv2D)            (None, 29, 17, 8)         296       \n",
      "_________________________________________________________________\n",
      "max_pooling2d_2 (MaxPooling2 (None, 14, 8, 8)          0         \n",
      "_________________________________________________________________\n",
      "conv2d_3 (Conv2D)            (None, 12, 6, 16)         1168      \n",
      "_________________________________________________________________\n",
      "max_pooling2d_3 (MaxPooling2 (None, 6, 3, 16)          0         \n",
      "_________________________________________________________________\n",
      "flatten_1 (Flatten)          (None, 288)               0         \n",
      "_________________________________________________________________\n",
      "dense_1 (Dense)              (None, 64)                18496     \n",
      "_________________________________________________________________\n",
      "dropout_1 (Dropout)          (None, 64)                0         \n",
      "_________________________________________________________________\n",
      "dense_2 (Dense)              (None, 7)                 455       \n",
      "=================================================================\n",
      "Total params: 20,455\n",
      "Trainable params: 20,455\n",
      "Non-trainable params: 0\n",
      "_________________________________________________________________\n"
     ]
    }
   ],
   "source": [
    "from keras import layers\n",
    "from keras import models\n",
    "\n",
    "model = models.Sequential()\n",
    "\n",
    "model.add(layers.Conv2D(4, (3, 3), activation='relu', input_shape=(*shape, 1)))\n",
    "model.add(layers.MaxPooling2D((2,2)))\n",
    "\n",
    "model.add(layers.Conv2D(8, (3, 3), activation='relu'))\n",
    "model.add(layers.MaxPooling2D((2,2)))\n",
    "\n",
    "model.add(layers.Conv2D(16, (3, 3), activation='relu'))\n",
    "model.add(layers.MaxPooling2D((2,2)))\n",
    "\n",
    "model.add(layers.Flatten())\n",
    "model.add(layers.Dense(64, activation='relu'))\n",
    "model.add(layers.Dropout(0.5))\n",
    "model.add(layers.Dense(7, activation='softmax'))\n",
    "\n",
    "model.summary()"
   ]
  },
  {
   "cell_type": "code",
   "execution_count": 8,
   "metadata": {
    "colab": {},
    "colab_type": "code",
    "id": "nRr1L_4ogL6i"
   },
   "outputs": [],
   "source": [
    "model.compile(optimizer='rmsprop', loss='categorical_crossentropy', metrics=['accuracy'])"
   ]
  },
  {
   "cell_type": "code",
   "execution_count": 9,
   "metadata": {},
   "outputs": [
    {
     "data": {
      "image/svg+xml": [
       "<svg height=\"775pt\" viewBox=\"0.00 0.00 217.00 775.00\" width=\"217pt\" xmlns=\"http://www.w3.org/2000/svg\" xmlns:xlink=\"http://www.w3.org/1999/xlink\">\n",
       "<g class=\"graph\" id=\"graph0\" transform=\"scale(1 1) rotate(0) translate(4 771)\">\n",
       "<title>G</title>\n",
       "<polygon fill=\"white\" points=\"-4,4 -4,-771 213,-771 213,4 -4,4\" stroke=\"none\"/>\n",
       "<!-- 1519366007832 -->\n",
       "<g class=\"node\" id=\"node1\"><title>1519366007832</title>\n",
       "<polygon fill=\"none\" points=\"41,-657.5 41,-693.5 168,-693.5 168,-657.5 41,-657.5\" stroke=\"black\"/>\n",
       "<text font-family=\"Times New Roman,serif\" font-size=\"14.00\" text-anchor=\"middle\" x=\"104.5\" y=\"-671.8\">conv2d_1: Conv2D</text>\n",
       "</g>\n",
       "<!-- 1519366008616 -->\n",
       "<g class=\"node\" id=\"node2\"><title>1519366008616</title>\n",
       "<polygon fill=\"none\" points=\"0,-584.5 0,-620.5 209,-620.5 209,-584.5 0,-584.5\" stroke=\"black\"/>\n",
       "<text font-family=\"Times New Roman,serif\" font-size=\"14.00\" text-anchor=\"middle\" x=\"104.5\" y=\"-598.8\">max_pooling2d_1: MaxPooling2D</text>\n",
       "</g>\n",
       "<!-- 1519366007832&#45;&gt;1519366008616 -->\n",
       "<g class=\"edge\" id=\"edge2\"><title>1519366007832-&gt;1519366008616</title>\n",
       "<path d=\"M104.5,-657.313C104.5,-649.289 104.5,-639.547 104.5,-630.569\" fill=\"none\" stroke=\"black\"/>\n",
       "<polygon fill=\"black\" points=\"108,-630.529 104.5,-620.529 101,-630.529 108,-630.529\" stroke=\"black\"/>\n",
       "</g>\n",
       "<!-- 1519366007888 -->\n",
       "<g class=\"node\" id=\"node3\"><title>1519366007888</title>\n",
       "<polygon fill=\"none\" points=\"41,-511.5 41,-547.5 168,-547.5 168,-511.5 41,-511.5\" stroke=\"black\"/>\n",
       "<text font-family=\"Times New Roman,serif\" font-size=\"14.00\" text-anchor=\"middle\" x=\"104.5\" y=\"-525.8\">conv2d_2: Conv2D</text>\n",
       "</g>\n",
       "<!-- 1519366008616&#45;&gt;1519366007888 -->\n",
       "<g class=\"edge\" id=\"edge3\"><title>1519366008616-&gt;1519366007888</title>\n",
       "<path d=\"M104.5,-584.313C104.5,-576.289 104.5,-566.547 104.5,-557.569\" fill=\"none\" stroke=\"black\"/>\n",
       "<polygon fill=\"black\" points=\"108,-557.529 104.5,-547.529 101,-557.529 108,-557.529\" stroke=\"black\"/>\n",
       "</g>\n",
       "<!-- 1519366218584 -->\n",
       "<g class=\"node\" id=\"node4\"><title>1519366218584</title>\n",
       "<polygon fill=\"none\" points=\"0,-438.5 0,-474.5 209,-474.5 209,-438.5 0,-438.5\" stroke=\"black\"/>\n",
       "<text font-family=\"Times New Roman,serif\" font-size=\"14.00\" text-anchor=\"middle\" x=\"104.5\" y=\"-452.8\">max_pooling2d_2: MaxPooling2D</text>\n",
       "</g>\n",
       "<!-- 1519366007888&#45;&gt;1519366218584 -->\n",
       "<g class=\"edge\" id=\"edge4\"><title>1519366007888-&gt;1519366218584</title>\n",
       "<path d=\"M104.5,-511.313C104.5,-503.289 104.5,-493.547 104.5,-484.569\" fill=\"none\" stroke=\"black\"/>\n",
       "<polygon fill=\"black\" points=\"108,-484.529 104.5,-474.529 101,-484.529 108,-484.529\" stroke=\"black\"/>\n",
       "</g>\n",
       "<!-- 1519366026968 -->\n",
       "<g class=\"node\" id=\"node5\"><title>1519366026968</title>\n",
       "<polygon fill=\"none\" points=\"41,-365.5 41,-401.5 168,-401.5 168,-365.5 41,-365.5\" stroke=\"black\"/>\n",
       "<text font-family=\"Times New Roman,serif\" font-size=\"14.00\" text-anchor=\"middle\" x=\"104.5\" y=\"-379.8\">conv2d_3: Conv2D</text>\n",
       "</g>\n",
       "<!-- 1519366218584&#45;&gt;1519366026968 -->\n",
       "<g class=\"edge\" id=\"edge5\"><title>1519366218584-&gt;1519366026968</title>\n",
       "<path d=\"M104.5,-438.313C104.5,-430.289 104.5,-420.547 104.5,-411.569\" fill=\"none\" stroke=\"black\"/>\n",
       "<polygon fill=\"black\" points=\"108,-411.529 104.5,-401.529 101,-411.529 108,-411.529\" stroke=\"black\"/>\n",
       "</g>\n",
       "<!-- 1519366279520 -->\n",
       "<g class=\"node\" id=\"node6\"><title>1519366279520</title>\n",
       "<polygon fill=\"none\" points=\"0,-292.5 0,-328.5 209,-328.5 209,-292.5 0,-292.5\" stroke=\"black\"/>\n",
       "<text font-family=\"Times New Roman,serif\" font-size=\"14.00\" text-anchor=\"middle\" x=\"104.5\" y=\"-306.8\">max_pooling2d_3: MaxPooling2D</text>\n",
       "</g>\n",
       "<!-- 1519366026968&#45;&gt;1519366279520 -->\n",
       "<g class=\"edge\" id=\"edge6\"><title>1519366026968-&gt;1519366279520</title>\n",
       "<path d=\"M104.5,-365.313C104.5,-357.289 104.5,-347.547 104.5,-338.569\" fill=\"none\" stroke=\"black\"/>\n",
       "<polygon fill=\"black\" points=\"108,-338.529 104.5,-328.529 101,-338.529 108,-338.529\" stroke=\"black\"/>\n",
       "</g>\n",
       "<!-- 1519366221272 -->\n",
       "<g class=\"node\" id=\"node7\"><title>1519366221272</title>\n",
       "<polygon fill=\"none\" points=\"50,-219.5 50,-255.5 159,-255.5 159,-219.5 50,-219.5\" stroke=\"black\"/>\n",
       "<text font-family=\"Times New Roman,serif\" font-size=\"14.00\" text-anchor=\"middle\" x=\"104.5\" y=\"-233.8\">flatten_1: Flatten</text>\n",
       "</g>\n",
       "<!-- 1519366279520&#45;&gt;1519366221272 -->\n",
       "<g class=\"edge\" id=\"edge7\"><title>1519366279520-&gt;1519366221272</title>\n",
       "<path d=\"M104.5,-292.313C104.5,-284.289 104.5,-274.547 104.5,-265.569\" fill=\"none\" stroke=\"black\"/>\n",
       "<polygon fill=\"black\" points=\"108,-265.529 104.5,-255.529 101,-265.529 108,-265.529\" stroke=\"black\"/>\n",
       "</g>\n",
       "<!-- 1519366282936 -->\n",
       "<g class=\"node\" id=\"node8\"><title>1519366282936</title>\n",
       "<polygon fill=\"none\" points=\"52.5,-146.5 52.5,-182.5 156.5,-182.5 156.5,-146.5 52.5,-146.5\" stroke=\"black\"/>\n",
       "<text font-family=\"Times New Roman,serif\" font-size=\"14.00\" text-anchor=\"middle\" x=\"104.5\" y=\"-160.8\">dense_1: Dense</text>\n",
       "</g>\n",
       "<!-- 1519366221272&#45;&gt;1519366282936 -->\n",
       "<g class=\"edge\" id=\"edge8\"><title>1519366221272-&gt;1519366282936</title>\n",
       "<path d=\"M104.5,-219.313C104.5,-211.289 104.5,-201.547 104.5,-192.569\" fill=\"none\" stroke=\"black\"/>\n",
       "<polygon fill=\"black\" points=\"108,-192.529 104.5,-182.529 101,-192.529 108,-192.529\" stroke=\"black\"/>\n",
       "</g>\n",
       "<!-- 1519366282992 -->\n",
       "<g class=\"node\" id=\"node9\"><title>1519366282992</title>\n",
       "<polygon fill=\"none\" points=\"39.5,-73.5 39.5,-109.5 169.5,-109.5 169.5,-73.5 39.5,-73.5\" stroke=\"black\"/>\n",
       "<text font-family=\"Times New Roman,serif\" font-size=\"14.00\" text-anchor=\"middle\" x=\"104.5\" y=\"-87.8\">dropout_1: Dropout</text>\n",
       "</g>\n",
       "<!-- 1519366282936&#45;&gt;1519366282992 -->\n",
       "<g class=\"edge\" id=\"edge9\"><title>1519366282936-&gt;1519366282992</title>\n",
       "<path d=\"M104.5,-146.313C104.5,-138.289 104.5,-128.547 104.5,-119.569\" fill=\"none\" stroke=\"black\"/>\n",
       "<polygon fill=\"black\" points=\"108,-119.529 104.5,-109.529 101,-119.529 108,-119.529\" stroke=\"black\"/>\n",
       "</g>\n",
       "<!-- 1519366442344 -->\n",
       "<g class=\"node\" id=\"node10\"><title>1519366442344</title>\n",
       "<polygon fill=\"none\" points=\"52.5,-0.5 52.5,-36.5 156.5,-36.5 156.5,-0.5 52.5,-0.5\" stroke=\"black\"/>\n",
       "<text font-family=\"Times New Roman,serif\" font-size=\"14.00\" text-anchor=\"middle\" x=\"104.5\" y=\"-14.8\">dense_2: Dense</text>\n",
       "</g>\n",
       "<!-- 1519366282992&#45;&gt;1519366442344 -->\n",
       "<g class=\"edge\" id=\"edge10\"><title>1519366282992-&gt;1519366442344</title>\n",
       "<path d=\"M104.5,-73.3129C104.5,-65.2895 104.5,-55.5475 104.5,-46.5691\" fill=\"none\" stroke=\"black\"/>\n",
       "<polygon fill=\"black\" points=\"108,-46.5288 104.5,-36.5288 101,-46.5289 108,-46.5288\" stroke=\"black\"/>\n",
       "</g>\n",
       "<!-- 1519366006264 -->\n",
       "<g class=\"node\" id=\"node11\"><title>1519366006264</title>\n",
       "<polygon fill=\"none\" points=\"52.5,-730.5 52.5,-766.5 156.5,-766.5 156.5,-730.5 52.5,-730.5\" stroke=\"black\"/>\n",
       "<text font-family=\"Times New Roman,serif\" font-size=\"14.00\" text-anchor=\"middle\" x=\"104.5\" y=\"-744.8\">1519366006264</text>\n",
       "</g>\n",
       "<!-- 1519366006264&#45;&gt;1519366007832 -->\n",
       "<g class=\"edge\" id=\"edge1\"><title>1519366006264-&gt;1519366007832</title>\n",
       "<path d=\"M104.5,-730.313C104.5,-722.289 104.5,-712.547 104.5,-703.569\" fill=\"none\" stroke=\"black\"/>\n",
       "<polygon fill=\"black\" points=\"108,-703.529 104.5,-693.529 101,-703.529 108,-703.529\" stroke=\"black\"/>\n",
       "</g>\n",
       "</g>\n",
       "</svg>"
      ],
      "text/plain": [
       "<IPython.core.display.SVG object>"
      ]
     },
     "execution_count": 9,
     "metadata": {},
     "output_type": "execute_result"
    }
   ],
   "source": [
    "from IPython.display import SVG\n",
    "from keras.utils.vis_utils import model_to_dot\n",
    "\n",
    "SVG(model_to_dot(model).create(prog='dot', format='svg'))"
   ]
  },
  {
   "cell_type": "markdown",
   "metadata": {
    "colab_type": "text",
    "id": "TfypWUJIlFkz"
   },
   "source": [
    "## Training CNN"
   ]
  },
  {
   "cell_type": "code",
   "execution_count": 10,
   "metadata": {
    "colab": {
     "base_uri": "https://localhost:8080/",
     "height": 931
    },
    "colab_type": "code",
    "id": "zsdmu-ggfvr1",
    "outputId": "77a52558-8ecc-4fc5-e0cb-2b86a75df4c6"
   },
   "outputs": [
    {
     "name": "stdout",
     "output_type": "stream",
     "text": [
      "Train on 840 samples, validate on 210 samples\n",
      "Epoch 1/30\n",
      "840/840 [==============================] - 6s 7ms/step - loss: 1.7675 - acc: 0.3143 - val_loss: 1.3519 - val_acc: 0.5333\n",
      "Epoch 2/30\n",
      "840/840 [==============================] - 6s 7ms/step - loss: 1.4096 - acc: 0.4774 - val_loss: 1.0839 - val_acc: 0.6810\n",
      "Epoch 3/30\n",
      "840/840 [==============================] - 6s 8ms/step - loss: 1.1748 - acc: 0.5726 - val_loss: 0.9163 - val_acc: 0.7286\n",
      "Epoch 4/30\n",
      "840/840 [==============================] - 6s 7ms/step - loss: 1.0234 - acc: 0.6476 - val_loss: 0.7471 - val_acc: 0.7762\n",
      "Epoch 5/30\n",
      "840/840 [==============================] - 6s 7ms/step - loss: 0.8885 - acc: 0.6940 - val_loss: 0.6408 - val_acc: 0.8000\n",
      "Epoch 6/30\n",
      "840/840 [==============================] - 5s 6ms/step - loss: 0.7876 - acc: 0.7262 - val_loss: 0.6192 - val_acc: 0.7857\n",
      "Epoch 7/30\n",
      "840/840 [==============================] - 5s 6ms/step - loss: 0.7089 - acc: 0.7571 - val_loss: 0.6322 - val_acc: 0.7857\n",
      "Epoch 8/30\n",
      "840/840 [==============================] - 5s 6ms/step - loss: 0.6749 - acc: 0.7702 - val_loss: 0.5246 - val_acc: 0.8095\n",
      "Epoch 9/30\n",
      "840/840 [==============================] - 5s 6ms/step - loss: 0.5983 - acc: 0.7940 - val_loss: 0.5048 - val_acc: 0.8190\n",
      "Epoch 10/30\n",
      "840/840 [==============================] - 5s 6ms/step - loss: 0.5717 - acc: 0.7929 - val_loss: 0.4920 - val_acc: 0.8190\n",
      "Epoch 11/30\n",
      "840/840 [==============================] - 5s 6ms/step - loss: 0.4863 - acc: 0.8381 - val_loss: 0.5055 - val_acc: 0.8095\n",
      "Epoch 12/30\n",
      "840/840 [==============================] - 5s 6ms/step - loss: 0.5096 - acc: 0.8238 - val_loss: 0.4553 - val_acc: 0.8143\n",
      "Epoch 13/30\n",
      "840/840 [==============================] - 5s 6ms/step - loss: 0.4660 - acc: 0.8333 - val_loss: 0.5347 - val_acc: 0.7810\n",
      "Epoch 14/30\n",
      "840/840 [==============================] - 6s 7ms/step - loss: 0.4297 - acc: 0.8417 - val_loss: 0.4272 - val_acc: 0.8429\n",
      "Epoch 15/30\n",
      "840/840 [==============================] - 5s 6ms/step - loss: 0.3961 - acc: 0.8583 - val_loss: 0.5413 - val_acc: 0.7905\n",
      "Epoch 16/30\n",
      "840/840 [==============================] - 5s 6ms/step - loss: 0.4107 - acc: 0.8679 - val_loss: 0.4736 - val_acc: 0.8190\n",
      "Epoch 17/30\n",
      "840/840 [==============================] - 5s 6ms/step - loss: 0.3899 - acc: 0.8548 - val_loss: 0.4380 - val_acc: 0.8143\n",
      "Epoch 18/30\n",
      "840/840 [==============================] - 5s 6ms/step - loss: 0.3672 - acc: 0.8679 - val_loss: 0.4250 - val_acc: 0.8333\n",
      "Epoch 19/30\n",
      "840/840 [==============================] - 5s 6ms/step - loss: 0.3534 - acc: 0.8679 - val_loss: 0.4229 - val_acc: 0.8524\n",
      "Epoch 20/30\n",
      "840/840 [==============================] - 6s 7ms/step - loss: 0.3351 - acc: 0.8702 - val_loss: 0.4591 - val_acc: 0.8286\n",
      "Epoch 21/30\n",
      "840/840 [==============================] - 6s 7ms/step - loss: 0.2811 - acc: 0.9036 - val_loss: 0.4293 - val_acc: 0.8524\n",
      "Epoch 22/30\n",
      "840/840 [==============================] - 5s 7ms/step - loss: 0.3039 - acc: 0.8845 - val_loss: 0.4760 - val_acc: 0.8143\n",
      "Epoch 23/30\n",
      "840/840 [==============================] - 6s 7ms/step - loss: 0.3034 - acc: 0.9131 - val_loss: 0.4141 - val_acc: 0.8143\n",
      "Epoch 24/30\n",
      "840/840 [==============================] - 5s 6ms/step - loss: 0.2788 - acc: 0.9048 - val_loss: 0.5505 - val_acc: 0.8095\n",
      "Epoch 25/30\n",
      "840/840 [==============================] - 5s 6ms/step - loss: 0.2754 - acc: 0.8940 - val_loss: 0.4638 - val_acc: 0.8476\n",
      "Epoch 26/30\n",
      "840/840 [==============================] - 5s 6ms/step - loss: 0.2380 - acc: 0.9119 - val_loss: 0.4586 - val_acc: 0.8381\n",
      "Epoch 27/30\n",
      "840/840 [==============================] - 5s 6ms/step - loss: 0.2384 - acc: 0.9179 - val_loss: 0.4721 - val_acc: 0.8095\n",
      "Epoch 28/30\n",
      "840/840 [==============================] - 5s 6ms/step - loss: 0.2465 - acc: 0.9036 - val_loss: 0.4523 - val_acc: 0.8619\n",
      "Epoch 29/30\n",
      "840/840 [==============================] - 5s 6ms/step - loss: 0.2376 - acc: 0.9179 - val_loss: 0.4123 - val_acc: 0.8762\n",
      "Epoch 30/30\n",
      "840/840 [==============================] - 5s 6ms/step - loss: 0.1995 - acc: 0.9321 - val_loss: 0.4543 - val_acc: 0.8667\n"
     ]
    }
   ],
   "source": [
    "EPOCHS = 30\n",
    "history = model.fit(train_data, train_labels, epochs=EPOCHS, validation_data=(test_data, test_labels), batch_size=10)"
   ]
  },
  {
   "cell_type": "code",
   "execution_count": 11,
   "metadata": {},
   "outputs": [
    {
     "data": {
      "image/png": "[encoded data removed]",
      "text/plain": [
       "<matplotlib.figure.Figure at 0x161c336acc0>"
      ]
     },
     "metadata": {},
     "output_type": "display_data"
    },
    {
     "data": {
      "image/png": "[encoded data removed]",
      "text/plain": [
       "<matplotlib.figure.Figure at 0x161c3d5a6d8>"
      ]
     },
     "metadata": {},
     "output_type": "display_data"
    }
   ],
   "source": [
    "%run history.py\n",
    "%matplotlib inline\n",
    "\n",
    "plot_accuracy(history)\n",
    "plot_loss(history)"
   ]
  },
  {
   "cell_type": "markdown",
   "metadata": {},
   "source": [
    "## Save the model"
   ]
  },
  {
   "cell_type": "code",
   "execution_count": 12,
   "metadata": {},
   "outputs": [],
   "source": [
    "import datetime\n",
    "\n",
    "dt = datetime.datetime.today().strftime('%Y%m%d%H%M%S')\n",
    "filename = DATASET_FOLDER + '/cnn_for_aed_living_{}.h5'.format(dt)\n",
    "model.save(filename)"
   ]
  },
  {
   "cell_type": "markdown",
   "metadata": {},
   "source": [
    "## Load the model"
   ]
  },
  {
   "cell_type": "code",
   "execution_count": 13,
   "metadata": {},
   "outputs": [],
   "source": [
    "del model\n",
    "model = models.load_model(filename)"
   ]
  },
  {
   "cell_type": "markdown",
   "metadata": {
    "colab_type": "text",
    "id": "j6con4C3lKC1"
   },
   "source": [
    "## Confirmation"
   ]
  },
  {
   "cell_type": "code",
   "execution_count": 14,
   "metadata": {
    "colab": {
     "base_uri": "https://localhost:8080/",
     "height": 34
    },
    "colab_type": "code",
    "id": "4oZYLLij69wU",
    "outputId": "b37a4b8a-2c80-411f-d8a9-5df1c6dbfe22"
   },
   "outputs": [
    {
     "data": {
      "text/plain": [
       "(840, 64, 40, 1)"
      ]
     },
     "execution_count": 14,
     "metadata": {},
     "output_type": "execute_result"
    }
   ],
   "source": [
    "import numpy as np\n",
    "import matplotlib.pyplot as plt\n",
    "train_data.shape"
   ]
  },
  {
   "cell_type": "code",
   "execution_count": 15,
   "metadata": {
    "colab": {
     "base_uri": "https://localhost:8080/",
     "height": 193
    },
    "colab_type": "code",
    "id": "zSxXE9FgRBdJ",
    "outputId": "f3a53efe-e99f-4572-f9b4-1bf3c39c77ec"
   },
   "outputs": [],
   "source": [
    "layer_outputs = [layer.output for layer in model.layers]\n",
    "#layer_outputs"
   ]
  },
  {
   "cell_type": "code",
   "execution_count": 16,
   "metadata": {
    "colab": {
     "base_uri": "https://localhost:8080/",
     "height": 34
    },
    "colab_type": "code",
    "id": "dcw7yHKrRkPD",
    "outputId": "a3ed5441-ae48-4635-bf07-ac5060030608"
   },
   "outputs": [],
   "source": [
    "activation_model = models.Model(inputs=model.input, outputs=layer_outputs)\n",
    "activations = activation_model.predict(test_data)\n",
    "#activations[0][0,:,:,0].shape"
   ]
  },
  {
   "cell_type": "code",
   "execution_count": 17,
   "metadata": {},
   "outputs": [
    {
     "data": {
      "text/plain": [
       "['watching_tv',\n",
       " 'washing',\n",
       " 'moving',\n",
       " 'silence',\n",
       " 'cocking',\n",
       " 'tooth_brushing',\n",
       " 'bathing']"
      ]
     },
     "execution_count": 17,
     "metadata": {},
     "output_type": "execute_result"
    }
   ],
   "source": [
    "class_labels"
   ]
  },
  {
   "cell_type": "code",
   "execution_count": 18,
   "metadata": {
    "colab": {
     "base_uri": "https://localhost:8080/",
     "height": 193
    },
    "colab_type": "code",
    "id": "ccSNAwGKhRn9",
    "outputId": "0ad22e12-713b-4b07-e17b-45d39ff1b80b"
   },
   "outputs": [
    {
     "data": {
      "text/plain": [
       "array([[  0,   0,   0,   0,   0,   0, 100],\n",
       "       [  2,   0,   0,  97,   0,   0,   0],\n",
       "       [  0,   0,   0,  99,   0,   0,   0],\n",
       "       [ 15,   0,  84,   0,   0,   0,   0],\n",
       "       [  0,   0,   1,   0,   0,  98,   0],\n",
       "       [  0,   0,   0,  98,   0,   0,   0],\n",
       "       [  2,   0,   1,  96,   0,   0,   0],\n",
       "       [  0,   0,   0,   0,   0,   0,  99],\n",
       "       [  0,   0,  99,   0,   0,   0,   0],\n",
       "       [ 55,   0,  44,   0,   0,   0,   0]])"
      ]
     },
     "execution_count": 18,
     "metadata": {},
     "output_type": "execute_result"
    }
   ],
   "source": [
    "(activations[-1][:10]*100).astype(int)"
   ]
  },
  {
   "cell_type": "code",
   "execution_count": 19,
   "metadata": {
    "colab": {
     "base_uri": "https://localhost:8080/",
     "height": 193
    },
    "colab_type": "code",
    "id": "RoE0nxtuiGIN",
    "outputId": "154437a8-ab72-46f4-f42c-3e6464af47d0"
   },
   "outputs": [
    {
     "data": {
      "text/plain": [
       "array([[0, 0, 0, 0, 0, 0, 1],\n",
       "       [0, 0, 0, 1, 0, 0, 0],\n",
       "       [0, 0, 0, 1, 0, 0, 0],\n",
       "       [0, 0, 1, 0, 0, 0, 0],\n",
       "       [0, 0, 0, 0, 0, 1, 0],\n",
       "       [0, 0, 0, 1, 0, 0, 0],\n",
       "       [0, 0, 0, 1, 0, 0, 0],\n",
       "       [0, 0, 0, 0, 0, 0, 1],\n",
       "       [0, 0, 1, 0, 0, 0, 0],\n",
       "       [0, 0, 1, 0, 0, 0, 0]])"
      ]
     },
     "execution_count": 19,
     "metadata": {},
     "output_type": "execute_result"
    }
   ],
   "source": [
    "test_labels[:10].astype(int)"
   ]
  },
  {
   "cell_type": "code",
   "execution_count": 20,
   "metadata": {},
   "outputs": [],
   "source": [
    "def plot_layer(activations, sample, layer):\n",
    "    a = activations[layer].shape\n",
    "    rows = int(a[3]/4)\n",
    "    fig, axarr = plt.subplots(rows, 4, figsize=[20,15])\n",
    "    for i in range(a[3]):\n",
    "        row = int(i/4)\n",
    "        x, y = row, i-4*row\n",
    "        axarr[x, y].imshow(np.rot90(activations[layer][sample, :, :, i]))\n",
    "        axarr[x, y].set_xticks([])\n",
    "        axarr[x, y].set_yticks([])"
   ]
  },
  {
   "cell_type": "code",
   "execution_count": 21,
   "metadata": {},
   "outputs": [
    {
     "data": {
      "text/plain": [
       "'moving'"
      ]
     },
     "execution_count": 21,
     "metadata": {},
     "output_type": "execute_result"
    },
    {
     "data": {
      "image/png": "[encoded data removed]",
      "text/plain": [
       "<matplotlib.figure.Figure at 0x161c41b93c8>"
      ]
     },
     "metadata": {},
     "output_type": "display_data"
    }
   ],
   "source": [
    "image_number = 8\n",
    "\n",
    "plt.imshow(np.rot90(test_data[image_number,:,:,0]))\n",
    "class_labels[np.argmax(test_labels[image_number])]"
   ]
  },
  {
   "cell_type": "code",
   "execution_count": 22,
   "metadata": {},
   "outputs": [
    {
     "data": {
      "image/png": "[encoded data removed]",
      "text/plain": [
       "<matplotlib.figure.Figure at 0x161c4134cc0>"
      ]
     },
     "metadata": {},
     "output_type": "display_data"
    }
   ],
   "source": [
    "plot_layer(activations, image_number, 2)"
   ]
  },
  {
   "cell_type": "code",
   "execution_count": 23,
   "metadata": {},
   "outputs": [
    {
     "data": {
      "image/png": "[encoded data removed]",
      "text/plain": [
       "<matplotlib.figure.Figure at 0x161c579aac8>"
      ]
     },
     "metadata": {},
     "output_type": "display_data"
    }
   ],
   "source": [
    "plot_layer(activations, image_number, 4)"
   ]
  },
  {
   "cell_type": "code",
   "execution_count": null,
   "metadata": {},
   "outputs": [],
   "source": []
  }
 ],
 "metadata": {
  "colab": {
   "collapsed_sections": [],
   "name": "CNN for AED",
   "provenance": [],
   "version": "0.3.2"
  },
  "kernelspec": {
   "display_name": "Python 3",
   "language": "python",
   "name": "python3"
  },
  "language_info": {
   "codemirror_mode": {
    "name": "ipython",
    "version": 3
   },
   "file_extension": ".py",
   "mimetype": "text/x-python",
   "name": "python",
   "nbconvert_exporter": "python",
   "pygments_lexer": "ipython3",
   "version": "3.6.4"
  }
 },
 "nbformat": 4,
 "nbformat_minor": 1
}
