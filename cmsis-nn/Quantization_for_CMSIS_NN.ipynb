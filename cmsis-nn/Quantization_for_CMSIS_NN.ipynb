{
 "cells": [
  {
   "cell_type": "markdown",
   "metadata": {},
   "source": [
    "# Quantization for CMSIS-NN\n",
    "\n",
    "Date: Nov 11, 2018\n",
    "\n",
    "Quantize weights and biases from Keras CNN model.\n",
    "\n",
    "Reference: https://community.arm.com/processors/b/blog/posts/deploying-convolutional-neural-network-on-cortex-m-with-cmsis-nn"
   ]
  },
  {
   "cell_type": "code",
   "execution_count": 19,
   "metadata": {},
   "outputs": [
    {
     "name": "stdout",
     "output_type": "stream",
     "text": [
      "_________________________________________________________________\n",
      "Layer (type)                 Output Shape              Param #   \n",
      "=================================================================\n",
      "conv2d_51 (Conv2D)           (None, 62, 38, 4)         40        \n",
      "_________________________________________________________________\n",
      "max_pooling2d_50 (MaxPooling (None, 31, 19, 4)         0         \n",
      "_________________________________________________________________\n",
      "conv2d_52 (Conv2D)           (None, 29, 17, 8)         296       \n",
      "_________________________________________________________________\n",
      "max_pooling2d_51 (MaxPooling (None, 14, 8, 8)          0         \n",
      "_________________________________________________________________\n",
      "conv2d_53 (Conv2D)           (None, 12, 6, 16)         1168      \n",
      "_________________________________________________________________\n",
      "max_pooling2d_52 (MaxPooling (None, 6, 3, 16)          0         \n",
      "_________________________________________________________________\n",
      "flatten_19 (Flatten)         (None, 288)               0         \n",
      "_________________________________________________________________\n",
      "dropout_20 (Dropout)         (None, 288)               0         \n",
      "_________________________________________________________________\n",
      "dense_37 (Dense)             (None, 6)                 1734      \n",
      "=================================================================\n",
      "Total params: 3,238\n",
      "Trainable params: 3,238\n",
      "Non-trainable params: 0\n",
      "_________________________________________________________________\n"
     ]
    }
   ],
   "source": [
    "#!/usr/bin/env python3\n",
    "\n",
    "from keras import models\n",
    "import serial\n",
    "import numpy as np\n",
    "import pandas as pd\n",
    "import yaml\n",
    "import time\n",
    "import matplotlib.pyplot as plt\n",
    "%matplotlib inline\n",
    "\n",
    "\n",
    "DATA_FOLDER = '../oscilloscope/data_music/'\n",
    "\n",
    "# MODEL = './cnn_for_aed_20181107185253.h5'\n",
    "# MODEL = './cnn_for_aed_20181110221837.h5'\n",
    "MODEL = '../tensorflow/cnn_for_aed_20181111211558.h5'\n",
    "\n",
    "with open(DATA_FOLDER+'class_labels.yaml', 'r') as f:\n",
    "    class_labels = yaml.load(f)\n",
    "\n",
    "#print(class_labels)\n",
    "\n",
    "model = models.load_model(MODEL)\n",
    "model.summary()"
   ]
  },
  {
   "cell_type": "code",
   "execution_count": 133,
   "metadata": {},
   "outputs": [
    {
     "name": "stdout",
     "output_type": "stream",
     "text": [
      "[ 0.01777769 -0.00845764  0.01150828 -0.00247425  0.011081    0.10478817\n",
      "  0.02867063  0.02715485]\n",
      "[[[[ 0.09744884 -0.19868487 -0.18458456  0.04582829  0.21442795\n",
      "     0.2023839   0.14018635 -0.09801631]\n",
      "   [-0.24325387 -0.14401503  0.3551884  -0.07870063  0.19965763\n",
      "     0.18095589  0.02600593  0.16335927]\n",
      "   [ 0.0742927   0.06740445 -0.06689061 -0.29224032 -0.1345016\n",
      "     0.0065839  -0.09972803 -0.02478449]\n",
      "   [-0.03027753 -0.16554491  0.2837726   0.0264269  -0.05352686\n",
      "    -0.14239061 -0.26054105  0.04927359]]\n",
      "\n",
      "  [[-0.26390323 -0.10916133 -0.07361007  0.14303419 -0.32332757\n",
      "     0.28230947  0.1431566  -0.15563321]\n",
      "   [ 0.00396006  0.06658679  0.21314111 -0.09533431 -0.14499108\n",
      "    -0.21046185 -0.13214564  0.02655707]\n",
      "   [-0.12477488 -0.19117877  0.06241727  0.15594262 -0.00347502\n",
      "     0.18378264  0.12566459 -0.06209244]\n",
      "   [-0.02150992  0.16163547  0.00964544 -0.07880041  0.03355636\n",
      "     0.12364098 -0.10273905 -0.12907493]]\n",
      "\n",
      "  [[-0.06200593 -0.06411245  0.32113522  0.16929474 -0.26158035\n",
      "     0.21531716 -0.20475352 -0.00374854]\n",
      "   [ 0.09847263 -0.20249012  0.04641632  0.11701416 -0.06312067\n",
      "    -0.04956115  0.1709719   0.04633694]\n",
      "   [ 0.20241489  0.22719856 -0.11620937 -0.13191225 -0.06520696\n",
      "     0.06578209  0.09937636  0.13602936]\n",
      "   [ 0.14238505  0.06347974 -0.19671002  0.17071398 -0.05773198\n",
      "     0.13325909 -0.18300395  0.04013076]]]\n",
      "\n",
      "\n",
      " [[[ 0.2719191  -0.0607555  -0.09229567 -0.18308783  0.26573044\n",
      "    -0.06358442  0.24379796  0.03328988]\n",
      "   [ 0.19367148  0.18747762  0.2200312   0.04123761  0.01858261\n",
      "     0.01664605  0.2698183   0.1610774 ]\n",
      "   [ 0.13525012 -0.20211552 -0.13177915 -0.2673231   0.22588792\n",
      "     0.01583911  0.07129499 -0.12391414]\n",
      "   [-0.3161525  -0.00143754  0.27309275  0.0990352   0.13852192\n",
      "     0.18199778  0.02094104  0.04458186]]\n",
      "\n",
      "  [[-0.21875447 -0.06131231  0.00232151 -0.16929467  0.16887316\n",
      "    -0.12760465 -0.19404127 -0.07801171]\n",
      "   [-0.07360787 -0.04453126 -0.15983662  0.13911495  0.22261819\n",
      "    -0.00849725  0.23373966  0.05663354]\n",
      "   [-0.12926826 -0.28007817  0.21866553 -0.18476434 -0.03792281\n",
      "     0.05384837  0.23185085 -0.22059354]\n",
      "   [ 0.20627497  0.05307174  0.01392511 -0.07658198 -0.00545215\n",
      "     0.04637068 -0.16541816 -0.16040304]]\n",
      "\n",
      "  [[ 0.02713465  0.22499692  0.14208524 -0.11225692 -0.01339404\n",
      "    -0.09783549  0.13694967  0.06216593]\n",
      "   [ 0.07647245 -0.1542649  -0.16571891  0.24890536  0.06899817\n",
      "    -0.13362342 -0.19175914 -0.03970695]\n",
      "   [-0.14553936 -0.1056556   0.31322291  0.09817431  0.2074883\n",
      "    -0.13071236  0.10087557  0.08149754]\n",
      "   [-0.11647916  0.24479936 -0.2534263   0.10477331  0.11359679\n",
      "    -0.18350144 -0.19850142  0.17874905]]]\n",
      "\n",
      "\n",
      " [[[ 0.29232794  0.2420394   0.04579434  0.14599842  0.2687787\n",
      "     0.0643037   0.07302836 -0.20496075]\n",
      "   [-0.28526032  0.06214097  0.09175572  0.10978846 -0.00846548\n",
      "    -0.0201323  -0.22989325  0.15316184]\n",
      "   [ 0.22763857  0.16458438 -0.10778931 -0.08996508  0.18973267\n",
      "    -0.21054053 -0.14766528  0.13625878]\n",
      "   [ 0.05195226  0.03729048  0.352886   -0.03895694 -0.2586558\n",
      "    -0.09834139 -0.02367095  0.26378915]]\n",
      "\n",
      "  [[-0.18010633  0.25267676  0.08454528 -0.15307711 -0.20809318\n",
      "    -0.11117827 -0.00258211 -0.07600261]\n",
      "   [-0.06983855 -0.1085889  -0.01011783  0.15363295  0.18242936\n",
      "     0.04809225  0.15906619 -0.0381928 ]\n",
      "   [-0.2589356  -0.20288983  0.08956528 -0.22585441  0.17660081\n",
      "     0.00243498  0.19228868  0.17242326]\n",
      "   [ 0.21128461 -0.20419143 -0.11116528  0.21744315 -0.09046099\n",
      "    -0.20348138  0.05983049 -0.12161189]]\n",
      "\n",
      "  [[ 0.20525205  0.209496    0.28667715  0.25670135  0.21760193\n",
      "     0.056917   -0.14835308 -0.03486963]\n",
      "   [-0.03556541  0.08669031 -0.21834096  0.15937297 -0.14674595\n",
      "    -0.09313834  0.12878354  0.24492826]\n",
      "   [ 0.14058463  0.2152238   0.04985642  0.13071442 -0.10976162\n",
      "    -0.25629464  0.17619257 -0.04859021]\n",
      "   [ 0.03431164 -0.13843912  0.06136378  0.02657752  0.02395641\n",
      "    -0.11724029  0.05718803  0.17464262]]]]\n",
      "(3, 3, 4, 8)\n"
     ]
    }
   ],
   "source": [
    "conv2d_1 = model.layers[2].get_weights()\n",
    "bias = conv2d_1[1]\n",
    "filter_ = conv2d_1[0]\n",
    "print(bias)\n",
    "print(filter_)\n",
    "print(filter_.shape)"
   ]
  },
  {
   "cell_type": "code",
   "execution_count": 134,
   "metadata": {},
   "outputs": [
    {
     "data": {
      "text/plain": [
       "<matplotlib.image.AxesImage at 0x5f096cb0>"
      ]
     },
     "execution_count": 134,
     "metadata": {},
     "output_type": "execute_result"
    },
    {
     "data": {
      "image/png": "[encoded data removed]",
      "text/plain": [
       "<matplotlib.figure.Figure at 0x5f0c3c30>"
      ]
     },
     "metadata": {
      "needs_background": "light"
     },
     "output_type": "display_data"
    }
   ],
   "source": [
    "plt.imshow(filter_[:,:,0,0], cmap=plt.get_cmap('gray'))"
   ]
  },
  {
   "cell_type": "code",
   "execution_count": 135,
   "metadata": {},
   "outputs": [
    {
     "data": {
      "text/plain": [
       "<matplotlib.image.AxesImage at 0x5f0565d0>"
      ]
     },
     "execution_count": 135,
     "metadata": {},
     "output_type": "execute_result"
    },
    {
     "data": {
      "image/png": "[encoded data removed]",
      "text/plain": [
       "<matplotlib.figure.Figure at 0x5f148f70>"
      ]
     },
     "metadata": {
      "needs_background": "light"
     },
     "output_type": "display_data"
    }
   ],
   "source": [
    "plt.imshow(filter_[:,:,0,1], cmap=plt.get_cmap('gray'))"
   ]
  },
  {
   "cell_type": "code",
   "execution_count": 136,
   "metadata": {},
   "outputs": [
    {
     "data": {
      "text/plain": [
       "array([[[[ 12, -25, -23,   5,  27,  25,  17, -12],\n",
       "         [-31, -18,  45, -10,  25,  23,   3,  20],\n",
       "         [  9,   8,  -8, -37, -17,   0, -12,  -3],\n",
       "         [ -3, -21,  36,   3,  -6, -18, -33,   6]],\n",
       "\n",
       "        [[-33, -13,  -9,  18, -41,  36,  18, -19],\n",
       "         [  0,   8,  27, -12, -18, -26, -16,   3],\n",
       "         [-15, -24,   7,  19,   0,  23,  16,  -7],\n",
       "         [ -2,  20,   1, -10,   4,  15, -13, -16]],\n",
       "\n",
       "        [[ -7,  -8,  41,  21, -33,  27, -26,   0],\n",
       "         [ 12, -25,   5,  14,  -8,  -6,  21,   5],\n",
       "         [ 25,  29, -14, -16,  -8,   8,  12,  17],\n",
       "         [ 18,   8, -25,  21,  -7,  17, -23,   5]]],\n",
       "\n",
       "\n",
       "       [[[ 34,  -7, -11, -23,  34,  -8,  31,   4],\n",
       "         [ 24,  23,  28,   5,   2,   2,  34,  20],\n",
       "         [ 17, -25, -16, -34,  28,   2,   9, -15],\n",
       "         [-40,   0,  34,  12,  17,  23,   2,   5]],\n",
       "\n",
       "        [[-28,  -7,   0, -21,  21, -16, -24,  -9],\n",
       "         [ -9,  -5, -20,  17,  28,  -1,  29,   7],\n",
       "         [-16, -35,  27, -23,  -4,   6,  29, -28],\n",
       "         [ 26,   6,   1,  -9,   0,   5, -21, -20]],\n",
       "\n",
       "        [[  3,  28,  18, -14,  -1, -12,  17,   7],\n",
       "         [  9, -19, -21,  31,   8, -17, -24,  -5],\n",
       "         [-18, -13,  40,  12,  26, -16,  12,  10],\n",
       "         [-14,  31, -32,  13,  14, -23, -25,  22]]],\n",
       "\n",
       "\n",
       "       [[[ 37,  30,   5,  18,  34,   8,   9, -26],\n",
       "         [-36,   7,  11,  14,  -1,  -2, -29,  19],\n",
       "         [ 29,  21, -13, -11,  24, -26, -18,  17],\n",
       "         [  6,   4,  45,  -4, -33, -12,  -3,  33]],\n",
       "\n",
       "        [[-23,  32,  10, -19, -26, -14,   0,  -9],\n",
       "         [ -8, -13,  -1,  19,  23,   6,  20,  -4],\n",
       "         [-33, -25,  11, -28,  22,   0,  24,  22],\n",
       "         [ 27, -26, -14,  27, -11, -26,   7, -15]],\n",
       "\n",
       "        [[ 26,  26,  36,  32,  27,   7, -18,  -4],\n",
       "         [ -4,  11, -27,  20, -18, -11,  16,  31],\n",
       "         [ 17,  27,   6,  16, -14, -32,  22,  -6],\n",
       "         [  4, -17,   7,   3,   3, -15,   7,  22]]]])"
      ]
     },
     "execution_count": 136,
     "metadata": {},
     "output_type": "execute_result"
    }
   ],
   "source": [
    "# Q7\n",
    "(filter_*2**7).astype(int)"
   ]
  },
  {
   "cell_type": "code",
   "execution_count": 141,
   "metadata": {},
   "outputs": [],
   "source": [
    "# Q7 flatten\n",
    "def flatten_filter_q7(filter_, size, num_filters1, num_filters2):\n",
    "    filter_q7 = (filter_*2**7).astype(np.int8)\n",
    "    return filter_q7.reshape(size*size,num_filters1*num_filters2).T.reshape(size*size*num_filters1*num_filters2)\n",
    "\n",
    "def flatten_dense_q7(dense):\n",
    "    w, c = dense.shape\n",
    "    dense = dense.reshape(w*c)\n",
    "    return (dense*2**7).astype(np.int8)\n",
    "\n",
    "def bias_q7(bias):\n",
    "    return (bias*2**7).astype(np.int8)\n",
    "\n",
    "def print_define(cname, list_):\n",
    "    print('#define{} {{ {} }}'.format(cname, str(list_)[1:-1]))\n",
    "    print()"
   ]
  },
  {
   "cell_type": "code",
   "execution_count": 142,
   "metadata": {},
   "outputs": [
    {
     "data": {
      "text/plain": [
       "(array([ 12, -33,  -7,  34, -28,   3,  37, -23,  26, -25, -13,  -8,  -7,\n",
       "         -7,  28,  30,  32,  26, -23,  -9,  41, -11,   0,  18,   5,  10,\n",
       "         36,   5,  18,  21, -23, -21, -14,  18, -19,  32,  27, -41, -33,\n",
       "         34,  21,  -1,  34, -26,  27,  25,  36,  27,  -8, -16, -12,   8,\n",
       "        -14,   7,  17,  18, -26,  31, -24,  17,   9,   0, -18, -12, -19,\n",
       "          0,   4,  -9,   7, -26,  -9,  -4, -31,   0,  12,  24,  -9,   9,\n",
       "        -36,  -8,  -4, -18,   8, -25,  23,  -5, -19,   7, -13,  11,  45,\n",
       "         27,   5,  28, -20, -21,  11,  -1, -27, -10, -12,  14,   5,  17,\n",
       "         31,  14,  19,  20,  25, -18,  -8,   2,  28,   8,  -1,  23, -18,\n",
       "         23, -26,  -6,   2,  -1, -17,  -2,   6, -11,   3, -16,  21,  34,\n",
       "         29, -24, -29,  20,  16,  20,   3,   5,  20,   7,  -5,  19,  -4,\n",
       "         31,   9, -15,  25,  17, -16, -18,  29, -33,  17,   8, -24,  29,\n",
       "        -25, -35, -13,  21, -25,  27,  -8,   7, -14, -16,  27,  40, -13,\n",
       "         11,   6, -37,  19, -16, -34, -23,  12, -11, -28,  16, -17,   0,\n",
       "         -8,  28,  -4,  26,  24,  22, -14,   0,  23,   8,   2,   6, -16,\n",
       "        -26,   0, -32, -12,  16,  12,   9,  29,  12, -18,  24,  22,  -3,\n",
       "         -7,  17, -15, -28,  10,  17,  22,  -6,  -3,  -2,  18, -40,  26,\n",
       "        -14,   6,  27,   4, -21,  20,   8,   0,   6,  31,   4, -26, -17,\n",
       "         36,   1, -25,  34,   1, -32,  45, -14,   7,   3, -10,  21,  12,\n",
       "         -9,  13,  -4,  27,   3,  -6,   4,  -7,  17,   0,  14, -33, -11,\n",
       "          3, -18,  15,  17,  23,   5, -23, -12, -26, -15, -33, -13, -23,\n",
       "          2, -21, -25,  -3,   7,   7,   6, -16,   5,   5, -20,  22,  33,\n",
       "        -15,  22], dtype=int8),\n",
       " array([ 2, -1,  1,  0,  1, 13,  3,  3], dtype=int8))"
      ]
     },
     "execution_count": 142,
     "metadata": {},
     "output_type": "execute_result"
    }
   ],
   "source": [
    "flatten_filter_q7(filter_, 3, 4, 8), bias_q7(bias)"
   ]
  },
  {
   "cell_type": "markdown",
   "metadata": {},
   "source": [
    "## Generating a header file for CMSIS-NN"
   ]
  },
  {
   "cell_type": "code",
   "execution_count": 143,
   "metadata": {},
   "outputs": [
    {
     "name": "stdout",
     "output_type": "stream",
     "text": [
      "#defineCONV1_WT { 61, 58, -30, 52, 38, 2, 30, 27, 41, -49, -27, -25, 29, -46, 30, -34, -12, 27, 4, 21, 53, 48, 68, -16, 55, 42, 5, -6, -39, 46, -34, -48, 12, -59, 4, 50 }\n",
      "\n",
      "#defineCONV1_BIAS { 30, 4, 7, 0 }\n",
      "\n",
      "#defineCONV2_WT { 12, -33, -7, 34, -28, 3, 37, -23, 26, -25, -13, -8, -7, -7, 28, 30, 32, 26, -23, -9, 41, -11, 0, 18, 5, 10, 36, 5, 18, 21, -23, -21, -14, 18, -19, 32, 27, -41, -33, 34, 21, -1, 34, -26, 27, 25, 36, 27, -8, -16, -12, 8, -14, 7, 17, 18, -26, 31, -24, 17, 9, 0, -18, -12, -19, 0, 4, -9, 7, -26, -9, -4, -31, 0, 12, 24, -9, 9, -36, -8, -4, -18, 8, -25, 23, -5, -19, 7, -13, 11, 45, 27, 5, 28, -20, -21, 11, -1, -27, -10, -12, 14, 5, 17, 31, 14, 19, 20, 25, -18, -8, 2, 28, 8, -1, 23, -18, 23, -26, -6, 2, -1, -17, -2, 6, -11, 3, -16, 21, 34, 29, -24, -29, 20, 16, 20, 3, 5, 20, 7, -5, 19, -4, 31, 9, -15, 25, 17, -16, -18, 29, -33, 17, 8, -24, 29, -25, -35, -13, 21, -25, 27, -8, 7, -14, -16, 27, 40, -13, 11, 6, -37, 19, -16, -34, -23, 12, -11, -28, 16, -17, 0, -8, 28, -4, 26, 24, 22, -14, 0, 23, 8, 2, 6, -16, -26, 0, -32, -12, 16, 12, 9, 29, 12, -18, 24, 22, -3, -7, 17, -15, -28, 10, 17, 22, -6, -3, -2, 18, -40, 26, -14, 6, 27, 4, -21, 20, 8, 0, 6, 31, 4, -26, -17, 36, 1, -25, 34, 1, -32, 45, -14, 7, 3, -10, 21, 12, -9, 13, -4, 27, 3, -6, 4, -7, 17, 0, 14, -33, -11, 3, -18, 15, 17, 23, 5, -23, -12, -26, -15, -33, -13, -23, 2, -21, -25, -3, 7, 7, 6, -16, 5, 5, -20, 22, 33, -15, 22 }\n",
      "\n",
      "#defineCONV2_BIAS { 2, -1, 1, 0, 1, 13, 3, 3 }\n",
      "\n",
      "#defineCONV3_WT { -18, 16, -2, 6, -11, 28, -8, 23, 0, -11, -25, 16, 25, -12, -16, 28, -37, -6, 2, -5, 6, -11, 16, 1, -25, -2, -6, 7, -10, -7, 27, -6, -17, -2, -2, 12, -11, -17, 17, -17, 12, -4, -8, -3, -9, -8, 15, -5, 5, 1, 22, 9, 16, -1, -27, 10, 26, -5, -12, 16, -14, -3, 20, -13, 14, 15, 3, 1, -10, -7, 5, -17, 27, -32, -26, 16, -17, 2, 8, -10, 4, -12, 17, -17, 12, 15, -11, 10, 17, 10, 10, -9, 15, -3, 8, 17, 22, -13, 14, -17, 6, -15, -11, -18, 9, -6, -18, -19, 17, -4, -3, -15, -23, -12, 9, -26, -2, -8, 6, 13, 19, -11, -10, 2, 13, 0, 1, -17, -7, 0, -18, -5, -6, 3, -5, -5, 7, 11, 15, 14, -25, 15, -18, -10, -15, 20, -14, 18, 20, -22, -6, -5, 7, -6, -2, 10, -14, 2, -11, 2, 3, -1, -15, -7, 10, 13, 20, 30, -12, 4, -3, 10, 8, -17, 0, 3, 2, 14, 7, 8, 14, 0, -2, -6, -16, 12, 0, 17, 14, -18, 8, -14, -3, -6, 7, -11, 18, 10, -10, 25, 22, 5, 25, 21, -4, 4, 21, 5, 7, 23, 9, 34, 14, 7, 13, 1, 4, -11, -1, -2, -6, 3, 20, -18, 2, 1, 10, 7, -8, -5, 8, 17, -9, 16, 0, 0, 0, 3, 7, -17, 15, -13, -18, 18, -16, 0, 0, -23, -14, -17, -13, -25, -6, 19, 18, -11, -21, -11, 12, -6, 19, 10, 0, -30, 7, 12, 7, 18, -8, -23, -21, 15, -21, -14, 1, 11, 1, -3, 18, -38, -15, -21, 17, 9, -17, 2, -18, -14, 11, -12, -20, -19, 17, 10, -5, 1, -5, -9, 26, -9, -37, 27, -7, -38, -1, 0, 25, 8, -6, 3, -8, -8, 3, 2, 6, -2, 2, -18, -11, 8, 0, -1, 0, -11, -26, -13, 0, 4, -8, 18, -26, 0, -26, 2, -11, 0, 5, 13, 0, 10, -20, -6, -21, -5, 0, -10, 18, 13, 2, 24, -2, 2, -31, 15, 11, 2, -4, 19, -26, 3, -18, 4, -6, -7, -27, 9, 8, 12, -25, -3, -30, 21, 6, -14, 13, 1, -26, -11, 25, 3, -5, -12, -24, -35, 24, 4, 4, 18, 24, 0, -4, -5, -10, -7, 4, -13, 25, 13, 10, 15, -5, -24, -9, -1, 12, 16, -24, -33, -10, 9, -30, -1, 13, -10, 15, 0, -15, -16, -7, 8, 14, 3, 0, -3, -23, 5, 10, 9, -4, -10, -24, -12, 27, -2, 0, 19, 18, 16, -9, -10, 4, -18, 16, -8, 16, 3, -16, -1, 3, 9, 21, -22, 4, 15, 13, 20, 7, -26, -4, -2, -15, -12, 0, 0, -20, 23, 7, -9, -1, 9, 10, -6, 3, 17, 13, 27, 11, 9, 4, 4, -13, 15, -2, -1, -1, -12, -8, 13, 0, 22, 19, 13, -12, 20, 7, -9, -8, 6, -15, -13, 1, -14, 5, 25, -5, 26, 0, 22, 0, -3, -13, -4, 3, 24, -30, 11, 9, -6, 15, 12, -13, 1, -3, -39, 0, -22, -30, -23, -5, 1, -28, 0, 19, 14, 13, 16, 21, 21, -6, -16, -14, -16, 9, -3, -15, -10, 21, 21, -7, -22, -12, -15, -24, -35, 0, 7, -34, -5, -28, 6, -31, -3, 2, -7, -15, -11, -16, 14, 8, 19, 0, 17, 16, -11, -3, 12, -2, -17, 17, -4, 17, -8, -17, -13, 16, -4, -1, 0, 0, -23, -8, -1, -18, 18, -37, -5, -3, -31, 18, 20, -10, 3, -4, 17, 0, -8, 21, 12, -14, 10, -18, -15, -14, -5, 19, 18, -14, 21, 13, -23, -2, 5, -10, 1, 24, 2, -10, 6, 1, -22, -6, -9, 8, -10, 6, -4, -12, 0, -5, -13, 13, -1, 1, 9, -18, -11, -22, -4, 6, 8, -26, 15, 6, -32, 1, -3, -24, -28, 2, -14, 4, 6, -25, 15, 11, -22, -10, 16, -14, -9, -20, 7, 11, 9, 8, -6, -3, 0, -2, 10, -8, -2, 6, -6, -2, 12, 0, -13, 1, 0, 14, -3, 19, -18, -6, 15, 14, 20, -14, -4, -3, 18, 7, 15, 10, -14, 7, 0, 3, 22, 16, -11, 4, -22, 4, -22, -6, 24, 3, -9, -4, -16, 11, -21, 11, -9, -9, -21, 1, -28, -12, 17, -20, -1, -13, 2, -4, 19, 13, 24, 17, 1, 8, -7, 3, 3, 29, -20, -28, -11, 5, -12, -15, -5, -1, -18, -11, 27, 16, 20, 10, 34, 8, 26, 32, 4, -25, -22, -20, -38, -7, -9, -17, -2, 3, -5, 20, -21, 20, 6, -30, 18, 4, -3, -17, 21, 20, 10, 16, 0, 10, 0, -34, -27, -20, 8, -13, -13, -1, -25, -13, 15, 0, 1, 7, -6, -12, 6, 2, 16, 5, 0, 5, -9, -7, 5, -16, -15, 0, -17, -28, 6, 9, -16, -14, 12, -20, -8, 0, 15, -1, 1, -6, 33, 0, -4, -2, -14, -6, 25, 2, -14, 23, 20, 11, 10, 12, 9, -9, 4, -1, 5, -2, -11, -7, 2, -10, -8, 12, -31, 13, 1, 5, -18, -29, 23, 8, -6, -13, 2, 0, -1, 7, 15, -11, 10, -1, 20, -4, 10, 1, 11, -26, -13, -2, -4, -6, -3, -20, -5, -13, -23, 1, 4, -5, 17, 0, 3, 12, 6, 3, -16, 13, 10, -15, 25, 0, -12, 20, -1, -7, 11, -9, -15, -8, 6, -21, -12, -28, -9, -4, 2, -12, 8, -1, 14, -5, -18, -2, 0, -5, 12, -2, -6, -23, -9, -12, 12, -6, 17, -20, -10, 15, -19, -14, -26, 2, 10, -1, -13, 9, -2, 3, 7, -22, 22, 3, 16, -6, 5, 6, -2, -13, 0, 20, -16, 2, 13, -11, -12, 28, -6, -15, -2, 2, -13, 16, 12, -31, -14, -9, 15, 10, 9, 0, 14, 2, -19, 15, 22, -4, 17, 6, -22, 8, 1, 17, 16, 5, 18, -4, -8, -10, -9, 1, 22, -13, -5, 9, 17, 11, -15, 18, -10, 12, 7, 19, 0, -2, 10, -5, 7, -5, -3, 15, -25, 24, -18, -9, -5, 7, -10, 2, -16, 0, -11, 20, 3, -10, -6, -17, 13, 10, -25, -18, 2, -4, 1, -21, -11, -3, 8, -9, 10, -5, -15, -9, 24, 3, -2, -7, -10, 6, 4, -16, -17, 16, -13, -4, -12, -23, 4, -21, -18, -3, 11, 11, 0, 15, 21, 23, 22, -5, -4, 16, -5, -15, -5, -19, 1, -14, -24, -13, 0, -10, -21, -16, -10, -26, -34, -20, -19, -29, 5, -7, -26, -15, 1, -11, 23, 16, 3, 7, 19, -14, 9, -13, -6, -16, -21, 13, -14, 17, 3, -11, -26, -27, -30, -21, -5, 7, -34, -2, -26, -14, -17, -20, 13, 2, 9, -17, -5, 2, -8, 12, 10, -5, -12, -16, -3, 11, -16 }\n",
      "\n",
      "#defineCONV3_BIAS { -11, 1, -6, 1, 0, -6, -5, 0, 9, -3, -3, 2, 1, 0, -3, 1 }\n",
      "\n",
      "#defineIP1_WT { 1, -38, -42, 1, 13, 11, -27, -8, 21, -12, 25, 7, 30, -18, 11, -11, -37, 12, -18, 2, 9, -5, 3, -29, -18, -21, -4, 2, -11, 8, 3, -9, -28, 0, 5, -42, 8, -10, -36, 6, -2, 14, 0, -6, 19, 20, -49, -11, -30, -9, -8, -9, 24, -21, -23, -6, 10, -2, -43, -2, -2, 4, 0, 7, -42, -2, 13, -17, -34, -27, 9, -6, 8, -8, -19, 21, 0, -4, 4, 8, -3, 8, -46, -13, -7, -6, -3, -8, -17, -41, 3, 0, 0, 3, 26, -39, -7, -4, -10, 7, 4, 9, 6, -1, -34, -8, 1, 0, 7, -20, -1, 0, -7, 15, 11, 4, -41, 8, -40, 10, 13, -9, 13, -7, 6, 4, -17, -2, -35, -1, -32, 25, -5, -3, -18, -22, -6, 4, -8, 0, 8, -8, -13, 0, -24, 8, -17, -1, -35, 10, -10, -3, 7, -2, -59, -2, 16, -25, 4, 9, 2, -5, -4, -2, 5, 13, 15, -8, -3, -10, -13, -18, -6, 1, 8, 8, 10, 10, -6, -33, 0, -12, 8, 1, -15, -11, 8, 2, -6, 0, -23, 7, -19, 14, 8, 2, 4, -9, -9, 18, 5, -27, -4, -8, 15, -30, 11, -40, -11, 12, 10, -10, -30, 16, 1, 7, 5, -12, 15, -56, 0, -18, -18, 10, -52, 23, -21, 10, 8, 9, 28, -36, -4, 0, 14, -3, 19, -56, 8, 1, -14, 1, -53, 34, -2, -13, 14, 2, -16, -11, -1, -11, 36, -27, 8, -22, -13, -19, -26, 18, 1, 12, 7, -16, -2, -49, 5, -44, -10, -20, 12, -35, -12, -36, -7, -34, 16, -53, 5, -18, 7, -16, 2, -5, -28, 5, -29, -4, 16, -44, -39, 2, 22, 11, -36, -5, 23, 0, 24, 8, 4, -11, -7, -20, -23, -3, -17, -6, 10, -2, 11, -37, -18, -15, 1, 4, 12, 18, 0, 0, -14, 12, 7, -14, 5, -23, -31, 5, -4, 9, 4, 9, 15, 5, -42, 0, -27, -16, 4, 15, 35, 3, -5, 2, 11, -2, -36, 2, -9, 0, -10, 0, -53, 0, 18, -26, -31, -1, 5, -16, 3, -16, 0, 13, 8, -34, -3, 16, 4, 21, -47, -13, 4, 6, -7, 1, -13, -25, -5, -2, -25, 6, 10, -31, -6, 0, -7, -8, 15, 3, -2, 4, -15, 2, -13, -8, -15, -2, 1, -6, -4, -5, -11, 16, -35, 18, -33, 2, 5, -13, 8, -24, 0, 6, -8, 7, -2, 7, -13, 3, 8, -10, -3, -6, 2, 9, -14, -14, 0, -16, -13, -6, -1, 10, -18, 9, -13, 1, -15, 20, -1, 7, -26, 13, 0, -10, -2, 10, 2, -2, -17, -2, -16, 17, -3, -27, 7, 0, 3, -17, -13, -7, -12, 1, -19, -8, -4, -26, -19, -13, -13, -12, -3, -19, -12, 15, -1, 5, -40, -1, 1, 17, -2, -7, 1, 1, -26, 25, -2, -10, 2, -11, 3, -11, 25, -15, 3, -4, -10, -14, -51, 4, 1, 5, -5, 0, 10, -30, 3, -8, -1, -8, -27, 27, -6, 4, -3, 4, 7, -41, -6, -13, 0, -2, 6, -37, -17, -3, -15, 9, -46, 13, -8, -4, 20, 21, -26, -8, 12, -1, 20, 1, 10, -13, -13, -21, -10, 5, -10, 6, 6, -13, 15, -16, 4, -54, 16, -28, 22, -7, -14, -14, 2, -29, 16, -22, 5, -2, 14, -24, 3, -13, -20, -1, 13, -12, 15, -23, -32, -3, 3, 16, -42, -19, 17, -9, 20, 2, 7, -16, -2, -21, -42, -7, -13, 6, 11, 4, 20, -4, -15, -28, -14, 0, 2, 13, -5, 15, -9, 13, 4, -20, -2, -13, -43, -2, -13, 0, 5, 0, 21, 7, -26, -13, -12, -22, 1, -11, 27, -21, -18, 8, 11, 0, -34, 9, 0, -2, -8, 0, -47, -11, 10, -13, -12, -14, 16, 0, -12, -11, -21, 15, 12, -33, 1, 9, 6, 5, -24, -7, -12, 8, 3, 3, -12, -24, 3, 3, -19, 11, 22, -21, 3, 10, -15, 3, 9, 3, 4, 12, -33, 10, -15, 13, 15, -24, 18, -3, -16, 2, -19, 10, -21, 18, -33, 3, -9, 0, -7, -32, -5, 7, -8, 5, -6, -6, -43, 27, 10, 7, 3, -15, 19, 11, -5, 20, 18, 6, -7, 6, -25, -13, -3, 0, -34, 12, -25, 1, -8, 1, -23, 3, -13, -12, -12, -11, -12, 1, -27, -17, -12, -3, 8, -28, 1, 0, 0, -20, 4, 0, -22, 0, -2, 2, 7, -27, -20, 1, 15, 18, 8, -4, -11, 3, -5, -7, -40, 12, 5, 10, -4, 2, -6, -11, -18, 32, 11, -10, -5, 6, -6, -29, 3, -30, 0, -6, -4, 8, -34, 3, -21, 9, 7, 7, 20, -63, -12, -1, 10, 8, -41, -4, -11, 0, 0, 11, 11, -40, -12, -7, 9, 6, 12, -11, -15, -15, 0, -21, -35, 10, 5, -22, 14, -5, -33, -10, -15, 8, 27, -29, 1, -31, -12, 2, -25, 10, -10, 4, 0, -9, -2, -31, 16, -28, 2, -17, 1, -22, -5, -3, -17, -16, 5, -46, 0, -31, 10, -29, 1, -9, -23, -2, 7, -27, 22, -20, -20, 0, 21, 10, -9, -9, 17, -16, 27, 21, 21, -32, -4, -4, -23, 0, -15, -5, 0, 1, 12, -18, -8, -25, -6, 6, 22, 13, 8, 11, -19, 1, 21, -32, 5, -33, -30, 4, -6, 13, -7, 12, 16, 8, -34, 4, -15, 0, -4, -25, 35, 5, -19, 11, 13, 3, -9, -7, -5, 12, 0, 13, -42, -6, 12, -8, -19, -11, 19, 5, 4, -4, 0, 18, -6, 0, 3, 12, 1, 18, -21, 0, -3, 15, -1, 14, -8, -23, 4, 14, -1, 9, 23, -27, -10, 0, -2, -11, 3, -10, 7, 3, -12, -2, -8, -6, -1, -23, 12, 13, 5, -10, -13, -7, -45, -3, -34, -8, 2, 1, 17, 0, -1, 0, -14, 7, -14, 11, -21, 7, -7, -7, -19, -11, 6, 0, -12, -5, 15, -1, -24, 4, -3, 1, -25, 7, -29, -4, -8, 2, 5, 21, -51, 4, -8, -3, 14, 12, 1, -19, 9, -6, 5, -9, 10, -15, 3, -9, -7, -11, 6, -12, -11, 6, -7, 19, -1, -35, 3, -7, 0, 7, -5, -4, -5, -14, 10, 0, -20, -11, 2, 17, 7, -11, 7, 4, -11, 18, -2, -16, -12, 1, 16, -4, 12, -45, 6, 14, -16, -15, -40, -5, -11, -2, 1, -10, 14, -36, -4, -4, 7, 0, -23, 11, 14, 15, -4, 1, 0, -38, -12, -9, -4, 16, -2, -40, -16, 3, 0, 11, 2, 28, 2, -16, 2, 17, -30, 12, -8, 7, 18, -26, -5, -11, 6, -9, -25, 3, -7, -1, 4, -22, 11, -24, 4, -40, -2, -22, 0, -19, -9, -10, 5, -38, 8, -19, 0, -22, 19, -23, -5, -21, -18, 24, 11, -20, 9, -26, -20, 0, 20, 9, -11, -7, 15, -14, 15, 12, 25, -12, 3, 0, -30, 17, -18, 6, -2, 7, 13, -35, -17, -37, -2, 0, 16, 0, -11, 11, -29, 6, 1, -22, 8, -23, -29, 0, -1, 10, 6, -18, -1, -10, -9, -10, -11, -2, 1, -20, 26, -2, -21, -2, 12, 7, -24, 4, 6, 10, 3, 11, -41, -9, 5, -56, -28, -6, 17, -6, 0, -18, -10, 17, 23, -12, -16, -3, -11, 0, -29, -17, 0, 19, -2, 11, 0, -7, 4, 10, -3, 6, 26, -33, 8, -3, -11, -1, -9, 13, 1, 11, -17, 7, -9, 10, 0, -8, 13, 1, -9, 1, -16, -1, -40, 8, -52, 18, -10, -14, -2, 1, 23, -13, -4, 16, -4, 1, -33, 25, -7, -9, -15, -17, -3, 4, -15, 7, 0, -5, -10, 0, 0, -7, -18, 8, -22, 2, -13, 19, 5, 5, -36, -1, -15, 8, 0, 0, 2, 0, -3, 6, -1, 10, 15, -20, -6, 1, -9, -8, 0, -22, -7, 4, -17, 10, 12, -22, -1, 2, 10, 18, -5, -5, 6, -4, 5, 5, -38, -1, 0, 9, -1, -9, -8, -20, -13, 13, 1, -3, -3, 10, 16, -16, 24, -29, -3, 0, -22, -11, -23, -1, -10, -8, 13, 15, 29, -35, 2, -17, -16, 3, -41, 1, -20, 13, -6, -3, 15, -47, -20, -14, 0, 4, 0, -43, 2, -8, -18, 3, -31, 24, -22, -3, 6, 0, -41, -10, -5, -4, 17, -13, -1, -17, -10, -11, -14, 4, -6, 0, -12, -17, -4, -25, 7, -37, 5, -17, 12, -9, -8, 2, -10, -17, 3, -4, 3, -20, -7, -29, -7, -6, -44, 23, -17, -26, 10, -22, -42, 0, 1, 7, -34, -33, 9, -16, 20, 15, 14, -20, 7, -25, -34, 13, -13, 8, 8, 8, 9, -18, -15, -28, -11, 2, -5, 18, -4, 17, -3, 7, 0, -19, 14, -33, -25, 15, -6, 19, -6, -4, 21, 1, -12, -5, -21, -6, -11, 3, 28, -23, -36, 2, 27, -1, -17, 5, -10, 5, -2, 4, -33, -14, 6, -39, -30, 4, 11, 0, 0, -19, -16, 8, 5, -19, -18, -3, -13, -7, -36, -23, 5, 4, -3, 5, -7, -16, -13, 7, -15, -16, 34, -17, 15, 5, -9, -4, 3, 16, -4, 10, -17, -3, -2, 15, 7, -8, -3, -12, 5, -2, -9, 0, -37, 1, -47, 10, 5, -7, 18, -12, 17, 2, -16, 8, 0, -10, -44, 17, 15, -5, 4, -14, 10, 6, -29, 1, -5, -5, -24, -4, -12, 0, -16, -6, -19, -10, -7, -4, 8, 7, -48, 8, -1, 11, 0, 2, -12, -14, -17, -3, -10, 8, 28, -32, -2, 13, -11, -19, -1, -11, -5, 9, 4, 20, -15, -10, 5, -9, 7, 3, -5, -3, -15, 11, 0, 1, -23, -2, -17, -2, 7, -12, 2, -24, -21, 10, 8, -17, -32, -14, -6, -22, 21, -33, -14, -15, -15, -7, -35, 4, -5, 12, -5, -13, 7, -47, 1, 11, -9, -9, -41, -1, -11, -8, 0, -13, 11, -53, -9, -16, 1, 13, 20, -41, 8, 0, -6, 6, -46, 23, -1, 5, 22, 20, -13, -25, 3, -1, 21, -6, 0, -29, -14, 0, 0, 25, 6, 22, 18, -4, 12, -20, -2, -43, -9, -12, 13, -13, 5, -24, -13, -29, 20, -25, 13, -31, 4, -17, 2, -1, -44, 1, -16, -12 }\n",
      "\n",
      "#defineIP1_BIAS { 10, 9, -3, -7, 5, -19 }\n",
      "\n"
     ]
    }
   ],
   "source": [
    "conv2d_1 = model.layers[0].get_weights()\n",
    "conv2d_2 = model.layers[2].get_weights()\n",
    "conv2d_3 = model.layers[4].get_weights()\n",
    "dense_1 = model.layers[8].get_weights()\n",
    "\n",
    "print_define('CONV1_WT',  flatten_filter_q7(conv2d_1[0], 3, 1, 4).tolist())\n",
    "print_define('CONV1_BIAS',  bias_q7(conv2d_1[1]).tolist())\n",
    "\n",
    "print_define('CONV2_WT',  flatten_filter_q7(conv2d_2[0], 3, 4, 8).tolist())\n",
    "print_define('CONV2_BIAS',  bias_q7(conv2d_2[1]).tolist())\n",
    "\n",
    "print_define('CONV3_WT',  flatten_filter_q7(conv2d_3[0], 3, 8, 16).tolist())\n",
    "print_define('CONV3_BIAS',  bias_q7(conv2d_3[1]).tolist())\n",
    "\n",
    "print_define('IP1_WT',  flatten_dense_q7(dense_1[0]).tolist())\n",
    "print_define('IP1_BIAS',  bias_q7(dense_1[1]).tolist())"
   ]
  },
  {
   "cell_type": "code",
   "execution_count": null,
   "metadata": {},
   "outputs": [],
   "source": []
  }
 ],
 "metadata": {
  "kernelspec": {
   "display_name": "Python 3",
   "language": "python",
   "name": "python3"
  },
  "language_info": {
   "codemirror_mode": {
    "name": "ipython",
    "version": 3
   },
   "file_extension": ".py",
   "mimetype": "text/x-python",
   "name": "python",
   "nbconvert_exporter": "python",
   "pygments_lexer": "ipython3",
   "version": "3.5.3"
  }
 },
 "nbformat": 4,
 "nbformat_minor": 2
}
